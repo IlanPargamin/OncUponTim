{
 "cells": [
  {
   "cell_type": "code",
   "execution_count": 17,
   "id": "c871371a",
   "metadata": {},
   "outputs": [],
   "source": [
    "import pandas as pd\n",
    "\n",
    "df = pd.read_csv('story_data.csv')"
   ]
  },
  {
   "cell_type": "code",
   "execution_count": 18,
   "id": "d29681c2",
   "metadata": {},
   "outputs": [
    {
     "data": {
      "text/plain": [
       "(18248, 12)"
      ]
     },
     "execution_count": 18,
     "metadata": {},
     "output_type": "execute_result"
    }
   ],
   "source": [
    "df.shape"
   ]
  },
  {
   "cell_type": "markdown",
   "id": "1ddfa1d3",
   "metadata": {},
   "source": [
    "We have 18,248 stories (samples) and 12 features"
   ]
  },
  {
   "cell_type": "code",
   "execution_count": 19,
   "id": "69701a0f",
   "metadata": {},
   "outputs": [
    {
     "name": "stdout",
     "output_type": "stream",
     "text": [
      "<class 'pandas.core.frame.DataFrame'>\n",
      "RangeIndex: 18248 entries, 0 to 18247\n",
      "Data columns (total 12 columns):\n",
      " #   Column          Non-Null Count  Dtype \n",
      "---  ------          --------------  ----- \n",
      " 0   url             18248 non-null  object\n",
      " 1   story_id        18248 non-null  object\n",
      " 2   soup            18248 non-null  object\n",
      " 3   title           18248 non-null  object\n",
      " 4   author          18246 non-null  object\n",
      " 5   contest_num     18248 non-null  object\n",
      " 6   won_contest     236 non-null    object\n",
      " 7   categories      18248 non-null  object\n",
      " 8   num_likes       18248 non-null  int64 \n",
      " 9   num_comments    18248 non-null  int64 \n",
      " 10  story_html      18248 non-null  object\n",
      " 11  date_published  18248 non-null  object\n",
      "dtypes: int64(2), object(10)\n",
      "memory usage: 1.7+ MB\n"
     ]
    }
   ],
   "source": [
    "df.info()"
   ]
  },
  {
   "cell_type": "markdown",
   "id": "d1a8951f",
   "metadata": {},
   "source": [
    "'won_contest' only has a value if the story was a winner or shortlisted"
   ]
  },
  {
   "cell_type": "code",
   "execution_count": 20,
   "id": "5734d965",
   "metadata": {},
   "outputs": [
    {
     "data": {
      "text/html": [
       "<div>\n",
       "<style scoped>\n",
       "    .dataframe tbody tr th:only-of-type {\n",
       "        vertical-align: middle;\n",
       "    }\n",
       "\n",
       "    .dataframe tbody tr th {\n",
       "        vertical-align: top;\n",
       "    }\n",
       "\n",
       "    .dataframe thead th {\n",
       "        text-align: right;\n",
       "    }\n",
       "</style>\n",
       "<table border=\"1\" class=\"dataframe\">\n",
       "  <thead>\n",
       "    <tr style=\"text-align: right;\">\n",
       "      <th></th>\n",
       "      <th>url</th>\n",
       "      <th>story_id</th>\n",
       "      <th>soup</th>\n",
       "      <th>title</th>\n",
       "      <th>author</th>\n",
       "      <th>contest_num</th>\n",
       "      <th>won_contest</th>\n",
       "      <th>categories</th>\n",
       "      <th>num_likes</th>\n",
       "      <th>num_comments</th>\n",
       "      <th>story_html</th>\n",
       "      <th>date_published</th>\n",
       "    </tr>\n",
       "  </thead>\n",
       "  <tbody>\n",
       "    <tr>\n",
       "      <th>0</th>\n",
       "      <td>https://blog.reedsy.com/short-story/n1pl7n/</td>\n",
       "      <td>n1pl7n</td>\n",
       "      <td>&lt;!DOCTYPE html&gt;\\n\\n&lt;html&gt;\\n&lt;head&gt;\\n&lt;meta chars...</td>\n",
       "      <td>11:59</td>\n",
       "      <td>Krystal Pepper</td>\n",
       "      <td>['Contest', '#137']</td>\n",
       "      <td>NaN</td>\n",
       "      <td>['Crime', 'Fiction', 'Thriller']</td>\n",
       "      <td>17</td>\n",
       "      <td>3</td>\n",
       "      <td>&lt;article class=\"font-alt submission-content sp...</td>\n",
       "      <td>March 11, 2022 17:27</td>\n",
       "    </tr>\n",
       "    <tr>\n",
       "      <th>1</th>\n",
       "      <td>https://blog.reedsy.com/short-story/yv1ahb/</td>\n",
       "      <td>yv1ahb</td>\n",
       "      <td>&lt;!DOCTYPE html&gt;\\n\\n&lt;html&gt;\\n&lt;head&gt;\\n&lt;meta chars...</td>\n",
       "      <td>Want Ads</td>\n",
       "      <td>Nina Wishnat</td>\n",
       "      <td>['Contest', '#30']</td>\n",
       "      <td>NaN</td>\n",
       "      <td>['Contemporary', 'Fiction']</td>\n",
       "      <td>1</td>\n",
       "      <td>0</td>\n",
       "      <td>&lt;article class=\"font-alt submission-content sp...</td>\n",
       "      <td>February 28, 2020 15:27</td>\n",
       "    </tr>\n",
       "    <tr>\n",
       "      <th>2</th>\n",
       "      <td>https://blog.reedsy.com/short-story/kv1cr7/</td>\n",
       "      <td>kv1cr7</td>\n",
       "      <td>&lt;!DOCTYPE html&gt;\\n\\n&lt;html&gt;\\n&lt;head&gt;\\n&lt;meta chars...</td>\n",
       "      <td>To be wrong because of sincerity...</td>\n",
       "      <td>Lis Lovén</td>\n",
       "      <td>['Contest', '#102']</td>\n",
       "      <td>NaN</td>\n",
       "      <td>['Black', 'Contemporary', 'Fiction']</td>\n",
       "      <td>12</td>\n",
       "      <td>0</td>\n",
       "      <td>&lt;article class=\"font-alt submission-content sp...</td>\n",
       "      <td>July 10, 2021 14:21</td>\n",
       "    </tr>\n",
       "    <tr>\n",
       "      <th>3</th>\n",
       "      <td>https://blog.reedsy.com/short-story/v2nqtq/</td>\n",
       "      <td>v2nqtq</td>\n",
       "      <td>&lt;!DOCTYPE html&gt;\\n\\n&lt;html&gt;\\n&lt;head&gt;\\n&lt;meta chars...</td>\n",
       "      <td>The Shiva, 1955</td>\n",
       "      <td>Tammy Kl</td>\n",
       "      <td>['Contest', '#100']</td>\n",
       "      <td>NaN</td>\n",
       "      <td>['American', 'Coming', 'of', 'Age', 'Fiction']</td>\n",
       "      <td>6</td>\n",
       "      <td>0</td>\n",
       "      <td>&lt;article class=\"font-alt submission-content sp...</td>\n",
       "      <td>July 01, 2021 18:13</td>\n",
       "    </tr>\n",
       "    <tr>\n",
       "      <th>4</th>\n",
       "      <td>https://blog.reedsy.com/short-story/nptt18/</td>\n",
       "      <td>nptt18</td>\n",
       "      <td>&lt;!DOCTYPE html&gt;\\n\\n&lt;html&gt;\\n&lt;head&gt;\\n&lt;meta chars...</td>\n",
       "      <td>The Monster of Greentree</td>\n",
       "      <td>Best Christopher</td>\n",
       "      <td>['Contest', '#102']</td>\n",
       "      <td>NaN</td>\n",
       "      <td>['Coming', 'of', 'Age', 'Adventure', 'Fiction']</td>\n",
       "      <td>6</td>\n",
       "      <td>0</td>\n",
       "      <td>&lt;article class=\"font-alt submission-content sp...</td>\n",
       "      <td>July 17, 2021 01:23</td>\n",
       "    </tr>\n",
       "  </tbody>\n",
       "</table>\n",
       "</div>"
      ],
      "text/plain": [
       "                                           url story_id  \\\n",
       "0  https://blog.reedsy.com/short-story/n1pl7n/   n1pl7n   \n",
       "1  https://blog.reedsy.com/short-story/yv1ahb/   yv1ahb   \n",
       "2  https://blog.reedsy.com/short-story/kv1cr7/   kv1cr7   \n",
       "3  https://blog.reedsy.com/short-story/v2nqtq/   v2nqtq   \n",
       "4  https://blog.reedsy.com/short-story/nptt18/   nptt18   \n",
       "\n",
       "                                                soup  \\\n",
       "0  <!DOCTYPE html>\\n\\n<html>\\n<head>\\n<meta chars...   \n",
       "1  <!DOCTYPE html>\\n\\n<html>\\n<head>\\n<meta chars...   \n",
       "2  <!DOCTYPE html>\\n\\n<html>\\n<head>\\n<meta chars...   \n",
       "3  <!DOCTYPE html>\\n\\n<html>\\n<head>\\n<meta chars...   \n",
       "4  <!DOCTYPE html>\\n\\n<html>\\n<head>\\n<meta chars...   \n",
       "\n",
       "                                 title            author          contest_num  \\\n",
       "0                                11:59    Krystal Pepper  ['Contest', '#137']   \n",
       "1                             Want Ads      Nina Wishnat   ['Contest', '#30']   \n",
       "2  To be wrong because of sincerity...         Lis Lovén  ['Contest', '#102']   \n",
       "3                      The Shiva, 1955          Tammy Kl  ['Contest', '#100']   \n",
       "4            The Monster of Greentree   Best Christopher  ['Contest', '#102']   \n",
       "\n",
       "  won_contest                                       categories  num_likes  \\\n",
       "0         NaN                 ['Crime', 'Fiction', 'Thriller']         17   \n",
       "1         NaN                      ['Contemporary', 'Fiction']          1   \n",
       "2         NaN             ['Black', 'Contemporary', 'Fiction']         12   \n",
       "3         NaN   ['American', 'Coming', 'of', 'Age', 'Fiction']          6   \n",
       "4         NaN  ['Coming', 'of', 'Age', 'Adventure', 'Fiction']          6   \n",
       "\n",
       "   num_comments                                         story_html  \\\n",
       "0             3  <article class=\"font-alt submission-content sp...   \n",
       "1             0  <article class=\"font-alt submission-content sp...   \n",
       "2             0  <article class=\"font-alt submission-content sp...   \n",
       "3             0  <article class=\"font-alt submission-content sp...   \n",
       "4             0  <article class=\"font-alt submission-content sp...   \n",
       "\n",
       "            date_published  \n",
       "0     March 11, 2022 17:27  \n",
       "1  February 28, 2020 15:27  \n",
       "2      July 10, 2021 14:21  \n",
       "3      July 01, 2021 18:13  \n",
       "4      July 17, 2021 01:23  "
      ]
     },
     "execution_count": 20,
     "metadata": {},
     "output_type": "execute_result"
    }
   ],
   "source": [
    "df.head()"
   ]
  },
  {
   "cell_type": "code",
   "execution_count": 21,
   "id": "f358aaea",
   "metadata": {},
   "outputs": [
    {
     "data": {
      "text/html": [
       "<div>\n",
       "<style scoped>\n",
       "    .dataframe tbody tr th:only-of-type {\n",
       "        vertical-align: middle;\n",
       "    }\n",
       "\n",
       "    .dataframe tbody tr th {\n",
       "        vertical-align: top;\n",
       "    }\n",
       "\n",
       "    .dataframe thead th {\n",
       "        text-align: right;\n",
       "    }\n",
       "</style>\n",
       "<table border=\"1\" class=\"dataframe\">\n",
       "  <thead>\n",
       "    <tr style=\"text-align: right;\">\n",
       "      <th></th>\n",
       "      <th>num_likes</th>\n",
       "      <th>num_comments</th>\n",
       "    </tr>\n",
       "  </thead>\n",
       "  <tbody>\n",
       "    <tr>\n",
       "      <th>count</th>\n",
       "      <td>18248.000000</td>\n",
       "      <td>18248.000000</td>\n",
       "    </tr>\n",
       "    <tr>\n",
       "      <th>mean</th>\n",
       "      <td>14.138700</td>\n",
       "      <td>4.295758</td>\n",
       "    </tr>\n",
       "    <tr>\n",
       "      <th>std</th>\n",
       "      <td>18.742977</td>\n",
       "      <td>17.676338</td>\n",
       "    </tr>\n",
       "    <tr>\n",
       "      <th>min</th>\n",
       "      <td>0.000000</td>\n",
       "      <td>0.000000</td>\n",
       "    </tr>\n",
       "    <tr>\n",
       "      <th>25%</th>\n",
       "      <td>7.000000</td>\n",
       "      <td>0.000000</td>\n",
       "    </tr>\n",
       "    <tr>\n",
       "      <th>50%</th>\n",
       "      <td>10.000000</td>\n",
       "      <td>1.000000</td>\n",
       "    </tr>\n",
       "    <tr>\n",
       "      <th>75%</th>\n",
       "      <td>14.000000</td>\n",
       "      <td>3.000000</td>\n",
       "    </tr>\n",
       "    <tr>\n",
       "      <th>max</th>\n",
       "      <td>503.000000</td>\n",
       "      <td>629.000000</td>\n",
       "    </tr>\n",
       "  </tbody>\n",
       "</table>\n",
       "</div>"
      ],
      "text/plain": [
       "          num_likes  num_comments\n",
       "count  18248.000000  18248.000000\n",
       "mean      14.138700      4.295758\n",
       "std       18.742977     17.676338\n",
       "min        0.000000      0.000000\n",
       "25%        7.000000      0.000000\n",
       "50%       10.000000      1.000000\n",
       "75%       14.000000      3.000000\n",
       "max      503.000000    629.000000"
      ]
     },
     "execution_count": 21,
     "metadata": {},
     "output_type": "execute_result"
    }
   ],
   "source": [
    "df.describe()"
   ]
  },
  {
   "cell_type": "markdown",
   "id": "1a652b36",
   "metadata": {},
   "source": [
    "two numeric features: 'num_likes' is target feature for regression problem"
   ]
  },
  {
   "cell_type": "markdown",
   "id": "5644d462",
   "metadata": {},
   "source": [
    "features to extract:\n",
    "tokenize words\n",
    "word related features\n"
   ]
  },
  {
   "cell_type": "markdown",
   "id": "cd5ba995",
   "metadata": {},
   "source": [
    "extracting some word-related features:"
   ]
  },
  {
   "cell_type": "code",
   "execution_count": 22,
   "id": "5b365ffa",
   "metadata": {},
   "outputs": [],
   "source": [
    "from bs4 import BeautifulSoup\n",
    "from nltk.tokenize import wordpunct_tokenize, sent_tokenize, word_tokenize\n",
    "import numpy as np\n",
    "\n",
    "import nltk\n",
    "nltk.download('punkt')"
   ]
  },
  {
   "cell_type": "code",
   "execution_count": 88,
   "id": "77d24ec7",
   "metadata": {},
   "outputs": [],
   "source": [
    "def separate_words_and_punct(arr_tokenized_text):\n",
    "    words = []\n",
    "    punctuation = []\n",
    "    for i, value in enumerate(arr_tokenized_text):\n",
    "        if len(value) == 1 and not value.isalpha():\n",
    "            punctuation.append(i)\n",
    "        else:\n",
    "            words.append(i)\n",
    "    return arr_tokenized_text[words], arr_tokenized_text[punctuation]"
   ]
  },
  {
   "cell_type": "code",
   "execution_count": 89,
   "id": "4e51466e",
   "metadata": {},
   "outputs": [],
   "source": [
    "def extract_word_feats(story_text):\n",
    "    story_word_toks = word_tokenize(story_text)\n",
    "    words, punctuation = separate_words_and_punct(np.array(story_word_toks, dtype='object'))\n",
    "    num_words = len(words)\n",
    "    unique_words = set(words)\n",
    "    num_unique_words = len(unique_words)\n",
    "    unique_words_percent = num_unique_words / num_words\n",
    "    return story_word_toks, words, punctuation, num_words, unique_words, num_unique_words, unique_words_percent"
   ]
  },
  {
   "cell_type": "code",
   "execution_count": 90,
   "id": "11bc52e2",
   "metadata": {},
   "outputs": [],
   "source": [
    "def extract_sentence_feats(story_text):\n",
    "    story_sent = sent_tokenize(story_text)\n",
    "    num_sent = len(story_sent)\n",
    "    words_per_sent = np.array([(len(word_tokenize(t)), word_tokenize(t)) for t in story_sent], dtype='object')\n",
    "    sent_lengths = words_per_sent[:, 0].astype(int)\n",
    "    sent_words = words_per_sent[:, 1]\n",
    "    sent_avg_length = sent_lengths.mean()\n",
    "    return story_sent, num_sent, sent_lengths, sent_avg_length, sent_words"
   ]
  },
  {
   "cell_type": "code",
   "execution_count": 91,
   "id": "2f0ea071",
   "metadata": {},
   "outputs": [],
   "source": [
    "def tokenize_story(row):\n",
    "    # extracting story from html\n",
    "    html = row['story_html']\n",
    "    soup = BeautifulSoup(html, \"html.parser\")\n",
    "    story = soup.get_text()\n",
    "    # tokenizing by sentence\n",
    "    story_sent, num_sent, sent_lengths, sent_avg_length, sent_words = extract_sentence_feats(story)\n",
    "    # tokenizing by word\n",
    "    story_word_toks, words, punctuation, num_words, unique_words, num_unique_words, unique_words_percent = extract_word_feats(story)\n",
    "        \n",
    "    feat_dict = {'story_sent': story_sent, 'num_sent': num_sent, 'sent_lengths': sent_lengths, \n",
    "                 'sent_avg_length': sent_avg_length, 'sent_words': sent_words, 'story_word_toks': story_word_toks, \n",
    "                 'words': words, 'punctuation': punctuation, 'num_words': num_words, 'unique_words': unique_words, \n",
    "                 'num_unique_words': num_unique_words, 'unique_words_percent': unique_words_percent}\n",
    "    return pd.DataFrame.from_dict(feat_dict, orient='index').transpose()"
   ]
  },
  {
   "cell_type": "code",
   "execution_count": 92,
   "id": "9c73dbf6",
   "metadata": {},
   "outputs": [
    {
     "ename": "TypeError",
     "evalue": "object of type 'int' has no len()",
     "output_type": "error",
     "traceback": [
      "\u001b[1;31m---------------------------------------------------------------------------\u001b[0m",
      "\u001b[1;31mTypeError\u001b[0m                                 Traceback (most recent call last)",
      "\u001b[1;32m~\\AppData\\Local\\Temp/ipykernel_20032/1433327482.py\u001b[0m in \u001b[0;36m<module>\u001b[1;34m\u001b[0m\n\u001b[0;32m      1\u001b[0m \u001b[0mnew_feats\u001b[0m \u001b[1;33m=\u001b[0m \u001b[1;33m(\u001b[0m\u001b[1;34m'num_sent'\u001b[0m\u001b[1;33m,\u001b[0m \u001b[1;34m'words'\u001b[0m\u001b[1;33m,\u001b[0m \u001b[1;34m'num_words'\u001b[0m\u001b[1;33m,\u001b[0m \u001b[1;34m'unique_words'\u001b[0m\u001b[1;33m,\u001b[0m \u001b[1;34m'num_unique_words'\u001b[0m\u001b[1;33m,\u001b[0m \u001b[1;34m'unique_words_percent'\u001b[0m\u001b[1;33m,\u001b[0m\u001b[1;34m'punctuation'\u001b[0m\u001b[1;33m)\u001b[0m\u001b[1;33m\u001b[0m\u001b[1;33m\u001b[0m\u001b[0m\n\u001b[1;32m----> 2\u001b[1;33m \u001b[0mresults\u001b[0m \u001b[1;33m=\u001b[0m \u001b[0mdf\u001b[0m\u001b[1;33m.\u001b[0m\u001b[0mapply\u001b[0m\u001b[1;33m(\u001b[0m\u001b[0mtokenize_story\u001b[0m\u001b[1;33m,\u001b[0m \u001b[0maxis\u001b[0m\u001b[1;33m=\u001b[0m\u001b[1;36m1\u001b[0m\u001b[1;33m)\u001b[0m\u001b[1;33m\u001b[0m\u001b[1;33m\u001b[0m\u001b[0m\n\u001b[0m",
      "\u001b[1;32m~\\anaconda3\\lib\\site-packages\\pandas\\core\\frame.py\u001b[0m in \u001b[0;36mapply\u001b[1;34m(self, func, axis, raw, result_type, args, **kwargs)\u001b[0m\n\u001b[0;32m   8837\u001b[0m             \u001b[0mkwargs\u001b[0m\u001b[1;33m=\u001b[0m\u001b[0mkwargs\u001b[0m\u001b[1;33m,\u001b[0m\u001b[1;33m\u001b[0m\u001b[1;33m\u001b[0m\u001b[0m\n\u001b[0;32m   8838\u001b[0m         )\n\u001b[1;32m-> 8839\u001b[1;33m         \u001b[1;32mreturn\u001b[0m \u001b[0mop\u001b[0m\u001b[1;33m.\u001b[0m\u001b[0mapply\u001b[0m\u001b[1;33m(\u001b[0m\u001b[1;33m)\u001b[0m\u001b[1;33m.\u001b[0m\u001b[0m__finalize__\u001b[0m\u001b[1;33m(\u001b[0m\u001b[0mself\u001b[0m\u001b[1;33m,\u001b[0m \u001b[0mmethod\u001b[0m\u001b[1;33m=\u001b[0m\u001b[1;34m\"apply\"\u001b[0m\u001b[1;33m)\u001b[0m\u001b[1;33m\u001b[0m\u001b[1;33m\u001b[0m\u001b[0m\n\u001b[0m\u001b[0;32m   8840\u001b[0m \u001b[1;33m\u001b[0m\u001b[0m\n\u001b[0;32m   8841\u001b[0m     def applymap(\n",
      "\u001b[1;32m~\\anaconda3\\lib\\site-packages\\pandas\\core\\apply.py\u001b[0m in \u001b[0;36mapply\u001b[1;34m(self)\u001b[0m\n\u001b[0;32m    725\u001b[0m             \u001b[1;32mreturn\u001b[0m \u001b[0mself\u001b[0m\u001b[1;33m.\u001b[0m\u001b[0mapply_raw\u001b[0m\u001b[1;33m(\u001b[0m\u001b[1;33m)\u001b[0m\u001b[1;33m\u001b[0m\u001b[1;33m\u001b[0m\u001b[0m\n\u001b[0;32m    726\u001b[0m \u001b[1;33m\u001b[0m\u001b[0m\n\u001b[1;32m--> 727\u001b[1;33m         \u001b[1;32mreturn\u001b[0m \u001b[0mself\u001b[0m\u001b[1;33m.\u001b[0m\u001b[0mapply_standard\u001b[0m\u001b[1;33m(\u001b[0m\u001b[1;33m)\u001b[0m\u001b[1;33m\u001b[0m\u001b[1;33m\u001b[0m\u001b[0m\n\u001b[0m\u001b[0;32m    728\u001b[0m \u001b[1;33m\u001b[0m\u001b[0m\n\u001b[0;32m    729\u001b[0m     \u001b[1;32mdef\u001b[0m \u001b[0magg\u001b[0m\u001b[1;33m(\u001b[0m\u001b[0mself\u001b[0m\u001b[1;33m)\u001b[0m\u001b[1;33m:\u001b[0m\u001b[1;33m\u001b[0m\u001b[1;33m\u001b[0m\u001b[0m\n",
      "\u001b[1;32m~\\anaconda3\\lib\\site-packages\\pandas\\core\\apply.py\u001b[0m in \u001b[0;36mapply_standard\u001b[1;34m(self)\u001b[0m\n\u001b[0;32m    849\u001b[0m \u001b[1;33m\u001b[0m\u001b[0m\n\u001b[0;32m    850\u001b[0m     \u001b[1;32mdef\u001b[0m \u001b[0mapply_standard\u001b[0m\u001b[1;33m(\u001b[0m\u001b[0mself\u001b[0m\u001b[1;33m)\u001b[0m\u001b[1;33m:\u001b[0m\u001b[1;33m\u001b[0m\u001b[1;33m\u001b[0m\u001b[0m\n\u001b[1;32m--> 851\u001b[1;33m         \u001b[0mresults\u001b[0m\u001b[1;33m,\u001b[0m \u001b[0mres_index\u001b[0m \u001b[1;33m=\u001b[0m \u001b[0mself\u001b[0m\u001b[1;33m.\u001b[0m\u001b[0mapply_series_generator\u001b[0m\u001b[1;33m(\u001b[0m\u001b[1;33m)\u001b[0m\u001b[1;33m\u001b[0m\u001b[1;33m\u001b[0m\u001b[0m\n\u001b[0m\u001b[0;32m    852\u001b[0m \u001b[1;33m\u001b[0m\u001b[0m\n\u001b[0;32m    853\u001b[0m         \u001b[1;31m# wrap results\u001b[0m\u001b[1;33m\u001b[0m\u001b[1;33m\u001b[0m\u001b[0m\n",
      "\u001b[1;32m~\\anaconda3\\lib\\site-packages\\pandas\\core\\apply.py\u001b[0m in \u001b[0;36mapply_series_generator\u001b[1;34m(self)\u001b[0m\n\u001b[0;32m    865\u001b[0m             \u001b[1;32mfor\u001b[0m \u001b[0mi\u001b[0m\u001b[1;33m,\u001b[0m \u001b[0mv\u001b[0m \u001b[1;32min\u001b[0m \u001b[0menumerate\u001b[0m\u001b[1;33m(\u001b[0m\u001b[0mseries_gen\u001b[0m\u001b[1;33m)\u001b[0m\u001b[1;33m:\u001b[0m\u001b[1;33m\u001b[0m\u001b[1;33m\u001b[0m\u001b[0m\n\u001b[0;32m    866\u001b[0m                 \u001b[1;31m# ignore SettingWithCopy here in case the user mutates\u001b[0m\u001b[1;33m\u001b[0m\u001b[1;33m\u001b[0m\u001b[0m\n\u001b[1;32m--> 867\u001b[1;33m                 \u001b[0mresults\u001b[0m\u001b[1;33m[\u001b[0m\u001b[0mi\u001b[0m\u001b[1;33m]\u001b[0m \u001b[1;33m=\u001b[0m \u001b[0mself\u001b[0m\u001b[1;33m.\u001b[0m\u001b[0mf\u001b[0m\u001b[1;33m(\u001b[0m\u001b[0mv\u001b[0m\u001b[1;33m)\u001b[0m\u001b[1;33m\u001b[0m\u001b[1;33m\u001b[0m\u001b[0m\n\u001b[0m\u001b[0;32m    868\u001b[0m                 \u001b[1;32mif\u001b[0m \u001b[0misinstance\u001b[0m\u001b[1;33m(\u001b[0m\u001b[0mresults\u001b[0m\u001b[1;33m[\u001b[0m\u001b[0mi\u001b[0m\u001b[1;33m]\u001b[0m\u001b[1;33m,\u001b[0m \u001b[0mABCSeries\u001b[0m\u001b[1;33m)\u001b[0m\u001b[1;33m:\u001b[0m\u001b[1;33m\u001b[0m\u001b[1;33m\u001b[0m\u001b[0m\n\u001b[0;32m    869\u001b[0m                     \u001b[1;31m# If we have a view on v, we need to make a copy because\u001b[0m\u001b[1;33m\u001b[0m\u001b[1;33m\u001b[0m\u001b[0m\n",
      "\u001b[1;32m~\\AppData\\Local\\Temp/ipykernel_20032/359860086.py\u001b[0m in \u001b[0;36mtokenize_story\u001b[1;34m(row)\u001b[0m\n\u001b[0;32m     13\u001b[0m                  \u001b[1;34m'words'\u001b[0m\u001b[1;33m:\u001b[0m \u001b[0mwords\u001b[0m\u001b[1;33m,\u001b[0m \u001b[1;34m'punctuation'\u001b[0m\u001b[1;33m:\u001b[0m \u001b[0mpunctuation\u001b[0m\u001b[1;33m,\u001b[0m \u001b[1;34m'num_words'\u001b[0m\u001b[1;33m:\u001b[0m \u001b[0mnum_words\u001b[0m\u001b[1;33m,\u001b[0m \u001b[1;34m'unique_words'\u001b[0m\u001b[1;33m:\u001b[0m \u001b[0munique_words\u001b[0m\u001b[1;33m,\u001b[0m\u001b[1;33m\u001b[0m\u001b[1;33m\u001b[0m\u001b[0m\n\u001b[0;32m     14\u001b[0m                  'num_unique_words': num_unique_words, 'unique_words_percent': unique_words_percent}\n\u001b[1;32m---> 15\u001b[1;33m     \u001b[1;32mreturn\u001b[0m \u001b[0mpd\u001b[0m\u001b[1;33m.\u001b[0m\u001b[0mDataFrame\u001b[0m\u001b[1;33m.\u001b[0m\u001b[0mfrom_dict\u001b[0m\u001b[1;33m(\u001b[0m\u001b[0mfeat_dict\u001b[0m\u001b[1;33m,\u001b[0m \u001b[0morient\u001b[0m\u001b[1;33m=\u001b[0m\u001b[1;34m'index'\u001b[0m\u001b[1;33m)\u001b[0m\u001b[1;33m.\u001b[0m\u001b[0mtranspose\u001b[0m\u001b[1;33m(\u001b[0m\u001b[1;33m)\u001b[0m\u001b[1;33m\u001b[0m\u001b[1;33m\u001b[0m\u001b[0m\n\u001b[0m",
      "\u001b[1;32m~\\anaconda3\\lib\\site-packages\\pandas\\core\\frame.py\u001b[0m in \u001b[0;36mfrom_dict\u001b[1;34m(cls, data, orient, dtype, columns)\u001b[0m\n\u001b[0;32m   1675\u001b[0m \u001b[1;33m\u001b[0m\u001b[0m\n\u001b[0;32m   1676\u001b[0m         \u001b[1;32mif\u001b[0m \u001b[0morient\u001b[0m \u001b[1;33m!=\u001b[0m \u001b[1;34m\"tight\"\u001b[0m\u001b[1;33m:\u001b[0m\u001b[1;33m\u001b[0m\u001b[1;33m\u001b[0m\u001b[0m\n\u001b[1;32m-> 1677\u001b[1;33m             \u001b[1;32mreturn\u001b[0m \u001b[0mcls\u001b[0m\u001b[1;33m(\u001b[0m\u001b[0mdata\u001b[0m\u001b[1;33m,\u001b[0m \u001b[0mindex\u001b[0m\u001b[1;33m=\u001b[0m\u001b[0mindex\u001b[0m\u001b[1;33m,\u001b[0m \u001b[0mcolumns\u001b[0m\u001b[1;33m=\u001b[0m\u001b[0mcolumns\u001b[0m\u001b[1;33m,\u001b[0m \u001b[0mdtype\u001b[0m\u001b[1;33m=\u001b[0m\u001b[0mdtype\u001b[0m\u001b[1;33m)\u001b[0m\u001b[1;33m\u001b[0m\u001b[1;33m\u001b[0m\u001b[0m\n\u001b[0m\u001b[0;32m   1678\u001b[0m         \u001b[1;32melse\u001b[0m\u001b[1;33m:\u001b[0m\u001b[1;33m\u001b[0m\u001b[1;33m\u001b[0m\u001b[0m\n\u001b[0;32m   1679\u001b[0m             \u001b[0mrealdata\u001b[0m \u001b[1;33m=\u001b[0m \u001b[0mdata\u001b[0m\u001b[1;33m[\u001b[0m\u001b[1;34m\"data\"\u001b[0m\u001b[1;33m]\u001b[0m\u001b[1;33m\u001b[0m\u001b[1;33m\u001b[0m\u001b[0m\n",
      "\u001b[1;32m~\\anaconda3\\lib\\site-packages\\pandas\\core\\frame.py\u001b[0m in \u001b[0;36m__init__\u001b[1;34m(self, data, index, columns, dtype, copy)\u001b[0m\n\u001b[0;32m    719\u001b[0m                         \u001b[1;31m# ndarray], Index, Series], Sequence[Any]]\"\u001b[0m\u001b[1;33m\u001b[0m\u001b[1;33m\u001b[0m\u001b[0m\n\u001b[0;32m    720\u001b[0m                         \u001b[0mcolumns\u001b[0m \u001b[1;33m=\u001b[0m \u001b[0mensure_index\u001b[0m\u001b[1;33m(\u001b[0m\u001b[0mcolumns\u001b[0m\u001b[1;33m)\u001b[0m  \u001b[1;31m# type: ignore[arg-type]\u001b[0m\u001b[1;33m\u001b[0m\u001b[1;33m\u001b[0m\u001b[0m\n\u001b[1;32m--> 721\u001b[1;33m                     arrays, columns, index = nested_data_to_arrays(\n\u001b[0m\u001b[0;32m    722\u001b[0m                         \u001b[1;31m# error: Argument 3 to \"nested_data_to_arrays\" has incompatible\u001b[0m\u001b[1;33m\u001b[0m\u001b[1;33m\u001b[0m\u001b[0m\n\u001b[0;32m    723\u001b[0m                         \u001b[1;31m# type \"Optional[Collection[Any]]\"; expected \"Optional[Index]\"\u001b[0m\u001b[1;33m\u001b[0m\u001b[1;33m\u001b[0m\u001b[0m\n",
      "\u001b[1;32m~\\anaconda3\\lib\\site-packages\\pandas\\core\\internals\\construction.py\u001b[0m in \u001b[0;36mnested_data_to_arrays\u001b[1;34m(data, columns, index, dtype)\u001b[0m\n\u001b[0;32m    517\u001b[0m         \u001b[0mcolumns\u001b[0m \u001b[1;33m=\u001b[0m \u001b[0mensure_index\u001b[0m\u001b[1;33m(\u001b[0m\u001b[0mdata\u001b[0m\u001b[1;33m[\u001b[0m\u001b[1;36m0\u001b[0m\u001b[1;33m]\u001b[0m\u001b[1;33m.\u001b[0m\u001b[0m_fields\u001b[0m\u001b[1;33m)\u001b[0m\u001b[1;33m\u001b[0m\u001b[1;33m\u001b[0m\u001b[0m\n\u001b[0;32m    518\u001b[0m \u001b[1;33m\u001b[0m\u001b[0m\n\u001b[1;32m--> 519\u001b[1;33m     \u001b[0marrays\u001b[0m\u001b[1;33m,\u001b[0m \u001b[0mcolumns\u001b[0m \u001b[1;33m=\u001b[0m \u001b[0mto_arrays\u001b[0m\u001b[1;33m(\u001b[0m\u001b[0mdata\u001b[0m\u001b[1;33m,\u001b[0m \u001b[0mcolumns\u001b[0m\u001b[1;33m,\u001b[0m \u001b[0mdtype\u001b[0m\u001b[1;33m=\u001b[0m\u001b[0mdtype\u001b[0m\u001b[1;33m)\u001b[0m\u001b[1;33m\u001b[0m\u001b[1;33m\u001b[0m\u001b[0m\n\u001b[0m\u001b[0;32m    520\u001b[0m     \u001b[0mcolumns\u001b[0m \u001b[1;33m=\u001b[0m \u001b[0mensure_index\u001b[0m\u001b[1;33m(\u001b[0m\u001b[0mcolumns\u001b[0m\u001b[1;33m)\u001b[0m\u001b[1;33m\u001b[0m\u001b[1;33m\u001b[0m\u001b[0m\n\u001b[0;32m    521\u001b[0m \u001b[1;33m\u001b[0m\u001b[0m\n",
      "\u001b[1;32m~\\anaconda3\\lib\\site-packages\\pandas\\core\\internals\\construction.py\u001b[0m in \u001b[0;36mto_arrays\u001b[1;34m(data, columns, dtype)\u001b[0m\n\u001b[0;32m    871\u001b[0m \u001b[1;33m\u001b[0m\u001b[0m\n\u001b[0;32m    872\u001b[0m     \u001b[1;32mif\u001b[0m \u001b[0misinstance\u001b[0m\u001b[1;33m(\u001b[0m\u001b[0mdata\u001b[0m\u001b[1;33m[\u001b[0m\u001b[1;36m0\u001b[0m\u001b[1;33m]\u001b[0m\u001b[1;33m,\u001b[0m \u001b[1;33m(\u001b[0m\u001b[0mlist\u001b[0m\u001b[1;33m,\u001b[0m \u001b[0mtuple\u001b[0m\u001b[1;33m)\u001b[0m\u001b[1;33m)\u001b[0m\u001b[1;33m:\u001b[0m\u001b[1;33m\u001b[0m\u001b[1;33m\u001b[0m\u001b[0m\n\u001b[1;32m--> 873\u001b[1;33m         \u001b[0marr\u001b[0m \u001b[1;33m=\u001b[0m \u001b[0m_list_to_arrays\u001b[0m\u001b[1;33m(\u001b[0m\u001b[0mdata\u001b[0m\u001b[1;33m)\u001b[0m\u001b[1;33m\u001b[0m\u001b[1;33m\u001b[0m\u001b[0m\n\u001b[0m\u001b[0;32m    874\u001b[0m     \u001b[1;32melif\u001b[0m \u001b[0misinstance\u001b[0m\u001b[1;33m(\u001b[0m\u001b[0mdata\u001b[0m\u001b[1;33m[\u001b[0m\u001b[1;36m0\u001b[0m\u001b[1;33m]\u001b[0m\u001b[1;33m,\u001b[0m \u001b[0mabc\u001b[0m\u001b[1;33m.\u001b[0m\u001b[0mMapping\u001b[0m\u001b[1;33m)\u001b[0m\u001b[1;33m:\u001b[0m\u001b[1;33m\u001b[0m\u001b[1;33m\u001b[0m\u001b[0m\n\u001b[0;32m    875\u001b[0m         \u001b[0marr\u001b[0m\u001b[1;33m,\u001b[0m \u001b[0mcolumns\u001b[0m \u001b[1;33m=\u001b[0m \u001b[0m_list_of_dict_to_arrays\u001b[0m\u001b[1;33m(\u001b[0m\u001b[0mdata\u001b[0m\u001b[1;33m,\u001b[0m \u001b[0mcolumns\u001b[0m\u001b[1;33m)\u001b[0m\u001b[1;33m\u001b[0m\u001b[1;33m\u001b[0m\u001b[0m\n",
      "\u001b[1;32m~\\anaconda3\\lib\\site-packages\\pandas\\core\\internals\\construction.py\u001b[0m in \u001b[0;36m_list_to_arrays\u001b[1;34m(data)\u001b[0m\n\u001b[0;32m    892\u001b[0m     \u001b[1;32melse\u001b[0m\u001b[1;33m:\u001b[0m\u001b[1;33m\u001b[0m\u001b[1;33m\u001b[0m\u001b[0m\n\u001b[0;32m    893\u001b[0m         \u001b[1;31m# list of lists\u001b[0m\u001b[1;33m\u001b[0m\u001b[1;33m\u001b[0m\u001b[0m\n\u001b[1;32m--> 894\u001b[1;33m         \u001b[0mcontent\u001b[0m \u001b[1;33m=\u001b[0m \u001b[0mlib\u001b[0m\u001b[1;33m.\u001b[0m\u001b[0mto_object_array\u001b[0m\u001b[1;33m(\u001b[0m\u001b[0mdata\u001b[0m\u001b[1;33m)\u001b[0m\u001b[1;33m\u001b[0m\u001b[1;33m\u001b[0m\u001b[0m\n\u001b[0m\u001b[0;32m    895\u001b[0m     \u001b[1;32mreturn\u001b[0m \u001b[0mcontent\u001b[0m\u001b[1;33m\u001b[0m\u001b[1;33m\u001b[0m\u001b[0m\n\u001b[0;32m    896\u001b[0m \u001b[1;33m\u001b[0m\u001b[0m\n",
      "\u001b[1;32m~\\anaconda3\\lib\\site-packages\\pandas\\_libs\\lib.pyx\u001b[0m in \u001b[0;36mpandas._libs.lib.to_object_array\u001b[1;34m()\u001b[0m\n",
      "\u001b[1;31mTypeError\u001b[0m: object of type 'int' has no len()"
     ]
    }
   ],
   "source": [
    "new_feats = ('num_sent', 'words', 'num_words', 'unique_words', 'num_unique_words', 'unique_words_percent','punctuation')\n",
    "results = df.apply(tokenize_story, axis=1)"
   ]
  },
  {
   "cell_type": "code",
   "execution_count": null,
   "id": "763ad67c",
   "metadata": {},
   "outputs": [],
   "source": [
    "feats_df = pd.DataFrame()\n",
    "for sub in results:\n",
    "    feats_df = pd.concat([feats_df, sub])\n",
    "feats_df = feats_df.reset_index()\n",
    "feats_df.drop('index', axis=1, inplace=True)\n",
    "feats_df.head()"
   ]
  },
  {
   "cell_type": "code",
   "execution_count": null,
   "id": "d2c7d988",
   "metadata": {},
   "outputs": [],
   "source": [
    "feats_df.shape, df.shape"
   ]
  },
  {
   "cell_type": "markdown",
   "id": "26f9ee39",
   "metadata": {},
   "source": [
    "7 new features extracted"
   ]
  },
  {
   "cell_type": "code",
   "execution_count": null,
   "id": "dad310b6",
   "metadata": {},
   "outputs": [],
   "source": [
    "new_df = pd.concat([df, feats_df], axis=1)\n",
    "new_df"
   ]
  },
  {
   "cell_type": "markdown",
   "id": "f11059ac",
   "metadata": {},
   "source": [
    "extracting and encoding categories"
   ]
  },
  {
   "cell_type": "code",
   "execution_count": null,
   "id": "dfc803de",
   "metadata": {},
   "outputs": [],
   "source": [
    "def find_num_cats(row):\n",
    "    return len(row['categories'].split())"
   ]
  },
  {
   "cell_type": "code",
   "execution_count": null,
   "id": "5bed3bfa",
   "metadata": {},
   "outputs": [],
   "source": [
    "new_df['num_cats'] = new_df.apply(find_num_cats, axis=1)"
   ]
  },
  {
   "cell_type": "code",
   "execution_count": null,
   "id": "0b585c1f",
   "metadata": {},
   "outputs": [],
   "source": [
    "new_df.head()"
   ]
  },
  {
   "cell_type": "code",
   "execution_count": null,
   "id": "dc20ae3e",
   "metadata": {},
   "outputs": [],
   "source": [
    "new_df.shape"
   ]
  },
  {
   "cell_type": "code",
   "execution_count": null,
   "id": "7cde9fa3",
   "metadata": {},
   "outputs": [],
   "source": [
    "import re\n",
    "cats = set()\n",
    "for sample, num in new_df[['categories', 'num_cats']].values:\n",
    "    samp_cats = re.findall('[A-Z][a-z]+', sample)\n",
    "    cats.update(samp_cats)\n",
    "print(f'we have {len(cats)} categories')"
   ]
  },
  {
   "cell_type": "code",
   "execution_count": null,
   "id": "d7257375",
   "metadata": {},
   "outputs": [],
   "source": [
    "for cat in cats:\n",
    "    new_df[f'cat_{cat}'] = (new_df['categories']).astype('category').str.contains(cat).astype(int)\n",
    "new_df.shape"
   ]
  },
  {
   "cell_type": "code",
   "execution_count": null,
   "id": "acabd26e",
   "metadata": {},
   "outputs": [],
   "source": [
    "new_df['cat_Fiction'].sum() == len(new_df)"
   ]
  },
  {
   "cell_type": "code",
   "execution_count": null,
   "id": "6c01d1c8",
   "metadata": {},
   "outputs": [],
   "source": [
    "new_df.drop('categories', axis=1, inplace=True)\n",
    "new_df.shape"
   ]
  },
  {
   "cell_type": "markdown",
   "id": "949a9b8c",
   "metadata": {},
   "source": [
    "encoding date as datetime"
   ]
  },
  {
   "cell_type": "code",
   "execution_count": null,
   "id": "c29272dc",
   "metadata": {},
   "outputs": [],
   "source": [
    "new_df['date_published'] = pd.to_datetime(new_df['date_published'])\n",
    "new_df['date_published']"
   ]
  },
  {
   "cell_type": "code",
   "execution_count": null,
   "id": "f252b507",
   "metadata": {},
   "outputs": [],
   "source": [
    "new_df.shape"
   ]
  },
  {
   "cell_type": "code",
   "execution_count": null,
   "id": "4d97429e",
   "metadata": {},
   "outputs": [],
   "source": [
    "new_df.info()"
   ]
  },
  {
   "cell_type": "code",
   "execution_count": null,
   "id": "f2a9b825",
   "metadata": {},
   "outputs": [],
   "source": [
    "new_df.describe()"
   ]
  },
  {
   "cell_type": "code",
   "execution_count": null,
   "id": "da4bd7b3",
   "metadata": {},
   "outputs": [],
   "source": [
    "new_df.to_csv('story_data_new_feats.csv', index=False)"
   ]
  },
  {
   "cell_type": "code",
   "execution_count": null,
   "id": "b45fafd2",
   "metadata": {},
   "outputs": [],
   "source": [
    "other = pd.read_csv('story_data_new_feats.csv')"
   ]
  },
  {
   "cell_type": "code",
   "execution_count": null,
   "id": "381876c8",
   "metadata": {},
   "outputs": [],
   "source": [
    "other.shape"
   ]
  },
  {
   "cell_type": "code",
   "execution_count": null,
   "id": "a7b1073d",
   "metadata": {},
   "outputs": [],
   "source": []
  }
 ],
 "metadata": {
  "kernelspec": {
   "display_name": "Python 3 (ipykernel)",
   "language": "python",
   "name": "python3"
  },
  "language_info": {
   "codemirror_mode": {
    "name": "ipython",
    "version": 3
   },
   "file_extension": ".py",
   "mimetype": "text/x-python",
   "name": "python",
   "nbconvert_exporter": "python",
   "pygments_lexer": "ipython3",
   "version": "3.9.7"
  },
  "latex_envs": {
   "LaTeX_envs_menu_present": true,
   "autoclose": false,
   "autocomplete": true,
   "bibliofile": "biblio.bib",
   "cite_by": "apalike",
   "current_citInitial": 1,
   "eqLabelWithNumbers": true,
   "eqNumInitial": 1,
   "hotkeys": {
    "equation": "Ctrl-E",
    "itemize": "Ctrl-I"
   },
   "labels_anchors": false,
   "latex_user_defs": false,
   "report_style_numbering": false,
   "user_envs_cfg": false
  }
 },
 "nbformat": 4,
 "nbformat_minor": 5
}
