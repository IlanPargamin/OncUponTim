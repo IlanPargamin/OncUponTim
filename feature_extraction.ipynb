{
  "cells": [
    {
      "cell_type": "markdown",
      "id": "DxNj-7w7GlTk",
      "metadata": {
        "id": "DxNj-7w7GlTk"
      },
      "source": [
        "# Import file and useful modules"
      ]
    },
    {
      "cell_type": "code",
      "execution_count": 1,
      "id": "AkBZYCfO-rGJ",
      "metadata": {
        "colab": {
          "base_uri": "https://localhost:8080/"
        },
        "id": "AkBZYCfO-rGJ",
        "outputId": "93361d24-3cfa-4f3e-9123-8034148e1aab"
      },
      "outputs": [
        {
          "output_type": "stream",
          "name": "stdout",
          "text": [
            "Mounted at /content/drive\n"
          ]
        }
      ],
      "source": [
        "from google.colab import drive\n",
        "drive.mount('/content/drive')"
      ]
    },
    {
      "cell_type": "code",
      "execution_count": null,
      "id": "_ryTL2hDEI0x",
      "metadata": {
        "colab": {
          "base_uri": "https://localhost:8080/"
        },
        "id": "_ryTL2hDEI0x",
        "outputId": "04b41281-5509-4e3c-8531-fdfb59da7129"
      },
      "outputs": [
        {
          "name": "stdout",
          "output_type": "stream",
          "text": [
            "Looking in indexes: https://pypi.org/simple, https://us-python.pkg.dev/colab-wheels/public/simple/\n",
            "Requirement already satisfied: swifter in /usr/local/lib/python3.7/dist-packages (1.1.3)\n",
            "Requirement already satisfied: dask[dataframe]>=2.10.0 in /usr/local/lib/python3.7/dist-packages (from swifter) (2.12.0)\n",
            "Requirement already satisfied: bleach>=3.1.1 in /usr/local/lib/python3.7/dist-packages (from swifter) (5.0.0)\n",
            "Requirement already satisfied: cloudpickle>=0.2.2 in /usr/local/lib/python3.7/dist-packages (from swifter) (1.3.0)\n",
            "Requirement already satisfied: ipywidgets>=7.0.0 in /usr/local/lib/python3.7/dist-packages (from swifter) (7.7.0)\n",
            "Requirement already satisfied: pandas>=1.0.0 in /usr/local/lib/python3.7/dist-packages (from swifter) (1.3.5)\n",
            "Requirement already satisfied: psutil>=5.6.6 in /usr/local/lib/python3.7/dist-packages (from swifter) (5.9.1)\n",
            "Requirement already satisfied: parso>0.4.0 in /usr/local/lib/python3.7/dist-packages (from swifter) (0.8.3)\n",
            "Requirement already satisfied: tqdm>=4.33.0 in /usr/local/lib/python3.7/dist-packages (from swifter) (4.64.0)\n",
            "Requirement already satisfied: six>=1.9.0 in /usr/local/lib/python3.7/dist-packages (from bleach>=3.1.1->swifter) (1.15.0)\n",
            "Requirement already satisfied: webencodings in /usr/local/lib/python3.7/dist-packages (from bleach>=3.1.1->swifter) (0.5.1)\n",
            "Requirement already satisfied: partd>=0.3.10 in /usr/local/lib/python3.7/dist-packages (from dask[dataframe]>=2.10.0->swifter) (1.2.0)\n",
            "Requirement already satisfied: numpy>=1.13.0 in /usr/local/lib/python3.7/dist-packages (from dask[dataframe]>=2.10.0->swifter) (1.21.6)\n",
            "Requirement already satisfied: fsspec>=0.6.0 in /usr/local/lib/python3.7/dist-packages (from dask[dataframe]>=2.10.0->swifter) (2022.5.0)\n",
            "Requirement already satisfied: toolz>=0.7.3 in /usr/local/lib/python3.7/dist-packages (from dask[dataframe]>=2.10.0->swifter) (0.11.2)\n",
            "Requirement already satisfied: widgetsnbextension~=3.6.0 in /usr/local/lib/python3.7/dist-packages (from ipywidgets>=7.0.0->swifter) (3.6.0)\n",
            "Requirement already satisfied: nbformat>=4.2.0 in /usr/local/lib/python3.7/dist-packages (from ipywidgets>=7.0.0->swifter) (5.4.0)\n",
            "Requirement already satisfied: ipython>=4.0.0 in /usr/local/lib/python3.7/dist-packages (from ipywidgets>=7.0.0->swifter) (5.5.0)\n",
            "Requirement already satisfied: traitlets>=4.3.1 in /usr/local/lib/python3.7/dist-packages (from ipywidgets>=7.0.0->swifter) (5.1.1)\n",
            "Requirement already satisfied: jupyterlab-widgets>=1.0.0 in /usr/local/lib/python3.7/dist-packages (from ipywidgets>=7.0.0->swifter) (1.1.0)\n",
            "Requirement already satisfied: ipykernel>=4.5.1 in /usr/local/lib/python3.7/dist-packages (from ipywidgets>=7.0.0->swifter) (4.10.1)\n",
            "Requirement already satisfied: ipython-genutils~=0.2.0 in /usr/local/lib/python3.7/dist-packages (from ipywidgets>=7.0.0->swifter) (0.2.0)\n",
            "Requirement already satisfied: jupyter-client in /usr/local/lib/python3.7/dist-packages (from ipykernel>=4.5.1->ipywidgets>=7.0.0->swifter) (5.3.5)\n",
            "Requirement already satisfied: tornado>=4.0 in /usr/local/lib/python3.7/dist-packages (from ipykernel>=4.5.1->ipywidgets>=7.0.0->swifter) (5.1.1)\n",
            "Requirement already satisfied: decorator in /usr/local/lib/python3.7/dist-packages (from ipython>=4.0.0->ipywidgets>=7.0.0->swifter) (4.4.2)\n",
            "Requirement already satisfied: simplegeneric>0.8 in /usr/local/lib/python3.7/dist-packages (from ipython>=4.0.0->ipywidgets>=7.0.0->swifter) (0.8.1)\n",
            "Requirement already satisfied: setuptools>=18.5 in /usr/local/lib/python3.7/dist-packages (from ipython>=4.0.0->ipywidgets>=7.0.0->swifter) (57.4.0)\n",
            "Requirement already satisfied: pexpect in /usr/local/lib/python3.7/dist-packages (from ipython>=4.0.0->ipywidgets>=7.0.0->swifter) (4.8.0)\n",
            "Requirement already satisfied: pickleshare in /usr/local/lib/python3.7/dist-packages (from ipython>=4.0.0->ipywidgets>=7.0.0->swifter) (0.7.5)\n",
            "Requirement already satisfied: pygments in /usr/local/lib/python3.7/dist-packages (from ipython>=4.0.0->ipywidgets>=7.0.0->swifter) (2.6.1)\n",
            "Requirement already satisfied: prompt-toolkit<2.0.0,>=1.0.4 in /usr/local/lib/python3.7/dist-packages (from ipython>=4.0.0->ipywidgets>=7.0.0->swifter) (1.0.18)\n",
            "Requirement already satisfied: fastjsonschema in /usr/local/lib/python3.7/dist-packages (from nbformat>=4.2.0->ipywidgets>=7.0.0->swifter) (2.15.3)\n",
            "Requirement already satisfied: jupyter-core in /usr/local/lib/python3.7/dist-packages (from nbformat>=4.2.0->ipywidgets>=7.0.0->swifter) (4.10.0)\n",
            "Requirement already satisfied: jsonschema>=2.6 in /usr/local/lib/python3.7/dist-packages (from nbformat>=4.2.0->ipywidgets>=7.0.0->swifter) (4.3.3)\n",
            "Requirement already satisfied: importlib-metadata in /usr/local/lib/python3.7/dist-packages (from jsonschema>=2.6->nbformat>=4.2.0->ipywidgets>=7.0.0->swifter) (4.11.4)\n",
            "Requirement already satisfied: typing-extensions in /usr/local/lib/python3.7/dist-packages (from jsonschema>=2.6->nbformat>=4.2.0->ipywidgets>=7.0.0->swifter) (4.2.0)\n",
            "Requirement already satisfied: pyrsistent!=0.17.0,!=0.17.1,!=0.17.2,>=0.14.0 in /usr/local/lib/python3.7/dist-packages (from jsonschema>=2.6->nbformat>=4.2.0->ipywidgets>=7.0.0->swifter) (0.18.1)\n",
            "Requirement already satisfied: attrs>=17.4.0 in /usr/local/lib/python3.7/dist-packages (from jsonschema>=2.6->nbformat>=4.2.0->ipywidgets>=7.0.0->swifter) (21.4.0)\n",
            "Requirement already satisfied: importlib-resources>=1.4.0 in /usr/local/lib/python3.7/dist-packages (from jsonschema>=2.6->nbformat>=4.2.0->ipywidgets>=7.0.0->swifter) (5.7.1)\n",
            "Requirement already satisfied: zipp>=3.1.0 in /usr/local/lib/python3.7/dist-packages (from importlib-resources>=1.4.0->jsonschema>=2.6->nbformat>=4.2.0->ipywidgets>=7.0.0->swifter) (3.8.0)\n",
            "Requirement already satisfied: python-dateutil>=2.7.3 in /usr/local/lib/python3.7/dist-packages (from pandas>=1.0.0->swifter) (2.8.2)\n",
            "Requirement already satisfied: pytz>=2017.3 in /usr/local/lib/python3.7/dist-packages (from pandas>=1.0.0->swifter) (2022.1)\n",
            "Requirement already satisfied: locket in /usr/local/lib/python3.7/dist-packages (from partd>=0.3.10->dask[dataframe]>=2.10.0->swifter) (1.0.0)\n",
            "Requirement already satisfied: wcwidth in /usr/local/lib/python3.7/dist-packages (from prompt-toolkit<2.0.0,>=1.0.4->ipython>=4.0.0->ipywidgets>=7.0.0->swifter) (0.2.5)\n",
            "Requirement already satisfied: notebook>=4.4.1 in /usr/local/lib/python3.7/dist-packages (from widgetsnbextension~=3.6.0->ipywidgets>=7.0.0->swifter) (5.3.1)\n",
            "Requirement already satisfied: jinja2 in /usr/local/lib/python3.7/dist-packages (from notebook>=4.4.1->widgetsnbextension~=3.6.0->ipywidgets>=7.0.0->swifter) (2.11.3)\n",
            "Requirement already satisfied: terminado>=0.8.1 in /usr/local/lib/python3.7/dist-packages (from notebook>=4.4.1->widgetsnbextension~=3.6.0->ipywidgets>=7.0.0->swifter) (0.13.3)\n",
            "Requirement already satisfied: nbconvert in /usr/local/lib/python3.7/dist-packages (from notebook>=4.4.1->widgetsnbextension~=3.6.0->ipywidgets>=7.0.0->swifter) (5.6.1)\n",
            "Requirement already satisfied: Send2Trash in /usr/local/lib/python3.7/dist-packages (from notebook>=4.4.1->widgetsnbextension~=3.6.0->ipywidgets>=7.0.0->swifter) (1.8.0)\n",
            "Requirement already satisfied: pyzmq>=13 in /usr/local/lib/python3.7/dist-packages (from jupyter-client->ipykernel>=4.5.1->ipywidgets>=7.0.0->swifter) (23.1.0)\n",
            "Requirement already satisfied: ptyprocess in /usr/local/lib/python3.7/dist-packages (from terminado>=0.8.1->notebook>=4.4.1->widgetsnbextension~=3.6.0->ipywidgets>=7.0.0->swifter) (0.7.0)\n",
            "Requirement already satisfied: MarkupSafe>=0.23 in /usr/local/lib/python3.7/dist-packages (from jinja2->notebook>=4.4.1->widgetsnbextension~=3.6.0->ipywidgets>=7.0.0->swifter) (2.0.1)\n",
            "Requirement already satisfied: pandocfilters>=1.4.1 in /usr/local/lib/python3.7/dist-packages (from nbconvert->notebook>=4.4.1->widgetsnbextension~=3.6.0->ipywidgets>=7.0.0->swifter) (1.5.0)\n",
            "Requirement already satisfied: entrypoints>=0.2.2 in /usr/local/lib/python3.7/dist-packages (from nbconvert->notebook>=4.4.1->widgetsnbextension~=3.6.0->ipywidgets>=7.0.0->swifter) (0.4)\n",
            "Requirement already satisfied: defusedxml in /usr/local/lib/python3.7/dist-packages (from nbconvert->notebook>=4.4.1->widgetsnbextension~=3.6.0->ipywidgets>=7.0.0->swifter) (0.7.1)\n",
            "Requirement already satisfied: mistune<2,>=0.8.1 in /usr/local/lib/python3.7/dist-packages (from nbconvert->notebook>=4.4.1->widgetsnbextension~=3.6.0->ipywidgets>=7.0.0->swifter) (0.8.4)\n",
            "Requirement already satisfied: testpath in /usr/local/lib/python3.7/dist-packages (from nbconvert->notebook>=4.4.1->widgetsnbextension~=3.6.0->ipywidgets>=7.0.0->swifter) (0.6.0)\n"
          ]
        }
      ],
      "source": [
        "! pip install swifter\n",
        "import swifter"
      ]
    },
    {
      "cell_type": "code",
      "execution_count": null,
      "id": "c871371a",
      "metadata": {
        "id": "c871371a"
      },
      "outputs": [],
      "source": [
        "import pandas as pd\n",
        "\n",
        "df = pd.read_csv('drive/MyDrive/Final Project/story_data.csv')"
      ]
    },
    {
      "cell_type": "markdown",
      "id": "RSx964Y8GrPM",
      "metadata": {
        "id": "RSx964Y8GrPM"
      },
      "source": [
        "# Light EDA"
      ]
    },
    {
      "cell_type": "code",
      "execution_count": null,
      "id": "d29681c2",
      "metadata": {
        "colab": {
          "base_uri": "https://localhost:8080/"
        },
        "id": "d29681c2",
        "outputId": "829e2a63-8ec7-43e4-ac3e-136a393c7d0e"
      },
      "outputs": [
        {
          "data": {
            "text/plain": [
              "(18248, 12)"
            ]
          },
          "execution_count": 4,
          "metadata": {},
          "output_type": "execute_result"
        }
      ],
      "source": [
        "df.shape"
      ]
    },
    {
      "cell_type": "markdown",
      "id": "1ddfa1d3",
      "metadata": {
        "id": "1ddfa1d3"
      },
      "source": [
        "We have 18,248 stories (samples) and 12 features"
      ]
    },
    {
      "cell_type": "code",
      "execution_count": null,
      "id": "69701a0f",
      "metadata": {
        "colab": {
          "base_uri": "https://localhost:8080/"
        },
        "id": "69701a0f",
        "outputId": "a2670541-9378-4fbc-e4c3-41f990d002c4"
      },
      "outputs": [
        {
          "name": "stdout",
          "output_type": "stream",
          "text": [
            "<class 'pandas.core.frame.DataFrame'>\n",
            "RangeIndex: 18248 entries, 0 to 18247\n",
            "Data columns (total 12 columns):\n",
            " #   Column          Non-Null Count  Dtype \n",
            "---  ------          --------------  ----- \n",
            " 0   url             18248 non-null  object\n",
            " 1   story_id        18248 non-null  object\n",
            " 2   soup            18248 non-null  object\n",
            " 3   title           18248 non-null  object\n",
            " 4   author          18246 non-null  object\n",
            " 5   contest_num     18248 non-null  object\n",
            " 6   won_contest     236 non-null    object\n",
            " 7   categories      18248 non-null  object\n",
            " 8   num_likes       18248 non-null  int64 \n",
            " 9   num_comments    18248 non-null  int64 \n",
            " 10  story_html      18248 non-null  object\n",
            " 11  date_published  18248 non-null  object\n",
            "dtypes: int64(2), object(10)\n",
            "memory usage: 1.7+ MB\n"
          ]
        }
      ],
      "source": [
        "df.info()"
      ]
    },
    {
      "cell_type": "markdown",
      "id": "d1a8951f",
      "metadata": {
        "id": "d1a8951f"
      },
      "source": [
        "'won_contest' only has a value if the story was a winner or shortlisted"
      ]
    },
    {
      "cell_type": "code",
      "execution_count": null,
      "id": "5734d965",
      "metadata": {
        "colab": {
          "base_uri": "https://localhost:8080/"
        },
        "id": "5734d965",
        "outputId": "e3a6f8af-fcdd-451c-a6b5-730a2b497d30"
      },
      "outputs": [
        {
          "data": {
            "text/html": [
              "\n",
              "  <div id=\"df-269a74aa-3ab6-4d1e-91fb-a51156d59266\">\n",
              "    <div class=\"colab-df-container\">\n",
              "      <div>\n",
              "<style scoped>\n",
              "    .dataframe tbody tr th:only-of-type {\n",
              "        vertical-align: middle;\n",
              "    }\n",
              "\n",
              "    .dataframe tbody tr th {\n",
              "        vertical-align: top;\n",
              "    }\n",
              "\n",
              "    .dataframe thead th {\n",
              "        text-align: right;\n",
              "    }\n",
              "</style>\n",
              "<table border=\"1\" class=\"dataframe\">\n",
              "  <thead>\n",
              "    <tr style=\"text-align: right;\">\n",
              "      <th></th>\n",
              "      <th>url</th>\n",
              "      <th>story_id</th>\n",
              "      <th>soup</th>\n",
              "      <th>title</th>\n",
              "      <th>author</th>\n",
              "      <th>contest_num</th>\n",
              "      <th>won_contest</th>\n",
              "      <th>categories</th>\n",
              "      <th>num_likes</th>\n",
              "      <th>num_comments</th>\n",
              "      <th>story_html</th>\n",
              "      <th>date_published</th>\n",
              "    </tr>\n",
              "  </thead>\n",
              "  <tbody>\n",
              "    <tr>\n",
              "      <th>0</th>\n",
              "      <td>https://blog.reedsy.com/short-story/n1pl7n/</td>\n",
              "      <td>n1pl7n</td>\n",
              "      <td>&lt;!DOCTYPE html&gt;\\n\\n&lt;html&gt;\\n&lt;head&gt;\\n&lt;meta chars...</td>\n",
              "      <td>11:59</td>\n",
              "      <td>Krystal Pepper</td>\n",
              "      <td>['Contest', '#137']</td>\n",
              "      <td>NaN</td>\n",
              "      <td>['Crime', 'Fiction', 'Thriller']</td>\n",
              "      <td>17</td>\n",
              "      <td>3</td>\n",
              "      <td>&lt;article class=\"font-alt submission-content sp...</td>\n",
              "      <td>March 11, 2022 17:27</td>\n",
              "    </tr>\n",
              "    <tr>\n",
              "      <th>1</th>\n",
              "      <td>https://blog.reedsy.com/short-story/yv1ahb/</td>\n",
              "      <td>yv1ahb</td>\n",
              "      <td>&lt;!DOCTYPE html&gt;\\n\\n&lt;html&gt;\\n&lt;head&gt;\\n&lt;meta chars...</td>\n",
              "      <td>Want Ads</td>\n",
              "      <td>Nina Wishnat</td>\n",
              "      <td>['Contest', '#30']</td>\n",
              "      <td>NaN</td>\n",
              "      <td>['Contemporary', 'Fiction']</td>\n",
              "      <td>1</td>\n",
              "      <td>0</td>\n",
              "      <td>&lt;article class=\"font-alt submission-content sp...</td>\n",
              "      <td>February 28, 2020 15:27</td>\n",
              "    </tr>\n",
              "    <tr>\n",
              "      <th>2</th>\n",
              "      <td>https://blog.reedsy.com/short-story/kv1cr7/</td>\n",
              "      <td>kv1cr7</td>\n",
              "      <td>&lt;!DOCTYPE html&gt;\\n\\n&lt;html&gt;\\n&lt;head&gt;\\n&lt;meta chars...</td>\n",
              "      <td>To be wrong because of sincerity...</td>\n",
              "      <td>Lis Lovén</td>\n",
              "      <td>['Contest', '#102']</td>\n",
              "      <td>NaN</td>\n",
              "      <td>['Black', 'Contemporary', 'Fiction']</td>\n",
              "      <td>12</td>\n",
              "      <td>0</td>\n",
              "      <td>&lt;article class=\"font-alt submission-content sp...</td>\n",
              "      <td>July 10, 2021 14:21</td>\n",
              "    </tr>\n",
              "    <tr>\n",
              "      <th>3</th>\n",
              "      <td>https://blog.reedsy.com/short-story/v2nqtq/</td>\n",
              "      <td>v2nqtq</td>\n",
              "      <td>&lt;!DOCTYPE html&gt;\\n\\n&lt;html&gt;\\n&lt;head&gt;\\n&lt;meta chars...</td>\n",
              "      <td>The Shiva, 1955</td>\n",
              "      <td>Tammy Kl</td>\n",
              "      <td>['Contest', '#100']</td>\n",
              "      <td>NaN</td>\n",
              "      <td>['American', 'Coming', 'of', 'Age', 'Fiction']</td>\n",
              "      <td>6</td>\n",
              "      <td>0</td>\n",
              "      <td>&lt;article class=\"font-alt submission-content sp...</td>\n",
              "      <td>July 01, 2021 18:13</td>\n",
              "    </tr>\n",
              "    <tr>\n",
              "      <th>4</th>\n",
              "      <td>https://blog.reedsy.com/short-story/nptt18/</td>\n",
              "      <td>nptt18</td>\n",
              "      <td>&lt;!DOCTYPE html&gt;\\n\\n&lt;html&gt;\\n&lt;head&gt;\\n&lt;meta chars...</td>\n",
              "      <td>The Monster of Greentree</td>\n",
              "      <td>Best Christopher</td>\n",
              "      <td>['Contest', '#102']</td>\n",
              "      <td>NaN</td>\n",
              "      <td>['Coming', 'of', 'Age', 'Adventure', 'Fiction']</td>\n",
              "      <td>6</td>\n",
              "      <td>0</td>\n",
              "      <td>&lt;article class=\"font-alt submission-content sp...</td>\n",
              "      <td>July 17, 2021 01:23</td>\n",
              "    </tr>\n",
              "  </tbody>\n",
              "</table>\n",
              "</div>\n",
              "      <button class=\"colab-df-convert\" onclick=\"convertToInteractive('df-269a74aa-3ab6-4d1e-91fb-a51156d59266')\"\n",
              "              title=\"Convert this dataframe to an interactive table.\"\n",
              "              style=\"display:none;\">\n",
              "        \n",
              "  <svg xmlns=\"http://www.w3.org/2000/svg\" height=\"24px\"viewBox=\"0 0 24 24\"\n",
              "       width=\"24px\">\n",
              "    <path d=\"M0 0h24v24H0V0z\" fill=\"none\"/>\n",
              "    <path d=\"M18.56 5.44l.94 2.06.94-2.06 2.06-.94-2.06-.94-.94-2.06-.94 2.06-2.06.94zm-11 1L8.5 8.5l.94-2.06 2.06-.94-2.06-.94L8.5 2.5l-.94 2.06-2.06.94zm10 10l.94 2.06.94-2.06 2.06-.94-2.06-.94-.94-2.06-.94 2.06-2.06.94z\"/><path d=\"M17.41 7.96l-1.37-1.37c-.4-.4-.92-.59-1.43-.59-.52 0-1.04.2-1.43.59L10.3 9.45l-7.72 7.72c-.78.78-.78 2.05 0 2.83L4 21.41c.39.39.9.59 1.41.59.51 0 1.02-.2 1.41-.59l7.78-7.78 2.81-2.81c.8-.78.8-2.07 0-2.86zM5.41 20L4 18.59l7.72-7.72 1.47 1.35L5.41 20z\"/>\n",
              "  </svg>\n",
              "      </button>\n",
              "      \n",
              "  <style>\n",
              "    .colab-df-container {\n",
              "      display:flex;\n",
              "      flex-wrap:wrap;\n",
              "      gap: 12px;\n",
              "    }\n",
              "\n",
              "    .colab-df-convert {\n",
              "      background-color: #E8F0FE;\n",
              "      border: none;\n",
              "      border-radius: 50%;\n",
              "      cursor: pointer;\n",
              "      display: none;\n",
              "      fill: #1967D2;\n",
              "      height: 32px;\n",
              "      padding: 0 0 0 0;\n",
              "      width: 32px;\n",
              "    }\n",
              "\n",
              "    .colab-df-convert:hover {\n",
              "      background-color: #E2EBFA;\n",
              "      box-shadow: 0px 1px 2px rgba(60, 64, 67, 0.3), 0px 1px 3px 1px rgba(60, 64, 67, 0.15);\n",
              "      fill: #174EA6;\n",
              "    }\n",
              "\n",
              "    [theme=dark] .colab-df-convert {\n",
              "      background-color: #3B4455;\n",
              "      fill: #D2E3FC;\n",
              "    }\n",
              "\n",
              "    [theme=dark] .colab-df-convert:hover {\n",
              "      background-color: #434B5C;\n",
              "      box-shadow: 0px 1px 3px 1px rgba(0, 0, 0, 0.15);\n",
              "      filter: drop-shadow(0px 1px 2px rgba(0, 0, 0, 0.3));\n",
              "      fill: #FFFFFF;\n",
              "    }\n",
              "  </style>\n",
              "\n",
              "      <script>\n",
              "        const buttonEl =\n",
              "          document.querySelector('#df-269a74aa-3ab6-4d1e-91fb-a51156d59266 button.colab-df-convert');\n",
              "        buttonEl.style.display =\n",
              "          google.colab.kernel.accessAllowed ? 'block' : 'none';\n",
              "\n",
              "        async function convertToInteractive(key) {\n",
              "          const element = document.querySelector('#df-269a74aa-3ab6-4d1e-91fb-a51156d59266');\n",
              "          const dataTable =\n",
              "            await google.colab.kernel.invokeFunction('convertToInteractive',\n",
              "                                                     [key], {});\n",
              "          if (!dataTable) return;\n",
              "\n",
              "          const docLinkHtml = 'Like what you see? Visit the ' +\n",
              "            '<a target=\"_blank\" href=https://colab.research.google.com/notebooks/data_table.ipynb>data table notebook</a>'\n",
              "            + ' to learn more about interactive tables.';\n",
              "          element.innerHTML = '';\n",
              "          dataTable['output_type'] = 'display_data';\n",
              "          await google.colab.output.renderOutput(dataTable, element);\n",
              "          const docLink = document.createElement('div');\n",
              "          docLink.innerHTML = docLinkHtml;\n",
              "          element.appendChild(docLink);\n",
              "        }\n",
              "      </script>\n",
              "    </div>\n",
              "  </div>\n",
              "  "
            ],
            "text/plain": [
              "                                           url story_id  \\\n",
              "0  https://blog.reedsy.com/short-story/n1pl7n/   n1pl7n   \n",
              "1  https://blog.reedsy.com/short-story/yv1ahb/   yv1ahb   \n",
              "2  https://blog.reedsy.com/short-story/kv1cr7/   kv1cr7   \n",
              "3  https://blog.reedsy.com/short-story/v2nqtq/   v2nqtq   \n",
              "4  https://blog.reedsy.com/short-story/nptt18/   nptt18   \n",
              "\n",
              "                                                soup  \\\n",
              "0  <!DOCTYPE html>\\n\\n<html>\\n<head>\\n<meta chars...   \n",
              "1  <!DOCTYPE html>\\n\\n<html>\\n<head>\\n<meta chars...   \n",
              "2  <!DOCTYPE html>\\n\\n<html>\\n<head>\\n<meta chars...   \n",
              "3  <!DOCTYPE html>\\n\\n<html>\\n<head>\\n<meta chars...   \n",
              "4  <!DOCTYPE html>\\n\\n<html>\\n<head>\\n<meta chars...   \n",
              "\n",
              "                                 title            author          contest_num  \\\n",
              "0                                11:59    Krystal Pepper  ['Contest', '#137']   \n",
              "1                             Want Ads      Nina Wishnat   ['Contest', '#30']   \n",
              "2  To be wrong because of sincerity...         Lis Lovén  ['Contest', '#102']   \n",
              "3                      The Shiva, 1955          Tammy Kl  ['Contest', '#100']   \n",
              "4            The Monster of Greentree   Best Christopher  ['Contest', '#102']   \n",
              "\n",
              "  won_contest                                       categories  num_likes  \\\n",
              "0         NaN                 ['Crime', 'Fiction', 'Thriller']         17   \n",
              "1         NaN                      ['Contemporary', 'Fiction']          1   \n",
              "2         NaN             ['Black', 'Contemporary', 'Fiction']         12   \n",
              "3         NaN   ['American', 'Coming', 'of', 'Age', 'Fiction']          6   \n",
              "4         NaN  ['Coming', 'of', 'Age', 'Adventure', 'Fiction']          6   \n",
              "\n",
              "   num_comments                                         story_html  \\\n",
              "0             3  <article class=\"font-alt submission-content sp...   \n",
              "1             0  <article class=\"font-alt submission-content sp...   \n",
              "2             0  <article class=\"font-alt submission-content sp...   \n",
              "3             0  <article class=\"font-alt submission-content sp...   \n",
              "4             0  <article class=\"font-alt submission-content sp...   \n",
              "\n",
              "            date_published  \n",
              "0     March 11, 2022 17:27  \n",
              "1  February 28, 2020 15:27  \n",
              "2      July 10, 2021 14:21  \n",
              "3      July 01, 2021 18:13  \n",
              "4      July 17, 2021 01:23  "
            ]
          },
          "execution_count": 6,
          "metadata": {},
          "output_type": "execute_result"
        }
      ],
      "source": [
        "df.head()"
      ]
    },
    {
      "cell_type": "code",
      "execution_count": null,
      "id": "f358aaea",
      "metadata": {
        "colab": {
          "base_uri": "https://localhost:8080/"
        },
        "id": "f358aaea",
        "outputId": "b8f46c9b-8267-4e10-ce32-4e0fe5618154"
      },
      "outputs": [
        {
          "data": {
            "text/html": [
              "\n",
              "  <div id=\"df-222fd360-4995-4fc9-b930-06fce6bea9de\">\n",
              "    <div class=\"colab-df-container\">\n",
              "      <div>\n",
              "<style scoped>\n",
              "    .dataframe tbody tr th:only-of-type {\n",
              "        vertical-align: middle;\n",
              "    }\n",
              "\n",
              "    .dataframe tbody tr th {\n",
              "        vertical-align: top;\n",
              "    }\n",
              "\n",
              "    .dataframe thead th {\n",
              "        text-align: right;\n",
              "    }\n",
              "</style>\n",
              "<table border=\"1\" class=\"dataframe\">\n",
              "  <thead>\n",
              "    <tr style=\"text-align: right;\">\n",
              "      <th></th>\n",
              "      <th>num_likes</th>\n",
              "      <th>num_comments</th>\n",
              "    </tr>\n",
              "  </thead>\n",
              "  <tbody>\n",
              "    <tr>\n",
              "      <th>count</th>\n",
              "      <td>18248.000000</td>\n",
              "      <td>18248.000000</td>\n",
              "    </tr>\n",
              "    <tr>\n",
              "      <th>mean</th>\n",
              "      <td>14.138700</td>\n",
              "      <td>4.295758</td>\n",
              "    </tr>\n",
              "    <tr>\n",
              "      <th>std</th>\n",
              "      <td>18.742977</td>\n",
              "      <td>17.676338</td>\n",
              "    </tr>\n",
              "    <tr>\n",
              "      <th>min</th>\n",
              "      <td>0.000000</td>\n",
              "      <td>0.000000</td>\n",
              "    </tr>\n",
              "    <tr>\n",
              "      <th>25%</th>\n",
              "      <td>7.000000</td>\n",
              "      <td>0.000000</td>\n",
              "    </tr>\n",
              "    <tr>\n",
              "      <th>50%</th>\n",
              "      <td>10.000000</td>\n",
              "      <td>1.000000</td>\n",
              "    </tr>\n",
              "    <tr>\n",
              "      <th>75%</th>\n",
              "      <td>14.000000</td>\n",
              "      <td>3.000000</td>\n",
              "    </tr>\n",
              "    <tr>\n",
              "      <th>max</th>\n",
              "      <td>503.000000</td>\n",
              "      <td>629.000000</td>\n",
              "    </tr>\n",
              "  </tbody>\n",
              "</table>\n",
              "</div>\n",
              "      <button class=\"colab-df-convert\" onclick=\"convertToInteractive('df-222fd360-4995-4fc9-b930-06fce6bea9de')\"\n",
              "              title=\"Convert this dataframe to an interactive table.\"\n",
              "              style=\"display:none;\">\n",
              "        \n",
              "  <svg xmlns=\"http://www.w3.org/2000/svg\" height=\"24px\"viewBox=\"0 0 24 24\"\n",
              "       width=\"24px\">\n",
              "    <path d=\"M0 0h24v24H0V0z\" fill=\"none\"/>\n",
              "    <path d=\"M18.56 5.44l.94 2.06.94-2.06 2.06-.94-2.06-.94-.94-2.06-.94 2.06-2.06.94zm-11 1L8.5 8.5l.94-2.06 2.06-.94-2.06-.94L8.5 2.5l-.94 2.06-2.06.94zm10 10l.94 2.06.94-2.06 2.06-.94-2.06-.94-.94-2.06-.94 2.06-2.06.94z\"/><path d=\"M17.41 7.96l-1.37-1.37c-.4-.4-.92-.59-1.43-.59-.52 0-1.04.2-1.43.59L10.3 9.45l-7.72 7.72c-.78.78-.78 2.05 0 2.83L4 21.41c.39.39.9.59 1.41.59.51 0 1.02-.2 1.41-.59l7.78-7.78 2.81-2.81c.8-.78.8-2.07 0-2.86zM5.41 20L4 18.59l7.72-7.72 1.47 1.35L5.41 20z\"/>\n",
              "  </svg>\n",
              "      </button>\n",
              "      \n",
              "  <style>\n",
              "    .colab-df-container {\n",
              "      display:flex;\n",
              "      flex-wrap:wrap;\n",
              "      gap: 12px;\n",
              "    }\n",
              "\n",
              "    .colab-df-convert {\n",
              "      background-color: #E8F0FE;\n",
              "      border: none;\n",
              "      border-radius: 50%;\n",
              "      cursor: pointer;\n",
              "      display: none;\n",
              "      fill: #1967D2;\n",
              "      height: 32px;\n",
              "      padding: 0 0 0 0;\n",
              "      width: 32px;\n",
              "    }\n",
              "\n",
              "    .colab-df-convert:hover {\n",
              "      background-color: #E2EBFA;\n",
              "      box-shadow: 0px 1px 2px rgba(60, 64, 67, 0.3), 0px 1px 3px 1px rgba(60, 64, 67, 0.15);\n",
              "      fill: #174EA6;\n",
              "    }\n",
              "\n",
              "    [theme=dark] .colab-df-convert {\n",
              "      background-color: #3B4455;\n",
              "      fill: #D2E3FC;\n",
              "    }\n",
              "\n",
              "    [theme=dark] .colab-df-convert:hover {\n",
              "      background-color: #434B5C;\n",
              "      box-shadow: 0px 1px 3px 1px rgba(0, 0, 0, 0.15);\n",
              "      filter: drop-shadow(0px 1px 2px rgba(0, 0, 0, 0.3));\n",
              "      fill: #FFFFFF;\n",
              "    }\n",
              "  </style>\n",
              "\n",
              "      <script>\n",
              "        const buttonEl =\n",
              "          document.querySelector('#df-222fd360-4995-4fc9-b930-06fce6bea9de button.colab-df-convert');\n",
              "        buttonEl.style.display =\n",
              "          google.colab.kernel.accessAllowed ? 'block' : 'none';\n",
              "\n",
              "        async function convertToInteractive(key) {\n",
              "          const element = document.querySelector('#df-222fd360-4995-4fc9-b930-06fce6bea9de');\n",
              "          const dataTable =\n",
              "            await google.colab.kernel.invokeFunction('convertToInteractive',\n",
              "                                                     [key], {});\n",
              "          if (!dataTable) return;\n",
              "\n",
              "          const docLinkHtml = 'Like what you see? Visit the ' +\n",
              "            '<a target=\"_blank\" href=https://colab.research.google.com/notebooks/data_table.ipynb>data table notebook</a>'\n",
              "            + ' to learn more about interactive tables.';\n",
              "          element.innerHTML = '';\n",
              "          dataTable['output_type'] = 'display_data';\n",
              "          await google.colab.output.renderOutput(dataTable, element);\n",
              "          const docLink = document.createElement('div');\n",
              "          docLink.innerHTML = docLinkHtml;\n",
              "          element.appendChild(docLink);\n",
              "        }\n",
              "      </script>\n",
              "    </div>\n",
              "  </div>\n",
              "  "
            ],
            "text/plain": [
              "          num_likes  num_comments\n",
              "count  18248.000000  18248.000000\n",
              "mean      14.138700      4.295758\n",
              "std       18.742977     17.676338\n",
              "min        0.000000      0.000000\n",
              "25%        7.000000      0.000000\n",
              "50%       10.000000      1.000000\n",
              "75%       14.000000      3.000000\n",
              "max      503.000000    629.000000"
            ]
          },
          "execution_count": 7,
          "metadata": {},
          "output_type": "execute_result"
        }
      ],
      "source": [
        "df.describe()"
      ]
    },
    {
      "cell_type": "markdown",
      "id": "1a652b36",
      "metadata": {
        "id": "1a652b36"
      },
      "source": [
        "\n",
        "\n",
        "<code>'num_likes'</code> is the target feature for regression problem"
      ]
    },
    {
      "cell_type": "markdown",
      "id": "tuBuWveFHKbl",
      "metadata": {
        "id": "tuBuWveFHKbl"
      },
      "source": [
        "# Feature extraction"
      ]
    },
    {
      "cell_type": "markdown",
      "id": "5644d462",
      "metadata": {
        "id": "5644d462"
      },
      "source": [
        "Features to extract:\n",
        "\n",
        "*   num_sent (number of sentences)\n",
        "*   story_sent (list of sentences)\n",
        "*   sent_lengths (list of lengths of sentences)\n",
        "*   sent_avg_length (average length of sentences)\n",
        "*   sent_words (list of lists of sentences' words\n",
        "*   story_word_toks\n",
        "*   words\n",
        "*   punctuation\n",
        "*   num_words\n",
        "*   unique_words\n",
        "*   num_unique_words\n",
        "*   unique_words_percent\n",
        "*   age (in days)\n",
        "*   words_exist_per_cent (percentage of words that exist in the Brown corpus)\n",
        "*   encoded categories\n",
        "*   text_str\n",
        "\n",
        "\n",
        "\n",
        "\n",
        "\n"
      ]
    },
    {
      "cell_type": "markdown",
      "id": "cd5ba995",
      "metadata": {
        "id": "cd5ba995"
      },
      "source": [
        "## extracting NLP features:"
      ]
    },
    {
      "cell_type": "code",
      "execution_count": null,
      "id": "5b365ffa",
      "metadata": {
        "colab": {
          "base_uri": "https://localhost:8080/"
        },
        "id": "5b365ffa",
        "outputId": "c92843ef-da57-40dd-d546-06153f77e911"
      },
      "outputs": [
        {
          "name": "stderr",
          "output_type": "stream",
          "text": [
            "[nltk_data] Downloading package punkt to /root/nltk_data...\n",
            "[nltk_data]   Unzipping tokenizers/punkt.zip.\n"
          ]
        },
        {
          "data": {
            "text/plain": [
              "True"
            ]
          },
          "execution_count": 8,
          "metadata": {},
          "output_type": "execute_result"
        }
      ],
      "source": [
        "from bs4 import BeautifulSoup\n",
        "from nltk.tokenize import wordpunct_tokenize, sent_tokenize, word_tokenize\n",
        "import numpy as np\n",
        "import nltk\n",
        "nltk.download('punkt')"
      ]
    },
    {
      "cell_type": "code",
      "execution_count": null,
      "id": "77d24ec7",
      "metadata": {
        "id": "77d24ec7"
      },
      "outputs": [],
      "source": [
        "def separate_words_and_punct(arr_tokenized_text):\n",
        "    words = []\n",
        "    punctuation = []\n",
        "    for i, value in enumerate(arr_tokenized_text):\n",
        "        if len(value) == 1 and not value.isalpha():\n",
        "            punctuation.append(i)\n",
        "        else:\n",
        "            words.append(i)\n",
        "    return arr_tokenized_text[words], arr_tokenized_text[punctuation]"
      ]
    },
    {
      "cell_type": "code",
      "execution_count": null,
      "id": "4e51466e",
      "metadata": {
        "id": "4e51466e"
      },
      "outputs": [],
      "source": [
        "def extract_word_feats(story_text):\n",
        "    story_word_toks = word_tokenize(story_text)\n",
        "    words, punctuation = separate_words_and_punct(np.array(story_word_toks, dtype='object'))\n",
        "    num_words = len(words)\n",
        "    unique_words = set(words)\n",
        "    num_unique_words = len(unique_words)\n",
        "    unique_words_percent = num_unique_words / num_words\n",
        "    return story_word_toks, words, punctuation, num_words, unique_words, num_unique_words, unique_words_percent"
      ]
    },
    {
      "cell_type": "code",
      "execution_count": null,
      "id": "11bc52e2",
      "metadata": {
        "id": "11bc52e2"
      },
      "outputs": [],
      "source": [
        "def extract_sentence_feats(story_text):\n",
        "    story_sent = sent_tokenize(story_text)\n",
        "    num_sent = len(story_sent)\n",
        "    words_per_sent = np.array([(len(word_tokenize(t)), word_tokenize(t)) for t in story_sent], dtype='object')\n",
        "    sent_lengths = words_per_sent[:, 0].astype(int)\n",
        "    sent_words = words_per_sent[:, 1]\n",
        "    sent_avg_length = sent_lengths.mean()\n",
        "    return story_sent, num_sent, sent_lengths, sent_avg_length, sent_words"
      ]
    },
    {
      "cell_type": "code",
      "execution_count": null,
      "id": "2f0ea071",
      "metadata": {
        "id": "2f0ea071"
      },
      "outputs": [],
      "source": [
        "def tokenize_story(row):\n",
        "    # extracting story from html\n",
        "    html = row['story_html']\n",
        "    soup = BeautifulSoup(html, \"html.parser\")\n",
        "    story = soup.get_text()\n",
        "    # tokenizing by sentence\n",
        "    story_sent, num_sent, sent_lengths, sent_avg_length, sent_words = extract_sentence_feats(story)\n",
        "    # tokenizing by word\n",
        "    story_word_toks, words, punctuation, num_words, unique_words, num_unique_words, unique_words_percent = extract_word_feats(story)\n",
        "        \n",
        "    feat_dict = {'num_sent': num_sent, \n",
        "                 'story_sent': story_sent, \n",
        "                 'sent_lengths': sent_lengths, \n",
        "                 'sent_avg_length': sent_avg_length, \n",
        "                 'sent_words': sent_words, \n",
        "                 'story_word_toks': story_word_toks, \n",
        "                 'words': words, \n",
        "                 'punctuation': punctuation, \n",
        "                 'num_words': num_words, \n",
        "                 'unique_words': unique_words, \n",
        "                 'num_unique_words': num_unique_words, \n",
        "                 'unique_words_percent': unique_words_percent}\n",
        "    return pd.DataFrame.from_dict(feat_dict, orient='index').transpose()"
      ]
    },
    {
      "cell_type": "code",
      "execution_count": null,
      "id": "S_VTEUMg_Zq6",
      "metadata": {
        "id": "S_VTEUMg_Zq6"
      },
      "outputs": [],
      "source": [
        "from tqdm.auto import tqdm\n",
        "tqdm.pandas()"
      ]
    },
    {
      "cell_type": "code",
      "execution_count": null,
      "id": "9c73dbf6",
      "metadata": {
        "colab": {
          "base_uri": "https://localhost:8080/",
          "height": 49,
          "referenced_widgets": [
            "0ef8ce7c8cb4445ba5150807f616b63f",
            "01d3ec9beb3140a28b0611740890f65e",
            "c75fb391511b482eaa82d09c5bcc5e5a",
            "46d499e2b36e4ba1a89daa71b20b1ee6",
            "51d93f86db6c44d8b3baa98b13a162d0",
            "13cd28f043fc4544a871fc7b9f0281d5",
            "a93e83587b6e434a8c9eb070e3591175",
            "6e4be93b3fc145a08933cb597d69e097",
            "1344957dff95411cb8e07b31c5b6dbc2",
            "90be841a99d84a929b5aa5eefa722255",
            "c5b31bd0c8fc415a8e9abbbff1896a93"
          ]
        },
        "id": "9c73dbf6",
        "outputId": "df2089a3-052a-46fd-bdc4-3367c837d94c"
      },
      "outputs": [
        {
          "data": {
            "application/vnd.jupyter.widget-view+json": {
              "model_id": "0ef8ce7c8cb4445ba5150807f616b63f",
              "version_major": 2,
              "version_minor": 0
            },
            "text/plain": [
              "  0%|          | 0/18248 [00:00<?, ?it/s]"
            ]
          },
          "metadata": {},
          "output_type": "display_data"
        }
      ],
      "source": [
        "new_feats = ('num_sent', 'words', 'num_words', 'unique_words', 'num_unique_words', 'unique_words_percent','punctuation')\n",
        "results = df.progress_apply(tokenize_story, axis=1)"
      ]
    },
    {
      "cell_type": "code",
      "execution_count": null,
      "id": "NSWwTU38BBhA",
      "metadata": {
        "id": "NSWwTU38BBhA"
      },
      "outputs": [],
      "source": [
        "# results = df.swifter.apply(tokenize_story, axis=1)"
      ]
    },
    {
      "cell_type": "code",
      "execution_count": null,
      "id": "763ad67c",
      "metadata": {
        "colab": {
          "base_uri": "https://localhost:8080/",
          "height": 49,
          "referenced_widgets": [
            "c14ce4af66c04db387a74c16d19752f8",
            "e2d4e94d1b674183bf93021a4a201160",
            "9a924f3c11b1411cbcf5e5e32f3b97cd",
            "940c7955aba44719bd7c6a1640f2e40d",
            "e7eb3c7682c645eeab5cae83f24eb20c",
            "9074db09fd0f4c51bcebd87258a2beca",
            "63db8399520642dcb46958a04f4f6dd5",
            "4ccc09e2bdf544dcabf485408a84a04c",
            "e28be1c9ea524955ae16451a2cfcdb91",
            "60a008039ab74fc7bdf6530f0dc133dd",
            "1b3eeaecd29442429033ddf5735b304e"
          ]
        },
        "id": "763ad67c",
        "outputId": "c0d3a9d1-dbf5-4336-dd6a-9c302ef29757"
      },
      "outputs": [
        {
          "data": {
            "application/vnd.jupyter.widget-view+json": {
              "model_id": "c14ce4af66c04db387a74c16d19752f8",
              "version_major": 2,
              "version_minor": 0
            },
            "text/plain": [
              "  0%|          | 0/18248 [00:00<?, ?it/s]"
            ]
          },
          "metadata": {},
          "output_type": "display_data"
        }
      ],
      "source": [
        "feats_df = pd.DataFrame()\n",
        "for sub in tqdm(results):\n",
        "    feats_df = pd.concat([feats_df, sub])\n",
        "feats_df = feats_df.reset_index()\n",
        "feats_df.drop('index', axis=1, inplace=True)"
      ]
    },
    {
      "cell_type": "code",
      "execution_count": null,
      "id": "d2c7d988",
      "metadata": {
        "colab": {
          "base_uri": "https://localhost:8080/"
        },
        "id": "d2c7d988",
        "outputId": "fd0b380c-37c2-46b8-cb94-45d4a6f50864"
      },
      "outputs": [
        {
          "data": {
            "text/plain": [
              "((18248, 12), (18248, 12))"
            ]
          },
          "execution_count": 19,
          "metadata": {},
          "output_type": "execute_result"
        }
      ],
      "source": [
        "feats_df.shape, df.shape"
      ]
    },
    {
      "cell_type": "markdown",
      "id": "26f9ee39",
      "metadata": {
        "id": "26f9ee39"
      },
      "source": [
        "12 new features extracted"
      ]
    },
    {
      "cell_type": "code",
      "execution_count": null,
      "id": "dad310b6",
      "metadata": {
        "id": "dad310b6"
      },
      "outputs": [],
      "source": [
        "df = pd.concat([df, feats_df], axis=1)"
      ]
    },
    {
      "cell_type": "markdown",
      "id": "7tYpi5_LCQ7w",
      "metadata": {
        "id": "7tYpi5_LCQ7w"
      },
      "source": [
        "Extract text as string:"
      ]
    },
    {
      "cell_type": "code",
      "execution_count": null,
      "id": "rTbtGFi1CQY3",
      "metadata": {
        "colab": {
          "base_uri": "https://localhost:8080/",
          "height": 49,
          "referenced_widgets": [
            "d5017b58d6be44a58b23739306ca178f",
            "a28d38142b0a44818a4d84bff473728e",
            "e902d5748cfd4dd9b3c6e1064cac1371",
            "66eef565453243ba92bd5e4ca337a062",
            "4ffe4e90bfa24722895898f3abd71236",
            "da625ecf5d52460883dc3a7477829c23",
            "51e499dd53b34eb59777da5dcf6ca4d9",
            "980c6e8276b94c9db6e5c35e7b16ac5d",
            "a229173064664ad58c19c8a6c188dc5f",
            "dbf331f8b78a4bd6bd828368dec7ba0f",
            "1e96e81a9ff540cb9e338f1b56c61862"
          ]
        },
        "id": "rTbtGFi1CQY3",
        "outputId": "54a4074c-c0c1-4ace-c486-2815cb982a34"
      },
      "outputs": [
        {
          "data": {
            "application/vnd.jupyter.widget-view+json": {
              "model_id": "d5017b58d6be44a58b23739306ca178f",
              "version_major": 2,
              "version_minor": 0
            },
            "text/plain": [
              "  0%|          | 0/18248 [00:00<?, ?it/s]"
            ]
          },
          "metadata": {},
          "output_type": "display_data"
        }
      ],
      "source": [
        "from bs4 import BeautifulSoup\n",
        "def text_str(row):\n",
        "  row['text_str'] = BeautifulSoup(row['story_html'], \"html.parser\").get_text()\n",
        "  return row\n",
        "\n",
        "df = df.progress_apply(text_str, axis=1)"
      ]
    },
    {
      "cell_type": "markdown",
      "id": "YjFRI5Au-hR0",
      "metadata": {
        "id": "YjFRI5Au-hR0"
      },
      "source": [
        "## extracting age of stories (in days)"
      ]
    },
    {
      "cell_type": "code",
      "execution_count": null,
      "id": "uCgufBhl-jTM",
      "metadata": {
        "id": "uCgufBhl-jTM"
      },
      "outputs": [],
      "source": [
        "from datetime import date, datetime\n",
        "def calculate_age(row):\n",
        "  born = row['date_published']\n",
        "  today = datetime.strptime('10/6/2022', \"%m/%d/%Y\")\n",
        "  row['age'] = (today - born).days\n",
        "  return row"
      ]
    },
    {
      "cell_type": "code",
      "execution_count": null,
      "id": "tVTstDMYFgL_",
      "metadata": {
        "id": "tVTstDMYFgL_"
      },
      "outputs": [],
      "source": [
        "df['date_published'] = pd.to_datetime(df['date_published'])"
      ]
    },
    {
      "cell_type": "code",
      "execution_count": null,
      "id": "Q5r0r-JaFadQ",
      "metadata": {
        "colab": {
          "base_uri": "https://localhost:8080/",
          "height": 49,
          "referenced_widgets": [
            "b4aaebff28074f23bcaff3f467870701",
            "13bca3b22459486680c884673ac4c055",
            "b2e0686e866b4e289de27846a702a8c1",
            "c5e90b2507b6470c9a9f8b71f2a28013",
            "98700a69a1fa4e869dbd941ea57d1ffa",
            "cbbe99a1603e4ae8869c14a0ec5486b5",
            "b275d642af6447a0ab6652e0509367d9",
            "9ada97efc93549b6b1f7b0b48ed65e12",
            "b43a2b7322634ba0aba7db142050ccd3",
            "31029af4cb9845b0abc576759b5e36ad",
            "36426541fe184277a1d2406f2e36f633"
          ]
        },
        "id": "Q5r0r-JaFadQ",
        "outputId": "a5fcb700-868b-428a-ae45-663e48f3d426"
      },
      "outputs": [
        {
          "data": {
            "application/vnd.jupyter.widget-view+json": {
              "model_id": "b4aaebff28074f23bcaff3f467870701",
              "version_major": 2,
              "version_minor": 0
            },
            "text/plain": [
              "  0%|          | 0/18248 [00:00<?, ?it/s]"
            ]
          },
          "metadata": {},
          "output_type": "display_data"
        }
      ],
      "source": [
        "df = df.progress_apply(calculate_age, axis=1)"
      ]
    },
    {
      "cell_type": "markdown",
      "id": "frFO60M_0NbR",
      "metadata": {
        "id": "frFO60M_0NbR"
      },
      "source": [
        "## Extracting Percent of words in English corpus Brown"
      ]
    },
    {
      "cell_type": "code",
      "execution_count": null,
      "id": "IMK0YQv50SdJ",
      "metadata": {
        "colab": {
          "base_uri": "https://localhost:8080/"
        },
        "id": "IMK0YQv50SdJ",
        "outputId": "96ea12be-a227-4c6c-8a58-9dc04e9c8961"
      },
      "outputs": [
        {
          "name": "stderr",
          "output_type": "stream",
          "text": [
            "[nltk_data] Downloading package brown to /root/nltk_data...\n",
            "[nltk_data]   Unzipping corpora/brown.zip.\n"
          ]
        }
      ],
      "source": [
        "import nltk\n",
        "nltk.download('brown')\n",
        "from nltk.corpus import brown\n",
        "brown_corpus = brown.words()\n",
        "len(brown_corpus)\n",
        "brown_corpus = list(set(brown_corpus))"
      ]
    },
    {
      "cell_type": "code",
      "execution_count": null,
      "id": "mKNMJkjH0XgD",
      "metadata": {
        "colab": {
          "base_uri": "https://localhost:8080/",
          "height": 49,
          "referenced_widgets": [
            "b518480752804ad795316d135d9528da",
            "25d793cd80034d0b92dbfd8914eb11bb",
            "de22f8c42cdf4772a4553ce52ae53042",
            "464521c4685147a884081de6f8b51e16",
            "da636f7e05154b3ebfa7fc80a0474fee",
            "5ab56c7782204ccab310706d9c3b1f62",
            "fbc29f9450c04b59867f047cf98c908f",
            "7d1dc304256c49aa90ce459184df1e3a",
            "cb587eddc06d464e90388edd3716fedb",
            "8fa587668c1d495c9395884e1b5f6ada",
            "3b94f37492cb4c47a08ee2f5ce018fae"
          ]
        },
        "id": "mKNMJkjH0XgD",
        "outputId": "a9d32096-6b28-47eb-ce6d-cdb4230f7723"
      },
      "outputs": [
        {
          "data": {
            "application/vnd.jupyter.widget-view+json": {
              "model_id": "b518480752804ad795316d135d9528da",
              "version_major": 2,
              "version_minor": 0
            },
            "text/plain": [
              "  0%|          | 0/18248 [00:00<?, ?it/s]"
            ]
          },
          "metadata": {},
          "output_type": "display_data"
        }
      ],
      "source": [
        "def words_exist_per_cent(row):\n",
        "  set1 = set([x.lower() for x in list(row['unique_words'])])\n",
        "  #set1 = set(list(row['unique_words']).lower().split(\"', '\"))\n",
        "  set_brown = set(brown_corpus)\n",
        "  row['words_exist_per_cent'] = \\\n",
        "  100*len(list(set1 & set_brown))/\\\n",
        "                   len(set1)\n",
        "  return row\n",
        "\n",
        "df = df.progress_apply(words_exist_per_cent, axis=1) #df['words_exist_per_cent']"
      ]
    },
    {
      "cell_type": "markdown",
      "id": "_UHvTohxdCy9",
      "metadata": {
        "id": "_UHvTohxdCy9"
      },
      "source": [
        "Save the dataframe:"
      ]
    },
    {
      "cell_type": "code",
      "execution_count": null,
      "id": "urPVh7JcdE6Z",
      "metadata": {
        "id": "urPVh7JcdE6Z"
      },
      "outputs": [],
      "source": [
        "df.to_csv('drive/MyDrive/Final Project/story_data_new_feats.csv', index=False)"
      ]
    },
    {
      "cell_type": "markdown",
      "id": "f11059ac",
      "metadata": {
        "id": "f11059ac"
      },
      "source": [
        "## Extracting and encoding categories"
      ]
    },
    {
      "cell_type": "code",
      "execution_count": null,
      "id": "dfc803de",
      "metadata": {
        "id": "dfc803de"
      },
      "outputs": [],
      "source": [
        "def find_num_cats(row):\n",
        "    return len(row['categories'].split())"
      ]
    },
    {
      "cell_type": "code",
      "execution_count": null,
      "id": "5bed3bfa",
      "metadata": {
        "colab": {
          "base_uri": "https://localhost:8080/",
          "height": 49,
          "referenced_widgets": [
            "c53fe49fcc0b49fe97078c78578880c1",
            "4cae899626ef49079aaa817dc8c8dfe0",
            "ccce30bb2c8e4932986da53c3c78a8ba",
            "7be54a37008c4e90b7616f7ad282c151",
            "0f8a7e2d05164cd189c1e1a8c4ebbd69",
            "57b1b5e315484be59fe52a7113077974",
            "f39a60da9e884bc6afdbde4f549ab1f7",
            "1d0439fde17e4189a165a6c0d22eb9f7",
            "ad6690225b4245e0bf06297c14bcc961",
            "fcae6a78dbcc477181a436b8a3f89ecc",
            "ab53f9d519da4f86a4416967f0e9c671"
          ]
        },
        "id": "5bed3bfa",
        "outputId": "333b83e7-4a07-4cee-a80a-aa29c82985ca"
      },
      "outputs": [
        {
          "data": {
            "application/vnd.jupyter.widget-view+json": {
              "model_id": "c53fe49fcc0b49fe97078c78578880c1",
              "version_major": 2,
              "version_minor": 0
            },
            "text/plain": [
              "  0%|          | 0/18248 [00:00<?, ?it/s]"
            ]
          },
          "metadata": {},
          "output_type": "display_data"
        }
      ],
      "source": [
        "df['num_cats'] = df.progress_apply(find_num_cats, axis=1)"
      ]
    },
    {
      "cell_type": "code",
      "execution_count": null,
      "id": "7cde9fa3",
      "metadata": {
        "colab": {
          "base_uri": "https://localhost:8080/"
        },
        "id": "7cde9fa3",
        "outputId": "8b95c5a5-efa9-4ca1-fcb4-582acbd0cbaf"
      },
      "outputs": [
        {
          "name": "stdout",
          "output_type": "stream",
          "text": [
            "we have 49 categories\n"
          ]
        }
      ],
      "source": [
        "import re\n",
        "cats = set()\n",
        "for sample, num in df[['categories', 'num_cats']].values:\n",
        "    samp_cats = re.findall('[A-Z][a-z]+', sample)\n",
        "    cats.update(samp_cats)\n",
        "print(f'we have {len(cats)} categories')"
      ]
    },
    {
      "cell_type": "code",
      "execution_count": null,
      "id": "d7257375",
      "metadata": {
        "colab": {
          "base_uri": "https://localhost:8080/",
          "height": 49,
          "referenced_widgets": [
            "99de54131bde41259753ab724263cde7",
            "b3b8732dcb9246849ba8bd9081e5b9ea",
            "63fde408f3ff4b4e8ce96b59a06aaa7f",
            "a8d73085bc7d4cacadd48c0a3fdce240",
            "ce250cb1f5a04fa2b8e08d81211e5806",
            "5bfc9379cccd49fe9d9a8441cbe2a57a",
            "f1d2090e53374d848982ff125bb5c074",
            "5ee00514176d406fa1037d0113b74555",
            "6372b0c222f441a0b4074f28210ef20d",
            "9883e91887a9485c9cfce83df51a6d99",
            "4c3461716c0a45639a57c6e159d7642a"
          ]
        },
        "id": "d7257375",
        "outputId": "e1f0ab12-923e-4826-e3d4-2a4636a9f66d"
      },
      "outputs": [
        {
          "data": {
            "application/vnd.jupyter.widget-view+json": {
              "model_id": "99de54131bde41259753ab724263cde7",
              "version_major": 2,
              "version_minor": 0
            },
            "text/plain": [
              "  0%|          | 0/49 [00:00<?, ?it/s]"
            ]
          },
          "metadata": {},
          "output_type": "display_data"
        }
      ],
      "source": [
        "for cat in tqdm(cats):\n",
        "    df[f'cat_{cat}'] = (df['categories']).astype('category').str.contains(cat).astype(int)"
      ]
    },
    {
      "cell_type": "code",
      "execution_count": null,
      "id": "acabd26e",
      "metadata": {
        "id": "acabd26e"
      },
      "outputs": [],
      "source": [
        "assert df['cat_Fiction'].sum() == len(df)"
      ]
    },
    {
      "cell_type": "code",
      "execution_count": null,
      "id": "6c01d1c8",
      "metadata": {
        "colab": {
          "base_uri": "https://localhost:8080/"
        },
        "id": "6c01d1c8",
        "outputId": "f09cb5ef-e983-4e64-9344-1eaea99fe96e"
      },
      "outputs": [
        {
          "data": {
            "text/plain": [
              "(18248, 76)"
            ]
          },
          "execution_count": 56,
          "metadata": {},
          "output_type": "execute_result"
        }
      ],
      "source": [
        "df.drop('categories', axis=1, inplace=True)\n",
        "df.shape"
      ]
    },
    {
      "cell_type": "code",
      "execution_count": null,
      "id": "qHZgyWYNedwz",
      "metadata": {
        "id": "qHZgyWYNedwz"
      },
      "outputs": [],
      "source": [
        "df.to_csv('drive/MyDrive/Final Project/story_data_new_feats.csv', index=False)"
      ]
    },
    {
      "cell_type": "markdown",
      "id": "06f15387",
      "metadata": {
        "id": "06f15387"
      },
      "source": [
        "## Extracting contest winners, shortlisters, and contest number"
      ]
    },
    {
      "cell_type": "code",
      "execution_count": null,
      "id": "5c5d3818",
      "metadata": {
        "id": "5c5d3818"
      },
      "outputs": [],
      "source": [
        "df['won_contest'].fillna(0, inplace=True)\n",
        "df['won_contest'] = df['won_contest'].str.contains('winner', na=False).astype(int)\n",
        "df['shortlisted'] = df['won_contest'].str.contains('shortlist', na=False).astype(int)"
      ]
    },
    {
      "cell_type": "code",
      "execution_count": null,
      "id": "876e6e88",
      "metadata": {
        "id": "876e6e88"
      },
      "outputs": [],
      "source": [
        "df['won_contest'].value_counts()"
      ]
    },
    {
      "cell_type": "code",
      "execution_count": null,
      "id": "4af09f76",
      "metadata": {
        "id": "4af09f76"
      },
      "outputs": [],
      "source": [
        "df['shortlisted'].value_counts()"
      ]
    },
    {
      "cell_type": "code",
      "execution_count": null,
      "id": "f1a2da51",
      "metadata": {
        "id": "f1a2da51"
      },
      "outputs": [],
      "source": [
        "df['contest_num'] = df['contest_num'].str.removeprefix(\"['Contest', '#\").str.removesuffix(\"']\").astype(int)"
      ]
    },
    {
      "cell_type": "markdown",
      "id": "0EVUCEFBuY54",
      "metadata": {
        "id": "0EVUCEFBuY54"
      },
      "source": [
        "## Lemmatization"
      ]
    },
    {
      "cell_type": "markdown",
      "id": "bvXlfHrgfRPD",
      "metadata": {
        "id": "bvXlfHrgfRPD"
      },
      "source": [
        "Because the RAM is almost saturated, we drop all variables, relaunch the execution, and load the dataframe."
      ]
    },
    {
      "cell_type": "code",
      "execution_count": null,
      "id": "Qhccauh_gFu8",
      "metadata": {
        "id": "Qhccauh_gFu8"
      },
      "outputs": [],
      "source": [
        "import pandas as pd\n",
        "from tqdm.auto import tqdm\n",
        "tqdm.pandas()"
      ]
    },
    {
      "cell_type": "code",
      "execution_count": null,
      "id": "-Np9g_U0fNlu",
      "metadata": {
        "id": "-Np9g_U0fNlu"
      },
      "outputs": [],
      "source": [
        "df = pd.read_csv('drive/MyDrive/Final Project/story_data_new_feats.csv')"
      ]
    },
    {
      "cell_type": "code",
      "execution_count": null,
      "id": "N9PROVHfudMV",
      "metadata": {
        "id": "N9PROVHfudMV"
      },
      "outputs": [],
      "source": [
        "# turn into lemmas\n",
        "import spacy\n",
        "nlp = spacy.load('en_core_web_sm')"
      ]
    },
    {
      "cell_type": "code",
      "execution_count": null,
      "id": "wEI4kMHLgn0U",
      "metadata": {
        "colab": {
          "base_uri": "https://localhost:8080/",
          "height": 49,
          "referenced_widgets": [
            "a5ff789224dc47848de9fef81d0fe4e8",
            "bddafa8c2526424a91c9e84bd68aba36",
            "effcc83f452540bd88378af012824352",
            "51e2fc955ab041dfba0a78d4872a2e84",
            "f98badac5c4d40119f8e53590bcdd698",
            "7afef307d1f2420a97d4f3e03389997c",
            "276c23673c8a400c9c887a3a2503062b",
            "5d0d4f5f4f424a009c69c4634a296e4f",
            "21bd487a0bed4ea4a3472453a2acdab2",
            "c2739bb9f2ab4c61bd8dd98e06008864",
            "c9029820deef484a941f3925bac4020d"
          ]
        },
        "id": "wEI4kMHLgn0U",
        "outputId": "47fa17cc-74a1-4856-8ee9-503dd0c32f0e"
      },
      "outputs": [
        {
          "data": {
            "application/vnd.jupyter.widget-view+json": {
              "model_id": "a5ff789224dc47848de9fef81d0fe4e8",
              "version_major": 2,
              "version_minor": 0
            },
            "text/plain": [
              "  0%|          | 0/18248 [00:00<?, ?it/s]"
            ]
          },
          "metadata": {},
          "output_type": "display_data"
        }
      ],
      "source": [
        "df['text_str_lem'] = df.text_str.progress_apply(lambda x: \" \".join([word.lemma_ for word in nlp(x)]))"
      ]
    },
    {
      "cell_type": "code",
      "execution_count": null,
      "id": "6IEgnLubXAWF",
      "metadata": {
        "id": "6IEgnLubXAWF"
      },
      "outputs": [],
      "source": [
        "# Split by paragraph    \n",
        "if 'lemmatized_parag' not in df.columns:\n",
        "  df['lemmatized_parag']  = df['text_str_lem'].str.split('\\n')"
      ]
    },
    {
      "cell_type": "markdown",
      "id": "sUQadMCoIAUy",
      "metadata": {
        "id": "sUQadMCoIAUy"
      },
      "source": [
        "# Output to csv"
      ]
    },
    {
      "cell_type": "code",
      "execution_count": null,
      "id": "da4bd7b3",
      "metadata": {
        "id": "da4bd7b3"
      },
      "outputs": [],
      "source": [
        "df.drop(['url', 'soup'], axis=1).to_csv('drive/MyDrive/Final Project/story_data_new_feats.csv', index=False)"
      ]
    },
    {
      "cell_type": "code",
      "execution_count": null,
      "id": "b45fafd2",
      "metadata": {
        "id": "b45fafd2"
      },
      "outputs": [],
      "source": [
        "df[['url', 'soup']].to_csv('drive/MyDrive/Final Project/story_url_and_soup.csv', index=False)"
      ]
    },
    {
      "cell_type": "code",
      "execution_count": null,
      "id": "381876c8",
      "metadata": {
        "id": "381876c8",
        "outputId": "c2d30ad6-891a-490b-e166-89172e3740c4"
      },
      "outputs": [
        {
          "data": {
            "text/plain": [
              "(18248, 73)"
            ]
          },
          "execution_count": 29,
          "metadata": {},
          "output_type": "execute_result"
        }
      ],
      "source": [
        "# other.shape"
      ]
    },
    {
      "cell_type": "markdown",
      "source": [
        "# Load sentiment and emotions"
      ],
      "metadata": {
        "id": "3CPxS7g3iL9D"
      },
      "id": "3CPxS7g3iL9D"
    },
    {
      "cell_type": "code",
      "source": [
        "import pandas as pd"
      ],
      "metadata": {
        "id": "a5oF3k5zjBfR"
      },
      "id": "a5oF3k5zjBfR",
      "execution_count": 3,
      "outputs": []
    },
    {
      "cell_type": "code",
      "source": [
        "df = pd.read_csv(\"drive/MyDrive/Final Project/story_data_new_feats.csv\")\n",
        "sentiment_hf_parag_no_prepro = pd.read_csv(\"drive/MyDrive/Final Project/sentiment_features/sentiment_hf_parag_no_prepro.csv\")\n",
        "sentiment_hf_text = pd.read_csv(\"drive/MyDrive/Final Project/sentiment_features/sentiment_hf_text.csv\")\n",
        "df_sentiment_merged = pd.concat([sentiment_hf_parag_no_prepro, sentiment_hf_text], axis=1, join='inner')\n",
        "df_merged = pd.concat([df, df_sentiment_merged], axis=1, join='inner')"
      ],
      "metadata": {
        "id": "RCbHkW_ji5N3"
      },
      "id": "RCbHkW_ji5N3",
      "execution_count": 4,
      "outputs": []
    },
    {
      "cell_type": "code",
      "execution_count": 16,
      "id": "a7b1073d",
      "metadata": {
        "id": "a7b1073d"
      },
      "outputs": [],
      "source": [
        "df_merged.to_csv(f'drive/MyDrive/Final Project/story_data_new_feats.csv', index=False)"
      ]
    },
    {
      "cell_type": "markdown",
      "source": [
        "New features:\n",
        "\n",
        "* sentiment_POSITIVE_no_prepro\n",
        "* sentiment_NEGATIVE_no_prepro\n",
        "* sentiment_hf_text"
      ],
      "metadata": {
        "id": "433kFAbSjxUJ"
      },
      "id": "433kFAbSjxUJ"
    },
    {
      "cell_type": "code",
      "source": [
        "emotion = pd.read_csv(\"drive/MyDrive/Final Project/df_emotions.csv\")"
      ],
      "metadata": {
        "id": "DkejJ5AoifN0"
      },
      "id": "DkejJ5AoifN0",
      "execution_count": 18,
      "outputs": []
    },
    {
      "cell_type": "code",
      "source": [
        "df = pd.concat([df_merged, emotion], axis=1, join='inner')"
      ],
      "metadata": {
        "id": "sZpeMsR9kLv0"
      },
      "id": "sZpeMsR9kLv0",
      "execution_count": 19,
      "outputs": []
    },
    {
      "cell_type": "code",
      "source": [
        "df.to_csv(f'drive/MyDrive/Final Project/story_data_new_feats.csv', index=False)"
      ],
      "metadata": {
        "id": "bf1QnlkxkRrw"
      },
      "id": "bf1QnlkxkRrw",
      "execution_count": 22,
      "outputs": []
    },
    {
      "cell_type": "markdown",
      "source": [
        "New features:\n",
        "\n",
        "* emotion_all\t\n",
        "* emotion_anger\t\n",
        "* emotion_fear\t\n",
        "* emotion_joy\t\n",
        "* emotion_love\t\n",
        "* emotion_sadness\t\n",
        "* emotion_surprise"
      ],
      "metadata": {
        "id": "2ap7vzgWkTof"
      },
      "id": "2ap7vzgWkTof"
    }
  ],
  "metadata": {
    "colab": {
      "collapsed_sections": [
        "DxNj-7w7GlTk",
        "RSx964Y8GrPM",
        "cd5ba995",
        "YjFRI5Au-hR0",
        "frFO60M_0NbR",
        "f11059ac"
      ],
      "name": "feature_extraction.ipynb",
      "provenance": []
    },
    "kernelspec": {
      "display_name": "Python 3 (ipykernel)",
      "language": "python",
      "name": "python3"
    },
    "language_info": {
      "codemirror_mode": {
        "name": "ipython",
        "version": 3
      },
      "file_extension": ".py",
      "mimetype": "text/x-python",
      "name": "python",
      "nbconvert_exporter": "python",
      "pygments_lexer": "ipython3",
      "version": "3.9.7"
    },
    "latex_envs": {
      "LaTeX_envs_menu_present": true,
      "autoclose": false,
      "autocomplete": true,
      "bibliofile": "biblio.bib",
      "cite_by": "apalike",
      "current_citInitial": 1,
      "eqLabelWithNumbers": true,
      "eqNumInitial": 1,
      "hotkeys": {
        "equation": "Ctrl-E",
        "itemize": "Ctrl-I"
      },
      "labels_anchors": false,
      "latex_user_defs": false,
      "report_style_numbering": false,
      "user_envs_cfg": false
    },
    "widgets": {
      "application/vnd.jupyter.widget-state+json": {
        "01d3ec9beb3140a28b0611740890f65e": {
          "model_module": "@jupyter-widgets/controls",
          "model_module_version": "1.5.0",
          "model_name": "HTMLModel",
          "state": {
            "_dom_classes": [],
            "_model_module": "@jupyter-widgets/controls",
            "_model_module_version": "1.5.0",
            "_model_name": "HTMLModel",
            "_view_count": null,
            "_view_module": "@jupyter-widgets/controls",
            "_view_module_version": "1.5.0",
            "_view_name": "HTMLView",
            "description": "",
            "description_tooltip": null,
            "layout": "IPY_MODEL_13cd28f043fc4544a871fc7b9f0281d5",
            "placeholder": "​",
            "style": "IPY_MODEL_a93e83587b6e434a8c9eb070e3591175",
            "value": "100%"
          }
        },
        "0ef8ce7c8cb4445ba5150807f616b63f": {
          "model_module": "@jupyter-widgets/controls",
          "model_module_version": "1.5.0",
          "model_name": "HBoxModel",
          "state": {
            "_dom_classes": [],
            "_model_module": "@jupyter-widgets/controls",
            "_model_module_version": "1.5.0",
            "_model_name": "HBoxModel",
            "_view_count": null,
            "_view_module": "@jupyter-widgets/controls",
            "_view_module_version": "1.5.0",
            "_view_name": "HBoxView",
            "box_style": "",
            "children": [
              "IPY_MODEL_01d3ec9beb3140a28b0611740890f65e",
              "IPY_MODEL_c75fb391511b482eaa82d09c5bcc5e5a",
              "IPY_MODEL_46d499e2b36e4ba1a89daa71b20b1ee6"
            ],
            "layout": "IPY_MODEL_51d93f86db6c44d8b3baa98b13a162d0"
          }
        },
        "0f8a7e2d05164cd189c1e1a8c4ebbd69": {
          "model_module": "@jupyter-widgets/base",
          "model_module_version": "1.2.0",
          "model_name": "LayoutModel",
          "state": {
            "_model_module": "@jupyter-widgets/base",
            "_model_module_version": "1.2.0",
            "_model_name": "LayoutModel",
            "_view_count": null,
            "_view_module": "@jupyter-widgets/base",
            "_view_module_version": "1.2.0",
            "_view_name": "LayoutView",
            "align_content": null,
            "align_items": null,
            "align_self": null,
            "border": null,
            "bottom": null,
            "display": null,
            "flex": null,
            "flex_flow": null,
            "grid_area": null,
            "grid_auto_columns": null,
            "grid_auto_flow": null,
            "grid_auto_rows": null,
            "grid_column": null,
            "grid_gap": null,
            "grid_row": null,
            "grid_template_areas": null,
            "grid_template_columns": null,
            "grid_template_rows": null,
            "height": null,
            "justify_content": null,
            "justify_items": null,
            "left": null,
            "margin": null,
            "max_height": null,
            "max_width": null,
            "min_height": null,
            "min_width": null,
            "object_fit": null,
            "object_position": null,
            "order": null,
            "overflow": null,
            "overflow_x": null,
            "overflow_y": null,
            "padding": null,
            "right": null,
            "top": null,
            "visibility": null,
            "width": null
          }
        },
        "1344957dff95411cb8e07b31c5b6dbc2": {
          "model_module": "@jupyter-widgets/controls",
          "model_module_version": "1.5.0",
          "model_name": "ProgressStyleModel",
          "state": {
            "_model_module": "@jupyter-widgets/controls",
            "_model_module_version": "1.5.0",
            "_model_name": "ProgressStyleModel",
            "_view_count": null,
            "_view_module": "@jupyter-widgets/base",
            "_view_module_version": "1.2.0",
            "_view_name": "StyleView",
            "bar_color": null,
            "description_width": ""
          }
        },
        "13bca3b22459486680c884673ac4c055": {
          "model_module": "@jupyter-widgets/controls",
          "model_module_version": "1.5.0",
          "model_name": "HTMLModel",
          "state": {
            "_dom_classes": [],
            "_model_module": "@jupyter-widgets/controls",
            "_model_module_version": "1.5.0",
            "_model_name": "HTMLModel",
            "_view_count": null,
            "_view_module": "@jupyter-widgets/controls",
            "_view_module_version": "1.5.0",
            "_view_name": "HTMLView",
            "description": "",
            "description_tooltip": null,
            "layout": "IPY_MODEL_cbbe99a1603e4ae8869c14a0ec5486b5",
            "placeholder": "​",
            "style": "IPY_MODEL_b275d642af6447a0ab6652e0509367d9",
            "value": "100%"
          }
        },
        "13cd28f043fc4544a871fc7b9f0281d5": {
          "model_module": "@jupyter-widgets/base",
          "model_module_version": "1.2.0",
          "model_name": "LayoutModel",
          "state": {
            "_model_module": "@jupyter-widgets/base",
            "_model_module_version": "1.2.0",
            "_model_name": "LayoutModel",
            "_view_count": null,
            "_view_module": "@jupyter-widgets/base",
            "_view_module_version": "1.2.0",
            "_view_name": "LayoutView",
            "align_content": null,
            "align_items": null,
            "align_self": null,
            "border": null,
            "bottom": null,
            "display": null,
            "flex": null,
            "flex_flow": null,
            "grid_area": null,
            "grid_auto_columns": null,
            "grid_auto_flow": null,
            "grid_auto_rows": null,
            "grid_column": null,
            "grid_gap": null,
            "grid_row": null,
            "grid_template_areas": null,
            "grid_template_columns": null,
            "grid_template_rows": null,
            "height": null,
            "justify_content": null,
            "justify_items": null,
            "left": null,
            "margin": null,
            "max_height": null,
            "max_width": null,
            "min_height": null,
            "min_width": null,
            "object_fit": null,
            "object_position": null,
            "order": null,
            "overflow": null,
            "overflow_x": null,
            "overflow_y": null,
            "padding": null,
            "right": null,
            "top": null,
            "visibility": null,
            "width": null
          }
        },
        "1b3eeaecd29442429033ddf5735b304e": {
          "model_module": "@jupyter-widgets/controls",
          "model_module_version": "1.5.0",
          "model_name": "DescriptionStyleModel",
          "state": {
            "_model_module": "@jupyter-widgets/controls",
            "_model_module_version": "1.5.0",
            "_model_name": "DescriptionStyleModel",
            "_view_count": null,
            "_view_module": "@jupyter-widgets/base",
            "_view_module_version": "1.2.0",
            "_view_name": "StyleView",
            "description_width": ""
          }
        },
        "1d0439fde17e4189a165a6c0d22eb9f7": {
          "model_module": "@jupyter-widgets/base",
          "model_module_version": "1.2.0",
          "model_name": "LayoutModel",
          "state": {
            "_model_module": "@jupyter-widgets/base",
            "_model_module_version": "1.2.0",
            "_model_name": "LayoutModel",
            "_view_count": null,
            "_view_module": "@jupyter-widgets/base",
            "_view_module_version": "1.2.0",
            "_view_name": "LayoutView",
            "align_content": null,
            "align_items": null,
            "align_self": null,
            "border": null,
            "bottom": null,
            "display": null,
            "flex": null,
            "flex_flow": null,
            "grid_area": null,
            "grid_auto_columns": null,
            "grid_auto_flow": null,
            "grid_auto_rows": null,
            "grid_column": null,
            "grid_gap": null,
            "grid_row": null,
            "grid_template_areas": null,
            "grid_template_columns": null,
            "grid_template_rows": null,
            "height": null,
            "justify_content": null,
            "justify_items": null,
            "left": null,
            "margin": null,
            "max_height": null,
            "max_width": null,
            "min_height": null,
            "min_width": null,
            "object_fit": null,
            "object_position": null,
            "order": null,
            "overflow": null,
            "overflow_x": null,
            "overflow_y": null,
            "padding": null,
            "right": null,
            "top": null,
            "visibility": null,
            "width": null
          }
        },
        "1e96e81a9ff540cb9e338f1b56c61862": {
          "model_module": "@jupyter-widgets/controls",
          "model_module_version": "1.5.0",
          "model_name": "DescriptionStyleModel",
          "state": {
            "_model_module": "@jupyter-widgets/controls",
            "_model_module_version": "1.5.0",
            "_model_name": "DescriptionStyleModel",
            "_view_count": null,
            "_view_module": "@jupyter-widgets/base",
            "_view_module_version": "1.2.0",
            "_view_name": "StyleView",
            "description_width": ""
          }
        },
        "21bd487a0bed4ea4a3472453a2acdab2": {
          "model_module": "@jupyter-widgets/controls",
          "model_module_version": "1.5.0",
          "model_name": "ProgressStyleModel",
          "state": {
            "_model_module": "@jupyter-widgets/controls",
            "_model_module_version": "1.5.0",
            "_model_name": "ProgressStyleModel",
            "_view_count": null,
            "_view_module": "@jupyter-widgets/base",
            "_view_module_version": "1.2.0",
            "_view_name": "StyleView",
            "bar_color": null,
            "description_width": ""
          }
        },
        "25d793cd80034d0b92dbfd8914eb11bb": {
          "model_module": "@jupyter-widgets/controls",
          "model_module_version": "1.5.0",
          "model_name": "HTMLModel",
          "state": {
            "_dom_classes": [],
            "_model_module": "@jupyter-widgets/controls",
            "_model_module_version": "1.5.0",
            "_model_name": "HTMLModel",
            "_view_count": null,
            "_view_module": "@jupyter-widgets/controls",
            "_view_module_version": "1.5.0",
            "_view_name": "HTMLView",
            "description": "",
            "description_tooltip": null,
            "layout": "IPY_MODEL_5ab56c7782204ccab310706d9c3b1f62",
            "placeholder": "​",
            "style": "IPY_MODEL_fbc29f9450c04b59867f047cf98c908f",
            "value": "100%"
          }
        },
        "276c23673c8a400c9c887a3a2503062b": {
          "model_module": "@jupyter-widgets/controls",
          "model_module_version": "1.5.0",
          "model_name": "DescriptionStyleModel",
          "state": {
            "_model_module": "@jupyter-widgets/controls",
            "_model_module_version": "1.5.0",
            "_model_name": "DescriptionStyleModel",
            "_view_count": null,
            "_view_module": "@jupyter-widgets/base",
            "_view_module_version": "1.2.0",
            "_view_name": "StyleView",
            "description_width": ""
          }
        },
        "31029af4cb9845b0abc576759b5e36ad": {
          "model_module": "@jupyter-widgets/base",
          "model_module_version": "1.2.0",
          "model_name": "LayoutModel",
          "state": {
            "_model_module": "@jupyter-widgets/base",
            "_model_module_version": "1.2.0",
            "_model_name": "LayoutModel",
            "_view_count": null,
            "_view_module": "@jupyter-widgets/base",
            "_view_module_version": "1.2.0",
            "_view_name": "LayoutView",
            "align_content": null,
            "align_items": null,
            "align_self": null,
            "border": null,
            "bottom": null,
            "display": null,
            "flex": null,
            "flex_flow": null,
            "grid_area": null,
            "grid_auto_columns": null,
            "grid_auto_flow": null,
            "grid_auto_rows": null,
            "grid_column": null,
            "grid_gap": null,
            "grid_row": null,
            "grid_template_areas": null,
            "grid_template_columns": null,
            "grid_template_rows": null,
            "height": null,
            "justify_content": null,
            "justify_items": null,
            "left": null,
            "margin": null,
            "max_height": null,
            "max_width": null,
            "min_height": null,
            "min_width": null,
            "object_fit": null,
            "object_position": null,
            "order": null,
            "overflow": null,
            "overflow_x": null,
            "overflow_y": null,
            "padding": null,
            "right": null,
            "top": null,
            "visibility": null,
            "width": null
          }
        },
        "36426541fe184277a1d2406f2e36f633": {
          "model_module": "@jupyter-widgets/controls",
          "model_module_version": "1.5.0",
          "model_name": "DescriptionStyleModel",
          "state": {
            "_model_module": "@jupyter-widgets/controls",
            "_model_module_version": "1.5.0",
            "_model_name": "DescriptionStyleModel",
            "_view_count": null,
            "_view_module": "@jupyter-widgets/base",
            "_view_module_version": "1.2.0",
            "_view_name": "StyleView",
            "description_width": ""
          }
        },
        "3b94f37492cb4c47a08ee2f5ce018fae": {
          "model_module": "@jupyter-widgets/controls",
          "model_module_version": "1.5.0",
          "model_name": "DescriptionStyleModel",
          "state": {
            "_model_module": "@jupyter-widgets/controls",
            "_model_module_version": "1.5.0",
            "_model_name": "DescriptionStyleModel",
            "_view_count": null,
            "_view_module": "@jupyter-widgets/base",
            "_view_module_version": "1.2.0",
            "_view_name": "StyleView",
            "description_width": ""
          }
        },
        "464521c4685147a884081de6f8b51e16": {
          "model_module": "@jupyter-widgets/controls",
          "model_module_version": "1.5.0",
          "model_name": "HTMLModel",
          "state": {
            "_dom_classes": [],
            "_model_module": "@jupyter-widgets/controls",
            "_model_module_version": "1.5.0",
            "_model_name": "HTMLModel",
            "_view_count": null,
            "_view_module": "@jupyter-widgets/controls",
            "_view_module_version": "1.5.0",
            "_view_name": "HTMLView",
            "description": "",
            "description_tooltip": null,
            "layout": "IPY_MODEL_8fa587668c1d495c9395884e1b5f6ada",
            "placeholder": "​",
            "style": "IPY_MODEL_3b94f37492cb4c47a08ee2f5ce018fae",
            "value": " 18248/18248 [02:54&lt;00:00, 117.60it/s]"
          }
        },
        "46d499e2b36e4ba1a89daa71b20b1ee6": {
          "model_module": "@jupyter-widgets/controls",
          "model_module_version": "1.5.0",
          "model_name": "HTMLModel",
          "state": {
            "_dom_classes": [],
            "_model_module": "@jupyter-widgets/controls",
            "_model_module_version": "1.5.0",
            "_model_name": "HTMLModel",
            "_view_count": null,
            "_view_module": "@jupyter-widgets/controls",
            "_view_module_version": "1.5.0",
            "_view_name": "HTMLView",
            "description": "",
            "description_tooltip": null,
            "layout": "IPY_MODEL_90be841a99d84a929b5aa5eefa722255",
            "placeholder": "​",
            "style": "IPY_MODEL_c5b31bd0c8fc415a8e9abbbff1896a93",
            "value": " 18248/18248 [20:43&lt;00:00, 14.49it/s]"
          }
        },
        "4c3461716c0a45639a57c6e159d7642a": {
          "model_module": "@jupyter-widgets/controls",
          "model_module_version": "1.5.0",
          "model_name": "DescriptionStyleModel",
          "state": {
            "_model_module": "@jupyter-widgets/controls",
            "_model_module_version": "1.5.0",
            "_model_name": "DescriptionStyleModel",
            "_view_count": null,
            "_view_module": "@jupyter-widgets/base",
            "_view_module_version": "1.2.0",
            "_view_name": "StyleView",
            "description_width": ""
          }
        },
        "4cae899626ef49079aaa817dc8c8dfe0": {
          "model_module": "@jupyter-widgets/controls",
          "model_module_version": "1.5.0",
          "model_name": "HTMLModel",
          "state": {
            "_dom_classes": [],
            "_model_module": "@jupyter-widgets/controls",
            "_model_module_version": "1.5.0",
            "_model_name": "HTMLModel",
            "_view_count": null,
            "_view_module": "@jupyter-widgets/controls",
            "_view_module_version": "1.5.0",
            "_view_name": "HTMLView",
            "description": "",
            "description_tooltip": null,
            "layout": "IPY_MODEL_57b1b5e315484be59fe52a7113077974",
            "placeholder": "​",
            "style": "IPY_MODEL_f39a60da9e884bc6afdbde4f549ab1f7",
            "value": "100%"
          }
        },
        "4ccc09e2bdf544dcabf485408a84a04c": {
          "model_module": "@jupyter-widgets/base",
          "model_module_version": "1.2.0",
          "model_name": "LayoutModel",
          "state": {
            "_model_module": "@jupyter-widgets/base",
            "_model_module_version": "1.2.0",
            "_model_name": "LayoutModel",
            "_view_count": null,
            "_view_module": "@jupyter-widgets/base",
            "_view_module_version": "1.2.0",
            "_view_name": "LayoutView",
            "align_content": null,
            "align_items": null,
            "align_self": null,
            "border": null,
            "bottom": null,
            "display": null,
            "flex": null,
            "flex_flow": null,
            "grid_area": null,
            "grid_auto_columns": null,
            "grid_auto_flow": null,
            "grid_auto_rows": null,
            "grid_column": null,
            "grid_gap": null,
            "grid_row": null,
            "grid_template_areas": null,
            "grid_template_columns": null,
            "grid_template_rows": null,
            "height": null,
            "justify_content": null,
            "justify_items": null,
            "left": null,
            "margin": null,
            "max_height": null,
            "max_width": null,
            "min_height": null,
            "min_width": null,
            "object_fit": null,
            "object_position": null,
            "order": null,
            "overflow": null,
            "overflow_x": null,
            "overflow_y": null,
            "padding": null,
            "right": null,
            "top": null,
            "visibility": null,
            "width": null
          }
        },
        "4ffe4e90bfa24722895898f3abd71236": {
          "model_module": "@jupyter-widgets/base",
          "model_module_version": "1.2.0",
          "model_name": "LayoutModel",
          "state": {
            "_model_module": "@jupyter-widgets/base",
            "_model_module_version": "1.2.0",
            "_model_name": "LayoutModel",
            "_view_count": null,
            "_view_module": "@jupyter-widgets/base",
            "_view_module_version": "1.2.0",
            "_view_name": "LayoutView",
            "align_content": null,
            "align_items": null,
            "align_self": null,
            "border": null,
            "bottom": null,
            "display": null,
            "flex": null,
            "flex_flow": null,
            "grid_area": null,
            "grid_auto_columns": null,
            "grid_auto_flow": null,
            "grid_auto_rows": null,
            "grid_column": null,
            "grid_gap": null,
            "grid_row": null,
            "grid_template_areas": null,
            "grid_template_columns": null,
            "grid_template_rows": null,
            "height": null,
            "justify_content": null,
            "justify_items": null,
            "left": null,
            "margin": null,
            "max_height": null,
            "max_width": null,
            "min_height": null,
            "min_width": null,
            "object_fit": null,
            "object_position": null,
            "order": null,
            "overflow": null,
            "overflow_x": null,
            "overflow_y": null,
            "padding": null,
            "right": null,
            "top": null,
            "visibility": null,
            "width": null
          }
        },
        "51d93f86db6c44d8b3baa98b13a162d0": {
          "model_module": "@jupyter-widgets/base",
          "model_module_version": "1.2.0",
          "model_name": "LayoutModel",
          "state": {
            "_model_module": "@jupyter-widgets/base",
            "_model_module_version": "1.2.0",
            "_model_name": "LayoutModel",
            "_view_count": null,
            "_view_module": "@jupyter-widgets/base",
            "_view_module_version": "1.2.0",
            "_view_name": "LayoutView",
            "align_content": null,
            "align_items": null,
            "align_self": null,
            "border": null,
            "bottom": null,
            "display": null,
            "flex": null,
            "flex_flow": null,
            "grid_area": null,
            "grid_auto_columns": null,
            "grid_auto_flow": null,
            "grid_auto_rows": null,
            "grid_column": null,
            "grid_gap": null,
            "grid_row": null,
            "grid_template_areas": null,
            "grid_template_columns": null,
            "grid_template_rows": null,
            "height": null,
            "justify_content": null,
            "justify_items": null,
            "left": null,
            "margin": null,
            "max_height": null,
            "max_width": null,
            "min_height": null,
            "min_width": null,
            "object_fit": null,
            "object_position": null,
            "order": null,
            "overflow": null,
            "overflow_x": null,
            "overflow_y": null,
            "padding": null,
            "right": null,
            "top": null,
            "visibility": null,
            "width": null
          }
        },
        "51e2fc955ab041dfba0a78d4872a2e84": {
          "model_module": "@jupyter-widgets/controls",
          "model_module_version": "1.5.0",
          "model_name": "HTMLModel",
          "state": {
            "_dom_classes": [],
            "_model_module": "@jupyter-widgets/controls",
            "_model_module_version": "1.5.0",
            "_model_name": "HTMLModel",
            "_view_count": null,
            "_view_module": "@jupyter-widgets/controls",
            "_view_module_version": "1.5.0",
            "_view_name": "HTMLView",
            "description": "",
            "description_tooltip": null,
            "layout": "IPY_MODEL_c2739bb9f2ab4c61bd8dd98e06008864",
            "placeholder": "​",
            "style": "IPY_MODEL_c9029820deef484a941f3925bac4020d",
            "value": " 18248/18248 [1:51:18&lt;00:00,  2.86it/s]"
          }
        },
        "51e499dd53b34eb59777da5dcf6ca4d9": {
          "model_module": "@jupyter-widgets/controls",
          "model_module_version": "1.5.0",
          "model_name": "DescriptionStyleModel",
          "state": {
            "_model_module": "@jupyter-widgets/controls",
            "_model_module_version": "1.5.0",
            "_model_name": "DescriptionStyleModel",
            "_view_count": null,
            "_view_module": "@jupyter-widgets/base",
            "_view_module_version": "1.2.0",
            "_view_name": "StyleView",
            "description_width": ""
          }
        },
        "57b1b5e315484be59fe52a7113077974": {
          "model_module": "@jupyter-widgets/base",
          "model_module_version": "1.2.0",
          "model_name": "LayoutModel",
          "state": {
            "_model_module": "@jupyter-widgets/base",
            "_model_module_version": "1.2.0",
            "_model_name": "LayoutModel",
            "_view_count": null,
            "_view_module": "@jupyter-widgets/base",
            "_view_module_version": "1.2.0",
            "_view_name": "LayoutView",
            "align_content": null,
            "align_items": null,
            "align_self": null,
            "border": null,
            "bottom": null,
            "display": null,
            "flex": null,
            "flex_flow": null,
            "grid_area": null,
            "grid_auto_columns": null,
            "grid_auto_flow": null,
            "grid_auto_rows": null,
            "grid_column": null,
            "grid_gap": null,
            "grid_row": null,
            "grid_template_areas": null,
            "grid_template_columns": null,
            "grid_template_rows": null,
            "height": null,
            "justify_content": null,
            "justify_items": null,
            "left": null,
            "margin": null,
            "max_height": null,
            "max_width": null,
            "min_height": null,
            "min_width": null,
            "object_fit": null,
            "object_position": null,
            "order": null,
            "overflow": null,
            "overflow_x": null,
            "overflow_y": null,
            "padding": null,
            "right": null,
            "top": null,
            "visibility": null,
            "width": null
          }
        },
        "5ab56c7782204ccab310706d9c3b1f62": {
          "model_module": "@jupyter-widgets/base",
          "model_module_version": "1.2.0",
          "model_name": "LayoutModel",
          "state": {
            "_model_module": "@jupyter-widgets/base",
            "_model_module_version": "1.2.0",
            "_model_name": "LayoutModel",
            "_view_count": null,
            "_view_module": "@jupyter-widgets/base",
            "_view_module_version": "1.2.0",
            "_view_name": "LayoutView",
            "align_content": null,
            "align_items": null,
            "align_self": null,
            "border": null,
            "bottom": null,
            "display": null,
            "flex": null,
            "flex_flow": null,
            "grid_area": null,
            "grid_auto_columns": null,
            "grid_auto_flow": null,
            "grid_auto_rows": null,
            "grid_column": null,
            "grid_gap": null,
            "grid_row": null,
            "grid_template_areas": null,
            "grid_template_columns": null,
            "grid_template_rows": null,
            "height": null,
            "justify_content": null,
            "justify_items": null,
            "left": null,
            "margin": null,
            "max_height": null,
            "max_width": null,
            "min_height": null,
            "min_width": null,
            "object_fit": null,
            "object_position": null,
            "order": null,
            "overflow": null,
            "overflow_x": null,
            "overflow_y": null,
            "padding": null,
            "right": null,
            "top": null,
            "visibility": null,
            "width": null
          }
        },
        "5bfc9379cccd49fe9d9a8441cbe2a57a": {
          "model_module": "@jupyter-widgets/base",
          "model_module_version": "1.2.0",
          "model_name": "LayoutModel",
          "state": {
            "_model_module": "@jupyter-widgets/base",
            "_model_module_version": "1.2.0",
            "_model_name": "LayoutModel",
            "_view_count": null,
            "_view_module": "@jupyter-widgets/base",
            "_view_module_version": "1.2.0",
            "_view_name": "LayoutView",
            "align_content": null,
            "align_items": null,
            "align_self": null,
            "border": null,
            "bottom": null,
            "display": null,
            "flex": null,
            "flex_flow": null,
            "grid_area": null,
            "grid_auto_columns": null,
            "grid_auto_flow": null,
            "grid_auto_rows": null,
            "grid_column": null,
            "grid_gap": null,
            "grid_row": null,
            "grid_template_areas": null,
            "grid_template_columns": null,
            "grid_template_rows": null,
            "height": null,
            "justify_content": null,
            "justify_items": null,
            "left": null,
            "margin": null,
            "max_height": null,
            "max_width": null,
            "min_height": null,
            "min_width": null,
            "object_fit": null,
            "object_position": null,
            "order": null,
            "overflow": null,
            "overflow_x": null,
            "overflow_y": null,
            "padding": null,
            "right": null,
            "top": null,
            "visibility": null,
            "width": null
          }
        },
        "5d0d4f5f4f424a009c69c4634a296e4f": {
          "model_module": "@jupyter-widgets/base",
          "model_module_version": "1.2.0",
          "model_name": "LayoutModel",
          "state": {
            "_model_module": "@jupyter-widgets/base",
            "_model_module_version": "1.2.0",
            "_model_name": "LayoutModel",
            "_view_count": null,
            "_view_module": "@jupyter-widgets/base",
            "_view_module_version": "1.2.0",
            "_view_name": "LayoutView",
            "align_content": null,
            "align_items": null,
            "align_self": null,
            "border": null,
            "bottom": null,
            "display": null,
            "flex": null,
            "flex_flow": null,
            "grid_area": null,
            "grid_auto_columns": null,
            "grid_auto_flow": null,
            "grid_auto_rows": null,
            "grid_column": null,
            "grid_gap": null,
            "grid_row": null,
            "grid_template_areas": null,
            "grid_template_columns": null,
            "grid_template_rows": null,
            "height": null,
            "justify_content": null,
            "justify_items": null,
            "left": null,
            "margin": null,
            "max_height": null,
            "max_width": null,
            "min_height": null,
            "min_width": null,
            "object_fit": null,
            "object_position": null,
            "order": null,
            "overflow": null,
            "overflow_x": null,
            "overflow_y": null,
            "padding": null,
            "right": null,
            "top": null,
            "visibility": null,
            "width": null
          }
        },
        "5ee00514176d406fa1037d0113b74555": {
          "model_module": "@jupyter-widgets/base",
          "model_module_version": "1.2.0",
          "model_name": "LayoutModel",
          "state": {
            "_model_module": "@jupyter-widgets/base",
            "_model_module_version": "1.2.0",
            "_model_name": "LayoutModel",
            "_view_count": null,
            "_view_module": "@jupyter-widgets/base",
            "_view_module_version": "1.2.0",
            "_view_name": "LayoutView",
            "align_content": null,
            "align_items": null,
            "align_self": null,
            "border": null,
            "bottom": null,
            "display": null,
            "flex": null,
            "flex_flow": null,
            "grid_area": null,
            "grid_auto_columns": null,
            "grid_auto_flow": null,
            "grid_auto_rows": null,
            "grid_column": null,
            "grid_gap": null,
            "grid_row": null,
            "grid_template_areas": null,
            "grid_template_columns": null,
            "grid_template_rows": null,
            "height": null,
            "justify_content": null,
            "justify_items": null,
            "left": null,
            "margin": null,
            "max_height": null,
            "max_width": null,
            "min_height": null,
            "min_width": null,
            "object_fit": null,
            "object_position": null,
            "order": null,
            "overflow": null,
            "overflow_x": null,
            "overflow_y": null,
            "padding": null,
            "right": null,
            "top": null,
            "visibility": null,
            "width": null
          }
        },
        "60a008039ab74fc7bdf6530f0dc133dd": {
          "model_module": "@jupyter-widgets/base",
          "model_module_version": "1.2.0",
          "model_name": "LayoutModel",
          "state": {
            "_model_module": "@jupyter-widgets/base",
            "_model_module_version": "1.2.0",
            "_model_name": "LayoutModel",
            "_view_count": null,
            "_view_module": "@jupyter-widgets/base",
            "_view_module_version": "1.2.0",
            "_view_name": "LayoutView",
            "align_content": null,
            "align_items": null,
            "align_self": null,
            "border": null,
            "bottom": null,
            "display": null,
            "flex": null,
            "flex_flow": null,
            "grid_area": null,
            "grid_auto_columns": null,
            "grid_auto_flow": null,
            "grid_auto_rows": null,
            "grid_column": null,
            "grid_gap": null,
            "grid_row": null,
            "grid_template_areas": null,
            "grid_template_columns": null,
            "grid_template_rows": null,
            "height": null,
            "justify_content": null,
            "justify_items": null,
            "left": null,
            "margin": null,
            "max_height": null,
            "max_width": null,
            "min_height": null,
            "min_width": null,
            "object_fit": null,
            "object_position": null,
            "order": null,
            "overflow": null,
            "overflow_x": null,
            "overflow_y": null,
            "padding": null,
            "right": null,
            "top": null,
            "visibility": null,
            "width": null
          }
        },
        "6372b0c222f441a0b4074f28210ef20d": {
          "model_module": "@jupyter-widgets/controls",
          "model_module_version": "1.5.0",
          "model_name": "ProgressStyleModel",
          "state": {
            "_model_module": "@jupyter-widgets/controls",
            "_model_module_version": "1.5.0",
            "_model_name": "ProgressStyleModel",
            "_view_count": null,
            "_view_module": "@jupyter-widgets/base",
            "_view_module_version": "1.2.0",
            "_view_name": "StyleView",
            "bar_color": null,
            "description_width": ""
          }
        },
        "63db8399520642dcb46958a04f4f6dd5": {
          "model_module": "@jupyter-widgets/controls",
          "model_module_version": "1.5.0",
          "model_name": "DescriptionStyleModel",
          "state": {
            "_model_module": "@jupyter-widgets/controls",
            "_model_module_version": "1.5.0",
            "_model_name": "DescriptionStyleModel",
            "_view_count": null,
            "_view_module": "@jupyter-widgets/base",
            "_view_module_version": "1.2.0",
            "_view_name": "StyleView",
            "description_width": ""
          }
        },
        "63fde408f3ff4b4e8ce96b59a06aaa7f": {
          "model_module": "@jupyter-widgets/controls",
          "model_module_version": "1.5.0",
          "model_name": "FloatProgressModel",
          "state": {
            "_dom_classes": [],
            "_model_module": "@jupyter-widgets/controls",
            "_model_module_version": "1.5.0",
            "_model_name": "FloatProgressModel",
            "_view_count": null,
            "_view_module": "@jupyter-widgets/controls",
            "_view_module_version": "1.5.0",
            "_view_name": "ProgressView",
            "bar_style": "success",
            "description": "",
            "description_tooltip": null,
            "layout": "IPY_MODEL_5ee00514176d406fa1037d0113b74555",
            "max": 49,
            "min": 0,
            "orientation": "horizontal",
            "style": "IPY_MODEL_6372b0c222f441a0b4074f28210ef20d",
            "value": 49
          }
        },
        "66eef565453243ba92bd5e4ca337a062": {
          "model_module": "@jupyter-widgets/controls",
          "model_module_version": "1.5.0",
          "model_name": "HTMLModel",
          "state": {
            "_dom_classes": [],
            "_model_module": "@jupyter-widgets/controls",
            "_model_module_version": "1.5.0",
            "_model_name": "HTMLModel",
            "_view_count": null,
            "_view_module": "@jupyter-widgets/controls",
            "_view_module_version": "1.5.0",
            "_view_name": "HTMLView",
            "description": "",
            "description_tooltip": null,
            "layout": "IPY_MODEL_dbf331f8b78a4bd6bd828368dec7ba0f",
            "placeholder": "​",
            "style": "IPY_MODEL_1e96e81a9ff540cb9e338f1b56c61862",
            "value": " 18248/18248 [01:42&lt;00:00, 222.47it/s]"
          }
        },
        "6e4be93b3fc145a08933cb597d69e097": {
          "model_module": "@jupyter-widgets/base",
          "model_module_version": "1.2.0",
          "model_name": "LayoutModel",
          "state": {
            "_model_module": "@jupyter-widgets/base",
            "_model_module_version": "1.2.0",
            "_model_name": "LayoutModel",
            "_view_count": null,
            "_view_module": "@jupyter-widgets/base",
            "_view_module_version": "1.2.0",
            "_view_name": "LayoutView",
            "align_content": null,
            "align_items": null,
            "align_self": null,
            "border": null,
            "bottom": null,
            "display": null,
            "flex": null,
            "flex_flow": null,
            "grid_area": null,
            "grid_auto_columns": null,
            "grid_auto_flow": null,
            "grid_auto_rows": null,
            "grid_column": null,
            "grid_gap": null,
            "grid_row": null,
            "grid_template_areas": null,
            "grid_template_columns": null,
            "grid_template_rows": null,
            "height": null,
            "justify_content": null,
            "justify_items": null,
            "left": null,
            "margin": null,
            "max_height": null,
            "max_width": null,
            "min_height": null,
            "min_width": null,
            "object_fit": null,
            "object_position": null,
            "order": null,
            "overflow": null,
            "overflow_x": null,
            "overflow_y": null,
            "padding": null,
            "right": null,
            "top": null,
            "visibility": null,
            "width": null
          }
        },
        "7afef307d1f2420a97d4f3e03389997c": {
          "model_module": "@jupyter-widgets/base",
          "model_module_version": "1.2.0",
          "model_name": "LayoutModel",
          "state": {
            "_model_module": "@jupyter-widgets/base",
            "_model_module_version": "1.2.0",
            "_model_name": "LayoutModel",
            "_view_count": null,
            "_view_module": "@jupyter-widgets/base",
            "_view_module_version": "1.2.0",
            "_view_name": "LayoutView",
            "align_content": null,
            "align_items": null,
            "align_self": null,
            "border": null,
            "bottom": null,
            "display": null,
            "flex": null,
            "flex_flow": null,
            "grid_area": null,
            "grid_auto_columns": null,
            "grid_auto_flow": null,
            "grid_auto_rows": null,
            "grid_column": null,
            "grid_gap": null,
            "grid_row": null,
            "grid_template_areas": null,
            "grid_template_columns": null,
            "grid_template_rows": null,
            "height": null,
            "justify_content": null,
            "justify_items": null,
            "left": null,
            "margin": null,
            "max_height": null,
            "max_width": null,
            "min_height": null,
            "min_width": null,
            "object_fit": null,
            "object_position": null,
            "order": null,
            "overflow": null,
            "overflow_x": null,
            "overflow_y": null,
            "padding": null,
            "right": null,
            "top": null,
            "visibility": null,
            "width": null
          }
        },
        "7be54a37008c4e90b7616f7ad282c151": {
          "model_module": "@jupyter-widgets/controls",
          "model_module_version": "1.5.0",
          "model_name": "HTMLModel",
          "state": {
            "_dom_classes": [],
            "_model_module": "@jupyter-widgets/controls",
            "_model_module_version": "1.5.0",
            "_model_name": "HTMLModel",
            "_view_count": null,
            "_view_module": "@jupyter-widgets/controls",
            "_view_module_version": "1.5.0",
            "_view_name": "HTMLView",
            "description": "",
            "description_tooltip": null,
            "layout": "IPY_MODEL_fcae6a78dbcc477181a436b8a3f89ecc",
            "placeholder": "​",
            "style": "IPY_MODEL_ab53f9d519da4f86a4416967f0e9c671",
            "value": " 18248/18248 [00:00&lt;00:00, 40460.92it/s]"
          }
        },
        "7d1dc304256c49aa90ce459184df1e3a": {
          "model_module": "@jupyter-widgets/base",
          "model_module_version": "1.2.0",
          "model_name": "LayoutModel",
          "state": {
            "_model_module": "@jupyter-widgets/base",
            "_model_module_version": "1.2.0",
            "_model_name": "LayoutModel",
            "_view_count": null,
            "_view_module": "@jupyter-widgets/base",
            "_view_module_version": "1.2.0",
            "_view_name": "LayoutView",
            "align_content": null,
            "align_items": null,
            "align_self": null,
            "border": null,
            "bottom": null,
            "display": null,
            "flex": null,
            "flex_flow": null,
            "grid_area": null,
            "grid_auto_columns": null,
            "grid_auto_flow": null,
            "grid_auto_rows": null,
            "grid_column": null,
            "grid_gap": null,
            "grid_row": null,
            "grid_template_areas": null,
            "grid_template_columns": null,
            "grid_template_rows": null,
            "height": null,
            "justify_content": null,
            "justify_items": null,
            "left": null,
            "margin": null,
            "max_height": null,
            "max_width": null,
            "min_height": null,
            "min_width": null,
            "object_fit": null,
            "object_position": null,
            "order": null,
            "overflow": null,
            "overflow_x": null,
            "overflow_y": null,
            "padding": null,
            "right": null,
            "top": null,
            "visibility": null,
            "width": null
          }
        },
        "8fa587668c1d495c9395884e1b5f6ada": {
          "model_module": "@jupyter-widgets/base",
          "model_module_version": "1.2.0",
          "model_name": "LayoutModel",
          "state": {
            "_model_module": "@jupyter-widgets/base",
            "_model_module_version": "1.2.0",
            "_model_name": "LayoutModel",
            "_view_count": null,
            "_view_module": "@jupyter-widgets/base",
            "_view_module_version": "1.2.0",
            "_view_name": "LayoutView",
            "align_content": null,
            "align_items": null,
            "align_self": null,
            "border": null,
            "bottom": null,
            "display": null,
            "flex": null,
            "flex_flow": null,
            "grid_area": null,
            "grid_auto_columns": null,
            "grid_auto_flow": null,
            "grid_auto_rows": null,
            "grid_column": null,
            "grid_gap": null,
            "grid_row": null,
            "grid_template_areas": null,
            "grid_template_columns": null,
            "grid_template_rows": null,
            "height": null,
            "justify_content": null,
            "justify_items": null,
            "left": null,
            "margin": null,
            "max_height": null,
            "max_width": null,
            "min_height": null,
            "min_width": null,
            "object_fit": null,
            "object_position": null,
            "order": null,
            "overflow": null,
            "overflow_x": null,
            "overflow_y": null,
            "padding": null,
            "right": null,
            "top": null,
            "visibility": null,
            "width": null
          }
        },
        "9074db09fd0f4c51bcebd87258a2beca": {
          "model_module": "@jupyter-widgets/base",
          "model_module_version": "1.2.0",
          "model_name": "LayoutModel",
          "state": {
            "_model_module": "@jupyter-widgets/base",
            "_model_module_version": "1.2.0",
            "_model_name": "LayoutModel",
            "_view_count": null,
            "_view_module": "@jupyter-widgets/base",
            "_view_module_version": "1.2.0",
            "_view_name": "LayoutView",
            "align_content": null,
            "align_items": null,
            "align_self": null,
            "border": null,
            "bottom": null,
            "display": null,
            "flex": null,
            "flex_flow": null,
            "grid_area": null,
            "grid_auto_columns": null,
            "grid_auto_flow": null,
            "grid_auto_rows": null,
            "grid_column": null,
            "grid_gap": null,
            "grid_row": null,
            "grid_template_areas": null,
            "grid_template_columns": null,
            "grid_template_rows": null,
            "height": null,
            "justify_content": null,
            "justify_items": null,
            "left": null,
            "margin": null,
            "max_height": null,
            "max_width": null,
            "min_height": null,
            "min_width": null,
            "object_fit": null,
            "object_position": null,
            "order": null,
            "overflow": null,
            "overflow_x": null,
            "overflow_y": null,
            "padding": null,
            "right": null,
            "top": null,
            "visibility": null,
            "width": null
          }
        },
        "90be841a99d84a929b5aa5eefa722255": {
          "model_module": "@jupyter-widgets/base",
          "model_module_version": "1.2.0",
          "model_name": "LayoutModel",
          "state": {
            "_model_module": "@jupyter-widgets/base",
            "_model_module_version": "1.2.0",
            "_model_name": "LayoutModel",
            "_view_count": null,
            "_view_module": "@jupyter-widgets/base",
            "_view_module_version": "1.2.0",
            "_view_name": "LayoutView",
            "align_content": null,
            "align_items": null,
            "align_self": null,
            "border": null,
            "bottom": null,
            "display": null,
            "flex": null,
            "flex_flow": null,
            "grid_area": null,
            "grid_auto_columns": null,
            "grid_auto_flow": null,
            "grid_auto_rows": null,
            "grid_column": null,
            "grid_gap": null,
            "grid_row": null,
            "grid_template_areas": null,
            "grid_template_columns": null,
            "grid_template_rows": null,
            "height": null,
            "justify_content": null,
            "justify_items": null,
            "left": null,
            "margin": null,
            "max_height": null,
            "max_width": null,
            "min_height": null,
            "min_width": null,
            "object_fit": null,
            "object_position": null,
            "order": null,
            "overflow": null,
            "overflow_x": null,
            "overflow_y": null,
            "padding": null,
            "right": null,
            "top": null,
            "visibility": null,
            "width": null
          }
        },
        "940c7955aba44719bd7c6a1640f2e40d": {
          "model_module": "@jupyter-widgets/controls",
          "model_module_version": "1.5.0",
          "model_name": "HTMLModel",
          "state": {
            "_dom_classes": [],
            "_model_module": "@jupyter-widgets/controls",
            "_model_module_version": "1.5.0",
            "_model_name": "HTMLModel",
            "_view_count": null,
            "_view_module": "@jupyter-widgets/controls",
            "_view_module_version": "1.5.0",
            "_view_name": "HTMLView",
            "description": "",
            "description_tooltip": null,
            "layout": "IPY_MODEL_60a008039ab74fc7bdf6530f0dc133dd",
            "placeholder": "​",
            "style": "IPY_MODEL_1b3eeaecd29442429033ddf5735b304e",
            "value": " 18248/18248 [01:35&lt;00:00, 71.98it/s]"
          }
        },
        "980c6e8276b94c9db6e5c35e7b16ac5d": {
          "model_module": "@jupyter-widgets/base",
          "model_module_version": "1.2.0",
          "model_name": "LayoutModel",
          "state": {
            "_model_module": "@jupyter-widgets/base",
            "_model_module_version": "1.2.0",
            "_model_name": "LayoutModel",
            "_view_count": null,
            "_view_module": "@jupyter-widgets/base",
            "_view_module_version": "1.2.0",
            "_view_name": "LayoutView",
            "align_content": null,
            "align_items": null,
            "align_self": null,
            "border": null,
            "bottom": null,
            "display": null,
            "flex": null,
            "flex_flow": null,
            "grid_area": null,
            "grid_auto_columns": null,
            "grid_auto_flow": null,
            "grid_auto_rows": null,
            "grid_column": null,
            "grid_gap": null,
            "grid_row": null,
            "grid_template_areas": null,
            "grid_template_columns": null,
            "grid_template_rows": null,
            "height": null,
            "justify_content": null,
            "justify_items": null,
            "left": null,
            "margin": null,
            "max_height": null,
            "max_width": null,
            "min_height": null,
            "min_width": null,
            "object_fit": null,
            "object_position": null,
            "order": null,
            "overflow": null,
            "overflow_x": null,
            "overflow_y": null,
            "padding": null,
            "right": null,
            "top": null,
            "visibility": null,
            "width": null
          }
        },
        "98700a69a1fa4e869dbd941ea57d1ffa": {
          "model_module": "@jupyter-widgets/base",
          "model_module_version": "1.2.0",
          "model_name": "LayoutModel",
          "state": {
            "_model_module": "@jupyter-widgets/base",
            "_model_module_version": "1.2.0",
            "_model_name": "LayoutModel",
            "_view_count": null,
            "_view_module": "@jupyter-widgets/base",
            "_view_module_version": "1.2.0",
            "_view_name": "LayoutView",
            "align_content": null,
            "align_items": null,
            "align_self": null,
            "border": null,
            "bottom": null,
            "display": null,
            "flex": null,
            "flex_flow": null,
            "grid_area": null,
            "grid_auto_columns": null,
            "grid_auto_flow": null,
            "grid_auto_rows": null,
            "grid_column": null,
            "grid_gap": null,
            "grid_row": null,
            "grid_template_areas": null,
            "grid_template_columns": null,
            "grid_template_rows": null,
            "height": null,
            "justify_content": null,
            "justify_items": null,
            "left": null,
            "margin": null,
            "max_height": null,
            "max_width": null,
            "min_height": null,
            "min_width": null,
            "object_fit": null,
            "object_position": null,
            "order": null,
            "overflow": null,
            "overflow_x": null,
            "overflow_y": null,
            "padding": null,
            "right": null,
            "top": null,
            "visibility": null,
            "width": null
          }
        },
        "9883e91887a9485c9cfce83df51a6d99": {
          "model_module": "@jupyter-widgets/base",
          "model_module_version": "1.2.0",
          "model_name": "LayoutModel",
          "state": {
            "_model_module": "@jupyter-widgets/base",
            "_model_module_version": "1.2.0",
            "_model_name": "LayoutModel",
            "_view_count": null,
            "_view_module": "@jupyter-widgets/base",
            "_view_module_version": "1.2.0",
            "_view_name": "LayoutView",
            "align_content": null,
            "align_items": null,
            "align_self": null,
            "border": null,
            "bottom": null,
            "display": null,
            "flex": null,
            "flex_flow": null,
            "grid_area": null,
            "grid_auto_columns": null,
            "grid_auto_flow": null,
            "grid_auto_rows": null,
            "grid_column": null,
            "grid_gap": null,
            "grid_row": null,
            "grid_template_areas": null,
            "grid_template_columns": null,
            "grid_template_rows": null,
            "height": null,
            "justify_content": null,
            "justify_items": null,
            "left": null,
            "margin": null,
            "max_height": null,
            "max_width": null,
            "min_height": null,
            "min_width": null,
            "object_fit": null,
            "object_position": null,
            "order": null,
            "overflow": null,
            "overflow_x": null,
            "overflow_y": null,
            "padding": null,
            "right": null,
            "top": null,
            "visibility": null,
            "width": null
          }
        },
        "99de54131bde41259753ab724263cde7": {
          "model_module": "@jupyter-widgets/controls",
          "model_module_version": "1.5.0",
          "model_name": "HBoxModel",
          "state": {
            "_dom_classes": [],
            "_model_module": "@jupyter-widgets/controls",
            "_model_module_version": "1.5.0",
            "_model_name": "HBoxModel",
            "_view_count": null,
            "_view_module": "@jupyter-widgets/controls",
            "_view_module_version": "1.5.0",
            "_view_name": "HBoxView",
            "box_style": "",
            "children": [
              "IPY_MODEL_b3b8732dcb9246849ba8bd9081e5b9ea",
              "IPY_MODEL_63fde408f3ff4b4e8ce96b59a06aaa7f",
              "IPY_MODEL_a8d73085bc7d4cacadd48c0a3fdce240"
            ],
            "layout": "IPY_MODEL_ce250cb1f5a04fa2b8e08d81211e5806"
          }
        },
        "9a924f3c11b1411cbcf5e5e32f3b97cd": {
          "model_module": "@jupyter-widgets/controls",
          "model_module_version": "1.5.0",
          "model_name": "FloatProgressModel",
          "state": {
            "_dom_classes": [],
            "_model_module": "@jupyter-widgets/controls",
            "_model_module_version": "1.5.0",
            "_model_name": "FloatProgressModel",
            "_view_count": null,
            "_view_module": "@jupyter-widgets/controls",
            "_view_module_version": "1.5.0",
            "_view_name": "ProgressView",
            "bar_style": "success",
            "description": "",
            "description_tooltip": null,
            "layout": "IPY_MODEL_4ccc09e2bdf544dcabf485408a84a04c",
            "max": 18248,
            "min": 0,
            "orientation": "horizontal",
            "style": "IPY_MODEL_e28be1c9ea524955ae16451a2cfcdb91",
            "value": 18248
          }
        },
        "9ada97efc93549b6b1f7b0b48ed65e12": {
          "model_module": "@jupyter-widgets/base",
          "model_module_version": "1.2.0",
          "model_name": "LayoutModel",
          "state": {
            "_model_module": "@jupyter-widgets/base",
            "_model_module_version": "1.2.0",
            "_model_name": "LayoutModel",
            "_view_count": null,
            "_view_module": "@jupyter-widgets/base",
            "_view_module_version": "1.2.0",
            "_view_name": "LayoutView",
            "align_content": null,
            "align_items": null,
            "align_self": null,
            "border": null,
            "bottom": null,
            "display": null,
            "flex": null,
            "flex_flow": null,
            "grid_area": null,
            "grid_auto_columns": null,
            "grid_auto_flow": null,
            "grid_auto_rows": null,
            "grid_column": null,
            "grid_gap": null,
            "grid_row": null,
            "grid_template_areas": null,
            "grid_template_columns": null,
            "grid_template_rows": null,
            "height": null,
            "justify_content": null,
            "justify_items": null,
            "left": null,
            "margin": null,
            "max_height": null,
            "max_width": null,
            "min_height": null,
            "min_width": null,
            "object_fit": null,
            "object_position": null,
            "order": null,
            "overflow": null,
            "overflow_x": null,
            "overflow_y": null,
            "padding": null,
            "right": null,
            "top": null,
            "visibility": null,
            "width": null
          }
        },
        "a229173064664ad58c19c8a6c188dc5f": {
          "model_module": "@jupyter-widgets/controls",
          "model_module_version": "1.5.0",
          "model_name": "ProgressStyleModel",
          "state": {
            "_model_module": "@jupyter-widgets/controls",
            "_model_module_version": "1.5.0",
            "_model_name": "ProgressStyleModel",
            "_view_count": null,
            "_view_module": "@jupyter-widgets/base",
            "_view_module_version": "1.2.0",
            "_view_name": "StyleView",
            "bar_color": null,
            "description_width": ""
          }
        },
        "a28d38142b0a44818a4d84bff473728e": {
          "model_module": "@jupyter-widgets/controls",
          "model_module_version": "1.5.0",
          "model_name": "HTMLModel",
          "state": {
            "_dom_classes": [],
            "_model_module": "@jupyter-widgets/controls",
            "_model_module_version": "1.5.0",
            "_model_name": "HTMLModel",
            "_view_count": null,
            "_view_module": "@jupyter-widgets/controls",
            "_view_module_version": "1.5.0",
            "_view_name": "HTMLView",
            "description": "",
            "description_tooltip": null,
            "layout": "IPY_MODEL_da625ecf5d52460883dc3a7477829c23",
            "placeholder": "​",
            "style": "IPY_MODEL_51e499dd53b34eb59777da5dcf6ca4d9",
            "value": "100%"
          }
        },
        "a5ff789224dc47848de9fef81d0fe4e8": {
          "model_module": "@jupyter-widgets/controls",
          "model_module_version": "1.5.0",
          "model_name": "HBoxModel",
          "state": {
            "_dom_classes": [],
            "_model_module": "@jupyter-widgets/controls",
            "_model_module_version": "1.5.0",
            "_model_name": "HBoxModel",
            "_view_count": null,
            "_view_module": "@jupyter-widgets/controls",
            "_view_module_version": "1.5.0",
            "_view_name": "HBoxView",
            "box_style": "",
            "children": [
              "IPY_MODEL_bddafa8c2526424a91c9e84bd68aba36",
              "IPY_MODEL_effcc83f452540bd88378af012824352",
              "IPY_MODEL_51e2fc955ab041dfba0a78d4872a2e84"
            ],
            "layout": "IPY_MODEL_f98badac5c4d40119f8e53590bcdd698"
          }
        },
        "a8d73085bc7d4cacadd48c0a3fdce240": {
          "model_module": "@jupyter-widgets/controls",
          "model_module_version": "1.5.0",
          "model_name": "HTMLModel",
          "state": {
            "_dom_classes": [],
            "_model_module": "@jupyter-widgets/controls",
            "_model_module_version": "1.5.0",
            "_model_name": "HTMLModel",
            "_view_count": null,
            "_view_module": "@jupyter-widgets/controls",
            "_view_module_version": "1.5.0",
            "_view_name": "HTMLView",
            "description": "",
            "description_tooltip": null,
            "layout": "IPY_MODEL_9883e91887a9485c9cfce83df51a6d99",
            "placeholder": "​",
            "style": "IPY_MODEL_4c3461716c0a45639a57c6e159d7642a",
            "value": " 49/49 [00:00&lt;00:00, 119.75it/s]"
          }
        },
        "a93e83587b6e434a8c9eb070e3591175": {
          "model_module": "@jupyter-widgets/controls",
          "model_module_version": "1.5.0",
          "model_name": "DescriptionStyleModel",
          "state": {
            "_model_module": "@jupyter-widgets/controls",
            "_model_module_version": "1.5.0",
            "_model_name": "DescriptionStyleModel",
            "_view_count": null,
            "_view_module": "@jupyter-widgets/base",
            "_view_module_version": "1.2.0",
            "_view_name": "StyleView",
            "description_width": ""
          }
        },
        "ab53f9d519da4f86a4416967f0e9c671": {
          "model_module": "@jupyter-widgets/controls",
          "model_module_version": "1.5.0",
          "model_name": "DescriptionStyleModel",
          "state": {
            "_model_module": "@jupyter-widgets/controls",
            "_model_module_version": "1.5.0",
            "_model_name": "DescriptionStyleModel",
            "_view_count": null,
            "_view_module": "@jupyter-widgets/base",
            "_view_module_version": "1.2.0",
            "_view_name": "StyleView",
            "description_width": ""
          }
        },
        "ad6690225b4245e0bf06297c14bcc961": {
          "model_module": "@jupyter-widgets/controls",
          "model_module_version": "1.5.0",
          "model_name": "ProgressStyleModel",
          "state": {
            "_model_module": "@jupyter-widgets/controls",
            "_model_module_version": "1.5.0",
            "_model_name": "ProgressStyleModel",
            "_view_count": null,
            "_view_module": "@jupyter-widgets/base",
            "_view_module_version": "1.2.0",
            "_view_name": "StyleView",
            "bar_color": null,
            "description_width": ""
          }
        },
        "b275d642af6447a0ab6652e0509367d9": {
          "model_module": "@jupyter-widgets/controls",
          "model_module_version": "1.5.0",
          "model_name": "DescriptionStyleModel",
          "state": {
            "_model_module": "@jupyter-widgets/controls",
            "_model_module_version": "1.5.0",
            "_model_name": "DescriptionStyleModel",
            "_view_count": null,
            "_view_module": "@jupyter-widgets/base",
            "_view_module_version": "1.2.0",
            "_view_name": "StyleView",
            "description_width": ""
          }
        },
        "b2e0686e866b4e289de27846a702a8c1": {
          "model_module": "@jupyter-widgets/controls",
          "model_module_version": "1.5.0",
          "model_name": "FloatProgressModel",
          "state": {
            "_dom_classes": [],
            "_model_module": "@jupyter-widgets/controls",
            "_model_module_version": "1.5.0",
            "_model_name": "FloatProgressModel",
            "_view_count": null,
            "_view_module": "@jupyter-widgets/controls",
            "_view_module_version": "1.5.0",
            "_view_name": "ProgressView",
            "bar_style": "success",
            "description": "",
            "description_tooltip": null,
            "layout": "IPY_MODEL_9ada97efc93549b6b1f7b0b48ed65e12",
            "max": 18248,
            "min": 0,
            "orientation": "horizontal",
            "style": "IPY_MODEL_b43a2b7322634ba0aba7db142050ccd3",
            "value": 18248
          }
        },
        "b3b8732dcb9246849ba8bd9081e5b9ea": {
          "model_module": "@jupyter-widgets/controls",
          "model_module_version": "1.5.0",
          "model_name": "HTMLModel",
          "state": {
            "_dom_classes": [],
            "_model_module": "@jupyter-widgets/controls",
            "_model_module_version": "1.5.0",
            "_model_name": "HTMLModel",
            "_view_count": null,
            "_view_module": "@jupyter-widgets/controls",
            "_view_module_version": "1.5.0",
            "_view_name": "HTMLView",
            "description": "",
            "description_tooltip": null,
            "layout": "IPY_MODEL_5bfc9379cccd49fe9d9a8441cbe2a57a",
            "placeholder": "​",
            "style": "IPY_MODEL_f1d2090e53374d848982ff125bb5c074",
            "value": "100%"
          }
        },
        "b43a2b7322634ba0aba7db142050ccd3": {
          "model_module": "@jupyter-widgets/controls",
          "model_module_version": "1.5.0",
          "model_name": "ProgressStyleModel",
          "state": {
            "_model_module": "@jupyter-widgets/controls",
            "_model_module_version": "1.5.0",
            "_model_name": "ProgressStyleModel",
            "_view_count": null,
            "_view_module": "@jupyter-widgets/base",
            "_view_module_version": "1.2.0",
            "_view_name": "StyleView",
            "bar_color": null,
            "description_width": ""
          }
        },
        "b4aaebff28074f23bcaff3f467870701": {
          "model_module": "@jupyter-widgets/controls",
          "model_module_version": "1.5.0",
          "model_name": "HBoxModel",
          "state": {
            "_dom_classes": [],
            "_model_module": "@jupyter-widgets/controls",
            "_model_module_version": "1.5.0",
            "_model_name": "HBoxModel",
            "_view_count": null,
            "_view_module": "@jupyter-widgets/controls",
            "_view_module_version": "1.5.0",
            "_view_name": "HBoxView",
            "box_style": "",
            "children": [
              "IPY_MODEL_13bca3b22459486680c884673ac4c055",
              "IPY_MODEL_b2e0686e866b4e289de27846a702a8c1",
              "IPY_MODEL_c5e90b2507b6470c9a9f8b71f2a28013"
            ],
            "layout": "IPY_MODEL_98700a69a1fa4e869dbd941ea57d1ffa"
          }
        },
        "b518480752804ad795316d135d9528da": {
          "model_module": "@jupyter-widgets/controls",
          "model_module_version": "1.5.0",
          "model_name": "HBoxModel",
          "state": {
            "_dom_classes": [],
            "_model_module": "@jupyter-widgets/controls",
            "_model_module_version": "1.5.0",
            "_model_name": "HBoxModel",
            "_view_count": null,
            "_view_module": "@jupyter-widgets/controls",
            "_view_module_version": "1.5.0",
            "_view_name": "HBoxView",
            "box_style": "",
            "children": [
              "IPY_MODEL_25d793cd80034d0b92dbfd8914eb11bb",
              "IPY_MODEL_de22f8c42cdf4772a4553ce52ae53042",
              "IPY_MODEL_464521c4685147a884081de6f8b51e16"
            ],
            "layout": "IPY_MODEL_da636f7e05154b3ebfa7fc80a0474fee"
          }
        },
        "bddafa8c2526424a91c9e84bd68aba36": {
          "model_module": "@jupyter-widgets/controls",
          "model_module_version": "1.5.0",
          "model_name": "HTMLModel",
          "state": {
            "_dom_classes": [],
            "_model_module": "@jupyter-widgets/controls",
            "_model_module_version": "1.5.0",
            "_model_name": "HTMLModel",
            "_view_count": null,
            "_view_module": "@jupyter-widgets/controls",
            "_view_module_version": "1.5.0",
            "_view_name": "HTMLView",
            "description": "",
            "description_tooltip": null,
            "layout": "IPY_MODEL_7afef307d1f2420a97d4f3e03389997c",
            "placeholder": "​",
            "style": "IPY_MODEL_276c23673c8a400c9c887a3a2503062b",
            "value": "100%"
          }
        },
        "c14ce4af66c04db387a74c16d19752f8": {
          "model_module": "@jupyter-widgets/controls",
          "model_module_version": "1.5.0",
          "model_name": "HBoxModel",
          "state": {
            "_dom_classes": [],
            "_model_module": "@jupyter-widgets/controls",
            "_model_module_version": "1.5.0",
            "_model_name": "HBoxModel",
            "_view_count": null,
            "_view_module": "@jupyter-widgets/controls",
            "_view_module_version": "1.5.0",
            "_view_name": "HBoxView",
            "box_style": "",
            "children": [
              "IPY_MODEL_e2d4e94d1b674183bf93021a4a201160",
              "IPY_MODEL_9a924f3c11b1411cbcf5e5e32f3b97cd",
              "IPY_MODEL_940c7955aba44719bd7c6a1640f2e40d"
            ],
            "layout": "IPY_MODEL_e7eb3c7682c645eeab5cae83f24eb20c"
          }
        },
        "c2739bb9f2ab4c61bd8dd98e06008864": {
          "model_module": "@jupyter-widgets/base",
          "model_module_version": "1.2.0",
          "model_name": "LayoutModel",
          "state": {
            "_model_module": "@jupyter-widgets/base",
            "_model_module_version": "1.2.0",
            "_model_name": "LayoutModel",
            "_view_count": null,
            "_view_module": "@jupyter-widgets/base",
            "_view_module_version": "1.2.0",
            "_view_name": "LayoutView",
            "align_content": null,
            "align_items": null,
            "align_self": null,
            "border": null,
            "bottom": null,
            "display": null,
            "flex": null,
            "flex_flow": null,
            "grid_area": null,
            "grid_auto_columns": null,
            "grid_auto_flow": null,
            "grid_auto_rows": null,
            "grid_column": null,
            "grid_gap": null,
            "grid_row": null,
            "grid_template_areas": null,
            "grid_template_columns": null,
            "grid_template_rows": null,
            "height": null,
            "justify_content": null,
            "justify_items": null,
            "left": null,
            "margin": null,
            "max_height": null,
            "max_width": null,
            "min_height": null,
            "min_width": null,
            "object_fit": null,
            "object_position": null,
            "order": null,
            "overflow": null,
            "overflow_x": null,
            "overflow_y": null,
            "padding": null,
            "right": null,
            "top": null,
            "visibility": null,
            "width": null
          }
        },
        "c53fe49fcc0b49fe97078c78578880c1": {
          "model_module": "@jupyter-widgets/controls",
          "model_module_version": "1.5.0",
          "model_name": "HBoxModel",
          "state": {
            "_dom_classes": [],
            "_model_module": "@jupyter-widgets/controls",
            "_model_module_version": "1.5.0",
            "_model_name": "HBoxModel",
            "_view_count": null,
            "_view_module": "@jupyter-widgets/controls",
            "_view_module_version": "1.5.0",
            "_view_name": "HBoxView",
            "box_style": "",
            "children": [
              "IPY_MODEL_4cae899626ef49079aaa817dc8c8dfe0",
              "IPY_MODEL_ccce30bb2c8e4932986da53c3c78a8ba",
              "IPY_MODEL_7be54a37008c4e90b7616f7ad282c151"
            ],
            "layout": "IPY_MODEL_0f8a7e2d05164cd189c1e1a8c4ebbd69"
          }
        },
        "c5b31bd0c8fc415a8e9abbbff1896a93": {
          "model_module": "@jupyter-widgets/controls",
          "model_module_version": "1.5.0",
          "model_name": "DescriptionStyleModel",
          "state": {
            "_model_module": "@jupyter-widgets/controls",
            "_model_module_version": "1.5.0",
            "_model_name": "DescriptionStyleModel",
            "_view_count": null,
            "_view_module": "@jupyter-widgets/base",
            "_view_module_version": "1.2.0",
            "_view_name": "StyleView",
            "description_width": ""
          }
        },
        "c5e90b2507b6470c9a9f8b71f2a28013": {
          "model_module": "@jupyter-widgets/controls",
          "model_module_version": "1.5.0",
          "model_name": "HTMLModel",
          "state": {
            "_dom_classes": [],
            "_model_module": "@jupyter-widgets/controls",
            "_model_module_version": "1.5.0",
            "_model_name": "HTMLModel",
            "_view_count": null,
            "_view_module": "@jupyter-widgets/controls",
            "_view_module_version": "1.5.0",
            "_view_name": "HTMLView",
            "description": "",
            "description_tooltip": null,
            "layout": "IPY_MODEL_31029af4cb9845b0abc576759b5e36ad",
            "placeholder": "​",
            "style": "IPY_MODEL_36426541fe184277a1d2406f2e36f633",
            "value": " 18248/18248 [00:20&lt;00:00, 1131.69it/s]"
          }
        },
        "c75fb391511b482eaa82d09c5bcc5e5a": {
          "model_module": "@jupyter-widgets/controls",
          "model_module_version": "1.5.0",
          "model_name": "FloatProgressModel",
          "state": {
            "_dom_classes": [],
            "_model_module": "@jupyter-widgets/controls",
            "_model_module_version": "1.5.0",
            "_model_name": "FloatProgressModel",
            "_view_count": null,
            "_view_module": "@jupyter-widgets/controls",
            "_view_module_version": "1.5.0",
            "_view_name": "ProgressView",
            "bar_style": "success",
            "description": "",
            "description_tooltip": null,
            "layout": "IPY_MODEL_6e4be93b3fc145a08933cb597d69e097",
            "max": 18248,
            "min": 0,
            "orientation": "horizontal",
            "style": "IPY_MODEL_1344957dff95411cb8e07b31c5b6dbc2",
            "value": 18248
          }
        },
        "c9029820deef484a941f3925bac4020d": {
          "model_module": "@jupyter-widgets/controls",
          "model_module_version": "1.5.0",
          "model_name": "DescriptionStyleModel",
          "state": {
            "_model_module": "@jupyter-widgets/controls",
            "_model_module_version": "1.5.0",
            "_model_name": "DescriptionStyleModel",
            "_view_count": null,
            "_view_module": "@jupyter-widgets/base",
            "_view_module_version": "1.2.0",
            "_view_name": "StyleView",
            "description_width": ""
          }
        },
        "cb587eddc06d464e90388edd3716fedb": {
          "model_module": "@jupyter-widgets/controls",
          "model_module_version": "1.5.0",
          "model_name": "ProgressStyleModel",
          "state": {
            "_model_module": "@jupyter-widgets/controls",
            "_model_module_version": "1.5.0",
            "_model_name": "ProgressStyleModel",
            "_view_count": null,
            "_view_module": "@jupyter-widgets/base",
            "_view_module_version": "1.2.0",
            "_view_name": "StyleView",
            "bar_color": null,
            "description_width": ""
          }
        },
        "cbbe99a1603e4ae8869c14a0ec5486b5": {
          "model_module": "@jupyter-widgets/base",
          "model_module_version": "1.2.0",
          "model_name": "LayoutModel",
          "state": {
            "_model_module": "@jupyter-widgets/base",
            "_model_module_version": "1.2.0",
            "_model_name": "LayoutModel",
            "_view_count": null,
            "_view_module": "@jupyter-widgets/base",
            "_view_module_version": "1.2.0",
            "_view_name": "LayoutView",
            "align_content": null,
            "align_items": null,
            "align_self": null,
            "border": null,
            "bottom": null,
            "display": null,
            "flex": null,
            "flex_flow": null,
            "grid_area": null,
            "grid_auto_columns": null,
            "grid_auto_flow": null,
            "grid_auto_rows": null,
            "grid_column": null,
            "grid_gap": null,
            "grid_row": null,
            "grid_template_areas": null,
            "grid_template_columns": null,
            "grid_template_rows": null,
            "height": null,
            "justify_content": null,
            "justify_items": null,
            "left": null,
            "margin": null,
            "max_height": null,
            "max_width": null,
            "min_height": null,
            "min_width": null,
            "object_fit": null,
            "object_position": null,
            "order": null,
            "overflow": null,
            "overflow_x": null,
            "overflow_y": null,
            "padding": null,
            "right": null,
            "top": null,
            "visibility": null,
            "width": null
          }
        },
        "ccce30bb2c8e4932986da53c3c78a8ba": {
          "model_module": "@jupyter-widgets/controls",
          "model_module_version": "1.5.0",
          "model_name": "FloatProgressModel",
          "state": {
            "_dom_classes": [],
            "_model_module": "@jupyter-widgets/controls",
            "_model_module_version": "1.5.0",
            "_model_name": "FloatProgressModel",
            "_view_count": null,
            "_view_module": "@jupyter-widgets/controls",
            "_view_module_version": "1.5.0",
            "_view_name": "ProgressView",
            "bar_style": "success",
            "description": "",
            "description_tooltip": null,
            "layout": "IPY_MODEL_1d0439fde17e4189a165a6c0d22eb9f7",
            "max": 18248,
            "min": 0,
            "orientation": "horizontal",
            "style": "IPY_MODEL_ad6690225b4245e0bf06297c14bcc961",
            "value": 18248
          }
        },
        "ce250cb1f5a04fa2b8e08d81211e5806": {
          "model_module": "@jupyter-widgets/base",
          "model_module_version": "1.2.0",
          "model_name": "LayoutModel",
          "state": {
            "_model_module": "@jupyter-widgets/base",
            "_model_module_version": "1.2.0",
            "_model_name": "LayoutModel",
            "_view_count": null,
            "_view_module": "@jupyter-widgets/base",
            "_view_module_version": "1.2.0",
            "_view_name": "LayoutView",
            "align_content": null,
            "align_items": null,
            "align_self": null,
            "border": null,
            "bottom": null,
            "display": null,
            "flex": null,
            "flex_flow": null,
            "grid_area": null,
            "grid_auto_columns": null,
            "grid_auto_flow": null,
            "grid_auto_rows": null,
            "grid_column": null,
            "grid_gap": null,
            "grid_row": null,
            "grid_template_areas": null,
            "grid_template_columns": null,
            "grid_template_rows": null,
            "height": null,
            "justify_content": null,
            "justify_items": null,
            "left": null,
            "margin": null,
            "max_height": null,
            "max_width": null,
            "min_height": null,
            "min_width": null,
            "object_fit": null,
            "object_position": null,
            "order": null,
            "overflow": null,
            "overflow_x": null,
            "overflow_y": null,
            "padding": null,
            "right": null,
            "top": null,
            "visibility": null,
            "width": null
          }
        },
        "d5017b58d6be44a58b23739306ca178f": {
          "model_module": "@jupyter-widgets/controls",
          "model_module_version": "1.5.0",
          "model_name": "HBoxModel",
          "state": {
            "_dom_classes": [],
            "_model_module": "@jupyter-widgets/controls",
            "_model_module_version": "1.5.0",
            "_model_name": "HBoxModel",
            "_view_count": null,
            "_view_module": "@jupyter-widgets/controls",
            "_view_module_version": "1.5.0",
            "_view_name": "HBoxView",
            "box_style": "",
            "children": [
              "IPY_MODEL_a28d38142b0a44818a4d84bff473728e",
              "IPY_MODEL_e902d5748cfd4dd9b3c6e1064cac1371",
              "IPY_MODEL_66eef565453243ba92bd5e4ca337a062"
            ],
            "layout": "IPY_MODEL_4ffe4e90bfa24722895898f3abd71236"
          }
        },
        "da625ecf5d52460883dc3a7477829c23": {
          "model_module": "@jupyter-widgets/base",
          "model_module_version": "1.2.0",
          "model_name": "LayoutModel",
          "state": {
            "_model_module": "@jupyter-widgets/base",
            "_model_module_version": "1.2.0",
            "_model_name": "LayoutModel",
            "_view_count": null,
            "_view_module": "@jupyter-widgets/base",
            "_view_module_version": "1.2.0",
            "_view_name": "LayoutView",
            "align_content": null,
            "align_items": null,
            "align_self": null,
            "border": null,
            "bottom": null,
            "display": null,
            "flex": null,
            "flex_flow": null,
            "grid_area": null,
            "grid_auto_columns": null,
            "grid_auto_flow": null,
            "grid_auto_rows": null,
            "grid_column": null,
            "grid_gap": null,
            "grid_row": null,
            "grid_template_areas": null,
            "grid_template_columns": null,
            "grid_template_rows": null,
            "height": null,
            "justify_content": null,
            "justify_items": null,
            "left": null,
            "margin": null,
            "max_height": null,
            "max_width": null,
            "min_height": null,
            "min_width": null,
            "object_fit": null,
            "object_position": null,
            "order": null,
            "overflow": null,
            "overflow_x": null,
            "overflow_y": null,
            "padding": null,
            "right": null,
            "top": null,
            "visibility": null,
            "width": null
          }
        },
        "da636f7e05154b3ebfa7fc80a0474fee": {
          "model_module": "@jupyter-widgets/base",
          "model_module_version": "1.2.0",
          "model_name": "LayoutModel",
          "state": {
            "_model_module": "@jupyter-widgets/base",
            "_model_module_version": "1.2.0",
            "_model_name": "LayoutModel",
            "_view_count": null,
            "_view_module": "@jupyter-widgets/base",
            "_view_module_version": "1.2.0",
            "_view_name": "LayoutView",
            "align_content": null,
            "align_items": null,
            "align_self": null,
            "border": null,
            "bottom": null,
            "display": null,
            "flex": null,
            "flex_flow": null,
            "grid_area": null,
            "grid_auto_columns": null,
            "grid_auto_flow": null,
            "grid_auto_rows": null,
            "grid_column": null,
            "grid_gap": null,
            "grid_row": null,
            "grid_template_areas": null,
            "grid_template_columns": null,
            "grid_template_rows": null,
            "height": null,
            "justify_content": null,
            "justify_items": null,
            "left": null,
            "margin": null,
            "max_height": null,
            "max_width": null,
            "min_height": null,
            "min_width": null,
            "object_fit": null,
            "object_position": null,
            "order": null,
            "overflow": null,
            "overflow_x": null,
            "overflow_y": null,
            "padding": null,
            "right": null,
            "top": null,
            "visibility": null,
            "width": null
          }
        },
        "dbf331f8b78a4bd6bd828368dec7ba0f": {
          "model_module": "@jupyter-widgets/base",
          "model_module_version": "1.2.0",
          "model_name": "LayoutModel",
          "state": {
            "_model_module": "@jupyter-widgets/base",
            "_model_module_version": "1.2.0",
            "_model_name": "LayoutModel",
            "_view_count": null,
            "_view_module": "@jupyter-widgets/base",
            "_view_module_version": "1.2.0",
            "_view_name": "LayoutView",
            "align_content": null,
            "align_items": null,
            "align_self": null,
            "border": null,
            "bottom": null,
            "display": null,
            "flex": null,
            "flex_flow": null,
            "grid_area": null,
            "grid_auto_columns": null,
            "grid_auto_flow": null,
            "grid_auto_rows": null,
            "grid_column": null,
            "grid_gap": null,
            "grid_row": null,
            "grid_template_areas": null,
            "grid_template_columns": null,
            "grid_template_rows": null,
            "height": null,
            "justify_content": null,
            "justify_items": null,
            "left": null,
            "margin": null,
            "max_height": null,
            "max_width": null,
            "min_height": null,
            "min_width": null,
            "object_fit": null,
            "object_position": null,
            "order": null,
            "overflow": null,
            "overflow_x": null,
            "overflow_y": null,
            "padding": null,
            "right": null,
            "top": null,
            "visibility": null,
            "width": null
          }
        },
        "de22f8c42cdf4772a4553ce52ae53042": {
          "model_module": "@jupyter-widgets/controls",
          "model_module_version": "1.5.0",
          "model_name": "FloatProgressModel",
          "state": {
            "_dom_classes": [],
            "_model_module": "@jupyter-widgets/controls",
            "_model_module_version": "1.5.0",
            "_model_name": "FloatProgressModel",
            "_view_count": null,
            "_view_module": "@jupyter-widgets/controls",
            "_view_module_version": "1.5.0",
            "_view_name": "ProgressView",
            "bar_style": "success",
            "description": "",
            "description_tooltip": null,
            "layout": "IPY_MODEL_7d1dc304256c49aa90ce459184df1e3a",
            "max": 18248,
            "min": 0,
            "orientation": "horizontal",
            "style": "IPY_MODEL_cb587eddc06d464e90388edd3716fedb",
            "value": 18248
          }
        },
        "e28be1c9ea524955ae16451a2cfcdb91": {
          "model_module": "@jupyter-widgets/controls",
          "model_module_version": "1.5.0",
          "model_name": "ProgressStyleModel",
          "state": {
            "_model_module": "@jupyter-widgets/controls",
            "_model_module_version": "1.5.0",
            "_model_name": "ProgressStyleModel",
            "_view_count": null,
            "_view_module": "@jupyter-widgets/base",
            "_view_module_version": "1.2.0",
            "_view_name": "StyleView",
            "bar_color": null,
            "description_width": ""
          }
        },
        "e2d4e94d1b674183bf93021a4a201160": {
          "model_module": "@jupyter-widgets/controls",
          "model_module_version": "1.5.0",
          "model_name": "HTMLModel",
          "state": {
            "_dom_classes": [],
            "_model_module": "@jupyter-widgets/controls",
            "_model_module_version": "1.5.0",
            "_model_name": "HTMLModel",
            "_view_count": null,
            "_view_module": "@jupyter-widgets/controls",
            "_view_module_version": "1.5.0",
            "_view_name": "HTMLView",
            "description": "",
            "description_tooltip": null,
            "layout": "IPY_MODEL_9074db09fd0f4c51bcebd87258a2beca",
            "placeholder": "​",
            "style": "IPY_MODEL_63db8399520642dcb46958a04f4f6dd5",
            "value": "100%"
          }
        },
        "e7eb3c7682c645eeab5cae83f24eb20c": {
          "model_module": "@jupyter-widgets/base",
          "model_module_version": "1.2.0",
          "model_name": "LayoutModel",
          "state": {
            "_model_module": "@jupyter-widgets/base",
            "_model_module_version": "1.2.0",
            "_model_name": "LayoutModel",
            "_view_count": null,
            "_view_module": "@jupyter-widgets/base",
            "_view_module_version": "1.2.0",
            "_view_name": "LayoutView",
            "align_content": null,
            "align_items": null,
            "align_self": null,
            "border": null,
            "bottom": null,
            "display": null,
            "flex": null,
            "flex_flow": null,
            "grid_area": null,
            "grid_auto_columns": null,
            "grid_auto_flow": null,
            "grid_auto_rows": null,
            "grid_column": null,
            "grid_gap": null,
            "grid_row": null,
            "grid_template_areas": null,
            "grid_template_columns": null,
            "grid_template_rows": null,
            "height": null,
            "justify_content": null,
            "justify_items": null,
            "left": null,
            "margin": null,
            "max_height": null,
            "max_width": null,
            "min_height": null,
            "min_width": null,
            "object_fit": null,
            "object_position": null,
            "order": null,
            "overflow": null,
            "overflow_x": null,
            "overflow_y": null,
            "padding": null,
            "right": null,
            "top": null,
            "visibility": null,
            "width": null
          }
        },
        "e902d5748cfd4dd9b3c6e1064cac1371": {
          "model_module": "@jupyter-widgets/controls",
          "model_module_version": "1.5.0",
          "model_name": "FloatProgressModel",
          "state": {
            "_dom_classes": [],
            "_model_module": "@jupyter-widgets/controls",
            "_model_module_version": "1.5.0",
            "_model_name": "FloatProgressModel",
            "_view_count": null,
            "_view_module": "@jupyter-widgets/controls",
            "_view_module_version": "1.5.0",
            "_view_name": "ProgressView",
            "bar_style": "success",
            "description": "",
            "description_tooltip": null,
            "layout": "IPY_MODEL_980c6e8276b94c9db6e5c35e7b16ac5d",
            "max": 18248,
            "min": 0,
            "orientation": "horizontal",
            "style": "IPY_MODEL_a229173064664ad58c19c8a6c188dc5f",
            "value": 18248
          }
        },
        "effcc83f452540bd88378af012824352": {
          "model_module": "@jupyter-widgets/controls",
          "model_module_version": "1.5.0",
          "model_name": "FloatProgressModel",
          "state": {
            "_dom_classes": [],
            "_model_module": "@jupyter-widgets/controls",
            "_model_module_version": "1.5.0",
            "_model_name": "FloatProgressModel",
            "_view_count": null,
            "_view_module": "@jupyter-widgets/controls",
            "_view_module_version": "1.5.0",
            "_view_name": "ProgressView",
            "bar_style": "success",
            "description": "",
            "description_tooltip": null,
            "layout": "IPY_MODEL_5d0d4f5f4f424a009c69c4634a296e4f",
            "max": 18248,
            "min": 0,
            "orientation": "horizontal",
            "style": "IPY_MODEL_21bd487a0bed4ea4a3472453a2acdab2",
            "value": 18248
          }
        },
        "f1d2090e53374d848982ff125bb5c074": {
          "model_module": "@jupyter-widgets/controls",
          "model_module_version": "1.5.0",
          "model_name": "DescriptionStyleModel",
          "state": {
            "_model_module": "@jupyter-widgets/controls",
            "_model_module_version": "1.5.0",
            "_model_name": "DescriptionStyleModel",
            "_view_count": null,
            "_view_module": "@jupyter-widgets/base",
            "_view_module_version": "1.2.0",
            "_view_name": "StyleView",
            "description_width": ""
          }
        },
        "f39a60da9e884bc6afdbde4f549ab1f7": {
          "model_module": "@jupyter-widgets/controls",
          "model_module_version": "1.5.0",
          "model_name": "DescriptionStyleModel",
          "state": {
            "_model_module": "@jupyter-widgets/controls",
            "_model_module_version": "1.5.0",
            "_model_name": "DescriptionStyleModel",
            "_view_count": null,
            "_view_module": "@jupyter-widgets/base",
            "_view_module_version": "1.2.0",
            "_view_name": "StyleView",
            "description_width": ""
          }
        },
        "f98badac5c4d40119f8e53590bcdd698": {
          "model_module": "@jupyter-widgets/base",
          "model_module_version": "1.2.0",
          "model_name": "LayoutModel",
          "state": {
            "_model_module": "@jupyter-widgets/base",
            "_model_module_version": "1.2.0",
            "_model_name": "LayoutModel",
            "_view_count": null,
            "_view_module": "@jupyter-widgets/base",
            "_view_module_version": "1.2.0",
            "_view_name": "LayoutView",
            "align_content": null,
            "align_items": null,
            "align_self": null,
            "border": null,
            "bottom": null,
            "display": null,
            "flex": null,
            "flex_flow": null,
            "grid_area": null,
            "grid_auto_columns": null,
            "grid_auto_flow": null,
            "grid_auto_rows": null,
            "grid_column": null,
            "grid_gap": null,
            "grid_row": null,
            "grid_template_areas": null,
            "grid_template_columns": null,
            "grid_template_rows": null,
            "height": null,
            "justify_content": null,
            "justify_items": null,
            "left": null,
            "margin": null,
            "max_height": null,
            "max_width": null,
            "min_height": null,
            "min_width": null,
            "object_fit": null,
            "object_position": null,
            "order": null,
            "overflow": null,
            "overflow_x": null,
            "overflow_y": null,
            "padding": null,
            "right": null,
            "top": null,
            "visibility": null,
            "width": null
          }
        },
        "fbc29f9450c04b59867f047cf98c908f": {
          "model_module": "@jupyter-widgets/controls",
          "model_module_version": "1.5.0",
          "model_name": "DescriptionStyleModel",
          "state": {
            "_model_module": "@jupyter-widgets/controls",
            "_model_module_version": "1.5.0",
            "_model_name": "DescriptionStyleModel",
            "_view_count": null,
            "_view_module": "@jupyter-widgets/base",
            "_view_module_version": "1.2.0",
            "_view_name": "StyleView",
            "description_width": ""
          }
        },
        "fcae6a78dbcc477181a436b8a3f89ecc": {
          "model_module": "@jupyter-widgets/base",
          "model_module_version": "1.2.0",
          "model_name": "LayoutModel",
          "state": {
            "_model_module": "@jupyter-widgets/base",
            "_model_module_version": "1.2.0",
            "_model_name": "LayoutModel",
            "_view_count": null,
            "_view_module": "@jupyter-widgets/base",
            "_view_module_version": "1.2.0",
            "_view_name": "LayoutView",
            "align_content": null,
            "align_items": null,
            "align_self": null,
            "border": null,
            "bottom": null,
            "display": null,
            "flex": null,
            "flex_flow": null,
            "grid_area": null,
            "grid_auto_columns": null,
            "grid_auto_flow": null,
            "grid_auto_rows": null,
            "grid_column": null,
            "grid_gap": null,
            "grid_row": null,
            "grid_template_areas": null,
            "grid_template_columns": null,
            "grid_template_rows": null,
            "height": null,
            "justify_content": null,
            "justify_items": null,
            "left": null,
            "margin": null,
            "max_height": null,
            "max_width": null,
            "min_height": null,
            "min_width": null,
            "object_fit": null,
            "object_position": null,
            "order": null,
            "overflow": null,
            "overflow_x": null,
            "overflow_y": null,
            "padding": null,
            "right": null,
            "top": null,
            "visibility": null,
            "width": null
          }
        }
      }
    }
  },
  "nbformat": 4,
  "nbformat_minor": 5
}