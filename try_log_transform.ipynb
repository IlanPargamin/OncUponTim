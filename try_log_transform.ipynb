{
 "cells": [
  {
   "cell_type": "code",
   "execution_count": 1,
   "id": "8459bf51",
   "metadata": {},
   "outputs": [],
   "source": [
    "import pandas as pd\n",
    "import numpy as np\n",
    "import matplotlib.pyplot as plt\n",
    "import seaborn as sns"
   ]
  },
  {
   "cell_type": "code",
   "execution_count": 2,
   "id": "34f560d8",
   "metadata": {},
   "outputs": [],
   "source": [
    "df = pd.read_csv('story_data_new_feats.csv')"
   ]
  },
  {
   "cell_type": "code",
   "execution_count": 3,
   "id": "55f0b2b9",
   "metadata": {},
   "outputs": [],
   "source": [
    "feats_to_keep = ['sent_avg_length', 'unique_words_percent', 'age', 'words_exist_per_cent', 'cat_Age', 'cat_Happy', 'cat_Thriller', 'cat_Friendship', 'cat_East',\n",
    "       'cat_Inspirational', 'cat_Christian', 'cat_Bedtime', 'cat_Drama',\n",
    "       'cat_Horror', 'cat_Lesbian', 'cat_High', 'cat_Science', 'cat_American',\n",
    "       'cat_Speculative', 'cat_Funny', 'cat_Adventure', 'cat_Nonfiction',\n",
    "       'cat_African', 'cat_Christmas', 'cat_Teens', 'cat_Fantasy',\n",
    "       'cat_Holiday', 'cat_Western', 'cat_Young', 'cat_Coming', 'cat_Suspense',\n",
    "       'cat_Romance', 'cat_Urban', 'cat_Latinx', 'cat_Desi', 'cat_Asian',\n",
    "       'cat_Black', 'cat_Sad', 'cat_Kids', 'cat_People', 'cat_Color',\n",
    "       'cat_Fiction', 'cat_Contemporary', 'cat_Mystery', 'cat_Adult',\n",
    "       'cat_Transgender', 'cat_Historical', 'cat_Middle', 'cat_Gay',\n",
    "       'cat_Indigenous', 'cat_Crime', 'num_cats', 'cat_School', 'cat_Creative', 'emotion_anger', 'emotion_fear',\n",
    "       'emotion_joy', 'emotion_love', 'emotion_sadness', 'emotion_surprise', 'sentiment_POSITIVE_no_prepro', 'sentiment_NEGATIVE_no_prepro',\n",
    "       'sentiment_hf_text']"
   ]
  },
  {
   "cell_type": "code",
   "execution_count": 4,
   "id": "4a0d091e",
   "metadata": {},
   "outputs": [],
   "source": [
    "target = ['num_likes']"
   ]
  },
  {
   "cell_type": "code",
   "execution_count": 5,
   "id": "d9809da0",
   "metadata": {},
   "outputs": [
    {
     "name": "stdout",
     "output_type": "stream",
     "text": [
      "<class 'pandas.core.frame.DataFrame'>\n",
      "RangeIndex: 18248 entries, 0 to 18247\n",
      "Data columns (total 63 columns):\n",
      " #   Column                        Non-Null Count  Dtype  \n",
      "---  ------                        --------------  -----  \n",
      " 0   sent_avg_length               18248 non-null  float64\n",
      " 1   unique_words_percent          18248 non-null  float64\n",
      " 2   age                           18248 non-null  int64  \n",
      " 3   words_exist_per_cent          18248 non-null  float64\n",
      " 4   cat_Age                       18248 non-null  int64  \n",
      " 5   cat_Happy                     18248 non-null  int64  \n",
      " 6   cat_Thriller                  18248 non-null  int64  \n",
      " 7   cat_Friendship                18248 non-null  int64  \n",
      " 8   cat_East                      18248 non-null  int64  \n",
      " 9   cat_Inspirational             18248 non-null  int64  \n",
      " 10  cat_Christian                 18248 non-null  int64  \n",
      " 11  cat_Bedtime                   18248 non-null  int64  \n",
      " 12  cat_Drama                     18248 non-null  int64  \n",
      " 13  cat_Horror                    18248 non-null  int64  \n",
      " 14  cat_Lesbian                   18248 non-null  int64  \n",
      " 15  cat_High                      18248 non-null  int64  \n",
      " 16  cat_Science                   18248 non-null  int64  \n",
      " 17  cat_American                  18248 non-null  int64  \n",
      " 18  cat_Speculative               18248 non-null  int64  \n",
      " 19  cat_Funny                     18248 non-null  int64  \n",
      " 20  cat_Adventure                 18248 non-null  int64  \n",
      " 21  cat_Nonfiction                18248 non-null  int64  \n",
      " 22  cat_African                   18248 non-null  int64  \n",
      " 23  cat_Christmas                 18248 non-null  int64  \n",
      " 24  cat_Teens                     18248 non-null  int64  \n",
      " 25  cat_Fantasy                   18248 non-null  int64  \n",
      " 26  cat_Holiday                   18248 non-null  int64  \n",
      " 27  cat_Western                   18248 non-null  int64  \n",
      " 28  cat_Young                     18248 non-null  int64  \n",
      " 29  cat_Coming                    18248 non-null  int64  \n",
      " 30  cat_Suspense                  18248 non-null  int64  \n",
      " 31  cat_Romance                   18248 non-null  int64  \n",
      " 32  cat_Urban                     18248 non-null  int64  \n",
      " 33  cat_Latinx                    18248 non-null  int64  \n",
      " 34  cat_Desi                      18248 non-null  int64  \n",
      " 35  cat_Asian                     18248 non-null  int64  \n",
      " 36  cat_Black                     18248 non-null  int64  \n",
      " 37  cat_Sad                       18248 non-null  int64  \n",
      " 38  cat_Kids                      18248 non-null  int64  \n",
      " 39  cat_People                    18248 non-null  int64  \n",
      " 40  cat_Color                     18248 non-null  int64  \n",
      " 41  cat_Fiction                   18248 non-null  int64  \n",
      " 42  cat_Contemporary              18248 non-null  int64  \n",
      " 43  cat_Mystery                   18248 non-null  int64  \n",
      " 44  cat_Adult                     18248 non-null  int64  \n",
      " 45  cat_Transgender               18248 non-null  int64  \n",
      " 46  cat_Historical                18248 non-null  int64  \n",
      " 47  cat_Middle                    18248 non-null  int64  \n",
      " 48  cat_Gay                       18248 non-null  int64  \n",
      " 49  cat_Indigenous                18248 non-null  int64  \n",
      " 50  cat_Crime                     18248 non-null  int64  \n",
      " 51  num_cats                      18248 non-null  int64  \n",
      " 52  cat_School                    18248 non-null  int64  \n",
      " 53  cat_Creative                  18248 non-null  int64  \n",
      " 54  emotion_anger                 18248 non-null  float64\n",
      " 55  emotion_fear                  18248 non-null  float64\n",
      " 56  emotion_joy                   18248 non-null  float64\n",
      " 57  emotion_love                  18248 non-null  float64\n",
      " 58  emotion_sadness               18248 non-null  float64\n",
      " 59  emotion_surprise              18248 non-null  float64\n",
      " 60  sentiment_POSITIVE_no_prepro  18248 non-null  float64\n",
      " 61  sentiment_NEGATIVE_no_prepro  18248 non-null  float64\n",
      " 62  sentiment_hf_text             18248 non-null  float64\n",
      "dtypes: float64(12), int64(51)\n",
      "memory usage: 8.8 MB\n"
     ]
    }
   ],
   "source": [
    "df[feats_to_keep].info()"
   ]
  },
  {
   "cell_type": "code",
   "execution_count": 6,
   "id": "66a9608d",
   "metadata": {},
   "outputs": [
    {
     "data": {
      "text/plain": [
       "(18248, 87)"
      ]
     },
     "execution_count": 6,
     "metadata": {},
     "output_type": "execute_result"
    }
   ],
   "source": [
    "df.shape"
   ]
  },
  {
   "cell_type": "code",
   "execution_count": 7,
   "id": "b186b955",
   "metadata": {},
   "outputs": [
    {
     "data": {
      "text/plain": [
       "(18248,)"
      ]
     },
     "execution_count": 7,
     "metadata": {},
     "output_type": "execute_result"
    }
   ],
   "source": [
    "df['num_likes'].shape"
   ]
  },
  {
   "cell_type": "code",
   "execution_count": 8,
   "id": "26ba3545",
   "metadata": {},
   "outputs": [],
   "source": [
    "from sklearn.preprocessing import FunctionTransformer\n",
    "\n",
    "transformer = FunctionTransformer(np.log1p, validate=True)\n",
    "\n",
    "la_log = transformer.transform(df[target].values).ravel()"
   ]
  },
  {
   "cell_type": "code",
   "execution_count": 9,
   "id": "ccbefd88",
   "metadata": {},
   "outputs": [
    {
     "data": {
      "text/plain": [
       "(18248,)"
      ]
     },
     "execution_count": 9,
     "metadata": {},
     "output_type": "execute_result"
    }
   ],
   "source": [
    "la_log.shape"
   ]
  },
  {
   "cell_type": "code",
   "execution_count": 10,
   "id": "77445416",
   "metadata": {},
   "outputs": [
    {
     "data": {
      "text/plain": [
       "((14598, 63), (3650, 63), (14598,), (3650,))"
      ]
     },
     "execution_count": 10,
     "metadata": {},
     "output_type": "execute_result"
    }
   ],
   "source": [
    "from sklearn.model_selection import train_test_split\n",
    "\n",
    "test_size = 20/100\n",
    "\n",
    "X_train, X_test, y_train, y_test = train_test_split(df[feats_to_keep], la_log, test_size=test_size, random_state=42)\n",
    "X_train.shape, X_test.shape, y_train.shape, y_test.shape"
   ]
  },
  {
   "cell_type": "code",
   "execution_count": 11,
   "id": "6d02fbcb",
   "metadata": {},
   "outputs": [
    {
     "data": {
      "text/plain": [
       "((14598, 63), (3650, 63))"
      ]
     },
     "execution_count": 11,
     "metadata": {},
     "output_type": "execute_result"
    }
   ],
   "source": [
    "from sklearn.preprocessing import StandardScaler\n",
    "scaler = StandardScaler()\n",
    "X_train = pd.DataFrame(scaler.fit_transform(X_train), columns=X_train.columns)\n",
    "X_test = pd.DataFrame(scaler.transform(X_test), columns=X_train.columns)\n",
    "\n",
    "X_train.shape, X_test.shape"
   ]
  },
  {
   "cell_type": "code",
   "execution_count": 12,
   "id": "df4b5d32",
   "metadata": {},
   "outputs": [
    {
     "data": {
      "text/plain": [
       "LinearRegression()"
      ]
     },
     "execution_count": 12,
     "metadata": {},
     "output_type": "execute_result"
    }
   ],
   "source": [
    "from sklearn.linear_model import LinearRegression\n",
    "\n",
    "lr = LinearRegression()\n",
    "lr.fit(X_train, y_train)"
   ]
  },
  {
   "cell_type": "code",
   "execution_count": 13,
   "id": "67902f09",
   "metadata": {},
   "outputs": [],
   "source": [
    "y_pred = lr.predict(X_test)"
   ]
  },
  {
   "cell_type": "code",
   "execution_count": 14,
   "id": "10ce1f8f",
   "metadata": {},
   "outputs": [
    {
     "data": {
      "text/plain": [
       "0.04968014872085502"
      ]
     },
     "execution_count": 14,
     "metadata": {},
     "output_type": "execute_result"
    }
   ],
   "source": [
    "lr.score(X_test, y_test)"
   ]
  },
  {
   "cell_type": "code",
   "execution_count": 15,
   "id": "4427c83f",
   "metadata": {},
   "outputs": [
    {
     "data": {
      "image/png": "[encoded data removed]",
      "text/plain": [
       "<Figure size 432x288 with 1 Axes>"
      ]
     },
     "metadata": {
      "needs_background": "light"
     },
     "output_type": "display_data"
    }
   ],
   "source": [
    "plt.scatter(x=y_pred, y=y_test, linewidths=0.5)\n",
    "plt.xlabel('Predicted')\n",
    "plt.ylabel('True')\n",
    "plt.title('Predicted vs. True values\\nwith LinearRegression')\n",
    "plt.show()"
   ]
  },
  {
   "cell_type": "code",
   "execution_count": 16,
   "id": "a6dd4a82",
   "metadata": {},
   "outputs": [
    {
     "data": {
      "text/plain": [
       "SVR()"
      ]
     },
     "execution_count": 16,
     "metadata": {},
     "output_type": "execute_result"
    }
   ],
   "source": [
    "from sklearn.svm import SVR\n",
    "\n",
    "svr = SVR()\n",
    "svr.fit(X_train, y_train)"
   ]
  },
  {
   "cell_type": "code",
   "execution_count": 17,
   "id": "8d9cd3ff",
   "metadata": {},
   "outputs": [],
   "source": [
    "y_pred_svr = svr.predict(X_test)"
   ]
  },
  {
   "cell_type": "code",
   "execution_count": 18,
   "id": "c4544df6",
   "metadata": {},
   "outputs": [
    {
     "data": {
      "text/plain": [
       "0.0106849524053656"
      ]
     },
     "execution_count": 18,
     "metadata": {},
     "output_type": "execute_result"
    }
   ],
   "source": [
    "svr.score(X_test, y_test)"
   ]
  },
  {
   "cell_type": "code",
   "execution_count": 19,
   "id": "5813315c",
   "metadata": {},
   "outputs": [
    {
     "data": {
      "image/png": "[encoded data removed]",
      "text/plain": [
       "<Figure size 432x288 with 1 Axes>"
      ]
     },
     "metadata": {
      "needs_background": "light"
     },
     "output_type": "display_data"
    }
   ],
   "source": [
    "plt.scatter(x=y_pred_svr, y=y_test, linewidths=0.5)\n",
    "plt.xlabel('Predicted')\n",
    "plt.ylabel('True')\n",
    "plt.title('Predicted vs. True values\\nwith SVR')\n",
    "plt.show()"
   ]
  },
  {
   "cell_type": "code",
   "execution_count": 20,
   "id": "7500d5e8",
   "metadata": {},
   "outputs": [
    {
     "data": {
      "text/plain": [
       "KNeighborsRegressor()"
      ]
     },
     "execution_count": 20,
     "metadata": {},
     "output_type": "execute_result"
    }
   ],
   "source": [
    "from sklearn.neighbors import KNeighborsRegressor\n",
    "\n",
    "knr = KNeighborsRegressor()\n",
    "knr.fit(X_train, y_train)"
   ]
  },
  {
   "cell_type": "code",
   "execution_count": 21,
   "id": "247e1d5d",
   "metadata": {},
   "outputs": [],
   "source": [
    "y_pred_knr = knr.predict(X_test)"
   ]
  },
  {
   "cell_type": "code",
   "execution_count": 22,
   "id": "3bfddd95",
   "metadata": {},
   "outputs": [
    {
     "data": {
      "text/plain": [
       "-0.1635339274039993"
      ]
     },
     "execution_count": 22,
     "metadata": {},
     "output_type": "execute_result"
    }
   ],
   "source": [
    "knr.score(X_test, y_test)"
   ]
  },
  {
   "cell_type": "code",
   "execution_count": 23,
   "id": "926b5ad2",
   "metadata": {},
   "outputs": [
    {
     "data": {
      "image/png": "[encoded data removed]",
      "text/plain": [
       "<Figure size 432x288 with 1 Axes>"
      ]
     },
     "metadata": {
      "needs_background": "light"
     },
     "output_type": "display_data"
    }
   ],
   "source": [
    "plt.scatter(x=y_pred_knr, y=y_test, linewidths=0.5)\n",
    "plt.xlabel('Predicted')\n",
    "plt.ylabel('True')\n",
    "plt.title('Predicted vs. True values\\nwith KNR')\n",
    "plt.show()"
   ]
  },
  {
   "cell_type": "code",
   "execution_count": null,
   "id": "3795dc07",
   "metadata": {},
   "outputs": [],
   "source": []
  }
 ],
 "metadata": {
  "kernelspec": {
   "display_name": "Python 3 (ipykernel)",
   "language": "python",
   "name": "python3"
  },
  "language_info": {
   "codemirror_mode": {
    "name": "ipython",
    "version": 3
   },
   "file_extension": ".py",
   "mimetype": "text/x-python",
   "name": "python",
   "nbconvert_exporter": "python",
   "pygments_lexer": "ipython3",
   "version": "3.9.7"
  },
  "latex_envs": {
   "LaTeX_envs_menu_present": true,
   "autoclose": false,
   "autocomplete": true,
   "bibliofile": "biblio.bib",
   "cite_by": "apalike",
   "current_citInitial": 1,
   "eqLabelWithNumbers": true,
   "eqNumInitial": 1,
   "hotkeys": {
    "equation": "Ctrl-E",
    "itemize": "Ctrl-I"
   },
   "labels_anchors": false,
   "latex_user_defs": false,
   "report_style_numbering": false,
   "user_envs_cfg": false
  }
 },
 "nbformat": 4,
 "nbformat_minor": 5
}
