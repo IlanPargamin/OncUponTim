{
  "cells": [
    {
      "cell_type": "markdown",
      "source": [
        "# Import"
      ],
      "metadata": {
        "id": "XxbdPbmEDv-L"
      },
      "id": "XxbdPbmEDv-L"
    },
    {
      "cell_type": "code",
      "execution_count": 1,
      "id": "8459bf51",
      "metadata": {
        "id": "8459bf51"
      },
      "outputs": [],
      "source": [
        "import pandas as pd\n",
        "import numpy as np\n",
        "import matplotlib.pyplot as plt\n",
        "import seaborn as sns"
      ]
    },
    {
      "cell_type": "code",
      "source": [
        "numerical = ['num_likes', 'num_comments', 'num_sent', 'sent_avg_length', 'num_words', \n",
        "             'num_unique_words', 'unique_words_percent', 'age', 'num_cats',\n",
        "             'words_exist_per_cent',\n",
        "             'shortlisted',\n",
        "             'emotion_anger', 'emotion_fear', 'emotion_joy', 'emotion_love', \n",
        "             'emotion_sadness', 'emotion_surprise', \n",
        "             'sentiment_POSITIVE_no_prepro', 'sentiment_NEGATIVE_no_prepro', \n",
        "             'sentiment_hf_text']\n",
        "\n",
        "txt_features = ['text_str', 'text_str_lem']\n",
        "\n",
        "categories = [   'cat_Age', 'cat_Happy', 'cat_Thriller', \n",
        "                 'cat_Friendship', 'cat_East', 'cat_Inspirational', \n",
        "                 'cat_Christian', 'cat_Bedtime', 'cat_Drama', 'cat_Horror', \n",
        "                 'cat_Lesbian', 'cat_High', 'cat_Science', 'cat_American', \n",
        "                 'cat_Speculative', 'cat_Funny', 'cat_Adventure', \n",
        "                 'cat_Nonfiction', 'cat_African', 'cat_Christmas', \n",
        "                 'cat_Teens', 'cat_Fantasy', 'cat_Holiday', 'cat_Western', \n",
        "                 'cat_Young', 'cat_Coming', 'cat_Suspense', 'cat_Romance', \n",
        "                 'cat_Urban', 'cat_Latinx', 'cat_Desi', 'cat_Asian', \n",
        "                 'cat_Black', 'cat_Sad', 'cat_Kids', 'cat_People', 'cat_Color', \n",
        "                 'cat_Fiction', 'cat_Contemporary', 'cat_Mystery', 'cat_Adult', \n",
        "                 'cat_Transgender', 'cat_Historical', 'cat_Middle', 'cat_Gay', \n",
        "                 'cat_Indigenous', 'cat_Crime', 'num_cats', 'cat_School', \n",
        "                 'cat_Creative']"
      ],
      "metadata": {
        "id": "fiSf0r2q5IKy"
      },
      "id": "fiSf0r2q5IKy",
      "execution_count": 2,
      "outputs": []
    },
    {
      "cell_type": "code",
      "execution_count": 3,
      "id": "55f0b2b9",
      "metadata": {
        "id": "55f0b2b9"
      },
      "outputs": [],
      "source": [
        "feats_to_keep = numerical + txt_features + categories"
      ]
    },
    {
      "cell_type": "code",
      "source": [
        "from google.colab import drive\n",
        "drive.mount('/content/drive')"
      ],
      "metadata": {
        "colab": {
          "base_uri": "https://localhost:8080/"
        },
        "id": "0BCF5CTC6SMR",
        "outputId": "246d5a4e-44a0-4d61-f01f-2c34b8890b61"
      },
      "id": "0BCF5CTC6SMR",
      "execution_count": 4,
      "outputs": [
        {
          "output_type": "stream",
          "name": "stdout",
          "text": [
            "Mounted at /content/drive\n"
          ]
        }
      ]
    },
    {
      "cell_type": "code",
      "execution_count": 5,
      "id": "34f560d8",
      "metadata": {
        "id": "34f560d8"
      },
      "outputs": [],
      "source": [
        "df = pd.read_csv(\"drive/MyDrive/Final Project/story_data_new_feats.csv\", \n",
        "                 usecols=feats_to_keep)"
      ]
    },
    {
      "cell_type": "code",
      "execution_count": 6,
      "id": "4a0d091e",
      "metadata": {
        "id": "4a0d091e"
      },
      "outputs": [],
      "source": [
        "target = ['num_likes']"
      ]
    },
    {
      "cell_type": "markdown",
      "source": [
        "# General features"
      ],
      "metadata": {
        "id": "JdcuPkc76vh1"
      },
      "id": "JdcuPkc76vh1"
    },
    {
      "cell_type": "markdown",
      "source": [
        "## Preprocessing"
      ],
      "metadata": {
        "id": "URgn6Ih7D5g0"
      },
      "id": "URgn6Ih7D5g0"
    },
    {
      "cell_type": "code",
      "source": [
        "numerical.remove('num_likes')\n",
        "numerical.remove('num_comments')"
      ],
      "metadata": {
        "id": "LBwfw22Q7ag3"
      },
      "id": "LBwfw22Q7ag3",
      "execution_count": 7,
      "outputs": []
    },
    {
      "cell_type": "code",
      "source": [
        "X = df[numerical+categories]"
      ],
      "metadata": {
        "id": "qBK7f2AF7Vxf"
      },
      "id": "qBK7f2AF7Vxf",
      "execution_count": 8,
      "outputs": []
    },
    {
      "cell_type": "code",
      "execution_count": 9,
      "id": "26ba3545",
      "metadata": {
        "id": "26ba3545"
      },
      "outputs": [],
      "source": [
        "# log transformation\n",
        "from sklearn.preprocessing import FunctionTransformer\n",
        "transformer = FunctionTransformer(np.log1p, validate=True)\n",
        "y = transformer.transform(df[target].values).ravel()"
      ]
    },
    {
      "cell_type": "code",
      "source": [
        "# scaling\n",
        "y = (y-y.mean())/y.std()"
      ],
      "metadata": {
        "id": "IX_8CTyI7EIV"
      },
      "id": "IX_8CTyI7EIV",
      "execution_count": 10,
      "outputs": []
    },
    {
      "cell_type": "code",
      "source": [
        "plt.figure()\n",
        "plt.hist(y, bins=50)\n",
        "plt.title('distribution of target after log transformation and scaling')"
      ],
      "metadata": {
        "colab": {
          "base_uri": "https://localhost:8080/",
          "height": 0
        },
        "id": "bmGAN7Qf64oI",
        "outputId": "afe24c79-805e-496a-ed6c-05273cab9096"
      },
      "id": "bmGAN7Qf64oI",
      "execution_count": 11,
      "outputs": [
        {
          "output_type": "execute_result",
          "data": {
            "text/plain": [
              "Text(0.5, 1.0, 'distribution of target after log transformation and scaling')"
            ]
          },
          "metadata": {},
          "execution_count": 11
        },
        {
          "output_type": "display_data",
          "data": {
            "text/plain": [
              "<Figure size 432x288 with 1 Axes>"
            ],
            "image/png": "[encoded data removed]"
          },
          "metadata": {
            "needs_background": "light"
          }
        }
      ]
    },
    {
      "cell_type": "code",
      "source": [
        "# log transform \n",
        "for var_to_log in ['sent_avg_length', 'num_unique_words', 'emotion_love']:\n",
        "  X[var_to_log] = X[var_to_log].apply(np.log1p)"
      ],
      "metadata": {
        "colab": {
          "base_uri": "https://localhost:8080/"
        },
        "id": "8oxw6o4C7zkg",
        "outputId": "c042c2b9-f7c5-44b6-acb6-f81df3fee39a"
      },
      "id": "8oxw6o4C7zkg",
      "execution_count": 12,
      "outputs": [
        {
          "output_type": "stream",
          "name": "stderr",
          "text": [
            "/usr/local/lib/python3.7/dist-packages/ipykernel_launcher.py:3: SettingWithCopyWarning: \n",
            "A value is trying to be set on a copy of a slice from a DataFrame.\n",
            "Try using .loc[row_indexer,col_indexer] = value instead\n",
            "\n",
            "See the caveats in the documentation: https://pandas.pydata.org/pandas-docs/stable/user_guide/indexing.html#returning-a-view-versus-a-copy\n",
            "  This is separate from the ipykernel package so we can avoid doing imports until\n"
          ]
        }
      ]
    },
    {
      "cell_type": "code",
      "execution_count": 13,
      "id": "77445416",
      "metadata": {
        "colab": {
          "base_uri": "https://localhost:8080/"
        },
        "id": "77445416",
        "outputId": "3970765e-d5bb-4e02-a629-5fb003772083"
      },
      "outputs": [
        {
          "output_type": "execute_result",
          "data": {
            "text/plain": [
              "((14598, 68), (3650, 68), (14598,), (3650,))"
            ]
          },
          "metadata": {},
          "execution_count": 13
        }
      ],
      "source": [
        "from sklearn.model_selection import train_test_split\n",
        "\n",
        "test_size = 20/100\n",
        "\n",
        "X_train, X_test, y_train, y_test = train_test_split(X, y, \n",
        "                                                    test_size=test_size, \n",
        "                                                    random_state=42)\n",
        "X_train.shape, X_test.shape, y_train.shape, y_test.shape"
      ]
    },
    {
      "cell_type": "code",
      "execution_count": 14,
      "id": "6d02fbcb",
      "metadata": {
        "colab": {
          "base_uri": "https://localhost:8080/"
        },
        "id": "6d02fbcb",
        "outputId": "6b29662d-4bc9-4bfb-abb5-ded8f9253e6b"
      },
      "outputs": [
        {
          "output_type": "execute_result",
          "data": {
            "text/plain": [
              "((14598, 68), (3650, 68))"
            ]
          },
          "metadata": {},
          "execution_count": 14
        }
      ],
      "source": [
        "# feature scaling\n",
        "from sklearn.preprocessing import StandardScaler\n",
        "scaler = StandardScaler()\n",
        "X_train = pd.DataFrame(scaler.fit_transform(X_train), columns=X_train.columns)\n",
        "X_test = pd.DataFrame(scaler.transform(X_test), columns=X_train.columns)\n",
        "\n",
        "X_train.shape, X_test.shape"
      ]
    },
    {
      "cell_type": "markdown",
      "source": [
        "## Predictions"
      ],
      "metadata": {
        "id": "y9OsGVln81rO"
      },
      "id": "y9OsGVln81rO"
    },
    {
      "cell_type": "markdown",
      "source": [
        "### Linear regression"
      ],
      "metadata": {
        "id": "w6L4x2le84dF"
      },
      "id": "w6L4x2le84dF"
    },
    {
      "cell_type": "code",
      "execution_count": 15,
      "id": "df4b5d32",
      "metadata": {
        "colab": {
          "base_uri": "https://localhost:8080/"
        },
        "id": "df4b5d32",
        "outputId": "83fddfd4-76f7-43c4-835a-286cae7029bb"
      },
      "outputs": [
        {
          "output_type": "execute_result",
          "data": {
            "text/plain": [
              "LinearRegression()"
            ]
          },
          "metadata": {},
          "execution_count": 15
        }
      ],
      "source": [
        "from sklearn.linear_model import LinearRegression\n",
        "\n",
        "lr = LinearRegression()\n",
        "lr.fit(X_train, y_train)"
      ]
    },
    {
      "cell_type": "code",
      "execution_count": 16,
      "id": "67902f09",
      "metadata": {
        "colab": {
          "base_uri": "https://localhost:8080/"
        },
        "id": "67902f09",
        "outputId": "b0fe38fd-286e-4c01-cef9-076bb505ff27"
      },
      "outputs": [
        {
          "output_type": "stream",
          "name": "stdout",
          "text": [
            "R2 on train set: 0.09003925523957468\n",
            "R2 on test set: 0.07685602394947721\n"
          ]
        }
      ],
      "source": [
        "print(f'R2 on train set: {lr.score(X_train, y_train)}')\n",
        "print(f'R2 on test set: {lr.score(X_test, y_test)}')"
      ]
    },
    {
      "cell_type": "code",
      "execution_count": 17,
      "id": "4427c83f",
      "metadata": {
        "colab": {
          "base_uri": "https://localhost:8080/",
          "height": 0
        },
        "id": "4427c83f",
        "outputId": "aac384bf-cbdc-4a3e-b098-058d54c12e77"
      },
      "outputs": [
        {
          "output_type": "display_data",
          "data": {
            "text/plain": [
              "<Figure size 432x288 with 1 Axes>"
            ],
            "image/png": "[encoded data removed]"
          },
          "metadata": {
            "needs_background": "light"
          }
        }
      ],
      "source": [
        "plt.scatter(x=lr.predict(X_test), y=y_test, linewidths=0.5)\n",
        "plt.xlabel('Predicted')\n",
        "plt.ylabel('True')\n",
        "plt.title('Predicted vs. True values\\nwith LinearRegression')\n",
        "plt.show()"
      ]
    },
    {
      "cell_type": "markdown",
      "source": [
        "### SVM"
      ],
      "metadata": {
        "id": "8Ij9yude868d"
      },
      "id": "8Ij9yude868d"
    },
    {
      "cell_type": "code",
      "execution_count": 18,
      "id": "a6dd4a82",
      "metadata": {
        "colab": {
          "base_uri": "https://localhost:8080/"
        },
        "id": "a6dd4a82",
        "outputId": "69319452-5138-464b-b8b6-a60a124ca89a"
      },
      "outputs": [
        {
          "output_type": "execute_result",
          "data": {
            "text/plain": [
              "SVR()"
            ]
          },
          "metadata": {},
          "execution_count": 18
        }
      ],
      "source": [
        "from sklearn.svm import SVR\n",
        "\n",
        "svr = SVR()\n",
        "svr.fit(X_train, y_train)"
      ]
    },
    {
      "cell_type": "code",
      "execution_count": 19,
      "id": "8d9cd3ff",
      "metadata": {
        "colab": {
          "base_uri": "https://localhost:8080/"
        },
        "id": "8d9cd3ff",
        "outputId": "e4a7de76-8788-460c-e9bf-f05b0c9cc8b4"
      },
      "outputs": [
        {
          "output_type": "stream",
          "name": "stdout",
          "text": [
            "R2 on train set: 0.19335606515011838\n",
            "R2 on test set: 0.04792735448813612\n"
          ]
        }
      ],
      "source": [
        "print(f'R2 on train set: {svr.score(X_train, y_train)}')\n",
        "print(f'R2 on test set: {svr.score(X_test, y_test)}')\n"
      ]
    },
    {
      "cell_type": "code",
      "execution_count": 20,
      "id": "5813315c",
      "metadata": {
        "colab": {
          "base_uri": "https://localhost:8080/",
          "height": 0
        },
        "id": "5813315c",
        "outputId": "d55977dc-9fcf-46e1-bc14-e75f53e4ac87"
      },
      "outputs": [
        {
          "output_type": "display_data",
          "data": {
            "text/plain": [
              "<Figure size 432x288 with 1 Axes>"
            ],
            "image/png": "[encoded data removed]"
          },
          "metadata": {
            "needs_background": "light"
          }
        }
      ],
      "source": [
        "plt.scatter(x=svr.predict(X_test), y=y_test, linewidths=0.5)\n",
        "plt.xlabel('Predicted')\n",
        "plt.ylabel('True')\n",
        "plt.title('Predicted vs. True values\\nwith SVR')\n",
        "plt.show()"
      ]
    },
    {
      "cell_type": "markdown",
      "source": [
        "### KNN "
      ],
      "metadata": {
        "id": "BpJKp0Au9EAn"
      },
      "id": "BpJKp0Au9EAn"
    },
    {
      "cell_type": "code",
      "execution_count": 21,
      "id": "7500d5e8",
      "metadata": {
        "colab": {
          "base_uri": "https://localhost:8080/"
        },
        "id": "7500d5e8",
        "outputId": "ac9fb526-0bc5-4935-89a6-1211004292fe"
      },
      "outputs": [
        {
          "output_type": "execute_result",
          "data": {
            "text/plain": [
              "KNeighborsRegressor()"
            ]
          },
          "metadata": {},
          "execution_count": 21
        }
      ],
      "source": [
        "from sklearn.neighbors import KNeighborsRegressor\n",
        "\n",
        "knr = KNeighborsRegressor()\n",
        "knr.fit(X_train, y_train)"
      ]
    },
    {
      "cell_type": "code",
      "source": [
        "print(f'R2 on train set: {knr.score(X_train, y_train)}')\n",
        "print(f'R2 on test set: {knr.score(X_test, y_test)}')"
      ],
      "metadata": {
        "colab": {
          "base_uri": "https://localhost:8080/"
        },
        "id": "KqOXfjpREYAI",
        "outputId": "747f9a57-178e-4d4b-c767-d157f1769f92"
      },
      "id": "KqOXfjpREYAI",
      "execution_count": 22,
      "outputs": [
        {
          "output_type": "stream",
          "name": "stdout",
          "text": [
            "R2 on train set: 0.2831055380881201\n",
            "R2 on test set: -0.11854644836965678\n"
          ]
        }
      ]
    },
    {
      "cell_type": "code",
      "execution_count": 23,
      "id": "926b5ad2",
      "metadata": {
        "colab": {
          "base_uri": "https://localhost:8080/",
          "height": 0
        },
        "id": "926b5ad2",
        "outputId": "6952ff31-8c67-44bb-ba17-61849b679ac2"
      },
      "outputs": [
        {
          "output_type": "display_data",
          "data": {
            "text/plain": [
              "<Figure size 432x288 with 1 Axes>"
            ],
            "image/png": "[encoded data removed]"
          },
          "metadata": {
            "needs_background": "light"
          }
        }
      ],
      "source": [
        "plt.scatter(x=knr.predict(X_test), y=y_test, linewidths=0.5)\n",
        "plt.xlabel('Predicted')\n",
        "plt.ylabel('True')\n",
        "plt.title('Predicted vs. True values\\nwith KNR')\n",
        "plt.show()"
      ]
    },
    {
      "cell_type": "markdown",
      "source": [
        "### Random forest"
      ],
      "metadata": {
        "id": "u0jgl6Xj_NzZ"
      },
      "id": "u0jgl6Xj_NzZ"
    },
    {
      "cell_type": "code",
      "source": [
        "from sklearn.ensemble import RandomForestRegressor\n",
        "regr = RandomForestRegressor(max_depth=10, random_state=0)\n",
        "regr.fit(X_train, y_train)"
      ],
      "metadata": {
        "colab": {
          "base_uri": "https://localhost:8080/"
        },
        "id": "R2TDEGsa_PWF",
        "outputId": "6f0f912e-8afa-40ed-e302-050dcf2f0b3a"
      },
      "id": "R2TDEGsa_PWF",
      "execution_count": 24,
      "outputs": [
        {
          "output_type": "execute_result",
          "data": {
            "text/plain": [
              "RandomForestRegressor(max_depth=10, random_state=0)"
            ]
          },
          "metadata": {},
          "execution_count": 24
        }
      ]
    },
    {
      "cell_type": "code",
      "source": [
        "print(f'R2 on train set: {regr.score(X_train, y_train)}')\n",
        "print(f'R2 on test set: {regr.score(X_test, y_test)}')"
      ],
      "metadata": {
        "colab": {
          "base_uri": "https://localhost:8080/"
        },
        "id": "TWmvXa5G_g2b",
        "outputId": "26bca267-3ed7-4150-fb52-92ecaa455dd3"
      },
      "id": "TWmvXa5G_g2b",
      "execution_count": 25,
      "outputs": [
        {
          "output_type": "stream",
          "name": "stdout",
          "text": [
            "R2 on train set: 0.34542561884130196\n",
            "R2 on test set: 0.14145178559206995\n"
          ]
        }
      ]
    },
    {
      "cell_type": "code",
      "source": [
        "plt.scatter(x=regr.predict(X_test), y=y_test, linewidths=0.5)\n",
        "plt.xlabel('Predicted')\n",
        "plt.ylabel('True')\n",
        "plt.title('Predicted vs. True values\\nwith RandomForestRegressor')\n",
        "plt.show()"
      ],
      "metadata": {
        "colab": {
          "base_uri": "https://localhost:8080/",
          "height": 310
        },
        "id": "n6AqrvlE_iQw",
        "outputId": "b983af49-3351-45a6-a7b8-e48f4b162f20"
      },
      "id": "n6AqrvlE_iQw",
      "execution_count": 26,
      "outputs": [
        {
          "output_type": "display_data",
          "data": {
            "text/plain": [
              "<Figure size 432x288 with 1 Axes>"
            ],
            "image/png": "[encoded data removed]"
          },
          "metadata": {
            "needs_background": "light"
          }
        }
      ]
    },
    {
      "cell_type": "markdown",
      "source": [
        "# TF/IDF only"
      ],
      "metadata": {
        "id": "r02LtsNI_kUh"
      },
      "id": "r02LtsNI_kUh"
    },
    {
      "cell_type": "markdown",
      "source": [
        "## Preprocessing"
      ],
      "metadata": {
        "id": "N4t_4YLrEGLP"
      },
      "id": "N4t_4YLrEGLP"
    },
    {
      "cell_type": "code",
      "source": [
        "sample_length = 10000\n",
        "max_features = 2000"
      ],
      "metadata": {
        "id": "gDjJgqekJaNI"
      },
      "id": "gDjJgqekJaNI",
      "execution_count": 27,
      "outputs": []
    },
    {
      "cell_type": "code",
      "source": [
        "stories_lemma = df.text_str_lem.tolist()[:sample_length]"
      ],
      "metadata": {
        "id": "C7EyQfTY_2JZ"
      },
      "id": "C7EyQfTY_2JZ",
      "execution_count": 28,
      "outputs": []
    },
    {
      "cell_type": "code",
      "source": [
        "from sklearn.feature_extraction.text import TfidfVectorizer\n",
        "vectorizer = TfidfVectorizer(ngram_range=(1,3), \n",
        "                             max_features=max_features)\n",
        "X = vectorizer.fit_transform(stories_lemma)"
      ],
      "metadata": {
        "id": "MIaGsSiPAQ1N"
      },
      "id": "MIaGsSiPAQ1N",
      "execution_count": 29,
      "outputs": []
    },
    {
      "cell_type": "code",
      "source": [
        "# the target is already transformed"
      ],
      "metadata": {
        "id": "sxhxEJEqAUln"
      },
      "id": "sxhxEJEqAUln",
      "execution_count": 30,
      "outputs": []
    },
    {
      "cell_type": "code",
      "source": [
        "from sklearn.model_selection import train_test_split\n",
        "\n",
        "X_train, X_test, y_train, y_test = train_test_split(X, y[:sample_length], \n",
        "                                                    test_size=0.3, \n",
        "                                                    random_state=1)"
      ],
      "metadata": {
        "id": "l0CApUnPAWZN"
      },
      "id": "l0CApUnPAWZN",
      "execution_count": 31,
      "outputs": []
    },
    {
      "cell_type": "code",
      "source": [
        "# normalize\n",
        "from sklearn.preprocessing import normalize\n",
        "# X_train = normalize(X_train, norm='l1', axis=0)\n",
        "# need to normalize X_test manually..."
      ],
      "metadata": {
        "id": "Kr3f1B7QBPiO"
      },
      "id": "Kr3f1B7QBPiO",
      "execution_count": 32,
      "outputs": []
    },
    {
      "cell_type": "code",
      "source": [
        "from sklearn.preprocessing import Normalizer\n",
        "transformer = Normalizer().fit(X_train)\n",
        "X_train = transformer.transform(X_train)\n",
        "X_test = transformer.transform(X_test)"
      ],
      "metadata": {
        "id": "V9jqHUKrKKpG"
      },
      "id": "V9jqHUKrKKpG",
      "execution_count": 33,
      "outputs": []
    },
    {
      "cell_type": "markdown",
      "source": [
        "## Predictions"
      ],
      "metadata": {
        "id": "KSY1EFxSEITL"
      },
      "id": "KSY1EFxSEITL"
    },
    {
      "cell_type": "markdown",
      "source": [
        "### Linear regression"
      ],
      "metadata": {
        "id": "vk5WHZw_DWvm"
      },
      "id": "vk5WHZw_DWvm"
    },
    {
      "cell_type": "code",
      "source": [
        "lr = LinearRegression()\n",
        "lr.fit(X_train, y_train)"
      ],
      "metadata": {
        "colab": {
          "base_uri": "https://localhost:8080/"
        },
        "id": "Gq8De2pcCN8_",
        "outputId": "d45a8d17-1ec8-4a0a-9f4b-829b767f01b7"
      },
      "id": "Gq8De2pcCN8_",
      "execution_count": 34,
      "outputs": [
        {
          "output_type": "execute_result",
          "data": {
            "text/plain": [
              "LinearRegression()"
            ]
          },
          "metadata": {},
          "execution_count": 34
        }
      ]
    },
    {
      "cell_type": "code",
      "source": [
        "print(f'R2 on train set: {lr.score(X_train, y_train)}')\n",
        "print(f'R2 on test set: {lr.score(X_test, y_test)}')"
      ],
      "metadata": {
        "colab": {
          "base_uri": "https://localhost:8080/"
        },
        "id": "PveCEorhDaga",
        "outputId": "ffcda7e4-f516-4508-aea6-5e668edb4457"
      },
      "id": "PveCEorhDaga",
      "execution_count": 35,
      "outputs": [
        {
          "output_type": "stream",
          "name": "stdout",
          "text": [
            "R2 on train set: 0.3518052711204911\n",
            "R2 on test set: -0.30560598185320376\n"
          ]
        }
      ]
    },
    {
      "cell_type": "code",
      "source": [
        "plt.scatter(x=lr.predict(X_test), y=y_test, linewidths=0.5)\n",
        "plt.xlabel('Predicted')\n",
        "plt.ylabel('True')\n",
        "plt.title('Predicted vs. True values\\nwith LinearRegression')\n",
        "plt.show()"
      ],
      "metadata": {
        "colab": {
          "base_uri": "https://localhost:8080/",
          "height": 310
        },
        "id": "nuPJ2bMQCZyS",
        "outputId": "54488b10-eabe-4696-a0dc-583d656d662d"
      },
      "id": "nuPJ2bMQCZyS",
      "execution_count": 36,
      "outputs": [
        {
          "output_type": "display_data",
          "data": {
            "text/plain": [
              "<Figure size 432x288 with 1 Axes>"
            ],
            "image/png": "[encoded data removed]"
          },
          "metadata": {
            "needs_background": "light"
          }
        }
      ]
    },
    {
      "cell_type": "markdown",
      "source": [
        "### SVM"
      ],
      "metadata": {
        "id": "QfORcvXdENwZ"
      },
      "id": "QfORcvXdENwZ"
    },
    {
      "cell_type": "code",
      "source": [
        "svr = SVR()\n",
        "svr.fit(X_train, y_train)"
      ],
      "metadata": {
        "colab": {
          "base_uri": "https://localhost:8080/"
        },
        "id": "5gdqTl71CwqF",
        "outputId": "5d877079-5467-4683-d869-16b95234da67"
      },
      "id": "5gdqTl71CwqF",
      "execution_count": 37,
      "outputs": [
        {
          "output_type": "execute_result",
          "data": {
            "text/plain": [
              "SVR()"
            ]
          },
          "metadata": {},
          "execution_count": 37
        }
      ]
    },
    {
      "cell_type": "code",
      "source": [
        "print(f'R2 on train set: {svr.score(X_train, y_train)}')\n",
        "print(f'R2 on test set: {svr.score(X_test, y_test)}')\n"
      ],
      "metadata": {
        "colab": {
          "base_uri": "https://localhost:8080/"
        },
        "id": "QJGZShcVC0-Y",
        "outputId": "69f2cd08-7315-438a-f67e-7cf29a850fa1"
      },
      "id": "QJGZShcVC0-Y",
      "execution_count": 38,
      "outputs": [
        {
          "output_type": "stream",
          "name": "stdout",
          "text": [
            "R2 on train set: 0.17374758607810592\n",
            "R2 on test set: 0.03668636627952582\n"
          ]
        }
      ]
    },
    {
      "cell_type": "code",
      "source": [
        "plt.scatter(x=svr.predict(X_test), y=y_test, linewidths=0.5)\n",
        "plt.xlabel('Predicted')\n",
        "plt.ylabel('True')\n",
        "plt.title('Predicted vs. True values\\nwith SVR')\n",
        "plt.show()"
      ],
      "metadata": {
        "colab": {
          "base_uri": "https://localhost:8080/",
          "height": 310
        },
        "id": "GzpTaBakC2mS",
        "outputId": "ec598a56-371d-4671-b443-84c729ecf718"
      },
      "id": "GzpTaBakC2mS",
      "execution_count": 39,
      "outputs": [
        {
          "output_type": "display_data",
          "data": {
            "text/plain": [
              "<Figure size 432x288 with 1 Axes>"
            ],
            "image/png": "[encoded data removed]"
          },
          "metadata": {
            "needs_background": "light"
          }
        }
      ]
    },
    {
      "cell_type": "markdown",
      "source": [
        "### KNN"
      ],
      "metadata": {
        "id": "Z4JE2nbeEO2e"
      },
      "id": "Z4JE2nbeEO2e"
    },
    {
      "cell_type": "code",
      "source": [
        "knr = KNeighborsRegressor()\n",
        "knr.fit(X_train, y_train)"
      ],
      "metadata": {
        "colab": {
          "base_uri": "https://localhost:8080/"
        },
        "id": "xnbn5uNqEQZa",
        "outputId": "d1efc4b3-0fa5-4663-cddd-6e8f581c3e00"
      },
      "id": "xnbn5uNqEQZa",
      "execution_count": 40,
      "outputs": [
        {
          "output_type": "execute_result",
          "data": {
            "text/plain": [
              "KNeighborsRegressor()"
            ]
          },
          "metadata": {},
          "execution_count": 40
        }
      ]
    },
    {
      "cell_type": "code",
      "source": [
        "print(f'R2 on train set: {knr.score(X_train, y_train)}')\n",
        "print(f'R2 on test set: {knr.score(X_test, y_test)}')"
      ],
      "metadata": {
        "colab": {
          "base_uri": "https://localhost:8080/"
        },
        "id": "vvCCVrSeEc_p",
        "outputId": "2bd7b940-d097-41f1-8550-c4b5ea7afa33"
      },
      "id": "vvCCVrSeEc_p",
      "execution_count": 41,
      "outputs": [
        {
          "output_type": "stream",
          "name": "stdout",
          "text": [
            "R2 on train set: 0.2588169293950665\n",
            "R2 on test set: -0.12705722608942693\n"
          ]
        }
      ]
    },
    {
      "cell_type": "code",
      "source": [
        "plt.scatter(x=knr.predict(X_test), y=y_test, linewidths=0.5)\n",
        "plt.xlabel('Predicted')\n",
        "plt.ylabel('True')\n",
        "plt.title('Predicted vs. True values\\nwith KNR')\n",
        "plt.show()"
      ],
      "metadata": {
        "colab": {
          "base_uri": "https://localhost:8080/",
          "height": 310
        },
        "id": "_59pgT-aEeMu",
        "outputId": "748da513-0c82-4986-bd75-216cb31055a6"
      },
      "id": "_59pgT-aEeMu",
      "execution_count": 42,
      "outputs": [
        {
          "output_type": "display_data",
          "data": {
            "text/plain": [
              "<Figure size 432x288 with 1 Axes>"
            ],
            "image/png": "[encoded data removed]"
          },
          "metadata": {
            "needs_background": "light"
          }
        }
      ]
    },
    {
      "cell_type": "markdown",
      "source": [
        "### Random forest"
      ],
      "metadata": {
        "id": "evrRhyh4_tOE"
      },
      "id": "evrRhyh4_tOE"
    },
    {
      "cell_type": "code",
      "source": [
        "regr = RandomForestRegressor(max_depth=10, random_state=0)\n",
        "regr.fit(X_train, y_train)\n",
        "print(f'R2 on train set: {regr.score(X_train, y_train)}')\n",
        "print(f'R2 on test set: {regr.score(X_test, y_test)}')\n",
        "plt.scatter(x=regr.predict(X_test), y=y_test, linewidths=0.5)\n",
        "plt.xlabel('Predicted')\n",
        "plt.ylabel('True')\n",
        "plt.title('Predicted vs. True values\\nwith RandomForestRegressor')\n",
        "plt.show()"
      ],
      "metadata": {
        "colab": {
          "base_uri": "https://localhost:8080/",
          "height": 346
        },
        "id": "cIGQZJAr_uZ2",
        "outputId": "5a902e05-a2a4-41a1-ecd2-a9211d4250b4"
      },
      "id": "cIGQZJAr_uZ2",
      "execution_count": 43,
      "outputs": [
        {
          "output_type": "stream",
          "name": "stdout",
          "text": [
            "R2 on train set: 0.2348259701585147\n",
            "R2 on test set: 0.02503711594384206\n"
          ]
        },
        {
          "output_type": "display_data",
          "data": {
            "text/plain": [
              "<Figure size 432x288 with 1 Axes>"
            ],
            "image/png": "[encoded data removed]"
          },
          "metadata": {
            "needs_background": "light"
          }
        }
      ]
    },
    {
      "cell_type": "markdown",
      "source": [
        "# TF/IDF and general features"
      ],
      "metadata": {
        "id": "72-0-SztA6wU"
      },
      "id": "72-0-SztA6wU"
    },
    {
      "cell_type": "code",
      "source": [
        "# X contains the TF/IDF features\n",
        "X_gen = df[numerical+categories]"
      ],
      "metadata": {
        "id": "cFNHZ7fuA9Wt"
      },
      "id": "cFNHZ7fuA9Wt",
      "execution_count": 44,
      "outputs": []
    },
    {
      "cell_type": "code",
      "source": [
        "for var_to_log in ['sent_avg_length', 'num_unique_words', 'emotion_love']:\n",
        "  X_gen[var_to_log] = X[var_to_log].apply(np.log1p)"
      ],
      "metadata": {
        "colab": {
          "base_uri": "https://localhost:8080/",
          "height": 336
        },
        "id": "9-mOWC0MFqD6",
        "outputId": "7254b78f-1670-4d4c-eb07-008db486f769"
      },
      "id": "9-mOWC0MFqD6",
      "execution_count": 45,
      "outputs": [
        {
          "output_type": "error",
          "ename": "IndexError",
          "evalue": "ignored",
          "traceback": [
            "\u001b[0;31m---------------------------------------------------------------------------\u001b[0m",
            "\u001b[0;31mIndexError\u001b[0m                                Traceback (most recent call last)",
            "\u001b[0;32m<ipython-input-45-d7fa82c0a079>\u001b[0m in \u001b[0;36m<module>\u001b[0;34m()\u001b[0m\n\u001b[1;32m      1\u001b[0m \u001b[0;32mfor\u001b[0m \u001b[0mvar_to_log\u001b[0m \u001b[0;32min\u001b[0m \u001b[0;34m[\u001b[0m\u001b[0;34m'sent_avg_length'\u001b[0m\u001b[0;34m,\u001b[0m \u001b[0;34m'num_unique_words'\u001b[0m\u001b[0;34m,\u001b[0m \u001b[0;34m'emotion_love'\u001b[0m\u001b[0;34m]\u001b[0m\u001b[0;34m:\u001b[0m\u001b[0;34m\u001b[0m\u001b[0;34m\u001b[0m\u001b[0m\n\u001b[0;32m----> 2\u001b[0;31m   \u001b[0mX_gen\u001b[0m\u001b[0;34m[\u001b[0m\u001b[0mvar_to_log\u001b[0m\u001b[0;34m]\u001b[0m \u001b[0;34m=\u001b[0m \u001b[0mX\u001b[0m\u001b[0;34m[\u001b[0m\u001b[0mvar_to_log\u001b[0m\u001b[0;34m]\u001b[0m\u001b[0;34m.\u001b[0m\u001b[0mapply\u001b[0m\u001b[0;34m(\u001b[0m\u001b[0mnp\u001b[0m\u001b[0;34m.\u001b[0m\u001b[0mlog1p\u001b[0m\u001b[0;34m)\u001b[0m\u001b[0;34m\u001b[0m\u001b[0;34m\u001b[0m\u001b[0m\n\u001b[0m",
            "\u001b[0;32m/usr/local/lib/python3.7/dist-packages/scipy/sparse/_index.py\u001b[0m in \u001b[0;36m__getitem__\u001b[0;34m(self, key)\u001b[0m\n\u001b[1;32m     33\u001b[0m     \"\"\"\n\u001b[1;32m     34\u001b[0m     \u001b[0;32mdef\u001b[0m \u001b[0m__getitem__\u001b[0m\u001b[0;34m(\u001b[0m\u001b[0mself\u001b[0m\u001b[0;34m,\u001b[0m \u001b[0mkey\u001b[0m\u001b[0;34m)\u001b[0m\u001b[0;34m:\u001b[0m\u001b[0;34m\u001b[0m\u001b[0;34m\u001b[0m\u001b[0m\n\u001b[0;32m---> 35\u001b[0;31m         \u001b[0mrow\u001b[0m\u001b[0;34m,\u001b[0m \u001b[0mcol\u001b[0m \u001b[0;34m=\u001b[0m \u001b[0mself\u001b[0m\u001b[0;34m.\u001b[0m\u001b[0m_validate_indices\u001b[0m\u001b[0;34m(\u001b[0m\u001b[0mkey\u001b[0m\u001b[0;34m)\u001b[0m\u001b[0;34m\u001b[0m\u001b[0;34m\u001b[0m\u001b[0m\n\u001b[0m\u001b[1;32m     36\u001b[0m         \u001b[0;31m# Dispatch to specialized methods.\u001b[0m\u001b[0;34m\u001b[0m\u001b[0;34m\u001b[0m\u001b[0;34m\u001b[0m\u001b[0m\n\u001b[1;32m     37\u001b[0m         \u001b[0;32mif\u001b[0m \u001b[0misinstance\u001b[0m\u001b[0;34m(\u001b[0m\u001b[0mrow\u001b[0m\u001b[0;34m,\u001b[0m \u001b[0mINT_TYPES\u001b[0m\u001b[0;34m)\u001b[0m\u001b[0;34m:\u001b[0m\u001b[0;34m\u001b[0m\u001b[0;34m\u001b[0m\u001b[0m\n",
            "\u001b[0;32m/usr/local/lib/python3.7/dist-packages/scipy/sparse/_index.py\u001b[0m in \u001b[0;36m_validate_indices\u001b[0;34m(self, key)\u001b[0m\n\u001b[1;32m    137\u001b[0m                 \u001b[0mrow\u001b[0m \u001b[0;34m+=\u001b[0m \u001b[0mM\u001b[0m\u001b[0;34m\u001b[0m\u001b[0;34m\u001b[0m\u001b[0m\n\u001b[1;32m    138\u001b[0m         \u001b[0;32melif\u001b[0m \u001b[0;32mnot\u001b[0m \u001b[0misinstance\u001b[0m\u001b[0;34m(\u001b[0m\u001b[0mrow\u001b[0m\u001b[0;34m,\u001b[0m \u001b[0mslice\u001b[0m\u001b[0;34m)\u001b[0m\u001b[0;34m:\u001b[0m\u001b[0;34m\u001b[0m\u001b[0;34m\u001b[0m\u001b[0m\n\u001b[0;32m--> 139\u001b[0;31m             \u001b[0mrow\u001b[0m \u001b[0;34m=\u001b[0m \u001b[0mself\u001b[0m\u001b[0;34m.\u001b[0m\u001b[0m_asindices\u001b[0m\u001b[0;34m(\u001b[0m\u001b[0mrow\u001b[0m\u001b[0;34m,\u001b[0m \u001b[0mM\u001b[0m\u001b[0;34m)\u001b[0m\u001b[0;34m\u001b[0m\u001b[0;34m\u001b[0m\u001b[0m\n\u001b[0m\u001b[1;32m    140\u001b[0m \u001b[0;34m\u001b[0m\u001b[0m\n\u001b[1;32m    141\u001b[0m         \u001b[0;32mif\u001b[0m \u001b[0misintlike\u001b[0m\u001b[0;34m(\u001b[0m\u001b[0mcol\u001b[0m\u001b[0;34m)\u001b[0m\u001b[0;34m:\u001b[0m\u001b[0;34m\u001b[0m\u001b[0;34m\u001b[0m\u001b[0m\n",
            "\u001b[0;32m/usr/local/lib/python3.7/dist-packages/scipy/sparse/_index.py\u001b[0m in \u001b[0;36m_asindices\u001b[0;34m(self, idx, length)\u001b[0m\n\u001b[1;32m    161\u001b[0m \u001b[0;34m\u001b[0m\u001b[0m\n\u001b[1;32m    162\u001b[0m         \u001b[0;32mif\u001b[0m \u001b[0mx\u001b[0m\u001b[0;34m.\u001b[0m\u001b[0mndim\u001b[0m \u001b[0;32mnot\u001b[0m \u001b[0;32min\u001b[0m \u001b[0;34m(\u001b[0m\u001b[0;36m1\u001b[0m\u001b[0;34m,\u001b[0m \u001b[0;36m2\u001b[0m\u001b[0;34m)\u001b[0m\u001b[0;34m:\u001b[0m\u001b[0;34m\u001b[0m\u001b[0;34m\u001b[0m\u001b[0m\n\u001b[0;32m--> 163\u001b[0;31m             \u001b[0;32mraise\u001b[0m \u001b[0mIndexError\u001b[0m\u001b[0;34m(\u001b[0m\u001b[0;34m'Index dimension must be <= 2'\u001b[0m\u001b[0;34m)\u001b[0m\u001b[0;34m\u001b[0m\u001b[0;34m\u001b[0m\u001b[0m\n\u001b[0m\u001b[1;32m    164\u001b[0m \u001b[0;34m\u001b[0m\u001b[0m\n\u001b[1;32m    165\u001b[0m         \u001b[0;32mif\u001b[0m \u001b[0mx\u001b[0m\u001b[0;34m.\u001b[0m\u001b[0msize\u001b[0m \u001b[0;34m==\u001b[0m \u001b[0;36m0\u001b[0m\u001b[0;34m:\u001b[0m\u001b[0;34m\u001b[0m\u001b[0;34m\u001b[0m\u001b[0m\n",
            "\u001b[0;31mIndexError\u001b[0m: Index dimension must be <= 2"
          ]
        }
      ]
    },
    {
      "cell_type": "code",
      "source": [
        "# merge X and X_gen\n",
        "# TODO"
      ],
      "metadata": {
        "id": "78lI6pLhFtsd"
      },
      "id": "78lI6pLhFtsd",
      "execution_count": null,
      "outputs": []
    },
    {
      "cell_type": "code",
      "source": [
        "test_size = 20/100\n",
        "\n",
        "X_train, X_test, y_train, y_test = train_test_split(X, y, \n",
        "                                                    test_size=test_size, \n",
        "                                                    random_state=42)\n"
      ],
      "metadata": {
        "id": "_P5mEx0UFtPT"
      },
      "id": "_P5mEx0UFtPT",
      "execution_count": null,
      "outputs": []
    },
    {
      "cell_type": "code",
      "source": [
        "scaler = StandardScaler()\n",
        "X_train[X_gen.columns] = pd.DataFrame(scaler.fit_transform(X_train[X_gen.columns]), columns=X_gen.columns)\n",
        "X_test[X_gen.columns] = pd.DataFrame(scaler.transform(X_test[X_gen.columns]), columns=X_gen.columns)\n",
        "\n"
      ],
      "metadata": {
        "id": "1_tQ0cW8FufP"
      },
      "id": "1_tQ0cW8FufP",
      "execution_count": null,
      "outputs": []
    }
  ],
  "metadata": {
    "kernelspec": {
      "display_name": "Python 3 (ipykernel)",
      "language": "python",
      "name": "python3"
    },
    "language_info": {
      "codemirror_mode": {
        "name": "ipython",
        "version": 3
      },
      "file_extension": ".py",
      "mimetype": "text/x-python",
      "name": "python",
      "nbconvert_exporter": "python",
      "pygments_lexer": "ipython3",
      "version": "3.9.7"
    },
    "latex_envs": {
      "LaTeX_envs_menu_present": true,
      "autoclose": false,
      "autocomplete": true,
      "bibliofile": "biblio.bib",
      "cite_by": "apalike",
      "current_citInitial": 1,
      "eqLabelWithNumbers": true,
      "eqNumInitial": 1,
      "hotkeys": {
        "equation": "Ctrl-E",
        "itemize": "Ctrl-I"
      },
      "labels_anchors": false,
      "latex_user_defs": false,
      "report_style_numbering": false,
      "user_envs_cfg": false
    },
    "colab": {
      "name": "try_log_transform.ipynb",
      "provenance": [],
      "collapsed_sections": [
        "XxbdPbmEDv-L",
        "JdcuPkc76vh1",
        "URgn6Ih7D5g0",
        "y9OsGVln81rO",
        "w6L4x2le84dF",
        "8Ij9yude868d",
        "BpJKp0Au9EAn",
        "N4t_4YLrEGLP"
      ]
    }
  },
  "nbformat": 4,
  "nbformat_minor": 5
}