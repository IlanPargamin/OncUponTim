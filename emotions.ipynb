{
  "cells": [
    {
      "cell_type": "markdown",
      "metadata": {
        "id": "QNmMdRzIID7k"
      },
      "source": [
        "# Emotions\n",
        "\n",
        "This file imports the text database and adds a feature: emotion.\n",
        "\n",
        "We use the model from hugginf face: https://huggingface.co/bhadresh-savani/distilbert-base-uncased-emotion\n",
        "\n",
        "The model is pretrained. We load it and apply it to each sentence of the texts. \n",
        "\n",
        "The feature \"emotion\" is a list of emotions.\n",
        "\n",
        "Ex: ['sad', 'sad', 'sad', 'happy', 'sad', 'surprise', 'anger']"
      ]
    },
    {
      "cell_type": "markdown",
      "metadata": {
        "id": "Crmx0zc2jRe1"
      },
      "source": [
        "## Imports"
      ]
    },
    {
      "cell_type": "markdown",
      "metadata": {
        "id": "gF0quJpqxwHZ"
      },
      "source": [
        "### Import modules"
      ]
    },
    {
      "cell_type": "code",
      "execution_count": 1,
      "metadata": {
        "colab": {
          "base_uri": "https://localhost:8080/"
        },
        "id": "6TD3g_j7aU80",
        "outputId": "5aa3d222-50da-4a0f-931f-c8ebd821bc7d"
      },
      "outputs": [
        {
          "output_type": "stream",
          "name": "stdout",
          "text": [
            "Looking in indexes: https://pypi.org/simple, https://us-python.pkg.dev/colab-wheels/public/simple/\n",
            "Requirement already satisfied: swifter in /usr/local/lib/python3.7/dist-packages (1.1.3)\n",
            "Requirement already satisfied: parso>0.4.0 in /usr/local/lib/python3.7/dist-packages (from swifter) (0.8.3)\n",
            "Requirement already satisfied: pandas>=1.0.0 in /usr/local/lib/python3.7/dist-packages (from swifter) (1.3.5)\n",
            "Requirement already satisfied: dask[dataframe]>=2.10.0 in /usr/local/lib/python3.7/dist-packages (from swifter) (2.12.0)\n",
            "Requirement already satisfied: tqdm>=4.33.0 in /usr/local/lib/python3.7/dist-packages (from swifter) (4.64.0)\n",
            "Requirement already satisfied: psutil>=5.6.6 in /usr/local/lib/python3.7/dist-packages (from swifter) (5.9.1)\n",
            "Requirement already satisfied: cloudpickle>=0.2.2 in /usr/local/lib/python3.7/dist-packages (from swifter) (1.3.0)\n",
            "Requirement already satisfied: bleach>=3.1.1 in /usr/local/lib/python3.7/dist-packages (from swifter) (5.0.0)\n",
            "Requirement already satisfied: ipywidgets>=7.0.0 in /usr/local/lib/python3.7/dist-packages (from swifter) (7.7.0)\n",
            "Requirement already satisfied: webencodings in /usr/local/lib/python3.7/dist-packages (from bleach>=3.1.1->swifter) (0.5.1)\n",
            "Requirement already satisfied: six>=1.9.0 in /usr/local/lib/python3.7/dist-packages (from bleach>=3.1.1->swifter) (1.15.0)\n",
            "Requirement already satisfied: fsspec>=0.6.0 in /usr/local/lib/python3.7/dist-packages (from dask[dataframe]>=2.10.0->swifter) (2022.5.0)\n",
            "Requirement already satisfied: numpy>=1.13.0 in /usr/local/lib/python3.7/dist-packages (from dask[dataframe]>=2.10.0->swifter) (1.21.6)\n",
            "Requirement already satisfied: partd>=0.3.10 in /usr/local/lib/python3.7/dist-packages (from dask[dataframe]>=2.10.0->swifter) (1.2.0)\n",
            "Requirement already satisfied: toolz>=0.7.3 in /usr/local/lib/python3.7/dist-packages (from dask[dataframe]>=2.10.0->swifter) (0.11.2)\n",
            "Requirement already satisfied: jupyterlab-widgets>=1.0.0 in /usr/local/lib/python3.7/dist-packages (from ipywidgets>=7.0.0->swifter) (1.1.0)\n",
            "Requirement already satisfied: ipython>=4.0.0 in /usr/local/lib/python3.7/dist-packages (from ipywidgets>=7.0.0->swifter) (5.5.0)\n",
            "Requirement already satisfied: nbformat>=4.2.0 in /usr/local/lib/python3.7/dist-packages (from ipywidgets>=7.0.0->swifter) (5.4.0)\n",
            "Requirement already satisfied: widgetsnbextension~=3.6.0 in /usr/local/lib/python3.7/dist-packages (from ipywidgets>=7.0.0->swifter) (3.6.0)\n",
            "Requirement already satisfied: traitlets>=4.3.1 in /usr/local/lib/python3.7/dist-packages (from ipywidgets>=7.0.0->swifter) (5.1.1)\n",
            "Requirement already satisfied: ipython-genutils~=0.2.0 in /usr/local/lib/python3.7/dist-packages (from ipywidgets>=7.0.0->swifter) (0.2.0)\n",
            "Requirement already satisfied: ipykernel>=4.5.1 in /usr/local/lib/python3.7/dist-packages (from ipywidgets>=7.0.0->swifter) (4.10.1)\n",
            "Requirement already satisfied: tornado>=4.0 in /usr/local/lib/python3.7/dist-packages (from ipykernel>=4.5.1->ipywidgets>=7.0.0->swifter) (5.1.1)\n",
            "Requirement already satisfied: jupyter-client in /usr/local/lib/python3.7/dist-packages (from ipykernel>=4.5.1->ipywidgets>=7.0.0->swifter) (5.3.5)\n",
            "Requirement already satisfied: decorator in /usr/local/lib/python3.7/dist-packages (from ipython>=4.0.0->ipywidgets>=7.0.0->swifter) (4.4.2)\n",
            "Requirement already satisfied: pickleshare in /usr/local/lib/python3.7/dist-packages (from ipython>=4.0.0->ipywidgets>=7.0.0->swifter) (0.7.5)\n",
            "Requirement already satisfied: pexpect in /usr/local/lib/python3.7/dist-packages (from ipython>=4.0.0->ipywidgets>=7.0.0->swifter) (4.8.0)\n",
            "Requirement already satisfied: pygments in /usr/local/lib/python3.7/dist-packages (from ipython>=4.0.0->ipywidgets>=7.0.0->swifter) (2.6.1)\n",
            "Requirement already satisfied: setuptools>=18.5 in /usr/local/lib/python3.7/dist-packages (from ipython>=4.0.0->ipywidgets>=7.0.0->swifter) (57.4.0)\n",
            "Requirement already satisfied: simplegeneric>0.8 in /usr/local/lib/python3.7/dist-packages (from ipython>=4.0.0->ipywidgets>=7.0.0->swifter) (0.8.1)\n",
            "Requirement already satisfied: prompt-toolkit<2.0.0,>=1.0.4 in /usr/local/lib/python3.7/dist-packages (from ipython>=4.0.0->ipywidgets>=7.0.0->swifter) (1.0.18)\n",
            "Requirement already satisfied: jupyter-core in /usr/local/lib/python3.7/dist-packages (from nbformat>=4.2.0->ipywidgets>=7.0.0->swifter) (4.10.0)\n",
            "Requirement already satisfied: fastjsonschema in /usr/local/lib/python3.7/dist-packages (from nbformat>=4.2.0->ipywidgets>=7.0.0->swifter) (2.15.3)\n",
            "Requirement already satisfied: jsonschema>=2.6 in /usr/local/lib/python3.7/dist-packages (from nbformat>=4.2.0->ipywidgets>=7.0.0->swifter) (4.3.3)\n",
            "Requirement already satisfied: importlib-metadata in /usr/local/lib/python3.7/dist-packages (from jsonschema>=2.6->nbformat>=4.2.0->ipywidgets>=7.0.0->swifter) (4.11.4)\n",
            "Requirement already satisfied: attrs>=17.4.0 in /usr/local/lib/python3.7/dist-packages (from jsonschema>=2.6->nbformat>=4.2.0->ipywidgets>=7.0.0->swifter) (21.4.0)\n",
            "Requirement already satisfied: typing-extensions in /usr/local/lib/python3.7/dist-packages (from jsonschema>=2.6->nbformat>=4.2.0->ipywidgets>=7.0.0->swifter) (4.2.0)\n",
            "Requirement already satisfied: pyrsistent!=0.17.0,!=0.17.1,!=0.17.2,>=0.14.0 in /usr/local/lib/python3.7/dist-packages (from jsonschema>=2.6->nbformat>=4.2.0->ipywidgets>=7.0.0->swifter) (0.18.1)\n",
            "Requirement already satisfied: importlib-resources>=1.4.0 in /usr/local/lib/python3.7/dist-packages (from jsonschema>=2.6->nbformat>=4.2.0->ipywidgets>=7.0.0->swifter) (5.7.1)\n",
            "Requirement already satisfied: zipp>=3.1.0 in /usr/local/lib/python3.7/dist-packages (from importlib-resources>=1.4.0->jsonschema>=2.6->nbformat>=4.2.0->ipywidgets>=7.0.0->swifter) (3.8.0)\n",
            "Requirement already satisfied: python-dateutil>=2.7.3 in /usr/local/lib/python3.7/dist-packages (from pandas>=1.0.0->swifter) (2.8.2)\n",
            "Requirement already satisfied: pytz>=2017.3 in /usr/local/lib/python3.7/dist-packages (from pandas>=1.0.0->swifter) (2022.1)\n",
            "Requirement already satisfied: locket in /usr/local/lib/python3.7/dist-packages (from partd>=0.3.10->dask[dataframe]>=2.10.0->swifter) (1.0.0)\n",
            "Requirement already satisfied: wcwidth in /usr/local/lib/python3.7/dist-packages (from prompt-toolkit<2.0.0,>=1.0.4->ipython>=4.0.0->ipywidgets>=7.0.0->swifter) (0.2.5)\n",
            "Requirement already satisfied: notebook>=4.4.1 in /usr/local/lib/python3.7/dist-packages (from widgetsnbextension~=3.6.0->ipywidgets>=7.0.0->swifter) (5.3.1)\n",
            "Requirement already satisfied: Send2Trash in /usr/local/lib/python3.7/dist-packages (from notebook>=4.4.1->widgetsnbextension~=3.6.0->ipywidgets>=7.0.0->swifter) (1.8.0)\n",
            "Requirement already satisfied: jinja2 in /usr/local/lib/python3.7/dist-packages (from notebook>=4.4.1->widgetsnbextension~=3.6.0->ipywidgets>=7.0.0->swifter) (2.11.3)\n",
            "Requirement already satisfied: nbconvert in /usr/local/lib/python3.7/dist-packages (from notebook>=4.4.1->widgetsnbextension~=3.6.0->ipywidgets>=7.0.0->swifter) (5.6.1)\n",
            "Requirement already satisfied: terminado>=0.8.1 in /usr/local/lib/python3.7/dist-packages (from notebook>=4.4.1->widgetsnbextension~=3.6.0->ipywidgets>=7.0.0->swifter) (0.13.3)\n",
            "Requirement already satisfied: pyzmq>=13 in /usr/local/lib/python3.7/dist-packages (from jupyter-client->ipykernel>=4.5.1->ipywidgets>=7.0.0->swifter) (23.1.0)\n",
            "Requirement already satisfied: ptyprocess in /usr/local/lib/python3.7/dist-packages (from terminado>=0.8.1->notebook>=4.4.1->widgetsnbextension~=3.6.0->ipywidgets>=7.0.0->swifter) (0.7.0)\n",
            "Requirement already satisfied: MarkupSafe>=0.23 in /usr/local/lib/python3.7/dist-packages (from jinja2->notebook>=4.4.1->widgetsnbextension~=3.6.0->ipywidgets>=7.0.0->swifter) (2.0.1)\n",
            "Requirement already satisfied: defusedxml in /usr/local/lib/python3.7/dist-packages (from nbconvert->notebook>=4.4.1->widgetsnbextension~=3.6.0->ipywidgets>=7.0.0->swifter) (0.7.1)\n",
            "Requirement already satisfied: pandocfilters>=1.4.1 in /usr/local/lib/python3.7/dist-packages (from nbconvert->notebook>=4.4.1->widgetsnbextension~=3.6.0->ipywidgets>=7.0.0->swifter) (1.5.0)\n",
            "Requirement already satisfied: entrypoints>=0.2.2 in /usr/local/lib/python3.7/dist-packages (from nbconvert->notebook>=4.4.1->widgetsnbextension~=3.6.0->ipywidgets>=7.0.0->swifter) (0.4)\n",
            "Requirement already satisfied: mistune<2,>=0.8.1 in /usr/local/lib/python3.7/dist-packages (from nbconvert->notebook>=4.4.1->widgetsnbextension~=3.6.0->ipywidgets>=7.0.0->swifter) (0.8.4)\n",
            "Requirement already satisfied: testpath in /usr/local/lib/python3.7/dist-packages (from nbconvert->notebook>=4.4.1->widgetsnbextension~=3.6.0->ipywidgets>=7.0.0->swifter) (0.6.0)\n"
          ]
        }
      ],
      "source": [
        "# swifter provides to faster way to use the function apply for pandas\n",
        "! pip install swifter\n",
        "import swifter"
      ]
    },
    {
      "cell_type": "code",
      "execution_count": 2,
      "metadata": {
        "id": "pm9c9J_AaMah"
      },
      "outputs": [],
      "source": [
        "import matplotlib.pyplot as plt\n",
        "import pandas as pd"
      ]
    },
    {
      "cell_type": "code",
      "execution_count": 3,
      "metadata": {
        "id": "GWNIA8Y3ab31"
      },
      "outputs": [],
      "source": [
        "# to track progression of the function 'apply'\n",
        "from tqdm.auto import tqdm\n",
        "tqdm.pandas()"
      ]
    },
    {
      "cell_type": "markdown",
      "metadata": {
        "id": "Ij02dSmG57ls"
      },
      "source": [
        "### Import model"
      ]
    },
    {
      "cell_type": "code",
      "execution_count": 4,
      "metadata": {
        "colab": {
          "base_uri": "https://localhost:8080/"
        },
        "id": "OnyPEMz959Fy",
        "outputId": "fa9cd95a-332f-40df-d955-bb3babd8c6f5"
      },
      "outputs": [
        {
          "output_type": "stream",
          "name": "stdout",
          "text": [
            "Drive already mounted at /content/drive/; to attempt to forcibly remount, call drive.mount(\"/content/drive/\", force_remount=True).\n"
          ]
        }
      ],
      "source": [
        "from google.colab import drive\n",
        "drive.mount('/content/drive/')"
      ]
    },
    {
      "cell_type": "code",
      "execution_count": 5,
      "metadata": {
        "colab": {
          "base_uri": "https://localhost:8080/"
        },
        "id": "gVg-zs_4GcBE",
        "outputId": "65a6193c-1ea8-43f7-bf42-0b0cd79902a3"
      },
      "outputs": [
        {
          "output_type": "stream",
          "name": "stdout",
          "text": [
            "Looking in indexes: https://pypi.org/simple, https://us-python.pkg.dev/colab-wheels/public/simple/\n",
            "Requirement already satisfied: transformers in /usr/local/lib/python3.7/dist-packages (4.19.4)\n",
            "Requirement already satisfied: huggingface-hub<1.0,>=0.1.0 in /usr/local/lib/python3.7/dist-packages (from transformers) (0.7.0)\n",
            "Requirement already satisfied: numpy>=1.17 in /usr/local/lib/python3.7/dist-packages (from transformers) (1.21.6)\n",
            "Requirement already satisfied: requests in /usr/local/lib/python3.7/dist-packages (from transformers) (2.23.0)\n",
            "Requirement already satisfied: tokenizers!=0.11.3,<0.13,>=0.11.1 in /usr/local/lib/python3.7/dist-packages (from transformers) (0.12.1)\n",
            "Requirement already satisfied: importlib-metadata in /usr/local/lib/python3.7/dist-packages (from transformers) (4.11.4)\n",
            "Requirement already satisfied: pyyaml>=5.1 in /usr/local/lib/python3.7/dist-packages (from transformers) (6.0)\n",
            "Requirement already satisfied: regex!=2019.12.17 in /usr/local/lib/python3.7/dist-packages (from transformers) (2022.6.2)\n",
            "Requirement already satisfied: tqdm>=4.27 in /usr/local/lib/python3.7/dist-packages (from transformers) (4.64.0)\n",
            "Requirement already satisfied: packaging>=20.0 in /usr/local/lib/python3.7/dist-packages (from transformers) (21.3)\n",
            "Requirement already satisfied: filelock in /usr/local/lib/python3.7/dist-packages (from transformers) (3.7.1)\n",
            "Requirement already satisfied: typing-extensions>=3.7.4.3 in /usr/local/lib/python3.7/dist-packages (from huggingface-hub<1.0,>=0.1.0->transformers) (4.2.0)\n",
            "Requirement already satisfied: pyparsing!=3.0.5,>=2.0.2 in /usr/local/lib/python3.7/dist-packages (from packaging>=20.0->transformers) (3.0.9)\n",
            "Requirement already satisfied: zipp>=0.5 in /usr/local/lib/python3.7/dist-packages (from importlib-metadata->transformers) (3.8.0)\n",
            "Requirement already satisfied: urllib3!=1.25.0,!=1.25.1,<1.26,>=1.21.1 in /usr/local/lib/python3.7/dist-packages (from requests->transformers) (1.24.3)\n",
            "Requirement already satisfied: chardet<4,>=3.0.2 in /usr/local/lib/python3.7/dist-packages (from requests->transformers) (3.0.4)\n",
            "Requirement already satisfied: certifi>=2017.4.17 in /usr/local/lib/python3.7/dist-packages (from requests->transformers) (2022.5.18.1)\n",
            "Requirement already satisfied: idna<3,>=2.5 in /usr/local/lib/python3.7/dist-packages (from requests->transformers) (2.10)\n"
          ]
        }
      ],
      "source": [
        "! pip install transformers"
      ]
    },
    {
      "cell_type": "code",
      "execution_count": 6,
      "metadata": {
        "id": "HfjffNAqGbOS"
      },
      "outputs": [],
      "source": [
        "from transformers import pipeline\n",
        "classifier = pipeline(\"text-classification\",\n",
        "                      model='bhadresh-savani/distilbert-base-uncased-emotion', \n",
        "                      return_all_scores=False)\n"
      ]
    },
    {
      "cell_type": "code",
      "execution_count": 73,
      "metadata": {
        "colab": {
          "base_uri": "https://localhost:8080/"
        },
        "id": "8y5wLZLyGrY6",
        "outputId": "095f5b5b-bc3f-40d3-e193-42b2c2f39825"
      },
      "outputs": [
        {
          "output_type": "execute_result",
          "data": {
            "text/plain": [
              "{'label': 'fear', 'score': 0.5137169361114502}"
            ]
          },
          "metadata": {},
          "execution_count": 73
        }
      ],
      "source": [
        "classifier(\"I've been thinking about death lately.\", )[0]"
      ]
    },
    {
      "cell_type": "code",
      "execution_count": 74,
      "metadata": {
        "colab": {
          "base_uri": "https://localhost:8080/"
        },
        "id": "AxWenxA8NrzM",
        "outputId": "25a5119a-2d52-4219-c9cf-9163639749ec"
      },
      "outputs": [
        {
          "output_type": "execute_result",
          "data": {
            "text/plain": [
              "{'label': 'anger', 'score': 0.6550639271736145}"
            ]
          },
          "metadata": {},
          "execution_count": 74
        }
      ],
      "source": [
        "classifier(\"For a long time, l used to go to bed early.\", )[0]"
      ]
    },
    {
      "cell_type": "code",
      "execution_count": 75,
      "metadata": {
        "colab": {
          "base_uri": "https://localhost:8080/"
        },
        "id": "kSGD820oM4Dv",
        "outputId": "24a8817e-bbe3-43d0-c1bf-65c74de221e1"
      },
      "outputs": [
        {
          "output_type": "execute_result",
          "data": {
            "text/plain": [
              "{'label': 'joy', 'score': 0.989703357219696}"
            ]
          },
          "metadata": {},
          "execution_count": 75
        }
      ],
      "source": [
        "classifier(\"It is a truth universally acknowledged that a man... \", )[0]"
      ]
    },
    {
      "cell_type": "code",
      "execution_count": 76,
      "metadata": {
        "colab": {
          "base_uri": "https://localhost:8080/"
        },
        "id": "0mX3XoUHOBkr",
        "outputId": "9aa27b7d-a2b8-4fdb-d2e6-da29eb038efb"
      },
      "outputs": [
        {
          "output_type": "execute_result",
          "data": {
            "text/plain": [
              "{'label': 'joy', 'score': 0.5901156663894653}"
            ]
          },
          "metadata": {},
          "execution_count": 76
        }
      ],
      "source": [
        "classifier(\"OMG!\", )[0]"
      ]
    },
    {
      "cell_type": "markdown",
      "metadata": {
        "id": "641RSZdz5190"
      },
      "source": [
        "### Import data"
      ]
    },
    {
      "cell_type": "code",
      "execution_count": 4,
      "metadata": {
        "id": "auSgPH9-IAD0"
      },
      "outputs": [],
      "source": [
        "df = pd.read_csv(\"drive/MyDrive/Final Project/story_data_new_feats.csv\")"
      ]
    },
    {
      "cell_type": "code",
      "execution_count": 5,
      "metadata": {
        "colab": {
          "base_uri": "https://localhost:8080/"
        },
        "id": "eX534vfyeoFf",
        "outputId": "bd84233a-9724-48d9-82a6-6e49958de126"
      },
      "outputs": [
        {
          "output_type": "execute_result",
          "data": {
            "text/plain": [
              "(18248, 85)"
            ]
          },
          "metadata": {},
          "execution_count": 5
        }
      ],
      "source": [
        "df.shape"
      ]
    },
    {
      "cell_type": "code",
      "execution_count": 6,
      "metadata": {
        "colab": {
          "base_uri": "https://localhost:8080/"
        },
        "id": "7kE53kNUNC-S",
        "outputId": "b9705a19-e7fd-477c-bd7f-e42a8d3651cc"
      },
      "outputs": [
        {
          "output_type": "execute_result",
          "data": {
            "text/plain": [
              "['\\n \\nLin had to figure out things, because objects, issues and all sorts of things gave her mind ideas about the past within heritage.',\n",
              " 'A moral code was however not modern when she was young, so she had to do wrong kind of acts, just because of it.',\n",
              " 'And afterwards try to have ways to solve it.',\n",
              " 'But her shame and guilt was laid down in her personality from fishermen and sailors, as that was her mum´s ancestry.',\n",
              " 'The compass on the sea might make you roam the waves as they roll into your blood, veins, muscles and sinews.',\n",
              " 'Her ancestry was of seas and seas have an order and a rule and a law that wash the soil, the sand, the rock.',\n",
              " 'Waving and weaving getting into you as the compass makes you roll on in a direction where something leads you.',\n",
              " 'Moral?',\n",
              " 'You might think that all sailors lack moral, but that is not alltogether true.',\n",
              " 'To stay poor winter after winter meant that Lin´s family had never been part of the slavetrade.',\n",
              " 'The poverty that then ran in Lin´s blood gave her some kind of uplifted sense of being above something.',\n",
              " 'And in Sweden the word ´something` means that moral issues has to be laid aside from the ego, letting moral work by itself.',\n",
              " 'And as it did so Lin had no reason to be personal in just any way, nor was she private just because of things.',\n",
              " 'But still, the problems began with family life.',\n",
              " 'Lin´s parents were not God´s best children, although they pressed their minds in all kinds of direction trying to bring up their kids.',\n",
              " 'And they tried their best.',\n",
              " 'Lin´s mum was as honest as the cliff, because cliffs have no way to tell lies.',\n",
              " 'That cliff was built on solid land, and built by the words from a Viking tradition.',\n",
              " 'Land should by law be built.',\n",
              " 'Man is man´s happiness.',\n",
              " 'Better burden carry no one than knowledge.',\n",
              " 'The Viking´s line was spread into literature, laws, gossips and folkelore.',\n",
              " 'Better burden had no one that the one who could see an enemy, and better knowledge to see a true friend.',\n",
              " 'Lin had met both.',\n",
              " 'And the knowledge from an enemy had to test one´s gut out to the last spot of the horizon.',\n",
              " 'And that horizon could bend its skyline only, and only if, the rising sun of the horoscope gave room for a splendid code of acting.',\n",
              " 'To act in accordance with one´s personality meant, sad to say, that the trust and faith in the road and journey meant that destiny brought Lin to go about and go everywhere, because of her sailor´s attitude.',\n",
              " 'Her mum had for real laid down a conduct within Lin that brought her classmates to roar high with laughter.',\n",
              " 'And to act silly and stupid within Viking tradition meant that you gave pleasure to the people because of joking.',\n",
              " 'It made people feel at ease with Lin, and they lowered their shield of face to let their own honesty pay a tribute to whatever.',\n",
              " 'Joking, yes, although the habit of joking also have its toll.',\n",
              " 'Not being taken seriously meant that Lin´s Swedish kind of lonely heart made her be dumb-drifted when acting out of the shere blue.',\n",
              " 'But, there is a but…\\nBeing honest, silly and dumb can give you an aura of acting out of no reason at all.',\n",
              " 'Still the joking spirit may make the wit comes round as a defence, according to Freud.',\n",
              " 'And having loads of defences means in the end that this habit might protect you from doing wrong things.',\n",
              " 'Act silly and you get closer to the intellect of defending your friends, because when you stand in the affair of others you can let their burden get its relief.',\n",
              " 'Sense of humour then can have witty jokes about the Black Coffee, because Black is a colour that has to be brought round from the meaning of association.',\n",
              " 'If your witty jokes makes the wrongdoers understand their own stupidity, then the jokes has got rid of the burden of guilt and shame.',\n",
              " 'Cause everyone of us carry a burden of sins, and everyone of us has to lift the jokes to a level of imagination where – the last to say it – the prejudices are brought to heaven where the issues of stupidity melt and overflood the scapegoat of Jesus Christ.',\n",
              " 'Such a sin that everyone have to get a good and deep laughter to rid the shame its own load and loathing.',\n",
              " 'Loath or load?',\n",
              " 'Where is the choice?',\n",
              " 'But beware!',\n",
              " 'Human understanding has no cost.',\n",
              " 'It is free.',\n",
              " 'It won´t pay your shoes.',\n",
              " 'It has no taxes for no one.',\n",
              " 'It does not sell what it has.',\n",
              " 'The freedom of thought goes deep within wisdom – and!',\n",
              " 'To bargain about prejudices might not always lead you into the path of human understanding.',\n",
              " 'Lin had a love for solidarity, at no cost.',\n",
              " 'Lin had a love for understanding, at no cost.',\n",
              " 'Lin had love for acting out the pressure of her soul and mind, and it gave her a gift of letting go of hate and mean thoughts.',\n",
              " 'But at times we all have mean thoughts, ideas and issues.',\n",
              " 'Stay back!',\n",
              " 'Stay away!',\n",
              " 'Get lost!',\n",
              " 'Get rid of your arm if your arm reach for the knife.',\n",
              " 'But?',\n",
              " 'If your knife of languages has sharpen your mouth and tongue, then outspoken and straight migh mean that words somehow prove words.',\n",
              " 'Lin had piled up all her words from the chamber of the past and in that abyss of the remote historic places she brought up issues that were to be a gift to the people.',\n",
              " 'To the people of all heritages, of all colours, of all walks of life, of all regions, states and contries… Jokes!',\n",
              " 'No joking?',\n",
              " 'Lin had a pressure on her, as her parents wanted her to be forward and straight.',\n",
              " 'This meant that she tried to escape discussions to not get involved in other people´s affairs.',\n",
              " 'But one day!',\n",
              " 'Lin´s odd style brought her once to head over heels run into a debate in a lost and remote classroom.',\n",
              " 'Head was lost.',\n",
              " 'Heels had its own cost…\\nAnd by her stupidity she had to solve the problenm she had created.',\n",
              " 'The teacher at that school forced her to stay off, not letting her into the discussion.',\n",
              " 'Over and over Lin only had her honesty to solve the situation with.',\n",
              " 'But lo!',\n",
              " 'The debate took the wrong turn, and Lin was thought of to be a racist.',\n",
              " 'Well that did hurt.',\n",
              " 'The only way to solve the matter was to lose her face, letting her stay on crime´s side to take her guilt and shame on herself.',\n",
              " 'Was she a criminal would you say?',\n",
              " 'If a racist can be proved to be guilty than under what law does the crime go?',\n",
              " 'The teacher had leading questions making Lin think that if she proved to be guilty they would give her a courtroom to solve the problem...no way!',\n",
              " 'No way at all!',\n",
              " 'The teacher, a high-born ”creature” was so proud of her tolerance that she made room for issues at all levels, just because of the level of her democrazy...Crazy democrazy?',\n",
              " 'Lin blew off her irony in several more ways than a dog could chew sixteen bones.',\n",
              " 'The bone of contention were its own matter, its own issue, its own means and method.',\n",
              " 'That´s about as far out West as the rest could go...Mrs teacher had an attitude of being above the sky, as the sky for her made marks on the horizon because of the British slavetrades.',\n",
              " 'Now odd matter, hu?',\n",
              " 'The moral of Lin meant that obeying the rules of Britain it meant to her that she saw no other way out of the situation.',\n",
              " 'Next she was forbidden to talk, forbidden to end her conversation, forbidden her own explanations.',\n",
              " 'And in the end…\\nShe sailed the ferry back home to Sweden, thinking she had to solve the problems she had run into.',\n",
              " 'But there was the gravest problem,.',\n",
              " 'The anti-racist had kept Lin outside the debates, which meant that rumours and gossip had been spread all over North Yorkshire.',\n",
              " 'From that attic on the moors was heard a female voice, kept closed in, not letting out the dark side of fear.',\n",
              " 'Not letting out dark matters in the open meant that Lin had been forced to close her virtues into her own mind.',\n",
              " 'And that is how her hate began.',\n",
              " 'Not being a part of the classroom.',\n",
              " 'Yes she was white and came to face the eyes of all dark matters.',\n",
              " 'Each and everyone of us is entitled to have a say, that is the best rules of freedom, although there might be exceptions.',\n",
              " 'If a classroom begins to operate outside the law, then the classroom can begin to find out who is guilty and who is not.',\n",
              " 'The teacher refused to give Lin her justice and her right to go to court to be tried out.',\n",
              " 'Not being tried means the proof is avoided, and as they are, it means that an anti-racist can begin to operate according to their own law.',\n",
              " 'Now!',\n",
              " 'Lin went back home, took up her studies, went through everything over and over and came to one conclusion.',\n",
              " 'If justice has its own rule then it must be measured in accordance with a kind of authority.',\n",
              " 'Whose authority?',\n",
              " 'Whose law?',\n",
              " 'A law must be tested and trained within democracy to prove its value.',\n",
              " 'A moral code is nothing if it can´t be in accordance with the tradition of people´s wish.',\n",
              " 'Land should by law be written.',\n",
              " 'The law Lin´s went home to search for was still there.',\n",
              " 'Viking.',\n",
              " 'Mideaval.',\n",
              " 'Renaissance, Baroque.',\n",
              " 'Classicism.',\n",
              " 'Enlightment.',\n",
              " 'Romanticism.',\n",
              " 'Realism.',\n",
              " 'Naturalism.',\n",
              " 'Symbolism.',\n",
              " 'The spread-out Modernism….but Postmodernism?',\n",
              " 'If the last era gave room and space for any and all issues without them being under a concern of moral conduct, then the means and methods of language had begun to fall apart.',\n",
              " 'Everything about everything was out on run, and the slave trade withing utterances proved – or did it?',\n",
              " 'Utterances for each and everyone.',\n",
              " 'It seemed to Lin that equality was once again for some only.',\n",
              " 'Perhaps for those who could master their own tradition.',\n",
              " 'And how many did?',\n",
              " 'Lin gazed towards sky.',\n",
              " 'The horizon bent forward, up and down in some sweaping minutes, perhaps hours.',\n",
              " 'Swept away was fear.',\n",
              " 'Swept away was the debate.',\n",
              " 'Swept away was the issues – into modes of the last fashion.',\n",
              " 'Lin said to herself that the problems of racism should not be under the label of colour, but rather ...The issue was not just a late fashion.',\n",
              " 'It was the core of who we are at hearts, mind and soul.',\n",
              " 'Talks about bodies proved nothing.',\n",
              " 'Talks about gender proved null.',\n",
              " 'Talks about human value was its own law, beyond the hubbalongcherioodoo of modes of latest news.',\n",
              " 'The latest news was to be get rid of, to get deeper into folklore and tradition.',\n",
              " 'As the music of Bob Dylan began giving Lin an echo, she heard the tone over and over.',\n",
              " 'Someone had done wrong.',\n",
              " 'Someone was to be a gossip.',\n",
              " 'The Media was on the run.',\n",
              " 'Where was the facts of hard core truth?',\n",
              " 'Lin tried her own thoughts to test them against her studies.',\n",
              " 'At once she felt her own personality was tried by destiny´s own wheel.',\n",
              " 'Over and over again swept the same issues over Mankind, and who was to stand the test of time?',\n",
              " 'The wheel kept rollling, faster and faster…\\nLin´s own destiny took her to poetry´s courtroom.',\n",
              " 'There she was asked to write it all down.',\n",
              " 'Fact, figures, speech, dreams, visions.',\n",
              " 'Her latest vision took her to a journey afar, a far off as something can go.',\n",
              " 'And when she returned down to the matters of earth she knew it.',\n",
              " 'Her personality might have had many flaws, but in the end.',\n",
              " 'The sin of hers was now washed clean again.',\n",
              " 'If not white, so at least more sure...']"
            ]
          },
          "metadata": {},
          "execution_count": 6
        }
      ],
      "source": [
        "# you should not use eval with untrusted input\n",
        "eval(df.story_sent[2])"
      ]
    },
    {
      "cell_type": "markdown",
      "metadata": {
        "id": "CZ7q2HI0MnDS"
      },
      "source": [
        "We will be using the feature 'story_sent', which corresponds to a list of sentences of the text."
      ]
    },
    {
      "cell_type": "markdown",
      "metadata": {
        "id": "KRau9vXT54Sf"
      },
      "source": [
        "## Apply model"
      ]
    },
    {
      "cell_type": "markdown",
      "metadata": {
        "id": "b0qs2C1xZLtn"
      },
      "source": [
        "### Example:"
      ]
    },
    {
      "cell_type": "code",
      "execution_count": 16,
      "metadata": {
        "colab": {
          "base_uri": "https://localhost:8080/"
        },
        "id": "-ENmQbvSZO8G",
        "outputId": "b8ee8a08-a6c0-4beb-e3d9-4cb76736b4d5"
      },
      "outputs": [
        {
          "output_type": "stream",
          "name": "stdout",
          "text": [
            "\n",
            "11:59  \n",
            "\tI shoot straight out of bed to an ear piercing alarm right outside my door.  The walls of this room are a dull white.  Every day that passes it seems as though those walls are closing in on me.  The bed feels as though I am sleeping on just springs.  The only other items in this room are a sink and a toilet.  The door, my only release from this hole, is so thick a bullet would not even pierce it.  There is a small window in here, which is more just a tease than anything else, showing me green grass for miles.  I have had to look at that and this depressing room for nine years, only leaving when I have a visitor.  Today though is different, today is the day I die.  This place is hell, this place is death row.  Every single day of my miserable nine years here, which is exactly 3,287 days, I have looked back at what got me here and thought about my life before I was sent here.  Today is no different. \n",
            "***\n",
            "\tI pull into the garage parking lot after a hectic day at the office; I ha\n"
          ]
        }
      ],
      "source": [
        "print(df['text_str'][0][:1000])"
      ]
    },
    {
      "cell_type": "code",
      "execution_count": 18,
      "metadata": {
        "colab": {
          "base_uri": "https://localhost:8080/"
        },
        "id": "IZemakXrot9D",
        "outputId": "0eb7094c-63f4-40d4-83d3-f4f744ae2bdd"
      },
      "outputs": [
        {
          "output_type": "execute_result",
          "data": {
            "text/plain": [
              "{'label': 'sadness', 'score': 0.9958788156509399}"
            ]
          },
          "metadata": {},
          "execution_count": 18
        }
      ],
      "source": [
        "classifier(df['text_str'][0][:1000], )[0]"
      ]
    },
    {
      "cell_type": "markdown",
      "metadata": {
        "id": "lwcoD3GEZd-H"
      },
      "source": [
        "It seems quite accurate on this example."
      ]
    },
    {
      "cell_type": "markdown",
      "metadata": {
        "id": "6Mrt1FTQZve8"
      },
      "source": [
        "### By sentences:"
      ]
    },
    {
      "cell_type": "code",
      "execution_count": 10,
      "metadata": {
        "id": "A_t10PcsZzrt"
      },
      "outputs": [],
      "source": [
        "def pipeline_sent(row):\n",
        "  \"\"\"\n",
        "  Applies the model to each sentence of the given text\n",
        "  Counts the occurences of each label (fear, joy...)\n",
        "  Assign the counter value to the label corresponding column\n",
        "  \"\"\"\n",
        "  out = []\n",
        "  for sentence in eval(row['story_sent']):\n",
        "    try:\n",
        "      out.append(classifier(sentence, )[0]['label'],)\n",
        "    except:\n",
        "      pass\n",
        "  row['emotion_all'] = out\n",
        "  for label in set(out):\n",
        "    row['emotion_' + label] = out.count(label)\n",
        "  \n",
        "  return row"
      ]
    },
    {
      "cell_type": "markdown",
      "metadata": {
        "id": "YyZSb1oGky2N"
      },
      "source": [
        "We chunk the data set into 80 data sets, and we save each one of them once the code is executed for each.\n",
        "\n",
        "It should take an hour to apply the function to each data set.\n",
        "\n",
        "In total, 80 hours."
      ]
    },
    {
      "cell_type": "code",
      "execution_count": 11,
      "metadata": {
        "colab": {
          "base_uri": "https://localhost:8080/"
        },
        "id": "01T3cSP1nLlf",
        "outputId": "88362a9f-b779-451d-95ac-8789cc79f4fd"
      },
      "outputs": [
        {
          "output_type": "execute_result",
          "data": {
            "text/plain": [
              "225.0"
            ]
          },
          "metadata": {},
          "execution_count": 11
        }
      ],
      "source": [
        "splits = 80\n",
        "18000/splits"
      ]
    },
    {
      "cell_type": "code",
      "execution_count": 12,
      "metadata": {
        "id": "pJRZhPPWhczX"
      },
      "outputs": [],
      "source": [
        "chunk_size = int(df.shape[0] / splits-1)\n",
        "df_subset = dict()\n",
        "for start in range(0, df.shape[0], chunk_size):\n",
        "    df_subset[start] = df.iloc[start:start + chunk_size]\n",
        "fract = list(df_subset.keys())\n",
        "for i,j in zip(range(1, len(fract)+1), fract):\n",
        "  df_subset[i] = df_subset.pop(j)"
      ]
    },
    {
      "cell_type": "code",
      "source": [
        "len(df_subset)"
      ],
      "metadata": {
        "colab": {
          "base_uri": "https://localhost:8080/"
        },
        "id": "80FWhsxnv15V",
        "outputId": "f05fdcd3-442d-4ee3-8485-f5b14a6165f6"
      },
      "execution_count": 102,
      "outputs": [
        {
          "output_type": "execute_result",
          "data": {
            "text/plain": [
              "81"
            ]
          },
          "metadata": {},
          "execution_count": 102
        }
      ]
    },
    {
      "cell_type": "code",
      "source": [
        "emotion_cols = ['emotion_all',\n",
        "       'emotion_anger', 'emotion_fear', 'emotion_joy', 'emotion_love',\n",
        "       'emotion_sadness', 'emotion_surprise']"
      ],
      "metadata": {
        "id": "KuRKja-l_e8i"
      },
      "execution_count": 13,
      "outputs": []
    },
    {
      "cell_type": "code",
      "source": [
        "df.shape"
      ],
      "metadata": {
        "colab": {
          "base_uri": "https://localhost:8080/"
        },
        "id": "gAPpaW6JlvaJ",
        "outputId": "afd66f61-d1a9-4710-c556-ba1a2c4a5c98"
      },
      "execution_count": 19,
      "outputs": [
        {
          "output_type": "execute_result",
          "data": {
            "text/plain": [
              "(18248, 78)"
            ]
          },
          "metadata": {},
          "execution_count": 19
        }
      ]
    },
    {
      "cell_type": "code",
      "execution_count": 121,
      "metadata": {
        "id": "IYGnAfL5zgy1"
      },
      "outputs": [],
      "source": [
        "# each sentence\n",
        "for i tqdm(range(1, 82)):\n",
        "  # apply function\n",
        "  \n",
        "  df_emotion_subset = df_subset[i].swifter.apply(pipeline_sent, axis=1)\n",
        "    \n",
        "  # save csv\n",
        "  df_emotion_subset[emotion_cols].to_csv(f'drive/MyDrive/Final Project/emotion_features/df_emotion_subset_{i}.csv', index=False)"
      ]
    },
    {
      "cell_type": "markdown",
      "metadata": {
        "id": "mhLC1Ei0xtGj"
      },
      "source": [
        "Load all the files"
      ]
    },
    {
      "cell_type": "code",
      "source": [
        "# merge files\n",
        "# ..."
      ],
      "metadata": {
        "id": "oQset1isfx8r"
      },
      "execution_count": 107,
      "outputs": []
    },
    {
      "cell_type": "markdown",
      "source": [
        "Add to main file"
      ],
      "metadata": {
        "id": "zGpVnB771Pkx"
      }
    },
    {
      "cell_type": "code",
      "source": [
        "df = pd.read_csv(\"drive/MyDrive/Final Project/story_data_new_feats.csv\")"
      ],
      "metadata": {
        "id": "G_a8SSCuzv15"
      },
      "execution_count": null,
      "outputs": []
    },
    {
      "cell_type": "code",
      "source": [
        "df_emotions = pd.read_csv(\"drive/MyDrive/Final Project/df_emotions.csv\")"
      ],
      "metadata": {
        "id": "DIJ6JhCczHII"
      },
      "execution_count": 113,
      "outputs": []
    },
    {
      "cell_type": "code",
      "source": [
        "result = pd.concat([df, df_emotions], axis=1, join='inner')\n"
      ],
      "metadata": {
        "id": "_vVY6d5rz2LG"
      },
      "execution_count": 114,
      "outputs": []
    },
    {
      "cell_type": "code",
      "source": [
        "result.to_csv(f'drive/MyDrive/Final Project/story_data_new_feats.csv', index=False)"
      ],
      "metadata": {
        "id": "-UVRCKGh0ePu"
      },
      "execution_count": 117,
      "outputs": []
    },
    {
      "cell_type": "markdown",
      "metadata": {
        "id": "mNLZPAPuZ3GH"
      },
      "source": [
        "### By texts:"
      ]
    },
    {
      "cell_type": "markdown",
      "metadata": {
        "id": "wg1n2_3Pn_nL"
      },
      "source": [
        "If we have by sentence, we do not need by text.\n",
        "\n",
        "The code takes appeoximately 2 hours (less)."
      ]
    },
    {
      "cell_type": "code",
      "execution_count": null,
      "metadata": {
        "id": "YXxpxPlrZ_dR"
      },
      "outputs": [],
      "source": [
        "def pipeline_text(row):\n",
        "  \"\"\"\n",
        "  Applies the model to the given text (first 1000 characters)\n",
        "  \"\"\"\n",
        "  row['emotion'] = classifier(row['text_str'][:1000], )[0]['label']\n",
        "  \n",
        "  return row"
      ]
    },
    {
      "cell_type": "code",
      "execution_count": null,
      "metadata": {
        "id": "bTJCLv8om3kj"
      },
      "outputs": [],
      "source": [
        "# whole text\n",
        "df = df.progress_apply(pipeline_text, axis=1)"
      ]
    },
    {
      "cell_type": "code",
      "execution_count": null,
      "metadata": {
        "id": "y54SGz_JMehY"
      },
      "outputs": [],
      "source": [
        "# # each text with swifter\n",
        "# %%time\n",
        "# df = df.swifter.apply(pipeline_text, axis=1)"
      ]
    },
    {
      "cell_type": "code",
      "execution_count": null,
      "metadata": {
        "id": "i6OwKQ1gb6Oq"
      },
      "outputs": [],
      "source": [
        "df.emotion.unique()"
      ]
    },
    {
      "cell_type": "code",
      "execution_count": null,
      "metadata": {
        "id": "vVrOjLI8cIL5"
      },
      "outputs": [],
      "source": [
        "df.shape"
      ]
    },
    {
      "cell_type": "code",
      "execution_count": null,
      "metadata": {
        "id": "bpoX1y1FbJB9"
      },
      "outputs": [],
      "source": [
        "# One hot encode the emotion\n",
        "df = pd.get_dummies(df, columns=['emotion'])"
      ]
    },
    {
      "cell_type": "code",
      "execution_count": null,
      "metadata": {
        "id": "VTim21EWcPvw"
      },
      "outputs": [],
      "source": [
        "df.shape"
      ]
    },
    {
      "cell_type": "markdown",
      "metadata": {
        "id": "saiFD3NEaDae"
      },
      "source": [
        "## Results"
      ]
    },
    {
      "cell_type": "code",
      "execution_count": null,
      "metadata": {
        "id": "7fsxgkM8XKdH"
      },
      "outputs": [],
      "source": [
        "# with pd.option_context('display.max_rows', 2, 'display.max_columns', None): \n",
        "#     display(df.sample(5))"
      ]
    },
    {
      "cell_type": "markdown",
      "metadata": {
        "id": "Fp_CpHGtdwzg"
      },
      "source": [
        "### Exploration for emotions by text"
      ]
    },
    {
      "cell_type": "code",
      "execution_count": 7,
      "metadata": {
        "id": "FgualDLfawhu"
      },
      "outputs": [],
      "source": [
        "emotions_cols = [col for col in df if col.startswith('emotion')]"
      ]
    },
    {
      "cell_type": "code",
      "execution_count": 8,
      "metadata": {
        "id": "vjOzKRAvclnP",
        "colab": {
          "base_uri": "https://localhost:8080/",
          "height": 700
        },
        "outputId": "cc62638c-52a6-4e37-e5a7-cdc95cfada06"
      },
      "outputs": [
        {
          "output_type": "execute_result",
          "data": {
            "text/plain": [
              "<matplotlib.axes._subplots.AxesSubplot at 0x7f4cc60f4d50>"
            ]
          },
          "metadata": {},
          "execution_count": 8
        },
        {
          "output_type": "display_data",
          "data": {
            "text/plain": [
              "<Figure size 720x720 with 1 Axes>"
            ],
            "image/png": "[encoded data removed]"
          },
          "metadata": {
            "needs_background": "light"
          }
        }
      ],
      "source": [
        "dfm = df[emotions_cols].melt()\n",
        "dfm = dfm[dfm.value==1]\n",
        "plot_df = (\n",
        "    pd.crosstab(dfm['variable'], dfm['value'])\n",
        ")\n",
        "plot_df.plot.bar(figsize=(10,10))\n",
        "# plt.tight_layout()\n",
        "# plt.show()\n"
      ]
    },
    {
      "cell_type": "code",
      "source": [
        "emotions_cols.remove('emotion_all')"
      ],
      "metadata": {
        "id": "VQ2zWXQb3fTr"
      },
      "execution_count": 16,
      "outputs": []
    },
    {
      "cell_type": "code",
      "source": [
        "emotions_cols"
      ],
      "metadata": {
        "colab": {
          "base_uri": "https://localhost:8080/"
        },
        "id": "RoDSwEye3q_U",
        "outputId": "69bd21fa-5c8f-4226-8090-4556780b4767"
      },
      "execution_count": 17,
      "outputs": [
        {
          "output_type": "execute_result",
          "data": {
            "text/plain": [
              "['emotion_anger',\n",
              " 'emotion_fear',\n",
              " 'emotion_joy',\n",
              " 'emotion_love',\n",
              " 'emotion_sadness',\n",
              " 'emotion_surprise']"
            ]
          },
          "metadata": {},
          "execution_count": 17
        }
      ]
    },
    {
      "cell_type": "code",
      "execution_count": 18,
      "metadata": {
        "id": "YQZBTTmsat7D",
        "colab": {
          "base_uri": "https://localhost:8080/",
          "height": 745
        },
        "outputId": "34a8c269-4f8f-4082-e672-965821efd979"
      },
      "outputs": [
        {
          "output_type": "display_data",
          "data": {
            "text/plain": [
              "<Figure size 936x720 with 6 Axes>"
            ],
            "image/png": "[encoded data removed]"
          },
          "metadata": {
            "needs_background": "light"
          }
        }
      ],
      "source": [
        "# Distribution of new features\n",
        "my_j = int(len(emotions_cols)/2)\n",
        "f,ax=plt.subplots(my_j,2, figsize=(13,10), constrained_layout = True)\n",
        "feat_iter=iter(emotions_cols)\n",
        "for i in range(my_j):\n",
        "    for j in range(2):\n",
        "      try:\n",
        "        x = next(feat_iter)\n",
        "        ax[i,j].hist(df[x], bins=50)\n",
        "        ax[i,j].set_title(x)\n",
        "      except StopIteration:\n",
        "          pass"
      ]
    },
    {
      "cell_type": "code",
      "execution_count": 24,
      "metadata": {
        "id": "aAnkJhxjc4Mk",
        "colab": {
          "base_uri": "https://localhost:8080/",
          "height": 601
        },
        "outputId": "3740238a-7dc4-4deb-fee7-fdc03d34b577"
      },
      "outputs": [
        {
          "output_type": "display_data",
          "data": {
            "text/plain": [
              "<Figure size 936x576 with 6 Axes>"
            ],
            "image/png": "[encoded data removed]"
          },
          "metadata": {
            "needs_background": "light"
          }
        }
      ],
      "source": [
        "target = 'num_likes'\n",
        "my_j = int(len(emotions_cols)/3)\n",
        "\n",
        "f,ax=plt.subplots(my_j,\n",
        "                  3, \n",
        "                  figsize=(13,8), \n",
        "                  constrained_layout = True)\n",
        "feat_iter=iter(emotions_cols)\n",
        "\n",
        "for i in range(my_j):\n",
        "    for j in range(3):\n",
        "      try:\n",
        "        x = next(feat_iter)\n",
        "        ax[i,j].scatter(df[x], df[target])\n",
        "        #df.groupby(x)[target].mean().sort_values().plot.bar(ax=ax[i,j])\n",
        "        ax[i,j].set_title(f\"{target} by {x} (means), {df[x].corr(df[target]):.3f}\")\n",
        "      except StopIteration:\n",
        "          pass"
      ]
    },
    {
      "cell_type": "markdown",
      "source": [
        "We can do a Bayesian model since they are all normal"
      ],
      "metadata": {
        "id": "oD3zxcFn2dWk"
      }
    },
    {
      "cell_type": "markdown",
      "metadata": {
        "id": "wWyxZPIzd0Dj"
      },
      "source": [
        "### Exploration for emotions by sentences"
      ]
    },
    {
      "cell_type": "code",
      "execution_count": null,
      "metadata": {
        "id": "s6xN47RSd2Bk"
      },
      "outputs": [],
      "source": [
        "# todo"
      ]
    },
    {
      "cell_type": "code",
      "execution_count": null,
      "metadata": {
        "id": "BjJxzQXyiAC2"
      },
      "outputs": [],
      "source": [
        "emotions_cols = [col for col in df_1_emotion if col.startswith('emotion')]\n",
        "emotions_cols.remove('emotion_all')"
      ]
    },
    {
      "cell_type": "code",
      "execution_count": null,
      "metadata": {
        "id": "WdM9lTW5hwxP"
      },
      "outputs": [],
      "source": [
        "with pd.option_context('display.max_rows', 5, 'display.max_columns', None): \n",
        "    display(df_1_emotion[emotions_cols].sample(5))"
      ]
    },
    {
      "cell_type": "markdown",
      "metadata": {
        "id": "L82QA6JjidJF"
      },
      "source": [
        "Missing values"
      ]
    },
    {
      "cell_type": "code",
      "execution_count": 25,
      "metadata": {
        "id": "2brcDs0hic24"
      },
      "outputs": [],
      "source": [
        "for var_to_fill in emotions_cols:\n",
        "  to_fill_with = 0 \n",
        "  df[var_to_fill].fillna(to_fill_with, inplace = True)\n",
        "  df[var_to_fill].fillna(to_fill_with, inplace = True)"
      ]
    },
    {
      "cell_type": "markdown",
      "metadata": {
        "id": "4SvD5gHNi5aR"
      },
      "source": [
        "Histograms"
      ]
    },
    {
      "cell_type": "code",
      "execution_count": 27,
      "metadata": {
        "id": "956F9SfMi7O4",
        "colab": {
          "base_uri": "https://localhost:8080/",
          "height": 745
        },
        "outputId": "f5023322-b46b-47b0-f31a-71f4c7f5561f"
      },
      "outputs": [
        {
          "output_type": "display_data",
          "data": {
            "text/plain": [
              "<Figure size 936x720 with 6 Axes>"
            ],
            "image/png": "[encoded data removed]"
          },
          "metadata": {
            "needs_background": "light"
          }
        }
      ],
      "source": [
        "# Distribution of new features\n",
        "my_j = int(len(emotions_cols)/2)\n",
        "f,ax=plt.subplots(my_j,2, figsize=(13,10), constrained_layout = True)\n",
        "feat_iter=iter(emotions_cols)\n",
        "for i in range(my_j):\n",
        "    for j in range(2):\n",
        "      try:\n",
        "        x = next(feat_iter)\n",
        "        ax[i,j].hist(df[x], bins=50)\n",
        "        ax[i,j].set_title(x)\n",
        "      except StopIteration:\n",
        "          pass"
      ]
    },
    {
      "cell_type": "markdown",
      "metadata": {
        "id": "UyvycOPnirmX"
      },
      "source": [
        "Scatterplot with target"
      ]
    },
    {
      "cell_type": "code",
      "execution_count": 26,
      "metadata": {
        "id": "hWUzxr1Nd4cA",
        "colab": {
          "base_uri": "https://localhost:8080/",
          "height": 601
        },
        "outputId": "2a722b03-66aa-40f3-966a-8ba8d61759dd"
      },
      "outputs": [
        {
          "output_type": "display_data",
          "data": {
            "text/plain": [
              "<Figure size 936x576 with 6 Axes>"
            ],
            "image/png": "[encoded data removed]"
          },
          "metadata": {
            "needs_background": "light"
          }
        }
      ],
      "source": [
        "target = 'num_likes'\n",
        "my_j = int(len(emotions_cols)/3)\n",
        "\n",
        "f,ax=plt.subplots(my_j,\n",
        "                  3, \n",
        "                  figsize=(13,8), \n",
        "                  constrained_layout = True)\n",
        "feat_iter=iter(emotions_cols)\n",
        "\n",
        "for i in range(my_j):\n",
        "    for j in range(3):\n",
        "      try:\n",
        "        x = next(feat_iter)\n",
        "        ax[i,j].scatter(df[x], df[target])\n",
        "        #df.groupby(x)[target].mean().sort_values().plot.bar(ax=ax[i,j])\n",
        "        ax[i,j].set_title(f\"{target} by {x} (means), {df[x].corr(df[target]):.3f}\")\n",
        "      except StopIteration:\n",
        "          pass"
      ]
    },
    {
      "cell_type": "markdown",
      "metadata": {
        "id": "OWUB2ik-5-eX"
      },
      "source": [
        "## Save csv file"
      ]
    },
    {
      "cell_type": "code",
      "execution_count": null,
      "metadata": {
        "id": "qlh-EKyz6CU8"
      },
      "outputs": [],
      "source": [
        "df.to_csv('story_data_new_feats.csv', index=False)"
      ]
    }
  ],
  "metadata": {
    "colab": {
      "collapsed_sections": [
        "gF0quJpqxwHZ",
        "Ij02dSmG57ls",
        "641RSZdz5190",
        "b0qs2C1xZLtn",
        "6Mrt1FTQZve8",
        "mNLZPAPuZ3GH"
      ],
      "name": "emotions.ipynb",
      "provenance": []
    },
    "kernelspec": {
      "display_name": "Python 3",
      "name": "python3"
    },
    "language_info": {
      "name": "python"
    }
  },
  "nbformat": 4,
  "nbformat_minor": 0
}