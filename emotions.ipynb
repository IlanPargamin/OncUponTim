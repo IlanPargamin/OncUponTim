{
  "cells": [
    {
      "cell_type": "markdown",
      "metadata": {
        "id": "QNmMdRzIID7k"
      },
      "source": [
        "# Emotions\n",
        "\n",
        "This file imports the text database and adds a feature: emotion.\n",
        "\n",
        "We use the model from hugginf face: https://huggingface.co/bhadresh-savani/distilbert-base-uncased-emotion\n",
        "\n",
        "The model is pretrained. We load it and apply it to each sentence of the texts. \n",
        "\n",
        "The feature \"emotion\" is a list of emotions.\n",
        "\n",
        "Ex: ['sad', 'sad', 'sad', 'happy', 'sad', 'surprise', 'anger']"
      ]
    },
    {
      "cell_type": "markdown",
      "metadata": {
        "id": "Crmx0zc2jRe1"
      },
      "source": [
        "## Imports"
      ]
    },
    {
      "cell_type": "markdown",
      "metadata": {
        "id": "gF0quJpqxwHZ"
      },
      "source": [
        "### Import modules"
      ]
    },
    {
      "cell_type": "code",
      "execution_count": null,
      "metadata": {
        "id": "pm9c9J_AaMah"
      },
      "outputs": [],
      "source": [
        "import matplotlib.pyplot as plt\n",
        "import pandas as pd"
      ]
    },
    {
      "cell_type": "code",
      "execution_count": null,
      "metadata": {
        "id": "GWNIA8Y3ab31"
      },
      "outputs": [],
      "source": [
        "# to track progression of the function 'apply'\n",
        "from tqdm.auto import tqdm\n",
        "tqdm.pandas()"
      ]
    },
    {
      "cell_type": "markdown",
      "metadata": {
        "id": "Ij02dSmG57ls"
      },
      "source": [
        "### Import model"
      ]
    },
    {
      "cell_type": "code",
      "execution_count": 1,
      "metadata": {
        "colab": {
          "base_uri": "https://localhost:8080/"
        },
        "id": "OnyPEMz959Fy",
        "outputId": "40505da2-6921-4247-8100-c7f6ff20341a"
      },
      "outputs": [
        {
          "output_type": "stream",
          "name": "stdout",
          "text": [
            "Mounted at /content/drive/\n"
          ]
        }
      ],
      "source": [
        "from google.colab import drive\n",
        "drive.mount('/content/drive/')"
      ]
    },
    {
      "cell_type": "code",
      "execution_count": null,
      "metadata": {
        "colab": {
          "base_uri": "https://localhost:8080/"
        },
        "id": "gVg-zs_4GcBE",
        "outputId": "22d33d60-2d75-454b-aa24-4a1ed3058a60"
      },
      "outputs": [
        {
          "output_type": "stream",
          "name": "stdout",
          "text": [
            "Looking in indexes: https://pypi.org/simple, https://us-python.pkg.dev/colab-wheels/public/simple/\n",
            "Collecting transformers\n",
            "  Downloading transformers-4.19.4-py3-none-any.whl (4.2 MB)\n",
            "\u001b[K     |████████████████████████████████| 4.2 MB 14.3 MB/s \n",
            "\u001b[?25hRequirement already satisfied: importlib-metadata in /usr/local/lib/python3.7/dist-packages (from transformers) (4.11.4)\n",
            "Requirement already satisfied: requests in /usr/local/lib/python3.7/dist-packages (from transformers) (2.23.0)\n",
            "Requirement already satisfied: numpy>=1.17 in /usr/local/lib/python3.7/dist-packages (from transformers) (1.21.6)\n",
            "Requirement already satisfied: packaging>=20.0 in /usr/local/lib/python3.7/dist-packages (from transformers) (21.3)\n",
            "Requirement already satisfied: tqdm>=4.27 in /usr/local/lib/python3.7/dist-packages (from transformers) (4.64.0)\n",
            "Requirement already satisfied: filelock in /usr/local/lib/python3.7/dist-packages (from transformers) (3.7.1)\n",
            "Collecting pyyaml>=5.1\n",
            "  Downloading PyYAML-6.0-cp37-cp37m-manylinux_2_5_x86_64.manylinux1_x86_64.manylinux_2_12_x86_64.manylinux2010_x86_64.whl (596 kB)\n",
            "\u001b[K     |████████████████████████████████| 596 kB 55.7 MB/s \n",
            "\u001b[?25hRequirement already satisfied: regex!=2019.12.17 in /usr/local/lib/python3.7/dist-packages (from transformers) (2022.6.2)\n",
            "Collecting huggingface-hub<1.0,>=0.1.0\n",
            "  Downloading huggingface_hub-0.7.0-py3-none-any.whl (86 kB)\n",
            "\u001b[K     |████████████████████████████████| 86 kB 6.0 MB/s \n",
            "\u001b[?25hCollecting tokenizers!=0.11.3,<0.13,>=0.11.1\n",
            "  Downloading tokenizers-0.12.1-cp37-cp37m-manylinux_2_12_x86_64.manylinux2010_x86_64.whl (6.6 MB)\n",
            "\u001b[K     |████████████████████████████████| 6.6 MB 63.1 MB/s \n",
            "\u001b[?25hRequirement already satisfied: typing-extensions>=3.7.4.3 in /usr/local/lib/python3.7/dist-packages (from huggingface-hub<1.0,>=0.1.0->transformers) (4.2.0)\n",
            "Requirement already satisfied: pyparsing!=3.0.5,>=2.0.2 in /usr/local/lib/python3.7/dist-packages (from packaging>=20.0->transformers) (3.0.9)\n",
            "Requirement already satisfied: zipp>=0.5 in /usr/local/lib/python3.7/dist-packages (from importlib-metadata->transformers) (3.8.0)\n",
            "Requirement already satisfied: urllib3!=1.25.0,!=1.25.1,<1.26,>=1.21.1 in /usr/local/lib/python3.7/dist-packages (from requests->transformers) (1.24.3)\n",
            "Requirement already satisfied: certifi>=2017.4.17 in /usr/local/lib/python3.7/dist-packages (from requests->transformers) (2022.5.18.1)\n",
            "Requirement already satisfied: idna<3,>=2.5 in /usr/local/lib/python3.7/dist-packages (from requests->transformers) (2.10)\n",
            "Requirement already satisfied: chardet<4,>=3.0.2 in /usr/local/lib/python3.7/dist-packages (from requests->transformers) (3.0.4)\n",
            "Installing collected packages: pyyaml, tokenizers, huggingface-hub, transformers\n",
            "  Attempting uninstall: pyyaml\n",
            "    Found existing installation: PyYAML 3.13\n",
            "    Uninstalling PyYAML-3.13:\n",
            "      Successfully uninstalled PyYAML-3.13\n",
            "Successfully installed huggingface-hub-0.7.0 pyyaml-6.0 tokenizers-0.12.1 transformers-4.19.4\n"
          ]
        }
      ],
      "source": [
        "! pip install transformers"
      ]
    },
    {
      "cell_type": "code",
      "execution_count": null,
      "metadata": {
        "id": "HfjffNAqGbOS",
        "colab": {
          "base_uri": "https://localhost:8080/",
          "referenced_widgets": [
            "9ef7d9bbf1604de5a9cc53030bf0521e",
            "d6e341c4b8684f4d88c461ffd87b704d",
            "911aebf9de26446e8be13bee87b7971e",
            "09177b0f427747b7b7f1cbba41021472",
            "930b5eabc8494d3ba3e0dfe56bdcccad",
            "de5be6839bef4af39f62e0f605dedf8f",
            "9a7b56c35bcc48cb90e02e56bda15766",
            "d26d24d0f8964a82956cb12b600995ad",
            "1b46c467caaf44bd94e8c76b7bd7f2e7",
            "51dbffccbdd74206966cb36be53bfcf6",
            "007829b276774e3eb2f15373f6374c64",
            "d496109f04344b6abb295b08f73f6be7",
            "d3db6f47bef2474abbef014768a9fe54",
            "9d6e7c90d3694dd380ce429974141a38",
            "265dc1ed8148453cb3c2891af40e2696",
            "ceaa6570717d4697af101a252dbff81e",
            "106cf235d00a43ccaa16223873629980",
            "e2873ead74fa4221b835b3272bc589cb",
            "8d2fb01e9ec34ceab82b13631498ab95",
            "b0d1ffc0c44046efa1f9c246b15331a3",
            "592351a12cfa4943966caff48df2d406",
            "eaa77c72337f4e098254600e6d8425ec",
            "b794e7d5138c4182a8b5fbef0bc4a7e9",
            "7f5abd44d9b543feaaa5b42cbabf4315",
            "2eb302a9ae91463f9734afff154652d6",
            "b3271daef9c548c2ba05f8583585b76f",
            "261976720aa9458a8c61ab65b442375e",
            "7db17068c82e4a709f48f907953b1632",
            "1bb29b53cb1443409a208dd996cdcc62",
            "65ce8138684d4983bb98880654aa8956",
            "6b4e23b349a442cea4a9ad0482078017",
            "19644527d8e14f2995b0193ea5344300",
            "0d02ad580fe24089abc7a0e8a00adf48",
            "038ecb0ac3e14502b7f63d889e8d6791",
            "9cc52ea64c9d4f8e8afae9d1154dd1aa",
            "aabcc401e8da4908924d4a2397b0d8ba",
            "e93408b99638489081295e160b89e97c",
            "40ccafe78c2a4393b35560ea46741d0b",
            "cc6aaf31f4be47218f6f16970b1e1755",
            "691e485157f847fbad4e3dd8c0ba5bd8",
            "22025c92eb07459db5988f01de58f03f",
            "0f1277fd4ab7462581bba8db90c3e6e5",
            "eaf028e299914bd3bffe494ed58bb646",
            "12a9ef1102dd4104ba29ae25e374343c",
            "30897c7108714e23afba3ed48e4a6db9",
            "2236f0b0e866425dadd1cc3babb32dd6",
            "e898862a92e141fb89552fb030fc5b36",
            "f4dd71eb8fb04d139fab6a9481ced4d0",
            "ab72c28bae1340599bf42d7bbe2fc6e5",
            "7e1c2159cf2a43eba4c37ff3d7f0fbcf",
            "d15f3f1d34cf4d38a193c992be9c80e5",
            "a1684d2d6a9945ad9f90ac937868ce11",
            "e6af9341dec14aad98c217ce1e1d3ed9",
            "e3bdd198bee04607b46a5292183aafe2",
            "ad78b71593b047cc992be7c6bfe54343"
          ]
        },
        "outputId": "e2001828-9f80-4d32-d105-67132f7c5bf7"
      },
      "outputs": [
        {
          "output_type": "display_data",
          "data": {
            "text/plain": [
              "Downloading:   0%|          | 0.00/768 [00:00<?, ?B/s]"
            ],
            "application/vnd.jupyter.widget-view+json": {
              "version_major": 2,
              "version_minor": 0,
              "model_id": "9ef7d9bbf1604de5a9cc53030bf0521e"
            }
          },
          "metadata": {}
        },
        {
          "output_type": "display_data",
          "data": {
            "text/plain": [
              "Downloading:   0%|          | 0.00/255M [00:00<?, ?B/s]"
            ],
            "application/vnd.jupyter.widget-view+json": {
              "version_major": 2,
              "version_minor": 0,
              "model_id": "d496109f04344b6abb295b08f73f6be7"
            }
          },
          "metadata": {}
        },
        {
          "output_type": "display_data",
          "data": {
            "text/plain": [
              "Downloading:   0%|          | 0.00/291 [00:00<?, ?B/s]"
            ],
            "application/vnd.jupyter.widget-view+json": {
              "version_major": 2,
              "version_minor": 0,
              "model_id": "b794e7d5138c4182a8b5fbef0bc4a7e9"
            }
          },
          "metadata": {}
        },
        {
          "output_type": "display_data",
          "data": {
            "text/plain": [
              "Downloading:   0%|          | 0.00/226k [00:00<?, ?B/s]"
            ],
            "application/vnd.jupyter.widget-view+json": {
              "version_major": 2,
              "version_minor": 0,
              "model_id": "038ecb0ac3e14502b7f63d889e8d6791"
            }
          },
          "metadata": {}
        },
        {
          "output_type": "display_data",
          "data": {
            "text/plain": [
              "Downloading:   0%|          | 0.00/112 [00:00<?, ?B/s]"
            ],
            "application/vnd.jupyter.widget-view+json": {
              "version_major": 2,
              "version_minor": 0,
              "model_id": "30897c7108714e23afba3ed48e4a6db9"
            }
          },
          "metadata": {}
        }
      ],
      "source": [
        "from transformers import pipeline\n",
        "classifier = pipeline(\"text-classification\",\n",
        "                      model='bhadresh-savani/distilbert-base-uncased-emotion', \n",
        "                      return_all_scores=False)\n"
      ]
    },
    {
      "cell_type": "code",
      "execution_count": null,
      "metadata": {
        "colab": {
          "base_uri": "https://localhost:8080/"
        },
        "id": "8y5wLZLyGrY6",
        "outputId": "4f827731-08c3-425c-d9ac-b992479c1ac3"
      },
      "outputs": [
        {
          "output_type": "execute_result",
          "data": {
            "text/plain": [
              "{'label': 'fear', 'score': 0.5137169361114502}"
            ]
          },
          "metadata": {},
          "execution_count": 6
        }
      ],
      "source": [
        "classifier(\"I've been thinking about death lately.\", )[0]"
      ]
    },
    {
      "cell_type": "code",
      "execution_count": null,
      "metadata": {
        "colab": {
          "base_uri": "https://localhost:8080/"
        },
        "id": "AxWenxA8NrzM",
        "outputId": "1a563591-d6a0-4544-a11b-709ec1cff251"
      },
      "outputs": [
        {
          "output_type": "execute_result",
          "data": {
            "text/plain": [
              "{'label': 'anger', 'score': 0.6550639271736145}"
            ]
          },
          "metadata": {},
          "execution_count": 7
        }
      ],
      "source": [
        "classifier(\"For a long time, l used to go to bed early.\", )[0]"
      ]
    },
    {
      "cell_type": "code",
      "execution_count": null,
      "metadata": {
        "colab": {
          "base_uri": "https://localhost:8080/"
        },
        "id": "kSGD820oM4Dv",
        "outputId": "469c7046-c997-4343-a28d-d1cde26cd7e3"
      },
      "outputs": [
        {
          "output_type": "execute_result",
          "data": {
            "text/plain": [
              "{'label': 'joy', 'score': 0.989703357219696}"
            ]
          },
          "metadata": {},
          "execution_count": 8
        }
      ],
      "source": [
        "classifier(\"It is a truth universally acknowledged that a man... \", )[0]"
      ]
    },
    {
      "cell_type": "code",
      "execution_count": null,
      "metadata": {
        "colab": {
          "base_uri": "https://localhost:8080/"
        },
        "id": "0mX3XoUHOBkr",
        "outputId": "ad7dc0d6-2715-45c8-c512-98a26adfed38"
      },
      "outputs": [
        {
          "output_type": "execute_result",
          "data": {
            "text/plain": [
              "{'label': 'joy', 'score': 0.5901156663894653}"
            ]
          },
          "metadata": {},
          "execution_count": 9
        }
      ],
      "source": [
        "classifier(\"OMG!\", )[0]"
      ]
    },
    {
      "cell_type": "markdown",
      "metadata": {
        "id": "641RSZdz5190"
      },
      "source": [
        "### Import data"
      ]
    },
    {
      "cell_type": "code",
      "execution_count": null,
      "metadata": {
        "id": "auSgPH9-IAD0"
      },
      "outputs": [],
      "source": [
        "df = pd.read_csv(\"drive/MyDrive/Final Project/story_data_new_feats.csv\")"
      ]
    },
    {
      "cell_type": "code",
      "execution_count": null,
      "metadata": {
        "colab": {
          "base_uri": "https://localhost:8080/"
        },
        "id": "7kE53kNUNC-S",
        "outputId": "9103949b-1770-4fed-aa86-dcc0e6573051"
      },
      "outputs": [
        {
          "output_type": "execute_result",
          "data": {
            "text/plain": [
              "['\\n \\nLin had to figure out things, because objects, issues and all sorts of things gave her mind ideas about the past within heritage.',\n",
              " 'A moral code was however not modern when she was young, so she had to do wrong kind of acts, just because of it.',\n",
              " 'And afterwards try to have ways to solve it.',\n",
              " 'But her shame and guilt was laid down in her personality from fishermen and sailors, as that was her mum´s ancestry.',\n",
              " 'The compass on the sea might make you roam the waves as they roll into your blood, veins, muscles and sinews.',\n",
              " 'Her ancestry was of seas and seas have an order and a rule and a law that wash the soil, the sand, the rock.',\n",
              " 'Waving and weaving getting into you as the compass makes you roll on in a direction where something leads you.',\n",
              " 'Moral?',\n",
              " 'You might think that all sailors lack moral, but that is not alltogether true.',\n",
              " 'To stay poor winter after winter meant that Lin´s family had never been part of the slavetrade.',\n",
              " 'The poverty that then ran in Lin´s blood gave her some kind of uplifted sense of being above something.',\n",
              " 'And in Sweden the word ´something` means that moral issues has to be laid aside from the ego, letting moral work by itself.',\n",
              " 'And as it did so Lin had no reason to be personal in just any way, nor was she private just because of things.',\n",
              " 'But still, the problems began with family life.',\n",
              " 'Lin´s parents were not God´s best children, although they pressed their minds in all kinds of direction trying to bring up their kids.',\n",
              " 'And they tried their best.',\n",
              " 'Lin´s mum was as honest as the cliff, because cliffs have no way to tell lies.',\n",
              " 'That cliff was built on solid land, and built by the words from a Viking tradition.',\n",
              " 'Land should by law be built.',\n",
              " 'Man is man´s happiness.',\n",
              " 'Better burden carry no one than knowledge.',\n",
              " 'The Viking´s line was spread into literature, laws, gossips and folkelore.',\n",
              " 'Better burden had no one that the one who could see an enemy, and better knowledge to see a true friend.',\n",
              " 'Lin had met both.',\n",
              " 'And the knowledge from an enemy had to test one´s gut out to the last spot of the horizon.',\n",
              " 'And that horizon could bend its skyline only, and only if, the rising sun of the horoscope gave room for a splendid code of acting.',\n",
              " 'To act in accordance with one´s personality meant, sad to say, that the trust and faith in the road and journey meant that destiny brought Lin to go about and go everywhere, because of her sailor´s attitude.',\n",
              " 'Her mum had for real laid down a conduct within Lin that brought her classmates to roar high with laughter.',\n",
              " 'And to act silly and stupid within Viking tradition meant that you gave pleasure to the people because of joking.',\n",
              " 'It made people feel at ease with Lin, and they lowered their shield of face to let their own honesty pay a tribute to whatever.',\n",
              " 'Joking, yes, although the habit of joking also have its toll.',\n",
              " 'Not being taken seriously meant that Lin´s Swedish kind of lonely heart made her be dumb-drifted when acting out of the shere blue.',\n",
              " 'But, there is a but…\\nBeing honest, silly and dumb can give you an aura of acting out of no reason at all.',\n",
              " 'Still the joking spirit may make the wit comes round as a defence, according to Freud.',\n",
              " 'And having loads of defences means in the end that this habit might protect you from doing wrong things.',\n",
              " 'Act silly and you get closer to the intellect of defending your friends, because when you stand in the affair of others you can let their burden get its relief.',\n",
              " 'Sense of humour then can have witty jokes about the Black Coffee, because Black is a colour that has to be brought round from the meaning of association.',\n",
              " 'If your witty jokes makes the wrongdoers understand their own stupidity, then the jokes has got rid of the burden of guilt and shame.',\n",
              " 'Cause everyone of us carry a burden of sins, and everyone of us has to lift the jokes to a level of imagination where – the last to say it – the prejudices are brought to heaven where the issues of stupidity melt and overflood the scapegoat of Jesus Christ.',\n",
              " 'Such a sin that everyone have to get a good and deep laughter to rid the shame its own load and loathing.',\n",
              " 'Loath or load?',\n",
              " 'Where is the choice?',\n",
              " 'But beware!',\n",
              " 'Human understanding has no cost.',\n",
              " 'It is free.',\n",
              " 'It won´t pay your shoes.',\n",
              " 'It has no taxes for no one.',\n",
              " 'It does not sell what it has.',\n",
              " 'The freedom of thought goes deep within wisdom – and!',\n",
              " 'To bargain about prejudices might not always lead you into the path of human understanding.',\n",
              " 'Lin had a love for solidarity, at no cost.',\n",
              " 'Lin had a love for understanding, at no cost.',\n",
              " 'Lin had love for acting out the pressure of her soul and mind, and it gave her a gift of letting go of hate and mean thoughts.',\n",
              " 'But at times we all have mean thoughts, ideas and issues.',\n",
              " 'Stay back!',\n",
              " 'Stay away!',\n",
              " 'Get lost!',\n",
              " 'Get rid of your arm if your arm reach for the knife.',\n",
              " 'But?',\n",
              " 'If your knife of languages has sharpen your mouth and tongue, then outspoken and straight migh mean that words somehow prove words.',\n",
              " 'Lin had piled up all her words from the chamber of the past and in that abyss of the remote historic places she brought up issues that were to be a gift to the people.',\n",
              " 'To the people of all heritages, of all colours, of all walks of life, of all regions, states and contries… Jokes!',\n",
              " 'No joking?',\n",
              " 'Lin had a pressure on her, as her parents wanted her to be forward and straight.',\n",
              " 'This meant that she tried to escape discussions to not get involved in other people´s affairs.',\n",
              " 'But one day!',\n",
              " 'Lin´s odd style brought her once to head over heels run into a debate in a lost and remote classroom.',\n",
              " 'Head was lost.',\n",
              " 'Heels had its own cost…\\nAnd by her stupidity she had to solve the problenm she had created.',\n",
              " 'The teacher at that school forced her to stay off, not letting her into the discussion.',\n",
              " 'Over and over Lin only had her honesty to solve the situation with.',\n",
              " 'But lo!',\n",
              " 'The debate took the wrong turn, and Lin was thought of to be a racist.',\n",
              " 'Well that did hurt.',\n",
              " 'The only way to solve the matter was to lose her face, letting her stay on crime´s side to take her guilt and shame on herself.',\n",
              " 'Was she a criminal would you say?',\n",
              " 'If a racist can be proved to be guilty than under what law does the crime go?',\n",
              " 'The teacher had leading questions making Lin think that if she proved to be guilty they would give her a courtroom to solve the problem...no way!',\n",
              " 'No way at all!',\n",
              " 'The teacher, a high-born ”creature” was so proud of her tolerance that she made room for issues at all levels, just because of the level of her democrazy...Crazy democrazy?',\n",
              " 'Lin blew off her irony in several more ways than a dog could chew sixteen bones.',\n",
              " 'The bone of contention were its own matter, its own issue, its own means and method.',\n",
              " 'That´s about as far out West as the rest could go...Mrs teacher had an attitude of being above the sky, as the sky for her made marks on the horizon because of the British slavetrades.',\n",
              " 'Now odd matter, hu?',\n",
              " 'The moral of Lin meant that obeying the rules of Britain it meant to her that she saw no other way out of the situation.',\n",
              " 'Next she was forbidden to talk, forbidden to end her conversation, forbidden her own explanations.',\n",
              " 'And in the end…\\nShe sailed the ferry back home to Sweden, thinking she had to solve the problems she had run into.',\n",
              " 'But there was the gravest problem,.',\n",
              " 'The anti-racist had kept Lin outside the debates, which meant that rumours and gossip had been spread all over North Yorkshire.',\n",
              " 'From that attic on the moors was heard a female voice, kept closed in, not letting out the dark side of fear.',\n",
              " 'Not letting out dark matters in the open meant that Lin had been forced to close her virtues into her own mind.',\n",
              " 'And that is how her hate began.',\n",
              " 'Not being a part of the classroom.',\n",
              " 'Yes she was white and came to face the eyes of all dark matters.',\n",
              " 'Each and everyone of us is entitled to have a say, that is the best rules of freedom, although there might be exceptions.',\n",
              " 'If a classroom begins to operate outside the law, then the classroom can begin to find out who is guilty and who is not.',\n",
              " 'The teacher refused to give Lin her justice and her right to go to court to be tried out.',\n",
              " 'Not being tried means the proof is avoided, and as they are, it means that an anti-racist can begin to operate according to their own law.',\n",
              " 'Now!',\n",
              " 'Lin went back home, took up her studies, went through everything over and over and came to one conclusion.',\n",
              " 'If justice has its own rule then it must be measured in accordance with a kind of authority.',\n",
              " 'Whose authority?',\n",
              " 'Whose law?',\n",
              " 'A law must be tested and trained within democracy to prove its value.',\n",
              " 'A moral code is nothing if it can´t be in accordance with the tradition of people´s wish.',\n",
              " 'Land should by law be written.',\n",
              " 'The law Lin´s went home to search for was still there.',\n",
              " 'Viking.',\n",
              " 'Mideaval.',\n",
              " 'Renaissance, Baroque.',\n",
              " 'Classicism.',\n",
              " 'Enlightment.',\n",
              " 'Romanticism.',\n",
              " 'Realism.',\n",
              " 'Naturalism.',\n",
              " 'Symbolism.',\n",
              " 'The spread-out Modernism….but Postmodernism?',\n",
              " 'If the last era gave room and space for any and all issues without them being under a concern of moral conduct, then the means and methods of language had begun to fall apart.',\n",
              " 'Everything about everything was out on run, and the slave trade withing utterances proved – or did it?',\n",
              " 'Utterances for each and everyone.',\n",
              " 'It seemed to Lin that equality was once again for some only.',\n",
              " 'Perhaps for those who could master their own tradition.',\n",
              " 'And how many did?',\n",
              " 'Lin gazed towards sky.',\n",
              " 'The horizon bent forward, up and down in some sweaping minutes, perhaps hours.',\n",
              " 'Swept away was fear.',\n",
              " 'Swept away was the debate.',\n",
              " 'Swept away was the issues – into modes of the last fashion.',\n",
              " 'Lin said to herself that the problems of racism should not be under the label of colour, but rather ...The issue was not just a late fashion.',\n",
              " 'It was the core of who we are at hearts, mind and soul.',\n",
              " 'Talks about bodies proved nothing.',\n",
              " 'Talks about gender proved null.',\n",
              " 'Talks about human value was its own law, beyond the hubbalongcherioodoo of modes of latest news.',\n",
              " 'The latest news was to be get rid of, to get deeper into folklore and tradition.',\n",
              " 'As the music of Bob Dylan began giving Lin an echo, she heard the tone over and over.',\n",
              " 'Someone had done wrong.',\n",
              " 'Someone was to be a gossip.',\n",
              " 'The Media was on the run.',\n",
              " 'Where was the facts of hard core truth?',\n",
              " 'Lin tried her own thoughts to test them against her studies.',\n",
              " 'At once she felt her own personality was tried by destiny´s own wheel.',\n",
              " 'Over and over again swept the same issues over Mankind, and who was to stand the test of time?',\n",
              " 'The wheel kept rollling, faster and faster…\\nLin´s own destiny took her to poetry´s courtroom.',\n",
              " 'There she was asked to write it all down.',\n",
              " 'Fact, figures, speech, dreams, visions.',\n",
              " 'Her latest vision took her to a journey afar, a far off as something can go.',\n",
              " 'And when she returned down to the matters of earth she knew it.',\n",
              " 'Her personality might have had many flaws, but in the end.',\n",
              " 'The sin of hers was now washed clean again.',\n",
              " 'If not white, so at least more sure...']"
            ]
          },
          "metadata": {},
          "execution_count": 11
        }
      ],
      "source": [
        "# you should not use eval with untrusted input\n",
        "eval(df.story_sent[2])"
      ]
    },
    {
      "cell_type": "markdown",
      "metadata": {
        "id": "CZ7q2HI0MnDS"
      },
      "source": [
        "We will be using the feature 'story_sent', which corresponds to a list of sentences of the text."
      ]
    },
    {
      "cell_type": "markdown",
      "metadata": {
        "id": "KRau9vXT54Sf"
      },
      "source": [
        "## Apply model"
      ]
    },
    {
      "cell_type": "markdown",
      "metadata": {
        "id": "b0qs2C1xZLtn"
      },
      "source": [
        "### Example:"
      ]
    },
    {
      "cell_type": "code",
      "execution_count": null,
      "metadata": {
        "colab": {
          "base_uri": "https://localhost:8080/"
        },
        "id": "-ENmQbvSZO8G",
        "outputId": "849d1183-5cb8-4b57-d262-59ab02526f42"
      },
      "outputs": [
        {
          "output_type": "stream",
          "name": "stdout",
          "text": [
            "\n",
            "11:59  \n",
            "\tI shoot straight out of bed to an ear piercing alarm right outside my door.  The walls of this room are a dull white.  Every day that passes it seems as though those walls are closing in on me.  The bed feels as though I am sleeping on just springs.  The only other items in this room are a sink and a toilet.  The door, my only release from this hole, is so thick a bullet would not even pierce it.  There is a small window in here, which is more just a tease than anything else, showing me green grass for miles.  I have had to look at that and this depressing room for nine years, only leaving when I have a visitor.  Today though is different, today is the day I die.  This place is hell, this place is death row.  Every single day of my miserable nine years here, which is exactly 3,287 days, I have looked back at what got me here and thought about my life before I was sent here.  Today is no different. \n",
            "***\n",
            "\tI pull into the garage parking lot after a hectic day at the office; I ha\n"
          ]
        }
      ],
      "source": [
        "print(df['text_str'][0][:1000])"
      ]
    },
    {
      "cell_type": "code",
      "execution_count": null,
      "metadata": {
        "colab": {
          "base_uri": "https://localhost:8080/"
        },
        "id": "IZemakXrot9D",
        "outputId": "ff1a3935-b07e-435a-ad2c-f014fc680cb7"
      },
      "outputs": [
        {
          "output_type": "execute_result",
          "data": {
            "text/plain": [
              "{'label': 'sadness', 'score': 0.9958788156509399}"
            ]
          },
          "metadata": {},
          "execution_count": 13
        }
      ],
      "source": [
        "classifier(df['text_str'][0][:1000], )[0]"
      ]
    },
    {
      "cell_type": "markdown",
      "metadata": {
        "id": "lwcoD3GEZd-H"
      },
      "source": [
        "It seems quite accurate on this example."
      ]
    },
    {
      "cell_type": "markdown",
      "metadata": {
        "id": "6Mrt1FTQZve8"
      },
      "source": [
        "### By sentences:"
      ]
    },
    {
      "cell_type": "code",
      "execution_count": null,
      "metadata": {
        "id": "A_t10PcsZzrt"
      },
      "outputs": [],
      "source": [
        "def pipeline_sent(row):\n",
        "  \"\"\"\n",
        "  Applies the model to each sentence of the given text\n",
        "  Counts the occurences of each label (fear, joy...)\n",
        "  Assign the counter value to the label corresponding column\n",
        "  \"\"\"\n",
        "  out = []\n",
        "  for sentence in eval(row['story_sent']):\n",
        "    try:\n",
        "      out.append(classifier(sentence, )[0]['label'],)\n",
        "    except:\n",
        "      pass\n",
        "  row['emotion_all'] = out\n",
        "  for label in set(out):\n",
        "    row['emotion_' + label] = out.count(label)\n",
        "  \n",
        "  return row"
      ]
    },
    {
      "cell_type": "markdown",
      "metadata": {
        "id": "YyZSb1oGky2N"
      },
      "source": [
        "We chunk the data set into 80 data sets, and we save each one of them once the code is executed for each.\n",
        "\n",
        "It should take an hour to apply the function to each data set.\n",
        "\n",
        "In total, 80 hours."
      ]
    },
    {
      "cell_type": "code",
      "execution_count": null,
      "metadata": {
        "colab": {
          "base_uri": "https://localhost:8080/"
        },
        "id": "01T3cSP1nLlf",
        "outputId": "63209687-5413-43fc-f9e1-0c1a34ddbaeb"
      },
      "outputs": [
        {
          "output_type": "execute_result",
          "data": {
            "text/plain": [
              "225.0"
            ]
          },
          "metadata": {},
          "execution_count": 15
        }
      ],
      "source": [
        "splits = 80\n",
        "18000/splits"
      ]
    },
    {
      "cell_type": "code",
      "execution_count": null,
      "metadata": {
        "id": "pJRZhPPWhczX"
      },
      "outputs": [],
      "source": [
        "chunk_size = int(df.shape[0] / splits-1)\n",
        "df_subset = dict()\n",
        "for start in range(0, df.shape[0], chunk_size):\n",
        "    df_subset[start] = df.iloc[start:start + chunk_size]\n",
        "fract = list(df_subset.keys())\n",
        "for i,j in zip(range(1, len(fract)+1), fract):\n",
        "  df_subset[i] = df_subset.pop(j)"
      ]
    },
    {
      "cell_type": "code",
      "source": [
        "len(df_subset)"
      ],
      "metadata": {
        "colab": {
          "base_uri": "https://localhost:8080/"
        },
        "id": "80FWhsxnv15V",
        "outputId": "aa6c6586-8d8f-4a63-ec1c-9b3d25adcbe8"
      },
      "execution_count": null,
      "outputs": [
        {
          "output_type": "execute_result",
          "data": {
            "text/plain": [
              "81"
            ]
          },
          "metadata": {},
          "execution_count": 17
        }
      ]
    },
    {
      "cell_type": "code",
      "source": [
        "emotion_cols = ['emotion_all',\n",
        "       'emotion_anger', 'emotion_fear', 'emotion_joy', 'emotion_love',\n",
        "       'emotion_sadness', 'emotion_surprise']"
      ],
      "metadata": {
        "id": "KuRKja-l_e8i"
      },
      "execution_count": 23,
      "outputs": []
    },
    {
      "cell_type": "code",
      "execution_count": null,
      "metadata": {
        "id": "IYGnAfL5zgy1"
      },
      "outputs": [],
      "source": [
        "# each sentence\n",
        "for i in tqdm(range(1, 82)):\n",
        "  # apply function\n",
        "  df_emotion_subset = df_subset[i].swifter.apply(pipeline_sent, axis=1)\n",
        "    \n",
        "  # save csv\n",
        "  df_emotion_subset[emotion_cols].to_csv(f'drive/MyDrive/Final Project/emotion_features/df_emotion_subset_{i}.csv', index=False)"
      ]
    },
    {
      "cell_type": "markdown",
      "source": [
        "We already ran the code above."
      ],
      "metadata": {
        "id": "_y5pNyQVS0DK"
      }
    },
    {
      "cell_type": "markdown",
      "metadata": {
        "id": "mhLC1Ei0xtGj"
      },
      "source": [
        "Merge all the files"
      ]
    },
    {
      "cell_type": "code",
      "source": [
        "# merge files\n",
        "df_to_merge = pd.read_csv(\"drive/MyDrive/Final Project/emotion_features/df_emotion_subset_1.csv\")\n",
        "for i in tqdm(range(1,82)):\n",
        "  df_to_add = pd.read_csv(f\"drive/MyDrive/Final Project/emotion_features/df_emotion_subset_{i}.csv\")\n",
        "  df_to_merge = pd.concat([df_to_merge, df_to_add])\n",
        "                          \n"
      ],
      "metadata": {
        "id": "oQset1isfx8r"
      },
      "execution_count": null,
      "outputs": []
    },
    {
      "cell_type": "code",
      "source": [
        "# missing values are 0\n",
        "for var_to_fill in emotion_cols:\n",
        "  to_fill_with = 0 \n",
        "  df_to_merge[var_to_fill].fillna(to_fill_with, inplace = True)"
      ],
      "metadata": {
        "id": "v8VkC8I2WRNf"
      },
      "execution_count": 9,
      "outputs": []
    },
    {
      "cell_type": "code",
      "source": [
        "# normalize_emotions\n",
        "df_to_merge[['emotion_anger', 'emotion_fear', 'emotion_joy', 'emotion_love',\n",
        "       'emotion_sadness', 'emotion_surprise']] = df[emotion_cols].div(df.num_sent, axis=0)"
      ],
      "metadata": {
        "id": "QBLlrEVAecnQ"
      },
      "execution_count": 21,
      "outputs": []
    },
    {
      "cell_type": "code",
      "source": [
        "df_to_merge[emotion_cols].to_csv(f'drive/MyDrive/Final Project/df_emotion.csv', index=False)"
      ],
      "metadata": {
        "id": "W5DQI8dVWSL_"
      },
      "execution_count": 27,
      "outputs": []
    },
    {
      "cell_type": "markdown",
      "source": [
        "Add to main file"
      ],
      "metadata": {
        "id": "zGpVnB771Pkx"
      }
    },
    {
      "cell_type": "code",
      "source": [
        "df = pd.read_csv(\"drive/MyDrive/Final Project/story_data_new_feats.csv\")\n",
        "df_emotions = pd.read_csv(\"drive/MyDrive/Final Project/df_emotions.csv\")\n",
        "result = pd.concat([df, df_emotions], axis=1, join='inner')\n",
        "result.to_csv(f'drive/MyDrive/Final Project/story_data_new_feats.csv', index=False)"
      ],
      "metadata": {
        "id": "G_a8SSCuzv15"
      },
      "execution_count": null,
      "outputs": []
    },
    {
      "cell_type": "markdown",
      "metadata": {
        "id": "saiFD3NEaDae"
      },
      "source": [
        "## EDA"
      ]
    },
    {
      "cell_type": "markdown",
      "metadata": {
        "id": "wWyxZPIzd0Dj"
      },
      "source": [
        "### Exploration for emotions by sentences"
      ]
    },
    {
      "cell_type": "code",
      "source": [
        "emotion_cols"
      ],
      "metadata": {
        "colab": {
          "base_uri": "https://localhost:8080/"
        },
        "id": "ciqV_rStVXNA",
        "outputId": "68b5a9ff-f68b-4e61-968e-ad533382ae74"
      },
      "execution_count": 31,
      "outputs": [
        {
          "output_type": "execute_result",
          "data": {
            "text/plain": [
              "['emotion_all',\n",
              " 'emotion_anger',\n",
              " 'emotion_fear',\n",
              " 'emotion_joy',\n",
              " 'emotion_love',\n",
              " 'emotion_sadness',\n",
              " 'emotion_surprise']"
            ]
          },
          "metadata": {},
          "execution_count": 31
        }
      ]
    },
    {
      "cell_type": "code",
      "execution_count": 32,
      "metadata": {
        "id": "BjJxzQXyiAC2"
      },
      "outputs": [],
      "source": [
        "emotion_cols.remove('emotion_all')"
      ]
    },
    {
      "cell_type": "code",
      "execution_count": 33,
      "metadata": {
        "id": "WdM9lTW5hwxP",
        "colab": {
          "base_uri": "https://localhost:8080/",
          "height": 206
        },
        "outputId": "20f263a9-3710-4dcb-b768-95a806c745a4"
      },
      "outputs": [
        {
          "output_type": "display_data",
          "data": {
            "text/plain": [
              "       emotion_anger  emotion_fear  emotion_joy  emotion_love  \\\n",
              "13456       0.367347      0.295918     0.251701      0.013605   \n",
              "9611        0.305263      0.242105     0.347368      0.000000   \n",
              "18166       0.385135      0.236486     0.277027      0.006757   \n",
              "2893        0.201550      0.155039     0.565891      0.015504   \n",
              "5998        0.342105      0.210526     0.447368      0.000000   \n",
              "\n",
              "       emotion_sadness  emotion_surprise  \n",
              "13456         0.071429          0.000000  \n",
              "9611          0.084211          0.021053  \n",
              "18166         0.087838          0.006757  \n",
              "2893          0.062016          0.000000  \n",
              "5998          0.000000          0.000000  "
            ],
            "text/html": [
              "\n",
              "  <div id=\"df-f14cc29c-417f-4804-aaa2-643afcc68f7e\">\n",
              "    <div class=\"colab-df-container\">\n",
              "      <div>\n",
              "<style scoped>\n",
              "    .dataframe tbody tr th:only-of-type {\n",
              "        vertical-align: middle;\n",
              "    }\n",
              "\n",
              "    .dataframe tbody tr th {\n",
              "        vertical-align: top;\n",
              "    }\n",
              "\n",
              "    .dataframe thead th {\n",
              "        text-align: right;\n",
              "    }\n",
              "</style>\n",
              "<table border=\"1\" class=\"dataframe\">\n",
              "  <thead>\n",
              "    <tr style=\"text-align: right;\">\n",
              "      <th></th>\n",
              "      <th>emotion_anger</th>\n",
              "      <th>emotion_fear</th>\n",
              "      <th>emotion_joy</th>\n",
              "      <th>emotion_love</th>\n",
              "      <th>emotion_sadness</th>\n",
              "      <th>emotion_surprise</th>\n",
              "    </tr>\n",
              "  </thead>\n",
              "  <tbody>\n",
              "    <tr>\n",
              "      <th>13456</th>\n",
              "      <td>0.367347</td>\n",
              "      <td>0.295918</td>\n",
              "      <td>0.251701</td>\n",
              "      <td>0.013605</td>\n",
              "      <td>0.071429</td>\n",
              "      <td>0.000000</td>\n",
              "    </tr>\n",
              "    <tr>\n",
              "      <th>9611</th>\n",
              "      <td>0.305263</td>\n",
              "      <td>0.242105</td>\n",
              "      <td>0.347368</td>\n",
              "      <td>0.000000</td>\n",
              "      <td>0.084211</td>\n",
              "      <td>0.021053</td>\n",
              "    </tr>\n",
              "    <tr>\n",
              "      <th>18166</th>\n",
              "      <td>0.385135</td>\n",
              "      <td>0.236486</td>\n",
              "      <td>0.277027</td>\n",
              "      <td>0.006757</td>\n",
              "      <td>0.087838</td>\n",
              "      <td>0.006757</td>\n",
              "    </tr>\n",
              "    <tr>\n",
              "      <th>2893</th>\n",
              "      <td>0.201550</td>\n",
              "      <td>0.155039</td>\n",
              "      <td>0.565891</td>\n",
              "      <td>0.015504</td>\n",
              "      <td>0.062016</td>\n",
              "      <td>0.000000</td>\n",
              "    </tr>\n",
              "    <tr>\n",
              "      <th>5998</th>\n",
              "      <td>0.342105</td>\n",
              "      <td>0.210526</td>\n",
              "      <td>0.447368</td>\n",
              "      <td>0.000000</td>\n",
              "      <td>0.000000</td>\n",
              "      <td>0.000000</td>\n",
              "    </tr>\n",
              "  </tbody>\n",
              "</table>\n",
              "</div>\n",
              "      <button class=\"colab-df-convert\" onclick=\"convertToInteractive('df-f14cc29c-417f-4804-aaa2-643afcc68f7e')\"\n",
              "              title=\"Convert this dataframe to an interactive table.\"\n",
              "              style=\"display:none;\">\n",
              "        \n",
              "  <svg xmlns=\"http://www.w3.org/2000/svg\" height=\"24px\"viewBox=\"0 0 24 24\"\n",
              "       width=\"24px\">\n",
              "    <path d=\"M0 0h24v24H0V0z\" fill=\"none\"/>\n",
              "    <path d=\"M18.56 5.44l.94 2.06.94-2.06 2.06-.94-2.06-.94-.94-2.06-.94 2.06-2.06.94zm-11 1L8.5 8.5l.94-2.06 2.06-.94-2.06-.94L8.5 2.5l-.94 2.06-2.06.94zm10 10l.94 2.06.94-2.06 2.06-.94-2.06-.94-.94-2.06-.94 2.06-2.06.94z\"/><path d=\"M17.41 7.96l-1.37-1.37c-.4-.4-.92-.59-1.43-.59-.52 0-1.04.2-1.43.59L10.3 9.45l-7.72 7.72c-.78.78-.78 2.05 0 2.83L4 21.41c.39.39.9.59 1.41.59.51 0 1.02-.2 1.41-.59l7.78-7.78 2.81-2.81c.8-.78.8-2.07 0-2.86zM5.41 20L4 18.59l7.72-7.72 1.47 1.35L5.41 20z\"/>\n",
              "  </svg>\n",
              "      </button>\n",
              "      \n",
              "  <style>\n",
              "    .colab-df-container {\n",
              "      display:flex;\n",
              "      flex-wrap:wrap;\n",
              "      gap: 12px;\n",
              "    }\n",
              "\n",
              "    .colab-df-convert {\n",
              "      background-color: #E8F0FE;\n",
              "      border: none;\n",
              "      border-radius: 50%;\n",
              "      cursor: pointer;\n",
              "      display: none;\n",
              "      fill: #1967D2;\n",
              "      height: 32px;\n",
              "      padding: 0 0 0 0;\n",
              "      width: 32px;\n",
              "    }\n",
              "\n",
              "    .colab-df-convert:hover {\n",
              "      background-color: #E2EBFA;\n",
              "      box-shadow: 0px 1px 2px rgba(60, 64, 67, 0.3), 0px 1px 3px 1px rgba(60, 64, 67, 0.15);\n",
              "      fill: #174EA6;\n",
              "    }\n",
              "\n",
              "    [theme=dark] .colab-df-convert {\n",
              "      background-color: #3B4455;\n",
              "      fill: #D2E3FC;\n",
              "    }\n",
              "\n",
              "    [theme=dark] .colab-df-convert:hover {\n",
              "      background-color: #434B5C;\n",
              "      box-shadow: 0px 1px 3px 1px rgba(0, 0, 0, 0.15);\n",
              "      filter: drop-shadow(0px 1px 2px rgba(0, 0, 0, 0.3));\n",
              "      fill: #FFFFFF;\n",
              "    }\n",
              "  </style>\n",
              "\n",
              "      <script>\n",
              "        const buttonEl =\n",
              "          document.querySelector('#df-f14cc29c-417f-4804-aaa2-643afcc68f7e button.colab-df-convert');\n",
              "        buttonEl.style.display =\n",
              "          google.colab.kernel.accessAllowed ? 'block' : 'none';\n",
              "\n",
              "        async function convertToInteractive(key) {\n",
              "          const element = document.querySelector('#df-f14cc29c-417f-4804-aaa2-643afcc68f7e');\n",
              "          const dataTable =\n",
              "            await google.colab.kernel.invokeFunction('convertToInteractive',\n",
              "                                                     [key], {});\n",
              "          if (!dataTable) return;\n",
              "\n",
              "          const docLinkHtml = 'Like what you see? Visit the ' +\n",
              "            '<a target=\"_blank\" href=https://colab.research.google.com/notebooks/data_table.ipynb>data table notebook</a>'\n",
              "            + ' to learn more about interactive tables.';\n",
              "          element.innerHTML = '';\n",
              "          dataTable['output_type'] = 'display_data';\n",
              "          await google.colab.output.renderOutput(dataTable, element);\n",
              "          const docLink = document.createElement('div');\n",
              "          docLink.innerHTML = docLinkHtml;\n",
              "          element.appendChild(docLink);\n",
              "        }\n",
              "      </script>\n",
              "    </div>\n",
              "  </div>\n",
              "  "
            ]
          },
          "metadata": {}
        }
      ],
      "source": [
        "with pd.option_context('display.max_rows', 5, 'display.max_columns', None): \n",
        "    display(df[emotion_cols].sample(5))"
      ]
    },
    {
      "cell_type": "markdown",
      "metadata": {
        "id": "4SvD5gHNi5aR"
      },
      "source": [
        "Histograms"
      ]
    },
    {
      "cell_type": "code",
      "source": [
        "import matplotlib.pyplot as plt"
      ],
      "metadata": {
        "id": "WwUl9wvBf5vJ"
      },
      "execution_count": 35,
      "outputs": []
    },
    {
      "cell_type": "code",
      "execution_count": 36,
      "metadata": {
        "id": "956F9SfMi7O4",
        "colab": {
          "base_uri": "https://localhost:8080/",
          "height": 745
        },
        "outputId": "e935ddbc-99e8-415a-9409-2041e07b8603"
      },
      "outputs": [
        {
          "output_type": "display_data",
          "data": {
            "text/plain": [
              "<Figure size 936x720 with 6 Axes>"
            ],
            "image/png": "[encoded data removed]"
          },
          "metadata": {
            "needs_background": "light"
          }
        }
      ],
      "source": [
        "# Distribution of new features\n",
        "my_j = int(len(emotion_cols)/2)\n",
        "f,ax=plt.subplots(my_j,2, figsize=(13,10), constrained_layout = True)\n",
        "feat_iter=iter(emotion_cols)\n",
        "for i in range(my_j):\n",
        "    for j in range(2):\n",
        "      try:\n",
        "        x = next(feat_iter)\n",
        "        ax[i,j].hist(df[x], bins=50)\n",
        "        ax[i,j].set_title(x)\n",
        "      except StopIteration:\n",
        "          pass"
      ]
    },
    {
      "cell_type": "markdown",
      "source": [
        "The distributions are skewed - we can log transform them, depending on the model we will be using."
      ],
      "metadata": {
        "id": "6x3_NWk9Vl9_"
      }
    },
    {
      "cell_type": "markdown",
      "metadata": {
        "id": "UyvycOPnirmX"
      },
      "source": [
        "Scatterplot with target"
      ]
    },
    {
      "cell_type": "code",
      "execution_count": 37,
      "metadata": {
        "id": "hWUzxr1Nd4cA",
        "colab": {
          "base_uri": "https://localhost:8080/",
          "height": 601
        },
        "outputId": "355b0fe6-0ede-4505-9101-3a07eacc7967"
      },
      "outputs": [
        {
          "output_type": "display_data",
          "data": {
            "text/plain": [
              "<Figure size 936x576 with 6 Axes>"
            ],
            "image/png": "[encoded data removed]"
          },
          "metadata": {
            "needs_background": "light"
          }
        }
      ],
      "source": [
        "target = 'num_likes'\n",
        "my_j = int(len(emotion_cols)/3)\n",
        "\n",
        "f,ax=plt.subplots(my_j,\n",
        "                  3, \n",
        "                  figsize=(13,8), \n",
        "                  constrained_layout = True)\n",
        "feat_iter=iter(emotion_cols)\n",
        "\n",
        "for i in range(my_j):\n",
        "    for j in range(3):\n",
        "      try:\n",
        "        x = next(feat_iter)\n",
        "        ax[i,j].scatter(df[x], df[target])\n",
        "        #df.groupby(x)[target].mean().sort_values().plot.bar(ax=ax[i,j])\n",
        "        ax[i,j].set_title(f\"{target} by {x} (means), {df[x].corr(df[target]):.3f}\")\n",
        "      except StopIteration:\n",
        "          pass"
      ]
    },
    {
      "cell_type": "markdown",
      "metadata": {
        "id": "OWUB2ik-5-eX"
      },
      "source": [
        "## Save csv file"
      ]
    },
    {
      "cell_type": "code",
      "execution_count": null,
      "metadata": {
        "id": "qlh-EKyz6CU8"
      },
      "outputs": [],
      "source": [
        "df[emotion_cols+['emotion_all']].to_csv('drive/MyDrive/df_emotions.csv', index=False)"
      ]
    }
  ],
  "metadata": {
    "colab": {
      "collapsed_sections": [
        "Crmx0zc2jRe1",
        "gF0quJpqxwHZ",
        "Ij02dSmG57ls",
        "641RSZdz5190",
        "KRau9vXT54Sf",
        "b0qs2C1xZLtn",
        "6Mrt1FTQZve8",
        "wWyxZPIzd0Dj"
      ],
      "name": "emotions.ipynb",
      "provenance": []
    },
    "kernelspec": {
      "display_name": "Python 3",
      "name": "python3"
    },
    "language_info": {
      "name": "python"
    },
    "widgets": {
      "application/vnd.jupyter.widget-state+json": {
        "9ef7d9bbf1604de5a9cc53030bf0521e": {
          "model_module": "@jupyter-widgets/controls",
          "model_name": "HBoxModel",
          "model_module_version": "1.5.0",
          "state": {
            "_dom_classes": [],
            "_model_module": "@jupyter-widgets/controls",
            "_model_module_version": "1.5.0",
            "_model_name": "HBoxModel",
            "_view_count": null,
            "_view_module": "@jupyter-widgets/controls",
            "_view_module_version": "1.5.0",
            "_view_name": "HBoxView",
            "box_style": "",
            "children": [
              "IPY_MODEL_d6e341c4b8684f4d88c461ffd87b704d",
              "IPY_MODEL_911aebf9de26446e8be13bee87b7971e",
              "IPY_MODEL_09177b0f427747b7b7f1cbba41021472"
            ],
            "layout": "IPY_MODEL_930b5eabc8494d3ba3e0dfe56bdcccad"
          }
        },
        "d6e341c4b8684f4d88c461ffd87b704d": {
          "model_module": "@jupyter-widgets/controls",
          "model_name": "HTMLModel",
          "model_module_version": "1.5.0",
          "state": {
            "_dom_classes": [],
            "_model_module": "@jupyter-widgets/controls",
            "_model_module_version": "1.5.0",
            "_model_name": "HTMLModel",
            "_view_count": null,
            "_view_module": "@jupyter-widgets/controls",
            "_view_module_version": "1.5.0",
            "_view_name": "HTMLView",
            "description": "",
            "description_tooltip": null,
            "layout": "IPY_MODEL_de5be6839bef4af39f62e0f605dedf8f",
            "placeholder": "​",
            "style": "IPY_MODEL_9a7b56c35bcc48cb90e02e56bda15766",
            "value": "Downloading: 100%"
          }
        },
        "911aebf9de26446e8be13bee87b7971e": {
          "model_module": "@jupyter-widgets/controls",
          "model_name": "FloatProgressModel",
          "model_module_version": "1.5.0",
          "state": {
            "_dom_classes": [],
            "_model_module": "@jupyter-widgets/controls",
            "_model_module_version": "1.5.0",
            "_model_name": "FloatProgressModel",
            "_view_count": null,
            "_view_module": "@jupyter-widgets/controls",
            "_view_module_version": "1.5.0",
            "_view_name": "ProgressView",
            "bar_style": "success",
            "description": "",
            "description_tooltip": null,
            "layout": "IPY_MODEL_d26d24d0f8964a82956cb12b600995ad",
            "max": 768,
            "min": 0,
            "orientation": "horizontal",
            "style": "IPY_MODEL_1b46c467caaf44bd94e8c76b7bd7f2e7",
            "value": 768
          }
        },
        "09177b0f427747b7b7f1cbba41021472": {
          "model_module": "@jupyter-widgets/controls",
          "model_name": "HTMLModel",
          "model_module_version": "1.5.0",
          "state": {
            "_dom_classes": [],
            "_model_module": "@jupyter-widgets/controls",
            "_model_module_version": "1.5.0",
            "_model_name": "HTMLModel",
            "_view_count": null,
            "_view_module": "@jupyter-widgets/controls",
            "_view_module_version": "1.5.0",
            "_view_name": "HTMLView",
            "description": "",
            "description_tooltip": null,
            "layout": "IPY_MODEL_51dbffccbdd74206966cb36be53bfcf6",
            "placeholder": "​",
            "style": "IPY_MODEL_007829b276774e3eb2f15373f6374c64",
            "value": " 768/768 [00:00&lt;00:00, 5.05kB/s]"
          }
        },
        "930b5eabc8494d3ba3e0dfe56bdcccad": {
          "model_module": "@jupyter-widgets/base",
          "model_name": "LayoutModel",
          "model_module_version": "1.2.0",
          "state": {
            "_model_module": "@jupyter-widgets/base",
            "_model_module_version": "1.2.0",
            "_model_name": "LayoutModel",
            "_view_count": null,
            "_view_module": "@jupyter-widgets/base",
            "_view_module_version": "1.2.0",
            "_view_name": "LayoutView",
            "align_content": null,
            "align_items": null,
            "align_self": null,
            "border": null,
            "bottom": null,
            "display": null,
            "flex": null,
            "flex_flow": null,
            "grid_area": null,
            "grid_auto_columns": null,
            "grid_auto_flow": null,
            "grid_auto_rows": null,
            "grid_column": null,
            "grid_gap": null,
            "grid_row": null,
            "grid_template_areas": null,
            "grid_template_columns": null,
            "grid_template_rows": null,
            "height": null,
            "justify_content": null,
            "justify_items": null,
            "left": null,
            "margin": null,
            "max_height": null,
            "max_width": null,
            "min_height": null,
            "min_width": null,
            "object_fit": null,
            "object_position": null,
            "order": null,
            "overflow": null,
            "overflow_x": null,
            "overflow_y": null,
            "padding": null,
            "right": null,
            "top": null,
            "visibility": null,
            "width": null
          }
        },
        "de5be6839bef4af39f62e0f605dedf8f": {
          "model_module": "@jupyter-widgets/base",
          "model_name": "LayoutModel",
          "model_module_version": "1.2.0",
          "state": {
            "_model_module": "@jupyter-widgets/base",
            "_model_module_version": "1.2.0",
            "_model_name": "LayoutModel",
            "_view_count": null,
            "_view_module": "@jupyter-widgets/base",
            "_view_module_version": "1.2.0",
            "_view_name": "LayoutView",
            "align_content": null,
            "align_items": null,
            "align_self": null,
            "border": null,
            "bottom": null,
            "display": null,
            "flex": null,
            "flex_flow": null,
            "grid_area": null,
            "grid_auto_columns": null,
            "grid_auto_flow": null,
            "grid_auto_rows": null,
            "grid_column": null,
            "grid_gap": null,
            "grid_row": null,
            "grid_template_areas": null,
            "grid_template_columns": null,
            "grid_template_rows": null,
            "height": null,
            "justify_content": null,
            "justify_items": null,
            "left": null,
            "margin": null,
            "max_height": null,
            "max_width": null,
            "min_height": null,
            "min_width": null,
            "object_fit": null,
            "object_position": null,
            "order": null,
            "overflow": null,
            "overflow_x": null,
            "overflow_y": null,
            "padding": null,
            "right": null,
            "top": null,
            "visibility": null,
            "width": null
          }
        },
        "9a7b56c35bcc48cb90e02e56bda15766": {
          "model_module": "@jupyter-widgets/controls",
          "model_name": "DescriptionStyleModel",
          "model_module_version": "1.5.0",
          "state": {
            "_model_module": "@jupyter-widgets/controls",
            "_model_module_version": "1.5.0",
            "_model_name": "DescriptionStyleModel",
            "_view_count": null,
            "_view_module": "@jupyter-widgets/base",
            "_view_module_version": "1.2.0",
            "_view_name": "StyleView",
            "description_width": ""
          }
        },
        "d26d24d0f8964a82956cb12b600995ad": {
          "model_module": "@jupyter-widgets/base",
          "model_name": "LayoutModel",
          "model_module_version": "1.2.0",
          "state": {
            "_model_module": "@jupyter-widgets/base",
            "_model_module_version": "1.2.0",
            "_model_name": "LayoutModel",
            "_view_count": null,
            "_view_module": "@jupyter-widgets/base",
            "_view_module_version": "1.2.0",
            "_view_name": "LayoutView",
            "align_content": null,
            "align_items": null,
            "align_self": null,
            "border": null,
            "bottom": null,
            "display": null,
            "flex": null,
            "flex_flow": null,
            "grid_area": null,
            "grid_auto_columns": null,
            "grid_auto_flow": null,
            "grid_auto_rows": null,
            "grid_column": null,
            "grid_gap": null,
            "grid_row": null,
            "grid_template_areas": null,
            "grid_template_columns": null,
            "grid_template_rows": null,
            "height": null,
            "justify_content": null,
            "justify_items": null,
            "left": null,
            "margin": null,
            "max_height": null,
            "max_width": null,
            "min_height": null,
            "min_width": null,
            "object_fit": null,
            "object_position": null,
            "order": null,
            "overflow": null,
            "overflow_x": null,
            "overflow_y": null,
            "padding": null,
            "right": null,
            "top": null,
            "visibility": null,
            "width": null
          }
        },
        "1b46c467caaf44bd94e8c76b7bd7f2e7": {
          "model_module": "@jupyter-widgets/controls",
          "model_name": "ProgressStyleModel",
          "model_module_version": "1.5.0",
          "state": {
            "_model_module": "@jupyter-widgets/controls",
            "_model_module_version": "1.5.0",
            "_model_name": "ProgressStyleModel",
            "_view_count": null,
            "_view_module": "@jupyter-widgets/base",
            "_view_module_version": "1.2.0",
            "_view_name": "StyleView",
            "bar_color": null,
            "description_width": ""
          }
        },
        "51dbffccbdd74206966cb36be53bfcf6": {
          "model_module": "@jupyter-widgets/base",
          "model_name": "LayoutModel",
          "model_module_version": "1.2.0",
          "state": {
            "_model_module": "@jupyter-widgets/base",
            "_model_module_version": "1.2.0",
            "_model_name": "LayoutModel",
            "_view_count": null,
            "_view_module": "@jupyter-widgets/base",
            "_view_module_version": "1.2.0",
            "_view_name": "LayoutView",
            "align_content": null,
            "align_items": null,
            "align_self": null,
            "border": null,
            "bottom": null,
            "display": null,
            "flex": null,
            "flex_flow": null,
            "grid_area": null,
            "grid_auto_columns": null,
            "grid_auto_flow": null,
            "grid_auto_rows": null,
            "grid_column": null,
            "grid_gap": null,
            "grid_row": null,
            "grid_template_areas": null,
            "grid_template_columns": null,
            "grid_template_rows": null,
            "height": null,
            "justify_content": null,
            "justify_items": null,
            "left": null,
            "margin": null,
            "max_height": null,
            "max_width": null,
            "min_height": null,
            "min_width": null,
            "object_fit": null,
            "object_position": null,
            "order": null,
            "overflow": null,
            "overflow_x": null,
            "overflow_y": null,
            "padding": null,
            "right": null,
            "top": null,
            "visibility": null,
            "width": null
          }
        },
        "007829b276774e3eb2f15373f6374c64": {
          "model_module": "@jupyter-widgets/controls",
          "model_name": "DescriptionStyleModel",
          "model_module_version": "1.5.0",
          "state": {
            "_model_module": "@jupyter-widgets/controls",
            "_model_module_version": "1.5.0",
            "_model_name": "DescriptionStyleModel",
            "_view_count": null,
            "_view_module": "@jupyter-widgets/base",
            "_view_module_version": "1.2.0",
            "_view_name": "StyleView",
            "description_width": ""
          }
        },
        "d496109f04344b6abb295b08f73f6be7": {
          "model_module": "@jupyter-widgets/controls",
          "model_name": "HBoxModel",
          "model_module_version": "1.5.0",
          "state": {
            "_dom_classes": [],
            "_model_module": "@jupyter-widgets/controls",
            "_model_module_version": "1.5.0",
            "_model_name": "HBoxModel",
            "_view_count": null,
            "_view_module": "@jupyter-widgets/controls",
            "_view_module_version": "1.5.0",
            "_view_name": "HBoxView",
            "box_style": "",
            "children": [
              "IPY_MODEL_d3db6f47bef2474abbef014768a9fe54",
              "IPY_MODEL_9d6e7c90d3694dd380ce429974141a38",
              "IPY_MODEL_265dc1ed8148453cb3c2891af40e2696"
            ],
            "layout": "IPY_MODEL_ceaa6570717d4697af101a252dbff81e"
          }
        },
        "d3db6f47bef2474abbef014768a9fe54": {
          "model_module": "@jupyter-widgets/controls",
          "model_name": "HTMLModel",
          "model_module_version": "1.5.0",
          "state": {
            "_dom_classes": [],
            "_model_module": "@jupyter-widgets/controls",
            "_model_module_version": "1.5.0",
            "_model_name": "HTMLModel",
            "_view_count": null,
            "_view_module": "@jupyter-widgets/controls",
            "_view_module_version": "1.5.0",
            "_view_name": "HTMLView",
            "description": "",
            "description_tooltip": null,
            "layout": "IPY_MODEL_106cf235d00a43ccaa16223873629980",
            "placeholder": "​",
            "style": "IPY_MODEL_e2873ead74fa4221b835b3272bc589cb",
            "value": "Downloading: 100%"
          }
        },
        "9d6e7c90d3694dd380ce429974141a38": {
          "model_module": "@jupyter-widgets/controls",
          "model_name": "FloatProgressModel",
          "model_module_version": "1.5.0",
          "state": {
            "_dom_classes": [],
            "_model_module": "@jupyter-widgets/controls",
            "_model_module_version": "1.5.0",
            "_model_name": "FloatProgressModel",
            "_view_count": null,
            "_view_module": "@jupyter-widgets/controls",
            "_view_module_version": "1.5.0",
            "_view_name": "ProgressView",
            "bar_style": "success",
            "description": "",
            "description_tooltip": null,
            "layout": "IPY_MODEL_8d2fb01e9ec34ceab82b13631498ab95",
            "max": 267875479,
            "min": 0,
            "orientation": "horizontal",
            "style": "IPY_MODEL_b0d1ffc0c44046efa1f9c246b15331a3",
            "value": 267875479
          }
        },
        "265dc1ed8148453cb3c2891af40e2696": {
          "model_module": "@jupyter-widgets/controls",
          "model_name": "HTMLModel",
          "model_module_version": "1.5.0",
          "state": {
            "_dom_classes": [],
            "_model_module": "@jupyter-widgets/controls",
            "_model_module_version": "1.5.0",
            "_model_name": "HTMLModel",
            "_view_count": null,
            "_view_module": "@jupyter-widgets/controls",
            "_view_module_version": "1.5.0",
            "_view_name": "HTMLView",
            "description": "",
            "description_tooltip": null,
            "layout": "IPY_MODEL_592351a12cfa4943966caff48df2d406",
            "placeholder": "​",
            "style": "IPY_MODEL_eaa77c72337f4e098254600e6d8425ec",
            "value": " 255M/255M [00:18&lt;00:00, 19.6MB/s]"
          }
        },
        "ceaa6570717d4697af101a252dbff81e": {
          "model_module": "@jupyter-widgets/base",
          "model_name": "LayoutModel",
          "model_module_version": "1.2.0",
          "state": {
            "_model_module": "@jupyter-widgets/base",
            "_model_module_version": "1.2.0",
            "_model_name": "LayoutModel",
            "_view_count": null,
            "_view_module": "@jupyter-widgets/base",
            "_view_module_version": "1.2.0",
            "_view_name": "LayoutView",
            "align_content": null,
            "align_items": null,
            "align_self": null,
            "border": null,
            "bottom": null,
            "display": null,
            "flex": null,
            "flex_flow": null,
            "grid_area": null,
            "grid_auto_columns": null,
            "grid_auto_flow": null,
            "grid_auto_rows": null,
            "grid_column": null,
            "grid_gap": null,
            "grid_row": null,
            "grid_template_areas": null,
            "grid_template_columns": null,
            "grid_template_rows": null,
            "height": null,
            "justify_content": null,
            "justify_items": null,
            "left": null,
            "margin": null,
            "max_height": null,
            "max_width": null,
            "min_height": null,
            "min_width": null,
            "object_fit": null,
            "object_position": null,
            "order": null,
            "overflow": null,
            "overflow_x": null,
            "overflow_y": null,
            "padding": null,
            "right": null,
            "top": null,
            "visibility": null,
            "width": null
          }
        },
        "106cf235d00a43ccaa16223873629980": {
          "model_module": "@jupyter-widgets/base",
          "model_name": "LayoutModel",
          "model_module_version": "1.2.0",
          "state": {
            "_model_module": "@jupyter-widgets/base",
            "_model_module_version": "1.2.0",
            "_model_name": "LayoutModel",
            "_view_count": null,
            "_view_module": "@jupyter-widgets/base",
            "_view_module_version": "1.2.0",
            "_view_name": "LayoutView",
            "align_content": null,
            "align_items": null,
            "align_self": null,
            "border": null,
            "bottom": null,
            "display": null,
            "flex": null,
            "flex_flow": null,
            "grid_area": null,
            "grid_auto_columns": null,
            "grid_auto_flow": null,
            "grid_auto_rows": null,
            "grid_column": null,
            "grid_gap": null,
            "grid_row": null,
            "grid_template_areas": null,
            "grid_template_columns": null,
            "grid_template_rows": null,
            "height": null,
            "justify_content": null,
            "justify_items": null,
            "left": null,
            "margin": null,
            "max_height": null,
            "max_width": null,
            "min_height": null,
            "min_width": null,
            "object_fit": null,
            "object_position": null,
            "order": null,
            "overflow": null,
            "overflow_x": null,
            "overflow_y": null,
            "padding": null,
            "right": null,
            "top": null,
            "visibility": null,
            "width": null
          }
        },
        "e2873ead74fa4221b835b3272bc589cb": {
          "model_module": "@jupyter-widgets/controls",
          "model_name": "DescriptionStyleModel",
          "model_module_version": "1.5.0",
          "state": {
            "_model_module": "@jupyter-widgets/controls",
            "_model_module_version": "1.5.0",
            "_model_name": "DescriptionStyleModel",
            "_view_count": null,
            "_view_module": "@jupyter-widgets/base",
            "_view_module_version": "1.2.0",
            "_view_name": "StyleView",
            "description_width": ""
          }
        },
        "8d2fb01e9ec34ceab82b13631498ab95": {
          "model_module": "@jupyter-widgets/base",
          "model_name": "LayoutModel",
          "model_module_version": "1.2.0",
          "state": {
            "_model_module": "@jupyter-widgets/base",
            "_model_module_version": "1.2.0",
            "_model_name": "LayoutModel",
            "_view_count": null,
            "_view_module": "@jupyter-widgets/base",
            "_view_module_version": "1.2.0",
            "_view_name": "LayoutView",
            "align_content": null,
            "align_items": null,
            "align_self": null,
            "border": null,
            "bottom": null,
            "display": null,
            "flex": null,
            "flex_flow": null,
            "grid_area": null,
            "grid_auto_columns": null,
            "grid_auto_flow": null,
            "grid_auto_rows": null,
            "grid_column": null,
            "grid_gap": null,
            "grid_row": null,
            "grid_template_areas": null,
            "grid_template_columns": null,
            "grid_template_rows": null,
            "height": null,
            "justify_content": null,
            "justify_items": null,
            "left": null,
            "margin": null,
            "max_height": null,
            "max_width": null,
            "min_height": null,
            "min_width": null,
            "object_fit": null,
            "object_position": null,
            "order": null,
            "overflow": null,
            "overflow_x": null,
            "overflow_y": null,
            "padding": null,
            "right": null,
            "top": null,
            "visibility": null,
            "width": null
          }
        },
        "b0d1ffc0c44046efa1f9c246b15331a3": {
          "model_module": "@jupyter-widgets/controls",
          "model_name": "ProgressStyleModel",
          "model_module_version": "1.5.0",
          "state": {
            "_model_module": "@jupyter-widgets/controls",
            "_model_module_version": "1.5.0",
            "_model_name": "ProgressStyleModel",
            "_view_count": null,
            "_view_module": "@jupyter-widgets/base",
            "_view_module_version": "1.2.0",
            "_view_name": "StyleView",
            "bar_color": null,
            "description_width": ""
          }
        },
        "592351a12cfa4943966caff48df2d406": {
          "model_module": "@jupyter-widgets/base",
          "model_name": "LayoutModel",
          "model_module_version": "1.2.0",
          "state": {
            "_model_module": "@jupyter-widgets/base",
            "_model_module_version": "1.2.0",
            "_model_name": "LayoutModel",
            "_view_count": null,
            "_view_module": "@jupyter-widgets/base",
            "_view_module_version": "1.2.0",
            "_view_name": "LayoutView",
            "align_content": null,
            "align_items": null,
            "align_self": null,
            "border": null,
            "bottom": null,
            "display": null,
            "flex": null,
            "flex_flow": null,
            "grid_area": null,
            "grid_auto_columns": null,
            "grid_auto_flow": null,
            "grid_auto_rows": null,
            "grid_column": null,
            "grid_gap": null,
            "grid_row": null,
            "grid_template_areas": null,
            "grid_template_columns": null,
            "grid_template_rows": null,
            "height": null,
            "justify_content": null,
            "justify_items": null,
            "left": null,
            "margin": null,
            "max_height": null,
            "max_width": null,
            "min_height": null,
            "min_width": null,
            "object_fit": null,
            "object_position": null,
            "order": null,
            "overflow": null,
            "overflow_x": null,
            "overflow_y": null,
            "padding": null,
            "right": null,
            "top": null,
            "visibility": null,
            "width": null
          }
        },
        "eaa77c72337f4e098254600e6d8425ec": {
          "model_module": "@jupyter-widgets/controls",
          "model_name": "DescriptionStyleModel",
          "model_module_version": "1.5.0",
          "state": {
            "_model_module": "@jupyter-widgets/controls",
            "_model_module_version": "1.5.0",
            "_model_name": "DescriptionStyleModel",
            "_view_count": null,
            "_view_module": "@jupyter-widgets/base",
            "_view_module_version": "1.2.0",
            "_view_name": "StyleView",
            "description_width": ""
          }
        },
        "b794e7d5138c4182a8b5fbef0bc4a7e9": {
          "model_module": "@jupyter-widgets/controls",
          "model_name": "HBoxModel",
          "model_module_version": "1.5.0",
          "state": {
            "_dom_classes": [],
            "_model_module": "@jupyter-widgets/controls",
            "_model_module_version": "1.5.0",
            "_model_name": "HBoxModel",
            "_view_count": null,
            "_view_module": "@jupyter-widgets/controls",
            "_view_module_version": "1.5.0",
            "_view_name": "HBoxView",
            "box_style": "",
            "children": [
              "IPY_MODEL_7f5abd44d9b543feaaa5b42cbabf4315",
              "IPY_MODEL_2eb302a9ae91463f9734afff154652d6",
              "IPY_MODEL_b3271daef9c548c2ba05f8583585b76f"
            ],
            "layout": "IPY_MODEL_261976720aa9458a8c61ab65b442375e"
          }
        },
        "7f5abd44d9b543feaaa5b42cbabf4315": {
          "model_module": "@jupyter-widgets/controls",
          "model_name": "HTMLModel",
          "model_module_version": "1.5.0",
          "state": {
            "_dom_classes": [],
            "_model_module": "@jupyter-widgets/controls",
            "_model_module_version": "1.5.0",
            "_model_name": "HTMLModel",
            "_view_count": null,
            "_view_module": "@jupyter-widgets/controls",
            "_view_module_version": "1.5.0",
            "_view_name": "HTMLView",
            "description": "",
            "description_tooltip": null,
            "layout": "IPY_MODEL_7db17068c82e4a709f48f907953b1632",
            "placeholder": "​",
            "style": "IPY_MODEL_1bb29b53cb1443409a208dd996cdcc62",
            "value": "Downloading: 100%"
          }
        },
        "2eb302a9ae91463f9734afff154652d6": {
          "model_module": "@jupyter-widgets/controls",
          "model_name": "FloatProgressModel",
          "model_module_version": "1.5.0",
          "state": {
            "_dom_classes": [],
            "_model_module": "@jupyter-widgets/controls",
            "_model_module_version": "1.5.0",
            "_model_name": "FloatProgressModel",
            "_view_count": null,
            "_view_module": "@jupyter-widgets/controls",
            "_view_module_version": "1.5.0",
            "_view_name": "ProgressView",
            "bar_style": "success",
            "description": "",
            "description_tooltip": null,
            "layout": "IPY_MODEL_65ce8138684d4983bb98880654aa8956",
            "max": 291,
            "min": 0,
            "orientation": "horizontal",
            "style": "IPY_MODEL_6b4e23b349a442cea4a9ad0482078017",
            "value": 291
          }
        },
        "b3271daef9c548c2ba05f8583585b76f": {
          "model_module": "@jupyter-widgets/controls",
          "model_name": "HTMLModel",
          "model_module_version": "1.5.0",
          "state": {
            "_dom_classes": [],
            "_model_module": "@jupyter-widgets/controls",
            "_model_module_version": "1.5.0",
            "_model_name": "HTMLModel",
            "_view_count": null,
            "_view_module": "@jupyter-widgets/controls",
            "_view_module_version": "1.5.0",
            "_view_name": "HTMLView",
            "description": "",
            "description_tooltip": null,
            "layout": "IPY_MODEL_19644527d8e14f2995b0193ea5344300",
            "placeholder": "​",
            "style": "IPY_MODEL_0d02ad580fe24089abc7a0e8a00adf48",
            "value": " 291/291 [00:00&lt;00:00, 2.71kB/s]"
          }
        },
        "261976720aa9458a8c61ab65b442375e": {
          "model_module": "@jupyter-widgets/base",
          "model_name": "LayoutModel",
          "model_module_version": "1.2.0",
          "state": {
            "_model_module": "@jupyter-widgets/base",
            "_model_module_version": "1.2.0",
            "_model_name": "LayoutModel",
            "_view_count": null,
            "_view_module": "@jupyter-widgets/base",
            "_view_module_version": "1.2.0",
            "_view_name": "LayoutView",
            "align_content": null,
            "align_items": null,
            "align_self": null,
            "border": null,
            "bottom": null,
            "display": null,
            "flex": null,
            "flex_flow": null,
            "grid_area": null,
            "grid_auto_columns": null,
            "grid_auto_flow": null,
            "grid_auto_rows": null,
            "grid_column": null,
            "grid_gap": null,
            "grid_row": null,
            "grid_template_areas": null,
            "grid_template_columns": null,
            "grid_template_rows": null,
            "height": null,
            "justify_content": null,
            "justify_items": null,
            "left": null,
            "margin": null,
            "max_height": null,
            "max_width": null,
            "min_height": null,
            "min_width": null,
            "object_fit": null,
            "object_position": null,
            "order": null,
            "overflow": null,
            "overflow_x": null,
            "overflow_y": null,
            "padding": null,
            "right": null,
            "top": null,
            "visibility": null,
            "width": null
          }
        },
        "7db17068c82e4a709f48f907953b1632": {
          "model_module": "@jupyter-widgets/base",
          "model_name": "LayoutModel",
          "model_module_version": "1.2.0",
          "state": {
            "_model_module": "@jupyter-widgets/base",
            "_model_module_version": "1.2.0",
            "_model_name": "LayoutModel",
            "_view_count": null,
            "_view_module": "@jupyter-widgets/base",
            "_view_module_version": "1.2.0",
            "_view_name": "LayoutView",
            "align_content": null,
            "align_items": null,
            "align_self": null,
            "border": null,
            "bottom": null,
            "display": null,
            "flex": null,
            "flex_flow": null,
            "grid_area": null,
            "grid_auto_columns": null,
            "grid_auto_flow": null,
            "grid_auto_rows": null,
            "grid_column": null,
            "grid_gap": null,
            "grid_row": null,
            "grid_template_areas": null,
            "grid_template_columns": null,
            "grid_template_rows": null,
            "height": null,
            "justify_content": null,
            "justify_items": null,
            "left": null,
            "margin": null,
            "max_height": null,
            "max_width": null,
            "min_height": null,
            "min_width": null,
            "object_fit": null,
            "object_position": null,
            "order": null,
            "overflow": null,
            "overflow_x": null,
            "overflow_y": null,
            "padding": null,
            "right": null,
            "top": null,
            "visibility": null,
            "width": null
          }
        },
        "1bb29b53cb1443409a208dd996cdcc62": {
          "model_module": "@jupyter-widgets/controls",
          "model_name": "DescriptionStyleModel",
          "model_module_version": "1.5.0",
          "state": {
            "_model_module": "@jupyter-widgets/controls",
            "_model_module_version": "1.5.0",
            "_model_name": "DescriptionStyleModel",
            "_view_count": null,
            "_view_module": "@jupyter-widgets/base",
            "_view_module_version": "1.2.0",
            "_view_name": "StyleView",
            "description_width": ""
          }
        },
        "65ce8138684d4983bb98880654aa8956": {
          "model_module": "@jupyter-widgets/base",
          "model_name": "LayoutModel",
          "model_module_version": "1.2.0",
          "state": {
            "_model_module": "@jupyter-widgets/base",
            "_model_module_version": "1.2.0",
            "_model_name": "LayoutModel",
            "_view_count": null,
            "_view_module": "@jupyter-widgets/base",
            "_view_module_version": "1.2.0",
            "_view_name": "LayoutView",
            "align_content": null,
            "align_items": null,
            "align_self": null,
            "border": null,
            "bottom": null,
            "display": null,
            "flex": null,
            "flex_flow": null,
            "grid_area": null,
            "grid_auto_columns": null,
            "grid_auto_flow": null,
            "grid_auto_rows": null,
            "grid_column": null,
            "grid_gap": null,
            "grid_row": null,
            "grid_template_areas": null,
            "grid_template_columns": null,
            "grid_template_rows": null,
            "height": null,
            "justify_content": null,
            "justify_items": null,
            "left": null,
            "margin": null,
            "max_height": null,
            "max_width": null,
            "min_height": null,
            "min_width": null,
            "object_fit": null,
            "object_position": null,
            "order": null,
            "overflow": null,
            "overflow_x": null,
            "overflow_y": null,
            "padding": null,
            "right": null,
            "top": null,
            "visibility": null,
            "width": null
          }
        },
        "6b4e23b349a442cea4a9ad0482078017": {
          "model_module": "@jupyter-widgets/controls",
          "model_name": "ProgressStyleModel",
          "model_module_version": "1.5.0",
          "state": {
            "_model_module": "@jupyter-widgets/controls",
            "_model_module_version": "1.5.0",
            "_model_name": "ProgressStyleModel",
            "_view_count": null,
            "_view_module": "@jupyter-widgets/base",
            "_view_module_version": "1.2.0",
            "_view_name": "StyleView",
            "bar_color": null,
            "description_width": ""
          }
        },
        "19644527d8e14f2995b0193ea5344300": {
          "model_module": "@jupyter-widgets/base",
          "model_name": "LayoutModel",
          "model_module_version": "1.2.0",
          "state": {
            "_model_module": "@jupyter-widgets/base",
            "_model_module_version": "1.2.0",
            "_model_name": "LayoutModel",
            "_view_count": null,
            "_view_module": "@jupyter-widgets/base",
            "_view_module_version": "1.2.0",
            "_view_name": "LayoutView",
            "align_content": null,
            "align_items": null,
            "align_self": null,
            "border": null,
            "bottom": null,
            "display": null,
            "flex": null,
            "flex_flow": null,
            "grid_area": null,
            "grid_auto_columns": null,
            "grid_auto_flow": null,
            "grid_auto_rows": null,
            "grid_column": null,
            "grid_gap": null,
            "grid_row": null,
            "grid_template_areas": null,
            "grid_template_columns": null,
            "grid_template_rows": null,
            "height": null,
            "justify_content": null,
            "justify_items": null,
            "left": null,
            "margin": null,
            "max_height": null,
            "max_width": null,
            "min_height": null,
            "min_width": null,
            "object_fit": null,
            "object_position": null,
            "order": null,
            "overflow": null,
            "overflow_x": null,
            "overflow_y": null,
            "padding": null,
            "right": null,
            "top": null,
            "visibility": null,
            "width": null
          }
        },
        "0d02ad580fe24089abc7a0e8a00adf48": {
          "model_module": "@jupyter-widgets/controls",
          "model_name": "DescriptionStyleModel",
          "model_module_version": "1.5.0",
          "state": {
            "_model_module": "@jupyter-widgets/controls",
            "_model_module_version": "1.5.0",
            "_model_name": "DescriptionStyleModel",
            "_view_count": null,
            "_view_module": "@jupyter-widgets/base",
            "_view_module_version": "1.2.0",
            "_view_name": "StyleView",
            "description_width": ""
          }
        },
        "038ecb0ac3e14502b7f63d889e8d6791": {
          "model_module": "@jupyter-widgets/controls",
          "model_name": "HBoxModel",
          "model_module_version": "1.5.0",
          "state": {
            "_dom_classes": [],
            "_model_module": "@jupyter-widgets/controls",
            "_model_module_version": "1.5.0",
            "_model_name": "HBoxModel",
            "_view_count": null,
            "_view_module": "@jupyter-widgets/controls",
            "_view_module_version": "1.5.0",
            "_view_name": "HBoxView",
            "box_style": "",
            "children": [
              "IPY_MODEL_9cc52ea64c9d4f8e8afae9d1154dd1aa",
              "IPY_MODEL_aabcc401e8da4908924d4a2397b0d8ba",
              "IPY_MODEL_e93408b99638489081295e160b89e97c"
            ],
            "layout": "IPY_MODEL_40ccafe78c2a4393b35560ea46741d0b"
          }
        },
        "9cc52ea64c9d4f8e8afae9d1154dd1aa": {
          "model_module": "@jupyter-widgets/controls",
          "model_name": "HTMLModel",
          "model_module_version": "1.5.0",
          "state": {
            "_dom_classes": [],
            "_model_module": "@jupyter-widgets/controls",
            "_model_module_version": "1.5.0",
            "_model_name": "HTMLModel",
            "_view_count": null,
            "_view_module": "@jupyter-widgets/controls",
            "_view_module_version": "1.5.0",
            "_view_name": "HTMLView",
            "description": "",
            "description_tooltip": null,
            "layout": "IPY_MODEL_cc6aaf31f4be47218f6f16970b1e1755",
            "placeholder": "​",
            "style": "IPY_MODEL_691e485157f847fbad4e3dd8c0ba5bd8",
            "value": "Downloading: 100%"
          }
        },
        "aabcc401e8da4908924d4a2397b0d8ba": {
          "model_module": "@jupyter-widgets/controls",
          "model_name": "FloatProgressModel",
          "model_module_version": "1.5.0",
          "state": {
            "_dom_classes": [],
            "_model_module": "@jupyter-widgets/controls",
            "_model_module_version": "1.5.0",
            "_model_name": "FloatProgressModel",
            "_view_count": null,
            "_view_module": "@jupyter-widgets/controls",
            "_view_module_version": "1.5.0",
            "_view_name": "ProgressView",
            "bar_style": "success",
            "description": "",
            "description_tooltip": null,
            "layout": "IPY_MODEL_22025c92eb07459db5988f01de58f03f",
            "max": 231508,
            "min": 0,
            "orientation": "horizontal",
            "style": "IPY_MODEL_0f1277fd4ab7462581bba8db90c3e6e5",
            "value": 231508
          }
        },
        "e93408b99638489081295e160b89e97c": {
          "model_module": "@jupyter-widgets/controls",
          "model_name": "HTMLModel",
          "model_module_version": "1.5.0",
          "state": {
            "_dom_classes": [],
            "_model_module": "@jupyter-widgets/controls",
            "_model_module_version": "1.5.0",
            "_model_name": "HTMLModel",
            "_view_count": null,
            "_view_module": "@jupyter-widgets/controls",
            "_view_module_version": "1.5.0",
            "_view_name": "HTMLView",
            "description": "",
            "description_tooltip": null,
            "layout": "IPY_MODEL_eaf028e299914bd3bffe494ed58bb646",
            "placeholder": "​",
            "style": "IPY_MODEL_12a9ef1102dd4104ba29ae25e374343c",
            "value": " 226k/226k [00:00&lt;00:00, 465kB/s]"
          }
        },
        "40ccafe78c2a4393b35560ea46741d0b": {
          "model_module": "@jupyter-widgets/base",
          "model_name": "LayoutModel",
          "model_module_version": "1.2.0",
          "state": {
            "_model_module": "@jupyter-widgets/base",
            "_model_module_version": "1.2.0",
            "_model_name": "LayoutModel",
            "_view_count": null,
            "_view_module": "@jupyter-widgets/base",
            "_view_module_version": "1.2.0",
            "_view_name": "LayoutView",
            "align_content": null,
            "align_items": null,
            "align_self": null,
            "border": null,
            "bottom": null,
            "display": null,
            "flex": null,
            "flex_flow": null,
            "grid_area": null,
            "grid_auto_columns": null,
            "grid_auto_flow": null,
            "grid_auto_rows": null,
            "grid_column": null,
            "grid_gap": null,
            "grid_row": null,
            "grid_template_areas": null,
            "grid_template_columns": null,
            "grid_template_rows": null,
            "height": null,
            "justify_content": null,
            "justify_items": null,
            "left": null,
            "margin": null,
            "max_height": null,
            "max_width": null,
            "min_height": null,
            "min_width": null,
            "object_fit": null,
            "object_position": null,
            "order": null,
            "overflow": null,
            "overflow_x": null,
            "overflow_y": null,
            "padding": null,
            "right": null,
            "top": null,
            "visibility": null,
            "width": null
          }
        },
        "cc6aaf31f4be47218f6f16970b1e1755": {
          "model_module": "@jupyter-widgets/base",
          "model_name": "LayoutModel",
          "model_module_version": "1.2.0",
          "state": {
            "_model_module": "@jupyter-widgets/base",
            "_model_module_version": "1.2.0",
            "_model_name": "LayoutModel",
            "_view_count": null,
            "_view_module": "@jupyter-widgets/base",
            "_view_module_version": "1.2.0",
            "_view_name": "LayoutView",
            "align_content": null,
            "align_items": null,
            "align_self": null,
            "border": null,
            "bottom": null,
            "display": null,
            "flex": null,
            "flex_flow": null,
            "grid_area": null,
            "grid_auto_columns": null,
            "grid_auto_flow": null,
            "grid_auto_rows": null,
            "grid_column": null,
            "grid_gap": null,
            "grid_row": null,
            "grid_template_areas": null,
            "grid_template_columns": null,
            "grid_template_rows": null,
            "height": null,
            "justify_content": null,
            "justify_items": null,
            "left": null,
            "margin": null,
            "max_height": null,
            "max_width": null,
            "min_height": null,
            "min_width": null,
            "object_fit": null,
            "object_position": null,
            "order": null,
            "overflow": null,
            "overflow_x": null,
            "overflow_y": null,
            "padding": null,
            "right": null,
            "top": null,
            "visibility": null,
            "width": null
          }
        },
        "691e485157f847fbad4e3dd8c0ba5bd8": {
          "model_module": "@jupyter-widgets/controls",
          "model_name": "DescriptionStyleModel",
          "model_module_version": "1.5.0",
          "state": {
            "_model_module": "@jupyter-widgets/controls",
            "_model_module_version": "1.5.0",
            "_model_name": "DescriptionStyleModel",
            "_view_count": null,
            "_view_module": "@jupyter-widgets/base",
            "_view_module_version": "1.2.0",
            "_view_name": "StyleView",
            "description_width": ""
          }
        },
        "22025c92eb07459db5988f01de58f03f": {
          "model_module": "@jupyter-widgets/base",
          "model_name": "LayoutModel",
          "model_module_version": "1.2.0",
          "state": {
            "_model_module": "@jupyter-widgets/base",
            "_model_module_version": "1.2.0",
            "_model_name": "LayoutModel",
            "_view_count": null,
            "_view_module": "@jupyter-widgets/base",
            "_view_module_version": "1.2.0",
            "_view_name": "LayoutView",
            "align_content": null,
            "align_items": null,
            "align_self": null,
            "border": null,
            "bottom": null,
            "display": null,
            "flex": null,
            "flex_flow": null,
            "grid_area": null,
            "grid_auto_columns": null,
            "grid_auto_flow": null,
            "grid_auto_rows": null,
            "grid_column": null,
            "grid_gap": null,
            "grid_row": null,
            "grid_template_areas": null,
            "grid_template_columns": null,
            "grid_template_rows": null,
            "height": null,
            "justify_content": null,
            "justify_items": null,
            "left": null,
            "margin": null,
            "max_height": null,
            "max_width": null,
            "min_height": null,
            "min_width": null,
            "object_fit": null,
            "object_position": null,
            "order": null,
            "overflow": null,
            "overflow_x": null,
            "overflow_y": null,
            "padding": null,
            "right": null,
            "top": null,
            "visibility": null,
            "width": null
          }
        },
        "0f1277fd4ab7462581bba8db90c3e6e5": {
          "model_module": "@jupyter-widgets/controls",
          "model_name": "ProgressStyleModel",
          "model_module_version": "1.5.0",
          "state": {
            "_model_module": "@jupyter-widgets/controls",
            "_model_module_version": "1.5.0",
            "_model_name": "ProgressStyleModel",
            "_view_count": null,
            "_view_module": "@jupyter-widgets/base",
            "_view_module_version": "1.2.0",
            "_view_name": "StyleView",
            "bar_color": null,
            "description_width": ""
          }
        },
        "eaf028e299914bd3bffe494ed58bb646": {
          "model_module": "@jupyter-widgets/base",
          "model_name": "LayoutModel",
          "model_module_version": "1.2.0",
          "state": {
            "_model_module": "@jupyter-widgets/base",
            "_model_module_version": "1.2.0",
            "_model_name": "LayoutModel",
            "_view_count": null,
            "_view_module": "@jupyter-widgets/base",
            "_view_module_version": "1.2.0",
            "_view_name": "LayoutView",
            "align_content": null,
            "align_items": null,
            "align_self": null,
            "border": null,
            "bottom": null,
            "display": null,
            "flex": null,
            "flex_flow": null,
            "grid_area": null,
            "grid_auto_columns": null,
            "grid_auto_flow": null,
            "grid_auto_rows": null,
            "grid_column": null,
            "grid_gap": null,
            "grid_row": null,
            "grid_template_areas": null,
            "grid_template_columns": null,
            "grid_template_rows": null,
            "height": null,
            "justify_content": null,
            "justify_items": null,
            "left": null,
            "margin": null,
            "max_height": null,
            "max_width": null,
            "min_height": null,
            "min_width": null,
            "object_fit": null,
            "object_position": null,
            "order": null,
            "overflow": null,
            "overflow_x": null,
            "overflow_y": null,
            "padding": null,
            "right": null,
            "top": null,
            "visibility": null,
            "width": null
          }
        },
        "12a9ef1102dd4104ba29ae25e374343c": {
          "model_module": "@jupyter-widgets/controls",
          "model_name": "DescriptionStyleModel",
          "model_module_version": "1.5.0",
          "state": {
            "_model_module": "@jupyter-widgets/controls",
            "_model_module_version": "1.5.0",
            "_model_name": "DescriptionStyleModel",
            "_view_count": null,
            "_view_module": "@jupyter-widgets/base",
            "_view_module_version": "1.2.0",
            "_view_name": "StyleView",
            "description_width": ""
          }
        },
        "30897c7108714e23afba3ed48e4a6db9": {
          "model_module": "@jupyter-widgets/controls",
          "model_name": "HBoxModel",
          "model_module_version": "1.5.0",
          "state": {
            "_dom_classes": [],
            "_model_module": "@jupyter-widgets/controls",
            "_model_module_version": "1.5.0",
            "_model_name": "HBoxModel",
            "_view_count": null,
            "_view_module": "@jupyter-widgets/controls",
            "_view_module_version": "1.5.0",
            "_view_name": "HBoxView",
            "box_style": "",
            "children": [
              "IPY_MODEL_2236f0b0e866425dadd1cc3babb32dd6",
              "IPY_MODEL_e898862a92e141fb89552fb030fc5b36",
              "IPY_MODEL_f4dd71eb8fb04d139fab6a9481ced4d0"
            ],
            "layout": "IPY_MODEL_ab72c28bae1340599bf42d7bbe2fc6e5"
          }
        },
        "2236f0b0e866425dadd1cc3babb32dd6": {
          "model_module": "@jupyter-widgets/controls",
          "model_name": "HTMLModel",
          "model_module_version": "1.5.0",
          "state": {
            "_dom_classes": [],
            "_model_module": "@jupyter-widgets/controls",
            "_model_module_version": "1.5.0",
            "_model_name": "HTMLModel",
            "_view_count": null,
            "_view_module": "@jupyter-widgets/controls",
            "_view_module_version": "1.5.0",
            "_view_name": "HTMLView",
            "description": "",
            "description_tooltip": null,
            "layout": "IPY_MODEL_7e1c2159cf2a43eba4c37ff3d7f0fbcf",
            "placeholder": "​",
            "style": "IPY_MODEL_d15f3f1d34cf4d38a193c992be9c80e5",
            "value": "Downloading: 100%"
          }
        },
        "e898862a92e141fb89552fb030fc5b36": {
          "model_module": "@jupyter-widgets/controls",
          "model_name": "FloatProgressModel",
          "model_module_version": "1.5.0",
          "state": {
            "_dom_classes": [],
            "_model_module": "@jupyter-widgets/controls",
            "_model_module_version": "1.5.0",
            "_model_name": "FloatProgressModel",
            "_view_count": null,
            "_view_module": "@jupyter-widgets/controls",
            "_view_module_version": "1.5.0",
            "_view_name": "ProgressView",
            "bar_style": "success",
            "description": "",
            "description_tooltip": null,
            "layout": "IPY_MODEL_a1684d2d6a9945ad9f90ac937868ce11",
            "max": 112,
            "min": 0,
            "orientation": "horizontal",
            "style": "IPY_MODEL_e6af9341dec14aad98c217ce1e1d3ed9",
            "value": 112
          }
        },
        "f4dd71eb8fb04d139fab6a9481ced4d0": {
          "model_module": "@jupyter-widgets/controls",
          "model_name": "HTMLModel",
          "model_module_version": "1.5.0",
          "state": {
            "_dom_classes": [],
            "_model_module": "@jupyter-widgets/controls",
            "_model_module_version": "1.5.0",
            "_model_name": "HTMLModel",
            "_view_count": null,
            "_view_module": "@jupyter-widgets/controls",
            "_view_module_version": "1.5.0",
            "_view_name": "HTMLView",
            "description": "",
            "description_tooltip": null,
            "layout": "IPY_MODEL_e3bdd198bee04607b46a5292183aafe2",
            "placeholder": "​",
            "style": "IPY_MODEL_ad78b71593b047cc992be7c6bfe54343",
            "value": " 112/112 [00:00&lt;00:00, 571B/s]"
          }
        },
        "ab72c28bae1340599bf42d7bbe2fc6e5": {
          "model_module": "@jupyter-widgets/base",
          "model_name": "LayoutModel",
          "model_module_version": "1.2.0",
          "state": {
            "_model_module": "@jupyter-widgets/base",
            "_model_module_version": "1.2.0",
            "_model_name": "LayoutModel",
            "_view_count": null,
            "_view_module": "@jupyter-widgets/base",
            "_view_module_version": "1.2.0",
            "_view_name": "LayoutView",
            "align_content": null,
            "align_items": null,
            "align_self": null,
            "border": null,
            "bottom": null,
            "display": null,
            "flex": null,
            "flex_flow": null,
            "grid_area": null,
            "grid_auto_columns": null,
            "grid_auto_flow": null,
            "grid_auto_rows": null,
            "grid_column": null,
            "grid_gap": null,
            "grid_row": null,
            "grid_template_areas": null,
            "grid_template_columns": null,
            "grid_template_rows": null,
            "height": null,
            "justify_content": null,
            "justify_items": null,
            "left": null,
            "margin": null,
            "max_height": null,
            "max_width": null,
            "min_height": null,
            "min_width": null,
            "object_fit": null,
            "object_position": null,
            "order": null,
            "overflow": null,
            "overflow_x": null,
            "overflow_y": null,
            "padding": null,
            "right": null,
            "top": null,
            "visibility": null,
            "width": null
          }
        },
        "7e1c2159cf2a43eba4c37ff3d7f0fbcf": {
          "model_module": "@jupyter-widgets/base",
          "model_name": "LayoutModel",
          "model_module_version": "1.2.0",
          "state": {
            "_model_module": "@jupyter-widgets/base",
            "_model_module_version": "1.2.0",
            "_model_name": "LayoutModel",
            "_view_count": null,
            "_view_module": "@jupyter-widgets/base",
            "_view_module_version": "1.2.0",
            "_view_name": "LayoutView",
            "align_content": null,
            "align_items": null,
            "align_self": null,
            "border": null,
            "bottom": null,
            "display": null,
            "flex": null,
            "flex_flow": null,
            "grid_area": null,
            "grid_auto_columns": null,
            "grid_auto_flow": null,
            "grid_auto_rows": null,
            "grid_column": null,
            "grid_gap": null,
            "grid_row": null,
            "grid_template_areas": null,
            "grid_template_columns": null,
            "grid_template_rows": null,
            "height": null,
            "justify_content": null,
            "justify_items": null,
            "left": null,
            "margin": null,
            "max_height": null,
            "max_width": null,
            "min_height": null,
            "min_width": null,
            "object_fit": null,
            "object_position": null,
            "order": null,
            "overflow": null,
            "overflow_x": null,
            "overflow_y": null,
            "padding": null,
            "right": null,
            "top": null,
            "visibility": null,
            "width": null
          }
        },
        "d15f3f1d34cf4d38a193c992be9c80e5": {
          "model_module": "@jupyter-widgets/controls",
          "model_name": "DescriptionStyleModel",
          "model_module_version": "1.5.0",
          "state": {
            "_model_module": "@jupyter-widgets/controls",
            "_model_module_version": "1.5.0",
            "_model_name": "DescriptionStyleModel",
            "_view_count": null,
            "_view_module": "@jupyter-widgets/base",
            "_view_module_version": "1.2.0",
            "_view_name": "StyleView",
            "description_width": ""
          }
        },
        "a1684d2d6a9945ad9f90ac937868ce11": {
          "model_module": "@jupyter-widgets/base",
          "model_name": "LayoutModel",
          "model_module_version": "1.2.0",
          "state": {
            "_model_module": "@jupyter-widgets/base",
            "_model_module_version": "1.2.0",
            "_model_name": "LayoutModel",
            "_view_count": null,
            "_view_module": "@jupyter-widgets/base",
            "_view_module_version": "1.2.0",
            "_view_name": "LayoutView",
            "align_content": null,
            "align_items": null,
            "align_self": null,
            "border": null,
            "bottom": null,
            "display": null,
            "flex": null,
            "flex_flow": null,
            "grid_area": null,
            "grid_auto_columns": null,
            "grid_auto_flow": null,
            "grid_auto_rows": null,
            "grid_column": null,
            "grid_gap": null,
            "grid_row": null,
            "grid_template_areas": null,
            "grid_template_columns": null,
            "grid_template_rows": null,
            "height": null,
            "justify_content": null,
            "justify_items": null,
            "left": null,
            "margin": null,
            "max_height": null,
            "max_width": null,
            "min_height": null,
            "min_width": null,
            "object_fit": null,
            "object_position": null,
            "order": null,
            "overflow": null,
            "overflow_x": null,
            "overflow_y": null,
            "padding": null,
            "right": null,
            "top": null,
            "visibility": null,
            "width": null
          }
        },
        "e6af9341dec14aad98c217ce1e1d3ed9": {
          "model_module": "@jupyter-widgets/controls",
          "model_name": "ProgressStyleModel",
          "model_module_version": "1.5.0",
          "state": {
            "_model_module": "@jupyter-widgets/controls",
            "_model_module_version": "1.5.0",
            "_model_name": "ProgressStyleModel",
            "_view_count": null,
            "_view_module": "@jupyter-widgets/base",
            "_view_module_version": "1.2.0",
            "_view_name": "StyleView",
            "bar_color": null,
            "description_width": ""
          }
        },
        "e3bdd198bee04607b46a5292183aafe2": {
          "model_module": "@jupyter-widgets/base",
          "model_name": "LayoutModel",
          "model_module_version": "1.2.0",
          "state": {
            "_model_module": "@jupyter-widgets/base",
            "_model_module_version": "1.2.0",
            "_model_name": "LayoutModel",
            "_view_count": null,
            "_view_module": "@jupyter-widgets/base",
            "_view_module_version": "1.2.0",
            "_view_name": "LayoutView",
            "align_content": null,
            "align_items": null,
            "align_self": null,
            "border": null,
            "bottom": null,
            "display": null,
            "flex": null,
            "flex_flow": null,
            "grid_area": null,
            "grid_auto_columns": null,
            "grid_auto_flow": null,
            "grid_auto_rows": null,
            "grid_column": null,
            "grid_gap": null,
            "grid_row": null,
            "grid_template_areas": null,
            "grid_template_columns": null,
            "grid_template_rows": null,
            "height": null,
            "justify_content": null,
            "justify_items": null,
            "left": null,
            "margin": null,
            "max_height": null,
            "max_width": null,
            "min_height": null,
            "min_width": null,
            "object_fit": null,
            "object_position": null,
            "order": null,
            "overflow": null,
            "overflow_x": null,
            "overflow_y": null,
            "padding": null,
            "right": null,
            "top": null,
            "visibility": null,
            "width": null
          }
        },
        "ad78b71593b047cc992be7c6bfe54343": {
          "model_module": "@jupyter-widgets/controls",
          "model_name": "DescriptionStyleModel",
          "model_module_version": "1.5.0",
          "state": {
            "_model_module": "@jupyter-widgets/controls",
            "_model_module_version": "1.5.0",
            "_model_name": "DescriptionStyleModel",
            "_view_count": null,
            "_view_module": "@jupyter-widgets/base",
            "_view_module_version": "1.2.0",
            "_view_name": "StyleView",
            "description_width": ""
          }
        }
      }
    }
  },
  "nbformat": 4,
  "nbformat_minor": 0
}