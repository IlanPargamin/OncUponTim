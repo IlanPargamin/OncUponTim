{
  "cells": [
    {
      "cell_type": "markdown",
      "id": "XxbdPbmEDv-L",
      "metadata": {
        "id": "XxbdPbmEDv-L"
      },
      "source": [
        "# Import"
      ]
    },
    {
      "cell_type": "code",
      "execution_count": 1,
      "id": "8459bf51",
      "metadata": {
        "id": "8459bf51"
      },
      "outputs": [],
      "source": [
        "import pandas as pd\n",
        "import numpy as np\n",
        "import matplotlib.pyplot as plt\n",
        "import seaborn as sns\n",
        "\n",
        "from sklearn import metrics\n",
        "from sklearn.metrics import roc_auc_score\n",
        "from sklearn.metrics import precision_recall_curve\n",
        "from sklearn.metrics import confusion_matrix\n",
        "from sklearn.linear_model import LogisticRegression\n",
        "from sklearn.metrics import classification_report\n",
        "from scipy.interpolate import interp1d\n",
        "from sklearn.svm import SVC\n",
        "from sklearn.neighbors import KNeighborsClassifier\n",
        "from sklearn.ensemble import RandomForestClassifier"
      ]
    },
    {
      "cell_type": "code",
      "execution_count": 2,
      "id": "fiSf0r2q5IKy",
      "metadata": {
        "id": "fiSf0r2q5IKy"
      },
      "outputs": [],
      "source": [
        "numerical = ['num_likes', \n",
        "             'num_sent', \n",
        "             'sent_avg_length', \n",
        "             'num_words', \n",
        "             'num_unique_words', \n",
        "             'unique_words_percent',\n",
        "             'words_exist_per_cent',\n",
        "             'emotion_anger', 'emotion_fear', 'emotion_joy', 'emotion_love', \n",
        "             'emotion_sadness', 'emotion_surprise', \n",
        "             'sentiment_POSITIVE_no_prepro', 'sentiment_NEGATIVE_no_prepro', \n",
        "             'sentiment_hf_text']\n",
        "\n",
        "txt_features = ['text_str', 'text_str_lem']"
      ]
    },
    {
      "cell_type": "code",
      "execution_count": 3,
      "id": "55f0b2b9",
      "metadata": {
        "id": "55f0b2b9"
      },
      "outputs": [],
      "source": [
        "feats_to_keep = numerical + txt_features"
      ]
    },
    {
      "cell_type": "code",
      "execution_count": 4,
      "id": "0BCF5CTC6SMR",
      "metadata": {
        "colab": {
          "base_uri": "https://localhost:8080/"
        },
        "id": "0BCF5CTC6SMR",
        "outputId": "bf982679-47e9-4ac9-8270-6a7d085e0dbf"
      },
      "outputs": [
        {
          "output_type": "stream",
          "name": "stdout",
          "text": [
            "Mounted at /content/drive\n"
          ]
        }
      ],
      "source": [
        "from google.colab import drive\n",
        "drive.mount('/content/drive')"
      ]
    },
    {
      "cell_type": "code",
      "execution_count": 7,
      "id": "34f560d8",
      "metadata": {
        "id": "34f560d8"
      },
      "outputs": [],
      "source": [
        "df = pd.read_csv(\"drive/MyDrive/story_data_new_feats.csv\", \n",
        "                 usecols=feats_to_keep)"
      ]
    },
    {
      "cell_type": "code",
      "execution_count": 8,
      "id": "4a0d091e",
      "metadata": {
        "id": "4a0d091e"
      },
      "outputs": [],
      "source": [
        "target = 'num_likes'"
      ]
    },
    {
      "cell_type": "markdown",
      "source": [
        "# Preprocessing to get general features"
      ],
      "metadata": {
        "id": "klnOH3rb8ye9"
      },
      "id": "klnOH3rb8ye9"
    },
    {
      "cell_type": "code",
      "source": [
        "numerical.remove('num_likes')"
      ],
      "metadata": {
        "id": "04EhwNcQ8yOk"
      },
      "id": "04EhwNcQ8yOk",
      "execution_count": 9,
      "outputs": []
    },
    {
      "cell_type": "code",
      "source": [
        "X = df[numerical+txt_features]\n",
        "y = df[target].copy()"
      ],
      "metadata": {
        "id": "v_r093Y781oi"
      },
      "id": "v_r093Y781oi",
      "execution_count": 10,
      "outputs": []
    },
    {
      "cell_type": "code",
      "source": [
        "# turn y into labels 0 and 1, given a threshold\n",
        "threshold = np.quantile(y, 0.7)"
      ],
      "metadata": {
        "id": "roAXOVWV9AmE"
      },
      "id": "roAXOVWV9AmE",
      "execution_count": 11,
      "outputs": []
    },
    {
      "cell_type": "code",
      "source": [
        "from sklearn.preprocessing import Binarizer\n",
        "\n",
        "bn = Binarizer(threshold=threshold).fit(df[[target]])\n",
        "y = bn.transform(df[[target]])"
      ],
      "metadata": {
        "id": "y9slCvpR9DNR"
      },
      "id": "y9slCvpR9DNR",
      "execution_count": 12,
      "outputs": []
    },
    {
      "cell_type": "code",
      "source": [
        "# log transform for relevant distributions\n",
        "for var_to_log in ['sent_avg_length', 'num_unique_words', 'emotion_love']:\n",
        "    X.loc[:, var_to_log] = X.loc[:, var_to_log].apply(np.log1p)"
      ],
      "metadata": {
        "id": "tkxuCsAC9Fem",
        "outputId": "e3ec708d-4cb0-4b25-c825-23aed427fe9c",
        "colab": {
          "base_uri": "https://localhost:8080/"
        }
      },
      "id": "tkxuCsAC9Fem",
      "execution_count": 13,
      "outputs": [
        {
          "output_type": "stream",
          "name": "stderr",
          "text": [
            "/usr/local/lib/python3.7/dist-packages/pandas/core/indexing.py:1773: SettingWithCopyWarning: \n",
            "A value is trying to be set on a copy of a slice from a DataFrame.\n",
            "Try using .loc[row_indexer,col_indexer] = value instead\n",
            "\n",
            "See the caveats in the documentation: https://pandas.pydata.org/pandas-docs/stable/user_guide/indexing.html#returning-a-view-versus-a-copy\n",
            "  self._setitem_single_column(ilocs[0], value, pi)\n"
          ]
        }
      ]
    },
    {
      "cell_type": "markdown",
      "source": [
        "# Split"
      ],
      "metadata": {
        "id": "XKe5B23W9lcb"
      },
      "id": "XKe5B23W9lcb"
    },
    {
      "cell_type": "code",
      "source": [
        "from sklearn.model_selection import train_test_split\n",
        "\n",
        "test_size = 20/100\n",
        "\n",
        "X_train, X_test, y_train, y_test = train_test_split(X, y, \n",
        "                                                    test_size=test_size, \n",
        "                                                    random_state=42, \n",
        "                                                   stratify=y)\n",
        "X_train.shape, X_test.shape, y_train.shape, y_test.shape"
      ],
      "metadata": {
        "id": "NM0RhLUW9kyv",
        "outputId": "ae38f229-0441-4e16-c48f-90699656721d",
        "colab": {
          "base_uri": "https://localhost:8080/"
        }
      },
      "id": "NM0RhLUW9kyv",
      "execution_count": 14,
      "outputs": [
        {
          "output_type": "execute_result",
          "data": {
            "text/plain": [
              "((14598, 17), (3650, 17), (14598, 1), (3650, 1))"
            ]
          },
          "metadata": {},
          "execution_count": 14
        }
      ]
    },
    {
      "cell_type": "code",
      "source": [
        "# we first infer the following data on the transformer model\n",
        "X_train_tr = X_train[['text_str']]\n",
        "X_test_tr = X_test[['text_str']]"
      ],
      "metadata": {
        "id": "e_OkBGnJ9J3h"
      },
      "id": "e_OkBGnJ9J3h",
      "execution_count": 15,
      "outputs": []
    },
    {
      "cell_type": "code",
      "source": [
        "# we then combine the results (the probits) with the general features\n",
        "X_train_gen = X_train[numerical]\n",
        "X_test_gen = X_test[numerical]"
      ],
      "metadata": {
        "id": "miHbw5Zx-Tdv"
      },
      "id": "miHbw5Zx-Tdv",
      "execution_count": 16,
      "outputs": []
    },
    {
      "cell_type": "code",
      "source": [
        "# and with the TF/IDF features\n",
        "X_train_tfidf = X_train[['text_str_lem']]\n",
        "X_test_tfidf = X_test[['text_str_lem']]"
      ],
      "metadata": {
        "id": "ZdT_fxom7l67"
      },
      "id": "ZdT_fxom7l67",
      "execution_count": 17,
      "outputs": []
    },
    {
      "cell_type": "code",
      "source": [
        "y_train = y_train.ravel()\n",
        "y_test = y_test.ravel()"
      ],
      "metadata": {
        "id": "nU-LNjwg-v1L"
      },
      "id": "nU-LNjwg-v1L",
      "execution_count": 18,
      "outputs": []
    },
    {
      "cell_type": "markdown",
      "source": [
        "# Split texts for transformer"
      ],
      "metadata": {
        "id": "lQeWQBZI9tvl"
      },
      "id": "lQeWQBZI9tvl"
    },
    {
      "cell_type": "code",
      "source": [
        "nb_splits = 3\n",
        "cols = ['split_'+ str(i) for i in range(1, nb_splits+1)]\n",
        "\n",
        "def split_text(row):\n",
        "  nb_splits\n",
        "\n",
        "  l = len(row['text_str'])\n",
        "  chars = int(l/nb_splits)\n",
        "\n",
        "  for i, col in zip(range(0, l, chars), cols):  \n",
        "      row[col] = row['text_str'][ i : i+chars];  \n",
        "  return row"
      ],
      "metadata": {
        "id": "4nMFmPgj9vxA"
      },
      "id": "4nMFmPgj9vxA",
      "execution_count": 19,
      "outputs": []
    },
    {
      "cell_type": "code",
      "source": [
        "from tqdm import tqdm\n",
        "tqdm.pandas()\n",
        "X_train_tr = X_train_tr.progress_apply(split_text, axis=1)\n",
        "X_test_tr = X_test_tr.progress_apply(split_text, axis=1)"
      ],
      "metadata": {
        "colab": {
          "base_uri": "https://localhost:8080/"
        },
        "id": "qp-uxlkV9zip",
        "outputId": "43a98cea-7137-4d67-c397-4e6126466cc4"
      },
      "id": "qp-uxlkV9zip",
      "execution_count": 21,
      "outputs": [
        {
          "output_type": "stream",
          "name": "stderr",
          "text": [
            "100%|██████████| 14598/14598 [00:01<00:00, 9299.27it/s] \n",
            "100%|██████████| 3650/3650 [00:05<00:00, 677.51it/s]\n"
          ]
        }
      ]
    },
    {
      "cell_type": "code",
      "source": [
        "X_train_tr['story_id'] = X_train_tr.index.tolist()\n",
        "X_test_tr['story_id'] = X_test_tr.index.tolist()"
      ],
      "metadata": {
        "id": "CmuHf3zS-Qp6"
      },
      "id": "CmuHf3zS-Qp6",
      "execution_count": 22,
      "outputs": []
    },
    {
      "cell_type": "code",
      "source": [
        "X_train_tr = X_train_tr.melt(id_vars=['story_id'], value_vars=cols)\n",
        "X_test_tr = X_test_tr.melt(id_vars=['story_id'], value_vars=cols)"
      ],
      "metadata": {
        "id": "fDUWc6lJ-WJN"
      },
      "id": "fDUWc6lJ-WJN",
      "execution_count": 23,
      "outputs": []
    },
    {
      "cell_type": "code",
      "source": [
        "len(X_train_tr)"
      ],
      "metadata": {
        "colab": {
          "base_uri": "https://localhost:8080/"
        },
        "id": "Z67jcn93ac03",
        "outputId": "0e508deb-8462-41e8-bb02-2ebd6a4753b6"
      },
      "id": "Z67jcn93ac03",
      "execution_count": 24,
      "outputs": [
        {
          "output_type": "execute_result",
          "data": {
            "text/plain": [
              "43794"
            ]
          },
          "metadata": {},
          "execution_count": 24
        }
      ]
    },
    {
      "cell_type": "code",
      "source": [
        "X_train_tr = X_train_tr.sort_values(by=['story_id', 'variable']).reset_index(drop=True)[['value', 'story_id']]\n",
        "X_test_tr = X_test_tr.sort_values(by=['story_id', 'variable']).reset_index(drop=True)[['value', 'story_id']]"
      ],
      "metadata": {
        "id": "_dwhUdKs-Zo8"
      },
      "id": "_dwhUdKs-Zo8",
      "execution_count": 25,
      "outputs": []
    },
    {
      "cell_type": "code",
      "source": [
        "X_train_tr_index = X_train_tr.story_id\n",
        "X_test_tr_index = X_test_tr.story_id"
      ],
      "metadata": {
        "id": "ctIiRWbZ-fgc"
      },
      "id": "ctIiRWbZ-fgc",
      "execution_count": 26,
      "outputs": []
    },
    {
      "cell_type": "markdown",
      "source": [
        "# import transformer model"
      ],
      "metadata": {
        "id": "e9xSHKRT73Fn"
      },
      "id": "e9xSHKRT73Fn"
    },
    {
      "cell_type": "code",
      "source": [
        "! pip install transformers"
      ],
      "metadata": {
        "colab": {
          "base_uri": "https://localhost:8080/"
        },
        "id": "QGOy0700745u",
        "outputId": "8040c5bd-3ecb-449a-f51a-82a454e1cea5"
      },
      "id": "QGOy0700745u",
      "execution_count": 27,
      "outputs": [
        {
          "output_type": "stream",
          "name": "stdout",
          "text": [
            "Looking in indexes: https://pypi.org/simple, https://us-python.pkg.dev/colab-wheels/public/simple/\n",
            "Collecting transformers\n",
            "  Downloading transformers-4.20.1-py3-none-any.whl (4.4 MB)\n",
            "\u001b[K     |████████████████████████████████| 4.4 MB 7.0 MB/s \n",
            "\u001b[?25hCollecting tokenizers!=0.11.3,<0.13,>=0.11.1\n",
            "  Downloading tokenizers-0.12.1-cp37-cp37m-manylinux_2_12_x86_64.manylinux2010_x86_64.whl (6.6 MB)\n",
            "\u001b[K     |████████████████████████████████| 6.6 MB 57.1 MB/s \n",
            "\u001b[?25hRequirement already satisfied: numpy>=1.17 in /usr/local/lib/python3.7/dist-packages (from transformers) (1.21.6)\n",
            "Requirement already satisfied: filelock in /usr/local/lib/python3.7/dist-packages (from transformers) (3.7.1)\n",
            "Collecting huggingface-hub<1.0,>=0.1.0\n",
            "  Downloading huggingface_hub-0.8.1-py3-none-any.whl (101 kB)\n",
            "\u001b[K     |████████████████████████████████| 101 kB 14.0 MB/s \n",
            "\u001b[?25hRequirement already satisfied: requests in /usr/local/lib/python3.7/dist-packages (from transformers) (2.23.0)\n",
            "Requirement already satisfied: tqdm>=4.27 in /usr/local/lib/python3.7/dist-packages (from transformers) (4.64.0)\n",
            "Collecting pyyaml>=5.1\n",
            "  Downloading PyYAML-6.0-cp37-cp37m-manylinux_2_5_x86_64.manylinux1_x86_64.manylinux_2_12_x86_64.manylinux2010_x86_64.whl (596 kB)\n",
            "\u001b[K     |████████████████████████████████| 596 kB 58.6 MB/s \n",
            "\u001b[?25hRequirement already satisfied: packaging>=20.0 in /usr/local/lib/python3.7/dist-packages (from transformers) (21.3)\n",
            "Requirement already satisfied: importlib-metadata in /usr/local/lib/python3.7/dist-packages (from transformers) (4.11.4)\n",
            "Requirement already satisfied: regex!=2019.12.17 in /usr/local/lib/python3.7/dist-packages (from transformers) (2022.6.2)\n",
            "Requirement already satisfied: typing-extensions>=3.7.4.3 in /usr/local/lib/python3.7/dist-packages (from huggingface-hub<1.0,>=0.1.0->transformers) (4.1.1)\n",
            "Requirement already satisfied: pyparsing!=3.0.5,>=2.0.2 in /usr/local/lib/python3.7/dist-packages (from packaging>=20.0->transformers) (3.0.9)\n",
            "Requirement already satisfied: zipp>=0.5 in /usr/local/lib/python3.7/dist-packages (from importlib-metadata->transformers) (3.8.0)\n",
            "Requirement already satisfied: idna<3,>=2.5 in /usr/local/lib/python3.7/dist-packages (from requests->transformers) (2.10)\n",
            "Requirement already satisfied: urllib3!=1.25.0,!=1.25.1,<1.26,>=1.21.1 in /usr/local/lib/python3.7/dist-packages (from requests->transformers) (1.24.3)\n",
            "Requirement already satisfied: certifi>=2017.4.17 in /usr/local/lib/python3.7/dist-packages (from requests->transformers) (2022.6.15)\n",
            "Requirement already satisfied: chardet<4,>=3.0.2 in /usr/local/lib/python3.7/dist-packages (from requests->transformers) (3.0.4)\n",
            "Installing collected packages: pyyaml, tokenizers, huggingface-hub, transformers\n",
            "  Attempting uninstall: pyyaml\n",
            "    Found existing installation: PyYAML 3.13\n",
            "    Uninstalling PyYAML-3.13:\n",
            "      Successfully uninstalled PyYAML-3.13\n",
            "Successfully installed huggingface-hub-0.8.1 pyyaml-6.0 tokenizers-0.12.1 transformers-4.20.1\n"
          ]
        }
      ]
    },
    {
      "cell_type": "code",
      "source": [
        "from transformers import AutoTokenizer\n",
        "tokenizer = AutoTokenizer.from_pretrained('roberta-base')"
      ],
      "metadata": {
        "colab": {
          "base_uri": "https://localhost:8080/",
          "height": 0,
          "referenced_widgets": [
            "bf2b62f0c6a442f69b2cdcd497b5a3a5",
            "53af41766c2e452c9bb96db497992be3",
            "be290e6fc8914c8abdf56ecc4c8bcdf9",
            "85c55c66f9034b1b989d1dcdfb398569",
            "fbe9c2cba3624b838d201f4ee5725acd",
            "762480790d13448a9c7a7b789661e6cf",
            "e244ee3477784f89a2590c2f606b445e",
            "17c3aacd43a544be9a060c009e2fe30d",
            "fa94ad6985684274a7c7f1d48d879d03",
            "7dd31f54c7954a01abbf42d748b83369",
            "bda04d2ef96e44a089b6d6ad22fcfbef",
            "4182f9fcbbb64e56b8c0955aee8058ea",
            "9afc3670ea0d4a1bbfadf2cdc73d931a",
            "f7920ed3db274bad9310d63add1c4cb5",
            "3f87c9549de34621bf1fc4791e88296c",
            "9bced5cc4c2f48fdb494e821676a9f57",
            "04d5f940c74847ba822586a9ea9a5023",
            "dfb78f9d4ff24264bb1819ee7b7123ac",
            "a372c0dd63a74003998ebbc711e107fa",
            "2c824391c80b4103a8a6e16ddde07bd1",
            "f378c83c4503416fac79970532d76362",
            "317e4f9849904beeb80a691aaae1a56f",
            "831c8c0234884eae9897982cb8b6cfc0",
            "b02c25c9e14941c3a631e7aa1d71ba2f",
            "dfc3a23552484a9ab86db57bf36ad36d",
            "7d55aa12652842bb9c4facdb6b95203d",
            "9a0f8c059dd14aba9e8d9062809070dd",
            "32d771b805284d0486e0695a8918f73d",
            "68930e0e81804d5fb46d1a04a8583dd4",
            "f5c9bba6b45a4f26bd4d3e8546501f04",
            "9882a245a1ef485884468a2a8655ddbe",
            "de281e72a4364188993f70110fe4ac47",
            "025e235526fe414ea74a04992a78b436",
            "ccb423ee9781492a8b2b4d4ad3c11a57",
            "5d2513a3409a47fe898619e5588e4dd6",
            "e47b078865a347ec8e5e457ec70cc870",
            "a5e629f9aede409ab869458a3d8e0f1d",
            "50ff8dacead6405ea9a94a12f6445cc5",
            "fc25dc71884c4ad188f646c806bd4c7a",
            "e5b1529e3f284eefb0e553d51d417ab1",
            "708abf15977944c7b381a0eeade037ac",
            "808db61d52b44e2c80aa26117a9d632f",
            "3d5b5804e546448ab998328ded44e36f",
            "31a688703a3f42b6a053df545dd766f0"
          ]
        },
        "id": "hb7yPoBXAm98",
        "outputId": "f8b5c24e-5d6a-4d24-fa76-ce19b3ccc7ca"
      },
      "id": "hb7yPoBXAm98",
      "execution_count": 28,
      "outputs": [
        {
          "output_type": "display_data",
          "data": {
            "text/plain": [
              "Downloading:   0%|          | 0.00/481 [00:00<?, ?B/s]"
            ],
            "application/vnd.jupyter.widget-view+json": {
              "version_major": 2,
              "version_minor": 0,
              "model_id": "bf2b62f0c6a442f69b2cdcd497b5a3a5"
            }
          },
          "metadata": {}
        },
        {
          "output_type": "display_data",
          "data": {
            "text/plain": [
              "Downloading:   0%|          | 0.00/878k [00:00<?, ?B/s]"
            ],
            "application/vnd.jupyter.widget-view+json": {
              "version_major": 2,
              "version_minor": 0,
              "model_id": "4182f9fcbbb64e56b8c0955aee8058ea"
            }
          },
          "metadata": {}
        },
        {
          "output_type": "display_data",
          "data": {
            "text/plain": [
              "Downloading:   0%|          | 0.00/446k [00:00<?, ?B/s]"
            ],
            "application/vnd.jupyter.widget-view+json": {
              "version_major": 2,
              "version_minor": 0,
              "model_id": "831c8c0234884eae9897982cb8b6cfc0"
            }
          },
          "metadata": {}
        },
        {
          "output_type": "display_data",
          "data": {
            "text/plain": [
              "Downloading:   0%|          | 0.00/1.29M [00:00<?, ?B/s]"
            ],
            "application/vnd.jupyter.widget-view+json": {
              "version_major": 2,
              "version_minor": 0,
              "model_id": "ccb423ee9781492a8b2b4d4ad3c11a57"
            }
          },
          "metadata": {}
        }
      ]
    },
    {
      "cell_type": "code",
      "source": [
        "from transformers import TFAutoModelForSequenceClassification\n",
        "model = TFAutoModelForSequenceClassification.from_pretrained(\"ilan541/OncUponTim\")"
      ],
      "metadata": {
        "colab": {
          "base_uri": "https://localhost:8080/",
          "height": 0,
          "referenced_widgets": [
            "860777bf360a4ca38ea701b2946370e7",
            "c741fddd18dc4eb3ad996995b6d19a9b",
            "3b4fe285080849ef8f4d2e2ef353e2b0",
            "16239092f03844debcbca963c8d513ae",
            "9ae856d7592a4729a900c7c4ae36d823",
            "62639b77928847be83e3a38bee7f2f1e",
            "cff37e9b9f38444e9485bb3e712e8d07",
            "748e82f4d1ef45c29939353a176ee706",
            "e890a90f8f97482b843f1d528a62ec66",
            "a9c249b296bc4492b9f0210233e22872",
            "aefc10549a8143f9a3ec138c2cafcbcb",
            "72e8898be6da444e9d31782f0435f982",
            "a3db5957b6d74d7180af070f4aeae2de",
            "c0c1197e86a84f8a8dddb89a913fdf52",
            "0ac67ac5cb1d4b8aa184a3e78b13ee92",
            "b961153e34b545c89dcc8d9028ea87ea",
            "69d6d4fb984741899d135382d8d25e5f",
            "f6a9a5c9ba2843768b420078246ebfa2",
            "0741c9fe9a36419895001814941d2a7f",
            "e7a6ac319bae4b3697730716b56c456b",
            "23bb754a60e541a4bc934a11e9e70b64",
            "9238a485d536484391487554f39f945c"
          ]
        },
        "id": "Gqq7ora9AFvo",
        "outputId": "82cc906c-14c8-4847-fc04-5f2ddf380557"
      },
      "id": "Gqq7ora9AFvo",
      "execution_count": 29,
      "outputs": [
        {
          "output_type": "display_data",
          "data": {
            "text/plain": [
              "Downloading:   0%|          | 0.00/664 [00:00<?, ?B/s]"
            ],
            "application/vnd.jupyter.widget-view+json": {
              "version_major": 2,
              "version_minor": 0,
              "model_id": "860777bf360a4ca38ea701b2946370e7"
            }
          },
          "metadata": {}
        },
        {
          "output_type": "display_data",
          "data": {
            "text/plain": [
              "Downloading:   0%|          | 0.00/476M [00:00<?, ?B/s]"
            ],
            "application/vnd.jupyter.widget-view+json": {
              "version_major": 2,
              "version_minor": 0,
              "model_id": "72e8898be6da444e9d31782f0435f982"
            }
          },
          "metadata": {}
        },
        {
          "output_type": "stream",
          "name": "stderr",
          "text": [
            "All model checkpoint layers were used when initializing TFRobertaForSequenceClassification.\n",
            "\n",
            "All the layers of TFRobertaForSequenceClassification were initialized from the model checkpoint at ilan541/OncUponTim.\n",
            "If your task is similar to the task the model of the checkpoint was trained on, you can already use TFRobertaForSequenceClassification for predictions without further training.\n"
          ]
        }
      ]
    },
    {
      "cell_type": "markdown",
      "source": [
        "# Tokenize data"
      ],
      "metadata": {
        "id": "cCT6oDYGBEu4"
      },
      "id": "cCT6oDYGBEu4"
    },
    {
      "cell_type": "code",
      "source": [
        "%%time\n",
        "max_length = 512\n",
        "X_train_tr = tokenizer(X_train_tr.value.tolist(), \n",
        "                    truncation=True, \n",
        "                    padding='max_length', \n",
        "                    max_length=max_length)"
      ],
      "metadata": {
        "colab": {
          "base_uri": "https://localhost:8080/"
        },
        "id": "BgB6CPNsUALF",
        "outputId": "e43ddb38-14d3-47d2-a6d2-5bb506cb816b"
      },
      "id": "BgB6CPNsUALF",
      "execution_count": 30,
      "outputs": [
        {
          "output_type": "stream",
          "name": "stdout",
          "text": [
            "CPU times: user 1min 51s, sys: 2.61 s, total: 1min 53s\n",
            "Wall time: 1min 44s\n"
          ]
        }
      ]
    },
    {
      "cell_type": "code",
      "source": [
        "len(X_train_tr['input_ids'])"
      ],
      "metadata": {
        "colab": {
          "base_uri": "https://localhost:8080/"
        },
        "id": "fADt7x84cOA6",
        "outputId": "fb7ac717-ade1-4eda-d56d-f5653cf66470"
      },
      "id": "fADt7x84cOA6",
      "execution_count": 31,
      "outputs": [
        {
          "output_type": "execute_result",
          "data": {
            "text/plain": [
              "43794"
            ]
          },
          "metadata": {},
          "execution_count": 31
        }
      ]
    },
    {
      "cell_type": "code",
      "source": [
        "%%time\n",
        "X_test_tr = tokenizer(X_test_tr.value.tolist(), \n",
        "                   truncation=True, \n",
        "                   padding='max_length', \n",
        "                   max_length=max_length)"
      ],
      "metadata": {
        "colab": {
          "base_uri": "https://localhost:8080/"
        },
        "id": "CwkXJmgZBHeY",
        "outputId": "31296742-8b46-4885-9fb4-0b4dca9a8cd8"
      },
      "id": "CwkXJmgZBHeY",
      "execution_count": 32,
      "outputs": [
        {
          "output_type": "stream",
          "name": "stdout",
          "text": [
            "CPU times: user 27.7 s, sys: 585 ms, total: 28.3 s\n",
            "Wall time: 17.8 s\n"
          ]
        }
      ]
    },
    {
      "cell_type": "code",
      "source": [
        "X_train_tr = [np.array(X_train_tr.input_ids)]\n",
        "X_test_tr = [np.array(X_test_tr.input_ids)]"
      ],
      "metadata": {
        "id": "Lrn_zqEXBYRH"
      },
      "id": "Lrn_zqEXBYRH",
      "execution_count": 33,
      "outputs": []
    },
    {
      "cell_type": "markdown",
      "source": [
        "# Inference"
      ],
      "metadata": {
        "id": "C3-Vs5FxBGNs"
      },
      "id": "C3-Vs5FxBGNs"
    },
    {
      "cell_type": "code",
      "source": [
        "X_train_tr[0].shape"
      ],
      "metadata": {
        "colab": {
          "base_uri": "https://localhost:8080/"
        },
        "id": "T8F3DHYoaFmG",
        "outputId": "92919082-ce86-4214-dec8-8f8b4eb7fe77"
      },
      "id": "T8F3DHYoaFmG",
      "execution_count": 34,
      "outputs": [
        {
          "output_type": "execute_result",
          "data": {
            "text/plain": [
              "(43794, 512)"
            ]
          },
          "metadata": {},
          "execution_count": 34
        }
      ]
    },
    {
      "cell_type": "code",
      "source": [
        "%%time\n",
        "y_pred_train_tr = model.predict(X_train_tr, verbose=1)"
      ],
      "metadata": {
        "id": "LmqYwREmBwxE",
        "outputId": "d8d124c1-d7dd-4c45-ac31-227ea05b2ac9",
        "colab": {
          "base_uri": "https://localhost:8080/"
        }
      },
      "id": "LmqYwREmBwxE",
      "execution_count": 35,
      "outputs": [
        {
          "output_type": "stream",
          "name": "stdout",
          "text": [
            "1369/1369 [==============================] - 1767s 1s/step\n",
            "CPU times: user 3min 7s, sys: 41.1 s, total: 3min 48s\n",
            "Wall time: 29min 26s\n"
          ]
        }
      ]
    },
    {
      "cell_type": "code",
      "source": [
        "%%time\n",
        "y_pred_test_tr = model.predict(X_test_tr, verbose=1)"
      ],
      "metadata": {
        "colab": {
          "base_uri": "https://localhost:8080/"
        },
        "id": "Vt85Fe32PFFX",
        "outputId": "476bad07-722b-497f-be3e-9ed2cadfebda"
      },
      "id": "Vt85Fe32PFFX",
      "execution_count": 36,
      "outputs": [
        {
          "output_type": "stream",
          "name": "stdout",
          "text": [
            "343/343 [==============================] - 441s 1s/step\n",
            "CPU times: user 44.3 s, sys: 10.5 s, total: 54.8 s\n",
            "Wall time: 7min 21s\n"
          ]
        }
      ]
    },
    {
      "cell_type": "code",
      "source": [
        "from scipy.special import softmax\n",
        "\n",
        "def get_mean_pred(X_index, model, y_pred):\n",
        "  y_pred_df = pd.DataFrame()\n",
        "\n",
        "\n",
        "  y_pred_df['story_id'] = X_index.values\n",
        "  y_pred_df['y_pred_0'] = y_pred.logits[:,0]\n",
        "  y_pred_df['y_pred_1'] = y_pred.logits[:,1]\n",
        "\n",
        "  y_pred_all = np.array(y_pred_df[['y_pred_0', 'y_pred_1']])\n",
        "  y_pred_df['y_pred_tr'] = np.argmax(y_pred_all, axis=1)\n",
        "\n",
        "  y_pred_all = softmax(y_pred_all)\n",
        "\n",
        "  \n",
        "\n",
        "  return y_pred_df.groupby('story_id').mean()"
      ],
      "metadata": {
        "id": "7JDFMLsaRelD"
      },
      "id": "7JDFMLsaRelD",
      "execution_count": 37,
      "outputs": []
    },
    {
      "cell_type": "code",
      "source": [
        "y_pred_train = get_mean_pred(X_train_tr_index, model, y_pred_train_tr)\n",
        "y_pred_test = get_mean_pred(X_test_tr_index, model, y_pred_test_tr)"
      ],
      "metadata": {
        "id": "XgHG6C-8ARSb"
      },
      "id": "XgHG6C-8ARSb",
      "execution_count": 38,
      "outputs": []
    },
    {
      "cell_type": "code",
      "source": [
        "np.unique(y_pred_test.y_pred_tr, return_counts=True)"
      ],
      "metadata": {
        "id": "QVPCop06K4gq",
        "outputId": "0cf4c429-9845-470e-db6c-783b1c47a4f0",
        "colab": {
          "base_uri": "https://localhost:8080/"
        }
      },
      "id": "QVPCop06K4gq",
      "execution_count": 46,
      "outputs": [
        {
          "output_type": "execute_result",
          "data": {
            "text/plain": [
              "(array([0.        , 0.33333333, 0.66666667, 1.        ]),\n",
              " array([2961,  284,  178,  227]))"
            ]
          },
          "metadata": {},
          "execution_count": 46
        }
      ]
    },
    {
      "cell_type": "code",
      "source": [
        "np.unique(y_pred_train.y_pred_tr, return_counts=True)"
      ],
      "metadata": {
        "id": "1ZfL2ykQSOmt",
        "outputId": "1ec14be8-bb67-44a5-fb44-bbeb8f9e6860",
        "colab": {
          "base_uri": "https://localhost:8080/"
        }
      },
      "id": "1ZfL2ykQSOmt",
      "execution_count": 45,
      "outputs": [
        {
          "output_type": "execute_result",
          "data": {
            "text/plain": [
              "(array([0.        , 0.33333333, 0.66666667, 1.        ]),\n",
              " array([11762,  1095,   773,   968]))"
            ]
          },
          "metadata": {},
          "execution_count": 45
        }
      ]
    },
    {
      "cell_type": "code",
      "source": [
        "X_train_gen.shape, y_pred_train.shape"
      ],
      "metadata": {
        "colab": {
          "base_uri": "https://localhost:8080/"
        },
        "id": "rCh_cADKoTLG",
        "outputId": "fc0df16e-366e-41c3-b66b-80d96b9c8e00"
      },
      "id": "rCh_cADKoTLG",
      "execution_count": 48,
      "outputs": [
        {
          "output_type": "execute_result",
          "data": {
            "text/plain": [
              "((14598, 15), (14598, 3))"
            ]
          },
          "metadata": {},
          "execution_count": 48
        }
      ]
    },
    {
      "cell_type": "code",
      "source": [
        "# # need to normalize the transformer predictions ?\n",
        "# from sklearn.preprocessing import StandardScaler\n",
        "# scaler = StandardScaler()\n",
        "# y_pred_train_tr = pd.DataFrame(scaler.fit_transform(y_pred_train_tr), columns=y_pred_train_tr.columns)\n",
        "# y_pred_test_tr = pd.DataFrame(scaler.transform(y_pred_test_tr), columns=y_pred_test_tr.columns)\n"
      ],
      "metadata": {
        "id": "PrYt5y8eGEDt"
      },
      "id": "PrYt5y8eGEDt",
      "execution_count": 49,
      "outputs": []
    },
    {
      "cell_type": "code",
      "source": [
        "# visualization of the transformer predictions (hist)\n",
        "y_pred_train.y_pred_0.hist()\n",
        "y_pred_train.y_pred_1.hist()"
      ],
      "metadata": {
        "id": "Kj4R7VNDGGkH",
        "colab": {
          "base_uri": "https://localhost:8080/",
          "height": 283
        },
        "outputId": "37866558-d436-456f-b112-3531e820f917"
      },
      "id": "Kj4R7VNDGGkH",
      "execution_count": 50,
      "outputs": [
        {
          "output_type": "execute_result",
          "data": {
            "text/plain": [
              "<matplotlib.axes._subplots.AxesSubplot at 0x7fd5df76e310>"
            ]
          },
          "metadata": {},
          "execution_count": 50
        },
        {
          "output_type": "display_data",
          "data": {
            "text/plain": [
              "<Figure size 432x288 with 1 Axes>"
            ],
            "image/png": "[encoded data removed]"
          },
          "metadata": {
            "needs_background": "light"
          }
        }
      ]
    },
    {
      "cell_type": "code",
      "source": [
        "X_train_trans = y_pred_train.reset_index(drop=True)\n",
        "X_test_trans = y_pred_test.reset_index(drop=True)"
      ],
      "metadata": {
        "id": "FWQiuAFJnVhi"
      },
      "id": "FWQiuAFJnVhi",
      "execution_count": 51,
      "outputs": []
    },
    {
      "cell_type": "markdown",
      "id": "8xAXPtDeaRMs",
      "metadata": {
        "id": "8xAXPtDeaRMs"
      },
      "source": [
        "# Help functions"
      ]
    },
    {
      "cell_type": "code",
      "source": [
        "def display_model_results(model, X_train, X_test, y_train, y_test, name_model):\n",
        "  model.fit(X_train, y_train)\n",
        "  y_pred = model.predict(X_test)\n",
        "\n",
        "  # display R2\n",
        "  print(f'R2 on train set: {model.score(X_train, y_train)}')\n",
        "  print(f'R2 on test set: {model.score(X_test, y_test)}')\n",
        "  print('\\n')\n",
        "\n",
        "  # classification report\n",
        "  print(classification_report(y_test, y_pred))\n",
        "  print('\\n')\n",
        "\n",
        "  # confusion matric\n",
        "  print('Confusion matrix:')\n",
        "  print(confusion_matrix(y_test, y_pred))\n",
        "  print('\\n')\n",
        "\n",
        "  # roc\n",
        "  y_probs = model.predict_proba(X_test)[:,1]\n",
        "  fpr, tpr, thresholds = metrics.roc_curve(y_test, y_probs)\n",
        "  auc = roc_auc_score(y_test, y_probs)\n",
        "\n",
        "  plt.figure(figsize=(10,10))\n",
        "  plt.plot(fpr, tpr, label=f'{name_model}, AUC={auc:.4f}')\n",
        "  plt.plot([0, 1], [0, 1], color=\"navy\", lw=2, linestyle=\"--\", label=\"no model. AUC=.5\")\n",
        "  plt.title(\"Receiver operating characteristic \")\n",
        "  plt.xlabel('rate of false positives')\n",
        "  plt.ylabel('rate of true positives')\n",
        "  plt.legend(loc='best')\n",
        "  plt.show()\n",
        "  print('\\n')\n",
        "\n",
        "  tn, fp, fn, tp = confusion_matrix(y_test, y_pred).ravel()\n",
        "\n",
        "  print(f'{tp*100/(tp+fn):.2f}% of the good stories are rightly identified.')\n",
        "  print(f'{fp*100/(fp+tn):.2f}% of the bad stories are identified as good ones.')\n",
        "\n",
        "  print('\\n')\n",
        "\n",
        "\n",
        "  # feature importance\n",
        "  try:\n",
        "    cols = [x for _, x in sorted(zip(model.coef_.tolist()[0], X_train.columns))]\n",
        "    plt.figure(figsize=(15,15))\n",
        "    for col, coef in zip(cols, sorted(model.coef_.tolist()[0])):\n",
        "      plt.barh(col, coef)\n",
        "  except AttributeError:\n",
        "    print('No feature importance')\n",
        "  return model\n"
      ],
      "metadata": {
        "id": "jYo-WCGZDJ13"
      },
      "id": "jYo-WCGZDJ13",
      "execution_count": 52,
      "outputs": []
    },
    {
      "cell_type": "code",
      "source": [
        "def play_with_threshold(recall_value, X_test, y_test, model, name):\n",
        "  \"\"\"\n",
        "  Model must be trained\n",
        "  \"\"\"\n",
        "  y_probs = model.predict_proba(X_test)[:,1]\n",
        "  precision, recall, thresholds = precision_recall_curve(y_test, y_probs)\n",
        "\n",
        "  x = np.linspace(0,1, num=len(precision))\n",
        "  y = interp1d(recall, precision)\n",
        "  precision_value = y(recall_value)\n",
        "  plt.figure(figsize=(10,10))\n",
        "  plt.plot(recall, precision, label=name)\n",
        "  plt.title(\"precision-recall curve\")\n",
        "  plt.plot(x, [precision_value]*len(recall), label=f'{precision_value:.2f}')\n",
        "  plt.axvline(recall_value, label=f'{recall_value:.2f}')\n",
        "  plt.xlabel('recall')\n",
        "  plt.ylabel('precision')\n",
        "  plt.legend()\n",
        "  plt.show()\n",
        "\n",
        "  if len(thresholds)<len(recall):\n",
        "    thresholds = np.append(thresholds,0)\n",
        "  y_thresholds = interp1d(recall, thresholds)\n",
        "  threshold_value = y_thresholds(recall_value)\n",
        "  print('\\n')\n",
        "  print(f'When recall is equal to {recall_value:.2f}, precision is equal to {precision_value:.4f},\\\n",
        "and the threshold is equal to {threshold_value:.2f}.')\n",
        "  f1 = 2*(recall_value*precision_value)/(recall_value+precision_value)\n",
        "  print(f'f1 is equal to {f1:.4f}')\n",
        "  \n",
        "  return threshold_value\n"
      ],
      "metadata": {
        "id": "aaaad8YKDQQ0"
      },
      "id": "aaaad8YKDQQ0",
      "execution_count": 53,
      "outputs": []
    },
    {
      "cell_type": "code",
      "source": [
        "def conf_matrix(model, threshold_proba, X_test, y_test):\n",
        "  p = threshold_proba\n",
        "  y_probs = model.predict_proba(X_test)[:,1]\n",
        "\n",
        "  y_pred = (y_probs >= p).astype(int)\n",
        "  tn, fp, fn, tp = confusion_matrix(y_test, y_pred).ravel()\n",
        "\n",
        "  print(f'{tp*100/(tp+fn):.2f}% of the good stories are rightly identified.')\n",
        "  print(f'{fp*100/(fp+tn):.2f}% of the bad stories are identified as good ones.')\n",
        "  print('\\n')\n",
        "  print(f\"Confusion matrix when p={p:.2f}:\")\n",
        "  print(confusion_matrix(y_test, y_pred))\n"
      ],
      "metadata": {
        "id": "MHOkskEIDR1W"
      },
      "id": "MHOkskEIDR1W",
      "execution_count": 54,
      "outputs": []
    },
    {
      "cell_type": "code",
      "source": [
        "def plot_rocs(names, models, X_test, y_test):\n",
        "  \n",
        "  plt.figure(figsize=(10, 7))\n",
        "  \n",
        "  for name, model in zip(names, models):\n",
        "    y_probs = model.predict_proba(X_test)[:,1]\n",
        "    fpr, tpr, thresholds = metrics.roc_curve(y_test, y_probs)\n",
        "    auc = roc_auc_score(y_test, y_probs)\n",
        "\n",
        "    plt.plot(fpr, tpr, label=f'{name}, AUC={auc:.4f}')\n",
        "      \n",
        "  plt.plot([0, 1], [0, 1], color=\"navy\", lw=2, linestyle=\"--\", label=\"no model. AUC=.5\")\n",
        "  plt.title('ROC curves\\n(Receiver Operating Characteristic)')\n",
        "  plt.xlabel('rate of false positives\\nFPR')\n",
        "  plt.ylabel('rate of true positives\\nTPR')\n",
        "  plt.legend(loc='best')\n",
        "  plt.show()"
      ],
      "metadata": {
        "id": "3sNzJ88dHToa"
      },
      "id": "3sNzJ88dHToa",
      "execution_count": 55,
      "outputs": []
    },
    {
      "cell_type": "markdown",
      "id": "JdcuPkc76vh1",
      "metadata": {
        "id": "JdcuPkc76vh1"
      },
      "source": [
        "# General features - train model"
      ]
    },
    {
      "cell_type": "markdown",
      "id": "URgn6Ih7D5g0",
      "metadata": {
        "id": "URgn6Ih7D5g0"
      },
      "source": [
        "## Preprocessing"
      ]
    },
    {
      "cell_type": "code",
      "execution_count": 56,
      "id": "6d02fbcb",
      "metadata": {
        "colab": {
          "base_uri": "https://localhost:8080/"
        },
        "id": "6d02fbcb",
        "outputId": "3e396396-e5c7-47ed-9848-12004a32da14"
      },
      "outputs": [
        {
          "output_type": "execute_result",
          "data": {
            "text/plain": [
              "((14598, 15), (3650, 15))"
            ]
          },
          "metadata": {},
          "execution_count": 56
        }
      ],
      "source": [
        "# feature scaling\n",
        "from sklearn.preprocessing import StandardScaler\n",
        "scaler = StandardScaler()\n",
        "X_train_gen = pd.DataFrame(scaler.fit_transform(X_train_gen), columns=X_train_gen.columns)\n",
        "X_test_gen = pd.DataFrame(scaler.transform(X_test_gen), columns=X_train_gen.columns)\n",
        "\n",
        "X_train_gen.shape, X_test_gen.shape"
      ]
    },
    {
      "cell_type": "markdown",
      "source": [
        "###add the predictions of the transformer as features to the general feature model "
      ],
      "metadata": {
        "id": "KF3AmocHDu8j"
      },
      "id": "KF3AmocHDu8j"
    },
    {
      "cell_type": "code",
      "source": [
        "X_train_gen.shape, X_train_trans.shape"
      ],
      "metadata": {
        "colab": {
          "base_uri": "https://localhost:8080/"
        },
        "id": "Xee7ZMr5oxkK",
        "outputId": "7bcdc522-a5ab-4bb1-bc37-3f3529eec7d8"
      },
      "id": "Xee7ZMr5oxkK",
      "execution_count": 57,
      "outputs": [
        {
          "output_type": "execute_result",
          "data": {
            "text/plain": [
              "((14598, 15), (14598, 3))"
            ]
          },
          "metadata": {},
          "execution_count": 57
        }
      ]
    },
    {
      "cell_type": "code",
      "source": [
        "X_train_gen_tr = pd.concat([X_train_gen, X_train_trans], axis=1)\n",
        "X_test_gen_tr = pd.concat([X_test_gen, X_test_trans], axis=1)\n"
      ],
      "metadata": {
        "id": "c1-uJBESFH5O"
      },
      "id": "c1-uJBESFH5O",
      "execution_count": 58,
      "outputs": []
    },
    {
      "cell_type": "code",
      "source": [
        "scaler = StandardScaler()\n",
        "X_train_gen_tr = pd.DataFrame(scaler.fit_transform(X_train_gen_tr), columns=X_train_gen_tr.columns)\n",
        "X_test_gen_tr = pd.DataFrame(scaler.transform(X_test_gen_tr), columns=X_train_gen_tr.columns)\n"
      ],
      "metadata": {
        "id": "pd9ustkTpPTT"
      },
      "id": "pd9ustkTpPTT",
      "execution_count": 59,
      "outputs": []
    },
    {
      "cell_type": "code",
      "source": [
        "np.unique(X_train_gen_tr.y_pred_tr, return_counts=True)"
      ],
      "metadata": {
        "id": "CBP8OcVAR6hS",
        "outputId": "1e65a64b-c7cb-4dd3-ff61-28c2465f5596",
        "colab": {
          "base_uri": "https://localhost:8080/"
        }
      },
      "id": "CBP8OcVAR6hS",
      "execution_count": 61,
      "outputs": [
        {
          "output_type": "execute_result",
          "data": {
            "text/plain": [
              "(array([-0.44176245,  0.72123993,  1.88424231,  3.0472447 ]),\n",
              " array([11762,  1095,   773,   968]))"
            ]
          },
          "metadata": {},
          "execution_count": 61
        }
      ]
    },
    {
      "cell_type": "code",
      "source": [
        "X_train_gen_tr[X_train_gen_tr.y_pred_tr==np.max(X_train_gen_tr.y_pred_tr)].head(5)"
      ],
      "metadata": {
        "id": "wUd-M5aCRuPn",
        "outputId": "a7289ed2-30e8-475f-b511-9debab2f52f5",
        "colab": {
          "base_uri": "https://localhost:8080/",
          "height": 270
        }
      },
      "id": "wUd-M5aCRuPn",
      "execution_count": 63,
      "outputs": [
        {
          "output_type": "execute_result",
          "data": {
            "text/plain": [
              "    num_sent  sent_avg_length  num_words  num_unique_words  \\\n",
              "4   2.413924        -0.547556   1.990651          1.487503   \n",
              "9  -0.344170         0.288549  -0.154987          0.529289   \n",
              "41 -0.509656        -0.675963  -0.951508         -1.068870   \n",
              "66 -0.840627        -0.172684  -1.073471         -1.144705   \n",
              "73 -0.693529        -0.089558  -0.882245         -0.843846   \n",
              "\n",
              "    unique_words_percent  words_exist_per_cent  emotion_anger  emotion_fear  \\\n",
              "4              -1.302965             -0.111114       0.217680      1.172408   \n",
              "9               1.041749              0.312240      -0.285566     -0.307025   \n",
              "41              0.394037              0.671522       0.623710      1.262639   \n",
              "66              0.791976              0.242880      -0.738028     -1.239158   \n",
              "73              0.590122             -0.771902      -0.772751     -0.020607   \n",
              "\n",
              "    emotion_joy  emotion_love  emotion_sadness  emotion_surprise  \\\n",
              "4     -0.762181     -0.740302        -0.443924         -0.753419   \n",
              "9      0.040986     -0.662374         1.138914          0.714228   \n",
              "41    -0.695282     -1.063140        -1.557975          0.052191   \n",
              "66     2.222188      1.078271        -1.241401         -0.753419   \n",
              "73     1.235466     -1.063140        -0.576245          0.150437   \n",
              "\n",
              "    sentiment_POSITIVE_no_prepro  sentiment_NEGATIVE_no_prepro  \\\n",
              "4                       0.035733                     -0.407325   \n",
              "9                       0.372608                     -0.832483   \n",
              "41                      0.180302                     -0.589782   \n",
              "66                      0.035733                     -0.407325   \n",
              "73                     -1.105337                      1.032775   \n",
              "\n",
              "    sentiment_hf_text  y_pred_0  y_pred_1  y_pred_tr  \n",
              "4           -0.719596 -2.979334  2.996222   3.047245  \n",
              "9           -0.719596 -1.837406  1.684713   3.047245  \n",
              "41          -0.719596 -1.720186  1.662897   3.047245  \n",
              "66           1.390410 -1.688363  1.718035   3.047245  \n",
              "73          -0.719596 -1.922893  1.952284   3.047245  "
            ],
            "text/html": [
              "\n",
              "  <div id=\"df-b8d09c6d-b623-4a7c-82ec-ed7ab6266517\">\n",
              "    <div class=\"colab-df-container\">\n",
              "      <div>\n",
              "<style scoped>\n",
              "    .dataframe tbody tr th:only-of-type {\n",
              "        vertical-align: middle;\n",
              "    }\n",
              "\n",
              "    .dataframe tbody tr th {\n",
              "        vertical-align: top;\n",
              "    }\n",
              "\n",
              "    .dataframe thead th {\n",
              "        text-align: right;\n",
              "    }\n",
              "</style>\n",
              "<table border=\"1\" class=\"dataframe\">\n",
              "  <thead>\n",
              "    <tr style=\"text-align: right;\">\n",
              "      <th></th>\n",
              "      <th>num_sent</th>\n",
              "      <th>sent_avg_length</th>\n",
              "      <th>num_words</th>\n",
              "      <th>num_unique_words</th>\n",
              "      <th>unique_words_percent</th>\n",
              "      <th>words_exist_per_cent</th>\n",
              "      <th>emotion_anger</th>\n",
              "      <th>emotion_fear</th>\n",
              "      <th>emotion_joy</th>\n",
              "      <th>emotion_love</th>\n",
              "      <th>emotion_sadness</th>\n",
              "      <th>emotion_surprise</th>\n",
              "      <th>sentiment_POSITIVE_no_prepro</th>\n",
              "      <th>sentiment_NEGATIVE_no_prepro</th>\n",
              "      <th>sentiment_hf_text</th>\n",
              "      <th>y_pred_0</th>\n",
              "      <th>y_pred_1</th>\n",
              "      <th>y_pred_tr</th>\n",
              "    </tr>\n",
              "  </thead>\n",
              "  <tbody>\n",
              "    <tr>\n",
              "      <th>4</th>\n",
              "      <td>2.413924</td>\n",
              "      <td>-0.547556</td>\n",
              "      <td>1.990651</td>\n",
              "      <td>1.487503</td>\n",
              "      <td>-1.302965</td>\n",
              "      <td>-0.111114</td>\n",
              "      <td>0.217680</td>\n",
              "      <td>1.172408</td>\n",
              "      <td>-0.762181</td>\n",
              "      <td>-0.740302</td>\n",
              "      <td>-0.443924</td>\n",
              "      <td>-0.753419</td>\n",
              "      <td>0.035733</td>\n",
              "      <td>-0.407325</td>\n",
              "      <td>-0.719596</td>\n",
              "      <td>-2.979334</td>\n",
              "      <td>2.996222</td>\n",
              "      <td>3.047245</td>\n",
              "    </tr>\n",
              "    <tr>\n",
              "      <th>9</th>\n",
              "      <td>-0.344170</td>\n",
              "      <td>0.288549</td>\n",
              "      <td>-0.154987</td>\n",
              "      <td>0.529289</td>\n",
              "      <td>1.041749</td>\n",
              "      <td>0.312240</td>\n",
              "      <td>-0.285566</td>\n",
              "      <td>-0.307025</td>\n",
              "      <td>0.040986</td>\n",
              "      <td>-0.662374</td>\n",
              "      <td>1.138914</td>\n",
              "      <td>0.714228</td>\n",
              "      <td>0.372608</td>\n",
              "      <td>-0.832483</td>\n",
              "      <td>-0.719596</td>\n",
              "      <td>-1.837406</td>\n",
              "      <td>1.684713</td>\n",
              "      <td>3.047245</td>\n",
              "    </tr>\n",
              "    <tr>\n",
              "      <th>41</th>\n",
              "      <td>-0.509656</td>\n",
              "      <td>-0.675963</td>\n",
              "      <td>-0.951508</td>\n",
              "      <td>-1.068870</td>\n",
              "      <td>0.394037</td>\n",
              "      <td>0.671522</td>\n",
              "      <td>0.623710</td>\n",
              "      <td>1.262639</td>\n",
              "      <td>-0.695282</td>\n",
              "      <td>-1.063140</td>\n",
              "      <td>-1.557975</td>\n",
              "      <td>0.052191</td>\n",
              "      <td>0.180302</td>\n",
              "      <td>-0.589782</td>\n",
              "      <td>-0.719596</td>\n",
              "      <td>-1.720186</td>\n",
              "      <td>1.662897</td>\n",
              "      <td>3.047245</td>\n",
              "    </tr>\n",
              "    <tr>\n",
              "      <th>66</th>\n",
              "      <td>-0.840627</td>\n",
              "      <td>-0.172684</td>\n",
              "      <td>-1.073471</td>\n",
              "      <td>-1.144705</td>\n",
              "      <td>0.791976</td>\n",
              "      <td>0.242880</td>\n",
              "      <td>-0.738028</td>\n",
              "      <td>-1.239158</td>\n",
              "      <td>2.222188</td>\n",
              "      <td>1.078271</td>\n",
              "      <td>-1.241401</td>\n",
              "      <td>-0.753419</td>\n",
              "      <td>0.035733</td>\n",
              "      <td>-0.407325</td>\n",
              "      <td>1.390410</td>\n",
              "      <td>-1.688363</td>\n",
              "      <td>1.718035</td>\n",
              "      <td>3.047245</td>\n",
              "    </tr>\n",
              "    <tr>\n",
              "      <th>73</th>\n",
              "      <td>-0.693529</td>\n",
              "      <td>-0.089558</td>\n",
              "      <td>-0.882245</td>\n",
              "      <td>-0.843846</td>\n",
              "      <td>0.590122</td>\n",
              "      <td>-0.771902</td>\n",
              "      <td>-0.772751</td>\n",
              "      <td>-0.020607</td>\n",
              "      <td>1.235466</td>\n",
              "      <td>-1.063140</td>\n",
              "      <td>-0.576245</td>\n",
              "      <td>0.150437</td>\n",
              "      <td>-1.105337</td>\n",
              "      <td>1.032775</td>\n",
              "      <td>-0.719596</td>\n",
              "      <td>-1.922893</td>\n",
              "      <td>1.952284</td>\n",
              "      <td>3.047245</td>\n",
              "    </tr>\n",
              "  </tbody>\n",
              "</table>\n",
              "</div>\n",
              "      <button class=\"colab-df-convert\" onclick=\"convertToInteractive('df-b8d09c6d-b623-4a7c-82ec-ed7ab6266517')\"\n",
              "              title=\"Convert this dataframe to an interactive table.\"\n",
              "              style=\"display:none;\">\n",
              "        \n",
              "  <svg xmlns=\"http://www.w3.org/2000/svg\" height=\"24px\"viewBox=\"0 0 24 24\"\n",
              "       width=\"24px\">\n",
              "    <path d=\"M0 0h24v24H0V0z\" fill=\"none\"/>\n",
              "    <path d=\"M18.56 5.44l.94 2.06.94-2.06 2.06-.94-2.06-.94-.94-2.06-.94 2.06-2.06.94zm-11 1L8.5 8.5l.94-2.06 2.06-.94-2.06-.94L8.5 2.5l-.94 2.06-2.06.94zm10 10l.94 2.06.94-2.06 2.06-.94-2.06-.94-.94-2.06-.94 2.06-2.06.94z\"/><path d=\"M17.41 7.96l-1.37-1.37c-.4-.4-.92-.59-1.43-.59-.52 0-1.04.2-1.43.59L10.3 9.45l-7.72 7.72c-.78.78-.78 2.05 0 2.83L4 21.41c.39.39.9.59 1.41.59.51 0 1.02-.2 1.41-.59l7.78-7.78 2.81-2.81c.8-.78.8-2.07 0-2.86zM5.41 20L4 18.59l7.72-7.72 1.47 1.35L5.41 20z\"/>\n",
              "  </svg>\n",
              "      </button>\n",
              "      \n",
              "  <style>\n",
              "    .colab-df-container {\n",
              "      display:flex;\n",
              "      flex-wrap:wrap;\n",
              "      gap: 12px;\n",
              "    }\n",
              "\n",
              "    .colab-df-convert {\n",
              "      background-color: #E8F0FE;\n",
              "      border: none;\n",
              "      border-radius: 50%;\n",
              "      cursor: pointer;\n",
              "      display: none;\n",
              "      fill: #1967D2;\n",
              "      height: 32px;\n",
              "      padding: 0 0 0 0;\n",
              "      width: 32px;\n",
              "    }\n",
              "\n",
              "    .colab-df-convert:hover {\n",
              "      background-color: #E2EBFA;\n",
              "      box-shadow: 0px 1px 2px rgba(60, 64, 67, 0.3), 0px 1px 3px 1px rgba(60, 64, 67, 0.15);\n",
              "      fill: #174EA6;\n",
              "    }\n",
              "\n",
              "    [theme=dark] .colab-df-convert {\n",
              "      background-color: #3B4455;\n",
              "      fill: #D2E3FC;\n",
              "    }\n",
              "\n",
              "    [theme=dark] .colab-df-convert:hover {\n",
              "      background-color: #434B5C;\n",
              "      box-shadow: 0px 1px 3px 1px rgba(0, 0, 0, 0.15);\n",
              "      filter: drop-shadow(0px 1px 2px rgba(0, 0, 0, 0.3));\n",
              "      fill: #FFFFFF;\n",
              "    }\n",
              "  </style>\n",
              "\n",
              "      <script>\n",
              "        const buttonEl =\n",
              "          document.querySelector('#df-b8d09c6d-b623-4a7c-82ec-ed7ab6266517 button.colab-df-convert');\n",
              "        buttonEl.style.display =\n",
              "          google.colab.kernel.accessAllowed ? 'block' : 'none';\n",
              "\n",
              "        async function convertToInteractive(key) {\n",
              "          const element = document.querySelector('#df-b8d09c6d-b623-4a7c-82ec-ed7ab6266517');\n",
              "          const dataTable =\n",
              "            await google.colab.kernel.invokeFunction('convertToInteractive',\n",
              "                                                     [key], {});\n",
              "          if (!dataTable) return;\n",
              "\n",
              "          const docLinkHtml = 'Like what you see? Visit the ' +\n",
              "            '<a target=\"_blank\" href=https://colab.research.google.com/notebooks/data_table.ipynb>data table notebook</a>'\n",
              "            + ' to learn more about interactive tables.';\n",
              "          element.innerHTML = '';\n",
              "          dataTable['output_type'] = 'display_data';\n",
              "          await google.colab.output.renderOutput(dataTable, element);\n",
              "          const docLink = document.createElement('div');\n",
              "          docLink.innerHTML = docLinkHtml;\n",
              "          element.appendChild(docLink);\n",
              "        }\n",
              "      </script>\n",
              "    </div>\n",
              "  </div>\n",
              "  "
            ]
          },
          "metadata": {},
          "execution_count": 63
        }
      ]
    },
    {
      "cell_type": "markdown",
      "id": "y9OsGVln81rO",
      "metadata": {
        "id": "y9OsGVln81rO"
      },
      "source": [
        "## Predictions"
      ]
    },
    {
      "cell_type": "markdown",
      "source": [
        "### log regression"
      ],
      "metadata": {
        "id": "QhUv8L9yLykB"
      },
      "id": "QhUv8L9yLykB"
    },
    {
      "cell_type": "code",
      "source": [
        "from sklearn.linear_model import LogisticRegression\n",
        "clf_log_gen_tr = display_model_results(LogisticRegression(random_state=0), \n",
        "                      X_train_gen_tr, X_test_gen_tr, y_train, y_test, \n",
        "                      'log regression')\n"
      ],
      "metadata": {
        "id": "coPNDgkJLx-g",
        "outputId": "9a07ff44-aac0-4938-e572-2d443b805a1c",
        "colab": {
          "base_uri": "https://localhost:8080/",
          "height": 1000
        }
      },
      "id": "coPNDgkJLx-g",
      "execution_count": 65,
      "outputs": [
        {
          "output_type": "stream",
          "name": "stdout",
          "text": [
            "R2 on train set: 0.7098917659953419\n",
            "R2 on test set: 0.7131506849315068\n",
            "\n",
            "\n",
            "              precision    recall  f1-score   support\n",
            "\n",
            "           0       0.71      0.99      0.83      2592\n",
            "           1       0.60      0.03      0.06      1058\n",
            "\n",
            "    accuracy                           0.71      3650\n",
            "   macro avg       0.66      0.51      0.45      3650\n",
            "weighted avg       0.68      0.71      0.61      3650\n",
            "\n",
            "\n",
            "\n",
            "Confusion matrix:\n",
            "[[2570   22]\n",
            " [1025   33]]\n",
            "\n",
            "\n"
          ]
        },
        {
          "output_type": "display_data",
          "data": {
            "text/plain": [
              "<Figure size 720x720 with 1 Axes>"
            ],
            "image/png": "[encoded data removed]"
          },
          "metadata": {
            "needs_background": "light"
          }
        },
        {
          "output_type": "stream",
          "name": "stdout",
          "text": [
            "\n",
            "\n",
            "3.12% of the good stories are rightly identified.\n",
            "0.85% of the bad stories are identified as good ones.\n",
            "\n",
            "\n"
          ]
        },
        {
          "output_type": "display_data",
          "data": {
            "text/plain": [
              "<Figure size 1080x1080 with 1 Axes>"
            ],
            "image/png": "[encoded data removed]"
          },
          "metadata": {
            "needs_background": "light"
          }
        }
      ]
    },
    {
      "cell_type": "code",
      "source": [
        "recall_value = 0.7 # chose wanted recall value\n",
        "p_threshold = play_with_threshold(recall_value, X_test_gen_tr, y_test, \n",
        "                                  clf_log_gen_tr, 'log regression')"
      ],
      "metadata": {
        "id": "4sLSytmvMYqC",
        "outputId": "1ecec66b-607e-4604-e374-0ba98527e813",
        "colab": {
          "base_uri": "https://localhost:8080/",
          "height": 692
        }
      },
      "id": "4sLSytmvMYqC",
      "execution_count": 70,
      "outputs": [
        {
          "output_type": "display_data",
          "data": {
            "text/plain": [
              "<Figure size 720x720 with 1 Axes>"
            ],
            "image/png": "[encoded data removed]"
          },
          "metadata": {
            "needs_background": "light"
          }
        },
        {
          "output_type": "stream",
          "name": "stdout",
          "text": [
            "\n",
            "\n",
            "When recall is equal to 0.70, precision is equal to 0.3341,and the threshold is equal to 0.26.\n",
            "f1 is equal to 0.4523\n"
          ]
        }
      ]
    },
    {
      "cell_type": "code",
      "source": [
        "conf_matrix(clf_log_gen_tr, p_threshold, X_test_gen_tr, y_test)"
      ],
      "metadata": {
        "id": "ndDATwbuMhKi",
        "outputId": "bb234ad6-aae2-4b6a-d1e9-76ea311583b7",
        "colab": {
          "base_uri": "https://localhost:8080/"
        }
      },
      "id": "ndDATwbuMhKi",
      "execution_count": 71,
      "outputs": [
        {
          "output_type": "stream",
          "name": "stdout",
          "text": [
            "69.94% of the good stories are rightly identified.\n",
            "56.94% of the bad stories are identified as good ones.\n",
            "\n",
            "\n",
            "Confusion matrix when p=0.26:\n",
            "[[1116 1476]\n",
            " [ 318  740]]\n"
          ]
        }
      ]
    },
    {
      "cell_type": "markdown",
      "source": [
        "### KNN"
      ],
      "metadata": {
        "id": "39cIEg15OJrU"
      },
      "id": "39cIEg15OJrU"
    },
    {
      "cell_type": "code",
      "source": [
        "errors_train = []\n",
        "errors_val = []\n",
        "k_values = list(range(3, 20))\n",
        "\n",
        "for k in k_values:\n",
        "  neigh = KNeighborsClassifier(k)\n",
        "  neigh.fit(X_train_gen_tr, y_train)\n",
        "  error_train = 1 - neigh.score(X_train_gen_tr, y_train) \n",
        "  error_val   = 1 - neigh.score(X_test_gen_tr, y_test) \n",
        "  errors_train.append(error_train)\n",
        "  errors_val.append(error_val)\n",
        "\n",
        "k_best = k_values[errors_val.index(min(errors_val))]\n",
        "plt.figure(figsize=(10,10))\n",
        "plt.plot(k_values, errors_train, label='train error')\n",
        "plt.plot(k_values, errors_val, label='validation error')\n",
        "plt.axhline(y = min(errors_val), linestyle = '--', label=f'error={min(errors_val):.2f} and k={k_best}')\n",
        "plt.axvline(x=k_best, linestyle = '--')\n",
        "plt.xlabel('k value')\n",
        "plt.ylabel('error value')\n",
        "plt.title('train vs validation error for several k values')\n",
        "plt.legend()\n",
        "\n",
        "print(f'k that minimizes the validation set error: {k_best}')\n"
      ],
      "metadata": {
        "id": "RNwL6symOKuw",
        "outputId": "7c03be2d-fae9-4200-8fbe-7cce7fccaabd",
        "colab": {
          "base_uri": "https://localhost:8080/",
          "height": 639
        }
      },
      "id": "RNwL6symOKuw",
      "execution_count": 93,
      "outputs": [
        {
          "output_type": "stream",
          "name": "stdout",
          "text": [
            "k that minimizes the validation set error: 16\n"
          ]
        },
        {
          "output_type": "display_data",
          "data": {
            "text/plain": [
              "<Figure size 720x720 with 1 Axes>"
            ],
            "image/png": "[encoded data removed]"
          },
          "metadata": {
            "needs_background": "light"
          }
        }
      ]
    },
    {
      "cell_type": "code",
      "source": [
        "clf_knn_gen_tr = display_model_results(KNeighborsClassifier(k_best), \n",
        "                      X_train_gen_tr, X_test_gen_tr, y_train, y_test, \n",
        "                      'KNN')\n"
      ],
      "metadata": {
        "id": "2Ig6UN8uOuhp",
        "outputId": "537c14e5-40ee-4d02-c57c-9f0ee2ee7682",
        "colab": {
          "base_uri": "https://localhost:8080/",
          "height": 1000
        }
      },
      "id": "2Ig6UN8uOuhp",
      "execution_count": 94,
      "outputs": [
        {
          "output_type": "stream",
          "name": "stdout",
          "text": [
            "R2 on train set: 0.7211946842033156\n",
            "R2 on test set: 0.6994520547945206\n",
            "\n",
            "\n",
            "              precision    recall  f1-score   support\n",
            "\n",
            "           0       0.71      0.96      0.82      2592\n",
            "           1       0.38      0.06      0.10      1058\n",
            "\n",
            "    accuracy                           0.70      3650\n",
            "   macro avg       0.55      0.51      0.46      3650\n",
            "weighted avg       0.62      0.70      0.61      3650\n",
            "\n",
            "\n",
            "\n",
            "Confusion matrix:\n",
            "[[2493   99]\n",
            " [ 998   60]]\n",
            "\n",
            "\n"
          ]
        },
        {
          "output_type": "display_data",
          "data": {
            "text/plain": [
              "<Figure size 720x720 with 1 Axes>"
            ],
            "image/png": "[encoded data removed]"
          },
          "metadata": {
            "needs_background": "light"
          }
        },
        {
          "output_type": "stream",
          "name": "stdout",
          "text": [
            "\n",
            "\n",
            "5.67% of the good stories are rightly identified.\n",
            "3.82% of the bad stories are identified as good ones.\n",
            "\n",
            "\n",
            "No feature importance\n"
          ]
        }
      ]
    },
    {
      "cell_type": "code",
      "source": [
        "recall_value = 0.7 # chose wanted recall value\n",
        "p_threshold = play_with_threshold(recall_value, X_test_gen_tr, y_test, \n",
        "                                  clf_knn_gen_tr, 'KNN')"
      ],
      "metadata": {
        "id": "Y3Ctx2xHO2Nm",
        "outputId": "372547fd-59be-4190-a096-9c8ffdc237b3",
        "colab": {
          "base_uri": "https://localhost:8080/",
          "height": 692
        }
      },
      "id": "Y3Ctx2xHO2Nm",
      "execution_count": 95,
      "outputs": [
        {
          "output_type": "display_data",
          "data": {
            "text/plain": [
              "<Figure size 720x720 with 1 Axes>"
            ],
            "image/png": "[encoded data removed]"
          },
          "metadata": {
            "needs_background": "light"
          }
        },
        {
          "output_type": "stream",
          "name": "stdout",
          "text": [
            "\n",
            "\n",
            "When recall is equal to 0.70, precision is equal to 0.3078,and the threshold is equal to 0.26.\n",
            "f1 is equal to 0.4276\n"
          ]
        }
      ]
    },
    {
      "cell_type": "code",
      "source": [
        "conf_matrix(clf_knn_gen_tr, p_threshold, X_test_gen_tr, y_test)"
      ],
      "metadata": {
        "id": "jldyrgnPPZKR",
        "outputId": "5795e167-2380-4e08-800a-ea99aac28e00",
        "colab": {
          "base_uri": "https://localhost:8080/"
        }
      },
      "id": "jldyrgnPPZKR",
      "execution_count": 98,
      "outputs": [
        {
          "output_type": "stream",
          "name": "stdout",
          "text": [
            "55.20% of the good stories are rightly identified.\n",
            "47.76% of the bad stories are identified as good ones.\n",
            "\n",
            "\n",
            "Confusion matrix when p=0.26:\n",
            "[[1354 1238]\n",
            " [ 474  584]]\n"
          ]
        }
      ]
    },
    {
      "cell_type": "markdown",
      "source": [
        "### SVC"
      ],
      "metadata": {
        "id": "JCP3r1ilOejz"
      },
      "id": "JCP3r1ilOejz"
    },
    {
      "cell_type": "code",
      "source": [
        "clf_svc_gen_tr = display_model_results(SVC(probability=True, verbose=True), \n",
        "                      X_train_gen_tr, X_test_gen_tr, y_train, y_test, \n",
        "                      'SVC')\n"
      ],
      "metadata": {
        "id": "TKXStQrAOgil",
        "outputId": "0b902dab-8214-4604-c030-4e4a48dbd8d6",
        "colab": {
          "base_uri": "https://localhost:8080/",
          "height": 1000
        }
      },
      "id": "TKXStQrAOgil",
      "execution_count": 97,
      "outputs": [
        {
          "output_type": "stream",
          "name": "stdout",
          "text": [
            "R2 on train set: 0.7146184408823126\n",
            "R2 on test set: 0.709041095890411\n",
            "\n",
            "\n",
            "              precision    recall  f1-score   support\n",
            "\n",
            "           0       0.71      1.00      0.83      2592\n",
            "           1       0.17      0.00      0.00      1058\n",
            "\n",
            "    accuracy                           0.71      3650\n",
            "   macro avg       0.44      0.50      0.42      3650\n",
            "weighted avg       0.55      0.71      0.59      3650\n",
            "\n",
            "\n",
            "\n",
            "Confusion matrix:\n",
            "[[2587    5]\n",
            " [1057    1]]\n",
            "\n",
            "\n"
          ]
        },
        {
          "output_type": "display_data",
          "data": {
            "text/plain": [
              "<Figure size 720x720 with 1 Axes>"
            ],
            "image/png": "[encoded data removed]"
          },
          "metadata": {
            "needs_background": "light"
          }
        },
        {
          "output_type": "stream",
          "name": "stdout",
          "text": [
            "\n",
            "\n",
            "0.09% of the good stories are rightly identified.\n",
            "0.19% of the bad stories are identified as good ones.\n",
            "\n",
            "\n",
            "No feature importance\n"
          ]
        }
      ]
    },
    {
      "cell_type": "code",
      "source": [
        "recall_value = 0.7 # chose wanted recall value\n",
        "p_threshold = play_with_threshold(recall_value, X_test_gen_tr, y_test, \n",
        "                                  clf_svc_gen_tr, 'SVC')"
      ],
      "metadata": {
        "id": "nKiuETCsOtwc",
        "outputId": "ed2365b4-0c25-4f4d-9134-f4576b01ece4",
        "colab": {
          "base_uri": "https://localhost:8080/",
          "height": 692
        }
      },
      "id": "nKiuETCsOtwc",
      "execution_count": 99,
      "outputs": [
        {
          "output_type": "display_data",
          "data": {
            "text/plain": [
              "<Figure size 720x720 with 1 Axes>"
            ],
            "image/png": "[encoded data removed]"
          },
          "metadata": {
            "needs_background": "light"
          }
        },
        {
          "output_type": "stream",
          "name": "stdout",
          "text": [
            "\n",
            "\n",
            "When recall is equal to 0.70, precision is equal to 0.2982,and the threshold is equal to 0.27.\n",
            "f1 is equal to 0.4182\n"
          ]
        }
      ]
    },
    {
      "cell_type": "code",
      "source": [
        "conf_matrix(clf_svc_gen_tr, p_threshold, X_test_gen_tr, y_test)"
      ],
      "metadata": {
        "id": "GsDd9_T7PVjT",
        "outputId": "a18014b2-962b-4cfc-e7bc-baee037fe231",
        "colab": {
          "base_uri": "https://localhost:8080/"
        }
      },
      "id": "GsDd9_T7PVjT",
      "execution_count": 100,
      "outputs": [
        {
          "output_type": "stream",
          "name": "stdout",
          "text": [
            "69.94% of the good stories are rightly identified.\n",
            "67.25% of the bad stories are identified as good ones.\n",
            "\n",
            "\n",
            "Confusion matrix when p=0.27:\n",
            "[[ 849 1743]\n",
            " [ 318  740]]\n"
          ]
        }
      ]
    },
    {
      "cell_type": "markdown",
      "source": [
        "### Random Forest"
      ],
      "metadata": {
        "id": "QA4-8eOO8mmW"
      },
      "id": "QA4-8eOO8mmW"
    },
    {
      "cell_type": "code",
      "source": [
        "clf_rf_gen_tr = display_model_results(RandomForestClassifier(max_depth=10), \n",
        "                      X_train_gen_tr, X_test_gen_tr, y_train, y_test, \n",
        "                      'random forest')\n"
      ],
      "metadata": {
        "id": "cBAyLfvD8dVN",
        "outputId": "55b9ba9e-a3bd-4278-8e14-f49bb25d7987",
        "colab": {
          "base_uri": "https://localhost:8080/",
          "height": 1000
        }
      },
      "id": "cBAyLfvD8dVN",
      "execution_count": 107,
      "outputs": [
        {
          "output_type": "stream",
          "name": "stdout",
          "text": [
            "R2 on train set: 0.7549664337580491\n",
            "R2 on test set: 0.706027397260274\n",
            "\n",
            "\n",
            "              precision    recall  f1-score   support\n",
            "\n",
            "           0       0.71      0.98      0.83      2592\n",
            "           1       0.40      0.03      0.05      1058\n",
            "\n",
            "    accuracy                           0.71      3650\n",
            "   macro avg       0.55      0.51      0.44      3650\n",
            "weighted avg       0.62      0.71      0.60      3650\n",
            "\n",
            "\n",
            "\n",
            "Confusion matrix:\n",
            "[[2548   44]\n",
            " [1029   29]]\n",
            "\n",
            "\n"
          ]
        },
        {
          "output_type": "display_data",
          "data": {
            "text/plain": [
              "<Figure size 720x720 with 1 Axes>"
            ],
            "image/png": "[encoded data removed]"
          },
          "metadata": {
            "needs_background": "light"
          }
        },
        {
          "output_type": "stream",
          "name": "stdout",
          "text": [
            "\n",
            "\n",
            "2.74% of the good stories are rightly identified.\n",
            "1.70% of the bad stories are identified as good ones.\n",
            "\n",
            "\n",
            "No feature importance\n"
          ]
        }
      ]
    },
    {
      "cell_type": "code",
      "source": [
        "recall_value = 0.7 # chose wanted recall value\n",
        "p_threshold = play_with_threshold(recall_value, X_test_gen_tr, y_test, \n",
        "                                  clf_rf_gen_tr, 'random forest')"
      ],
      "metadata": {
        "id": "sQhyEgEd8xMj",
        "outputId": "68ce0635-5e0f-4bc6-eb44-44c2c407e4fb",
        "colab": {
          "base_uri": "https://localhost:8080/",
          "height": 692
        }
      },
      "id": "sQhyEgEd8xMj",
      "execution_count": 103,
      "outputs": [
        {
          "output_type": "display_data",
          "data": {
            "text/plain": [
              "<Figure size 720x720 with 1 Axes>"
            ],
            "image/png": "[encoded data removed]"
          },
          "metadata": {
            "needs_background": "light"
          }
        },
        {
          "output_type": "stream",
          "name": "stdout",
          "text": [
            "\n",
            "\n",
            "When recall is equal to 0.70, precision is equal to 0.3245,and the threshold is equal to 0.25.\n",
            "f1 is equal to 0.4434\n"
          ]
        }
      ]
    },
    {
      "cell_type": "code",
      "source": [
        "conf_matrix(clf_rf_gen_tr, p_threshold, X_test_gen_tr, y_test)"
      ],
      "metadata": {
        "id": "IvxHISpz8ybu",
        "outputId": "a2f19dfc-741f-4825-d062-818433fa7991",
        "colab": {
          "base_uri": "https://localhost:8080/"
        }
      },
      "id": "IvxHISpz8ybu",
      "execution_count": 104,
      "outputs": [
        {
          "output_type": "stream",
          "name": "stdout",
          "text": [
            "69.94% of the good stories are rightly identified.\n",
            "59.49% of the bad stories are identified as good ones.\n",
            "\n",
            "\n",
            "Confusion matrix when p=0.25:\n",
            "[[1050 1542]\n",
            " [ 318  740]]\n"
          ]
        }
      ]
    },
    {
      "cell_type": "markdown",
      "source": [
        "### HistGradientBoostingClassifier"
      ],
      "metadata": {
        "id": "v9N4gYuLoG0b"
      },
      "id": "v9N4gYuLoG0b"
    },
    {
      "cell_type": "code",
      "source": [
        "from sklearn.ensemble import HistGradientBoostingClassifier\n",
        "clf_hist_gen_tr = display_model_results(HistGradientBoostingClassifier(max_iter=10000), \n",
        "                      X_train_gen_tr, X_test_gen_tr, y_train, y_test, \n",
        "                      'HistGradientBoostingClassifier')"
      ],
      "metadata": {
        "id": "4aQqNCxnoMq7",
        "outputId": "3ddbcc7e-9658-45ee-90d5-d64f12a3f92b",
        "colab": {
          "base_uri": "https://localhost:8080/",
          "height": 1000
        }
      },
      "id": "4aQqNCxnoMq7",
      "execution_count": 90,
      "outputs": [
        {
          "output_type": "stream",
          "name": "stdout",
          "text": [
            "R2 on train set: 0.72290724756816\n",
            "R2 on test set: 0.7082191780821918\n",
            "\n",
            "\n",
            "              precision    recall  f1-score   support\n",
            "\n",
            "           0       0.71      0.99      0.83      2592\n",
            "           1       0.43      0.02      0.04      1058\n",
            "\n",
            "    accuracy                           0.71      3650\n",
            "   macro avg       0.57      0.51      0.43      3650\n",
            "weighted avg       0.63      0.71      0.60      3650\n",
            "\n",
            "\n",
            "\n",
            "Confusion matrix:\n",
            "[[2562   30]\n",
            " [1035   23]]\n",
            "\n",
            "\n"
          ]
        },
        {
          "output_type": "display_data",
          "data": {
            "text/plain": [
              "<Figure size 720x720 with 1 Axes>"
            ],
            "image/png": "[encoded data removed]"
          },
          "metadata": {
            "needs_background": "light"
          }
        },
        {
          "output_type": "stream",
          "name": "stdout",
          "text": [
            "\n",
            "\n",
            "2.17% of the good stories are rightly identified.\n",
            "1.16% of the bad stories are identified as good ones.\n",
            "\n",
            "\n",
            "No feature importance\n"
          ]
        }
      ]
    },
    {
      "cell_type": "code",
      "source": [
        "recall_value = 0.7 # chose wanted recall value\n",
        "p_threshold = play_with_threshold(recall_value, X_test_gen_tr, y_test, clf_hist_gen_tr, 'clf_hist_gen')"
      ],
      "metadata": {
        "id": "ZlhD0oQKqV0G",
        "outputId": "c5b71fa6-3a68-4517-dd6a-9d5c80687edf",
        "colab": {
          "base_uri": "https://localhost:8080/",
          "height": 692
        }
      },
      "id": "ZlhD0oQKqV0G",
      "execution_count": 91,
      "outputs": [
        {
          "output_type": "display_data",
          "data": {
            "text/plain": [
              "<Figure size 720x720 with 1 Axes>"
            ],
            "image/png": "[encoded data removed]"
          },
          "metadata": {
            "needs_background": "light"
          }
        },
        {
          "output_type": "stream",
          "name": "stdout",
          "text": [
            "\n",
            "\n",
            "When recall is equal to 0.70, precision is equal to 0.3336,and the threshold is equal to 0.25.\n",
            "f1 is equal to 0.4519\n"
          ]
        }
      ]
    },
    {
      "cell_type": "code",
      "source": [
        "conf_matrix(clf_hist_gen_tr, p_threshold, X_test_gen_tr, y_test)"
      ],
      "metadata": {
        "id": "JPaTDsQnujfc",
        "outputId": "11852c44-00fc-4d1b-c9c3-97d66db68144",
        "colab": {
          "base_uri": "https://localhost:8080/"
        }
      },
      "id": "JPaTDsQnujfc",
      "execution_count": 92,
      "outputs": [
        {
          "output_type": "stream",
          "name": "stdout",
          "text": [
            "69.94% of the good stories are rightly identified.\n",
            "57.02% of the bad stories are identified as good ones.\n",
            "\n",
            "\n",
            "Confusion matrix when p=0.25:\n",
            "[[1114 1478]\n",
            " [ 318  740]]\n"
          ]
        }
      ]
    },
    {
      "cell_type": "markdown",
      "source": [
        "### AdaBoost"
      ],
      "metadata": {
        "id": "Bz6pdt5zNuSr"
      },
      "id": "Bz6pdt5zNuSr"
    },
    {
      "cell_type": "code",
      "source": [
        "from sklearn.ensemble import AdaBoostClassifier\n",
        "clf_ada_gen_tr = display_model_results(AdaBoostClassifier(n_estimators=100), \n",
        "                      X_train_gen_tr, X_test_gen_tr, y_train, y_test, \n",
        "                      'AdaBoostClassifier')\n"
      ],
      "metadata": {
        "id": "PHBI8W2oNhfd",
        "outputId": "f91855db-5602-4fa9-b3cd-3e68aca89b42",
        "colab": {
          "base_uri": "https://localhost:8080/",
          "height": 1000
        }
      },
      "id": "PHBI8W2oNhfd",
      "execution_count": 87,
      "outputs": [
        {
          "output_type": "stream",
          "name": "stdout",
          "text": [
            "R2 on train set: 0.716056994108782\n",
            "R2 on test set: 0.7027397260273973\n",
            "\n",
            "\n",
            "              precision    recall  f1-score   support\n",
            "\n",
            "           0       0.71      0.97      0.82      2592\n",
            "           1       0.38      0.04      0.07      1058\n",
            "\n",
            "    accuracy                           0.70      3650\n",
            "   macro avg       0.55      0.51      0.45      3650\n",
            "weighted avg       0.62      0.70      0.61      3650\n",
            "\n",
            "\n",
            "\n",
            "Confusion matrix:\n",
            "[[2523   69]\n",
            " [1016   42]]\n",
            "\n",
            "\n"
          ]
        },
        {
          "output_type": "display_data",
          "data": {
            "text/plain": [
              "<Figure size 720x720 with 1 Axes>"
            ],
            "image/png": "[encoded data removed]"
          },
          "metadata": {
            "needs_background": "light"
          }
        },
        {
          "output_type": "stream",
          "name": "stdout",
          "text": [
            "\n",
            "\n",
            "3.97% of the good stories are rightly identified.\n",
            "2.66% of the bad stories are identified as good ones.\n",
            "\n",
            "\n",
            "No feature importance\n"
          ]
        }
      ]
    },
    {
      "cell_type": "code",
      "source": [
        "recall_value = 0.7 # chose wanted recall value\n",
        "p_threshold = play_with_threshold(recall_value, X_test_gen_tr, y_test, clf_ada_gen_tr, 'clf_ada_gen')"
      ],
      "metadata": {
        "id": "M9EQ1XXsNqLv",
        "outputId": "91b39e27-22c6-414e-e261-a8dc93bcaa7c",
        "colab": {
          "base_uri": "https://localhost:8080/",
          "height": 692
        }
      },
      "id": "M9EQ1XXsNqLv",
      "execution_count": 88,
      "outputs": [
        {
          "output_type": "display_data",
          "data": {
            "text/plain": [
              "<Figure size 720x720 with 1 Axes>"
            ],
            "image/png": "[encoded data removed]"
          },
          "metadata": {
            "needs_background": "light"
          }
        },
        {
          "output_type": "stream",
          "name": "stdout",
          "text": [
            "\n",
            "\n",
            "When recall is equal to 0.70, precision is equal to 0.3344,and the threshold is equal to 0.50.\n",
            "f1 is equal to 0.4526\n"
          ]
        }
      ]
    },
    {
      "cell_type": "code",
      "source": [
        "conf_matrix(clf_ada_gen_tr, p_threshold, X_test_gen_tr, y_test)"
      ],
      "metadata": {
        "id": "GDNtizB1Nw4F",
        "outputId": "630bc8f6-f9ed-43e3-fc40-5d64602881fc",
        "colab": {
          "base_uri": "https://localhost:8080/"
        }
      },
      "id": "GDNtizB1Nw4F",
      "execution_count": 89,
      "outputs": [
        {
          "output_type": "stream",
          "name": "stdout",
          "text": [
            "70.04% of the good stories are rightly identified.\n",
            "56.91% of the bad stories are identified as good ones.\n",
            "\n",
            "\n",
            "Confusion matrix when p=0.50:\n",
            "[[1117 1475]\n",
            " [ 317  741]]\n"
          ]
        }
      ]
    },
    {
      "cell_type": "markdown",
      "source": [
        "# ROCs"
      ],
      "metadata": {
        "id": "AXm1_ABm86NG"
      },
      "id": "AXm1_ABm86NG"
    },
    {
      "cell_type": "code",
      "source": [
        "names = ['logistic regression', 'knn', 'svc', 'random forest', 'boost hist', 'adaboost']\n",
        "models = [clf_log_gen_tr, clf_knn_gen_tr, clf_svc_gen_tr, clf_rf_gen_tr, clf_hist_gen_tr, clf_ada_gen_tr]\n",
        "plot_rocs(names, models, X_test_gen_tr, y_test)"
      ],
      "metadata": {
        "id": "SwIwf2oG86z7",
        "outputId": "b6b1c57c-2638-4188-c224-90cc31a7c22e",
        "colab": {
          "base_uri": "https://localhost:8080/",
          "height": 485
        }
      },
      "id": "SwIwf2oG86z7",
      "execution_count": 108,
      "outputs": [
        {
          "output_type": "display_data",
          "data": {
            "text/plain": [
              "<Figure size 720x504 with 1 Axes>"
            ],
            "image/png": "[encoded data removed]"
          },
          "metadata": {
            "needs_background": "light"
          }
        }
      ]
    }
  ],
  "metadata": {
    "colab": {
      "collapsed_sections": [
        "XxbdPbmEDv-L",
        "klnOH3rb8ye9",
        "XKe5B23W9lcb",
        "lQeWQBZI9tvl",
        "e9xSHKRT73Fn",
        "cCT6oDYGBEu4",
        "8xAXPtDeaRMs",
        "URgn6Ih7D5g0",
        "KF3AmocHDu8j",
        "QA4-8eOO8mmW",
        "v9N4gYuLoG0b"
      ],
      "name": "transformer_general_features.ipynb",
      "provenance": []
    },
    "kernelspec": {
      "display_name": "Python 3 (ipykernel)",
      "language": "python",
      "name": "python3"
    },
    "language_info": {
      "codemirror_mode": {
        "name": "ipython",
        "version": 3
      },
      "file_extension": ".py",
      "mimetype": "text/x-python",
      "name": "python",
      "nbconvert_exporter": "python",
      "pygments_lexer": "ipython3",
      "version": "3.9.7"
    },
    "latex_envs": {
      "LaTeX_envs_menu_present": true,
      "autoclose": false,
      "autocomplete": true,
      "bibliofile": "biblio.bib",
      "cite_by": "apalike",
      "current_citInitial": 1,
      "eqLabelWithNumbers": true,
      "eqNumInitial": 1,
      "hotkeys": {
        "equation": "Ctrl-E",
        "itemize": "Ctrl-I"
      },
      "labels_anchors": false,
      "latex_user_defs": false,
      "report_style_numbering": false,
      "user_envs_cfg": false
    },
    "widgets": {
      "application/vnd.jupyter.widget-state+json": {
        "bf2b62f0c6a442f69b2cdcd497b5a3a5": {
          "model_module": "@jupyter-widgets/controls",
          "model_name": "HBoxModel",
          "model_module_version": "1.5.0",
          "state": {
            "_dom_classes": [],
            "_model_module": "@jupyter-widgets/controls",
            "_model_module_version": "1.5.0",
            "_model_name": "HBoxModel",
            "_view_count": null,
            "_view_module": "@jupyter-widgets/controls",
            "_view_module_version": "1.5.0",
            "_view_name": "HBoxView",
            "box_style": "",
            "children": [
              "IPY_MODEL_53af41766c2e452c9bb96db497992be3",
              "IPY_MODEL_be290e6fc8914c8abdf56ecc4c8bcdf9",
              "IPY_MODEL_85c55c66f9034b1b989d1dcdfb398569"
            ],
            "layout": "IPY_MODEL_fbe9c2cba3624b838d201f4ee5725acd"
          }
        },
        "53af41766c2e452c9bb96db497992be3": {
          "model_module": "@jupyter-widgets/controls",
          "model_name": "HTMLModel",
          "model_module_version": "1.5.0",
          "state": {
            "_dom_classes": [],
            "_model_module": "@jupyter-widgets/controls",
            "_model_module_version": "1.5.0",
            "_model_name": "HTMLModel",
            "_view_count": null,
            "_view_module": "@jupyter-widgets/controls",
            "_view_module_version": "1.5.0",
            "_view_name": "HTMLView",
            "description": "",
            "description_tooltip": null,
            "layout": "IPY_MODEL_762480790d13448a9c7a7b789661e6cf",
            "placeholder": "​",
            "style": "IPY_MODEL_e244ee3477784f89a2590c2f606b445e",
            "value": "Downloading: 100%"
          }
        },
        "be290e6fc8914c8abdf56ecc4c8bcdf9": {
          "model_module": "@jupyter-widgets/controls",
          "model_name": "FloatProgressModel",
          "model_module_version": "1.5.0",
          "state": {
            "_dom_classes": [],
            "_model_module": "@jupyter-widgets/controls",
            "_model_module_version": "1.5.0",
            "_model_name": "FloatProgressModel",
            "_view_count": null,
            "_view_module": "@jupyter-widgets/controls",
            "_view_module_version": "1.5.0",
            "_view_name": "ProgressView",
            "bar_style": "success",
            "description": "",
            "description_tooltip": null,
            "layout": "IPY_MODEL_17c3aacd43a544be9a060c009e2fe30d",
            "max": 481,
            "min": 0,
            "orientation": "horizontal",
            "style": "IPY_MODEL_fa94ad6985684274a7c7f1d48d879d03",
            "value": 481
          }
        },
        "85c55c66f9034b1b989d1dcdfb398569": {
          "model_module": "@jupyter-widgets/controls",
          "model_name": "HTMLModel",
          "model_module_version": "1.5.0",
          "state": {
            "_dom_classes": [],
            "_model_module": "@jupyter-widgets/controls",
            "_model_module_version": "1.5.0",
            "_model_name": "HTMLModel",
            "_view_count": null,
            "_view_module": "@jupyter-widgets/controls",
            "_view_module_version": "1.5.0",
            "_view_name": "HTMLView",
            "description": "",
            "description_tooltip": null,
            "layout": "IPY_MODEL_7dd31f54c7954a01abbf42d748b83369",
            "placeholder": "​",
            "style": "IPY_MODEL_bda04d2ef96e44a089b6d6ad22fcfbef",
            "value": " 481/481 [00:00&lt;00:00, 14.1kB/s]"
          }
        },
        "fbe9c2cba3624b838d201f4ee5725acd": {
          "model_module": "@jupyter-widgets/base",
          "model_name": "LayoutModel",
          "model_module_version": "1.2.0",
          "state": {
            "_model_module": "@jupyter-widgets/base",
            "_model_module_version": "1.2.0",
            "_model_name": "LayoutModel",
            "_view_count": null,
            "_view_module": "@jupyter-widgets/base",
            "_view_module_version": "1.2.0",
            "_view_name": "LayoutView",
            "align_content": null,
            "align_items": null,
            "align_self": null,
            "border": null,
            "bottom": null,
            "display": null,
            "flex": null,
            "flex_flow": null,
            "grid_area": null,
            "grid_auto_columns": null,
            "grid_auto_flow": null,
            "grid_auto_rows": null,
            "grid_column": null,
            "grid_gap": null,
            "grid_row": null,
            "grid_template_areas": null,
            "grid_template_columns": null,
            "grid_template_rows": null,
            "height": null,
            "justify_content": null,
            "justify_items": null,
            "left": null,
            "margin": null,
            "max_height": null,
            "max_width": null,
            "min_height": null,
            "min_width": null,
            "object_fit": null,
            "object_position": null,
            "order": null,
            "overflow": null,
            "overflow_x": null,
            "overflow_y": null,
            "padding": null,
            "right": null,
            "top": null,
            "visibility": null,
            "width": null
          }
        },
        "762480790d13448a9c7a7b789661e6cf": {
          "model_module": "@jupyter-widgets/base",
          "model_name": "LayoutModel",
          "model_module_version": "1.2.0",
          "state": {
            "_model_module": "@jupyter-widgets/base",
            "_model_module_version": "1.2.0",
            "_model_name": "LayoutModel",
            "_view_count": null,
            "_view_module": "@jupyter-widgets/base",
            "_view_module_version": "1.2.0",
            "_view_name": "LayoutView",
            "align_content": null,
            "align_items": null,
            "align_self": null,
            "border": null,
            "bottom": null,
            "display": null,
            "flex": null,
            "flex_flow": null,
            "grid_area": null,
            "grid_auto_columns": null,
            "grid_auto_flow": null,
            "grid_auto_rows": null,
            "grid_column": null,
            "grid_gap": null,
            "grid_row": null,
            "grid_template_areas": null,
            "grid_template_columns": null,
            "grid_template_rows": null,
            "height": null,
            "justify_content": null,
            "justify_items": null,
            "left": null,
            "margin": null,
            "max_height": null,
            "max_width": null,
            "min_height": null,
            "min_width": null,
            "object_fit": null,
            "object_position": null,
            "order": null,
            "overflow": null,
            "overflow_x": null,
            "overflow_y": null,
            "padding": null,
            "right": null,
            "top": null,
            "visibility": null,
            "width": null
          }
        },
        "e244ee3477784f89a2590c2f606b445e": {
          "model_module": "@jupyter-widgets/controls",
          "model_name": "DescriptionStyleModel",
          "model_module_version": "1.5.0",
          "state": {
            "_model_module": "@jupyter-widgets/controls",
            "_model_module_version": "1.5.0",
            "_model_name": "DescriptionStyleModel",
            "_view_count": null,
            "_view_module": "@jupyter-widgets/base",
            "_view_module_version": "1.2.0",
            "_view_name": "StyleView",
            "description_width": ""
          }
        },
        "17c3aacd43a544be9a060c009e2fe30d": {
          "model_module": "@jupyter-widgets/base",
          "model_name": "LayoutModel",
          "model_module_version": "1.2.0",
          "state": {
            "_model_module": "@jupyter-widgets/base",
            "_model_module_version": "1.2.0",
            "_model_name": "LayoutModel",
            "_view_count": null,
            "_view_module": "@jupyter-widgets/base",
            "_view_module_version": "1.2.0",
            "_view_name": "LayoutView",
            "align_content": null,
            "align_items": null,
            "align_self": null,
            "border": null,
            "bottom": null,
            "display": null,
            "flex": null,
            "flex_flow": null,
            "grid_area": null,
            "grid_auto_columns": null,
            "grid_auto_flow": null,
            "grid_auto_rows": null,
            "grid_column": null,
            "grid_gap": null,
            "grid_row": null,
            "grid_template_areas": null,
            "grid_template_columns": null,
            "grid_template_rows": null,
            "height": null,
            "justify_content": null,
            "justify_items": null,
            "left": null,
            "margin": null,
            "max_height": null,
            "max_width": null,
            "min_height": null,
            "min_width": null,
            "object_fit": null,
            "object_position": null,
            "order": null,
            "overflow": null,
            "overflow_x": null,
            "overflow_y": null,
            "padding": null,
            "right": null,
            "top": null,
            "visibility": null,
            "width": null
          }
        },
        "fa94ad6985684274a7c7f1d48d879d03": {
          "model_module": "@jupyter-widgets/controls",
          "model_name": "ProgressStyleModel",
          "model_module_version": "1.5.0",
          "state": {
            "_model_module": "@jupyter-widgets/controls",
            "_model_module_version": "1.5.0",
            "_model_name": "ProgressStyleModel",
            "_view_count": null,
            "_view_module": "@jupyter-widgets/base",
            "_view_module_version": "1.2.0",
            "_view_name": "StyleView",
            "bar_color": null,
            "description_width": ""
          }
        },
        "7dd31f54c7954a01abbf42d748b83369": {
          "model_module": "@jupyter-widgets/base",
          "model_name": "LayoutModel",
          "model_module_version": "1.2.0",
          "state": {
            "_model_module": "@jupyter-widgets/base",
            "_model_module_version": "1.2.0",
            "_model_name": "LayoutModel",
            "_view_count": null,
            "_view_module": "@jupyter-widgets/base",
            "_view_module_version": "1.2.0",
            "_view_name": "LayoutView",
            "align_content": null,
            "align_items": null,
            "align_self": null,
            "border": null,
            "bottom": null,
            "display": null,
            "flex": null,
            "flex_flow": null,
            "grid_area": null,
            "grid_auto_columns": null,
            "grid_auto_flow": null,
            "grid_auto_rows": null,
            "grid_column": null,
            "grid_gap": null,
            "grid_row": null,
            "grid_template_areas": null,
            "grid_template_columns": null,
            "grid_template_rows": null,
            "height": null,
            "justify_content": null,
            "justify_items": null,
            "left": null,
            "margin": null,
            "max_height": null,
            "max_width": null,
            "min_height": null,
            "min_width": null,
            "object_fit": null,
            "object_position": null,
            "order": null,
            "overflow": null,
            "overflow_x": null,
            "overflow_y": null,
            "padding": null,
            "right": null,
            "top": null,
            "visibility": null,
            "width": null
          }
        },
        "bda04d2ef96e44a089b6d6ad22fcfbef": {
          "model_module": "@jupyter-widgets/controls",
          "model_name": "DescriptionStyleModel",
          "model_module_version": "1.5.0",
          "state": {
            "_model_module": "@jupyter-widgets/controls",
            "_model_module_version": "1.5.0",
            "_model_name": "DescriptionStyleModel",
            "_view_count": null,
            "_view_module": "@jupyter-widgets/base",
            "_view_module_version": "1.2.0",
            "_view_name": "StyleView",
            "description_width": ""
          }
        },
        "4182f9fcbbb64e56b8c0955aee8058ea": {
          "model_module": "@jupyter-widgets/controls",
          "model_name": "HBoxModel",
          "model_module_version": "1.5.0",
          "state": {
            "_dom_classes": [],
            "_model_module": "@jupyter-widgets/controls",
            "_model_module_version": "1.5.0",
            "_model_name": "HBoxModel",
            "_view_count": null,
            "_view_module": "@jupyter-widgets/controls",
            "_view_module_version": "1.5.0",
            "_view_name": "HBoxView",
            "box_style": "",
            "children": [
              "IPY_MODEL_9afc3670ea0d4a1bbfadf2cdc73d931a",
              "IPY_MODEL_f7920ed3db274bad9310d63add1c4cb5",
              "IPY_MODEL_3f87c9549de34621bf1fc4791e88296c"
            ],
            "layout": "IPY_MODEL_9bced5cc4c2f48fdb494e821676a9f57"
          }
        },
        "9afc3670ea0d4a1bbfadf2cdc73d931a": {
          "model_module": "@jupyter-widgets/controls",
          "model_name": "HTMLModel",
          "model_module_version": "1.5.0",
          "state": {
            "_dom_classes": [],
            "_model_module": "@jupyter-widgets/controls",
            "_model_module_version": "1.5.0",
            "_model_name": "HTMLModel",
            "_view_count": null,
            "_view_module": "@jupyter-widgets/controls",
            "_view_module_version": "1.5.0",
            "_view_name": "HTMLView",
            "description": "",
            "description_tooltip": null,
            "layout": "IPY_MODEL_04d5f940c74847ba822586a9ea9a5023",
            "placeholder": "​",
            "style": "IPY_MODEL_dfb78f9d4ff24264bb1819ee7b7123ac",
            "value": "Downloading: 100%"
          }
        },
        "f7920ed3db274bad9310d63add1c4cb5": {
          "model_module": "@jupyter-widgets/controls",
          "model_name": "FloatProgressModel",
          "model_module_version": "1.5.0",
          "state": {
            "_dom_classes": [],
            "_model_module": "@jupyter-widgets/controls",
            "_model_module_version": "1.5.0",
            "_model_name": "FloatProgressModel",
            "_view_count": null,
            "_view_module": "@jupyter-widgets/controls",
            "_view_module_version": "1.5.0",
            "_view_name": "ProgressView",
            "bar_style": "success",
            "description": "",
            "description_tooltip": null,
            "layout": "IPY_MODEL_a372c0dd63a74003998ebbc711e107fa",
            "max": 898823,
            "min": 0,
            "orientation": "horizontal",
            "style": "IPY_MODEL_2c824391c80b4103a8a6e16ddde07bd1",
            "value": 898823
          }
        },
        "3f87c9549de34621bf1fc4791e88296c": {
          "model_module": "@jupyter-widgets/controls",
          "model_name": "HTMLModel",
          "model_module_version": "1.5.0",
          "state": {
            "_dom_classes": [],
            "_model_module": "@jupyter-widgets/controls",
            "_model_module_version": "1.5.0",
            "_model_name": "HTMLModel",
            "_view_count": null,
            "_view_module": "@jupyter-widgets/controls",
            "_view_module_version": "1.5.0",
            "_view_name": "HTMLView",
            "description": "",
            "description_tooltip": null,
            "layout": "IPY_MODEL_f378c83c4503416fac79970532d76362",
            "placeholder": "​",
            "style": "IPY_MODEL_317e4f9849904beeb80a691aaae1a56f",
            "value": " 878k/878k [00:00&lt;00:00, 3.00MB/s]"
          }
        },
        "9bced5cc4c2f48fdb494e821676a9f57": {
          "model_module": "@jupyter-widgets/base",
          "model_name": "LayoutModel",
          "model_module_version": "1.2.0",
          "state": {
            "_model_module": "@jupyter-widgets/base",
            "_model_module_version": "1.2.0",
            "_model_name": "LayoutModel",
            "_view_count": null,
            "_view_module": "@jupyter-widgets/base",
            "_view_module_version": "1.2.0",
            "_view_name": "LayoutView",
            "align_content": null,
            "align_items": null,
            "align_self": null,
            "border": null,
            "bottom": null,
            "display": null,
            "flex": null,
            "flex_flow": null,
            "grid_area": null,
            "grid_auto_columns": null,
            "grid_auto_flow": null,
            "grid_auto_rows": null,
            "grid_column": null,
            "grid_gap": null,
            "grid_row": null,
            "grid_template_areas": null,
            "grid_template_columns": null,
            "grid_template_rows": null,
            "height": null,
            "justify_content": null,
            "justify_items": null,
            "left": null,
            "margin": null,
            "max_height": null,
            "max_width": null,
            "min_height": null,
            "min_width": null,
            "object_fit": null,
            "object_position": null,
            "order": null,
            "overflow": null,
            "overflow_x": null,
            "overflow_y": null,
            "padding": null,
            "right": null,
            "top": null,
            "visibility": null,
            "width": null
          }
        },
        "04d5f940c74847ba822586a9ea9a5023": {
          "model_module": "@jupyter-widgets/base",
          "model_name": "LayoutModel",
          "model_module_version": "1.2.0",
          "state": {
            "_model_module": "@jupyter-widgets/base",
            "_model_module_version": "1.2.0",
            "_model_name": "LayoutModel",
            "_view_count": null,
            "_view_module": "@jupyter-widgets/base",
            "_view_module_version": "1.2.0",
            "_view_name": "LayoutView",
            "align_content": null,
            "align_items": null,
            "align_self": null,
            "border": null,
            "bottom": null,
            "display": null,
            "flex": null,
            "flex_flow": null,
            "grid_area": null,
            "grid_auto_columns": null,
            "grid_auto_flow": null,
            "grid_auto_rows": null,
            "grid_column": null,
            "grid_gap": null,
            "grid_row": null,
            "grid_template_areas": null,
            "grid_template_columns": null,
            "grid_template_rows": null,
            "height": null,
            "justify_content": null,
            "justify_items": null,
            "left": null,
            "margin": null,
            "max_height": null,
            "max_width": null,
            "min_height": null,
            "min_width": null,
            "object_fit": null,
            "object_position": null,
            "order": null,
            "overflow": null,
            "overflow_x": null,
            "overflow_y": null,
            "padding": null,
            "right": null,
            "top": null,
            "visibility": null,
            "width": null
          }
        },
        "dfb78f9d4ff24264bb1819ee7b7123ac": {
          "model_module": "@jupyter-widgets/controls",
          "model_name": "DescriptionStyleModel",
          "model_module_version": "1.5.0",
          "state": {
            "_model_module": "@jupyter-widgets/controls",
            "_model_module_version": "1.5.0",
            "_model_name": "DescriptionStyleModel",
            "_view_count": null,
            "_view_module": "@jupyter-widgets/base",
            "_view_module_version": "1.2.0",
            "_view_name": "StyleView",
            "description_width": ""
          }
        },
        "a372c0dd63a74003998ebbc711e107fa": {
          "model_module": "@jupyter-widgets/base",
          "model_name": "LayoutModel",
          "model_module_version": "1.2.0",
          "state": {
            "_model_module": "@jupyter-widgets/base",
            "_model_module_version": "1.2.0",
            "_model_name": "LayoutModel",
            "_view_count": null,
            "_view_module": "@jupyter-widgets/base",
            "_view_module_version": "1.2.0",
            "_view_name": "LayoutView",
            "align_content": null,
            "align_items": null,
            "align_self": null,
            "border": null,
            "bottom": null,
            "display": null,
            "flex": null,
            "flex_flow": null,
            "grid_area": null,
            "grid_auto_columns": null,
            "grid_auto_flow": null,
            "grid_auto_rows": null,
            "grid_column": null,
            "grid_gap": null,
            "grid_row": null,
            "grid_template_areas": null,
            "grid_template_columns": null,
            "grid_template_rows": null,
            "height": null,
            "justify_content": null,
            "justify_items": null,
            "left": null,
            "margin": null,
            "max_height": null,
            "max_width": null,
            "min_height": null,
            "min_width": null,
            "object_fit": null,
            "object_position": null,
            "order": null,
            "overflow": null,
            "overflow_x": null,
            "overflow_y": null,
            "padding": null,
            "right": null,
            "top": null,
            "visibility": null,
            "width": null
          }
        },
        "2c824391c80b4103a8a6e16ddde07bd1": {
          "model_module": "@jupyter-widgets/controls",
          "model_name": "ProgressStyleModel",
          "model_module_version": "1.5.0",
          "state": {
            "_model_module": "@jupyter-widgets/controls",
            "_model_module_version": "1.5.0",
            "_model_name": "ProgressStyleModel",
            "_view_count": null,
            "_view_module": "@jupyter-widgets/base",
            "_view_module_version": "1.2.0",
            "_view_name": "StyleView",
            "bar_color": null,
            "description_width": ""
          }
        },
        "f378c83c4503416fac79970532d76362": {
          "model_module": "@jupyter-widgets/base",
          "model_name": "LayoutModel",
          "model_module_version": "1.2.0",
          "state": {
            "_model_module": "@jupyter-widgets/base",
            "_model_module_version": "1.2.0",
            "_model_name": "LayoutModel",
            "_view_count": null,
            "_view_module": "@jupyter-widgets/base",
            "_view_module_version": "1.2.0",
            "_view_name": "LayoutView",
            "align_content": null,
            "align_items": null,
            "align_self": null,
            "border": null,
            "bottom": null,
            "display": null,
            "flex": null,
            "flex_flow": null,
            "grid_area": null,
            "grid_auto_columns": null,
            "grid_auto_flow": null,
            "grid_auto_rows": null,
            "grid_column": null,
            "grid_gap": null,
            "grid_row": null,
            "grid_template_areas": null,
            "grid_template_columns": null,
            "grid_template_rows": null,
            "height": null,
            "justify_content": null,
            "justify_items": null,
            "left": null,
            "margin": null,
            "max_height": null,
            "max_width": null,
            "min_height": null,
            "min_width": null,
            "object_fit": null,
            "object_position": null,
            "order": null,
            "overflow": null,
            "overflow_x": null,
            "overflow_y": null,
            "padding": null,
            "right": null,
            "top": null,
            "visibility": null,
            "width": null
          }
        },
        "317e4f9849904beeb80a691aaae1a56f": {
          "model_module": "@jupyter-widgets/controls",
          "model_name": "DescriptionStyleModel",
          "model_module_version": "1.5.0",
          "state": {
            "_model_module": "@jupyter-widgets/controls",
            "_model_module_version": "1.5.0",
            "_model_name": "DescriptionStyleModel",
            "_view_count": null,
            "_view_module": "@jupyter-widgets/base",
            "_view_module_version": "1.2.0",
            "_view_name": "StyleView",
            "description_width": ""
          }
        },
        "831c8c0234884eae9897982cb8b6cfc0": {
          "model_module": "@jupyter-widgets/controls",
          "model_name": "HBoxModel",
          "model_module_version": "1.5.0",
          "state": {
            "_dom_classes": [],
            "_model_module": "@jupyter-widgets/controls",
            "_model_module_version": "1.5.0",
            "_model_name": "HBoxModel",
            "_view_count": null,
            "_view_module": "@jupyter-widgets/controls",
            "_view_module_version": "1.5.0",
            "_view_name": "HBoxView",
            "box_style": "",
            "children": [
              "IPY_MODEL_b02c25c9e14941c3a631e7aa1d71ba2f",
              "IPY_MODEL_dfc3a23552484a9ab86db57bf36ad36d",
              "IPY_MODEL_7d55aa12652842bb9c4facdb6b95203d"
            ],
            "layout": "IPY_MODEL_9a0f8c059dd14aba9e8d9062809070dd"
          }
        },
        "b02c25c9e14941c3a631e7aa1d71ba2f": {
          "model_module": "@jupyter-widgets/controls",
          "model_name": "HTMLModel",
          "model_module_version": "1.5.0",
          "state": {
            "_dom_classes": [],
            "_model_module": "@jupyter-widgets/controls",
            "_model_module_version": "1.5.0",
            "_model_name": "HTMLModel",
            "_view_count": null,
            "_view_module": "@jupyter-widgets/controls",
            "_view_module_version": "1.5.0",
            "_view_name": "HTMLView",
            "description": "",
            "description_tooltip": null,
            "layout": "IPY_MODEL_32d771b805284d0486e0695a8918f73d",
            "placeholder": "​",
            "style": "IPY_MODEL_68930e0e81804d5fb46d1a04a8583dd4",
            "value": "Downloading: 100%"
          }
        },
        "dfc3a23552484a9ab86db57bf36ad36d": {
          "model_module": "@jupyter-widgets/controls",
          "model_name": "FloatProgressModel",
          "model_module_version": "1.5.0",
          "state": {
            "_dom_classes": [],
            "_model_module": "@jupyter-widgets/controls",
            "_model_module_version": "1.5.0",
            "_model_name": "FloatProgressModel",
            "_view_count": null,
            "_view_module": "@jupyter-widgets/controls",
            "_view_module_version": "1.5.0",
            "_view_name": "ProgressView",
            "bar_style": "success",
            "description": "",
            "description_tooltip": null,
            "layout": "IPY_MODEL_f5c9bba6b45a4f26bd4d3e8546501f04",
            "max": 456318,
            "min": 0,
            "orientation": "horizontal",
            "style": "IPY_MODEL_9882a245a1ef485884468a2a8655ddbe",
            "value": 456318
          }
        },
        "7d55aa12652842bb9c4facdb6b95203d": {
          "model_module": "@jupyter-widgets/controls",
          "model_name": "HTMLModel",
          "model_module_version": "1.5.0",
          "state": {
            "_dom_classes": [],
            "_model_module": "@jupyter-widgets/controls",
            "_model_module_version": "1.5.0",
            "_model_name": "HTMLModel",
            "_view_count": null,
            "_view_module": "@jupyter-widgets/controls",
            "_view_module_version": "1.5.0",
            "_view_name": "HTMLView",
            "description": "",
            "description_tooltip": null,
            "layout": "IPY_MODEL_de281e72a4364188993f70110fe4ac47",
            "placeholder": "​",
            "style": "IPY_MODEL_025e235526fe414ea74a04992a78b436",
            "value": " 446k/446k [00:00&lt;00:00, 794kB/s]"
          }
        },
        "9a0f8c059dd14aba9e8d9062809070dd": {
          "model_module": "@jupyter-widgets/base",
          "model_name": "LayoutModel",
          "model_module_version": "1.2.0",
          "state": {
            "_model_module": "@jupyter-widgets/base",
            "_model_module_version": "1.2.0",
            "_model_name": "LayoutModel",
            "_view_count": null,
            "_view_module": "@jupyter-widgets/base",
            "_view_module_version": "1.2.0",
            "_view_name": "LayoutView",
            "align_content": null,
            "align_items": null,
            "align_self": null,
            "border": null,
            "bottom": null,
            "display": null,
            "flex": null,
            "flex_flow": null,
            "grid_area": null,
            "grid_auto_columns": null,
            "grid_auto_flow": null,
            "grid_auto_rows": null,
            "grid_column": null,
            "grid_gap": null,
            "grid_row": null,
            "grid_template_areas": null,
            "grid_template_columns": null,
            "grid_template_rows": null,
            "height": null,
            "justify_content": null,
            "justify_items": null,
            "left": null,
            "margin": null,
            "max_height": null,
            "max_width": null,
            "min_height": null,
            "min_width": null,
            "object_fit": null,
            "object_position": null,
            "order": null,
            "overflow": null,
            "overflow_x": null,
            "overflow_y": null,
            "padding": null,
            "right": null,
            "top": null,
            "visibility": null,
            "width": null
          }
        },
        "32d771b805284d0486e0695a8918f73d": {
          "model_module": "@jupyter-widgets/base",
          "model_name": "LayoutModel",
          "model_module_version": "1.2.0",
          "state": {
            "_model_module": "@jupyter-widgets/base",
            "_model_module_version": "1.2.0",
            "_model_name": "LayoutModel",
            "_view_count": null,
            "_view_module": "@jupyter-widgets/base",
            "_view_module_version": "1.2.0",
            "_view_name": "LayoutView",
            "align_content": null,
            "align_items": null,
            "align_self": null,
            "border": null,
            "bottom": null,
            "display": null,
            "flex": null,
            "flex_flow": null,
            "grid_area": null,
            "grid_auto_columns": null,
            "grid_auto_flow": null,
            "grid_auto_rows": null,
            "grid_column": null,
            "grid_gap": null,
            "grid_row": null,
            "grid_template_areas": null,
            "grid_template_columns": null,
            "grid_template_rows": null,
            "height": null,
            "justify_content": null,
            "justify_items": null,
            "left": null,
            "margin": null,
            "max_height": null,
            "max_width": null,
            "min_height": null,
            "min_width": null,
            "object_fit": null,
            "object_position": null,
            "order": null,
            "overflow": null,
            "overflow_x": null,
            "overflow_y": null,
            "padding": null,
            "right": null,
            "top": null,
            "visibility": null,
            "width": null
          }
        },
        "68930e0e81804d5fb46d1a04a8583dd4": {
          "model_module": "@jupyter-widgets/controls",
          "model_name": "DescriptionStyleModel",
          "model_module_version": "1.5.0",
          "state": {
            "_model_module": "@jupyter-widgets/controls",
            "_model_module_version": "1.5.0",
            "_model_name": "DescriptionStyleModel",
            "_view_count": null,
            "_view_module": "@jupyter-widgets/base",
            "_view_module_version": "1.2.0",
            "_view_name": "StyleView",
            "description_width": ""
          }
        },
        "f5c9bba6b45a4f26bd4d3e8546501f04": {
          "model_module": "@jupyter-widgets/base",
          "model_name": "LayoutModel",
          "model_module_version": "1.2.0",
          "state": {
            "_model_module": "@jupyter-widgets/base",
            "_model_module_version": "1.2.0",
            "_model_name": "LayoutModel",
            "_view_count": null,
            "_view_module": "@jupyter-widgets/base",
            "_view_module_version": "1.2.0",
            "_view_name": "LayoutView",
            "align_content": null,
            "align_items": null,
            "align_self": null,
            "border": null,
            "bottom": null,
            "display": null,
            "flex": null,
            "flex_flow": null,
            "grid_area": null,
            "grid_auto_columns": null,
            "grid_auto_flow": null,
            "grid_auto_rows": null,
            "grid_column": null,
            "grid_gap": null,
            "grid_row": null,
            "grid_template_areas": null,
            "grid_template_columns": null,
            "grid_template_rows": null,
            "height": null,
            "justify_content": null,
            "justify_items": null,
            "left": null,
            "margin": null,
            "max_height": null,
            "max_width": null,
            "min_height": null,
            "min_width": null,
            "object_fit": null,
            "object_position": null,
            "order": null,
            "overflow": null,
            "overflow_x": null,
            "overflow_y": null,
            "padding": null,
            "right": null,
            "top": null,
            "visibility": null,
            "width": null
          }
        },
        "9882a245a1ef485884468a2a8655ddbe": {
          "model_module": "@jupyter-widgets/controls",
          "model_name": "ProgressStyleModel",
          "model_module_version": "1.5.0",
          "state": {
            "_model_module": "@jupyter-widgets/controls",
            "_model_module_version": "1.5.0",
            "_model_name": "ProgressStyleModel",
            "_view_count": null,
            "_view_module": "@jupyter-widgets/base",
            "_view_module_version": "1.2.0",
            "_view_name": "StyleView",
            "bar_color": null,
            "description_width": ""
          }
        },
        "de281e72a4364188993f70110fe4ac47": {
          "model_module": "@jupyter-widgets/base",
          "model_name": "LayoutModel",
          "model_module_version": "1.2.0",
          "state": {
            "_model_module": "@jupyter-widgets/base",
            "_model_module_version": "1.2.0",
            "_model_name": "LayoutModel",
            "_view_count": null,
            "_view_module": "@jupyter-widgets/base",
            "_view_module_version": "1.2.0",
            "_view_name": "LayoutView",
            "align_content": null,
            "align_items": null,
            "align_self": null,
            "border": null,
            "bottom": null,
            "display": null,
            "flex": null,
            "flex_flow": null,
            "grid_area": null,
            "grid_auto_columns": null,
            "grid_auto_flow": null,
            "grid_auto_rows": null,
            "grid_column": null,
            "grid_gap": null,
            "grid_row": null,
            "grid_template_areas": null,
            "grid_template_columns": null,
            "grid_template_rows": null,
            "height": null,
            "justify_content": null,
            "justify_items": null,
            "left": null,
            "margin": null,
            "max_height": null,
            "max_width": null,
            "min_height": null,
            "min_width": null,
            "object_fit": null,
            "object_position": null,
            "order": null,
            "overflow": null,
            "overflow_x": null,
            "overflow_y": null,
            "padding": null,
            "right": null,
            "top": null,
            "visibility": null,
            "width": null
          }
        },
        "025e235526fe414ea74a04992a78b436": {
          "model_module": "@jupyter-widgets/controls",
          "model_name": "DescriptionStyleModel",
          "model_module_version": "1.5.0",
          "state": {
            "_model_module": "@jupyter-widgets/controls",
            "_model_module_version": "1.5.0",
            "_model_name": "DescriptionStyleModel",
            "_view_count": null,
            "_view_module": "@jupyter-widgets/base",
            "_view_module_version": "1.2.0",
            "_view_name": "StyleView",
            "description_width": ""
          }
        },
        "ccb423ee9781492a8b2b4d4ad3c11a57": {
          "model_module": "@jupyter-widgets/controls",
          "model_name": "HBoxModel",
          "model_module_version": "1.5.0",
          "state": {
            "_dom_classes": [],
            "_model_module": "@jupyter-widgets/controls",
            "_model_module_version": "1.5.0",
            "_model_name": "HBoxModel",
            "_view_count": null,
            "_view_module": "@jupyter-widgets/controls",
            "_view_module_version": "1.5.0",
            "_view_name": "HBoxView",
            "box_style": "",
            "children": [
              "IPY_MODEL_5d2513a3409a47fe898619e5588e4dd6",
              "IPY_MODEL_e47b078865a347ec8e5e457ec70cc870",
              "IPY_MODEL_a5e629f9aede409ab869458a3d8e0f1d"
            ],
            "layout": "IPY_MODEL_50ff8dacead6405ea9a94a12f6445cc5"
          }
        },
        "5d2513a3409a47fe898619e5588e4dd6": {
          "model_module": "@jupyter-widgets/controls",
          "model_name": "HTMLModel",
          "model_module_version": "1.5.0",
          "state": {
            "_dom_classes": [],
            "_model_module": "@jupyter-widgets/controls",
            "_model_module_version": "1.5.0",
            "_model_name": "HTMLModel",
            "_view_count": null,
            "_view_module": "@jupyter-widgets/controls",
            "_view_module_version": "1.5.0",
            "_view_name": "HTMLView",
            "description": "",
            "description_tooltip": null,
            "layout": "IPY_MODEL_fc25dc71884c4ad188f646c806bd4c7a",
            "placeholder": "​",
            "style": "IPY_MODEL_e5b1529e3f284eefb0e553d51d417ab1",
            "value": "Downloading: 100%"
          }
        },
        "e47b078865a347ec8e5e457ec70cc870": {
          "model_module": "@jupyter-widgets/controls",
          "model_name": "FloatProgressModel",
          "model_module_version": "1.5.0",
          "state": {
            "_dom_classes": [],
            "_model_module": "@jupyter-widgets/controls",
            "_model_module_version": "1.5.0",
            "_model_name": "FloatProgressModel",
            "_view_count": null,
            "_view_module": "@jupyter-widgets/controls",
            "_view_module_version": "1.5.0",
            "_view_name": "ProgressView",
            "bar_style": "success",
            "description": "",
            "description_tooltip": null,
            "layout": "IPY_MODEL_708abf15977944c7b381a0eeade037ac",
            "max": 1355863,
            "min": 0,
            "orientation": "horizontal",
            "style": "IPY_MODEL_808db61d52b44e2c80aa26117a9d632f",
            "value": 1355863
          }
        },
        "a5e629f9aede409ab869458a3d8e0f1d": {
          "model_module": "@jupyter-widgets/controls",
          "model_name": "HTMLModel",
          "model_module_version": "1.5.0",
          "state": {
            "_dom_classes": [],
            "_model_module": "@jupyter-widgets/controls",
            "_model_module_version": "1.5.0",
            "_model_name": "HTMLModel",
            "_view_count": null,
            "_view_module": "@jupyter-widgets/controls",
            "_view_module_version": "1.5.0",
            "_view_name": "HTMLView",
            "description": "",
            "description_tooltip": null,
            "layout": "IPY_MODEL_3d5b5804e546448ab998328ded44e36f",
            "placeholder": "​",
            "style": "IPY_MODEL_31a688703a3f42b6a053df545dd766f0",
            "value": " 1.29M/1.29M [00:00&lt;00:00, 2.94MB/s]"
          }
        },
        "50ff8dacead6405ea9a94a12f6445cc5": {
          "model_module": "@jupyter-widgets/base",
          "model_name": "LayoutModel",
          "model_module_version": "1.2.0",
          "state": {
            "_model_module": "@jupyter-widgets/base",
            "_model_module_version": "1.2.0",
            "_model_name": "LayoutModel",
            "_view_count": null,
            "_view_module": "@jupyter-widgets/base",
            "_view_module_version": "1.2.0",
            "_view_name": "LayoutView",
            "align_content": null,
            "align_items": null,
            "align_self": null,
            "border": null,
            "bottom": null,
            "display": null,
            "flex": null,
            "flex_flow": null,
            "grid_area": null,
            "grid_auto_columns": null,
            "grid_auto_flow": null,
            "grid_auto_rows": null,
            "grid_column": null,
            "grid_gap": null,
            "grid_row": null,
            "grid_template_areas": null,
            "grid_template_columns": null,
            "grid_template_rows": null,
            "height": null,
            "justify_content": null,
            "justify_items": null,
            "left": null,
            "margin": null,
            "max_height": null,
            "max_width": null,
            "min_height": null,
            "min_width": null,
            "object_fit": null,
            "object_position": null,
            "order": null,
            "overflow": null,
            "overflow_x": null,
            "overflow_y": null,
            "padding": null,
            "right": null,
            "top": null,
            "visibility": null,
            "width": null
          }
        },
        "fc25dc71884c4ad188f646c806bd4c7a": {
          "model_module": "@jupyter-widgets/base",
          "model_name": "LayoutModel",
          "model_module_version": "1.2.0",
          "state": {
            "_model_module": "@jupyter-widgets/base",
            "_model_module_version": "1.2.0",
            "_model_name": "LayoutModel",
            "_view_count": null,
            "_view_module": "@jupyter-widgets/base",
            "_view_module_version": "1.2.0",
            "_view_name": "LayoutView",
            "align_content": null,
            "align_items": null,
            "align_self": null,
            "border": null,
            "bottom": null,
            "display": null,
            "flex": null,
            "flex_flow": null,
            "grid_area": null,
            "grid_auto_columns": null,
            "grid_auto_flow": null,
            "grid_auto_rows": null,
            "grid_column": null,
            "grid_gap": null,
            "grid_row": null,
            "grid_template_areas": null,
            "grid_template_columns": null,
            "grid_template_rows": null,
            "height": null,
            "justify_content": null,
            "justify_items": null,
            "left": null,
            "margin": null,
            "max_height": null,
            "max_width": null,
            "min_height": null,
            "min_width": null,
            "object_fit": null,
            "object_position": null,
            "order": null,
            "overflow": null,
            "overflow_x": null,
            "overflow_y": null,
            "padding": null,
            "right": null,
            "top": null,
            "visibility": null,
            "width": null
          }
        },
        "e5b1529e3f284eefb0e553d51d417ab1": {
          "model_module": "@jupyter-widgets/controls",
          "model_name": "DescriptionStyleModel",
          "model_module_version": "1.5.0",
          "state": {
            "_model_module": "@jupyter-widgets/controls",
            "_model_module_version": "1.5.0",
            "_model_name": "DescriptionStyleModel",
            "_view_count": null,
            "_view_module": "@jupyter-widgets/base",
            "_view_module_version": "1.2.0",
            "_view_name": "StyleView",
            "description_width": ""
          }
        },
        "708abf15977944c7b381a0eeade037ac": {
          "model_module": "@jupyter-widgets/base",
          "model_name": "LayoutModel",
          "model_module_version": "1.2.0",
          "state": {
            "_model_module": "@jupyter-widgets/base",
            "_model_module_version": "1.2.0",
            "_model_name": "LayoutModel",
            "_view_count": null,
            "_view_module": "@jupyter-widgets/base",
            "_view_module_version": "1.2.0",
            "_view_name": "LayoutView",
            "align_content": null,
            "align_items": null,
            "align_self": null,
            "border": null,
            "bottom": null,
            "display": null,
            "flex": null,
            "flex_flow": null,
            "grid_area": null,
            "grid_auto_columns": null,
            "grid_auto_flow": null,
            "grid_auto_rows": null,
            "grid_column": null,
            "grid_gap": null,
            "grid_row": null,
            "grid_template_areas": null,
            "grid_template_columns": null,
            "grid_template_rows": null,
            "height": null,
            "justify_content": null,
            "justify_items": null,
            "left": null,
            "margin": null,
            "max_height": null,
            "max_width": null,
            "min_height": null,
            "min_width": null,
            "object_fit": null,
            "object_position": null,
            "order": null,
            "overflow": null,
            "overflow_x": null,
            "overflow_y": null,
            "padding": null,
            "right": null,
            "top": null,
            "visibility": null,
            "width": null
          }
        },
        "808db61d52b44e2c80aa26117a9d632f": {
          "model_module": "@jupyter-widgets/controls",
          "model_name": "ProgressStyleModel",
          "model_module_version": "1.5.0",
          "state": {
            "_model_module": "@jupyter-widgets/controls",
            "_model_module_version": "1.5.0",
            "_model_name": "ProgressStyleModel",
            "_view_count": null,
            "_view_module": "@jupyter-widgets/base",
            "_view_module_version": "1.2.0",
            "_view_name": "StyleView",
            "bar_color": null,
            "description_width": ""
          }
        },
        "3d5b5804e546448ab998328ded44e36f": {
          "model_module": "@jupyter-widgets/base",
          "model_name": "LayoutModel",
          "model_module_version": "1.2.0",
          "state": {
            "_model_module": "@jupyter-widgets/base",
            "_model_module_version": "1.2.0",
            "_model_name": "LayoutModel",
            "_view_count": null,
            "_view_module": "@jupyter-widgets/base",
            "_view_module_version": "1.2.0",
            "_view_name": "LayoutView",
            "align_content": null,
            "align_items": null,
            "align_self": null,
            "border": null,
            "bottom": null,
            "display": null,
            "flex": null,
            "flex_flow": null,
            "grid_area": null,
            "grid_auto_columns": null,
            "grid_auto_flow": null,
            "grid_auto_rows": null,
            "grid_column": null,
            "grid_gap": null,
            "grid_row": null,
            "grid_template_areas": null,
            "grid_template_columns": null,
            "grid_template_rows": null,
            "height": null,
            "justify_content": null,
            "justify_items": null,
            "left": null,
            "margin": null,
            "max_height": null,
            "max_width": null,
            "min_height": null,
            "min_width": null,
            "object_fit": null,
            "object_position": null,
            "order": null,
            "overflow": null,
            "overflow_x": null,
            "overflow_y": null,
            "padding": null,
            "right": null,
            "top": null,
            "visibility": null,
            "width": null
          }
        },
        "31a688703a3f42b6a053df545dd766f0": {
          "model_module": "@jupyter-widgets/controls",
          "model_name": "DescriptionStyleModel",
          "model_module_version": "1.5.0",
          "state": {
            "_model_module": "@jupyter-widgets/controls",
            "_model_module_version": "1.5.0",
            "_model_name": "DescriptionStyleModel",
            "_view_count": null,
            "_view_module": "@jupyter-widgets/base",
            "_view_module_version": "1.2.0",
            "_view_name": "StyleView",
            "description_width": ""
          }
        },
        "860777bf360a4ca38ea701b2946370e7": {
          "model_module": "@jupyter-widgets/controls",
          "model_name": "HBoxModel",
          "model_module_version": "1.5.0",
          "state": {
            "_dom_classes": [],
            "_model_module": "@jupyter-widgets/controls",
            "_model_module_version": "1.5.0",
            "_model_name": "HBoxModel",
            "_view_count": null,
            "_view_module": "@jupyter-widgets/controls",
            "_view_module_version": "1.5.0",
            "_view_name": "HBoxView",
            "box_style": "",
            "children": [
              "IPY_MODEL_c741fddd18dc4eb3ad996995b6d19a9b",
              "IPY_MODEL_3b4fe285080849ef8f4d2e2ef353e2b0",
              "IPY_MODEL_16239092f03844debcbca963c8d513ae"
            ],
            "layout": "IPY_MODEL_9ae856d7592a4729a900c7c4ae36d823"
          }
        },
        "c741fddd18dc4eb3ad996995b6d19a9b": {
          "model_module": "@jupyter-widgets/controls",
          "model_name": "HTMLModel",
          "model_module_version": "1.5.0",
          "state": {
            "_dom_classes": [],
            "_model_module": "@jupyter-widgets/controls",
            "_model_module_version": "1.5.0",
            "_model_name": "HTMLModel",
            "_view_count": null,
            "_view_module": "@jupyter-widgets/controls",
            "_view_module_version": "1.5.0",
            "_view_name": "HTMLView",
            "description": "",
            "description_tooltip": null,
            "layout": "IPY_MODEL_62639b77928847be83e3a38bee7f2f1e",
            "placeholder": "​",
            "style": "IPY_MODEL_cff37e9b9f38444e9485bb3e712e8d07",
            "value": "Downloading: 100%"
          }
        },
        "3b4fe285080849ef8f4d2e2ef353e2b0": {
          "model_module": "@jupyter-widgets/controls",
          "model_name": "FloatProgressModel",
          "model_module_version": "1.5.0",
          "state": {
            "_dom_classes": [],
            "_model_module": "@jupyter-widgets/controls",
            "_model_module_version": "1.5.0",
            "_model_name": "FloatProgressModel",
            "_view_count": null,
            "_view_module": "@jupyter-widgets/controls",
            "_view_module_version": "1.5.0",
            "_view_name": "ProgressView",
            "bar_style": "success",
            "description": "",
            "description_tooltip": null,
            "layout": "IPY_MODEL_748e82f4d1ef45c29939353a176ee706",
            "max": 664,
            "min": 0,
            "orientation": "horizontal",
            "style": "IPY_MODEL_e890a90f8f97482b843f1d528a62ec66",
            "value": 664
          }
        },
        "16239092f03844debcbca963c8d513ae": {
          "model_module": "@jupyter-widgets/controls",
          "model_name": "HTMLModel",
          "model_module_version": "1.5.0",
          "state": {
            "_dom_classes": [],
            "_model_module": "@jupyter-widgets/controls",
            "_model_module_version": "1.5.0",
            "_model_name": "HTMLModel",
            "_view_count": null,
            "_view_module": "@jupyter-widgets/controls",
            "_view_module_version": "1.5.0",
            "_view_name": "HTMLView",
            "description": "",
            "description_tooltip": null,
            "layout": "IPY_MODEL_a9c249b296bc4492b9f0210233e22872",
            "placeholder": "​",
            "style": "IPY_MODEL_aefc10549a8143f9a3ec138c2cafcbcb",
            "value": " 664/664 [00:00&lt;00:00, 5.92kB/s]"
          }
        },
        "9ae856d7592a4729a900c7c4ae36d823": {
          "model_module": "@jupyter-widgets/base",
          "model_name": "LayoutModel",
          "model_module_version": "1.2.0",
          "state": {
            "_model_module": "@jupyter-widgets/base",
            "_model_module_version": "1.2.0",
            "_model_name": "LayoutModel",
            "_view_count": null,
            "_view_module": "@jupyter-widgets/base",
            "_view_module_version": "1.2.0",
            "_view_name": "LayoutView",
            "align_content": null,
            "align_items": null,
            "align_self": null,
            "border": null,
            "bottom": null,
            "display": null,
            "flex": null,
            "flex_flow": null,
            "grid_area": null,
            "grid_auto_columns": null,
            "grid_auto_flow": null,
            "grid_auto_rows": null,
            "grid_column": null,
            "grid_gap": null,
            "grid_row": null,
            "grid_template_areas": null,
            "grid_template_columns": null,
            "grid_template_rows": null,
            "height": null,
            "justify_content": null,
            "justify_items": null,
            "left": null,
            "margin": null,
            "max_height": null,
            "max_width": null,
            "min_height": null,
            "min_width": null,
            "object_fit": null,
            "object_position": null,
            "order": null,
            "overflow": null,
            "overflow_x": null,
            "overflow_y": null,
            "padding": null,
            "right": null,
            "top": null,
            "visibility": null,
            "width": null
          }
        },
        "62639b77928847be83e3a38bee7f2f1e": {
          "model_module": "@jupyter-widgets/base",
          "model_name": "LayoutModel",
          "model_module_version": "1.2.0",
          "state": {
            "_model_module": "@jupyter-widgets/base",
            "_model_module_version": "1.2.0",
            "_model_name": "LayoutModel",
            "_view_count": null,
            "_view_module": "@jupyter-widgets/base",
            "_view_module_version": "1.2.0",
            "_view_name": "LayoutView",
            "align_content": null,
            "align_items": null,
            "align_self": null,
            "border": null,
            "bottom": null,
            "display": null,
            "flex": null,
            "flex_flow": null,
            "grid_area": null,
            "grid_auto_columns": null,
            "grid_auto_flow": null,
            "grid_auto_rows": null,
            "grid_column": null,
            "grid_gap": null,
            "grid_row": null,
            "grid_template_areas": null,
            "grid_template_columns": null,
            "grid_template_rows": null,
            "height": null,
            "justify_content": null,
            "justify_items": null,
            "left": null,
            "margin": null,
            "max_height": null,
            "max_width": null,
            "min_height": null,
            "min_width": null,
            "object_fit": null,
            "object_position": null,
            "order": null,
            "overflow": null,
            "overflow_x": null,
            "overflow_y": null,
            "padding": null,
            "right": null,
            "top": null,
            "visibility": null,
            "width": null
          }
        },
        "cff37e9b9f38444e9485bb3e712e8d07": {
          "model_module": "@jupyter-widgets/controls",
          "model_name": "DescriptionStyleModel",
          "model_module_version": "1.5.0",
          "state": {
            "_model_module": "@jupyter-widgets/controls",
            "_model_module_version": "1.5.0",
            "_model_name": "DescriptionStyleModel",
            "_view_count": null,
            "_view_module": "@jupyter-widgets/base",
            "_view_module_version": "1.2.0",
            "_view_name": "StyleView",
            "description_width": ""
          }
        },
        "748e82f4d1ef45c29939353a176ee706": {
          "model_module": "@jupyter-widgets/base",
          "model_name": "LayoutModel",
          "model_module_version": "1.2.0",
          "state": {
            "_model_module": "@jupyter-widgets/base",
            "_model_module_version": "1.2.0",
            "_model_name": "LayoutModel",
            "_view_count": null,
            "_view_module": "@jupyter-widgets/base",
            "_view_module_version": "1.2.0",
            "_view_name": "LayoutView",
            "align_content": null,
            "align_items": null,
            "align_self": null,
            "border": null,
            "bottom": null,
            "display": null,
            "flex": null,
            "flex_flow": null,
            "grid_area": null,
            "grid_auto_columns": null,
            "grid_auto_flow": null,
            "grid_auto_rows": null,
            "grid_column": null,
            "grid_gap": null,
            "grid_row": null,
            "grid_template_areas": null,
            "grid_template_columns": null,
            "grid_template_rows": null,
            "height": null,
            "justify_content": null,
            "justify_items": null,
            "left": null,
            "margin": null,
            "max_height": null,
            "max_width": null,
            "min_height": null,
            "min_width": null,
            "object_fit": null,
            "object_position": null,
            "order": null,
            "overflow": null,
            "overflow_x": null,
            "overflow_y": null,
            "padding": null,
            "right": null,
            "top": null,
            "visibility": null,
            "width": null
          }
        },
        "e890a90f8f97482b843f1d528a62ec66": {
          "model_module": "@jupyter-widgets/controls",
          "model_name": "ProgressStyleModel",
          "model_module_version": "1.5.0",
          "state": {
            "_model_module": "@jupyter-widgets/controls",
            "_model_module_version": "1.5.0",
            "_model_name": "ProgressStyleModel",
            "_view_count": null,
            "_view_module": "@jupyter-widgets/base",
            "_view_module_version": "1.2.0",
            "_view_name": "StyleView",
            "bar_color": null,
            "description_width": ""
          }
        },
        "a9c249b296bc4492b9f0210233e22872": {
          "model_module": "@jupyter-widgets/base",
          "model_name": "LayoutModel",
          "model_module_version": "1.2.0",
          "state": {
            "_model_module": "@jupyter-widgets/base",
            "_model_module_version": "1.2.0",
            "_model_name": "LayoutModel",
            "_view_count": null,
            "_view_module": "@jupyter-widgets/base",
            "_view_module_version": "1.2.0",
            "_view_name": "LayoutView",
            "align_content": null,
            "align_items": null,
            "align_self": null,
            "border": null,
            "bottom": null,
            "display": null,
            "flex": null,
            "flex_flow": null,
            "grid_area": null,
            "grid_auto_columns": null,
            "grid_auto_flow": null,
            "grid_auto_rows": null,
            "grid_column": null,
            "grid_gap": null,
            "grid_row": null,
            "grid_template_areas": null,
            "grid_template_columns": null,
            "grid_template_rows": null,
            "height": null,
            "justify_content": null,
            "justify_items": null,
            "left": null,
            "margin": null,
            "max_height": null,
            "max_width": null,
            "min_height": null,
            "min_width": null,
            "object_fit": null,
            "object_position": null,
            "order": null,
            "overflow": null,
            "overflow_x": null,
            "overflow_y": null,
            "padding": null,
            "right": null,
            "top": null,
            "visibility": null,
            "width": null
          }
        },
        "aefc10549a8143f9a3ec138c2cafcbcb": {
          "model_module": "@jupyter-widgets/controls",
          "model_name": "DescriptionStyleModel",
          "model_module_version": "1.5.0",
          "state": {
            "_model_module": "@jupyter-widgets/controls",
            "_model_module_version": "1.5.0",
            "_model_name": "DescriptionStyleModel",
            "_view_count": null,
            "_view_module": "@jupyter-widgets/base",
            "_view_module_version": "1.2.0",
            "_view_name": "StyleView",
            "description_width": ""
          }
        },
        "72e8898be6da444e9d31782f0435f982": {
          "model_module": "@jupyter-widgets/controls",
          "model_name": "HBoxModel",
          "model_module_version": "1.5.0",
          "state": {
            "_dom_classes": [],
            "_model_module": "@jupyter-widgets/controls",
            "_model_module_version": "1.5.0",
            "_model_name": "HBoxModel",
            "_view_count": null,
            "_view_module": "@jupyter-widgets/controls",
            "_view_module_version": "1.5.0",
            "_view_name": "HBoxView",
            "box_style": "",
            "children": [
              "IPY_MODEL_a3db5957b6d74d7180af070f4aeae2de",
              "IPY_MODEL_c0c1197e86a84f8a8dddb89a913fdf52",
              "IPY_MODEL_0ac67ac5cb1d4b8aa184a3e78b13ee92"
            ],
            "layout": "IPY_MODEL_b961153e34b545c89dcc8d9028ea87ea"
          }
        },
        "a3db5957b6d74d7180af070f4aeae2de": {
          "model_module": "@jupyter-widgets/controls",
          "model_name": "HTMLModel",
          "model_module_version": "1.5.0",
          "state": {
            "_dom_classes": [],
            "_model_module": "@jupyter-widgets/controls",
            "_model_module_version": "1.5.0",
            "_model_name": "HTMLModel",
            "_view_count": null,
            "_view_module": "@jupyter-widgets/controls",
            "_view_module_version": "1.5.0",
            "_view_name": "HTMLView",
            "description": "",
            "description_tooltip": null,
            "layout": "IPY_MODEL_69d6d4fb984741899d135382d8d25e5f",
            "placeholder": "​",
            "style": "IPY_MODEL_f6a9a5c9ba2843768b420078246ebfa2",
            "value": "Downloading: 100%"
          }
        },
        "c0c1197e86a84f8a8dddb89a913fdf52": {
          "model_module": "@jupyter-widgets/controls",
          "model_name": "FloatProgressModel",
          "model_module_version": "1.5.0",
          "state": {
            "_dom_classes": [],
            "_model_module": "@jupyter-widgets/controls",
            "_model_module_version": "1.5.0",
            "_model_name": "FloatProgressModel",
            "_view_count": null,
            "_view_module": "@jupyter-widgets/controls",
            "_view_module_version": "1.5.0",
            "_view_name": "ProgressView",
            "bar_style": "success",
            "description": "",
            "description_tooltip": null,
            "layout": "IPY_MODEL_0741c9fe9a36419895001814941d2a7f",
            "max": 498878336,
            "min": 0,
            "orientation": "horizontal",
            "style": "IPY_MODEL_e7a6ac319bae4b3697730716b56c456b",
            "value": 498878336
          }
        },
        "0ac67ac5cb1d4b8aa184a3e78b13ee92": {
          "model_module": "@jupyter-widgets/controls",
          "model_name": "HTMLModel",
          "model_module_version": "1.5.0",
          "state": {
            "_dom_classes": [],
            "_model_module": "@jupyter-widgets/controls",
            "_model_module_version": "1.5.0",
            "_model_name": "HTMLModel",
            "_view_count": null,
            "_view_module": "@jupyter-widgets/controls",
            "_view_module_version": "1.5.0",
            "_view_name": "HTMLView",
            "description": "",
            "description_tooltip": null,
            "layout": "IPY_MODEL_23bb754a60e541a4bc934a11e9e70b64",
            "placeholder": "​",
            "style": "IPY_MODEL_9238a485d536484391487554f39f945c",
            "value": " 476M/476M [00:35&lt;00:00, 58.7MB/s]"
          }
        },
        "b961153e34b545c89dcc8d9028ea87ea": {
          "model_module": "@jupyter-widgets/base",
          "model_name": "LayoutModel",
          "model_module_version": "1.2.0",
          "state": {
            "_model_module": "@jupyter-widgets/base",
            "_model_module_version": "1.2.0",
            "_model_name": "LayoutModel",
            "_view_count": null,
            "_view_module": "@jupyter-widgets/base",
            "_view_module_version": "1.2.0",
            "_view_name": "LayoutView",
            "align_content": null,
            "align_items": null,
            "align_self": null,
            "border": null,
            "bottom": null,
            "display": null,
            "flex": null,
            "flex_flow": null,
            "grid_area": null,
            "grid_auto_columns": null,
            "grid_auto_flow": null,
            "grid_auto_rows": null,
            "grid_column": null,
            "grid_gap": null,
            "grid_row": null,
            "grid_template_areas": null,
            "grid_template_columns": null,
            "grid_template_rows": null,
            "height": null,
            "justify_content": null,
            "justify_items": null,
            "left": null,
            "margin": null,
            "max_height": null,
            "max_width": null,
            "min_height": null,
            "min_width": null,
            "object_fit": null,
            "object_position": null,
            "order": null,
            "overflow": null,
            "overflow_x": null,
            "overflow_y": null,
            "padding": null,
            "right": null,
            "top": null,
            "visibility": null,
            "width": null
          }
        },
        "69d6d4fb984741899d135382d8d25e5f": {
          "model_module": "@jupyter-widgets/base",
          "model_name": "LayoutModel",
          "model_module_version": "1.2.0",
          "state": {
            "_model_module": "@jupyter-widgets/base",
            "_model_module_version": "1.2.0",
            "_model_name": "LayoutModel",
            "_view_count": null,
            "_view_module": "@jupyter-widgets/base",
            "_view_module_version": "1.2.0",
            "_view_name": "LayoutView",
            "align_content": null,
            "align_items": null,
            "align_self": null,
            "border": null,
            "bottom": null,
            "display": null,
            "flex": null,
            "flex_flow": null,
            "grid_area": null,
            "grid_auto_columns": null,
            "grid_auto_flow": null,
            "grid_auto_rows": null,
            "grid_column": null,
            "grid_gap": null,
            "grid_row": null,
            "grid_template_areas": null,
            "grid_template_columns": null,
            "grid_template_rows": null,
            "height": null,
            "justify_content": null,
            "justify_items": null,
            "left": null,
            "margin": null,
            "max_height": null,
            "max_width": null,
            "min_height": null,
            "min_width": null,
            "object_fit": null,
            "object_position": null,
            "order": null,
            "overflow": null,
            "overflow_x": null,
            "overflow_y": null,
            "padding": null,
            "right": null,
            "top": null,
            "visibility": null,
            "width": null
          }
        },
        "f6a9a5c9ba2843768b420078246ebfa2": {
          "model_module": "@jupyter-widgets/controls",
          "model_name": "DescriptionStyleModel",
          "model_module_version": "1.5.0",
          "state": {
            "_model_module": "@jupyter-widgets/controls",
            "_model_module_version": "1.5.0",
            "_model_name": "DescriptionStyleModel",
            "_view_count": null,
            "_view_module": "@jupyter-widgets/base",
            "_view_module_version": "1.2.0",
            "_view_name": "StyleView",
            "description_width": ""
          }
        },
        "0741c9fe9a36419895001814941d2a7f": {
          "model_module": "@jupyter-widgets/base",
          "model_name": "LayoutModel",
          "model_module_version": "1.2.0",
          "state": {
            "_model_module": "@jupyter-widgets/base",
            "_model_module_version": "1.2.0",
            "_model_name": "LayoutModel",
            "_view_count": null,
            "_view_module": "@jupyter-widgets/base",
            "_view_module_version": "1.2.0",
            "_view_name": "LayoutView",
            "align_content": null,
            "align_items": null,
            "align_self": null,
            "border": null,
            "bottom": null,
            "display": null,
            "flex": null,
            "flex_flow": null,
            "grid_area": null,
            "grid_auto_columns": null,
            "grid_auto_flow": null,
            "grid_auto_rows": null,
            "grid_column": null,
            "grid_gap": null,
            "grid_row": null,
            "grid_template_areas": null,
            "grid_template_columns": null,
            "grid_template_rows": null,
            "height": null,
            "justify_content": null,
            "justify_items": null,
            "left": null,
            "margin": null,
            "max_height": null,
            "max_width": null,
            "min_height": null,
            "min_width": null,
            "object_fit": null,
            "object_position": null,
            "order": null,
            "overflow": null,
            "overflow_x": null,
            "overflow_y": null,
            "padding": null,
            "right": null,
            "top": null,
            "visibility": null,
            "width": null
          }
        },
        "e7a6ac319bae4b3697730716b56c456b": {
          "model_module": "@jupyter-widgets/controls",
          "model_name": "ProgressStyleModel",
          "model_module_version": "1.5.0",
          "state": {
            "_model_module": "@jupyter-widgets/controls",
            "_model_module_version": "1.5.0",
            "_model_name": "ProgressStyleModel",
            "_view_count": null,
            "_view_module": "@jupyter-widgets/base",
            "_view_module_version": "1.2.0",
            "_view_name": "StyleView",
            "bar_color": null,
            "description_width": ""
          }
        },
        "23bb754a60e541a4bc934a11e9e70b64": {
          "model_module": "@jupyter-widgets/base",
          "model_name": "LayoutModel",
          "model_module_version": "1.2.0",
          "state": {
            "_model_module": "@jupyter-widgets/base",
            "_model_module_version": "1.2.0",
            "_model_name": "LayoutModel",
            "_view_count": null,
            "_view_module": "@jupyter-widgets/base",
            "_view_module_version": "1.2.0",
            "_view_name": "LayoutView",
            "align_content": null,
            "align_items": null,
            "align_self": null,
            "border": null,
            "bottom": null,
            "display": null,
            "flex": null,
            "flex_flow": null,
            "grid_area": null,
            "grid_auto_columns": null,
            "grid_auto_flow": null,
            "grid_auto_rows": null,
            "grid_column": null,
            "grid_gap": null,
            "grid_row": null,
            "grid_template_areas": null,
            "grid_template_columns": null,
            "grid_template_rows": null,
            "height": null,
            "justify_content": null,
            "justify_items": null,
            "left": null,
            "margin": null,
            "max_height": null,
            "max_width": null,
            "min_height": null,
            "min_width": null,
            "object_fit": null,
            "object_position": null,
            "order": null,
            "overflow": null,
            "overflow_x": null,
            "overflow_y": null,
            "padding": null,
            "right": null,
            "top": null,
            "visibility": null,
            "width": null
          }
        },
        "9238a485d536484391487554f39f945c": {
          "model_module": "@jupyter-widgets/controls",
          "model_name": "DescriptionStyleModel",
          "model_module_version": "1.5.0",
          "state": {
            "_model_module": "@jupyter-widgets/controls",
            "_model_module_version": "1.5.0",
            "_model_name": "DescriptionStyleModel",
            "_view_count": null,
            "_view_module": "@jupyter-widgets/base",
            "_view_module_version": "1.2.0",
            "_view_name": "StyleView",
            "description_width": ""
          }
        }
      }
    },
    "accelerator": "GPU",
    "gpuClass": "standard"
  },
  "nbformat": 4,
  "nbformat_minor": 5
}