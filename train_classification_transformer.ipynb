{
  "nbformat": 4,
  "nbformat_minor": 0,
  "metadata": {
    "colab": {
      "name": "Copie de train_classification_transformer.ipynb",
      "provenance": [],
      "collapsed_sections": [
        "oxwV58Rgly39",
        "ZCyAbhjzRAuu",
        "Hoxpm4qql3gl",
        "K_7LJecEl5sK",
        "n-HltfJZdrIq",
        "IhBDpDutUHBR",
        "hGCIYzAn7LxA",
        "1JHbIs0bmy3U"
      ]
    },
    "kernelspec": {
      "name": "python3",
      "display_name": "Python 3"
    },
    "language_info": {
      "name": "python"
    },
    "accelerator": "GPU",
    "gpuClass": "standard",
    "widgets": {
      "application/vnd.jupyter.widget-state+json": {
        "9e78126c3f3545f0bc7d626c414b4959": {
          "model_module": "@jupyter-widgets/controls",
          "model_name": "HBoxModel",
          "model_module_version": "1.5.0",
          "state": {
            "_dom_classes": [],
            "_model_module": "@jupyter-widgets/controls",
            "_model_module_version": "1.5.0",
            "_model_name": "HBoxModel",
            "_view_count": null,
            "_view_module": "@jupyter-widgets/controls",
            "_view_module_version": "1.5.0",
            "_view_name": "HBoxView",
            "box_style": "",
            "children": [
              "IPY_MODEL_9fb7eef29a254a56b31d9626c871f892",
              "IPY_MODEL_b8287f6dae5c4c8a821278b3fa538ec6",
              "IPY_MODEL_161db313a5844894834e70754211cb01"
            ],
            "layout": "IPY_MODEL_3e8e70805baa40ca93b5b57147e66243"
          }
        },
        "9fb7eef29a254a56b31d9626c871f892": {
          "model_module": "@jupyter-widgets/controls",
          "model_name": "HTMLModel",
          "model_module_version": "1.5.0",
          "state": {
            "_dom_classes": [],
            "_model_module": "@jupyter-widgets/controls",
            "_model_module_version": "1.5.0",
            "_model_name": "HTMLModel",
            "_view_count": null,
            "_view_module": "@jupyter-widgets/controls",
            "_view_module_version": "1.5.0",
            "_view_name": "HTMLView",
            "description": "",
            "description_tooltip": null,
            "layout": "IPY_MODEL_288879ea2be94016b4382f35d1549183",
            "placeholder": "​",
            "style": "IPY_MODEL_96df1bb7f7ef4e5d8a51c9fcc4f3be7d",
            "value": "Downloading: 100%"
          }
        },
        "b8287f6dae5c4c8a821278b3fa538ec6": {
          "model_module": "@jupyter-widgets/controls",
          "model_name": "FloatProgressModel",
          "model_module_version": "1.5.0",
          "state": {
            "_dom_classes": [],
            "_model_module": "@jupyter-widgets/controls",
            "_model_module_version": "1.5.0",
            "_model_name": "FloatProgressModel",
            "_view_count": null,
            "_view_module": "@jupyter-widgets/controls",
            "_view_module_version": "1.5.0",
            "_view_name": "ProgressView",
            "bar_style": "success",
            "description": "",
            "description_tooltip": null,
            "layout": "IPY_MODEL_eca1bd6c10a7469cac5d1a6710136e3f",
            "max": 481,
            "min": 0,
            "orientation": "horizontal",
            "style": "IPY_MODEL_644e978e6592449794c429b9b9481fc7",
            "value": 481
          }
        },
        "161db313a5844894834e70754211cb01": {
          "model_module": "@jupyter-widgets/controls",
          "model_name": "HTMLModel",
          "model_module_version": "1.5.0",
          "state": {
            "_dom_classes": [],
            "_model_module": "@jupyter-widgets/controls",
            "_model_module_version": "1.5.0",
            "_model_name": "HTMLModel",
            "_view_count": null,
            "_view_module": "@jupyter-widgets/controls",
            "_view_module_version": "1.5.0",
            "_view_name": "HTMLView",
            "description": "",
            "description_tooltip": null,
            "layout": "IPY_MODEL_8697e67cd6644c01a05a39fb57c37668",
            "placeholder": "​",
            "style": "IPY_MODEL_04b9e1a7992e4c63848ac22f1822a2d9",
            "value": " 481/481 [00:00&lt;00:00, 14.0kB/s]"
          }
        },
        "3e8e70805baa40ca93b5b57147e66243": {
          "model_module": "@jupyter-widgets/base",
          "model_name": "LayoutModel",
          "model_module_version": "1.2.0",
          "state": {
            "_model_module": "@jupyter-widgets/base",
            "_model_module_version": "1.2.0",
            "_model_name": "LayoutModel",
            "_view_count": null,
            "_view_module": "@jupyter-widgets/base",
            "_view_module_version": "1.2.0",
            "_view_name": "LayoutView",
            "align_content": null,
            "align_items": null,
            "align_self": null,
            "border": null,
            "bottom": null,
            "display": null,
            "flex": null,
            "flex_flow": null,
            "grid_area": null,
            "grid_auto_columns": null,
            "grid_auto_flow": null,
            "grid_auto_rows": null,
            "grid_column": null,
            "grid_gap": null,
            "grid_row": null,
            "grid_template_areas": null,
            "grid_template_columns": null,
            "grid_template_rows": null,
            "height": null,
            "justify_content": null,
            "justify_items": null,
            "left": null,
            "margin": null,
            "max_height": null,
            "max_width": null,
            "min_height": null,
            "min_width": null,
            "object_fit": null,
            "object_position": null,
            "order": null,
            "overflow": null,
            "overflow_x": null,
            "overflow_y": null,
            "padding": null,
            "right": null,
            "top": null,
            "visibility": null,
            "width": null
          }
        },
        "288879ea2be94016b4382f35d1549183": {
          "model_module": "@jupyter-widgets/base",
          "model_name": "LayoutModel",
          "model_module_version": "1.2.0",
          "state": {
            "_model_module": "@jupyter-widgets/base",
            "_model_module_version": "1.2.0",
            "_model_name": "LayoutModel",
            "_view_count": null,
            "_view_module": "@jupyter-widgets/base",
            "_view_module_version": "1.2.0",
            "_view_name": "LayoutView",
            "align_content": null,
            "align_items": null,
            "align_self": null,
            "border": null,
            "bottom": null,
            "display": null,
            "flex": null,
            "flex_flow": null,
            "grid_area": null,
            "grid_auto_columns": null,
            "grid_auto_flow": null,
            "grid_auto_rows": null,
            "grid_column": null,
            "grid_gap": null,
            "grid_row": null,
            "grid_template_areas": null,
            "grid_template_columns": null,
            "grid_template_rows": null,
            "height": null,
            "justify_content": null,
            "justify_items": null,
            "left": null,
            "margin": null,
            "max_height": null,
            "max_width": null,
            "min_height": null,
            "min_width": null,
            "object_fit": null,
            "object_position": null,
            "order": null,
            "overflow": null,
            "overflow_x": null,
            "overflow_y": null,
            "padding": null,
            "right": null,
            "top": null,
            "visibility": null,
            "width": null
          }
        },
        "96df1bb7f7ef4e5d8a51c9fcc4f3be7d": {
          "model_module": "@jupyter-widgets/controls",
          "model_name": "DescriptionStyleModel",
          "model_module_version": "1.5.0",
          "state": {
            "_model_module": "@jupyter-widgets/controls",
            "_model_module_version": "1.5.0",
            "_model_name": "DescriptionStyleModel",
            "_view_count": null,
            "_view_module": "@jupyter-widgets/base",
            "_view_module_version": "1.2.0",
            "_view_name": "StyleView",
            "description_width": ""
          }
        },
        "eca1bd6c10a7469cac5d1a6710136e3f": {
          "model_module": "@jupyter-widgets/base",
          "model_name": "LayoutModel",
          "model_module_version": "1.2.0",
          "state": {
            "_model_module": "@jupyter-widgets/base",
            "_model_module_version": "1.2.0",
            "_model_name": "LayoutModel",
            "_view_count": null,
            "_view_module": "@jupyter-widgets/base",
            "_view_module_version": "1.2.0",
            "_view_name": "LayoutView",
            "align_content": null,
            "align_items": null,
            "align_self": null,
            "border": null,
            "bottom": null,
            "display": null,
            "flex": null,
            "flex_flow": null,
            "grid_area": null,
            "grid_auto_columns": null,
            "grid_auto_flow": null,
            "grid_auto_rows": null,
            "grid_column": null,
            "grid_gap": null,
            "grid_row": null,
            "grid_template_areas": null,
            "grid_template_columns": null,
            "grid_template_rows": null,
            "height": null,
            "justify_content": null,
            "justify_items": null,
            "left": null,
            "margin": null,
            "max_height": null,
            "max_width": null,
            "min_height": null,
            "min_width": null,
            "object_fit": null,
            "object_position": null,
            "order": null,
            "overflow": null,
            "overflow_x": null,
            "overflow_y": null,
            "padding": null,
            "right": null,
            "top": null,
            "visibility": null,
            "width": null
          }
        },
        "644e978e6592449794c429b9b9481fc7": {
          "model_module": "@jupyter-widgets/controls",
          "model_name": "ProgressStyleModel",
          "model_module_version": "1.5.0",
          "state": {
            "_model_module": "@jupyter-widgets/controls",
            "_model_module_version": "1.5.0",
            "_model_name": "ProgressStyleModel",
            "_view_count": null,
            "_view_module": "@jupyter-widgets/base",
            "_view_module_version": "1.2.0",
            "_view_name": "StyleView",
            "bar_color": null,
            "description_width": ""
          }
        },
        "8697e67cd6644c01a05a39fb57c37668": {
          "model_module": "@jupyter-widgets/base",
          "model_name": "LayoutModel",
          "model_module_version": "1.2.0",
          "state": {
            "_model_module": "@jupyter-widgets/base",
            "_model_module_version": "1.2.0",
            "_model_name": "LayoutModel",
            "_view_count": null,
            "_view_module": "@jupyter-widgets/base",
            "_view_module_version": "1.2.0",
            "_view_name": "LayoutView",
            "align_content": null,
            "align_items": null,
            "align_self": null,
            "border": null,
            "bottom": null,
            "display": null,
            "flex": null,
            "flex_flow": null,
            "grid_area": null,
            "grid_auto_columns": null,
            "grid_auto_flow": null,
            "grid_auto_rows": null,
            "grid_column": null,
            "grid_gap": null,
            "grid_row": null,
            "grid_template_areas": null,
            "grid_template_columns": null,
            "grid_template_rows": null,
            "height": null,
            "justify_content": null,
            "justify_items": null,
            "left": null,
            "margin": null,
            "max_height": null,
            "max_width": null,
            "min_height": null,
            "min_width": null,
            "object_fit": null,
            "object_position": null,
            "order": null,
            "overflow": null,
            "overflow_x": null,
            "overflow_y": null,
            "padding": null,
            "right": null,
            "top": null,
            "visibility": null,
            "width": null
          }
        },
        "04b9e1a7992e4c63848ac22f1822a2d9": {
          "model_module": "@jupyter-widgets/controls",
          "model_name": "DescriptionStyleModel",
          "model_module_version": "1.5.0",
          "state": {
            "_model_module": "@jupyter-widgets/controls",
            "_model_module_version": "1.5.0",
            "_model_name": "DescriptionStyleModel",
            "_view_count": null,
            "_view_module": "@jupyter-widgets/base",
            "_view_module_version": "1.2.0",
            "_view_name": "StyleView",
            "description_width": ""
          }
        },
        "bf251ace54ba47558720ca8edce6a230": {
          "model_module": "@jupyter-widgets/controls",
          "model_name": "HBoxModel",
          "model_module_version": "1.5.0",
          "state": {
            "_dom_classes": [],
            "_model_module": "@jupyter-widgets/controls",
            "_model_module_version": "1.5.0",
            "_model_name": "HBoxModel",
            "_view_count": null,
            "_view_module": "@jupyter-widgets/controls",
            "_view_module_version": "1.5.0",
            "_view_name": "HBoxView",
            "box_style": "",
            "children": [
              "IPY_MODEL_db19814bd9f4475f806c61c0e3f80093",
              "IPY_MODEL_18c4e1c4d3ab4722bec6d30eb6d1cdec",
              "IPY_MODEL_3c62a666533e46148f848275d3fc3c89"
            ],
            "layout": "IPY_MODEL_5498ad9f53904ba8a057b85a516b38d5"
          }
        },
        "db19814bd9f4475f806c61c0e3f80093": {
          "model_module": "@jupyter-widgets/controls",
          "model_name": "HTMLModel",
          "model_module_version": "1.5.0",
          "state": {
            "_dom_classes": [],
            "_model_module": "@jupyter-widgets/controls",
            "_model_module_version": "1.5.0",
            "_model_name": "HTMLModel",
            "_view_count": null,
            "_view_module": "@jupyter-widgets/controls",
            "_view_module_version": "1.5.0",
            "_view_name": "HTMLView",
            "description": "",
            "description_tooltip": null,
            "layout": "IPY_MODEL_9d37b2341a8f4167b8382cd5b305c85d",
            "placeholder": "​",
            "style": "IPY_MODEL_06795fb051d84cfba6daf99bc9ceb08a",
            "value": "Downloading: 100%"
          }
        },
        "18c4e1c4d3ab4722bec6d30eb6d1cdec": {
          "model_module": "@jupyter-widgets/controls",
          "model_name": "FloatProgressModel",
          "model_module_version": "1.5.0",
          "state": {
            "_dom_classes": [],
            "_model_module": "@jupyter-widgets/controls",
            "_model_module_version": "1.5.0",
            "_model_name": "FloatProgressModel",
            "_view_count": null,
            "_view_module": "@jupyter-widgets/controls",
            "_view_module_version": "1.5.0",
            "_view_name": "ProgressView",
            "bar_style": "success",
            "description": "",
            "description_tooltip": null,
            "layout": "IPY_MODEL_af6fb608eac240e5b8da8403359fe293",
            "max": 898823,
            "min": 0,
            "orientation": "horizontal",
            "style": "IPY_MODEL_682f36c6966948d4a9abb4bee8b5ffed",
            "value": 898823
          }
        },
        "3c62a666533e46148f848275d3fc3c89": {
          "model_module": "@jupyter-widgets/controls",
          "model_name": "HTMLModel",
          "model_module_version": "1.5.0",
          "state": {
            "_dom_classes": [],
            "_model_module": "@jupyter-widgets/controls",
            "_model_module_version": "1.5.0",
            "_model_name": "HTMLModel",
            "_view_count": null,
            "_view_module": "@jupyter-widgets/controls",
            "_view_module_version": "1.5.0",
            "_view_name": "HTMLView",
            "description": "",
            "description_tooltip": null,
            "layout": "IPY_MODEL_38f8f877459740de8f741e3740eca800",
            "placeholder": "​",
            "style": "IPY_MODEL_0165b7230eb841d3b56732fc5974278f",
            "value": " 878k/878k [00:01&lt;00:00, 923kB/s]"
          }
        },
        "5498ad9f53904ba8a057b85a516b38d5": {
          "model_module": "@jupyter-widgets/base",
          "model_name": "LayoutModel",
          "model_module_version": "1.2.0",
          "state": {
            "_model_module": "@jupyter-widgets/base",
            "_model_module_version": "1.2.0",
            "_model_name": "LayoutModel",
            "_view_count": null,
            "_view_module": "@jupyter-widgets/base",
            "_view_module_version": "1.2.0",
            "_view_name": "LayoutView",
            "align_content": null,
            "align_items": null,
            "align_self": null,
            "border": null,
            "bottom": null,
            "display": null,
            "flex": null,
            "flex_flow": null,
            "grid_area": null,
            "grid_auto_columns": null,
            "grid_auto_flow": null,
            "grid_auto_rows": null,
            "grid_column": null,
            "grid_gap": null,
            "grid_row": null,
            "grid_template_areas": null,
            "grid_template_columns": null,
            "grid_template_rows": null,
            "height": null,
            "justify_content": null,
            "justify_items": null,
            "left": null,
            "margin": null,
            "max_height": null,
            "max_width": null,
            "min_height": null,
            "min_width": null,
            "object_fit": null,
            "object_position": null,
            "order": null,
            "overflow": null,
            "overflow_x": null,
            "overflow_y": null,
            "padding": null,
            "right": null,
            "top": null,
            "visibility": null,
            "width": null
          }
        },
        "9d37b2341a8f4167b8382cd5b305c85d": {
          "model_module": "@jupyter-widgets/base",
          "model_name": "LayoutModel",
          "model_module_version": "1.2.0",
          "state": {
            "_model_module": "@jupyter-widgets/base",
            "_model_module_version": "1.2.0",
            "_model_name": "LayoutModel",
            "_view_count": null,
            "_view_module": "@jupyter-widgets/base",
            "_view_module_version": "1.2.0",
            "_view_name": "LayoutView",
            "align_content": null,
            "align_items": null,
            "align_self": null,
            "border": null,
            "bottom": null,
            "display": null,
            "flex": null,
            "flex_flow": null,
            "grid_area": null,
            "grid_auto_columns": null,
            "grid_auto_flow": null,
            "grid_auto_rows": null,
            "grid_column": null,
            "grid_gap": null,
            "grid_row": null,
            "grid_template_areas": null,
            "grid_template_columns": null,
            "grid_template_rows": null,
            "height": null,
            "justify_content": null,
            "justify_items": null,
            "left": null,
            "margin": null,
            "max_height": null,
            "max_width": null,
            "min_height": null,
            "min_width": null,
            "object_fit": null,
            "object_position": null,
            "order": null,
            "overflow": null,
            "overflow_x": null,
            "overflow_y": null,
            "padding": null,
            "right": null,
            "top": null,
            "visibility": null,
            "width": null
          }
        },
        "06795fb051d84cfba6daf99bc9ceb08a": {
          "model_module": "@jupyter-widgets/controls",
          "model_name": "DescriptionStyleModel",
          "model_module_version": "1.5.0",
          "state": {
            "_model_module": "@jupyter-widgets/controls",
            "_model_module_version": "1.5.0",
            "_model_name": "DescriptionStyleModel",
            "_view_count": null,
            "_view_module": "@jupyter-widgets/base",
            "_view_module_version": "1.2.0",
            "_view_name": "StyleView",
            "description_width": ""
          }
        },
        "af6fb608eac240e5b8da8403359fe293": {
          "model_module": "@jupyter-widgets/base",
          "model_name": "LayoutModel",
          "model_module_version": "1.2.0",
          "state": {
            "_model_module": "@jupyter-widgets/base",
            "_model_module_version": "1.2.0",
            "_model_name": "LayoutModel",
            "_view_count": null,
            "_view_module": "@jupyter-widgets/base",
            "_view_module_version": "1.2.0",
            "_view_name": "LayoutView",
            "align_content": null,
            "align_items": null,
            "align_self": null,
            "border": null,
            "bottom": null,
            "display": null,
            "flex": null,
            "flex_flow": null,
            "grid_area": null,
            "grid_auto_columns": null,
            "grid_auto_flow": null,
            "grid_auto_rows": null,
            "grid_column": null,
            "grid_gap": null,
            "grid_row": null,
            "grid_template_areas": null,
            "grid_template_columns": null,
            "grid_template_rows": null,
            "height": null,
            "justify_content": null,
            "justify_items": null,
            "left": null,
            "margin": null,
            "max_height": null,
            "max_width": null,
            "min_height": null,
            "min_width": null,
            "object_fit": null,
            "object_position": null,
            "order": null,
            "overflow": null,
            "overflow_x": null,
            "overflow_y": null,
            "padding": null,
            "right": null,
            "top": null,
            "visibility": null,
            "width": null
          }
        },
        "682f36c6966948d4a9abb4bee8b5ffed": {
          "model_module": "@jupyter-widgets/controls",
          "model_name": "ProgressStyleModel",
          "model_module_version": "1.5.0",
          "state": {
            "_model_module": "@jupyter-widgets/controls",
            "_model_module_version": "1.5.0",
            "_model_name": "ProgressStyleModel",
            "_view_count": null,
            "_view_module": "@jupyter-widgets/base",
            "_view_module_version": "1.2.0",
            "_view_name": "StyleView",
            "bar_color": null,
            "description_width": ""
          }
        },
        "38f8f877459740de8f741e3740eca800": {
          "model_module": "@jupyter-widgets/base",
          "model_name": "LayoutModel",
          "model_module_version": "1.2.0",
          "state": {
            "_model_module": "@jupyter-widgets/base",
            "_model_module_version": "1.2.0",
            "_model_name": "LayoutModel",
            "_view_count": null,
            "_view_module": "@jupyter-widgets/base",
            "_view_module_version": "1.2.0",
            "_view_name": "LayoutView",
            "align_content": null,
            "align_items": null,
            "align_self": null,
            "border": null,
            "bottom": null,
            "display": null,
            "flex": null,
            "flex_flow": null,
            "grid_area": null,
            "grid_auto_columns": null,
            "grid_auto_flow": null,
            "grid_auto_rows": null,
            "grid_column": null,
            "grid_gap": null,
            "grid_row": null,
            "grid_template_areas": null,
            "grid_template_columns": null,
            "grid_template_rows": null,
            "height": null,
            "justify_content": null,
            "justify_items": null,
            "left": null,
            "margin": null,
            "max_height": null,
            "max_width": null,
            "min_height": null,
            "min_width": null,
            "object_fit": null,
            "object_position": null,
            "order": null,
            "overflow": null,
            "overflow_x": null,
            "overflow_y": null,
            "padding": null,
            "right": null,
            "top": null,
            "visibility": null,
            "width": null
          }
        },
        "0165b7230eb841d3b56732fc5974278f": {
          "model_module": "@jupyter-widgets/controls",
          "model_name": "DescriptionStyleModel",
          "model_module_version": "1.5.0",
          "state": {
            "_model_module": "@jupyter-widgets/controls",
            "_model_module_version": "1.5.0",
            "_model_name": "DescriptionStyleModel",
            "_view_count": null,
            "_view_module": "@jupyter-widgets/base",
            "_view_module_version": "1.2.0",
            "_view_name": "StyleView",
            "description_width": ""
          }
        },
        "d5752d4e0610473e9e14db03e305ea8d": {
          "model_module": "@jupyter-widgets/controls",
          "model_name": "HBoxModel",
          "model_module_version": "1.5.0",
          "state": {
            "_dom_classes": [],
            "_model_module": "@jupyter-widgets/controls",
            "_model_module_version": "1.5.0",
            "_model_name": "HBoxModel",
            "_view_count": null,
            "_view_module": "@jupyter-widgets/controls",
            "_view_module_version": "1.5.0",
            "_view_name": "HBoxView",
            "box_style": "",
            "children": [
              "IPY_MODEL_4e56355d6b364e45a006e7cc93faf863",
              "IPY_MODEL_319fd09a8474438391104b3ce5486ea2",
              "IPY_MODEL_a733b687c86f43d6aa47876411f08b8e"
            ],
            "layout": "IPY_MODEL_2b8832a3663e41ed9fe56195ee5d9193"
          }
        },
        "4e56355d6b364e45a006e7cc93faf863": {
          "model_module": "@jupyter-widgets/controls",
          "model_name": "HTMLModel",
          "model_module_version": "1.5.0",
          "state": {
            "_dom_classes": [],
            "_model_module": "@jupyter-widgets/controls",
            "_model_module_version": "1.5.0",
            "_model_name": "HTMLModel",
            "_view_count": null,
            "_view_module": "@jupyter-widgets/controls",
            "_view_module_version": "1.5.0",
            "_view_name": "HTMLView",
            "description": "",
            "description_tooltip": null,
            "layout": "IPY_MODEL_53f3b551c3314f2bad0542b2e335ac8b",
            "placeholder": "​",
            "style": "IPY_MODEL_cec86717de0a447ba3d52359b7ea0385",
            "value": "Downloading: 100%"
          }
        },
        "319fd09a8474438391104b3ce5486ea2": {
          "model_module": "@jupyter-widgets/controls",
          "model_name": "FloatProgressModel",
          "model_module_version": "1.5.0",
          "state": {
            "_dom_classes": [],
            "_model_module": "@jupyter-widgets/controls",
            "_model_module_version": "1.5.0",
            "_model_name": "FloatProgressModel",
            "_view_count": null,
            "_view_module": "@jupyter-widgets/controls",
            "_view_module_version": "1.5.0",
            "_view_name": "ProgressView",
            "bar_style": "success",
            "description": "",
            "description_tooltip": null,
            "layout": "IPY_MODEL_c8013dc8c740460bacefba683c0b746c",
            "max": 456318,
            "min": 0,
            "orientation": "horizontal",
            "style": "IPY_MODEL_6cb3d7e0e9114c24bbc09028a8204fa9",
            "value": 456318
          }
        },
        "a733b687c86f43d6aa47876411f08b8e": {
          "model_module": "@jupyter-widgets/controls",
          "model_name": "HTMLModel",
          "model_module_version": "1.5.0",
          "state": {
            "_dom_classes": [],
            "_model_module": "@jupyter-widgets/controls",
            "_model_module_version": "1.5.0",
            "_model_name": "HTMLModel",
            "_view_count": null,
            "_view_module": "@jupyter-widgets/controls",
            "_view_module_version": "1.5.0",
            "_view_name": "HTMLView",
            "description": "",
            "description_tooltip": null,
            "layout": "IPY_MODEL_9c7787f861d54e5a85d67be5c7d3ed5d",
            "placeholder": "​",
            "style": "IPY_MODEL_d9f9ac3b00a14d3688562fab02535fad",
            "value": " 446k/446k [00:01&lt;00:00, 493kB/s]"
          }
        },
        "2b8832a3663e41ed9fe56195ee5d9193": {
          "model_module": "@jupyter-widgets/base",
          "model_name": "LayoutModel",
          "model_module_version": "1.2.0",
          "state": {
            "_model_module": "@jupyter-widgets/base",
            "_model_module_version": "1.2.0",
            "_model_name": "LayoutModel",
            "_view_count": null,
            "_view_module": "@jupyter-widgets/base",
            "_view_module_version": "1.2.0",
            "_view_name": "LayoutView",
            "align_content": null,
            "align_items": null,
            "align_self": null,
            "border": null,
            "bottom": null,
            "display": null,
            "flex": null,
            "flex_flow": null,
            "grid_area": null,
            "grid_auto_columns": null,
            "grid_auto_flow": null,
            "grid_auto_rows": null,
            "grid_column": null,
            "grid_gap": null,
            "grid_row": null,
            "grid_template_areas": null,
            "grid_template_columns": null,
            "grid_template_rows": null,
            "height": null,
            "justify_content": null,
            "justify_items": null,
            "left": null,
            "margin": null,
            "max_height": null,
            "max_width": null,
            "min_height": null,
            "min_width": null,
            "object_fit": null,
            "object_position": null,
            "order": null,
            "overflow": null,
            "overflow_x": null,
            "overflow_y": null,
            "padding": null,
            "right": null,
            "top": null,
            "visibility": null,
            "width": null
          }
        },
        "53f3b551c3314f2bad0542b2e335ac8b": {
          "model_module": "@jupyter-widgets/base",
          "model_name": "LayoutModel",
          "model_module_version": "1.2.0",
          "state": {
            "_model_module": "@jupyter-widgets/base",
            "_model_module_version": "1.2.0",
            "_model_name": "LayoutModel",
            "_view_count": null,
            "_view_module": "@jupyter-widgets/base",
            "_view_module_version": "1.2.0",
            "_view_name": "LayoutView",
            "align_content": null,
            "align_items": null,
            "align_self": null,
            "border": null,
            "bottom": null,
            "display": null,
            "flex": null,
            "flex_flow": null,
            "grid_area": null,
            "grid_auto_columns": null,
            "grid_auto_flow": null,
            "grid_auto_rows": null,
            "grid_column": null,
            "grid_gap": null,
            "grid_row": null,
            "grid_template_areas": null,
            "grid_template_columns": null,
            "grid_template_rows": null,
            "height": null,
            "justify_content": null,
            "justify_items": null,
            "left": null,
            "margin": null,
            "max_height": null,
            "max_width": null,
            "min_height": null,
            "min_width": null,
            "object_fit": null,
            "object_position": null,
            "order": null,
            "overflow": null,
            "overflow_x": null,
            "overflow_y": null,
            "padding": null,
            "right": null,
            "top": null,
            "visibility": null,
            "width": null
          }
        },
        "cec86717de0a447ba3d52359b7ea0385": {
          "model_module": "@jupyter-widgets/controls",
          "model_name": "DescriptionStyleModel",
          "model_module_version": "1.5.0",
          "state": {
            "_model_module": "@jupyter-widgets/controls",
            "_model_module_version": "1.5.0",
            "_model_name": "DescriptionStyleModel",
            "_view_count": null,
            "_view_module": "@jupyter-widgets/base",
            "_view_module_version": "1.2.0",
            "_view_name": "StyleView",
            "description_width": ""
          }
        },
        "c8013dc8c740460bacefba683c0b746c": {
          "model_module": "@jupyter-widgets/base",
          "model_name": "LayoutModel",
          "model_module_version": "1.2.0",
          "state": {
            "_model_module": "@jupyter-widgets/base",
            "_model_module_version": "1.2.0",
            "_model_name": "LayoutModel",
            "_view_count": null,
            "_view_module": "@jupyter-widgets/base",
            "_view_module_version": "1.2.0",
            "_view_name": "LayoutView",
            "align_content": null,
            "align_items": null,
            "align_self": null,
            "border": null,
            "bottom": null,
            "display": null,
            "flex": null,
            "flex_flow": null,
            "grid_area": null,
            "grid_auto_columns": null,
            "grid_auto_flow": null,
            "grid_auto_rows": null,
            "grid_column": null,
            "grid_gap": null,
            "grid_row": null,
            "grid_template_areas": null,
            "grid_template_columns": null,
            "grid_template_rows": null,
            "height": null,
            "justify_content": null,
            "justify_items": null,
            "left": null,
            "margin": null,
            "max_height": null,
            "max_width": null,
            "min_height": null,
            "min_width": null,
            "object_fit": null,
            "object_position": null,
            "order": null,
            "overflow": null,
            "overflow_x": null,
            "overflow_y": null,
            "padding": null,
            "right": null,
            "top": null,
            "visibility": null,
            "width": null
          }
        },
        "6cb3d7e0e9114c24bbc09028a8204fa9": {
          "model_module": "@jupyter-widgets/controls",
          "model_name": "ProgressStyleModel",
          "model_module_version": "1.5.0",
          "state": {
            "_model_module": "@jupyter-widgets/controls",
            "_model_module_version": "1.5.0",
            "_model_name": "ProgressStyleModel",
            "_view_count": null,
            "_view_module": "@jupyter-widgets/base",
            "_view_module_version": "1.2.0",
            "_view_name": "StyleView",
            "bar_color": null,
            "description_width": ""
          }
        },
        "9c7787f861d54e5a85d67be5c7d3ed5d": {
          "model_module": "@jupyter-widgets/base",
          "model_name": "LayoutModel",
          "model_module_version": "1.2.0",
          "state": {
            "_model_module": "@jupyter-widgets/base",
            "_model_module_version": "1.2.0",
            "_model_name": "LayoutModel",
            "_view_count": null,
            "_view_module": "@jupyter-widgets/base",
            "_view_module_version": "1.2.0",
            "_view_name": "LayoutView",
            "align_content": null,
            "align_items": null,
            "align_self": null,
            "border": null,
            "bottom": null,
            "display": null,
            "flex": null,
            "flex_flow": null,
            "grid_area": null,
            "grid_auto_columns": null,
            "grid_auto_flow": null,
            "grid_auto_rows": null,
            "grid_column": null,
            "grid_gap": null,
            "grid_row": null,
            "grid_template_areas": null,
            "grid_template_columns": null,
            "grid_template_rows": null,
            "height": null,
            "justify_content": null,
            "justify_items": null,
            "left": null,
            "margin": null,
            "max_height": null,
            "max_width": null,
            "min_height": null,
            "min_width": null,
            "object_fit": null,
            "object_position": null,
            "order": null,
            "overflow": null,
            "overflow_x": null,
            "overflow_y": null,
            "padding": null,
            "right": null,
            "top": null,
            "visibility": null,
            "width": null
          }
        },
        "d9f9ac3b00a14d3688562fab02535fad": {
          "model_module": "@jupyter-widgets/controls",
          "model_name": "DescriptionStyleModel",
          "model_module_version": "1.5.0",
          "state": {
            "_model_module": "@jupyter-widgets/controls",
            "_model_module_version": "1.5.0",
            "_model_name": "DescriptionStyleModel",
            "_view_count": null,
            "_view_module": "@jupyter-widgets/base",
            "_view_module_version": "1.2.0",
            "_view_name": "StyleView",
            "description_width": ""
          }
        },
        "94efdbe2e92e4716bc8276a17a4946bf": {
          "model_module": "@jupyter-widgets/controls",
          "model_name": "HBoxModel",
          "model_module_version": "1.5.0",
          "state": {
            "_dom_classes": [],
            "_model_module": "@jupyter-widgets/controls",
            "_model_module_version": "1.5.0",
            "_model_name": "HBoxModel",
            "_view_count": null,
            "_view_module": "@jupyter-widgets/controls",
            "_view_module_version": "1.5.0",
            "_view_name": "HBoxView",
            "box_style": "",
            "children": [
              "IPY_MODEL_c827cdc74d834efaba7eeb8f5174ff08",
              "IPY_MODEL_b7226820aac745e4ba8b63e2d217cfed",
              "IPY_MODEL_8e652897b81348cfa12a7f6472dabf40"
            ],
            "layout": "IPY_MODEL_891df28ba5ce4f22889060a4e79e47ea"
          }
        },
        "c827cdc74d834efaba7eeb8f5174ff08": {
          "model_module": "@jupyter-widgets/controls",
          "model_name": "HTMLModel",
          "model_module_version": "1.5.0",
          "state": {
            "_dom_classes": [],
            "_model_module": "@jupyter-widgets/controls",
            "_model_module_version": "1.5.0",
            "_model_name": "HTMLModel",
            "_view_count": null,
            "_view_module": "@jupyter-widgets/controls",
            "_view_module_version": "1.5.0",
            "_view_name": "HTMLView",
            "description": "",
            "description_tooltip": null,
            "layout": "IPY_MODEL_57e3e27fd5ee4c46a58ffd1ae79b8c8c",
            "placeholder": "​",
            "style": "IPY_MODEL_a9723f58a26143b5a09ed81f22d2771f",
            "value": "Downloading: 100%"
          }
        },
        "b7226820aac745e4ba8b63e2d217cfed": {
          "model_module": "@jupyter-widgets/controls",
          "model_name": "FloatProgressModel",
          "model_module_version": "1.5.0",
          "state": {
            "_dom_classes": [],
            "_model_module": "@jupyter-widgets/controls",
            "_model_module_version": "1.5.0",
            "_model_name": "FloatProgressModel",
            "_view_count": null,
            "_view_module": "@jupyter-widgets/controls",
            "_view_module_version": "1.5.0",
            "_view_name": "ProgressView",
            "bar_style": "success",
            "description": "",
            "description_tooltip": null,
            "layout": "IPY_MODEL_222b89eb161242b38dbab61a1b2d391c",
            "max": 1355863,
            "min": 0,
            "orientation": "horizontal",
            "style": "IPY_MODEL_2ccc2e3e271046eebecbad4ba8f045f8",
            "value": 1355863
          }
        },
        "8e652897b81348cfa12a7f6472dabf40": {
          "model_module": "@jupyter-widgets/controls",
          "model_name": "HTMLModel",
          "model_module_version": "1.5.0",
          "state": {
            "_dom_classes": [],
            "_model_module": "@jupyter-widgets/controls",
            "_model_module_version": "1.5.0",
            "_model_name": "HTMLModel",
            "_view_count": null,
            "_view_module": "@jupyter-widgets/controls",
            "_view_module_version": "1.5.0",
            "_view_name": "HTMLView",
            "description": "",
            "description_tooltip": null,
            "layout": "IPY_MODEL_b8bce0ed971b45d18f1a55e031f383d9",
            "placeholder": "​",
            "style": "IPY_MODEL_3f0f0ac6483b4532805bf736894f454d",
            "value": " 1.29M/1.29M [00:01&lt;00:00, 868kB/s]"
          }
        },
        "891df28ba5ce4f22889060a4e79e47ea": {
          "model_module": "@jupyter-widgets/base",
          "model_name": "LayoutModel",
          "model_module_version": "1.2.0",
          "state": {
            "_model_module": "@jupyter-widgets/base",
            "_model_module_version": "1.2.0",
            "_model_name": "LayoutModel",
            "_view_count": null,
            "_view_module": "@jupyter-widgets/base",
            "_view_module_version": "1.2.0",
            "_view_name": "LayoutView",
            "align_content": null,
            "align_items": null,
            "align_self": null,
            "border": null,
            "bottom": null,
            "display": null,
            "flex": null,
            "flex_flow": null,
            "grid_area": null,
            "grid_auto_columns": null,
            "grid_auto_flow": null,
            "grid_auto_rows": null,
            "grid_column": null,
            "grid_gap": null,
            "grid_row": null,
            "grid_template_areas": null,
            "grid_template_columns": null,
            "grid_template_rows": null,
            "height": null,
            "justify_content": null,
            "justify_items": null,
            "left": null,
            "margin": null,
            "max_height": null,
            "max_width": null,
            "min_height": null,
            "min_width": null,
            "object_fit": null,
            "object_position": null,
            "order": null,
            "overflow": null,
            "overflow_x": null,
            "overflow_y": null,
            "padding": null,
            "right": null,
            "top": null,
            "visibility": null,
            "width": null
          }
        },
        "57e3e27fd5ee4c46a58ffd1ae79b8c8c": {
          "model_module": "@jupyter-widgets/base",
          "model_name": "LayoutModel",
          "model_module_version": "1.2.0",
          "state": {
            "_model_module": "@jupyter-widgets/base",
            "_model_module_version": "1.2.0",
            "_model_name": "LayoutModel",
            "_view_count": null,
            "_view_module": "@jupyter-widgets/base",
            "_view_module_version": "1.2.0",
            "_view_name": "LayoutView",
            "align_content": null,
            "align_items": null,
            "align_self": null,
            "border": null,
            "bottom": null,
            "display": null,
            "flex": null,
            "flex_flow": null,
            "grid_area": null,
            "grid_auto_columns": null,
            "grid_auto_flow": null,
            "grid_auto_rows": null,
            "grid_column": null,
            "grid_gap": null,
            "grid_row": null,
            "grid_template_areas": null,
            "grid_template_columns": null,
            "grid_template_rows": null,
            "height": null,
            "justify_content": null,
            "justify_items": null,
            "left": null,
            "margin": null,
            "max_height": null,
            "max_width": null,
            "min_height": null,
            "min_width": null,
            "object_fit": null,
            "object_position": null,
            "order": null,
            "overflow": null,
            "overflow_x": null,
            "overflow_y": null,
            "padding": null,
            "right": null,
            "top": null,
            "visibility": null,
            "width": null
          }
        },
        "a9723f58a26143b5a09ed81f22d2771f": {
          "model_module": "@jupyter-widgets/controls",
          "model_name": "DescriptionStyleModel",
          "model_module_version": "1.5.0",
          "state": {
            "_model_module": "@jupyter-widgets/controls",
            "_model_module_version": "1.5.0",
            "_model_name": "DescriptionStyleModel",
            "_view_count": null,
            "_view_module": "@jupyter-widgets/base",
            "_view_module_version": "1.2.0",
            "_view_name": "StyleView",
            "description_width": ""
          }
        },
        "222b89eb161242b38dbab61a1b2d391c": {
          "model_module": "@jupyter-widgets/base",
          "model_name": "LayoutModel",
          "model_module_version": "1.2.0",
          "state": {
            "_model_module": "@jupyter-widgets/base",
            "_model_module_version": "1.2.0",
            "_model_name": "LayoutModel",
            "_view_count": null,
            "_view_module": "@jupyter-widgets/base",
            "_view_module_version": "1.2.0",
            "_view_name": "LayoutView",
            "align_content": null,
            "align_items": null,
            "align_self": null,
            "border": null,
            "bottom": null,
            "display": null,
            "flex": null,
            "flex_flow": null,
            "grid_area": null,
            "grid_auto_columns": null,
            "grid_auto_flow": null,
            "grid_auto_rows": null,
            "grid_column": null,
            "grid_gap": null,
            "grid_row": null,
            "grid_template_areas": null,
            "grid_template_columns": null,
            "grid_template_rows": null,
            "height": null,
            "justify_content": null,
            "justify_items": null,
            "left": null,
            "margin": null,
            "max_height": null,
            "max_width": null,
            "min_height": null,
            "min_width": null,
            "object_fit": null,
            "object_position": null,
            "order": null,
            "overflow": null,
            "overflow_x": null,
            "overflow_y": null,
            "padding": null,
            "right": null,
            "top": null,
            "visibility": null,
            "width": null
          }
        },
        "2ccc2e3e271046eebecbad4ba8f045f8": {
          "model_module": "@jupyter-widgets/controls",
          "model_name": "ProgressStyleModel",
          "model_module_version": "1.5.0",
          "state": {
            "_model_module": "@jupyter-widgets/controls",
            "_model_module_version": "1.5.0",
            "_model_name": "ProgressStyleModel",
            "_view_count": null,
            "_view_module": "@jupyter-widgets/base",
            "_view_module_version": "1.2.0",
            "_view_name": "StyleView",
            "bar_color": null,
            "description_width": ""
          }
        },
        "b8bce0ed971b45d18f1a55e031f383d9": {
          "model_module": "@jupyter-widgets/base",
          "model_name": "LayoutModel",
          "model_module_version": "1.2.0",
          "state": {
            "_model_module": "@jupyter-widgets/base",
            "_model_module_version": "1.2.0",
            "_model_name": "LayoutModel",
            "_view_count": null,
            "_view_module": "@jupyter-widgets/base",
            "_view_module_version": "1.2.0",
            "_view_name": "LayoutView",
            "align_content": null,
            "align_items": null,
            "align_self": null,
            "border": null,
            "bottom": null,
            "display": null,
            "flex": null,
            "flex_flow": null,
            "grid_area": null,
            "grid_auto_columns": null,
            "grid_auto_flow": null,
            "grid_auto_rows": null,
            "grid_column": null,
            "grid_gap": null,
            "grid_row": null,
            "grid_template_areas": null,
            "grid_template_columns": null,
            "grid_template_rows": null,
            "height": null,
            "justify_content": null,
            "justify_items": null,
            "left": null,
            "margin": null,
            "max_height": null,
            "max_width": null,
            "min_height": null,
            "min_width": null,
            "object_fit": null,
            "object_position": null,
            "order": null,
            "overflow": null,
            "overflow_x": null,
            "overflow_y": null,
            "padding": null,
            "right": null,
            "top": null,
            "visibility": null,
            "width": null
          }
        },
        "3f0f0ac6483b4532805bf736894f454d": {
          "model_module": "@jupyter-widgets/controls",
          "model_name": "DescriptionStyleModel",
          "model_module_version": "1.5.0",
          "state": {
            "_model_module": "@jupyter-widgets/controls",
            "_model_module_version": "1.5.0",
            "_model_name": "DescriptionStyleModel",
            "_view_count": null,
            "_view_module": "@jupyter-widgets/base",
            "_view_module_version": "1.2.0",
            "_view_name": "StyleView",
            "description_width": ""
          }
        },
        "292d2133fef34a6ea174def58053d2ee": {
          "model_module": "@jupyter-widgets/controls",
          "model_name": "HBoxModel",
          "model_module_version": "1.5.0",
          "state": {
            "_dom_classes": [],
            "_model_module": "@jupyter-widgets/controls",
            "_model_module_version": "1.5.0",
            "_model_name": "HBoxModel",
            "_view_count": null,
            "_view_module": "@jupyter-widgets/controls",
            "_view_module_version": "1.5.0",
            "_view_name": "HBoxView",
            "box_style": "",
            "children": [
              "IPY_MODEL_125f9dfac7c2489bbad8c61571981e5c",
              "IPY_MODEL_10e42083767f4d4ba0b4d6e444eba08c",
              "IPY_MODEL_589b987d880d41f1a75af49f6982d8c0"
            ],
            "layout": "IPY_MODEL_89e3070e860d417b889bcc87e1be565f"
          }
        },
        "125f9dfac7c2489bbad8c61571981e5c": {
          "model_module": "@jupyter-widgets/controls",
          "model_name": "HTMLModel",
          "model_module_version": "1.5.0",
          "state": {
            "_dom_classes": [],
            "_model_module": "@jupyter-widgets/controls",
            "_model_module_version": "1.5.0",
            "_model_name": "HTMLModel",
            "_view_count": null,
            "_view_module": "@jupyter-widgets/controls",
            "_view_module_version": "1.5.0",
            "_view_name": "HTMLView",
            "description": "",
            "description_tooltip": null,
            "layout": "IPY_MODEL_8eb3238106cc43d299d4955e62537b53",
            "placeholder": "​",
            "style": "IPY_MODEL_f069a22f875446aab5862565efdbd2fb",
            "value": "Downloading: 100%"
          }
        },
        "10e42083767f4d4ba0b4d6e444eba08c": {
          "model_module": "@jupyter-widgets/controls",
          "model_name": "FloatProgressModel",
          "model_module_version": "1.5.0",
          "state": {
            "_dom_classes": [],
            "_model_module": "@jupyter-widgets/controls",
            "_model_module_version": "1.5.0",
            "_model_name": "FloatProgressModel",
            "_view_count": null,
            "_view_module": "@jupyter-widgets/controls",
            "_view_module_version": "1.5.0",
            "_view_name": "ProgressView",
            "bar_style": "success",
            "description": "",
            "description_tooltip": null,
            "layout": "IPY_MODEL_98d2cdf34fe74d7a93a940b173bcd472",
            "max": 664,
            "min": 0,
            "orientation": "horizontal",
            "style": "IPY_MODEL_3199f45120014a9190b912b3f859af51",
            "value": 664
          }
        },
        "589b987d880d41f1a75af49f6982d8c0": {
          "model_module": "@jupyter-widgets/controls",
          "model_name": "HTMLModel",
          "model_module_version": "1.5.0",
          "state": {
            "_dom_classes": [],
            "_model_module": "@jupyter-widgets/controls",
            "_model_module_version": "1.5.0",
            "_model_name": "HTMLModel",
            "_view_count": null,
            "_view_module": "@jupyter-widgets/controls",
            "_view_module_version": "1.5.0",
            "_view_name": "HTMLView",
            "description": "",
            "description_tooltip": null,
            "layout": "IPY_MODEL_ea92d273ffaa42dea2acebee061d436a",
            "placeholder": "​",
            "style": "IPY_MODEL_811e2eba9fa44ecc9c0e7bd7e7fd5579",
            "value": " 664/664 [00:00&lt;00:00, 4.13kB/s]"
          }
        },
        "89e3070e860d417b889bcc87e1be565f": {
          "model_module": "@jupyter-widgets/base",
          "model_name": "LayoutModel",
          "model_module_version": "1.2.0",
          "state": {
            "_model_module": "@jupyter-widgets/base",
            "_model_module_version": "1.2.0",
            "_model_name": "LayoutModel",
            "_view_count": null,
            "_view_module": "@jupyter-widgets/base",
            "_view_module_version": "1.2.0",
            "_view_name": "LayoutView",
            "align_content": null,
            "align_items": null,
            "align_self": null,
            "border": null,
            "bottom": null,
            "display": null,
            "flex": null,
            "flex_flow": null,
            "grid_area": null,
            "grid_auto_columns": null,
            "grid_auto_flow": null,
            "grid_auto_rows": null,
            "grid_column": null,
            "grid_gap": null,
            "grid_row": null,
            "grid_template_areas": null,
            "grid_template_columns": null,
            "grid_template_rows": null,
            "height": null,
            "justify_content": null,
            "justify_items": null,
            "left": null,
            "margin": null,
            "max_height": null,
            "max_width": null,
            "min_height": null,
            "min_width": null,
            "object_fit": null,
            "object_position": null,
            "order": null,
            "overflow": null,
            "overflow_x": null,
            "overflow_y": null,
            "padding": null,
            "right": null,
            "top": null,
            "visibility": null,
            "width": null
          }
        },
        "8eb3238106cc43d299d4955e62537b53": {
          "model_module": "@jupyter-widgets/base",
          "model_name": "LayoutModel",
          "model_module_version": "1.2.0",
          "state": {
            "_model_module": "@jupyter-widgets/base",
            "_model_module_version": "1.2.0",
            "_model_name": "LayoutModel",
            "_view_count": null,
            "_view_module": "@jupyter-widgets/base",
            "_view_module_version": "1.2.0",
            "_view_name": "LayoutView",
            "align_content": null,
            "align_items": null,
            "align_self": null,
            "border": null,
            "bottom": null,
            "display": null,
            "flex": null,
            "flex_flow": null,
            "grid_area": null,
            "grid_auto_columns": null,
            "grid_auto_flow": null,
            "grid_auto_rows": null,
            "grid_column": null,
            "grid_gap": null,
            "grid_row": null,
            "grid_template_areas": null,
            "grid_template_columns": null,
            "grid_template_rows": null,
            "height": null,
            "justify_content": null,
            "justify_items": null,
            "left": null,
            "margin": null,
            "max_height": null,
            "max_width": null,
            "min_height": null,
            "min_width": null,
            "object_fit": null,
            "object_position": null,
            "order": null,
            "overflow": null,
            "overflow_x": null,
            "overflow_y": null,
            "padding": null,
            "right": null,
            "top": null,
            "visibility": null,
            "width": null
          }
        },
        "f069a22f875446aab5862565efdbd2fb": {
          "model_module": "@jupyter-widgets/controls",
          "model_name": "DescriptionStyleModel",
          "model_module_version": "1.5.0",
          "state": {
            "_model_module": "@jupyter-widgets/controls",
            "_model_module_version": "1.5.0",
            "_model_name": "DescriptionStyleModel",
            "_view_count": null,
            "_view_module": "@jupyter-widgets/base",
            "_view_module_version": "1.2.0",
            "_view_name": "StyleView",
            "description_width": ""
          }
        },
        "98d2cdf34fe74d7a93a940b173bcd472": {
          "model_module": "@jupyter-widgets/base",
          "model_name": "LayoutModel",
          "model_module_version": "1.2.0",
          "state": {
            "_model_module": "@jupyter-widgets/base",
            "_model_module_version": "1.2.0",
            "_model_name": "LayoutModel",
            "_view_count": null,
            "_view_module": "@jupyter-widgets/base",
            "_view_module_version": "1.2.0",
            "_view_name": "LayoutView",
            "align_content": null,
            "align_items": null,
            "align_self": null,
            "border": null,
            "bottom": null,
            "display": null,
            "flex": null,
            "flex_flow": null,
            "grid_area": null,
            "grid_auto_columns": null,
            "grid_auto_flow": null,
            "grid_auto_rows": null,
            "grid_column": null,
            "grid_gap": null,
            "grid_row": null,
            "grid_template_areas": null,
            "grid_template_columns": null,
            "grid_template_rows": null,
            "height": null,
            "justify_content": null,
            "justify_items": null,
            "left": null,
            "margin": null,
            "max_height": null,
            "max_width": null,
            "min_height": null,
            "min_width": null,
            "object_fit": null,
            "object_position": null,
            "order": null,
            "overflow": null,
            "overflow_x": null,
            "overflow_y": null,
            "padding": null,
            "right": null,
            "top": null,
            "visibility": null,
            "width": null
          }
        },
        "3199f45120014a9190b912b3f859af51": {
          "model_module": "@jupyter-widgets/controls",
          "model_name": "ProgressStyleModel",
          "model_module_version": "1.5.0",
          "state": {
            "_model_module": "@jupyter-widgets/controls",
            "_model_module_version": "1.5.0",
            "_model_name": "ProgressStyleModel",
            "_view_count": null,
            "_view_module": "@jupyter-widgets/base",
            "_view_module_version": "1.2.0",
            "_view_name": "StyleView",
            "bar_color": null,
            "description_width": ""
          }
        },
        "ea92d273ffaa42dea2acebee061d436a": {
          "model_module": "@jupyter-widgets/base",
          "model_name": "LayoutModel",
          "model_module_version": "1.2.0",
          "state": {
            "_model_module": "@jupyter-widgets/base",
            "_model_module_version": "1.2.0",
            "_model_name": "LayoutModel",
            "_view_count": null,
            "_view_module": "@jupyter-widgets/base",
            "_view_module_version": "1.2.0",
            "_view_name": "LayoutView",
            "align_content": null,
            "align_items": null,
            "align_self": null,
            "border": null,
            "bottom": null,
            "display": null,
            "flex": null,
            "flex_flow": null,
            "grid_area": null,
            "grid_auto_columns": null,
            "grid_auto_flow": null,
            "grid_auto_rows": null,
            "grid_column": null,
            "grid_gap": null,
            "grid_row": null,
            "grid_template_areas": null,
            "grid_template_columns": null,
            "grid_template_rows": null,
            "height": null,
            "justify_content": null,
            "justify_items": null,
            "left": null,
            "margin": null,
            "max_height": null,
            "max_width": null,
            "min_height": null,
            "min_width": null,
            "object_fit": null,
            "object_position": null,
            "order": null,
            "overflow": null,
            "overflow_x": null,
            "overflow_y": null,
            "padding": null,
            "right": null,
            "top": null,
            "visibility": null,
            "width": null
          }
        },
        "811e2eba9fa44ecc9c0e7bd7e7fd5579": {
          "model_module": "@jupyter-widgets/controls",
          "model_name": "DescriptionStyleModel",
          "model_module_version": "1.5.0",
          "state": {
            "_model_module": "@jupyter-widgets/controls",
            "_model_module_version": "1.5.0",
            "_model_name": "DescriptionStyleModel",
            "_view_count": null,
            "_view_module": "@jupyter-widgets/base",
            "_view_module_version": "1.2.0",
            "_view_name": "StyleView",
            "description_width": ""
          }
        },
        "be1dd06b086a4925910dbd806ef6fc12": {
          "model_module": "@jupyter-widgets/controls",
          "model_name": "HBoxModel",
          "model_module_version": "1.5.0",
          "state": {
            "_dom_classes": [],
            "_model_module": "@jupyter-widgets/controls",
            "_model_module_version": "1.5.0",
            "_model_name": "HBoxModel",
            "_view_count": null,
            "_view_module": "@jupyter-widgets/controls",
            "_view_module_version": "1.5.0",
            "_view_name": "HBoxView",
            "box_style": "",
            "children": [
              "IPY_MODEL_a0a07e61acb5443480d5f3ef1205c7d8",
              "IPY_MODEL_b3638cfd06634c3381f1d19e6dce9cd2",
              "IPY_MODEL_d1991a30497c48fa9c11a9ab2e533b74"
            ],
            "layout": "IPY_MODEL_fc68455474f94be3bd37e8ea565cf4d1"
          }
        },
        "a0a07e61acb5443480d5f3ef1205c7d8": {
          "model_module": "@jupyter-widgets/controls",
          "model_name": "HTMLModel",
          "model_module_version": "1.5.0",
          "state": {
            "_dom_classes": [],
            "_model_module": "@jupyter-widgets/controls",
            "_model_module_version": "1.5.0",
            "_model_name": "HTMLModel",
            "_view_count": null,
            "_view_module": "@jupyter-widgets/controls",
            "_view_module_version": "1.5.0",
            "_view_name": "HTMLView",
            "description": "",
            "description_tooltip": null,
            "layout": "IPY_MODEL_d9062bc6f5704c7abe2d7c2ae1bbb018",
            "placeholder": "​",
            "style": "IPY_MODEL_35700b0d3f414c8596594be3692babf6",
            "value": "Downloading: 100%"
          }
        },
        "b3638cfd06634c3381f1d19e6dce9cd2": {
          "model_module": "@jupyter-widgets/controls",
          "model_name": "FloatProgressModel",
          "model_module_version": "1.5.0",
          "state": {
            "_dom_classes": [],
            "_model_module": "@jupyter-widgets/controls",
            "_model_module_version": "1.5.0",
            "_model_name": "FloatProgressModel",
            "_view_count": null,
            "_view_module": "@jupyter-widgets/controls",
            "_view_module_version": "1.5.0",
            "_view_name": "ProgressView",
            "bar_style": "success",
            "description": "",
            "description_tooltip": null,
            "layout": "IPY_MODEL_00732d8f4ea34b879d5a22de46ee3d21",
            "max": 498878336,
            "min": 0,
            "orientation": "horizontal",
            "style": "IPY_MODEL_80e38e4c788d4586b3af959081f5446f",
            "value": 498878336
          }
        },
        "d1991a30497c48fa9c11a9ab2e533b74": {
          "model_module": "@jupyter-widgets/controls",
          "model_name": "HTMLModel",
          "model_module_version": "1.5.0",
          "state": {
            "_dom_classes": [],
            "_model_module": "@jupyter-widgets/controls",
            "_model_module_version": "1.5.0",
            "_model_name": "HTMLModel",
            "_view_count": null,
            "_view_module": "@jupyter-widgets/controls",
            "_view_module_version": "1.5.0",
            "_view_name": "HTMLView",
            "description": "",
            "description_tooltip": null,
            "layout": "IPY_MODEL_5d92a2a4c8154331937a259440ddf204",
            "placeholder": "​",
            "style": "IPY_MODEL_f7953fb84db24d219d36b108e30b0790",
            "value": " 476M/476M [00:20&lt;00:00, 13.3MB/s]"
          }
        },
        "fc68455474f94be3bd37e8ea565cf4d1": {
          "model_module": "@jupyter-widgets/base",
          "model_name": "LayoutModel",
          "model_module_version": "1.2.0",
          "state": {
            "_model_module": "@jupyter-widgets/base",
            "_model_module_version": "1.2.0",
            "_model_name": "LayoutModel",
            "_view_count": null,
            "_view_module": "@jupyter-widgets/base",
            "_view_module_version": "1.2.0",
            "_view_name": "LayoutView",
            "align_content": null,
            "align_items": null,
            "align_self": null,
            "border": null,
            "bottom": null,
            "display": null,
            "flex": null,
            "flex_flow": null,
            "grid_area": null,
            "grid_auto_columns": null,
            "grid_auto_flow": null,
            "grid_auto_rows": null,
            "grid_column": null,
            "grid_gap": null,
            "grid_row": null,
            "grid_template_areas": null,
            "grid_template_columns": null,
            "grid_template_rows": null,
            "height": null,
            "justify_content": null,
            "justify_items": null,
            "left": null,
            "margin": null,
            "max_height": null,
            "max_width": null,
            "min_height": null,
            "min_width": null,
            "object_fit": null,
            "object_position": null,
            "order": null,
            "overflow": null,
            "overflow_x": null,
            "overflow_y": null,
            "padding": null,
            "right": null,
            "top": null,
            "visibility": null,
            "width": null
          }
        },
        "d9062bc6f5704c7abe2d7c2ae1bbb018": {
          "model_module": "@jupyter-widgets/base",
          "model_name": "LayoutModel",
          "model_module_version": "1.2.0",
          "state": {
            "_model_module": "@jupyter-widgets/base",
            "_model_module_version": "1.2.0",
            "_model_name": "LayoutModel",
            "_view_count": null,
            "_view_module": "@jupyter-widgets/base",
            "_view_module_version": "1.2.0",
            "_view_name": "LayoutView",
            "align_content": null,
            "align_items": null,
            "align_self": null,
            "border": null,
            "bottom": null,
            "display": null,
            "flex": null,
            "flex_flow": null,
            "grid_area": null,
            "grid_auto_columns": null,
            "grid_auto_flow": null,
            "grid_auto_rows": null,
            "grid_column": null,
            "grid_gap": null,
            "grid_row": null,
            "grid_template_areas": null,
            "grid_template_columns": null,
            "grid_template_rows": null,
            "height": null,
            "justify_content": null,
            "justify_items": null,
            "left": null,
            "margin": null,
            "max_height": null,
            "max_width": null,
            "min_height": null,
            "min_width": null,
            "object_fit": null,
            "object_position": null,
            "order": null,
            "overflow": null,
            "overflow_x": null,
            "overflow_y": null,
            "padding": null,
            "right": null,
            "top": null,
            "visibility": null,
            "width": null
          }
        },
        "35700b0d3f414c8596594be3692babf6": {
          "model_module": "@jupyter-widgets/controls",
          "model_name": "DescriptionStyleModel",
          "model_module_version": "1.5.0",
          "state": {
            "_model_module": "@jupyter-widgets/controls",
            "_model_module_version": "1.5.0",
            "_model_name": "DescriptionStyleModel",
            "_view_count": null,
            "_view_module": "@jupyter-widgets/base",
            "_view_module_version": "1.2.0",
            "_view_name": "StyleView",
            "description_width": ""
          }
        },
        "00732d8f4ea34b879d5a22de46ee3d21": {
          "model_module": "@jupyter-widgets/base",
          "model_name": "LayoutModel",
          "model_module_version": "1.2.0",
          "state": {
            "_model_module": "@jupyter-widgets/base",
            "_model_module_version": "1.2.0",
            "_model_name": "LayoutModel",
            "_view_count": null,
            "_view_module": "@jupyter-widgets/base",
            "_view_module_version": "1.2.0",
            "_view_name": "LayoutView",
            "align_content": null,
            "align_items": null,
            "align_self": null,
            "border": null,
            "bottom": null,
            "display": null,
            "flex": null,
            "flex_flow": null,
            "grid_area": null,
            "grid_auto_columns": null,
            "grid_auto_flow": null,
            "grid_auto_rows": null,
            "grid_column": null,
            "grid_gap": null,
            "grid_row": null,
            "grid_template_areas": null,
            "grid_template_columns": null,
            "grid_template_rows": null,
            "height": null,
            "justify_content": null,
            "justify_items": null,
            "left": null,
            "margin": null,
            "max_height": null,
            "max_width": null,
            "min_height": null,
            "min_width": null,
            "object_fit": null,
            "object_position": null,
            "order": null,
            "overflow": null,
            "overflow_x": null,
            "overflow_y": null,
            "padding": null,
            "right": null,
            "top": null,
            "visibility": null,
            "width": null
          }
        },
        "80e38e4c788d4586b3af959081f5446f": {
          "model_module": "@jupyter-widgets/controls",
          "model_name": "ProgressStyleModel",
          "model_module_version": "1.5.0",
          "state": {
            "_model_module": "@jupyter-widgets/controls",
            "_model_module_version": "1.5.0",
            "_model_name": "ProgressStyleModel",
            "_view_count": null,
            "_view_module": "@jupyter-widgets/base",
            "_view_module_version": "1.2.0",
            "_view_name": "StyleView",
            "bar_color": null,
            "description_width": ""
          }
        },
        "5d92a2a4c8154331937a259440ddf204": {
          "model_module": "@jupyter-widgets/base",
          "model_name": "LayoutModel",
          "model_module_version": "1.2.0",
          "state": {
            "_model_module": "@jupyter-widgets/base",
            "_model_module_version": "1.2.0",
            "_model_name": "LayoutModel",
            "_view_count": null,
            "_view_module": "@jupyter-widgets/base",
            "_view_module_version": "1.2.0",
            "_view_name": "LayoutView",
            "align_content": null,
            "align_items": null,
            "align_self": null,
            "border": null,
            "bottom": null,
            "display": null,
            "flex": null,
            "flex_flow": null,
            "grid_area": null,
            "grid_auto_columns": null,
            "grid_auto_flow": null,
            "grid_auto_rows": null,
            "grid_column": null,
            "grid_gap": null,
            "grid_row": null,
            "grid_template_areas": null,
            "grid_template_columns": null,
            "grid_template_rows": null,
            "height": null,
            "justify_content": null,
            "justify_items": null,
            "left": null,
            "margin": null,
            "max_height": null,
            "max_width": null,
            "min_height": null,
            "min_width": null,
            "object_fit": null,
            "object_position": null,
            "order": null,
            "overflow": null,
            "overflow_x": null,
            "overflow_y": null,
            "padding": null,
            "right": null,
            "top": null,
            "visibility": null,
            "width": null
          }
        },
        "f7953fb84db24d219d36b108e30b0790": {
          "model_module": "@jupyter-widgets/controls",
          "model_name": "DescriptionStyleModel",
          "model_module_version": "1.5.0",
          "state": {
            "_model_module": "@jupyter-widgets/controls",
            "_model_module_version": "1.5.0",
            "_model_name": "DescriptionStyleModel",
            "_view_count": null,
            "_view_module": "@jupyter-widgets/base",
            "_view_module_version": "1.2.0",
            "_view_name": "StyleView",
            "description_width": ""
          }
        }
      }
    }
  },
  "cells": [
    {
      "cell_type": "markdown",
      "source": [
        "# Import data set"
      ],
      "metadata": {
        "id": "oxwV58Rgly39"
      }
    },
    {
      "cell_type": "code",
      "source": [
        "import pandas as pd\n",
        "import numpy as np\n",
        "from sklearn.metrics import confusion_matrix\n",
        "from sklearn.metrics import classification_report\n"
      ],
      "metadata": {
        "id": "8lh_QpHQdGsI"
      },
      "execution_count": 1,
      "outputs": []
    },
    {
      "cell_type": "code",
      "execution_count": 2,
      "metadata": {
        "id": "boe3TnY-bGM5"
      },
      "outputs": [],
      "source": [
        "feats_to_keep = ['num_likes', 'text_str']"
      ]
    },
    {
      "cell_type": "code",
      "source": [
        "from google.colab import drive\n",
        "drive.mount('/content/drive')"
      ],
      "metadata": {
        "colab": {
          "base_uri": "https://localhost:8080/"
        },
        "id": "F3qSsyHwbQ4H",
        "outputId": "828dd7df-cdd6-41cb-baea-aa92a206dc8e"
      },
      "execution_count": 3,
      "outputs": [
        {
          "output_type": "stream",
          "name": "stdout",
          "text": [
            "Mounted at /content/drive\n"
          ]
        }
      ]
    },
    {
      "cell_type": "code",
      "source": [
        "df = pd.read_csv(\"drive/MyDrive/story_data_new_feats.csv\", \n",
        "                 usecols=feats_to_keep)"
      ],
      "metadata": {
        "id": "OEnwPW9NbSSJ"
      },
      "execution_count": 4,
      "outputs": []
    },
    {
      "cell_type": "code",
      "source": [
        "target = 'num_likes'"
      ],
      "metadata": {
        "id": "mlcrmj1qbTjJ"
      },
      "execution_count": 5,
      "outputs": []
    },
    {
      "cell_type": "markdown",
      "source": [
        "# Divide texts"
      ],
      "metadata": {
        "id": "ZCyAbhjzRAuu"
      }
    },
    {
      "cell_type": "code",
      "source": [
        "nb_splits = 3"
      ],
      "metadata": {
        "id": "3waUUgbyRV2k"
      },
      "execution_count": 6,
      "outputs": []
    },
    {
      "cell_type": "code",
      "source": [
        "cols = ['split_'+ str(i) for i in range(1, nb_splits+1)]\n",
        "\n",
        "def split_text(row):\n",
        "  nb_splits\n",
        "\n",
        "  l = len(row['text_str'])\n",
        "  chars = int(l/nb_splits)\n",
        "\n",
        "  for i, col in zip(range(0, l, chars), cols):  \n",
        "      row[col] = row['text_str'][ i : i+chars];  \n",
        "  return row"
      ],
      "metadata": {
        "id": "-v9RY1knRCFL"
      },
      "execution_count": 7,
      "outputs": []
    },
    {
      "cell_type": "code",
      "source": [
        "from tqdm import tqdm\n",
        "tqdm.pandas()\n",
        "df = df.progress_apply(split_text, axis=1)"
      ],
      "metadata": {
        "colab": {
          "base_uri": "https://localhost:8080/"
        },
        "id": "q3mksS09RXmi",
        "outputId": "f3995c34-496b-4a16-a2a6-83ea13a07544"
      },
      "execution_count": 8,
      "outputs": [
        {
          "output_type": "stream",
          "name": "stderr",
          "text": [
            "100%|██████████| 18248/18248 [00:30<00:00, 598.28it/s]\n"
          ]
        }
      ]
    },
    {
      "cell_type": "code",
      "source": [
        "df['story_id'] = df.index.tolist()"
      ],
      "metadata": {
        "id": "d2JQeUyERYir"
      },
      "execution_count": 9,
      "outputs": []
    },
    {
      "cell_type": "code",
      "source": [
        "df = df.melt(id_vars=['story_id', target], value_vars=cols)"
      ],
      "metadata": {
        "id": "dRUfnUEQSQjF"
      },
      "execution_count": 10,
      "outputs": []
    },
    {
      "cell_type": "code",
      "source": [
        "df = df.sort_values(by=['story_id', 'variable']).reset_index(drop=True)"
      ],
      "metadata": {
        "id": "9K6p5q7oTe3o"
      },
      "execution_count": 11,
      "outputs": []
    },
    {
      "cell_type": "code",
      "source": [
        "X = df[['value', 'story_id']]\n",
        "y = df[target]\n",
        "story_id = df.story_id"
      ],
      "metadata": {
        "id": "WKw_mNk7R3jk"
      },
      "execution_count": 12,
      "outputs": []
    },
    {
      "cell_type": "markdown",
      "source": [
        "# Binarize target"
      ],
      "metadata": {
        "id": "Hoxpm4qql3gl"
      }
    },
    {
      "cell_type": "code",
      "source": [
        "threshold = np.quantile(y, 0.7)\n",
        "threshold"
      ],
      "metadata": {
        "id": "aqlZsZcXbdBZ",
        "colab": {
          "base_uri": "https://localhost:8080/"
        },
        "outputId": "ffc14b9a-e4f2-4b79-934b-644b2ed74191"
      },
      "execution_count": 13,
      "outputs": [
        {
          "output_type": "execute_result",
          "data": {
            "text/plain": [
              "13.0"
            ]
          },
          "metadata": {},
          "execution_count": 13
        }
      ]
    },
    {
      "cell_type": "code",
      "source": [
        "print(f'It corresponds to {100*len(df[df[target]<=threshold][target])/len(df):.2f} percent of the stories being bad.')"
      ],
      "metadata": {
        "id": "-ZLnMcCpbeac",
        "colab": {
          "base_uri": "https://localhost:8080/"
        },
        "outputId": "09e240f7-c56f-477b-f292-d479153409a1"
      },
      "execution_count": 14,
      "outputs": [
        {
          "output_type": "stream",
          "name": "stdout",
          "text": [
            "It corresponds to 71.03 percent of the stories being bad.\n"
          ]
        }
      ]
    },
    {
      "cell_type": "code",
      "source": [
        "from sklearn.preprocessing import Binarizer\n",
        "\n",
        "bn = Binarizer(threshold=threshold).fit(df[[target]])\n",
        "y = bn.transform(df[[target]])"
      ],
      "metadata": {
        "id": "6seYDZxSbfuj"
      },
      "execution_count": 15,
      "outputs": []
    },
    {
      "cell_type": "markdown",
      "source": [
        "# Split data train val test"
      ],
      "metadata": {
        "id": "K_7LJecEl5sK"
      }
    },
    {
      "cell_type": "code",
      "source": [
        "X.shape, y.shape"
      ],
      "metadata": {
        "colab": {
          "base_uri": "https://localhost:8080/"
        },
        "id": "AQSx3Zd-eu1Z",
        "outputId": "5c3984fa-369f-4014-cddc-f395bf6bb313"
      },
      "execution_count": 16,
      "outputs": [
        {
          "output_type": "execute_result",
          "data": {
            "text/plain": [
              "((54744, 2), (54744, 1))"
            ]
          },
          "metadata": {},
          "execution_count": 16
        }
      ]
    },
    {
      "cell_type": "code",
      "source": [
        "from sklearn.model_selection import train_test_split\n",
        "\n",
        "X_train, X_test, y_train, y_test = train_test_split(X, y, \n",
        "                                                    test_size=.3, \n",
        "                                                    random_state=42,\n",
        "                                                    shuffle=False)\n",
        "X_test, X_val, y_test, y_val = train_test_split(X_test, y_test, \n",
        "                                                test_size=.5, \n",
        "                                                random_state=42,\n",
        "                                                shuffle=False)\n",
        "\n",
        "X_train.shape, X_test.shape, X_val.shape, y_train.shape, y_val.shape, y_test.shape"
      ],
      "metadata": {
        "id": "XMjxy7xibjOC",
        "colab": {
          "base_uri": "https://localhost:8080/"
        },
        "outputId": "be3f6aae-0c76-406b-9b3d-dddc93e0b551"
      },
      "execution_count": 17,
      "outputs": [
        {
          "output_type": "execute_result",
          "data": {
            "text/plain": [
              "((38320, 2), (8212, 2), (8212, 2), (38320, 1), (8212, 1), (8212, 1))"
            ]
          },
          "metadata": {},
          "execution_count": 17
        }
      ]
    },
    {
      "cell_type": "code",
      "source": [
        "X_train = X_train.reset_index()[['value', 'story_id']]\n",
        "X_val = X_val.reset_index()[['value', 'story_id']]\n",
        "X_test = X_test.reset_index()[['value', 'story_id']]"
      ],
      "metadata": {
        "id": "hxfxvL7gGE4X"
      },
      "execution_count": 18,
      "outputs": []
    },
    {
      "cell_type": "code",
      "source": [
        "X_train_index = X_train.story_id\n",
        "X_val_index = X_val.story_id\n",
        "X_test_index = X_test.story_id\n"
      ],
      "metadata": {
        "id": "-5ooeG-DL6vr"
      },
      "execution_count": 19,
      "outputs": []
    },
    {
      "cell_type": "markdown",
      "source": [
        "# Import Transformer"
      ],
      "metadata": {
        "id": "n-HltfJZdrIq"
      }
    },
    {
      "cell_type": "code",
      "source": [
        "! pip install transformers"
      ],
      "metadata": {
        "id": "4id7VqqYdsfY",
        "colab": {
          "base_uri": "https://localhost:8080/"
        },
        "outputId": "a9f10f33-1cdc-4b04-e520-eafe66f2fc1e"
      },
      "execution_count": 20,
      "outputs": [
        {
          "output_type": "stream",
          "name": "stdout",
          "text": [
            "Looking in indexes: https://pypi.org/simple, https://us-python.pkg.dev/colab-wheels/public/simple/\n",
            "Collecting transformers\n",
            "  Downloading transformers-4.20.1-py3-none-any.whl (4.4 MB)\n",
            "\u001b[K     |████████████████████████████████| 4.4 MB 37.7 MB/s \n",
            "\u001b[?25hRequirement already satisfied: tqdm>=4.27 in /usr/local/lib/python3.7/dist-packages (from transformers) (4.64.0)\n",
            "Collecting pyyaml>=5.1\n",
            "  Downloading PyYAML-6.0-cp37-cp37m-manylinux_2_5_x86_64.manylinux1_x86_64.manylinux_2_12_x86_64.manylinux2010_x86_64.whl (596 kB)\n",
            "\u001b[K     |████████████████████████████████| 596 kB 65.2 MB/s \n",
            "\u001b[?25hRequirement already satisfied: importlib-metadata in /usr/local/lib/python3.7/dist-packages (from transformers) (4.11.4)\n",
            "Requirement already satisfied: requests in /usr/local/lib/python3.7/dist-packages (from transformers) (2.23.0)\n",
            "Requirement already satisfied: regex!=2019.12.17 in /usr/local/lib/python3.7/dist-packages (from transformers) (2022.6.2)\n",
            "Requirement already satisfied: filelock in /usr/local/lib/python3.7/dist-packages (from transformers) (3.7.1)\n",
            "Collecting huggingface-hub<1.0,>=0.1.0\n",
            "  Downloading huggingface_hub-0.8.1-py3-none-any.whl (101 kB)\n",
            "\u001b[K     |████████████████████████████████| 101 kB 7.0 MB/s \n",
            "\u001b[?25hRequirement already satisfied: numpy>=1.17 in /usr/local/lib/python3.7/dist-packages (from transformers) (1.21.6)\n",
            "Collecting tokenizers!=0.11.3,<0.13,>=0.11.1\n",
            "  Downloading tokenizers-0.12.1-cp37-cp37m-manylinux_2_12_x86_64.manylinux2010_x86_64.whl (6.6 MB)\n",
            "\u001b[K     |████████████████████████████████| 6.6 MB 54.8 MB/s \n",
            "\u001b[?25hRequirement already satisfied: packaging>=20.0 in /usr/local/lib/python3.7/dist-packages (from transformers) (21.3)\n",
            "Requirement already satisfied: typing-extensions>=3.7.4.3 in /usr/local/lib/python3.7/dist-packages (from huggingface-hub<1.0,>=0.1.0->transformers) (4.1.1)\n",
            "Requirement already satisfied: pyparsing!=3.0.5,>=2.0.2 in /usr/local/lib/python3.7/dist-packages (from packaging>=20.0->transformers) (3.0.9)\n",
            "Requirement already satisfied: zipp>=0.5 in /usr/local/lib/python3.7/dist-packages (from importlib-metadata->transformers) (3.8.0)\n",
            "Requirement already satisfied: certifi>=2017.4.17 in /usr/local/lib/python3.7/dist-packages (from requests->transformers) (2022.6.15)\n",
            "Requirement already satisfied: chardet<4,>=3.0.2 in /usr/local/lib/python3.7/dist-packages (from requests->transformers) (3.0.4)\n",
            "Requirement already satisfied: idna<3,>=2.5 in /usr/local/lib/python3.7/dist-packages (from requests->transformers) (2.10)\n",
            "Requirement already satisfied: urllib3!=1.25.0,!=1.25.1,<1.26,>=1.21.1 in /usr/local/lib/python3.7/dist-packages (from requests->transformers) (1.24.3)\n",
            "Installing collected packages: pyyaml, tokenizers, huggingface-hub, transformers\n",
            "  Attempting uninstall: pyyaml\n",
            "    Found existing installation: PyYAML 3.13\n",
            "    Uninstalling PyYAML-3.13:\n",
            "      Successfully uninstalled PyYAML-3.13\n",
            "Successfully installed huggingface-hub-0.8.1 pyyaml-6.0 tokenizers-0.12.1 transformers-4.20.1\n"
          ]
        }
      ]
    },
    {
      "cell_type": "code",
      "source": [
        "from transformers import AutoTokenizer, TFAutoModelForSequenceClassification\n",
        "\n",
        "tokenizer = AutoTokenizer.from_pretrained('roberta-base')\n",
        "model = TFAutoModelForSequenceClassification.from_pretrained(\"ilan541/OncUponTim\")"
      ],
      "metadata": {
        "colab": {
          "base_uri": "https://localhost:8080/",
          "referenced_widgets": [
            "9e78126c3f3545f0bc7d626c414b4959",
            "9fb7eef29a254a56b31d9626c871f892",
            "b8287f6dae5c4c8a821278b3fa538ec6",
            "161db313a5844894834e70754211cb01",
            "3e8e70805baa40ca93b5b57147e66243",
            "288879ea2be94016b4382f35d1549183",
            "96df1bb7f7ef4e5d8a51c9fcc4f3be7d",
            "eca1bd6c10a7469cac5d1a6710136e3f",
            "644e978e6592449794c429b9b9481fc7",
            "8697e67cd6644c01a05a39fb57c37668",
            "04b9e1a7992e4c63848ac22f1822a2d9",
            "bf251ace54ba47558720ca8edce6a230",
            "db19814bd9f4475f806c61c0e3f80093",
            "18c4e1c4d3ab4722bec6d30eb6d1cdec",
            "3c62a666533e46148f848275d3fc3c89",
            "5498ad9f53904ba8a057b85a516b38d5",
            "9d37b2341a8f4167b8382cd5b305c85d",
            "06795fb051d84cfba6daf99bc9ceb08a",
            "af6fb608eac240e5b8da8403359fe293",
            "682f36c6966948d4a9abb4bee8b5ffed",
            "38f8f877459740de8f741e3740eca800",
            "0165b7230eb841d3b56732fc5974278f",
            "d5752d4e0610473e9e14db03e305ea8d",
            "4e56355d6b364e45a006e7cc93faf863",
            "319fd09a8474438391104b3ce5486ea2",
            "a733b687c86f43d6aa47876411f08b8e",
            "2b8832a3663e41ed9fe56195ee5d9193",
            "53f3b551c3314f2bad0542b2e335ac8b",
            "cec86717de0a447ba3d52359b7ea0385",
            "c8013dc8c740460bacefba683c0b746c",
            "6cb3d7e0e9114c24bbc09028a8204fa9",
            "9c7787f861d54e5a85d67be5c7d3ed5d",
            "d9f9ac3b00a14d3688562fab02535fad",
            "94efdbe2e92e4716bc8276a17a4946bf",
            "c827cdc74d834efaba7eeb8f5174ff08",
            "b7226820aac745e4ba8b63e2d217cfed",
            "8e652897b81348cfa12a7f6472dabf40",
            "891df28ba5ce4f22889060a4e79e47ea",
            "57e3e27fd5ee4c46a58ffd1ae79b8c8c",
            "a9723f58a26143b5a09ed81f22d2771f",
            "222b89eb161242b38dbab61a1b2d391c",
            "2ccc2e3e271046eebecbad4ba8f045f8",
            "b8bce0ed971b45d18f1a55e031f383d9",
            "3f0f0ac6483b4532805bf736894f454d",
            "292d2133fef34a6ea174def58053d2ee",
            "125f9dfac7c2489bbad8c61571981e5c",
            "10e42083767f4d4ba0b4d6e444eba08c",
            "589b987d880d41f1a75af49f6982d8c0",
            "89e3070e860d417b889bcc87e1be565f",
            "8eb3238106cc43d299d4955e62537b53",
            "f069a22f875446aab5862565efdbd2fb",
            "98d2cdf34fe74d7a93a940b173bcd472",
            "3199f45120014a9190b912b3f859af51",
            "ea92d273ffaa42dea2acebee061d436a",
            "811e2eba9fa44ecc9c0e7bd7e7fd5579",
            "be1dd06b086a4925910dbd806ef6fc12",
            "a0a07e61acb5443480d5f3ef1205c7d8",
            "b3638cfd06634c3381f1d19e6dce9cd2",
            "d1991a30497c48fa9c11a9ab2e533b74",
            "fc68455474f94be3bd37e8ea565cf4d1",
            "d9062bc6f5704c7abe2d7c2ae1bbb018",
            "35700b0d3f414c8596594be3692babf6",
            "00732d8f4ea34b879d5a22de46ee3d21",
            "80e38e4c788d4586b3af959081f5446f",
            "5d92a2a4c8154331937a259440ddf204",
            "f7953fb84db24d219d36b108e30b0790"
          ],
          "height": 0
        },
        "id": "JBzl2K9DeteH",
        "outputId": "3a765ea1-29eb-4a2f-8490-6be301930d0d"
      },
      "execution_count": 21,
      "outputs": [
        {
          "output_type": "display_data",
          "data": {
            "text/plain": [
              "Downloading:   0%|          | 0.00/481 [00:00<?, ?B/s]"
            ],
            "application/vnd.jupyter.widget-view+json": {
              "version_major": 2,
              "version_minor": 0,
              "model_id": "9e78126c3f3545f0bc7d626c414b4959"
            }
          },
          "metadata": {}
        },
        {
          "output_type": "display_data",
          "data": {
            "text/plain": [
              "Downloading:   0%|          | 0.00/878k [00:00<?, ?B/s]"
            ],
            "application/vnd.jupyter.widget-view+json": {
              "version_major": 2,
              "version_minor": 0,
              "model_id": "bf251ace54ba47558720ca8edce6a230"
            }
          },
          "metadata": {}
        },
        {
          "output_type": "display_data",
          "data": {
            "text/plain": [
              "Downloading:   0%|          | 0.00/446k [00:00<?, ?B/s]"
            ],
            "application/vnd.jupyter.widget-view+json": {
              "version_major": 2,
              "version_minor": 0,
              "model_id": "d5752d4e0610473e9e14db03e305ea8d"
            }
          },
          "metadata": {}
        },
        {
          "output_type": "display_data",
          "data": {
            "text/plain": [
              "Downloading:   0%|          | 0.00/1.29M [00:00<?, ?B/s]"
            ],
            "application/vnd.jupyter.widget-view+json": {
              "version_major": 2,
              "version_minor": 0,
              "model_id": "94efdbe2e92e4716bc8276a17a4946bf"
            }
          },
          "metadata": {}
        },
        {
          "output_type": "display_data",
          "data": {
            "text/plain": [
              "Downloading:   0%|          | 0.00/664 [00:00<?, ?B/s]"
            ],
            "application/vnd.jupyter.widget-view+json": {
              "version_major": 2,
              "version_minor": 0,
              "model_id": "292d2133fef34a6ea174def58053d2ee"
            }
          },
          "metadata": {}
        },
        {
          "output_type": "display_data",
          "data": {
            "text/plain": [
              "Downloading:   0%|          | 0.00/476M [00:00<?, ?B/s]"
            ],
            "application/vnd.jupyter.widget-view+json": {
              "version_major": 2,
              "version_minor": 0,
              "model_id": "be1dd06b086a4925910dbd806ef6fc12"
            }
          },
          "metadata": {}
        },
        {
          "output_type": "stream",
          "name": "stderr",
          "text": [
            "All model checkpoint layers were used when initializing TFRobertaForSequenceClassification.\n",
            "\n",
            "All the layers of TFRobertaForSequenceClassification were initialized from the model checkpoint at ilan541/OncUponTim.\n",
            "If your task is similar to the task the model of the checkpoint was trained on, you can already use TFRobertaForSequenceClassification for predictions without further training.\n"
          ]
        }
      ]
    },
    {
      "cell_type": "markdown",
      "source": [
        "# Prepare model"
      ],
      "metadata": {
        "id": "IhBDpDutUHBR"
      }
    },
    {
      "cell_type": "code",
      "source": [
        "model.layers[0].trainable=False"
      ],
      "metadata": {
        "id": "BYW0SeO0Xi3p"
      },
      "execution_count": 22,
      "outputs": []
    },
    {
      "cell_type": "code",
      "source": [
        "model.summary()"
      ],
      "metadata": {
        "colab": {
          "base_uri": "https://localhost:8080/"
        },
        "id": "Jikb5bF6U9bJ",
        "outputId": "f17d0866-b5aa-4e3a-f32b-a0ea949d8d16"
      },
      "execution_count": 23,
      "outputs": [
        {
          "output_type": "stream",
          "name": "stdout",
          "text": [
            "Model: \"tf_roberta_for_sequence_classification\"\n",
            "_________________________________________________________________\n",
            " Layer (type)                Output Shape              Param #   \n",
            "=================================================================\n",
            " roberta (TFRobertaMainLayer  multiple                 124055040 \n",
            " )                                                               \n",
            "                                                                 \n",
            " classifier (TFRobertaClassi  multiple                 592130    \n",
            " ficationHead)                                                   \n",
            "                                                                 \n",
            "=================================================================\n",
            "Total params: 124,647,170\n",
            "Trainable params: 592,130\n",
            "Non-trainable params: 124,055,040\n",
            "_________________________________________________________________\n"
          ]
        }
      ]
    },
    {
      "cell_type": "markdown",
      "source": [
        "# Prepare data "
      ],
      "metadata": {
        "id": "hGCIYzAn7LxA"
      }
    },
    {
      "cell_type": "code",
      "source": [
        "X_train.shape"
      ],
      "metadata": {
        "colab": {
          "base_uri": "https://localhost:8080/"
        },
        "id": "GR8qvz4TKQ7L",
        "outputId": "ed917e87-f8fd-4644-889c-ea790f926cf7"
      },
      "execution_count": 24,
      "outputs": [
        {
          "output_type": "execute_result",
          "data": {
            "text/plain": [
              "(38320, 2)"
            ]
          },
          "metadata": {},
          "execution_count": 24
        }
      ]
    },
    {
      "cell_type": "code",
      "source": [
        "%%time\n",
        "max_length = 512\n",
        "X_train = tokenizer(X_train.value.tolist(), \n",
        "                    truncation=True, \n",
        "                    padding='max_length', \n",
        "                    max_length=max_length)\n",
        "\n",
        "X_test = tokenizer(X_test.value.tolist(), \n",
        "                   truncation=True, \n",
        "                   padding='max_length', \n",
        "                   max_length=max_length)\n",
        "\n",
        "X_val = tokenizer(X_val.value.tolist(), \n",
        "                  truncation=True, \n",
        "                  padding='max_length', \n",
        "                  max_length=max_length)"
      ],
      "metadata": {
        "id": "Db2d5H3nfkWd",
        "colab": {
          "base_uri": "https://localhost:8080/"
        },
        "outputId": "60173f23-bacf-43a4-9aac-4acd0d418969"
      },
      "execution_count": 25,
      "outputs": [
        {
          "output_type": "stream",
          "name": "stdout",
          "text": [
            "CPU times: user 2min 19s, sys: 3.21 s, total: 2min 22s\n",
            "Wall time: 1min 34s\n"
          ]
        }
      ]
    },
    {
      "cell_type": "code",
      "source": [
        "len(X_train['input_ids'])"
      ],
      "metadata": {
        "colab": {
          "base_uri": "https://localhost:8080/"
        },
        "id": "BiLFmz1DYksU",
        "outputId": "cbc8c2e0-9aa5-4443-8373-75e4bd29876e"
      },
      "execution_count": 26,
      "outputs": [
        {
          "output_type": "execute_result",
          "data": {
            "text/plain": [
              "38320"
            ]
          },
          "metadata": {},
          "execution_count": 26
        }
      ]
    },
    {
      "cell_type": "code",
      "source": [
        "X_train = [np.array(X_train.input_ids)]\n",
        "X_test = [np.array(X_test.input_ids)]\n",
        "X_val = [np.array(X_val.input_ids)]"
      ],
      "metadata": {
        "id": "rN0FZsQpkXFe"
      },
      "execution_count": 27,
      "outputs": []
    },
    {
      "cell_type": "code",
      "source": [
        "X_train[0].shape, y_train.shape"
      ],
      "metadata": {
        "colab": {
          "base_uri": "https://localhost:8080/"
        },
        "id": "oECdkxxZOE0Y",
        "outputId": "37fd864b-a62a-4769-f526-65eaa86906e4"
      },
      "execution_count": 28,
      "outputs": [
        {
          "output_type": "execute_result",
          "data": {
            "text/plain": [
              "((38320, 512), (38320, 1))"
            ]
          },
          "metadata": {},
          "execution_count": 28
        }
      ]
    },
    {
      "cell_type": "code",
      "source": [
        "y_train = y_train[:,0]\n",
        "y_val = y_val[:,0]\n",
        "y_test = y_test[:,0]"
      ],
      "metadata": {
        "id": "_5lrX3uPZEWD"
      },
      "execution_count": 29,
      "outputs": []
    },
    {
      "cell_type": "code",
      "source": [
        "X_train[0].shape, y_train.shape"
      ],
      "metadata": {
        "colab": {
          "base_uri": "https://localhost:8080/"
        },
        "id": "_NiMHR24dhnb",
        "outputId": "bfbd4109-0afa-43fe-f6ae-a8194d4f6b0f"
      },
      "execution_count": 30,
      "outputs": [
        {
          "output_type": "execute_result",
          "data": {
            "text/plain": [
              "((38320, 512), (38320,))"
            ]
          },
          "metadata": {},
          "execution_count": 30
        }
      ]
    },
    {
      "cell_type": "markdown",
      "source": [
        "# Train model"
      ],
      "metadata": {
        "id": "KH8Ckuj-dCKp"
      }
    },
    {
      "cell_type": "code",
      "source": [
        "import tensorflow as tf"
      ],
      "metadata": {
        "id": "29muCL2Z_Aa9"
      },
      "execution_count": 31,
      "outputs": []
    },
    {
      "cell_type": "code",
      "source": [
        "LOSS = tf.keras.losses.SparseCategoricalCrossentropy(from_logits=True)\n",
        "\n",
        "model.compile(optimizer='adam', \n",
        "              loss=LOSS,\n",
        "              metrics='accuracy')"
      ],
      "metadata": {
        "id": "YElgXuCvmqwB"
      },
      "execution_count": 32,
      "outputs": []
    },
    {
      "cell_type": "code",
      "source": [
        "%%time\n",
        "\n",
        "model.fit(X_train, y_train, \n",
        "          batch_size=32, \n",
        "          validation_data=(X_val, y_val), \n",
        "          epochs=1)"
      ],
      "metadata": {
        "colab": {
          "base_uri": "https://localhost:8080/"
        },
        "id": "vK_XF_c2kxky",
        "outputId": "f219488d-5322-493c-f9d7-3adaf0aac618"
      },
      "execution_count": null,
      "outputs": [
        {
          "output_type": "stream",
          "name": "stdout",
          "text": [
            "1198/1198 [==============================] - ETA: 0s - loss: 0.5905 - accuracy: 0.7101"
          ]
        }
      ]
    },
    {
      "cell_type": "code",
      "source": [
        "! git config --global credential.helper store\n",
        "! huggingface-cli login"
      ],
      "metadata": {
        "id": "RNA4SnWiKV6d"
      },
      "execution_count": null,
      "outputs": []
    },
    {
      "cell_type": "code",
      "source": [
        "model.push_to_hub(\"OncUponTim\")"
      ],
      "metadata": {
        "id": "7VMwT6K6soqn"
      },
      "execution_count": null,
      "outputs": []
    },
    {
      "cell_type": "markdown",
      "source": [
        "# Get mean of the logits of the same text"
      ],
      "metadata": {
        "id": "B0fAvjogKTMt"
      }
    },
    {
      "cell_type": "code",
      "source": [
        "def get_mean_pred(X, X_index, y, model, y_pred):\n",
        "  #y_pred = model.predict(X)\n",
        "\n",
        "  y_pred_df = pd.DataFrame()\n",
        "  y_pred_df['story_id'] = X_index.values\n",
        "  y_pred_df['y_pred_0'] = y_pred.logits[:,0]\n",
        "  y_pred_df['y_pred_1'] = y_pred.logits[:,1]\n",
        "\n",
        "  y_pred_df = y_pred_df.groupby('story_id').mean()\n",
        "\n",
        "  y_true_df = pd.DataFrame()\n",
        "  y_true_df['story_id'] = X_index.values\n",
        "  y_true_df['y_true'] = y\n",
        "\n",
        "  y_true_df = y_true_df.groupby('story_id').mean()\n",
        "\n",
        "\n",
        "  return y_pred_df, y_true_df"
      ],
      "metadata": {
        "id": "syiXFXTwN3Qd"
      },
      "execution_count": 33,
      "outputs": []
    },
    {
      "cell_type": "code",
      "source": [
        "# %%time\n",
        "# y_pred = model.predict(X_train)\n",
        "# y_pred_train, y_true_train = get_mean_pred(X_train, X_train_index, y_train, model, y_pred)\n",
        "# y_true_train = np.array(y_true_train.y_true)\n",
        "# y_pred_train = np.array(y_pred_train)"
      ],
      "metadata": {
        "id": "3rfNcf5GOfiF"
      },
      "execution_count": null,
      "outputs": []
    },
    {
      "cell_type": "code",
      "source": [
        "# %%time\n",
        "# y_pred = model.predict(X_test)\n",
        "# y_pred_test, y_true_test = get_mean_pred(X_test, X_test_index, y_test, model, y_pred)\n",
        "# y_true_test = np.array(y_true_test.y_true)\n",
        "# y_pred_test = np.array(y_pred_test)"
      ],
      "metadata": {
        "id": "RnwNqECGQGtr",
        "colab": {
          "base_uri": "https://localhost:8080/"
        },
        "outputId": "f41f1209-108e-4bff-b345-6fffd3899800"
      },
      "execution_count": 34,
      "outputs": [
        {
          "output_type": "stream",
          "name": "stdout",
          "text": [
            "CPU times: user 48.3 s, sys: 7.91 s, total: 56.2 s\n",
            "Wall time: 5min 39s\n"
          ]
        }
      ]
    },
    {
      "cell_type": "code",
      "source": [
        "# %%time\n",
        "# y_pred = model.predict(X_val)\n",
        "# y_pred_val, y_true_val = get_mean_pred(X_val, X_val_index, y_val, model, y_pred)\n",
        "# y_true_val = np.array(y_true_val.y_true)\n",
        "# y_pred_val = np.array(y_pred_val)"
      ],
      "metadata": {
        "id": "eJP9U4f0QHrZ",
        "outputId": "10fb9f73-ef5b-4af3-f8b5-c7ebdaf3e61e",
        "colab": {
          "base_uri": "https://localhost:8080/"
        }
      },
      "execution_count": 70,
      "outputs": [
        {
          "output_type": "stream",
          "name": "stdout",
          "text": [
            "CPU times: user 44.1 s, sys: 8.84 s, total: 53 s\n",
            "Wall time: 5min 35s\n"
          ]
        }
      ]
    },
    {
      "cell_type": "markdown",
      "source": [
        "# Results"
      ],
      "metadata": {
        "id": "fyeA3ZeBKbRH"
      }
    },
    {
      "cell_type": "code",
      "source": [
        "# apply softmax to each row --> probability (for AUC)\n",
        "from scipy.special import softmax\n",
        "\n",
        "# argmax: get 0 and 1\n",
        "\n",
        "from sklearn import metrics\n",
        "from sklearn.metrics import roc_auc_score\n",
        "from sklearn.metrics import precision_recall_curve\n",
        "from sklearn.metrics import confusion_matrix\n",
        "from sklearn.metrics import classification_report\n",
        "import matplotlib.pyplot as plt\n",
        "from scipy.interpolate import interp1d\n"
      ],
      "metadata": {
        "id": "SqGzohKDciht"
      },
      "execution_count": 35,
      "outputs": []
    },
    {
      "cell_type": "code",
      "source": [
        "def display_results(y_pred_all, y_true, recall_value=None, precision_value=None):\n",
        "  # get probability\n",
        "  y_probs = softmax(y_pred_all)\n",
        "\n",
        "  # get prediction\n",
        "  y_pred = np.argmax(y_pred_all, axis=1)\n",
        "\n",
        "  # classification report\n",
        "  print(classification_report(y_true, y_pred))\n",
        "  print('\\n')\n",
        "\n",
        "  # confusion matrix\n",
        "  print('Confusion matrix:')\n",
        "  print(confusion_matrix(y_true, y_pred))\n",
        "  print('\\n')\n",
        "\n",
        "\n",
        "  # roc\n",
        "  fpr, tpr, thresholds = metrics.roc_curve(y_true, y_probs[:,1])\n",
        "  auc = roc_auc_score(y_true, y_probs[:,1])\n",
        "\n",
        "  plt.figure(figsize=(10,10))\n",
        "  plt.plot(fpr, tpr, label=f'transformer, AUC={auc:.4f}')\n",
        "  plt.plot([0, 1], [0, 1], color=\"navy\", lw=2, linestyle=\"--\", label=\"no model. AUC=.5\")\n",
        "  plt.title(\"Receiver operating characteristic \")\n",
        "  plt.xlabel('rate of false positives')\n",
        "  plt.ylabel('rate of true positives')\n",
        "  plt.legend(loc='best')\n",
        "  plt.show()\n",
        "  print('\\n')\n",
        "\n",
        "  tn, fp, fn, tp = confusion_matrix(y_true, y_pred).ravel()\n",
        "\n",
        "  print(f'{tp*100/(tp+fn):.2f}% of the good stories are rightly identified.')\n",
        "  print(f'{fp*100/(fp+tn):.2f}% of the bad stories are identified as good ones.')\n",
        "\n",
        "  print('\\n')\n",
        "\n",
        "\n",
        "  # play with threshold\n",
        "  precision, recall, thresholds = precision_recall_curve(y_true, y_probs[:,1])\n",
        "\n",
        "  x = np.linspace(0,1, num=len(precision))\n",
        "  if recall_value:\n",
        "    y = interp1d(recall, precision)\n",
        "    precision_value = y(recall_value)\n",
        "  if precision_value:\n",
        "    y = interp1d(precision, recall)\n",
        "    recall_value = y(precision_value)\n",
        "  plt.figure(figsize=(10,10))\n",
        "  plt.plot(recall, precision, label='transformer')\n",
        "  plt.title(\"precision-recall curve\")\n",
        "  plt.plot(x, [precision_value]*len(recall), label=f'{precision_value:.2f}')\n",
        "  plt.axvline(recall_value, label=f'{recall_value:.2f}')\n",
        "  plt.xlabel('recall')\n",
        "  plt.ylabel('precision')\n",
        "  plt.legend()\n",
        "  plt.show()\n",
        "\n",
        "  if len(thresholds)<len(recall):\n",
        "    thresholds = np.append(thresholds,0)\n",
        "  y_thresholds = interp1d(recall, thresholds)\n",
        "  threshold_value = y_thresholds(recall_value)\n",
        "  print('\\n')\n",
        "  print(f'When recall is equal to {recall_value:.2f}, precision is equal to {precision_value:.2f},\\\n",
        "  and the threshold is equal to {threshold_value:.2f}.')\n",
        "\n",
        "  y_pred = (y_probs[:,1] >= threshold_value).astype(int)\n",
        "  tn, fp, fn, tp = confusion_matrix(y_true, y_pred).ravel()\n",
        "\n",
        "  print(f'{tp*100/(tp+fn):.2f}% of the good stories are rightly identified.')\n",
        "  print(f'{fp*100/(fp+tn):.2f}% of the bad stories are identified as good ones.')\n",
        "  print('\\n')\n",
        "  print(f\"Confusion matrix when p={threshold_value:.2f}:\")\n",
        "  print(confusion_matrix(y_true, y_pred))\n",
        "  print(classification_report(y_true, y_pred))\n"
      ],
      "metadata": {
        "id": "scFO8hF2QReS"
      },
      "execution_count": 41,
      "outputs": []
    },
    {
      "cell_type": "code",
      "source": [
        "# display_results(y_pred_val, y_true_val, recall_value=.7, precision_value=None)"
      ],
      "metadata": {
        "id": "E_qzJk3SvLvs",
        "outputId": "c2dae5d7-dbed-4edc-a849-e43c5b8ef799",
        "colab": {
          "base_uri": "https://localhost:8080/",
          "height": 1000
        }
      },
      "execution_count": 71,
      "outputs": [
        {
          "output_type": "stream",
          "name": "stdout",
          "text": [
            "              precision    recall  f1-score   support\n",
            "\n",
            "         0.0       0.72      0.97      0.83      1934\n",
            "         1.0       0.57      0.09      0.16       804\n",
            "\n",
            "    accuracy                           0.71      2738\n",
            "   macro avg       0.65      0.53      0.49      2738\n",
            "weighted avg       0.68      0.71      0.63      2738\n",
            "\n",
            "\n",
            "\n",
            "Confusion matrix:\n",
            "[[1879   55]\n",
            " [ 731   73]]\n",
            "\n",
            "\n"
          ]
        },
        {
          "output_type": "display_data",
          "data": {
            "text/plain": [
              "<Figure size 720x720 with 1 Axes>"
            ],
            "image/png": "[encoded data removed]"
          },
          "metadata": {
            "needs_background": "light"
          }
        },
        {
          "output_type": "stream",
          "name": "stdout",
          "text": [
            "\n",
            "\n",
            "9.08% of the good stories are rightly identified.\n",
            "2.84% of the bad stories are identified as good ones.\n",
            "\n",
            "\n"
          ]
        },
        {
          "output_type": "display_data",
          "data": {
            "text/plain": [
              "<Figure size 720x720 with 1 Axes>"
            ],
            "image/png": "[encoded data removed]"
          },
          "metadata": {
            "needs_background": "light"
          }
        },
        {
          "output_type": "stream",
          "name": "stdout",
          "text": [
            "\n",
            "\n",
            "When recall is equal to 0.70, precision is equal to 0.35,  and the threshold is equal to 0.00.\n",
            "69.90% of the good stories are rightly identified.\n",
            "52.90% of the bad stories are identified as good ones.\n",
            "\n",
            "\n",
            "Confusion matrix when p=0.00:\n",
            "[[ 911 1023]\n",
            " [ 242  562]]\n",
            "              precision    recall  f1-score   support\n",
            "\n",
            "         0.0       0.79      0.47      0.59      1934\n",
            "         1.0       0.35      0.70      0.47       804\n",
            "\n",
            "    accuracy                           0.54      2738\n",
            "   macro avg       0.57      0.59      0.53      2738\n",
            "weighted avg       0.66      0.54      0.56      2738\n",
            "\n"
          ]
        }
      ]
    },
    {
      "cell_type": "code",
      "source": [
        "# display_results(y_pred_test, y_true_test, recall_value=.7, precision_value=None)"
      ],
      "metadata": {
        "colab": {
          "base_uri": "https://localhost:8080/",
          "height": 1000
        },
        "id": "kdzz7ap9RuHT",
        "outputId": "e94ab90e-8df4-4ff0-9de4-9b454338278a"
      },
      "execution_count": 44,
      "outputs": [
        {
          "output_type": "stream",
          "name": "stdout",
          "text": [
            "              precision    recall  f1-score   support\n",
            "\n",
            "         0.0       0.73      0.97      0.83      1964\n",
            "         1.0       0.53      0.09      0.15       774\n",
            "\n",
            "    accuracy                           0.72      2738\n",
            "   macro avg       0.63      0.53      0.49      2738\n",
            "weighted avg       0.67      0.72      0.64      2738\n",
            "\n",
            "\n",
            "\n",
            "Confusion matrix:\n",
            "[[1904   60]\n",
            " [ 706   68]]\n",
            "\n",
            "\n"
          ]
        },
        {
          "output_type": "display_data",
          "data": {
            "text/plain": [
              "<Figure size 720x720 with 1 Axes>"
            ],
            "image/png": "[encoded data removed]"
          },
          "metadata": {
            "needs_background": "light"
          }
        },
        {
          "output_type": "stream",
          "name": "stdout",
          "text": [
            "\n",
            "\n",
            "8.79% of the good stories are rightly identified.\n",
            "3.05% of the bad stories are identified as good ones.\n",
            "\n",
            "\n"
          ]
        },
        {
          "output_type": "display_data",
          "data": {
            "text/plain": [
              "<Figure size 720x720 with 1 Axes>"
            ],
            "image/png": "[encoded data removed]"
          },
          "metadata": {
            "needs_background": "light"
          }
        },
        {
          "output_type": "stream",
          "name": "stdout",
          "text": [
            "\n",
            "\n",
            "When recall is equal to 0.70, precision is equal to 0.37,  and the threshold is equal to 0.00.\n",
            "69.90% of the good stories are rightly identified.\n",
            "47.86% of the bad stories are identified as good ones.\n",
            "\n",
            "\n",
            "Confusion matrix when p=0.00:\n",
            "[[1024  940]\n",
            " [ 233  541]]\n",
            "              precision    recall  f1-score   support\n",
            "\n",
            "         0.0       0.81      0.52      0.64      1964\n",
            "         1.0       0.37      0.70      0.48       774\n",
            "\n",
            "    accuracy                           0.57      2738\n",
            "   macro avg       0.59      0.61      0.56      2738\n",
            "weighted avg       0.69      0.57      0.59      2738\n",
            "\n"
          ]
        }
      ]
    },
    {
      "cell_type": "markdown",
      "source": [
        "# Examples"
      ],
      "metadata": {
        "id": "1JHbIs0bmy3U"
      }
    },
    {
      "cell_type": "code",
      "source": [
        "def split_text(text, nb_splits):\n",
        "  cols = ['split_'+ str(i) for i in range(1, nb_splits+1)]\n",
        "\n",
        "  l = len(text)\n",
        "  chars = int(l/nb_splits)\n",
        "\n",
        "  out = []\n",
        "\n",
        "  for i in range(0, l, chars):  \n",
        "    out.append(text[ i : i+chars])\n",
        "  return out\n",
        "\n",
        "def get_probs(list_of_portions):\n",
        "  y_pred_logits_0 = []\n",
        "  y_pred_logits_1 = []\n",
        "  for text in list_of_portions:\n",
        "    inp = tokenizer(text, return_tensors='tf')\n",
        "    y_pred = model(inp)\n",
        "    y_pred_logits_0.append(y_pred.logits[:,0])\n",
        "    y_pred_logits_1.append(y_pred.logits[:,1])\n",
        "\n",
        "  return np.mean(y_pred_logits_0), np.mean(y_pred_logits_1)\n"
      ],
      "metadata": {
        "id": "YxqVJ8Flp4Yj"
      },
      "execution_count": 58,
      "outputs": []
    },
    {
      "cell_type": "code",
      "source": [
        "# this is supposed to be a good story\n",
        "text = \\\n",
        "\"\"\"\n",
        "The night is thick and heavy with clouds when I paint the front of The House yellow. I paint quickly and quietly. I don’t want to wake my neighbor up. The brush goes shhh shhh against the wall and even that is loud. \n",
        "\n",
        "My feet crunch on gravel as I finish up and slip into my home. \n",
        "\n",
        "My neighbor’s cursing wakes me up in the morning. I hear fuck! and shit! I split the blinds with two fingers. The sun shines very bright and I squint to see my other neighbors file outside. They see the yellow paint and shake their heads. One of them points at my home. I come away from the window. Knock knock. I do not answer. I make myself toast with a poached egg. I eat it plain. Butter has a strange, slimy texture and most jams are too sweet for my taste. \n",
        "\n",
        "They pound on the door. The doorknob rattles in its socket before I hear silence on my front porch again. \n",
        "\n",
        "My neighbors assume I painted The House. They are right, but it’s still insulting that they point to me first.\n",
        "\n",
        "Upon purchase, my new neighbor repainted The House beige before moving equally bland furniture (and herself) inside. I must fix it. She does not understand that each house claims life as we do. Their creaks are small sighs and groans, their breath the wind that flutters curtains when their mouths are unlocked. Each house is individual in personality. They have different mannerisms, likes and dislikes that can influence whoever its inhabitant might be at the time. Often, though, its influence is overruled by tenants that bustle about, creating their own noises that muffle their homes.  \n",
        "\n",
        "I can hear them. I hear anger when doors slam shut, peace when furniture is aligned and floors are swept clean. Houses do not have control over their appearance, so I help them. I listen and give them a color true to their individuality. \n",
        "\n",
        "The House in question, which you could say is my current “client,” is bubbly, but prone to sickness and somewhat oblivious to the struggles of others. It loves its inhabitants—most of the time—and wishes to give them a cozy embrace. Most of all, The House is very particular about its appearance and becomes incensed when the smallest thing is not quite right. Right now, it is sulking. The little yellow I gave it placated it, but soon it will demand more.  \n",
        "\n",
        "In the afternoon I hear the grrr grrr of trucks and metallic clanking and deep voices shouting. Big men in loose denim pants and ugly T-shirts paint The House back to beige. My neighbor comes onto her lawn to survey the men, pointing out the spots that need extra paint. The painters finish quickly, taking my neighbor’s cash and leaving extra paint cans and brushes and crinkled plastic tarps. \n",
        "\n",
        "The House strains against its new skin. It pummels its beige bonds with angry fists and wails It’s so ugly! The neighboring houses think it silly and childish, but they are too old to remember what it was like to be a child. I will The House to be patient. Its paint is still wet. \n",
        "\n",
        "\n",
        "\"\"\"\n"
      ],
      "metadata": {
        "id": "_FSxd0HgsAho"
      },
      "execution_count": 50,
      "outputs": []
    },
    {
      "cell_type": "code",
      "source": [
        "nb_splits = 3\n",
        "splits = split_text(text, nb_splits)\n",
        "\n",
        "y_logits_0, y_logits_1 = get_probs(splits)\n",
        "if np.argmax([y_logits_0, y_logits_1]) == 0:\n",
        "  print('Bad text')\n",
        "else:\n",
        "  print('Wha, good text')\n"
      ],
      "metadata": {
        "id": "zI3e16k2mz33",
        "colab": {
          "base_uri": "https://localhost:8080/"
        },
        "outputId": "753eb8ed-3de2-4e02-e42f-dd1edc843b31"
      },
      "execution_count": 69,
      "outputs": [
        {
          "output_type": "stream",
          "name": "stdout",
          "text": [
            "Bad text\n"
          ]
        }
      ]
    }
  ]
}