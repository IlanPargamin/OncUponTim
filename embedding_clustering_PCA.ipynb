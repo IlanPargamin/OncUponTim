{
  "nbformat": 4,
  "nbformat_minor": 0,
  "metadata": {
    "colab": {
      "name": "embedding_clustering_PCA.ipynb",
      "provenance": [],
      "collapsed_sections": [
        "1Kg6Gan4BHJ_",
        "azL_wV70WqPz",
        "TOF-csjjY0u_",
        "US_Lx2g_dumA",
        "MwRYfe1htCLz",
        "tg10eqtXtD5q",
        "stMn3Iujd1U3",
        "DWWXtrQDnXQs",
        "mTxeE4K3z7wG",
        "J7USgY5cRWIX",
        "873rsPoCWdXD",
        "OlmpmkWur750"
      ]
    },
    "kernelspec": {
      "name": "python3",
      "display_name": "Python 3"
    },
    "language_info": {
      "name": "python"
    }
  },
  "cells": [
    {
      "cell_type": "markdown",
      "source": [
        "This file is part of the EDA (milestone 2).\n",
        "\n",
        "Using different features, we clusterize the texts using K-means, and visualize the clusters using a PCA 2-d visualization."
      ],
      "metadata": {
        "id": "ITD2HD66Azng"
      }
    },
    {
      "cell_type": "markdown",
      "source": [
        "# Imports"
      ],
      "metadata": {
        "id": "1Kg6Gan4BHJ_"
      }
    },
    {
      "cell_type": "code",
      "source": [
        "from sklearn.cluster import KMeans\n",
        "import re\n",
        "from sklearn.decomposition import PCA\n",
        "import matplotlib.pyplot as plt\n",
        "import pylab\n",
        "from sklearn.preprocessing import StandardScaler\n",
        "import pandas as pd\n",
        "import numpy as np"
      ],
      "metadata": {
        "id": "F6lmCEw_YXoy"
      },
      "execution_count": 1,
      "outputs": []
    },
    {
      "cell_type": "code",
      "source": [
        "from tqdm.auto import tqdm\n",
        "tqdm.pandas()"
      ],
      "metadata": {
        "id": "re-2kP9MhaOw"
      },
      "execution_count": 2,
      "outputs": []
    },
    {
      "cell_type": "code",
      "source": [
        "from google.colab import drive\n",
        "drive.mount('/content/drive/')\n",
        "df = pd.read_csv(\"drive/MyDrive/Final Project/story_data_new_feats.csv\")"
      ],
      "metadata": {
        "colab": {
          "base_uri": "https://localhost:8080/"
        },
        "id": "eEGXG3R-ePKh",
        "outputId": "854456c8-a30e-4646-8ac1-2f7ffe4b4e1b"
      },
      "execution_count": 3,
      "outputs": [
        {
          "output_type": "stream",
          "name": "stdout",
          "text": [
            "Mounted at /content/drive/\n"
          ]
        }
      ]
    },
    {
      "cell_type": "code",
      "source": [
        "df.columns"
      ],
      "metadata": {
        "colab": {
          "base_uri": "https://localhost:8080/"
        },
        "id": "UN3pDCtjLMon",
        "outputId": "ae4579a3-cb21-4401-93ef-fbb80e534221"
      },
      "execution_count": 5,
      "outputs": [
        {
          "output_type": "execute_result",
          "data": {
            "text/plain": [
              "Index(['url', 'story_id', 'soup', 'title', 'author', 'contest_num',\n",
              "       'won_contest', 'num_likes', 'num_comments', 'story_html',\n",
              "       'date_published', 'num_sent', 'story_sent', 'sent_lengths',\n",
              "       'sent_avg_length', 'sent_words', 'story_word_toks', 'words',\n",
              "       'punctuation', 'num_words', 'unique_words', 'num_unique_words',\n",
              "       'unique_words_percent', 'text_str', 'age', 'words_exist_per_cent',\n",
              "       'num_cats', 'cat_School', 'cat_Creative', 'cat_Age', 'cat_Happy',\n",
              "       'cat_Thriller', 'cat_Friendship', 'cat_East', 'cat_Inspirational',\n",
              "       'cat_Christian', 'cat_Bedtime', 'cat_Drama', 'cat_Horror',\n",
              "       'cat_Lesbian', 'cat_High', 'cat_Science', 'cat_American',\n",
              "       'cat_Speculative', 'cat_Funny', 'cat_Adventure', 'cat_Nonfiction',\n",
              "       'cat_African', 'cat_Christmas', 'cat_Teens', 'cat_Fantasy',\n",
              "       'cat_Holiday', 'cat_Western', 'cat_Young', 'cat_Coming', 'cat_Suspense',\n",
              "       'cat_Romance', 'cat_Urban', 'cat_Latinx', 'cat_Desi', 'cat_Asian',\n",
              "       'cat_Black', 'cat_Sad', 'cat_Kids', 'cat_People', 'cat_Color',\n",
              "       'cat_Fiction', 'cat_Contemporary', 'cat_Mystery', 'cat_Adult',\n",
              "       'cat_Transgender', 'cat_Historical', 'cat_Middle', 'cat_Gay',\n",
              "       'cat_Indigenous', 'cat_Crime', 'text_str_lem', 'lemmatized_parag'],\n",
              "      dtype='object')"
            ]
          },
          "metadata": {},
          "execution_count": 5
        }
      ]
    },
    {
      "cell_type": "code",
      "source": [
        "# features discrimination\n",
        "numerical = ['num_likes', 'num_comments', 'num_sent', 'sent_avg_length', 'num_words', \n",
        "             'num_unique_words', 'unique_words_percent', 'age', 'num_cats']\n",
        "categories = [col for col in df if col.startswith('cat_')]\n",
        "cols = numerical + categories"
      ],
      "metadata": {
        "id": "RG7GrpSoYvRy"
      },
      "execution_count": 6,
      "outputs": []
    },
    {
      "cell_type": "markdown",
      "source": [
        "# Kmeans and PCA with all features (including target)"
      ],
      "metadata": {
        "id": "azL_wV70WqPz"
      }
    },
    {
      "cell_type": "code",
      "source": [
        "# choose the number of clusters\n",
        "k = 3\n",
        "\n",
        "# choose sample size\n",
        "sample_size = 30\n"
      ],
      "metadata": {
        "id": "ZvlC2LnwWqqm"
      },
      "execution_count": 7,
      "outputs": []
    },
    {
      "cell_type": "code",
      "source": [
        "start = 100\n",
        "ids = list(range(start, start+sample_size))\n",
        "X = df[cols].iloc[ids]\n",
        "\n",
        "scaler = StandardScaler()\n",
        "scaler.fit(X)\n",
        "\n",
        "X_ss = scaler.transform(X)\n",
        "X = pd.DataFrame(data=X_ss, columns=X.columns)\n",
        "print(f'The shape of X is {X.shape}')\n",
        "\n",
        "titles = df.iloc[ids].title.values\n",
        "titles = [re.sub('[^A-Za-z0-9]+', '', x.title()) for x in titles]"
      ],
      "metadata": {
        "colab": {
          "base_uri": "https://localhost:8080/"
        },
        "id": "4OhbJlUfYpvX",
        "outputId": "956d5ae3-7b03-44e4-80e6-cdd75f1975b1"
      },
      "execution_count": 8,
      "outputs": [
        {
          "output_type": "stream",
          "name": "stdout",
          "text": [
            "The shape of X is (30, 58)\n"
          ]
        }
      ]
    },
    {
      "cell_type": "code",
      "source": [
        "kmeans = KMeans(n_clusters=k, random_state=0)\n",
        "kmeans.fit(X)\n",
        "\n",
        "pca = PCA(n_components = 2)\n",
        "Y = pca.fit_transform(X)\n",
        "fig = plt.figure(figsize = (20, 10))\n",
        "ax = fig.add_subplot(111)\n",
        "ax.scatter(Y[:, 0], Y[:, 1], c = kmeans.labels_, cmap = pylab.cm.cool)\n",
        "for i, word in enumerate(titles):\n",
        "    ax.annotate(word, xy = (Y[i, 0], Y[i, 1]))"
      ],
      "metadata": {
        "colab": {
          "base_uri": "https://localhost:8080/",
          "height": 592
        },
        "id": "A7HzAQtHYriN",
        "outputId": "c9bc241b-a11f-43e4-9003-b628637bc428"
      },
      "execution_count": 9,
      "outputs": [
        {
          "output_type": "display_data",
          "data": {
            "text/plain": [
              "<Figure size 1440x720 with 1 Axes>"
            ],
            "image/png": "[encoded data removed]"
          },
          "metadata": {
            "needs_background": "light"
          }
        }
      ]
    },
    {
      "cell_type": "code",
      "source": [
        "df_pca_comps = pd.DataFrame(pca.components_, columns = X.columns)\n",
        "tops_comps = pd.DataFrame(df_pca_comps.apply(lambda x:list(X.columns[np.array(x)\\\n",
        "                                        .argsort()[::-1][:3]]), \n",
        "                                      axis=1).to_list(),  \n",
        "                   columns=['Most Important Feature', \n",
        "                            '2nd Most Important Feature', \n",
        "                            '3rd Most Important Feature'])\n",
        "tops_comps.index.name = 'component_no'\n",
        "tops_comps"
      ],
      "metadata": {
        "colab": {
          "base_uri": "https://localhost:8080/",
          "height": 143
        },
        "id": "Kx7j8bKRYtJm",
        "outputId": "e00e518b-5575-4206-8fa8-1eda614dd22f"
      },
      "execution_count": 10,
      "outputs": [
        {
          "output_type": "execute_result",
          "data": {
            "text/plain": [
              "             Most Important Feature 2nd Most Important Feature  \\\n",
              "component_no                                                     \n",
              "0                         num_words           num_unique_words   \n",
              "1                         num_likes               num_comments   \n",
              "\n",
              "             3rd Most Important Feature  \n",
              "component_no                             \n",
              "0                              num_sent  \n",
              "1                            cat_Horror  "
            ],
            "text/html": [
              "\n",
              "  <div id=\"df-64769193-8f5c-4e00-b9ef-e272804ec91f\">\n",
              "    <div class=\"colab-df-container\">\n",
              "      <div>\n",
              "<style scoped>\n",
              "    .dataframe tbody tr th:only-of-type {\n",
              "        vertical-align: middle;\n",
              "    }\n",
              "\n",
              "    .dataframe tbody tr th {\n",
              "        vertical-align: top;\n",
              "    }\n",
              "\n",
              "    .dataframe thead th {\n",
              "        text-align: right;\n",
              "    }\n",
              "</style>\n",
              "<table border=\"1\" class=\"dataframe\">\n",
              "  <thead>\n",
              "    <tr style=\"text-align: right;\">\n",
              "      <th></th>\n",
              "      <th>Most Important Feature</th>\n",
              "      <th>2nd Most Important Feature</th>\n",
              "      <th>3rd Most Important Feature</th>\n",
              "    </tr>\n",
              "    <tr>\n",
              "      <th>component_no</th>\n",
              "      <th></th>\n",
              "      <th></th>\n",
              "      <th></th>\n",
              "    </tr>\n",
              "  </thead>\n",
              "  <tbody>\n",
              "    <tr>\n",
              "      <th>0</th>\n",
              "      <td>num_words</td>\n",
              "      <td>num_unique_words</td>\n",
              "      <td>num_sent</td>\n",
              "    </tr>\n",
              "    <tr>\n",
              "      <th>1</th>\n",
              "      <td>num_likes</td>\n",
              "      <td>num_comments</td>\n",
              "      <td>cat_Horror</td>\n",
              "    </tr>\n",
              "  </tbody>\n",
              "</table>\n",
              "</div>\n",
              "      <button class=\"colab-df-convert\" onclick=\"convertToInteractive('df-64769193-8f5c-4e00-b9ef-e272804ec91f')\"\n",
              "              title=\"Convert this dataframe to an interactive table.\"\n",
              "              style=\"display:none;\">\n",
              "        \n",
              "  <svg xmlns=\"http://www.w3.org/2000/svg\" height=\"24px\"viewBox=\"0 0 24 24\"\n",
              "       width=\"24px\">\n",
              "    <path d=\"M0 0h24v24H0V0z\" fill=\"none\"/>\n",
              "    <path d=\"M18.56 5.44l.94 2.06.94-2.06 2.06-.94-2.06-.94-.94-2.06-.94 2.06-2.06.94zm-11 1L8.5 8.5l.94-2.06 2.06-.94-2.06-.94L8.5 2.5l-.94 2.06-2.06.94zm10 10l.94 2.06.94-2.06 2.06-.94-2.06-.94-.94-2.06-.94 2.06-2.06.94z\"/><path d=\"M17.41 7.96l-1.37-1.37c-.4-.4-.92-.59-1.43-.59-.52 0-1.04.2-1.43.59L10.3 9.45l-7.72 7.72c-.78.78-.78 2.05 0 2.83L4 21.41c.39.39.9.59 1.41.59.51 0 1.02-.2 1.41-.59l7.78-7.78 2.81-2.81c.8-.78.8-2.07 0-2.86zM5.41 20L4 18.59l7.72-7.72 1.47 1.35L5.41 20z\"/>\n",
              "  </svg>\n",
              "      </button>\n",
              "      \n",
              "  <style>\n",
              "    .colab-df-container {\n",
              "      display:flex;\n",
              "      flex-wrap:wrap;\n",
              "      gap: 12px;\n",
              "    }\n",
              "\n",
              "    .colab-df-convert {\n",
              "      background-color: #E8F0FE;\n",
              "      border: none;\n",
              "      border-radius: 50%;\n",
              "      cursor: pointer;\n",
              "      display: none;\n",
              "      fill: #1967D2;\n",
              "      height: 32px;\n",
              "      padding: 0 0 0 0;\n",
              "      width: 32px;\n",
              "    }\n",
              "\n",
              "    .colab-df-convert:hover {\n",
              "      background-color: #E2EBFA;\n",
              "      box-shadow: 0px 1px 2px rgba(60, 64, 67, 0.3), 0px 1px 3px 1px rgba(60, 64, 67, 0.15);\n",
              "      fill: #174EA6;\n",
              "    }\n",
              "\n",
              "    [theme=dark] .colab-df-convert {\n",
              "      background-color: #3B4455;\n",
              "      fill: #D2E3FC;\n",
              "    }\n",
              "\n",
              "    [theme=dark] .colab-df-convert:hover {\n",
              "      background-color: #434B5C;\n",
              "      box-shadow: 0px 1px 3px 1px rgba(0, 0, 0, 0.15);\n",
              "      filter: drop-shadow(0px 1px 2px rgba(0, 0, 0, 0.3));\n",
              "      fill: #FFFFFF;\n",
              "    }\n",
              "  </style>\n",
              "\n",
              "      <script>\n",
              "        const buttonEl =\n",
              "          document.querySelector('#df-64769193-8f5c-4e00-b9ef-e272804ec91f button.colab-df-convert');\n",
              "        buttonEl.style.display =\n",
              "          google.colab.kernel.accessAllowed ? 'block' : 'none';\n",
              "\n",
              "        async function convertToInteractive(key) {\n",
              "          const element = document.querySelector('#df-64769193-8f5c-4e00-b9ef-e272804ec91f');\n",
              "          const dataTable =\n",
              "            await google.colab.kernel.invokeFunction('convertToInteractive',\n",
              "                                                     [key], {});\n",
              "          if (!dataTable) return;\n",
              "\n",
              "          const docLinkHtml = 'Like what you see? Visit the ' +\n",
              "            '<a target=\"_blank\" href=https://colab.research.google.com/notebooks/data_table.ipynb>data table notebook</a>'\n",
              "            + ' to learn more about interactive tables.';\n",
              "          element.innerHTML = '';\n",
              "          dataTable['output_type'] = 'display_data';\n",
              "          await google.colab.output.renderOutput(dataTable, element);\n",
              "          const docLink = document.createElement('div');\n",
              "          docLink.innerHTML = docLinkHtml;\n",
              "          element.appendChild(docLink);\n",
              "        }\n",
              "      </script>\n",
              "    </div>\n",
              "  </div>\n",
              "  "
            ]
          },
          "metadata": {},
          "execution_count": 10
        }
      ]
    },
    {
      "cell_type": "markdown",
      "source": [
        "INTERPRETATION\n",
        "\n",
        "The most important components are the lengths of the texts and the number of likes/comments that the texts received. The interpretation is therefore straightforward and not so interesting."
      ],
      "metadata": {
        "id": "qr721wzGyD_0"
      }
    },
    {
      "cell_type": "markdown",
      "source": [
        "# Without num_comments and num_likes"
      ],
      "metadata": {
        "id": "TOF-csjjY0u_"
      }
    },
    {
      "cell_type": "code",
      "source": [
        "# choose the number of clusters\n",
        "k = 3\n",
        "\n",
        "# choose sample size\n",
        "sample_size = 30"
      ],
      "metadata": {
        "id": "k60LkWyIY1m_"
      },
      "execution_count": 11,
      "outputs": []
    },
    {
      "cell_type": "code",
      "source": [
        "cols_2 = list(set(numerical).union(set(categories)).difference(set(['num_comments', 'num_likes'])))\n",
        "start = 100\n",
        "ids = list(range(start, start+sample_size))\n",
        "X = df[cols_2].iloc[ids]\n",
        "\n",
        "scaler = StandardScaler()\n",
        "scaler.fit(X)\n",
        "\n",
        "X_ss = scaler.transform(X)\n",
        "X = pd.DataFrame(data=X_ss, columns=X.columns)\n",
        "print(f'The shape of X is {X.shape}')\n",
        "\n",
        "titles = df.iloc[ids].title.values\n",
        "titles = [re.sub('[^A-Za-z0-9]+', '', x.title()) for x in titles]"
      ],
      "metadata": {
        "colab": {
          "base_uri": "https://localhost:8080/"
        },
        "id": "uR0y2ST_Y3tG",
        "outputId": "bcc54f7a-a1d0-44bb-d2fc-528a44b33d4e"
      },
      "execution_count": 12,
      "outputs": [
        {
          "output_type": "stream",
          "name": "stdout",
          "text": [
            "The shape of X is (30, 56)\n"
          ]
        }
      ]
    },
    {
      "cell_type": "code",
      "source": [
        "kmeans = KMeans(n_clusters=k, random_state=0)\n",
        "kmeans.fit(X)\n",
        "labels = kmeans.labels_\n",
        "\n",
        "pca = PCA(n_components = 2)\n",
        "Y = pca.fit_transform(X)\n",
        "fig = plt.figure(figsize = (20, 10))\n",
        "ax = fig.add_subplot(111)\n",
        "ax.scatter(Y[:, 0], Y[:, 1], c = labels, cmap = pylab.cm.cool)\n",
        "for i, word in enumerate(titles):\n",
        "    ax.annotate(word, xy = (Y[i, 0], Y[i, 1]))"
      ],
      "metadata": {
        "colab": {
          "base_uri": "https://localhost:8080/",
          "height": 592
        },
        "id": "wMql_ivPY48h",
        "outputId": "463c685f-3219-43cc-9b68-86c777d5f6d7"
      },
      "execution_count": 13,
      "outputs": [
        {
          "output_type": "display_data",
          "data": {
            "text/plain": [
              "<Figure size 1440x720 with 1 Axes>"
            ],
            "image/png": "[encoded data removed]"
          },
          "metadata": {
            "needs_background": "light"
          }
        }
      ]
    },
    {
      "cell_type": "code",
      "source": [
        "df_pca_comps = pd.DataFrame(pca.components_, columns = X.columns)\n",
        "tops_comps = pd.DataFrame(df_pca_comps.apply(lambda x:list(X.columns[np.array(x)\\\n",
        "                                        .argsort()[::-1][:3]]), \n",
        "                                      axis=1).to_list(),  \n",
        "                   columns=['Most Important Feature', \n",
        "                            '2nd Most Important Feature', \n",
        "                            '3rd Most Important Feature'])\n",
        "tops_comps.index.name = 'component_no'\n",
        "tops_comps"
      ],
      "metadata": {
        "colab": {
          "base_uri": "https://localhost:8080/",
          "height": 143
        },
        "id": "TUmNffoCY6qb",
        "outputId": "790ae197-6051-464a-af3d-6ebc8a551ffd"
      },
      "execution_count": 14,
      "outputs": [
        {
          "output_type": "execute_result",
          "data": {
            "text/plain": [
              "             Most Important Feature 2nd Most Important Feature  \\\n",
              "component_no                                                     \n",
              "0                         num_words           num_unique_words   \n",
              "1                       cat_Holiday               cat_Thriller   \n",
              "\n",
              "             3rd Most Important Feature  \n",
              "component_no                             \n",
              "0                              num_sent  \n",
              "1                              num_sent  "
            ],
            "text/html": [
              "\n",
              "  <div id=\"df-2b075eb2-ba6f-4a78-936f-9371065a478d\">\n",
              "    <div class=\"colab-df-container\">\n",
              "      <div>\n",
              "<style scoped>\n",
              "    .dataframe tbody tr th:only-of-type {\n",
              "        vertical-align: middle;\n",
              "    }\n",
              "\n",
              "    .dataframe tbody tr th {\n",
              "        vertical-align: top;\n",
              "    }\n",
              "\n",
              "    .dataframe thead th {\n",
              "        text-align: right;\n",
              "    }\n",
              "</style>\n",
              "<table border=\"1\" class=\"dataframe\">\n",
              "  <thead>\n",
              "    <tr style=\"text-align: right;\">\n",
              "      <th></th>\n",
              "      <th>Most Important Feature</th>\n",
              "      <th>2nd Most Important Feature</th>\n",
              "      <th>3rd Most Important Feature</th>\n",
              "    </tr>\n",
              "    <tr>\n",
              "      <th>component_no</th>\n",
              "      <th></th>\n",
              "      <th></th>\n",
              "      <th></th>\n",
              "    </tr>\n",
              "  </thead>\n",
              "  <tbody>\n",
              "    <tr>\n",
              "      <th>0</th>\n",
              "      <td>num_words</td>\n",
              "      <td>num_unique_words</td>\n",
              "      <td>num_sent</td>\n",
              "    </tr>\n",
              "    <tr>\n",
              "      <th>1</th>\n",
              "      <td>cat_Holiday</td>\n",
              "      <td>cat_Thriller</td>\n",
              "      <td>num_sent</td>\n",
              "    </tr>\n",
              "  </tbody>\n",
              "</table>\n",
              "</div>\n",
              "      <button class=\"colab-df-convert\" onclick=\"convertToInteractive('df-2b075eb2-ba6f-4a78-936f-9371065a478d')\"\n",
              "              title=\"Convert this dataframe to an interactive table.\"\n",
              "              style=\"display:none;\">\n",
              "        \n",
              "  <svg xmlns=\"http://www.w3.org/2000/svg\" height=\"24px\"viewBox=\"0 0 24 24\"\n",
              "       width=\"24px\">\n",
              "    <path d=\"M0 0h24v24H0V0z\" fill=\"none\"/>\n",
              "    <path d=\"M18.56 5.44l.94 2.06.94-2.06 2.06-.94-2.06-.94-.94-2.06-.94 2.06-2.06.94zm-11 1L8.5 8.5l.94-2.06 2.06-.94-2.06-.94L8.5 2.5l-.94 2.06-2.06.94zm10 10l.94 2.06.94-2.06 2.06-.94-2.06-.94-.94-2.06-.94 2.06-2.06.94z\"/><path d=\"M17.41 7.96l-1.37-1.37c-.4-.4-.92-.59-1.43-.59-.52 0-1.04.2-1.43.59L10.3 9.45l-7.72 7.72c-.78.78-.78 2.05 0 2.83L4 21.41c.39.39.9.59 1.41.59.51 0 1.02-.2 1.41-.59l7.78-7.78 2.81-2.81c.8-.78.8-2.07 0-2.86zM5.41 20L4 18.59l7.72-7.72 1.47 1.35L5.41 20z\"/>\n",
              "  </svg>\n",
              "      </button>\n",
              "      \n",
              "  <style>\n",
              "    .colab-df-container {\n",
              "      display:flex;\n",
              "      flex-wrap:wrap;\n",
              "      gap: 12px;\n",
              "    }\n",
              "\n",
              "    .colab-df-convert {\n",
              "      background-color: #E8F0FE;\n",
              "      border: none;\n",
              "      border-radius: 50%;\n",
              "      cursor: pointer;\n",
              "      display: none;\n",
              "      fill: #1967D2;\n",
              "      height: 32px;\n",
              "      padding: 0 0 0 0;\n",
              "      width: 32px;\n",
              "    }\n",
              "\n",
              "    .colab-df-convert:hover {\n",
              "      background-color: #E2EBFA;\n",
              "      box-shadow: 0px 1px 2px rgba(60, 64, 67, 0.3), 0px 1px 3px 1px rgba(60, 64, 67, 0.15);\n",
              "      fill: #174EA6;\n",
              "    }\n",
              "\n",
              "    [theme=dark] .colab-df-convert {\n",
              "      background-color: #3B4455;\n",
              "      fill: #D2E3FC;\n",
              "    }\n",
              "\n",
              "    [theme=dark] .colab-df-convert:hover {\n",
              "      background-color: #434B5C;\n",
              "      box-shadow: 0px 1px 3px 1px rgba(0, 0, 0, 0.15);\n",
              "      filter: drop-shadow(0px 1px 2px rgba(0, 0, 0, 0.3));\n",
              "      fill: #FFFFFF;\n",
              "    }\n",
              "  </style>\n",
              "\n",
              "      <script>\n",
              "        const buttonEl =\n",
              "          document.querySelector('#df-2b075eb2-ba6f-4a78-936f-9371065a478d button.colab-df-convert');\n",
              "        buttonEl.style.display =\n",
              "          google.colab.kernel.accessAllowed ? 'block' : 'none';\n",
              "\n",
              "        async function convertToInteractive(key) {\n",
              "          const element = document.querySelector('#df-2b075eb2-ba6f-4a78-936f-9371065a478d');\n",
              "          const dataTable =\n",
              "            await google.colab.kernel.invokeFunction('convertToInteractive',\n",
              "                                                     [key], {});\n",
              "          if (!dataTable) return;\n",
              "\n",
              "          const docLinkHtml = 'Like what you see? Visit the ' +\n",
              "            '<a target=\"_blank\" href=https://colab.research.google.com/notebooks/data_table.ipynb>data table notebook</a>'\n",
              "            + ' to learn more about interactive tables.';\n",
              "          element.innerHTML = '';\n",
              "          dataTable['output_type'] = 'display_data';\n",
              "          await google.colab.output.renderOutput(dataTable, element);\n",
              "          const docLink = document.createElement('div');\n",
              "          docLink.innerHTML = docLinkHtml;\n",
              "          element.appendChild(docLink);\n",
              "        }\n",
              "      </script>\n",
              "    </div>\n",
              "  </div>\n",
              "  "
            ]
          },
          "metadata": {},
          "execution_count": 14
        }
      ]
    },
    {
      "cell_type": "markdown",
      "source": [
        "Check relation of clusters to target:"
      ],
      "metadata": {
        "id": "ZcaYS6LbZCBv"
      }
    },
    {
      "cell_type": "code",
      "source": [
        ""
      ],
      "metadata": {
        "id": "cLDSnNwkZFAi"
      },
      "execution_count": null,
      "outputs": []
    },
    {
      "cell_type": "markdown",
      "source": [
        "INTERPRETATION\n",
        "\n",
        "The length is still critical, but now categories come into action. It makes sense that the clusters follow the pre-established categories."
      ],
      "metadata": {
        "id": "zjUwsJsYyQNZ"
      }
    },
    {
      "cell_type": "markdown",
      "source": [
        "# Kmeans and PCA with CountVectorizer"
      ],
      "metadata": {
        "id": "US_Lx2g_dumA"
      }
    },
    {
      "cell_type": "markdown",
      "source": [
        "## Preprocessing"
      ],
      "metadata": {
        "id": "bis5QlsFdz0P"
      }
    },
    {
      "cell_type": "markdown",
      "source": [
        "### Lemmatization"
      ],
      "metadata": {
        "id": "PRdvJqCGtgHa"
      }
    },
    {
      "cell_type": "markdown",
      "source": [
        "Done in the feature extraction file. Variable: text_str_lem"
      ],
      "metadata": {
        "id": "HINGDVoZyaTh"
      }
    },
    {
      "cell_type": "markdown",
      "source": [
        "### Stop words"
      ],
      "metadata": {
        "id": "MwRYfe1htCLz"
      }
    },
    {
      "cell_type": "code",
      "source": [
        "stop_words = \"\"\"\n",
        "a\n",
        "about\n",
        "above\n",
        "according\n",
        "across\n",
        "actually\n",
        "adj\n",
        "after\n",
        "afterwards\n",
        "again\n",
        "all\n",
        "almost\n",
        "alone\n",
        "along\n",
        "already\n",
        "also\n",
        "although\n",
        "always\n",
        "among\n",
        "amongst\n",
        "an\n",
        "and\n",
        "another\n",
        "any\n",
        "anyhow\n",
        "anyone\n",
        "anything\n",
        "anywhere\n",
        "are\n",
        "aren\n",
        "around\n",
        "as\n",
        "at\n",
        "be\n",
        "become\n",
        "because\n",
        "become\n",
        "becomes\n",
        "becoming\n",
        "been\n",
        "before\n",
        "beforehand\n",
        "begin\n",
        "beginning\n",
        "behind\n",
        "below\n",
        "beside\n",
        "besides\n",
        "between\n",
        "beyond\n",
        "billion\n",
        "both\n",
        "but\n",
        "by\n",
        "can\n",
        "cannot\n",
        "caption\n",
        "co\n",
        "could\n",
        "couldn\n",
        "did\n",
        "didn\n",
        "do\n",
        "does\n",
        "doesn\n",
        "don\n",
        "down\n",
        "during\n",
        "each\n",
        "eg\n",
        "eight\n",
        "eighty\n",
        "either\n",
        "else\n",
        "elsewhere\n",
        "end\n",
        "ending\n",
        "enough\n",
        "etc\n",
        "even\n",
        "ever\n",
        "every\n",
        "everyone\n",
        "everything\n",
        "everywhere\n",
        "except\n",
        "few\n",
        "fifty\n",
        "first\n",
        "five\n",
        "for\n",
        "former\n",
        "formerly\n",
        "forty\n",
        "found\n",
        "four\n",
        "form\n",
        "further\n",
        "had\n",
        "has\n",
        "hasn\n",
        "have\n",
        "haven\n",
        "he\n",
        "hence\n",
        "her\n",
        "here\n",
        "hereafter\n",
        "hereby\n",
        "herein\n",
        "hereupon\n",
        "hers\n",
        "herself\n",
        "him\n",
        "himself\n",
        "his\n",
        "how\n",
        "however\n",
        "hundred\n",
        "ie\n",
        "if\n",
        "in\n",
        "inc\n",
        "Indeed\n",
        "instead\n",
        "into\n",
        "is\n",
        "isn\n",
        "it\n",
        "its\n",
        "itself\n",
        "last\n",
        "later\n",
        "latter\n",
        "latterly\n",
        "least\n",
        "less\n",
        "let\n",
        "like\n",
        "likely\n",
        "ll\n",
        "ltd\n",
        "made\n",
        "make\n",
        "makes\n",
        "many\n",
        "maybe\n",
        "me\n",
        "meantime\n",
        "meanwhile\n",
        "might\n",
        "might\n",
        "million\n",
        "miss\n",
        "more\n",
        "moreover\n",
        "most\n",
        "mostly\n",
        "mr\n",
        "mrs\n",
        "much\n",
        "must\n",
        "my\n",
        "myself\n",
        "namely\n",
        "neither\n",
        "never\n",
        "nevertheless\n",
        "next\n",
        "nine\n",
        "ninety\n",
        "no\n",
        "nobody\n",
        "none\n",
        "nonetheless\n",
        "noon\n",
        "nor\n",
        "not\n",
        "nothing\n",
        "now\n",
        "nowhere\n",
        "of\n",
        "off\n",
        "often\n",
        "on\n",
        "once\n",
        "one\n",
        "only\n",
        "onto\n",
        "or\n",
        "other\n",
        "others\n",
        "otherwise\n",
        "our\n",
        "ours\n",
        "ourselves\n",
        "out\n",
        "over\n",
        "overall\n",
        "own\n",
        "per\n",
        "perhaps\n",
        "rather\n",
        "re\n",
        "recent\n",
        "recently\n",
        "same\n",
        "seem\n",
        "seemed\n",
        "seeming\n",
        "seems\n",
        "seven\n",
        "seventy\n",
        "several\n",
        "she\n",
        "should\n",
        "shouldn\n",
        "since\n",
        "six\n",
        "sixty\n",
        "so\n",
        "some\n",
        "somehow\n",
        "someone\n",
        "sometime\n",
        "sometimes\n",
        "somewhere\n",
        "still\n",
        "stop\n",
        "such\n",
        "talking\n",
        "ten\n",
        "than\n",
        "that\n",
        "the\n",
        "their\n",
        "them\n",
        "themselves\n",
        "thence\n",
        "there\n",
        "thereafter\n",
        "thereby\n",
        "therefore\n",
        "therein\n",
        "therein\n",
        "thereupon\n",
        "these\n",
        "they\n",
        "thirty\n",
        "this\n",
        "those\n",
        "though\n",
        "thousand\n",
        "three\n",
        "through\n",
        "throughout\n",
        "thru\n",
        "thus\n",
        "to\n",
        "together\n",
        "too\n",
        "toward\n",
        "towards\n",
        "trillion\n",
        "twenty\n",
        "two\n",
        "under\n",
        "unless\n",
        "unlike\n",
        "unlikely\n",
        "until;\n",
        "up\n",
        "upon\n",
        "us\n",
        "used\n",
        "using\n",
        "ve\n",
        "very\n",
        "via\n",
        "very\n",
        "was\n",
        "wasn\n",
        "we\n",
        "well\n",
        "were\n",
        "weren\n",
        "what\n",
        "whatever\n",
        "when\n",
        "whence\n",
        "whenever\n",
        "where\n",
        "whereafter\n",
        "whereas\n",
        "whereby\n",
        "wherein\n",
        "whereupon\n",
        "wherever\n",
        "whether\n",
        "which\n",
        "while\n",
        "whither\n",
        "which\n",
        "while\n",
        "whither\n",
        "who\n",
        "whoever\n",
        "whole\n",
        "whom\n",
        "whomever\n",
        "whose\n",
        "why\n",
        "will\n",
        "with\n",
        "within\n",
        "without\n",
        "won\n",
        "would\n",
        "wouldn\n",
        "yes\n",
        "yet\n",
        "you\n",
        "your\n",
        "yours\n",
        "yourself\n",
        "yourselves\n",
        "num\n",
        "party\n",
        "agreement\n",
        "shall\n",
        "right\n",
        "provide\n",
        "section\n",
        "term\n",
        "product\n",
        "\"\"\"\n",
        "stop_list = stop_words.split('\\n')"
      ],
      "metadata": {
        "id": "Md-jKd7_tDkF"
      },
      "execution_count": 15,
      "outputs": []
    },
    {
      "cell_type": "markdown",
      "source": [
        "##Apply CountVectorizer"
      ],
      "metadata": {
        "id": "tg10eqtXtD5q"
      }
    },
    {
      "cell_type": "code",
      "source": [
        "from sklearn.feature_extraction.text import CountVectorizer\n",
        "vectorizer = CountVectorizer(ngram_range=(1,3), \n",
        "                             stop_words=stop_list, \n",
        "                             max_features=500) #need to preprocess stopwords"
      ],
      "metadata": {
        "id": "5jC68gxatYGz"
      },
      "execution_count": 37,
      "outputs": []
    },
    {
      "cell_type": "code",
      "source": [
        "stories_lemma = df.text_str_lem.tolist()[:2000]"
      ],
      "metadata": {
        "id": "upuCCuNc8IFu"
      },
      "execution_count": 38,
      "outputs": []
    },
    {
      "cell_type": "code",
      "source": [
        "%%time\n",
        "label_vec = vectorizer.fit_transform(stories_lemma)"
      ],
      "metadata": {
        "colab": {
          "base_uri": "https://localhost:8080/"
        },
        "id": "gBIayMkEwcNj",
        "outputId": "93c4fd10-4a77-4b26-c7e0-f51041a79437"
      },
      "execution_count": 39,
      "outputs": [
        {
          "output_type": "stream",
          "name": "stderr",
          "text": [
            "/usr/local/lib/python3.7/dist-packages/sklearn/feature_extraction/text.py:401: UserWarning: Your stop_words may be inconsistent with your preprocessing. Tokenizing the stop words generated tokens ['indeed', 'until'] not in stop_words.\n",
            "  % sorted(inconsistent)\n"
          ]
        },
        {
          "output_type": "stream",
          "name": "stdout",
          "text": [
            "CPU times: user 26.1 s, sys: 765 ms, total: 26.8 s\n",
            "Wall time: 29 s\n"
          ]
        }
      ]
    },
    {
      "cell_type": "code",
      "source": [
        "stop_words = \"\\n\".join(list(vectorizer.vocabulary_))\n",
        "# print(stop_words)"
      ],
      "metadata": {
        "id": "gRqPTD2owfy_"
      },
      "execution_count": 40,
      "outputs": []
    },
    {
      "cell_type": "code",
      "source": [
        "cols = vectorizer.get_feature_names_out()"
      ],
      "metadata": {
        "id": "HnuBgcy7hOQH"
      },
      "execution_count": 41,
      "outputs": []
    },
    {
      "cell_type": "code",
      "source": [
        "df_tf = pd.DataFrame(label_vec.toarray(), columns=cols)"
      ],
      "metadata": {
        "id": "7eFAIHyyhIcY"
      },
      "execution_count": 42,
      "outputs": []
    },
    {
      "cell_type": "code",
      "source": [
        "df_tf.head(2)"
      ],
      "metadata": {
        "colab": {
          "base_uri": "https://localhost:8080/",
          "height": 0
        },
        "id": "Sy3nbo37qlDN",
        "outputId": "456e0abb-70bf-4f07-bcc2-3878b986b7f9"
      },
      "execution_count": 43,
      "outputs": [
        {
          "output_type": "execute_result",
          "data": {
            "text/plain": [
              "   able  against  ago  air  answer  arm  ask  ask pron  away  away from  ...  \\\n",
              "0     2        0    1    0       1    1    5         4     2          1  ...   \n",
              "1     0        4    0    2       2    1    1         0     1          0  ...   \n",
              "\n",
              "   word  work  work pron  world  write  wrong  yeah  year  year pron  young  \n",
              "0     1     7          3      1      1      1     1     9          3      0  \n",
              "1     0     5          3      0      0      0     0     0          0      0  \n",
              "\n",
              "[2 rows x 500 columns]"
            ],
            "text/html": [
              "\n",
              "  <div id=\"df-dbcde2ed-ca83-4cb1-a8dc-46b4744eb118\">\n",
              "    <div class=\"colab-df-container\">\n",
              "      <div>\n",
              "<style scoped>\n",
              "    .dataframe tbody tr th:only-of-type {\n",
              "        vertical-align: middle;\n",
              "    }\n",
              "\n",
              "    .dataframe tbody tr th {\n",
              "        vertical-align: top;\n",
              "    }\n",
              "\n",
              "    .dataframe thead th {\n",
              "        text-align: right;\n",
              "    }\n",
              "</style>\n",
              "<table border=\"1\" class=\"dataframe\">\n",
              "  <thead>\n",
              "    <tr style=\"text-align: right;\">\n",
              "      <th></th>\n",
              "      <th>able</th>\n",
              "      <th>against</th>\n",
              "      <th>ago</th>\n",
              "      <th>air</th>\n",
              "      <th>answer</th>\n",
              "      <th>arm</th>\n",
              "      <th>ask</th>\n",
              "      <th>ask pron</th>\n",
              "      <th>away</th>\n",
              "      <th>away from</th>\n",
              "      <th>...</th>\n",
              "      <th>word</th>\n",
              "      <th>work</th>\n",
              "      <th>work pron</th>\n",
              "      <th>world</th>\n",
              "      <th>write</th>\n",
              "      <th>wrong</th>\n",
              "      <th>yeah</th>\n",
              "      <th>year</th>\n",
              "      <th>year pron</th>\n",
              "      <th>young</th>\n",
              "    </tr>\n",
              "  </thead>\n",
              "  <tbody>\n",
              "    <tr>\n",
              "      <th>0</th>\n",
              "      <td>2</td>\n",
              "      <td>0</td>\n",
              "      <td>1</td>\n",
              "      <td>0</td>\n",
              "      <td>1</td>\n",
              "      <td>1</td>\n",
              "      <td>5</td>\n",
              "      <td>4</td>\n",
              "      <td>2</td>\n",
              "      <td>1</td>\n",
              "      <td>...</td>\n",
              "      <td>1</td>\n",
              "      <td>7</td>\n",
              "      <td>3</td>\n",
              "      <td>1</td>\n",
              "      <td>1</td>\n",
              "      <td>1</td>\n",
              "      <td>1</td>\n",
              "      <td>9</td>\n",
              "      <td>3</td>\n",
              "      <td>0</td>\n",
              "    </tr>\n",
              "    <tr>\n",
              "      <th>1</th>\n",
              "      <td>0</td>\n",
              "      <td>4</td>\n",
              "      <td>0</td>\n",
              "      <td>2</td>\n",
              "      <td>2</td>\n",
              "      <td>1</td>\n",
              "      <td>1</td>\n",
              "      <td>0</td>\n",
              "      <td>1</td>\n",
              "      <td>0</td>\n",
              "      <td>...</td>\n",
              "      <td>0</td>\n",
              "      <td>5</td>\n",
              "      <td>3</td>\n",
              "      <td>0</td>\n",
              "      <td>0</td>\n",
              "      <td>0</td>\n",
              "      <td>0</td>\n",
              "      <td>0</td>\n",
              "      <td>0</td>\n",
              "      <td>0</td>\n",
              "    </tr>\n",
              "  </tbody>\n",
              "</table>\n",
              "<p>2 rows × 500 columns</p>\n",
              "</div>\n",
              "      <button class=\"colab-df-convert\" onclick=\"convertToInteractive('df-dbcde2ed-ca83-4cb1-a8dc-46b4744eb118')\"\n",
              "              title=\"Convert this dataframe to an interactive table.\"\n",
              "              style=\"display:none;\">\n",
              "        \n",
              "  <svg xmlns=\"http://www.w3.org/2000/svg\" height=\"24px\"viewBox=\"0 0 24 24\"\n",
              "       width=\"24px\">\n",
              "    <path d=\"M0 0h24v24H0V0z\" fill=\"none\"/>\n",
              "    <path d=\"M18.56 5.44l.94 2.06.94-2.06 2.06-.94-2.06-.94-.94-2.06-.94 2.06-2.06.94zm-11 1L8.5 8.5l.94-2.06 2.06-.94-2.06-.94L8.5 2.5l-.94 2.06-2.06.94zm10 10l.94 2.06.94-2.06 2.06-.94-2.06-.94-.94-2.06-.94 2.06-2.06.94z\"/><path d=\"M17.41 7.96l-1.37-1.37c-.4-.4-.92-.59-1.43-.59-.52 0-1.04.2-1.43.59L10.3 9.45l-7.72 7.72c-.78.78-.78 2.05 0 2.83L4 21.41c.39.39.9.59 1.41.59.51 0 1.02-.2 1.41-.59l7.78-7.78 2.81-2.81c.8-.78.8-2.07 0-2.86zM5.41 20L4 18.59l7.72-7.72 1.47 1.35L5.41 20z\"/>\n",
              "  </svg>\n",
              "      </button>\n",
              "      \n",
              "  <style>\n",
              "    .colab-df-container {\n",
              "      display:flex;\n",
              "      flex-wrap:wrap;\n",
              "      gap: 12px;\n",
              "    }\n",
              "\n",
              "    .colab-df-convert {\n",
              "      background-color: #E8F0FE;\n",
              "      border: none;\n",
              "      border-radius: 50%;\n",
              "      cursor: pointer;\n",
              "      display: none;\n",
              "      fill: #1967D2;\n",
              "      height: 32px;\n",
              "      padding: 0 0 0 0;\n",
              "      width: 32px;\n",
              "    }\n",
              "\n",
              "    .colab-df-convert:hover {\n",
              "      background-color: #E2EBFA;\n",
              "      box-shadow: 0px 1px 2px rgba(60, 64, 67, 0.3), 0px 1px 3px 1px rgba(60, 64, 67, 0.15);\n",
              "      fill: #174EA6;\n",
              "    }\n",
              "\n",
              "    [theme=dark] .colab-df-convert {\n",
              "      background-color: #3B4455;\n",
              "      fill: #D2E3FC;\n",
              "    }\n",
              "\n",
              "    [theme=dark] .colab-df-convert:hover {\n",
              "      background-color: #434B5C;\n",
              "      box-shadow: 0px 1px 3px 1px rgba(0, 0, 0, 0.15);\n",
              "      filter: drop-shadow(0px 1px 2px rgba(0, 0, 0, 0.3));\n",
              "      fill: #FFFFFF;\n",
              "    }\n",
              "  </style>\n",
              "\n",
              "      <script>\n",
              "        const buttonEl =\n",
              "          document.querySelector('#df-dbcde2ed-ca83-4cb1-a8dc-46b4744eb118 button.colab-df-convert');\n",
              "        buttonEl.style.display =\n",
              "          google.colab.kernel.accessAllowed ? 'block' : 'none';\n",
              "\n",
              "        async function convertToInteractive(key) {\n",
              "          const element = document.querySelector('#df-dbcde2ed-ca83-4cb1-a8dc-46b4744eb118');\n",
              "          const dataTable =\n",
              "            await google.colab.kernel.invokeFunction('convertToInteractive',\n",
              "                                                     [key], {});\n",
              "          if (!dataTable) return;\n",
              "\n",
              "          const docLinkHtml = 'Like what you see? Visit the ' +\n",
              "            '<a target=\"_blank\" href=https://colab.research.google.com/notebooks/data_table.ipynb>data table notebook</a>'\n",
              "            + ' to learn more about interactive tables.';\n",
              "          element.innerHTML = '';\n",
              "          dataTable['output_type'] = 'display_data';\n",
              "          await google.colab.output.renderOutput(dataTable, element);\n",
              "          const docLink = document.createElement('div');\n",
              "          docLink.innerHTML = docLinkHtml;\n",
              "          element.appendChild(docLink);\n",
              "        }\n",
              "      </script>\n",
              "    </div>\n",
              "  </div>\n",
              "  "
            ]
          },
          "metadata": {},
          "execution_count": 43
        }
      ]
    },
    {
      "cell_type": "markdown",
      "source": [
        "## Kmeans and PCA"
      ],
      "metadata": {
        "id": "stMn3Iujd1U3"
      }
    },
    {
      "cell_type": "code",
      "source": [
        "# choose the number of clusters\n",
        "k = 3\n",
        "\n",
        "# choose sample size\n",
        "sample_size = 30"
      ],
      "metadata": {
        "id": "O11vNof1lQNQ"
      },
      "execution_count": 44,
      "outputs": []
    },
    {
      "cell_type": "code",
      "source": [
        "start = 100\n",
        "ids = list(range(start, start+sample_size))\n",
        "X = df_tf[cols].iloc[ids]\n",
        "\n",
        "scaler = StandardScaler()\n",
        "scaler.fit(X)\n",
        "\n",
        "X_ss = scaler.transform(X)\n",
        "X = pd.DataFrame(data=X_ss, columns=X.columns)\n",
        "print(f'The shape of X is {X.shape}')\n",
        "\n",
        "titles = df.iloc[ids].title.values\n",
        "titles = [re.sub('[^A-Za-z0-9]+', '', x.title()) for x in titles]"
      ],
      "metadata": {
        "colab": {
          "base_uri": "https://localhost:8080/"
        },
        "id": "kN_TZmLjNR4j",
        "outputId": "00052521-e247-42bd-de58-fc7992c8d69e"
      },
      "execution_count": 47,
      "outputs": [
        {
          "output_type": "stream",
          "name": "stdout",
          "text": [
            "The shape of X is (30, 500)\n"
          ]
        }
      ]
    },
    {
      "cell_type": "code",
      "source": [
        "kmeans = KMeans(n_clusters=k, random_state=0)\n",
        "kmeans.fit(X)\n",
        "labels = kmeans.labels_\n",
        "\n",
        "pca = PCA(n_components = 2)\n",
        "Y = pca.fit_transform(X)\n",
        "fig = plt.figure(figsize = (20, 10))\n",
        "ax = fig.add_subplot(111)\n",
        "ax.scatter(Y[:, 0], Y[:, 1], c = labels, cmap = pylab.cm.cool)\n",
        "for i, word in enumerate(titles):\n",
        "    ax.annotate(word, xy = (Y[i, 0], Y[i, 1]))"
      ],
      "metadata": {
        "colab": {
          "base_uri": "https://localhost:8080/",
          "height": 586
        },
        "id": "wRSrl0dHq0zk",
        "outputId": "d60fc58a-ebbc-4199-f5a0-368f3237f830"
      },
      "execution_count": 48,
      "outputs": [
        {
          "output_type": "display_data",
          "data": {
            "text/plain": [
              "<Figure size 1440x720 with 1 Axes>"
            ],
            "image/png": "[encoded data removed]"
          },
          "metadata": {
            "needs_background": "light"
          }
        }
      ]
    },
    {
      "cell_type": "markdown",
      "source": [
        "Check relation to target:"
      ],
      "metadata": {
        "id": "0Qin5hRZZO5F"
      }
    },
    {
      "cell_type": "code",
      "source": [
        ""
      ],
      "metadata": {
        "id": "r6kjlvlPZQVG"
      },
      "execution_count": null,
      "outputs": []
    },
    {
      "cell_type": "markdown",
      "source": [
        "INTERPRETATION ---- need to read stories..."
      ],
      "metadata": {
        "id": "bH77dAh9q6ZD"
      }
    },
    {
      "cell_type": "code",
      "source": [
        "df_pca_comps = pd.DataFrame(pca.components_, columns = X.columns)\n",
        "tops_comps = pd.DataFrame(df_pca_comps.apply(lambda x:list(X.columns[np.array(x)\\\n",
        "                                        .argsort()[::-1][:3]]), \n",
        "                                      axis=1).to_list(),  \n",
        "                   columns=['Most Important Feature', \n",
        "                            '2nd Most Important Feature', \n",
        "                            '3rd Most Important Feature'])\n",
        "tops_comps.index.name = 'component_no'\n",
        "tops_comps"
      ],
      "metadata": {
        "colab": {
          "base_uri": "https://localhost:8080/",
          "height": 143
        },
        "id": "hDhkq84Xq4sh",
        "outputId": "02a77dc2-5000-4ef7-a4db-9fc5b21642b9"
      },
      "execution_count": 49,
      "outputs": [
        {
          "output_type": "execute_result",
          "data": {
            "text/plain": [
              "             Most Important Feature 2nd Most Important Feature  \\\n",
              "component_no                                                     \n",
              "0                              pron                      think   \n",
              "1                             mouth                 pron reach   \n",
              "\n",
              "             3rd Most Important Feature  \n",
              "component_no                             \n",
              "0                            think pron  \n",
              "1                                   bag  "
            ],
            "text/html": [
              "\n",
              "  <div id=\"df-0b4bc533-1632-44b9-9f68-822429fd5ece\">\n",
              "    <div class=\"colab-df-container\">\n",
              "      <div>\n",
              "<style scoped>\n",
              "    .dataframe tbody tr th:only-of-type {\n",
              "        vertical-align: middle;\n",
              "    }\n",
              "\n",
              "    .dataframe tbody tr th {\n",
              "        vertical-align: top;\n",
              "    }\n",
              "\n",
              "    .dataframe thead th {\n",
              "        text-align: right;\n",
              "    }\n",
              "</style>\n",
              "<table border=\"1\" class=\"dataframe\">\n",
              "  <thead>\n",
              "    <tr style=\"text-align: right;\">\n",
              "      <th></th>\n",
              "      <th>Most Important Feature</th>\n",
              "      <th>2nd Most Important Feature</th>\n",
              "      <th>3rd Most Important Feature</th>\n",
              "    </tr>\n",
              "    <tr>\n",
              "      <th>component_no</th>\n",
              "      <th></th>\n",
              "      <th></th>\n",
              "      <th></th>\n",
              "    </tr>\n",
              "  </thead>\n",
              "  <tbody>\n",
              "    <tr>\n",
              "      <th>0</th>\n",
              "      <td>pron</td>\n",
              "      <td>think</td>\n",
              "      <td>think pron</td>\n",
              "    </tr>\n",
              "    <tr>\n",
              "      <th>1</th>\n",
              "      <td>mouth</td>\n",
              "      <td>pron reach</td>\n",
              "      <td>bag</td>\n",
              "    </tr>\n",
              "  </tbody>\n",
              "</table>\n",
              "</div>\n",
              "      <button class=\"colab-df-convert\" onclick=\"convertToInteractive('df-0b4bc533-1632-44b9-9f68-822429fd5ece')\"\n",
              "              title=\"Convert this dataframe to an interactive table.\"\n",
              "              style=\"display:none;\">\n",
              "        \n",
              "  <svg xmlns=\"http://www.w3.org/2000/svg\" height=\"24px\"viewBox=\"0 0 24 24\"\n",
              "       width=\"24px\">\n",
              "    <path d=\"M0 0h24v24H0V0z\" fill=\"none\"/>\n",
              "    <path d=\"M18.56 5.44l.94 2.06.94-2.06 2.06-.94-2.06-.94-.94-2.06-.94 2.06-2.06.94zm-11 1L8.5 8.5l.94-2.06 2.06-.94-2.06-.94L8.5 2.5l-.94 2.06-2.06.94zm10 10l.94 2.06.94-2.06 2.06-.94-2.06-.94-.94-2.06-.94 2.06-2.06.94z\"/><path d=\"M17.41 7.96l-1.37-1.37c-.4-.4-.92-.59-1.43-.59-.52 0-1.04.2-1.43.59L10.3 9.45l-7.72 7.72c-.78.78-.78 2.05 0 2.83L4 21.41c.39.39.9.59 1.41.59.51 0 1.02-.2 1.41-.59l7.78-7.78 2.81-2.81c.8-.78.8-2.07 0-2.86zM5.41 20L4 18.59l7.72-7.72 1.47 1.35L5.41 20z\"/>\n",
              "  </svg>\n",
              "      </button>\n",
              "      \n",
              "  <style>\n",
              "    .colab-df-container {\n",
              "      display:flex;\n",
              "      flex-wrap:wrap;\n",
              "      gap: 12px;\n",
              "    }\n",
              "\n",
              "    .colab-df-convert {\n",
              "      background-color: #E8F0FE;\n",
              "      border: none;\n",
              "      border-radius: 50%;\n",
              "      cursor: pointer;\n",
              "      display: none;\n",
              "      fill: #1967D2;\n",
              "      height: 32px;\n",
              "      padding: 0 0 0 0;\n",
              "      width: 32px;\n",
              "    }\n",
              "\n",
              "    .colab-df-convert:hover {\n",
              "      background-color: #E2EBFA;\n",
              "      box-shadow: 0px 1px 2px rgba(60, 64, 67, 0.3), 0px 1px 3px 1px rgba(60, 64, 67, 0.15);\n",
              "      fill: #174EA6;\n",
              "    }\n",
              "\n",
              "    [theme=dark] .colab-df-convert {\n",
              "      background-color: #3B4455;\n",
              "      fill: #D2E3FC;\n",
              "    }\n",
              "\n",
              "    [theme=dark] .colab-df-convert:hover {\n",
              "      background-color: #434B5C;\n",
              "      box-shadow: 0px 1px 3px 1px rgba(0, 0, 0, 0.15);\n",
              "      filter: drop-shadow(0px 1px 2px rgba(0, 0, 0, 0.3));\n",
              "      fill: #FFFFFF;\n",
              "    }\n",
              "  </style>\n",
              "\n",
              "      <script>\n",
              "        const buttonEl =\n",
              "          document.querySelector('#df-0b4bc533-1632-44b9-9f68-822429fd5ece button.colab-df-convert');\n",
              "        buttonEl.style.display =\n",
              "          google.colab.kernel.accessAllowed ? 'block' : 'none';\n",
              "\n",
              "        async function convertToInteractive(key) {\n",
              "          const element = document.querySelector('#df-0b4bc533-1632-44b9-9f68-822429fd5ece');\n",
              "          const dataTable =\n",
              "            await google.colab.kernel.invokeFunction('convertToInteractive',\n",
              "                                                     [key], {});\n",
              "          if (!dataTable) return;\n",
              "\n",
              "          const docLinkHtml = 'Like what you see? Visit the ' +\n",
              "            '<a target=\"_blank\" href=https://colab.research.google.com/notebooks/data_table.ipynb>data table notebook</a>'\n",
              "            + ' to learn more about interactive tables.';\n",
              "          element.innerHTML = '';\n",
              "          dataTable['output_type'] = 'display_data';\n",
              "          await google.colab.output.renderOutput(dataTable, element);\n",
              "          const docLink = document.createElement('div');\n",
              "          docLink.innerHTML = docLinkHtml;\n",
              "          element.appendChild(docLink);\n",
              "        }\n",
              "      </script>\n",
              "    </div>\n",
              "  </div>\n",
              "  "
            ]
          },
          "metadata": {},
          "execution_count": 49
        }
      ]
    },
    {
      "cell_type": "markdown",
      "source": [
        "# Kmeans and PCA with TF/IDF"
      ],
      "metadata": {
        "id": "DWWXtrQDnXQs"
      }
    },
    {
      "cell_type": "markdown",
      "source": [
        "## Apply TfidfVectorizer"
      ],
      "metadata": {
        "id": "mTxeE4K3z7wG"
      }
    },
    {
      "cell_type": "code",
      "source": [
        "%%time\n",
        "from sklearn.feature_extraction.text import TfidfVectorizer\n",
        "vectorizer = TfidfVectorizer(ngram_range=(1,3), \n",
        "                             stop_words=stop_list, \n",
        "                             max_features=1000)\n",
        "X = vectorizer.fit_transform(stories_lemma)"
      ],
      "metadata": {
        "colab": {
          "base_uri": "https://localhost:8080/"
        },
        "id": "hjTQRjDF0AjI",
        "outputId": "1186da8b-d263-4285-9339-4996d6d84874"
      },
      "execution_count": 50,
      "outputs": [
        {
          "output_type": "stream",
          "name": "stderr",
          "text": [
            "/usr/local/lib/python3.7/dist-packages/sklearn/feature_extraction/text.py:401: UserWarning: Your stop_words may be inconsistent with your preprocessing. Tokenizing the stop words generated tokens ['indeed', 'until'] not in stop_words.\n",
            "  % sorted(inconsistent)\n"
          ]
        },
        {
          "output_type": "stream",
          "name": "stdout",
          "text": [
            "CPU times: user 23.7 s, sys: 401 ms, total: 24.1 s\n",
            "Wall time: 24.1 s\n"
          ]
        }
      ]
    },
    {
      "cell_type": "code",
      "source": [
        "cols = vectorizer.get_feature_names_out()"
      ],
      "metadata": {
        "id": "EmJD3Dd9Xczy"
      },
      "execution_count": 51,
      "outputs": []
    },
    {
      "cell_type": "code",
      "source": [
        "df_tfidf = pd.DataFrame(X.toarray(), columns=cols)"
      ],
      "metadata": {
        "id": "poQ6tso8XkKW"
      },
      "execution_count": 52,
      "outputs": []
    },
    {
      "cell_type": "code",
      "source": [
        "df_tfidf.head(2)"
      ],
      "metadata": {
        "colab": {
          "base_uri": "https://localhost:8080/",
          "height": 223
        },
        "id": "K9fOkZ6vM9ZY",
        "outputId": "21f4bd41-b88f-4a84-8f29-eda7105dba6a"
      },
      "execution_count": 53,
      "outputs": [
        {
          "output_type": "execute_result",
          "data": {
            "text/plain": [
              "       able  accept  act       add   against  against pron  age       ago  \\\n",
              "0  0.010262     0.0  0.0  0.006242  0.000000      0.000000  0.0  0.004875   \n",
              "1  0.000000     0.0  0.0  0.000000  0.043338      0.030015  0.0  0.000000   \n",
              "\n",
              "   ago pron  agree  ...  wrong pron      yeah  yeah pron      year  year ago  \\\n",
              "0  0.006242    0.0  ...     0.00683  0.006132   0.006932  0.029468  0.006718   \n",
              "1  0.000000    0.0  ...     0.00000  0.000000   0.000000  0.000000  0.000000   \n",
              "\n",
              "   year old  year pron      yell  yellow  young  \n",
              "0  0.006566    0.01431  0.006454     0.0    0.0  \n",
              "1  0.000000    0.00000  0.000000     0.0    0.0  \n",
              "\n",
              "[2 rows x 1000 columns]"
            ],
            "text/html": [
              "\n",
              "  <div id=\"df-ae1d40c0-ce2a-4281-99b2-0720d4917931\">\n",
              "    <div class=\"colab-df-container\">\n",
              "      <div>\n",
              "<style scoped>\n",
              "    .dataframe tbody tr th:only-of-type {\n",
              "        vertical-align: middle;\n",
              "    }\n",
              "\n",
              "    .dataframe tbody tr th {\n",
              "        vertical-align: top;\n",
              "    }\n",
              "\n",
              "    .dataframe thead th {\n",
              "        text-align: right;\n",
              "    }\n",
              "</style>\n",
              "<table border=\"1\" class=\"dataframe\">\n",
              "  <thead>\n",
              "    <tr style=\"text-align: right;\">\n",
              "      <th></th>\n",
              "      <th>able</th>\n",
              "      <th>accept</th>\n",
              "      <th>act</th>\n",
              "      <th>add</th>\n",
              "      <th>against</th>\n",
              "      <th>against pron</th>\n",
              "      <th>age</th>\n",
              "      <th>ago</th>\n",
              "      <th>ago pron</th>\n",
              "      <th>agree</th>\n",
              "      <th>...</th>\n",
              "      <th>wrong pron</th>\n",
              "      <th>yeah</th>\n",
              "      <th>yeah pron</th>\n",
              "      <th>year</th>\n",
              "      <th>year ago</th>\n",
              "      <th>year old</th>\n",
              "      <th>year pron</th>\n",
              "      <th>yell</th>\n",
              "      <th>yellow</th>\n",
              "      <th>young</th>\n",
              "    </tr>\n",
              "  </thead>\n",
              "  <tbody>\n",
              "    <tr>\n",
              "      <th>0</th>\n",
              "      <td>0.010262</td>\n",
              "      <td>0.0</td>\n",
              "      <td>0.0</td>\n",
              "      <td>0.006242</td>\n",
              "      <td>0.000000</td>\n",
              "      <td>0.000000</td>\n",
              "      <td>0.0</td>\n",
              "      <td>0.004875</td>\n",
              "      <td>0.006242</td>\n",
              "      <td>0.0</td>\n",
              "      <td>...</td>\n",
              "      <td>0.00683</td>\n",
              "      <td>0.006132</td>\n",
              "      <td>0.006932</td>\n",
              "      <td>0.029468</td>\n",
              "      <td>0.006718</td>\n",
              "      <td>0.006566</td>\n",
              "      <td>0.01431</td>\n",
              "      <td>0.006454</td>\n",
              "      <td>0.0</td>\n",
              "      <td>0.0</td>\n",
              "    </tr>\n",
              "    <tr>\n",
              "      <th>1</th>\n",
              "      <td>0.000000</td>\n",
              "      <td>0.0</td>\n",
              "      <td>0.0</td>\n",
              "      <td>0.000000</td>\n",
              "      <td>0.043338</td>\n",
              "      <td>0.030015</td>\n",
              "      <td>0.0</td>\n",
              "      <td>0.000000</td>\n",
              "      <td>0.000000</td>\n",
              "      <td>0.0</td>\n",
              "      <td>...</td>\n",
              "      <td>0.00000</td>\n",
              "      <td>0.000000</td>\n",
              "      <td>0.000000</td>\n",
              "      <td>0.000000</td>\n",
              "      <td>0.000000</td>\n",
              "      <td>0.000000</td>\n",
              "      <td>0.00000</td>\n",
              "      <td>0.000000</td>\n",
              "      <td>0.0</td>\n",
              "      <td>0.0</td>\n",
              "    </tr>\n",
              "  </tbody>\n",
              "</table>\n",
              "<p>2 rows × 1000 columns</p>\n",
              "</div>\n",
              "      <button class=\"colab-df-convert\" onclick=\"convertToInteractive('df-ae1d40c0-ce2a-4281-99b2-0720d4917931')\"\n",
              "              title=\"Convert this dataframe to an interactive table.\"\n",
              "              style=\"display:none;\">\n",
              "        \n",
              "  <svg xmlns=\"http://www.w3.org/2000/svg\" height=\"24px\"viewBox=\"0 0 24 24\"\n",
              "       width=\"24px\">\n",
              "    <path d=\"M0 0h24v24H0V0z\" fill=\"none\"/>\n",
              "    <path d=\"M18.56 5.44l.94 2.06.94-2.06 2.06-.94-2.06-.94-.94-2.06-.94 2.06-2.06.94zm-11 1L8.5 8.5l.94-2.06 2.06-.94-2.06-.94L8.5 2.5l-.94 2.06-2.06.94zm10 10l.94 2.06.94-2.06 2.06-.94-2.06-.94-.94-2.06-.94 2.06-2.06.94z\"/><path d=\"M17.41 7.96l-1.37-1.37c-.4-.4-.92-.59-1.43-.59-.52 0-1.04.2-1.43.59L10.3 9.45l-7.72 7.72c-.78.78-.78 2.05 0 2.83L4 21.41c.39.39.9.59 1.41.59.51 0 1.02-.2 1.41-.59l7.78-7.78 2.81-2.81c.8-.78.8-2.07 0-2.86zM5.41 20L4 18.59l7.72-7.72 1.47 1.35L5.41 20z\"/>\n",
              "  </svg>\n",
              "      </button>\n",
              "      \n",
              "  <style>\n",
              "    .colab-df-container {\n",
              "      display:flex;\n",
              "      flex-wrap:wrap;\n",
              "      gap: 12px;\n",
              "    }\n",
              "\n",
              "    .colab-df-convert {\n",
              "      background-color: #E8F0FE;\n",
              "      border: none;\n",
              "      border-radius: 50%;\n",
              "      cursor: pointer;\n",
              "      display: none;\n",
              "      fill: #1967D2;\n",
              "      height: 32px;\n",
              "      padding: 0 0 0 0;\n",
              "      width: 32px;\n",
              "    }\n",
              "\n",
              "    .colab-df-convert:hover {\n",
              "      background-color: #E2EBFA;\n",
              "      box-shadow: 0px 1px 2px rgba(60, 64, 67, 0.3), 0px 1px 3px 1px rgba(60, 64, 67, 0.15);\n",
              "      fill: #174EA6;\n",
              "    }\n",
              "\n",
              "    [theme=dark] .colab-df-convert {\n",
              "      background-color: #3B4455;\n",
              "      fill: #D2E3FC;\n",
              "    }\n",
              "\n",
              "    [theme=dark] .colab-df-convert:hover {\n",
              "      background-color: #434B5C;\n",
              "      box-shadow: 0px 1px 3px 1px rgba(0, 0, 0, 0.15);\n",
              "      filter: drop-shadow(0px 1px 2px rgba(0, 0, 0, 0.3));\n",
              "      fill: #FFFFFF;\n",
              "    }\n",
              "  </style>\n",
              "\n",
              "      <script>\n",
              "        const buttonEl =\n",
              "          document.querySelector('#df-ae1d40c0-ce2a-4281-99b2-0720d4917931 button.colab-df-convert');\n",
              "        buttonEl.style.display =\n",
              "          google.colab.kernel.accessAllowed ? 'block' : 'none';\n",
              "\n",
              "        async function convertToInteractive(key) {\n",
              "          const element = document.querySelector('#df-ae1d40c0-ce2a-4281-99b2-0720d4917931');\n",
              "          const dataTable =\n",
              "            await google.colab.kernel.invokeFunction('convertToInteractive',\n",
              "                                                     [key], {});\n",
              "          if (!dataTable) return;\n",
              "\n",
              "          const docLinkHtml = 'Like what you see? Visit the ' +\n",
              "            '<a target=\"_blank\" href=https://colab.research.google.com/notebooks/data_table.ipynb>data table notebook</a>'\n",
              "            + ' to learn more about interactive tables.';\n",
              "          element.innerHTML = '';\n",
              "          dataTable['output_type'] = 'display_data';\n",
              "          await google.colab.output.renderOutput(dataTable, element);\n",
              "          const docLink = document.createElement('div');\n",
              "          docLink.innerHTML = docLinkHtml;\n",
              "          element.appendChild(docLink);\n",
              "        }\n",
              "      </script>\n",
              "    </div>\n",
              "  </div>\n",
              "  "
            ]
          },
          "metadata": {},
          "execution_count": 53
        }
      ]
    },
    {
      "cell_type": "markdown",
      "source": [
        "##EDA"
      ],
      "metadata": {
        "id": "YpytFk8bOWU1"
      }
    },
    {
      "cell_type": "code",
      "source": [
        "# choose the number of clusters\n",
        "k = 4\n",
        "\n",
        "# choose sample size\n",
        "sample_size = 30"
      ],
      "metadata": {
        "id": "JS4eSxlsOVGV"
      },
      "execution_count": 62,
      "outputs": []
    },
    {
      "cell_type": "code",
      "source": [
        "start = 100\n",
        "ids = list(range(start, start+sample_size))\n",
        "X = df_tfidf[cols].iloc[ids]\n",
        "\n",
        "scaler = StandardScaler()\n",
        "scaler.fit(X)\n",
        "\n",
        "X_ss = scaler.transform(X)\n",
        "X = pd.DataFrame(data=X_ss, columns=X.columns)\n",
        "print(f'The shape of X is {X.shape}')\n",
        "\n",
        "titles = df.iloc[ids].title.values\n",
        "titles = [re.sub('[^A-Za-z0-9]+', '', x.title()) for x in titles]"
      ],
      "metadata": {
        "colab": {
          "base_uri": "https://localhost:8080/"
        },
        "id": "JOL77BmVNzBq",
        "outputId": "0e39f30e-1841-4eb9-9758-49d6150198f1"
      },
      "execution_count": 63,
      "outputs": [
        {
          "output_type": "stream",
          "name": "stdout",
          "text": [
            "The shape of X is (30, 1000)\n"
          ]
        }
      ]
    },
    {
      "cell_type": "code",
      "source": [
        "kmeans = KMeans(n_clusters=k, random_state=0)\n",
        "kmeans.fit(X)\n",
        "labels = kmeans.labels_\n",
        "\n",
        "pca = PCA(n_components = 2)\n",
        "Y = pca.fit_transform(X)\n",
        "fig = plt.figure(figsize = (20, 10))\n",
        "ax = fig.add_subplot(111)\n",
        "ax.scatter(Y[:, 0], Y[:, 1], c = labels, cmap = pylab.cm.cool)\n",
        "for i, word in enumerate(titles):\n",
        "    ax.annotate(word, xy = (Y[i, 0], Y[i, 1]))"
      ],
      "metadata": {
        "colab": {
          "base_uri": "https://localhost:8080/",
          "height": 592
        },
        "id": "efkA5wApXUbx",
        "outputId": "d475fa5a-bc68-49da-d6f3-36068c31d236"
      },
      "execution_count": 64,
      "outputs": [
        {
          "output_type": "display_data",
          "data": {
            "text/plain": [
              "<Figure size 1440x720 with 1 Axes>"
            ],
            "image/png": "[encoded data removed]"
          },
          "metadata": {
            "needs_background": "light"
          }
        }
      ]
    },
    {
      "cell_type": "code",
      "source": [
        "df_pca_comps = pd.DataFrame(pca.components_, columns = X.columns)\n",
        "tops_comps = pd.DataFrame(df_pca_comps.apply(lambda x:list(X.columns[np.array(x)\\\n",
        "                                        .argsort()[::-1][:3]]), \n",
        "                                      axis=1).to_list(),  \n",
        "                   columns=['Most Important Feature', \n",
        "                            '2nd Most Important Feature', \n",
        "                            '3rd Most Important Feature'])\n",
        "tops_comps.index.name = 'component_no'\n",
        "tops_comps"
      ],
      "metadata": {
        "colab": {
          "base_uri": "https://localhost:8080/",
          "height": 143
        },
        "id": "2cgk6UoMD-4Q",
        "outputId": "f9f7045f-bbfc-45cb-bcc0-a61968540e0c"
      },
      "execution_count": 66,
      "outputs": [
        {
          "output_type": "execute_result",
          "data": {
            "text/plain": [
              "             Most Important Feature 2nd Most Important Feature  \\\n",
              "component_no                                                     \n",
              "0                         pron hair                       pass   \n",
              "1                        pron cheek                      cheek   \n",
              "\n",
              "             3rd Most Important Feature  \n",
              "component_no                             \n",
              "0                                  head  \n",
              "1                              pron eye  "
            ],
            "text/html": [
              "\n",
              "  <div id=\"df-4504ce55-462f-4739-b459-43700ac9ca62\">\n",
              "    <div class=\"colab-df-container\">\n",
              "      <div>\n",
              "<style scoped>\n",
              "    .dataframe tbody tr th:only-of-type {\n",
              "        vertical-align: middle;\n",
              "    }\n",
              "\n",
              "    .dataframe tbody tr th {\n",
              "        vertical-align: top;\n",
              "    }\n",
              "\n",
              "    .dataframe thead th {\n",
              "        text-align: right;\n",
              "    }\n",
              "</style>\n",
              "<table border=\"1\" class=\"dataframe\">\n",
              "  <thead>\n",
              "    <tr style=\"text-align: right;\">\n",
              "      <th></th>\n",
              "      <th>Most Important Feature</th>\n",
              "      <th>2nd Most Important Feature</th>\n",
              "      <th>3rd Most Important Feature</th>\n",
              "    </tr>\n",
              "    <tr>\n",
              "      <th>component_no</th>\n",
              "      <th></th>\n",
              "      <th></th>\n",
              "      <th></th>\n",
              "    </tr>\n",
              "  </thead>\n",
              "  <tbody>\n",
              "    <tr>\n",
              "      <th>0</th>\n",
              "      <td>pron hair</td>\n",
              "      <td>pass</td>\n",
              "      <td>head</td>\n",
              "    </tr>\n",
              "    <tr>\n",
              "      <th>1</th>\n",
              "      <td>pron cheek</td>\n",
              "      <td>cheek</td>\n",
              "      <td>pron eye</td>\n",
              "    </tr>\n",
              "  </tbody>\n",
              "</table>\n",
              "</div>\n",
              "      <button class=\"colab-df-convert\" onclick=\"convertToInteractive('df-4504ce55-462f-4739-b459-43700ac9ca62')\"\n",
              "              title=\"Convert this dataframe to an interactive table.\"\n",
              "              style=\"display:none;\">\n",
              "        \n",
              "  <svg xmlns=\"http://www.w3.org/2000/svg\" height=\"24px\"viewBox=\"0 0 24 24\"\n",
              "       width=\"24px\">\n",
              "    <path d=\"M0 0h24v24H0V0z\" fill=\"none\"/>\n",
              "    <path d=\"M18.56 5.44l.94 2.06.94-2.06 2.06-.94-2.06-.94-.94-2.06-.94 2.06-2.06.94zm-11 1L8.5 8.5l.94-2.06 2.06-.94-2.06-.94L8.5 2.5l-.94 2.06-2.06.94zm10 10l.94 2.06.94-2.06 2.06-.94-2.06-.94-.94-2.06-.94 2.06-2.06.94z\"/><path d=\"M17.41 7.96l-1.37-1.37c-.4-.4-.92-.59-1.43-.59-.52 0-1.04.2-1.43.59L10.3 9.45l-7.72 7.72c-.78.78-.78 2.05 0 2.83L4 21.41c.39.39.9.59 1.41.59.51 0 1.02-.2 1.41-.59l7.78-7.78 2.81-2.81c.8-.78.8-2.07 0-2.86zM5.41 20L4 18.59l7.72-7.72 1.47 1.35L5.41 20z\"/>\n",
              "  </svg>\n",
              "      </button>\n",
              "      \n",
              "  <style>\n",
              "    .colab-df-container {\n",
              "      display:flex;\n",
              "      flex-wrap:wrap;\n",
              "      gap: 12px;\n",
              "    }\n",
              "\n",
              "    .colab-df-convert {\n",
              "      background-color: #E8F0FE;\n",
              "      border: none;\n",
              "      border-radius: 50%;\n",
              "      cursor: pointer;\n",
              "      display: none;\n",
              "      fill: #1967D2;\n",
              "      height: 32px;\n",
              "      padding: 0 0 0 0;\n",
              "      width: 32px;\n",
              "    }\n",
              "\n",
              "    .colab-df-convert:hover {\n",
              "      background-color: #E2EBFA;\n",
              "      box-shadow: 0px 1px 2px rgba(60, 64, 67, 0.3), 0px 1px 3px 1px rgba(60, 64, 67, 0.15);\n",
              "      fill: #174EA6;\n",
              "    }\n",
              "\n",
              "    [theme=dark] .colab-df-convert {\n",
              "      background-color: #3B4455;\n",
              "      fill: #D2E3FC;\n",
              "    }\n",
              "\n",
              "    [theme=dark] .colab-df-convert:hover {\n",
              "      background-color: #434B5C;\n",
              "      box-shadow: 0px 1px 3px 1px rgba(0, 0, 0, 0.15);\n",
              "      filter: drop-shadow(0px 1px 2px rgba(0, 0, 0, 0.3));\n",
              "      fill: #FFFFFF;\n",
              "    }\n",
              "  </style>\n",
              "\n",
              "      <script>\n",
              "        const buttonEl =\n",
              "          document.querySelector('#df-4504ce55-462f-4739-b459-43700ac9ca62 button.colab-df-convert');\n",
              "        buttonEl.style.display =\n",
              "          google.colab.kernel.accessAllowed ? 'block' : 'none';\n",
              "\n",
              "        async function convertToInteractive(key) {\n",
              "          const element = document.querySelector('#df-4504ce55-462f-4739-b459-43700ac9ca62');\n",
              "          const dataTable =\n",
              "            await google.colab.kernel.invokeFunction('convertToInteractive',\n",
              "                                                     [key], {});\n",
              "          if (!dataTable) return;\n",
              "\n",
              "          const docLinkHtml = 'Like what you see? Visit the ' +\n",
              "            '<a target=\"_blank\" href=https://colab.research.google.com/notebooks/data_table.ipynb>data table notebook</a>'\n",
              "            + ' to learn more about interactive tables.';\n",
              "          element.innerHTML = '';\n",
              "          dataTable['output_type'] = 'display_data';\n",
              "          await google.colab.output.renderOutput(dataTable, element);\n",
              "          const docLink = document.createElement('div');\n",
              "          docLink.innerHTML = docLinkHtml;\n",
              "          element.appendChild(docLink);\n",
              "        }\n",
              "      </script>\n",
              "    </div>\n",
              "  </div>\n",
              "  "
            ]
          },
          "metadata": {},
          "execution_count": 66
        }
      ]
    },
    {
      "cell_type": "markdown",
      "source": [
        "Check relation of clusters to target"
      ],
      "metadata": {
        "id": "83q9XoJ9ZSPa"
      }
    },
    {
      "cell_type": "code",
      "source": [
        ""
      ],
      "metadata": {
        "id": "rbq1yP0NXUGb"
      },
      "execution_count": null,
      "outputs": []
    },
    {
      "cell_type": "markdown",
      "source": [
        "# Text to word, word to vector"
      ],
      "metadata": {
        "id": "J7USgY5cRWIX"
      }
    },
    {
      "cell_type": "code",
      "source": [
        "import gensim.downloader as api\n",
        "model = api.load('glove-wiki-gigaword-200')"
      ],
      "metadata": {
        "colab": {
          "base_uri": "https://localhost:8080/"
        },
        "id": "y4IvLL6H0N8-",
        "outputId": "60c38a1e-d133-4518-90fe-1d7c1480ab0d"
      },
      "execution_count": 70,
      "outputs": [
        {
          "output_type": "stream",
          "name": "stdout",
          "text": [
            "[==================================================] 100.0% 252.1/252.1MB downloaded\n"
          ]
        }
      ]
    },
    {
      "cell_type": "code",
      "source": [
        "vocab = {v: k for k, v in vectorizer.vocabulary_.items()}\n"
      ],
      "metadata": {
        "id": "vX8TcAgSQUgX"
      },
      "execution_count": 86,
      "outputs": []
    },
    {
      "cell_type": "code",
      "source": [
        "def embed_text(row):\n",
        "    i=0\n",
        "    best_words = vocab[row.argmax()].split(' ')\n",
        "    \n",
        "    final = np.zeros(200)\n",
        "    for word in best_words:\n",
        "        try:\n",
        "            final += model[word]\n",
        "        except:\n",
        "            i+=1\n",
        "            continue\n",
        "    final = final/len(best_words)\n",
        "    return final, i, \" \".join(best_words)"
      ],
      "metadata": {
        "id": "shPZHmw90PeX"
      },
      "execution_count": 85,
      "outputs": []
    },
    {
      "cell_type": "code",
      "source": [
        "# embeded_arr = [embed_text(row)[0] for row in X.toarray()]\n",
        "embeded_arr = []\n",
        "best_words = []\n",
        "for index, row in X.iterrows():\n",
        "    emb = embed_text(row)\n",
        "    embeded_arr.append(emb[0])\n",
        "    best_words.append(emb[-1])"
      ],
      "metadata": {
        "id": "NT73RYIT0Sbe"
      },
      "execution_count": 89,
      "outputs": []
    },
    {
      "cell_type": "code",
      "source": [
        "pca = PCA(n_components=2)\n",
        "pca_X2 = pca.fit_transform(embeded_arr)"
      ],
      "metadata": {
        "id": "HW2m4a040UBx"
      },
      "execution_count": 90,
      "outputs": []
    },
    {
      "cell_type": "code",
      "source": [
        "n_clusters = 4\n",
        "\n",
        "km = KMeans(random_state=0)\n",
        "km.fit(embeded_arr)\n",
        "clusters2 = km.labels_"
      ],
      "metadata": {
        "id": "ofM-vHo30VOE"
      },
      "execution_count": 91,
      "outputs": []
    },
    {
      "cell_type": "code",
      "source": [
        "best_words"
      ],
      "metadata": {
        "colab": {
          "base_uri": "https://localhost:8080/"
        },
        "id": "eh6Zheuc0bpj",
        "outputId": "5396cd9f-28fd-4152-ac77-62847af4ec8f"
      },
      "execution_count": 92,
      "outputs": [
        {
          "output_type": "execute_result",
          "data": {
            "text/plain": [
              "['minute pron',\n",
              " 'park',\n",
              " 'mark',\n",
              " 'despite',\n",
              " 'book',\n",
              " 'cat',\n",
              " 'high',\n",
              " 'tiny',\n",
              " 'fire',\n",
              " 'ice',\n",
              " 'pron lie',\n",
              " 'yellow',\n",
              " 'pron hope',\n",
              " 'stranger',\n",
              " 'hospital',\n",
              " 'sea',\n",
              " 'figure',\n",
              " 'son',\n",
              " 'guy',\n",
              " 'smell',\n",
              " 'paint',\n",
              " 'water pron',\n",
              " 'silence',\n",
              " 'possible',\n",
              " 'garden',\n",
              " 'mirror',\n",
              " 'edge',\n",
              " 'water',\n",
              " 'king',\n",
              " 'stomach']"
            ]
          },
          "metadata": {},
          "execution_count": 92
        }
      ]
    },
    {
      "cell_type": "code",
      "source": [
        "import pylab"
      ],
      "metadata": {
        "id": "EswqVcP70XX1"
      },
      "execution_count": 93,
      "outputs": []
    },
    {
      "cell_type": "code",
      "source": [
        "fig = plt.figure(figsize = (25, 15))\n",
        "ax = fig.add_subplot(111)\n",
        "ax.scatter(pca_X2[:, 0], pca_X2[:, 1], c = clusters2, cmap = pylab.cm.cool)\n",
        "for i, word in enumerate(best_words):\n",
        "    if i%3==0:\n",
        "        ax.annotate(word, xy = (pca_X2[i, 0], pca_X2[i, 1]))\n",
        "plt.show()"
      ],
      "metadata": {
        "colab": {
          "base_uri": "https://localhost:8080/",
          "height": 719
        },
        "id": "RV7_uplN0Y_v",
        "outputId": "f9e0e12e-c03c-4369-89b6-a6d4e0e86144"
      },
      "execution_count": 94,
      "outputs": [
        {
          "output_type": "display_data",
          "data": {
            "text/plain": [
              "<Figure size 1800x1080 with 1 Axes>"
            ],
            "image/png": "[encoded data removed]"
          },
          "metadata": {
            "needs_background": "light"
          }
        }
      ]
    },
    {
      "cell_type": "markdown",
      "source": [
        "# text2vect, Kmeans and PCA visualization"
      ],
      "metadata": {
        "id": "873rsPoCWdXD"
      }
    },
    {
      "cell_type": "markdown",
      "source": [
        "In this section, we produce a visualization of the corpus of texts based on its semantic context.\n",
        "\n",
        "We summarize each text by a vector, using gensim Doc2Vec api.\n",
        "\n",
        "The visualization is obtained with kmeans clustering and PCA.\n",
        "\n",
        "The doc-vectors are obtained by training a neural network on the synthetic task of predicting a center word based an average of both context word-vectors and the full document’s doc-vector\n",
        "\n",
        "https://radimrehurek.com/gensim/auto_examples/tutorials/run_doc2vec_lee.html#sphx-glr-auto-examples-tutorials-run-doc2vec-lee-py"
      ],
      "metadata": {
        "id": "7yQBmBR6O5J3"
      }
    },
    {
      "cell_type": "markdown",
      "source": [
        "## Import texts"
      ],
      "metadata": {
        "id": "_NTH5N1fr58G"
      }
    },
    {
      "cell_type": "code",
      "source": [
        "from google.colab import drive\n",
        "drive.mount('/content/drive/')"
      ],
      "metadata": {
        "colab": {
          "base_uri": "https://localhost:8080/"
        },
        "id": "qZSWChzisGep",
        "outputId": "4de1541a-ad6e-4e30-f999-140b08540250"
      },
      "execution_count": null,
      "outputs": [
        {
          "output_type": "stream",
          "name": "stdout",
          "text": [
            "Drive already mounted at /content/drive/; to attempt to forcibly remount, call drive.mount(\"/content/drive/\", force_remount=True).\n"
          ]
        }
      ]
    },
    {
      "cell_type": "code",
      "source": [
        "import pandas as pd\n",
        "df = pd.read_csv(\"drive/MyDrive/Final Project/story_data_new_feats.csv\", usecols=['story_html'])"
      ],
      "metadata": {
        "id": "knjs6dCHr7mQ"
      },
      "execution_count": null,
      "outputs": []
    },
    {
      "cell_type": "code",
      "source": [
        "from bs4 import BeautifulSoup\n",
        "def get_story(row):\n",
        "    # extracting story from html\n",
        "    html = row['story_html']\n",
        "    soup = BeautifulSoup(html, \"html.parser\")\n",
        "    row['story'] = soup.get_text()\n",
        "    return row\n"
      ],
      "metadata": {
        "id": "EjepMKMyVbQ1"
      },
      "execution_count": null,
      "outputs": []
    },
    {
      "cell_type": "code",
      "source": [
        "stories = df.apply(get_story, axis=1)[['story']]"
      ],
      "metadata": {
        "id": "8qHAGFFzVkxs"
      },
      "execution_count": null,
      "outputs": []
    },
    {
      "cell_type": "code",
      "source": [
        "texts = stories.story.to_list()"
      ],
      "metadata": {
        "id": "nmo1AA5rWIXT"
      },
      "execution_count": null,
      "outputs": []
    },
    {
      "cell_type": "markdown",
      "source": [
        "## Train the model"
      ],
      "metadata": {
        "id": "OlmpmkWur750"
      }
    },
    {
      "cell_type": "code",
      "source": [
        "import gensim.downloader as api\n",
        "import gensim"
      ],
      "metadata": {
        "id": "QSPl7hD9X34-"
      },
      "execution_count": null,
      "outputs": []
    },
    {
      "cell_type": "code",
      "source": [
        "# preprocess\n",
        "\n",
        "def read_corpus(text, tokens_only=False):\n",
        "      for i, line in enumerate(text):\n",
        "          tokens = gensim.utils.simple_preprocess(line)\n",
        "          if tokens_only:\n",
        "              yield tokens\n",
        "          else:\n",
        "              # For training data, add tags\n",
        "              yield gensim.models.doc2vec.TaggedDocument(tokens, [i])\n",
        "\n",
        "train_corpus = list(read_corpus(texts))\n",
        "len(train_corpus)"
      ],
      "metadata": {
        "id": "hLA-4K6tWxYE"
      },
      "execution_count": null,
      "outputs": []
    },
    {
      "cell_type": "code",
      "source": [
        "# load model\n",
        "model = gensim.models.doc2vec.Doc2Vec(vector_size=50, min_count=5, epochs=10)\n",
        "\n",
        "# build vocab\n",
        "model.build_vocab(train_corpus)"
      ],
      "metadata": {
        "id": "EnO5Qmzqh8V1"
      },
      "execution_count": null,
      "outputs": []
    },
    {
      "cell_type": "code",
      "source": [
        "%%time\n",
        "# train model\n",
        "model.train(train_corpus, total_examples=model.corpus_count, epochs=model.epochs)"
      ],
      "metadata": {
        "colab": {
          "base_uri": "https://localhost:8080/"
        },
        "id": "wfzyMdyPXnch",
        "outputId": "a9ba7d37-e563-474a-ea9b-e03a0f1bd061"
      },
      "execution_count": null,
      "outputs": [
        {
          "output_type": "stream",
          "name": "stdout",
          "text": [
            "CPU times: user 16min 13s, sys: 6.81 s, total: 16min 20s\n",
            "Wall time: 8min 45s\n"
          ]
        }
      ]
    },
    {
      "cell_type": "markdown",
      "source": [
        "A few examples:"
      ],
      "metadata": {
        "id": "KFp6aCn4dOyO"
      }
    },
    {
      "cell_type": "code",
      "source": [
        "vector1 = model.infer_vector(['rat'])\n",
        "print(vector1)"
      ],
      "metadata": {
        "colab": {
          "base_uri": "https://localhost:8080/"
        },
        "id": "ZIZSiGYqXpZh",
        "outputId": "70460687-ed35-4d79-8537-fc4fe20cc64b"
      },
      "execution_count": null,
      "outputs": [
        {
          "output_type": "stream",
          "name": "stdout",
          "text": [
            "[-0.00028551 -0.00857184  0.01037268  0.00693584 -0.08809856 -0.08779433\n",
            " -0.12161116  0.04784663 -0.08825184 -0.03733197 -0.03574497 -0.01973002\n",
            "  0.09468692 -0.02226037  0.0190661   0.06690324  0.00397203  0.03348624\n",
            "  0.10174558  0.02743867  0.08825613  0.06501657 -0.10288417  0.01471154\n",
            "  0.02526908 -0.03050199  0.10935216  0.06236402  0.10792499 -0.01704365\n",
            "  0.07079046  0.05446685  0.09300351 -0.00995685 -0.07474986 -0.02688879\n",
            "  0.01329137  0.0228958  -0.0117153  -0.01321074  0.01829609  0.0248468\n",
            " -0.07315603 -0.01684311  0.04963949 -0.05146542  0.04681132  0.03833691\n",
            " -0.07166122  0.10433557]\n"
          ]
        }
      ]
    },
    {
      "cell_type": "code",
      "source": [
        "vector2 = model.infer_vector(['Jojo', 'is', 'a', 'rat'])\n",
        "print(vector2)"
      ],
      "metadata": {
        "colab": {
          "base_uri": "https://localhost:8080/"
        },
        "id": "bw3KEQ-HYAxG",
        "outputId": "4876fff3-df06-408a-ba0f-0004a486e56d"
      },
      "execution_count": null,
      "outputs": [
        {
          "output_type": "stream",
          "name": "stdout",
          "text": [
            "[ 3.52473445e-02  4.06649336e-02  1.62622775e-04 -1.71750858e-02\n",
            " -2.61866357e-02 -7.42732435e-02 -7.83883780e-02  6.77780434e-02\n",
            " -1.14307195e-01 -1.61117613e-01 -1.07815668e-01 -2.35696174e-02\n",
            "  2.94084065e-02 -7.72348046e-02 -4.01403382e-02  8.17911252e-02\n",
            " -4.33724083e-04  7.16086552e-02  1.04606017e-01  5.08446954e-02\n",
            "  1.27009973e-01  6.73848316e-02 -9.20429975e-02  6.12418391e-02\n",
            " -1.42196054e-02 -3.53431478e-02  1.34626657e-01  4.38504070e-02\n",
            "  1.12284459e-01  2.48062201e-02  6.70080632e-02  9.09825321e-03\n",
            "  1.14149682e-01  2.86301263e-02 -1.19464062e-01 -6.68263882e-02\n",
            "  3.45130861e-02  7.16688186e-02 -1.27902832e-02 -9.68835037e-03\n",
            " -1.56141911e-02  3.16999555e-02 -8.69699940e-02  1.71119813e-02\n",
            "  7.19097033e-02 -9.23582390e-02  6.65409565e-02  4.04060632e-02\n",
            " -1.27460599e-01  1.67703763e-01]\n"
          ]
        }
      ]
    },
    {
      "cell_type": "code",
      "source": [
        "import numpy as np\n",
        "np.dot(vector1, vector2)"
      ],
      "metadata": {
        "colab": {
          "base_uri": "https://localhost:8080/"
        },
        "id": "x-RtC_20YILV",
        "outputId": "b122eafb-c362-466d-dd8b-9fb428902918"
      },
      "execution_count": null,
      "outputs": [
        {
          "output_type": "execute_result",
          "data": {
            "text/plain": [
              "0.19589506"
            ]
          },
          "metadata": {},
          "execution_count": 14
        }
      ]
    },
    {
      "cell_type": "code",
      "source": [
        "np.linalg.norm(vector1 - vector2)"
      ],
      "metadata": {
        "colab": {
          "base_uri": "https://localhost:8080/"
        },
        "id": "OW7ZpmuKlRkT",
        "outputId": "960fc1ee-3b8a-41ca-8890-133f4cdd3825"
      },
      "execution_count": null,
      "outputs": [
        {
          "output_type": "execute_result",
          "data": {
            "text/plain": [
              "0.27514708"
            ]
          },
          "metadata": {},
          "execution_count": 15
        }
      ]
    },
    {
      "cell_type": "markdown",
      "source": [
        "## Infer and add features"
      ],
      "metadata": {
        "id": "S4wxWb5XlpWa"
      }
    },
    {
      "cell_type": "code",
      "source": [
        "%%time\n",
        "\n",
        "data = []\n",
        "for i in range(len(train_corpus)):\n",
        "  data.append(model.infer_vector(train_corpus[i].words))"
      ],
      "metadata": {
        "colab": {
          "base_uri": "https://localhost:8080/"
        },
        "id": "DCAj3BQZnNB1",
        "outputId": "4c618021-aa4a-4e1a-d1f5-da0b9acf36dd"
      },
      "execution_count": null,
      "outputs": [
        {
          "output_type": "stream",
          "name": "stdout",
          "text": [
            "CPU times: user 9min 22s, sys: 692 ms, total: 9min 22s\n",
            "Wall time: 9min 25s\n"
          ]
        }
      ]
    },
    {
      "cell_type": "code",
      "source": [
        "cols = [f'feat_{i}' for i in range(1,51)]"
      ],
      "metadata": {
        "id": "hZIIXeCun9R2"
      },
      "execution_count": null,
      "outputs": []
    },
    {
      "cell_type": "code",
      "source": [
        "df_50 = pd.DataFrame(data, columns = cols)"
      ],
      "metadata": {
        "id": "ebvbXpgelnqp"
      },
      "execution_count": null,
      "outputs": []
    },
    {
      "cell_type": "code",
      "source": [
        "df_50.head()"
      ],
      "metadata": {
        "colab": {
          "base_uri": "https://localhost:8080/",
          "height": 299
        },
        "id": "xp84LXlloJoO",
        "outputId": "d7fb8ff4-8846-48ad-ab9a-8ebe40e3c240"
      },
      "execution_count": null,
      "outputs": [
        {
          "output_type": "execute_result",
          "data": {
            "text/plain": [
              "     feat_1    feat_2    feat_3    feat_4    feat_5    feat_6    feat_7  \\\n",
              "0  2.659484 -0.523605 -1.404203 -2.391710 -1.427656  1.256782 -0.262918   \n",
              "1  0.756721 -0.735245  0.930490  0.430159  0.920823 -0.517882 -1.637704   \n",
              "2 -1.136603 -1.886631 -3.266066  0.037845  2.591342  0.640861  0.654232   \n",
              "3  0.940223  0.204191 -1.529663  0.687877 -0.202320 -1.549609 -1.206502   \n",
              "4  1.288073  1.388954  2.586727  0.739471  0.513202 -2.528301  2.600472   \n",
              "\n",
              "     feat_8    feat_9   feat_10  ...   feat_41   feat_42   feat_43   feat_44  \\\n",
              "0  0.098928 -1.943198 -3.170513  ... -0.300519 -0.450661  1.022923 -0.465720   \n",
              "1  0.578778  0.981647 -1.794081  ... -0.862206  1.274044 -1.367507  0.929302   \n",
              "2  0.792589 -0.929573  2.053419  ... -0.346342  1.235729 -2.328117 -1.659720   \n",
              "3  0.506514 -1.014185 -0.249134  ... -1.428016  1.698065  1.434236 -0.135730   \n",
              "4  5.204753 -1.283111  1.585567  ...  2.196461 -0.102047 -0.109933 -0.258458   \n",
              "\n",
              "    feat_45   feat_46   feat_47   feat_48   feat_49   feat_50  \n",
              "0  1.512374  2.292235 -0.304154 -1.089412 -1.146687 -0.330198  \n",
              "1 -0.290881 -0.791345  1.490387  0.367852 -1.791149  0.424740  \n",
              "2  3.138215 -3.049757  2.102825 -0.147933 -2.446271 -0.291158  \n",
              "3  1.712987 -1.529778  1.497792  1.533599  0.306178  1.484685  \n",
              "4  0.097764 -0.672371  1.226663  0.039536 -3.179453  0.666221  \n",
              "\n",
              "[5 rows x 50 columns]"
            ],
            "text/html": [
              "\n",
              "  <div id=\"df-cdca5e29-8697-41c3-8102-fd05b7640774\">\n",
              "    <div class=\"colab-df-container\">\n",
              "      <div>\n",
              "<style scoped>\n",
              "    .dataframe tbody tr th:only-of-type {\n",
              "        vertical-align: middle;\n",
              "    }\n",
              "\n",
              "    .dataframe tbody tr th {\n",
              "        vertical-align: top;\n",
              "    }\n",
              "\n",
              "    .dataframe thead th {\n",
              "        text-align: right;\n",
              "    }\n",
              "</style>\n",
              "<table border=\"1\" class=\"dataframe\">\n",
              "  <thead>\n",
              "    <tr style=\"text-align: right;\">\n",
              "      <th></th>\n",
              "      <th>feat_1</th>\n",
              "      <th>feat_2</th>\n",
              "      <th>feat_3</th>\n",
              "      <th>feat_4</th>\n",
              "      <th>feat_5</th>\n",
              "      <th>feat_6</th>\n",
              "      <th>feat_7</th>\n",
              "      <th>feat_8</th>\n",
              "      <th>feat_9</th>\n",
              "      <th>feat_10</th>\n",
              "      <th>...</th>\n",
              "      <th>feat_41</th>\n",
              "      <th>feat_42</th>\n",
              "      <th>feat_43</th>\n",
              "      <th>feat_44</th>\n",
              "      <th>feat_45</th>\n",
              "      <th>feat_46</th>\n",
              "      <th>feat_47</th>\n",
              "      <th>feat_48</th>\n",
              "      <th>feat_49</th>\n",
              "      <th>feat_50</th>\n",
              "    </tr>\n",
              "  </thead>\n",
              "  <tbody>\n",
              "    <tr>\n",
              "      <th>0</th>\n",
              "      <td>2.659484</td>\n",
              "      <td>-0.523605</td>\n",
              "      <td>-1.404203</td>\n",
              "      <td>-2.391710</td>\n",
              "      <td>-1.427656</td>\n",
              "      <td>1.256782</td>\n",
              "      <td>-0.262918</td>\n",
              "      <td>0.098928</td>\n",
              "      <td>-1.943198</td>\n",
              "      <td>-3.170513</td>\n",
              "      <td>...</td>\n",
              "      <td>-0.300519</td>\n",
              "      <td>-0.450661</td>\n",
              "      <td>1.022923</td>\n",
              "      <td>-0.465720</td>\n",
              "      <td>1.512374</td>\n",
              "      <td>2.292235</td>\n",
              "      <td>-0.304154</td>\n",
              "      <td>-1.089412</td>\n",
              "      <td>-1.146687</td>\n",
              "      <td>-0.330198</td>\n",
              "    </tr>\n",
              "    <tr>\n",
              "      <th>1</th>\n",
              "      <td>0.756721</td>\n",
              "      <td>-0.735245</td>\n",
              "      <td>0.930490</td>\n",
              "      <td>0.430159</td>\n",
              "      <td>0.920823</td>\n",
              "      <td>-0.517882</td>\n",
              "      <td>-1.637704</td>\n",
              "      <td>0.578778</td>\n",
              "      <td>0.981647</td>\n",
              "      <td>-1.794081</td>\n",
              "      <td>...</td>\n",
              "      <td>-0.862206</td>\n",
              "      <td>1.274044</td>\n",
              "      <td>-1.367507</td>\n",
              "      <td>0.929302</td>\n",
              "      <td>-0.290881</td>\n",
              "      <td>-0.791345</td>\n",
              "      <td>1.490387</td>\n",
              "      <td>0.367852</td>\n",
              "      <td>-1.791149</td>\n",
              "      <td>0.424740</td>\n",
              "    </tr>\n",
              "    <tr>\n",
              "      <th>2</th>\n",
              "      <td>-1.136603</td>\n",
              "      <td>-1.886631</td>\n",
              "      <td>-3.266066</td>\n",
              "      <td>0.037845</td>\n",
              "      <td>2.591342</td>\n",
              "      <td>0.640861</td>\n",
              "      <td>0.654232</td>\n",
              "      <td>0.792589</td>\n",
              "      <td>-0.929573</td>\n",
              "      <td>2.053419</td>\n",
              "      <td>...</td>\n",
              "      <td>-0.346342</td>\n",
              "      <td>1.235729</td>\n",
              "      <td>-2.328117</td>\n",
              "      <td>-1.659720</td>\n",
              "      <td>3.138215</td>\n",
              "      <td>-3.049757</td>\n",
              "      <td>2.102825</td>\n",
              "      <td>-0.147933</td>\n",
              "      <td>-2.446271</td>\n",
              "      <td>-0.291158</td>\n",
              "    </tr>\n",
              "    <tr>\n",
              "      <th>3</th>\n",
              "      <td>0.940223</td>\n",
              "      <td>0.204191</td>\n",
              "      <td>-1.529663</td>\n",
              "      <td>0.687877</td>\n",
              "      <td>-0.202320</td>\n",
              "      <td>-1.549609</td>\n",
              "      <td>-1.206502</td>\n",
              "      <td>0.506514</td>\n",
              "      <td>-1.014185</td>\n",
              "      <td>-0.249134</td>\n",
              "      <td>...</td>\n",
              "      <td>-1.428016</td>\n",
              "      <td>1.698065</td>\n",
              "      <td>1.434236</td>\n",
              "      <td>-0.135730</td>\n",
              "      <td>1.712987</td>\n",
              "      <td>-1.529778</td>\n",
              "      <td>1.497792</td>\n",
              "      <td>1.533599</td>\n",
              "      <td>0.306178</td>\n",
              "      <td>1.484685</td>\n",
              "    </tr>\n",
              "    <tr>\n",
              "      <th>4</th>\n",
              "      <td>1.288073</td>\n",
              "      <td>1.388954</td>\n",
              "      <td>2.586727</td>\n",
              "      <td>0.739471</td>\n",
              "      <td>0.513202</td>\n",
              "      <td>-2.528301</td>\n",
              "      <td>2.600472</td>\n",
              "      <td>5.204753</td>\n",
              "      <td>-1.283111</td>\n",
              "      <td>1.585567</td>\n",
              "      <td>...</td>\n",
              "      <td>2.196461</td>\n",
              "      <td>-0.102047</td>\n",
              "      <td>-0.109933</td>\n",
              "      <td>-0.258458</td>\n",
              "      <td>0.097764</td>\n",
              "      <td>-0.672371</td>\n",
              "      <td>1.226663</td>\n",
              "      <td>0.039536</td>\n",
              "      <td>-3.179453</td>\n",
              "      <td>0.666221</td>\n",
              "    </tr>\n",
              "  </tbody>\n",
              "</table>\n",
              "<p>5 rows × 50 columns</p>\n",
              "</div>\n",
              "      <button class=\"colab-df-convert\" onclick=\"convertToInteractive('df-cdca5e29-8697-41c3-8102-fd05b7640774')\"\n",
              "              title=\"Convert this dataframe to an interactive table.\"\n",
              "              style=\"display:none;\">\n",
              "        \n",
              "  <svg xmlns=\"http://www.w3.org/2000/svg\" height=\"24px\"viewBox=\"0 0 24 24\"\n",
              "       width=\"24px\">\n",
              "    <path d=\"M0 0h24v24H0V0z\" fill=\"none\"/>\n",
              "    <path d=\"M18.56 5.44l.94 2.06.94-2.06 2.06-.94-2.06-.94-.94-2.06-.94 2.06-2.06.94zm-11 1L8.5 8.5l.94-2.06 2.06-.94-2.06-.94L8.5 2.5l-.94 2.06-2.06.94zm10 10l.94 2.06.94-2.06 2.06-.94-2.06-.94-.94-2.06-.94 2.06-2.06.94z\"/><path d=\"M17.41 7.96l-1.37-1.37c-.4-.4-.92-.59-1.43-.59-.52 0-1.04.2-1.43.59L10.3 9.45l-7.72 7.72c-.78.78-.78 2.05 0 2.83L4 21.41c.39.39.9.59 1.41.59.51 0 1.02-.2 1.41-.59l7.78-7.78 2.81-2.81c.8-.78.8-2.07 0-2.86zM5.41 20L4 18.59l7.72-7.72 1.47 1.35L5.41 20z\"/>\n",
              "  </svg>\n",
              "      </button>\n",
              "      \n",
              "  <style>\n",
              "    .colab-df-container {\n",
              "      display:flex;\n",
              "      flex-wrap:wrap;\n",
              "      gap: 12px;\n",
              "    }\n",
              "\n",
              "    .colab-df-convert {\n",
              "      background-color: #E8F0FE;\n",
              "      border: none;\n",
              "      border-radius: 50%;\n",
              "      cursor: pointer;\n",
              "      display: none;\n",
              "      fill: #1967D2;\n",
              "      height: 32px;\n",
              "      padding: 0 0 0 0;\n",
              "      width: 32px;\n",
              "    }\n",
              "\n",
              "    .colab-df-convert:hover {\n",
              "      background-color: #E2EBFA;\n",
              "      box-shadow: 0px 1px 2px rgba(60, 64, 67, 0.3), 0px 1px 3px 1px rgba(60, 64, 67, 0.15);\n",
              "      fill: #174EA6;\n",
              "    }\n",
              "\n",
              "    [theme=dark] .colab-df-convert {\n",
              "      background-color: #3B4455;\n",
              "      fill: #D2E3FC;\n",
              "    }\n",
              "\n",
              "    [theme=dark] .colab-df-convert:hover {\n",
              "      background-color: #434B5C;\n",
              "      box-shadow: 0px 1px 3px 1px rgba(0, 0, 0, 0.15);\n",
              "      filter: drop-shadow(0px 1px 2px rgba(0, 0, 0, 0.3));\n",
              "      fill: #FFFFFF;\n",
              "    }\n",
              "  </style>\n",
              "\n",
              "      <script>\n",
              "        const buttonEl =\n",
              "          document.querySelector('#df-cdca5e29-8697-41c3-8102-fd05b7640774 button.colab-df-convert');\n",
              "        buttonEl.style.display =\n",
              "          google.colab.kernel.accessAllowed ? 'block' : 'none';\n",
              "\n",
              "        async function convertToInteractive(key) {\n",
              "          const element = document.querySelector('#df-cdca5e29-8697-41c3-8102-fd05b7640774');\n",
              "          const dataTable =\n",
              "            await google.colab.kernel.invokeFunction('convertToInteractive',\n",
              "                                                     [key], {});\n",
              "          if (!dataTable) return;\n",
              "\n",
              "          const docLinkHtml = 'Like what you see? Visit the ' +\n",
              "            '<a target=\"_blank\" href=https://colab.research.google.com/notebooks/data_table.ipynb>data table notebook</a>'\n",
              "            + ' to learn more about interactive tables.';\n",
              "          element.innerHTML = '';\n",
              "          dataTable['output_type'] = 'display_data';\n",
              "          await google.colab.output.renderOutput(dataTable, element);\n",
              "          const docLink = document.createElement('div');\n",
              "          docLink.innerHTML = docLinkHtml;\n",
              "          element.appendChild(docLink);\n",
              "        }\n",
              "      </script>\n",
              "    </div>\n",
              "  </div>\n",
              "  "
            ]
          },
          "metadata": {},
          "execution_count": 21
        }
      ]
    },
    {
      "cell_type": "markdown",
      "source": [
        "## Kmeans and PCA"
      ],
      "metadata": {
        "id": "QaQnizMcdntN"
      }
    },
    {
      "cell_type": "code",
      "source": [
        "# choose the number of clusters\n",
        "k = 4\n",
        "\n",
        "# choose sample size\n",
        "sample_size = 100"
      ],
      "metadata": {
        "id": "keN1c1SbdrFF"
      },
      "execution_count": null,
      "outputs": []
    },
    {
      "cell_type": "code",
      "source": [
        "X = df_50[cols].head(sample_size)\n",
        "scaler = StandardScaler()\n",
        "scaler.fit(X)\n",
        "\n",
        "X_ss = scaler.transform(X)\n",
        "X = pd.DataFrame(data=X_ss, columns=X.columns)\n",
        "# X = pd.DataFrame(data=X, columns=X.columns)\n",
        "\n",
        "print(f'The shape of X is {X.shape}')\n",
        "\n"
      ],
      "metadata": {
        "colab": {
          "base_uri": "https://localhost:8080/"
        },
        "id": "Sso3gFgddsVS",
        "outputId": "c0add3fc-f15b-4725-a88c-23aa4cfc2fcc"
      },
      "execution_count": null,
      "outputs": [
        {
          "output_type": "stream",
          "name": "stdout",
          "text": [
            "The shape of X is (100, 50)\n"
          ]
        }
      ]
    },
    {
      "cell_type": "code",
      "source": [
        "titles = list(range(sample_size))"
      ],
      "metadata": {
        "id": "S0zwl_NhsaZ0"
      },
      "execution_count": null,
      "outputs": []
    },
    {
      "cell_type": "code",
      "source": [
        "kmeans = KMeans(n_clusters=k, random_state=0)\n",
        "kmeans.fit(X)\n",
        "labels = kmeans.labels_\n",
        "\n",
        "pca = PCA(n_components = 2)\n",
        "Y = pca.fit_transform(X)\n",
        "fig = plt.figure(figsize = (20, 10))\n",
        "ax = fig.add_subplot(111)\n",
        "ax.scatter(Y[:, 0], Y[:, 1], c = labels, cmap = pylab.cm.cool)\n",
        "for i, word in enumerate(titles):\n",
        "    ax.annotate(word, xy = (Y[i, 0], Y[i, 1]))"
      ],
      "metadata": {
        "colab": {
          "base_uri": "https://localhost:8080/",
          "height": 592
        },
        "id": "0Y50ZTifdzTH",
        "outputId": "91240711-a30b-4fb7-b92a-6fa7bbb348f0"
      },
      "execution_count": null,
      "outputs": [
        {
          "output_type": "display_data",
          "data": {
            "text/plain": [
              "<Figure size 1440x720 with 1 Axes>"
            ],
            "image/png": "[encoded data removed]"
          },
          "metadata": {
            "needs_background": "light"
          }
        }
      ]
    },
    {
      "cell_type": "markdown",
      "source": [
        "Stories 20 and 77 are very close, let's see why:"
      ],
      "metadata": {
        "id": "Bj6o-FaIs-c2"
      }
    },
    {
      "cell_type": "code",
      "source": [
        "i=20\n",
        "print(stories.story[i])"
      ],
      "metadata": {
        "colab": {
          "base_uri": "https://localhost:8080/"
        },
        "id": "9YUi40Sesnfj",
        "outputId": "279ce923-932f-482e-c7fb-b09b32be27c4"
      },
      "execution_count": null,
      "outputs": [
        {
          "output_type": "stream",
          "name": "stdout",
          "text": [
            "\n",
            "Disclaimer - this is not a real Greek myth, I made it up, although the characters are real in Greek mythology. Hope you enjoy.Pontus was pacing, nervously. His crab-claw horns snapping restlessly upon his head. He was walking next to his favourite body of water; the Aegean Sea, but even that didn’t seem to calm him. Not nearly enough people have heard of Pontus. Although most of those people have heard of his ‘all-powerful’, ‘master of the sea’ son, Poseidon. Pontus thought this begrudgingly. Who did those people think gave him those powers? You see, Pontus was the original sea god. Although, the term ‘sea god’ did not do Pontus justice at all, because, in fact, Pontus was the sea.With every pace along the Aegean Sea coast, the sea rippled, as though sensing Pontus’s stress. Not much made a god anxious, but a meeting with your mother would certainly do it. His mother was omnipotent but certainly not benevolent. She was an all-consuming, evil deity, named Gaia. However now, most people know her better as simply the Earth. She is the ground you walk upon, the dirt that feeds your crops and the birthplace of all life. She was not one to be messed with. That was why, even though she was Pontus’s mother, she was also Poseidon’s mother. Yes, that’s right. Pontus has a son with his mother. This was not why Pontus was stressed now, though, but it was still a horrifying thought to him.At this very moment, Pontus was afraid his mother was going to have a quest for him to complete. Pontus thought this sounded ridiculous. He was a sea god, for Gods sake, even more, he was every ocean, every river, every tiny little puddle and still Gaia insisted he partake on a quest to kill some stupid mortal who had annoyed her. How absolutely bizarre was that?! But that’s the thing about Gaia, if you disagree with her, she shall simply swallow you whole, straight into the depths of Tartarus itself.Tartarus was not a place Pontus wanted to visit anytime soon. It was sort of the Underworld for Titans. Even though technically Pontus was not a Titan, he was sure Gaia wouldn’t hesitate in sending him there. It was a horrible place for even Gods to be, and there weren’t many of them. This meant, that if Pontus wanted to remain with his beloved water, he must do what Gaia wants.   Finally, after pacing the sea for as long as he dared, it was time for Pontus to see his mother. It wasn’t a far walk, all he had to do was find the closest bit of dirt.   ‘Mother,’ he said, tentatively, ‘I heard you wanted to see me. Have you got another chore for me to complete?’ Slowly, the ground started to stir, until Pontus could just about make out the outline of a face in the soil. The mouth started to creep into a sneer. Pontus’ heart raced a little bit faster. No one, not even her son, was safe from Gaia.   ‘Ah, Pontus, my dear. You are ever so faithful.’ The mouth didn’t move as she said this. The words just seemed to appear in Pontus’s mind. ‘I do indeed have a quest for you. Out there.’ Gaia had no hands, so could not point, but somehow, Pontus knew she meant in the direction of the Aegean Sea. This did make Pontus feel a little bit better, if he had to fight at least it was on the water.   Gaia continued to cast words into his head. ‘About 3 days that way, you will meet a man. He will explain more. You will go there now.’ And with that, the face disappeared. Pontus turned towards the sea and set off for his journey, since he gambled that whatever was waiting for him was a thousand times better than Tartarus.   Being a God, the journey was pretty easy. There were no monsters for Pontus to slay, no barriers for him to overcome, for if there were any, they would obey him. As they did in fact live in his territory, with his permission.   Pontus passed many hippocampi, most of whom stopped to say hello. He passed by a very small island, it was really just a tree on a rock. Lounging in the shade of the large tree were a group of sea nymphs, who all politely waved at Pontus passing by.   Now that Pontus’s conversation with Gaia was over, his heart had started to return to its usual rhythm, although Pontus knew that if he did not succeed on this journey, Gaia would not be happy at all. This did frighten him slightly, but Pontus was a God. Not many creatures could say no to him as he could simply drown them, with just the flick of his fingers. This meant that whatever Gaia wanted him to do should be pretty straight forward.   Finally, after exactly three days of travelling the oceans, Pontus came across a man. He did not recognise him, which was suspicious as if he lived in the ocean, Pontus would know about it. The man was wearing a white toga and stood on a small patch of dirt, floating in the water. Pontus realised this was some poor mortal Gaia had killed and was using his body as a minion, to do her dirty work. Pontus felt a bit sorry for this man, but he knew that he could not go against his mother. ‘What does Gaia want me to do?’ Pontus asked the man.The man smiled that same sneer that Pontus had seen in the dirt earlier. ‘Gaia has decided that two sea gods is too many. If you wish to remain in charge of your precious water, you must fight for it.’ Pontus was slightly relieved, there weren’t many creatures that he could lose a fight to. Although the stakes were high, Pontus really did not want to give up his powers over the sea, he was pretty confident he could triumph over whatever monster Gaia had waiting for him.The man held out his arm, gesturing towards the sea behind him. Pontus gazed in that direction. The sea slowly started to ripple more and more, like something was emerging from its depths. This is brilliant, Pontus thought, a sea monster would be even better and easier for him to defeat. They all worshipped him. Suddenly, a giant head started to appear out of the blue waves. As the head got higher, more of this person started to become visible. Pontus’ heart stopped beating. His breath became shallow and the colour drained out of him until he was the same shade of blue ice covering a lake in the depths of winter. Pontus knew that head anywhere. He created that head, he shared his powers with it, his wisdom. It was Poseidon.   Poseidon’s mouth curled into an unfriendly smile. His torso was now completely visible. He must have been standing on the sea floor because he had stopped rising. He was at least 10 feet tall from his torso to his head. Pontus dreaded to think how tall he was from head to toe.   ‘Father,’ Poseidon sneered. ‘we meet again. It’s been a while. I hear Mother has had enough of you.’  ‘I believe she has had enough of two sea gods, not just me.’ Pontus said, although he wasn’t sure if he believed that anymore.   ‘Well, then, I guess we should get on with it.’ With that, Poseidon raised his hand, which now contained a spear, sharp enough to pierce the skin of any living thing. He swung it quickly, at Pontus in an effort to sweep him off his feet. Luckily, Pontus was quicker. He dived down into the ocean. As he made his way back up to the surface, he willed the sea to come with him. He stood proudly, on top of a wave, ever growing in size. It lifted him higher and higher into the sky, until his head was finally level with Poseidon’s. He commanded the wave to fall over his son, in order to try and disorientate him, knowing it will only buy him time. However, the wave had other ideas. It came crashing down rapidly, swirling Pontus in the centre. The wave hit the surface of the sea and the momentum caused Pontus to dive deeper and deeper.Neither he nor Poseidon could drown, so Pontus would have to come up with a different plan. He could sense a sea monster nearby. He ordered it come to his aid. From the depths of the sea, Pontus could see his creature. It was a hydra. He could see one dragon-like head coming closer. And then another and another, until nine heads were all staring at Pontus, awaiting their orders. He thrust his hand in the direction of Poseidon and the body carrying the nine heads, swam in that direction. Poseidon swung his spear at one of the heads, slicing it clean off. The hydra, however, grew two new heads in its place.While Poseidon was distracted, Pontus managed to crawl up one of his giant legs and made his way to the head. Pontus was smiling, as he pulled out his own spear, ready to be the first person to ever kill a God. Suddenly, his spear was whipped out of his hand. He saw the man, throwing dirt at him. No, that wasn’t right. The dirt wasn’t flying at him, it was literally slapping him. It had formed a huge hand and it was hitting Pontus across the face. One of the hydra heads had noticed this and slithered back into the sea, not wanting to be on the side against Gaia. Pontus, once again, felt all his confidence drain out of him. Poseidon was right, Gaia was working against him. His own mother wanted him destroyed. As he was distracted, thinking about his mother’s betrayal, Poseidon grabbed Pontus in his giant hand and pierced his spear straight through Pontus’s heart. Poseidon was laughing.  ‘I am victorious. I shall take my rightful place as the Olympian God of the Sea.’ Pontus, being the sea, could not actually die, but he felt like he had. His son and mother had plotted against him. He would not be welcome at the sea anymore. The ocean was now completely under Poseidon’s control. He would be banished to the place he hated the most, a desert with no water for miles, a place where time would forget him.   So, the next time you think of the sea, and how powerful Poseidon must be to control it all, remember of what he did to become that. Remember how he murdered the essence of his own father, just so he could sit on a throne, on top of a stupid mountain for all eternity, while the person who gave him his powers, is stuck, helpless, alone and far, far away from everything he ever loved. \n",
            "\n"
          ]
        }
      ]
    },
    {
      "cell_type": "code",
      "source": [
        "i=77\n",
        "print(stories.story[i])"
      ],
      "metadata": {
        "colab": {
          "base_uri": "https://localhost:8080/"
        },
        "id": "hAuidoi0tDwr",
        "outputId": "a5e46d1c-4410-4710-bf33-8bfc897b6db2"
      },
      "execution_count": null,
      "outputs": [
        {
          "output_type": "stream",
          "name": "stdout",
          "text": [
            "\n",
            "The man’s face bore a pressed expression and his narrow boots, shifting ever so slightly in the sand, looked toward the jungle surrounding a blue mountain, whose summit was hidden by an evening mist. His ship lay anchored afar, and his men slushed through the gravity of frigid water behind him, their sheathed sabers clinking against their belts, strapped around foam drenched pale shirts and muddy breeches. “This is it here boys” whistled out from the captain’s cracked teeth, and his men, against the sharp crystal sea, looked forward in anguish; this being a so-far fruitless campaign having spanned several dreary months, armed ships were not far, and so they had at most five days to set camp, find treasure, load it on the ship, and to rapidly depart. \n",
            "A campfire was drawn in the center of the crescent-shaped beach, and the gentle lapping of waves blended into the chatter of men and the soft crackling of flames. The sun set down over the glistening sea, its purple rays dancing across the horizon behind the anchored ship that rested in the nine o’clock position. Ten men, including the captain, sat around the fire, their faces illuminated by an orange-red light that swayed in the night’s lumber aroma. The imposing captain sat squat on a wise stump of a log, his rigid back facing the desolate sea. He had stained chipped teeth, and a scarred and lustrous blaze about his face, with hair knotted atop, coated with the rippling black of sea. As men around him went on about the kind of thing young men do; their glories, convictions, and notable relationships, he gazed up, through smoke, at that wretched misty mountain, and shaking, watched novel shadows the light played upon the forest and floating sparks that flew one after another, with immense speed, into that lofty black sky.\n",
            "The day was vivid, and the men, sandy from sleeping on the floor, bustled about as if worker ants carrying leaves; trees were chopped, and a shelter erected where ashes of the previous night’s fire lay. As men walked across the beach and edges of the wood they sang various shanties, but one man was strict in his movement, Isparimov. He constructed the bulk of the six-by-six square foot hut, and in the afternoon, when small groups of men stopped for a break with a drink of rum by the shore, he continued along, grime filling the pores of his skin, breath scorching in the sticky air. He wrapped leafy thatch around interlocking corners of chopped oak, moved his hands through rugged grooves in the bark, and stepped back in the direction of the waterfront. He squatted down, admiring what was primarily his effort. Sand and mineral crunched and stuck to the rigid soles of his feet, and he looked up at the golden sunlight's rays about the mountain, teasing the miniature men below, inviting them to experience its breadth. \n",
            "“How about a drink and some figs mate?” A tramping dark-skinned man, took a burning swig of rum as he bumped a crouching Isparimov in the back with his leg, knocking him over, so he tasted a clump of sand. Isparimov stood weary with the air of a man sick of spending months with fools. As he regained composure, he looked down upon the joker Alf with displeasure. “What’s wrong, you big fat lug?” Alf teased as he jostled him. The captain, who was up near the edges of the forest looked back with indifference, with bleak eyes he watched Isparimov send a flying fist into Alf’s unclenched jaw. So it was, the men spent an uncomfortable night bunched up in the barren tarped cabin, save for storages of salted meats, fruits, and various vegetables compiled into three wooden crates stacked on the wall facing the island.\n",
            "It was the men’s second morning on the uncharted island. Isparimov rose before dawn and all the rest. He undressed near the shimmering foam and bathed in the pleasant salt, feeling the moon’s light reflect upon his features. Soon enough the sun broke through, and the ten men readied and marched up the hills, as if for battle. Like other islands, this one was told of lustfully, said to be home to riches and glory; the captain’s sole focus, not so much the ancient wealth of pirates past, but what it represented; adventure, the thrill of commanding a crew into honor, and the pulsating blood of men in an exploration of the unknown. The crew originated thirty men strong of a larger warship, a formidable presence on the seas. But those were days of merely looting lonely sloops and far-away British brigantines, days that brought the crew notoriety, but dissatisfaction. Long endured these ways until the captain grew ill of boredom and recalled times of being a young lad on a ship, fresh with the spirit of a sea crusader. Accordingly, he commenced the futile treasure hunting campaign, in which twenty men were killed or lost, two solid ships wore through, but now, as the oak tree and ever magnifying sap covered mountain loomed ever closer, the captain's eyes shone, alive, with a frenzy.\n",
            "It was a gruesome fashion in which the first man died. As the crew trotted uphill through the dense forestry and oozy mud, bugs swarming, and teeming with sweat, a dreadful growl sounded and a fierce tiger jumped, claws primed, teeth and spit snarling, from a tree’s branch near the left-most flank, leaving a man's arm mangled at the shoulder. The other men jumped to the call, with a cling and clash swords were unsheathed and flintlocks fired. Through the rolling smoke, the animal lay dead on thorns. Near it, Alf lay, blood pouring, with a terrible sound of pathetic helplessness. There was nothing to be done. Amongst the grim silence of the crew that crowded around, the captain spoke, “I'm sorry about this mate, but you’ll thank me some other time.”Alf screamed and recoiled, “No, no! Please! Don-” And the captain, standing above the man, with misty eyes fired a shot straight into Alf’s skull, that left a grotesquely figured mess of a head in its wake.\n",
            "They sustained the trek up, sharper, though solemn with tinges of fear. The sky shone an all-encompassing arctic blue, creamy clouds crept by, in contrast with the vibrant hues that shivered inches below its light. The island was circular, save for the crescent concave beach where the shelter stood. Conceivably, the men made a mistake in not leaving a lookout; various animals tore it down and stole those salted meats, fruits, and vegetables from the crates. This did not concern them as of now; all that did, as they hiked up, was the treasure said to be buried at the peak of the winding, stout mountain. At evening, eight men sat, feet dangling off an outcropping near that overlooked expansive dewy crops, ivory sand, and felt the wind that blew a crisp salty draft over the wide, infinite sea stretching out into oblivion. The anxious captain continued uphill, his coat shifting in sweat, huffing and puffing, each step a grueling hike. “He's always been that way, eh?” Said Drubey, looking back at the captain, to a crewmate sitting to his right. Mishka, leaning on his palms, was completely absorbed in the steady panorama... “Huh?” He finally and reactively uttered. “Oh, shove off you bloody idiot!” Drubey mouthed, and Mishka nodded indifferently in response, still gazing off. “Wait!” Mishka suddenly exclaimed and arose, jolted awake from his day slumber. All the crewmates surveyed him. “Look at our...our shel-” he stuttered but was cut off by an archaic growling of the earth. Minute particles of dirt drifted off the edge, precious figs snapped off from trees below, and the precipice upon which Mishka stood pointing at their broken in shelter, buckled under and shook, and when the ground fell beneath his feet, he tumbled with the cracking rock down the better part of a hill, until a horrible snap and squelch was heard reverberating from the bottom of the forest. \n",
            "“Uphill boys, with haste!” Drubey ordered, and the men, rather stupidly, scaled up the native rock and vegetation, closer to the peak, source of the deafening roar. Smoke steamed and lava shot from its blown center, where minuscule roots clung to loam near the edges. Nearby they observed the captain, staring down the copper-red pool that bubbled with shattered rock and branches. “Well men… that's it... we've done it! We've goddamn done it!” He gritted his teeth as he spoke and held a thick hand to his face as he wept silently. The men’s faces were struck with horror, seeing their captain surrender so finally. “But sire we ought to return to the ship, surely we’d make it!” A crewmate retorted. “Shut it, shut your filthy unknowing mouth!” The captain thundered, turning towards the men, his weeping face irrevocably changing into an expression of madness, and he pulled a shovel from out the straps on his back, as red lava sang behind him like the whistles of his teeth.“So, what are you all gawking around for? Make yourselves useful… Dig!”So the eight men, working with those grainy white shirts and smeared breeches, carved a ragged hole of clay at the peak, and the seven crewmates in the hole, as lava stirred and globbed, glanced at each other with unease. Though there was nothing beneath the hole, save endless loam, mud, and bedrock. “The map says the treasure is hither, at the peak, the fuckin’ peak!” The captain bellowed; a clump of lava and steam shot out unexpectedly, burning Drubey a filthy hole in his chest. ”And you don’t think there's a chance it was blown up along with the peak sire?” shouted a crewmate over the sizzle and screams of Drubey, but the captain, with feverish eyes that reflected the scarlet of lava, gripped him by his collar and lugged him, dangling, over the massive opening, while flame licked up, and after a tense minute, as the crewmate begged for his life, he threw him back into the arms of the others. “Leave... The lot a’ya then, off to the ship ya’ bloody go!” Hence, the men carefully trod down the ash sodden hills, through a smoggy thicket, groping for support slimy erratic bark, all the while tripping over squelching, plump purple figs that lay lodged in dirt, down onto the spit and fur smelling, meat strewn and blood-bleached beach. \n",
            "The captain, with booming ironical laughter, continued to dig, shoveling dirt onto the boiling lava. Blood leaked from his blistering hands in motion, down the shovel’s sandalwood handle, dripping, dropping, drying into the soil, until he had traversed the entire right half-circle of the steaming hole. Now standing at the exact endpoint of the half-circle, he muttered a desperate prayer, and with those hands, almighty, raised his shovel in the air, with two fists, sent the shovel flying like a spear into the earth. Thump. Like a maniac he grabbed fistfuls of dirt, knelt in the hole, facing the billowing smoke, and raised his drooping arms in supreme triumph… “Yes, yes, me, me alone, I alone!” The men heard his shouts from down, but they, without caring, in three pairs of two and one solo, set off in four rowboats towards the main boat in the madly swirling water. The captain identified them as he paced the other half-circle of the hole. Standing at the highest point of land, minute details were available to him; golden sap melting from a quivering leaf with its blades and delicate sage veins, the planks of his ark in the bright sea, a glinting glass bottle of rum stuck into the white sand and a hawk, flapping its wings rhythmically beneath the clouds. The chest in his firm grasp, he wept once more, the smoke and heat up behind him, and cried out… “Men! Halt!” But with a white blast of light, he was flying up and forward, his innards rattling in his rib cage at a thousand miles an hour towards his heart, his legs were strained, everything felt numb as blood spewed everywhere, his hands gripped the chest with a tighter grip, and he flew further into that infinite sky, twirling dizzy, towards the sand, over the water, towards his craft, and he, for an instant, saw his lower half separate from his upper in a great crimson rip and fly off towards the sand, but his torso still spun like a torpedo, and he saw his entrails exit behind him as if a cape and his face wore laughter, and he thought not of his old friends, not of his crew, nor his wife and daughters that he left for something greater, not the countless lives he had taken nor those he ruined, he had wished not for deliverance, but his hands were only clenched, white bone and purple flesh, against that sacred, shimmering chest.\n",
            "The men boarded the deck, heaved the anchor, and lowered the sails with haste, but the volcano began its cascade of whistling mounds. On the polished deck, they stared in awe, the lucky seven of them, at that crescent beach, the steep flaming woods, the huge scarlet sun above that dreadful mountain, the purple sky ashy with granite, the flame tailed meteors, whirling leaves, dust, and grains of sand that clouded their eyes, all of it, the uniform harmony of the earth in rapid eruption. Out of this, the odd outline of a sable coat flew closer, closer, and fell not twenty yards away with a tremendous spray of foam. Isparimov, on the quarterdeck, spotted the sparkling gold chest oscillating on the water, before being pulled down by that macabre grip.\n",
            "Isparimov glanced at his crewmates to see if they had noticed, unified in wonder and despair at the earth’s flux, but they had not. The boat slowly drifted in a clockwise motion, unfurled sails not yet gaining a wind. So Isparimov dove nimbly, the delicate man he was, remaining unheard and swam through and under the slapping current, guided by the pulpy blood of his captain’s upper half that hung suspended around that mesmerizing chest of treasure. He was ten feet away and felt bubbles and a movement of the deep blue, a cold tightness and slight minerals that shaved against his skin, his red eyes bulging for breath. With that manic look, he forced relentlessly closer until his hands attempted to wrench it from the captain's lifeless hands. This was in vain, the captain's hands having been wedged in between the lid and the box, that shook with such a tease, sounds of gold, silver, and jewel that Isparimov, filled with that same mad passion as his captain, struggling for air, attempted to make his. But behind him the ship lurched forward with a violent groan and flapping, its hand having reached the twelve o'clock position, as men fell back onto the deck, Kinner, the man who dangled for dear life minutes earlier, manned the wheel and the steadied the craft, its tall masts creaking in the sheer force of the volcanic blast. Glass windows screeched against their frame, crates, and four cannons next to trapdoors, scraped and wheeled below the deck, rotten apples fell from sacks; all this overpowered the sound of the resurfaced Isparimov’s screams, as a surge of water from the ships sudden departure sent him bobbing down. All this while the scarlet sun shone a bloodier hue, black dust settled on the forest’s canopy, lava poured out all sides of the soot mountain, its peak littered with holes, rolling and meshing in acrid smoke, bloated magma in advance. A vast panorama held the ship, sleek and windowless, with its high flying masts that caught a western wind, flying away with simplicity from the island that prepared to sink along with the two and a half dead men that lay scattered around. Springy trees sighed and groaned, as the island and its crescent beach were overtaken by amber-veined onyx magma, that fast globbed its grasp towards Isparimov, neck-deep in water, who had brought up with him the entire captains torso and his sacred chest. The unfortunate Isparimov, the haunted captain, and the twinkling chest ornate with dripping honey gold all faced their impending doom. Gone was the feverish delight of adventure; in Isparimov’s lean arms, the dead captain and the innocent chest floated in blood looking bravely towards their end. Isparimov pried open the chest’s mighty springs that held the captain's bulging hands, and let the man float away. With the strangely buoyant chest in his arms, he swung it open expecting an instant glint of gold. It was hollow, save for a rainbow-colored maraca which he shook over and over to find it had been sealed with tiny iron bolts inside, a mere illusion of riches, a mirage. Engraved on the base of the spruce box, was a smiley face. Isparimov’s heart was struck and convulsed with coagulated blood, as he let out a muffled roar, magma veiling his face and suffocating his lungs. The island rumbled with the hell-like buzzing of annihilation that shackled the island down unto the merciless depths of the deep blue. Gone was the gnarly forestry, the thorny bushes, having dissolved into bubbles. The nectar figs sucked into the water’s harmony, the sand molded into runny mud, and the mountain, a mess of imploded rock, dispersed into a plumy column of limestone dust. Soil that smelled of mint rain crawled gently onto the sea’s layers. The four men were forgotten, covered by a blanket of obsidian. The rest of the crew sailed smoothly across the rippling, silent sea, empty-handed, away from the sun and the noise.\n",
            " \n",
            "\n"
          ]
        }
      ]
    },
    {
      "cell_type": "markdown",
      "source": [
        "3 and 26 too"
      ],
      "metadata": {
        "id": "kd3ZmCSWt3t2"
      }
    },
    {
      "cell_type": "code",
      "source": [
        "i=3\n",
        "print(stories.story[i])"
      ],
      "metadata": {
        "colab": {
          "base_uri": "https://localhost:8080/"
        },
        "id": "MLyzMTr_t5Ut",
        "outputId": "5e503019-0f7a-4358-bed3-62774897fd88"
      },
      "execution_count": null,
      "outputs": [
        {
          "output_type": "stream",
          "name": "stdout",
          "text": [
            "\n",
            " The Shiva, 1955\n",
            " \n",
            "\tFor the rest of her life, the smell of pickles and pastrami would be the smell of death.\n",
            "\tIrene was 13 years old, and her mother was dead. Even after everything – the ambulance, the hospital, the horrible evidence of her relatives taking turns shoveling dirt onto the coffin, Irene couldn’t believe that her mother was really gone. Now there were all these people (so many people!) gathered back at the house, nibbling on plates of deli meat and coleslaw, talking about Mama in the past tense. For a moment, she wondered if it was all an elaborate joke they were playing on her. Maybe Millie was just outside, returning from an extended trip to the market, and she would suddenly burst through the door, arms full of grocery bags, shouting “Sorry I’m late!”\n",
            "\tBut no, that couldn’t be right. Irene pictured the men, lifting the pine box out of the hearse, and she knew the truth. She slumped at the buffet that had been laid out on the dining room table, the stench of raw onions and stale cigarettes scorching her eyes.\n",
            "\tOn the sofa, Irene’s sister Frances sat like a princess, crying softly into her tissue as she refused another plate of food. A throng of her swim team friends, balancing paper plates on their knees, surrounded her like royal courtiers, nodding and sighing sympathetically.\n",
            "\tEveryone adored her sister. They always had, even when she was a baby. Whenever Mama took (had taken?) out the photo albums, she would rave about how much attention Frances had garnered as an infant. “People would stop me on the street to tell me how beautiful she was… …Everyone wanted to hold her. Everyone wanted to touch her hair…Complete strangers asked if they could take her picture! A man at the May Company asked if I wanted her to be a baby model! I wonder if I still have his card?”\n",
            "\tThen, as an afterthought, Mama would add, “… Irene, you were adorable too. See those cheeks? And so smart! You did everything early – walking, talking, reading. Why I remember, by the time you were four years old, the preschool teacher had you reading full storybooks to your classmates.”\n",
            "\tIrene had always kept a close, admiring eye on her big sister. Frances was born with a kind of regal bearing and charm that people found, if not benevolent, exactly, then nevertheless irresistible. People were drawn to her, as if she was the sun, dispensing heat from a faraway star. They felt compelled to follow her lead, and they fell over themselves trying to win her approval. Other children always seemed to be orbiting nearby, warmed by her presence and just waiting to be drawn in by the gravitational force of her fire and light. For when her light shone upon you, you were blessed. She would bat her eyelashes at you, appearing to hang on every word you said, or she would suddenly grasp your arm and confide her plans to you in a breathless, conspiratorial whisper. And as she did so, you could feel your own face flush with excitement. You could sense the envious eyes of your friends, wondering what made you so special, what magical words you had spoken to be the recipient of this great gift of Frances’ attention. Now, with the added potential to soothe her in her grief, the girls and boys jockeyed for position around her sister. Irene watched them, and, feeling charitable today after all she and her sister had endured, she was glad Frances had the support.\n",
            "\tBack at the table, Irene’s rather large and fragrant Great-Aunt Sylvia squeezed herself into the chair next to her. Sylvia had become hysterical at the funeral, and her grown children had to usher her out of the service when her crying and wailing had become disruptive. Now, her eyes were puffy and her skin was blotchy, but at least she had gotten her crying under control. She smelled of lilies and tar. As she sat, the ashes from her cigarette dripped onto the white tablecloth, and they remained there, quietly smoldering. She put an arm around Irene’s shoulders. “How’re you doin’ hon?” she said.\n",
            "\t“Better, thanks.” Irene didn’t know what else to say. She noticed a small caraway seed, stuck to Aunt Sylvia’s blouse. Irene swiped at some breadcrumbs on the table, tactfully ignoring the ash, and thinking about how caraway seeds looked like tiny ants. Aunts eating ants. Pleased with her pun, she made a note to tell Mama about it later. Then just as quickly, she remembered Mama wasn’t there. Would never be there again. She drew in her breath and felt her stomach cave in on itself.\n",
            "\t“Your Mama was so proud of you girls,” said Aunt Sylvia. But she didn’t elaborate. She only shook her head and stared down at her plate.\n",
            "\tIrene knew the polite thing to do was to sit with her aunt for a few minutes -- maybe say something nice -- but nothing came to mind. After a while, Irene said, “I’m going to see if I can help with anything in the kitchen.”\n",
            "\tAs she rose, she saw that Frances’ swim team friends had been replaced by a circle of her parents’ friends. They were nodding and talking, some of them even laughing softly at a memory Frances must have just shared. Irene felt a surge of love for these grownups, grateful that they could console her sister in this small way. It was easier for them to talk to Frances than Irene. When they talked to Frances, she seemed to know what was expected of her, and she always had the right responses. For this, the adults thought they understood her.\n",
            "\tBut it wasn’t just that. The adults truly adored her -- just as much as the kids did. Frances was a girl who stood up straight and always said please and thank you; she always looked you in the eye; she smiled. She was a good student, but not so good that she was a threat to their own, straight-A offspring. And she seemed to be a great influence on their children, too. Mothers encouraged their children to invite Frances to their birthday parties, and when Frances arrived at her friends’ homes, impeccably groomed and bearing a neatly-wrapped gift, she doled out compliments like penny candy – remarking on how much she loved your cookies, your new dress, or a new paint color in your kitchen. Being careful not to overdo it, she might cheerfully mention to your husband how well his lawn was growing, or how happy she was to hear that your son had made the basketball team. And for this, Frances was universally beloved.\n",
            " Yes, everyone adores Frances, Irene thought, as she made her way through the swinging door to the kitchen. Even me.\n",
            "\tShe was relieved to find that, for the moment, the kitchen was empty. Hanging on the wall next to the icebox, Irene noticed the small blackboard they had used when they played school together as kids. When she was little, Irene was content to be the student, squeezing into a tiny, doll-sized wooden desk in the playroom, while Frances directed the classroom lessons from the blackboard hanging on the wall. It was an honor just to be included in her older sister’s games, and there was always the chance that the “teacher” would call on her to recite her times tables or the dates of the Great War.\n",
            "\tLater, when the girls had outgrown their game, Mama had co-opted the blackboard for her own use, hanging it in the kitchen, where she could jot down notes for her perpetual grocery lists. Now, chalked in Mama’s careful white print, Irene saw the words, listed vertically like a culinary epitaph: “Milk, Ovaltine, Chicken, Paprika.” The half-used chalk sat quietly in its tray beneath the board. Could it only have been 48 hours since Mama held this chalk? Using her index finger, she swiped gently at the bottom of the middle “p” in paprika, then held up her finger to inspect it. How long could I make the dust last? Hedging her bets, she swiped through the “k” with her pinky, thinking that if she avoided just one finger when she washed her hands (how dirty do pinkies really get?), maybe it would stick for a few days longer.\n",
            "\tAn uproar from the other room interrupted her thoughts. She peeked around the kitchen door and saw the group of men around her father, belly laughing as if they were guests at a celebrity roast. Irving had positioned his wooden box seat near the front door, and was holding court there. Although according to Jewish tradition, he was supposed to be sitting, Irving couldn’t help popping up each time the doorbell rang, as, one by one, old friends and family came in to pay their respects. For each guest, he offered a giant hug, and, once the preliminaries were taken care of, he asked, “did you hear what happened at the service?” When the newcomer shook his head no, Papa launched into his story yet again, delighted to entertain a fresh audience:\n",
            "\t“Well, you know how Temple Beth David has this new Cantor? Have you met him?” Irving didn’t bother waiting for the answer. “Good guy, but he’s a real stickler, I’ll tell you. Kind of a nervous fellow. A little sickly too. Always has this kind of shocked, pale-green look on his face.” Irving pulled his lips down at the corners, raised his eyebrows, and opened his mouth in mock surprise. His audience nodded their approval.\n",
            "\t“Anyways, we’re chatting with him before the service, and I say to him, look Cantor, we really appreciate all you’re doing for us here. We don’t really know all the ins and outs of the prayers and the rituals, you know what I mean? And he just looks at me with this blank stare.” Papa made another face to illustrate. “So Frances, she says ‘yes, Papa’s practically an atheist.’”\n",
            "\t“And the Cantor, you can tell he’s getting kind of hot under the collar. We’re not really sure if it’s the atheist comment or the heat, but you can see him start to sweat…. But it was warm in there. Really hot in that little Family Room they put you in to talk about the service and tear the ribbon and all that mishegas… So anyway, the Cantor’s trying to look like he’s got it together, but you can tell, he’s getting a little paler, and he’s wiping his forehead, and he’s looking like he’s not so thrilled that he’s got this particular job on this particular day.”\n",
            "\t“So then I turn around to help Irene pin on her ribbon, and Frances keeps trying to lighten up the whole damn depressing situation. Can’t blame her, really. So she turns to the good Cantor and she says “yes, if it were up to Papa, we’d be serving bacon at the shiva.”\n",
            "\t“And the next thing I know, I hear this big ‘thump!’ I turn around and the poor Cantor’s flat out on the ground. I mean flat,” Irving swiped his palms in through the air. “He slid right down and fainted! Yes, fainted! Dead on the floor!” Irving paused for dramatic effect. “Can you picture it? The Cantor – he’s out like a light. He’s supposed to be running the show, and we’re all just standing there for a minute, looking at each other. We’re thinking, ‘what do we do?’”\n",
            "\t“Irene – God bless her -- Irene jumps into action. She whips open the door to the family room and runs to see if there’s a doctor in the house. And can you believe it, with all the Jewish doctors in our family, not one of them had gotten to the Temple yet!” He laughed at his own joke.\n",
            "\t“So Irene finally finds a phone and calls the doctor. Meanwhile, back in the Family Room, the good Cantor is starting to revive. Frances and I are kneeling with him, but we don’t know what to do. So we just sort of prop him up, and just as we’re getting him to a sitting position, my cousin David, the internist, walks in, cool as a cucumber.”\n",
            "\t“By this time, the Cantor is sitting up and talking to us, and we all start to calm down a little. Then David checks his vitals. ‘Probably just a little overheated,’ David says. ‘He should still go to the hospital, just to get checked out, of course.’”\n",
            "\t“And what about the service?” someone shouted from across the room. “Who led the service?”\n",
            "\t“Hold you horses, I’m getting there!” Shouted Irving, getting even more laughs. “Before he leaves in the ambulance, the Cantor has the good sense to ask the secretary at the Temple to call in another Cantor, who’s been singing at a wedding or something or other that morning.”\n",
            "\t“The guy shows up half an hour later, just as all the mourners are taking their seats. This new Cantor,” Irving winked at the assembled group “…he was a much stronger looking fellow, I have to say…” They were eating it up. “…he ends up leading the service instead. And in the end, thank God, everything turned out okay.”\n",
            "\tIrving took a breath. He was working up to his big punchline.\n",
            "\t “But seriously, who would have thought a little pork could cause so much trouble?” Irving’s audience erupted into another huge roar.\n",
            "\tIrene shook her head, chuckling softly at the story she’d already heard four times in the three hours since they had returned from the grave. With each new telling, Papa had stretched the truth just a tiny bit more, adding a few details here and there, working the audience for a good laugh. But the basic story was true: the Cantor had indeed fainted, and it may well have been in response to the mention of traif meat at a funeral gathering. Already Irene knew the story would live on in family lore for generations.\n",
            "\tShe sighed. Only Papa would find Mama’s shiva a good time to work out his comedy routine. He was a perpetual showman. And yet, his story was undeniably a welcome relief, lightening the mood of the somber occasion, and giving everyone permission to laugh. Her big, loud Papa knew just how to put people at ease, even in the midst of their sorrow.\n",
            "\tShe realized now that Papa had passed down his love of performance to Frances. It reminded her of the time, in ’51, when Frances recruited the neighborhood kids to perform Peter Pan in their basement. Irene landed the role of Nana, the dog/nurse. She had crawled around on all fours and barked with gusto for her two big scenes, panting cheerfully at the feet of her charges John, Michael, and Wendy. Frances, for her part, had been a magical, mischievous and stylish Peter Pan, and the show received glowing reviews from all the neighborhood parents, naturally.\n",
            "\tIrene pictured her mother’s face in the audience that day, laughing along with the others. Irene’s chest tightened and she bit her lower lip to keep the hot tears from spilling over. She checked her pinky finger. So far so good. The chalk was holding for now. She wondered what would happen tomorrow, or the next day, or the day after that, when all the people went home and Frances and Papa still needed their loyal audiences to buoy them up. Will that be my job now?\n",
            "\tAnd, she realized, there were other jobs that would need to be filled, too. Who would do their laundry? Who would track Frances’ swim times? Who would check Irene’s grammar homework and who would teach her how to make brisket? Who would be there to pick them up when they fell? The family’s future was all off-kilter, now that one member of the May clan had simply disappeared. Who would teach them how to reassemble their family, now that it had been torn to pieces?\n",
            "\tAnd, perhaps most important, who would buy the paprika?\n",
            "# # #\n",
            "\n"
          ]
        }
      ]
    },
    {
      "cell_type": "code",
      "source": [
        "i=26\n",
        "print(stories.story[i])"
      ],
      "metadata": {
        "colab": {
          "base_uri": "https://localhost:8080/"
        },
        "id": "IjqV1VRCt6aP",
        "outputId": "e62f63fa-edec-4901-fbe7-17d46c45c5ae"
      },
      "execution_count": null,
      "outputs": [
        {
          "output_type": "stream",
          "name": "stdout",
          "text": [
            "\n",
            "\t“We’ve called you in here today to discuss the concerns that numerous parents have voiced over the past few weeks,” Scott said calmly to Nadia as he crossed one leg over the other. Nadia glanced at Scott, the head of Trinity Lincoln School, and then looked at the other members of the board in front of her. They were all coincidentally white, leaving Nadia as the sole, brown-skinned person in the room. Nadia couldn’t help but notice that her colleagues all somehow looked like someone jammed a pole right up each of their asses and they couldn’t quite get comfortable. She knew why she was called in here today. But she didn’t know why they needed six members of the faculty to speak to her about it. She felt like she was on trial for murder, not a teacher speaking to her supposed associates.  \n",
            " \n",
            "\t“Concerns?” Nadia asked innocently, deciding to take the naïve approach. She knew damned well that there were parents complaining about her. But that wasn’t her problem, it was theirs. If parents didn’t want their teenagers to read books about real-life issues, then they should lock them in their houses and home school them. \n",
            " \n",
            "\t“Yes…concerns,” Scott said as he cleared his throat and then uncrossed and re-crossed his legs again. Nadia wondered if he had to pee. Why else would he be doing so much crossing and uncrossing? She waited for Scott to continue; this was his meeting, not hers, and she was happy to answer any questions he had. He just needed to ask her one. Nadia leaned back and crossed her arms in front of her instinctively as she felt fourteen eyes burn into her soul.\n",
            " \n",
            "\t“Uh huh…” she responded, waiting for him to elaborate. \n",
            " \n",
            "\tScott cleared his throat. “Well, it looks as though you selected a novel for your eleventh-grade honors class that was not on the list I gave you.”\n",
            " \n",
            "\t“Uh huh…” she said, waiting for Scott to grow a pair of balls and say what he wanted to say to her. \n",
            " \n",
            "\t“Annnnd…the novel you selected is quite controversial and offensive. Many parents were upset when they found out that their children were reading a book with such contentious topics.”\n",
            " \n",
            "\t“What did the parents find contentious about the novel?” Nadia asked, already knowing what the parents had been saying.\n",
            " \n",
            "\t“Well,” Scott took off his glass and rubbed his eyes. “They are saying that there is foul language. And murder. That all seems very inappropriate for children to be reading.”\n",
            " \n",
            "\tNadia fought the urge to roll her eyes. After two years of teaching the syllabus at this hoity toity private school, she had decided to toss in her own pick this year, The Hate You Give, by Angie Thomas. \n",
            " \n",
            "\t“And Macbeth and Crime and Punishment as well as all of the other novels on your list don’t have foul language or murder?” she asked matter-of-factly. She looked from Scott to her colleagues all staring at her stoically and continued, “It’s not as if I picked out this book for second graders. These are seventeen-year-olds. Practically adults.”\n",
            " \n",
            "\t“Right and that’s all fine and dandy. But we have a process at Trinity Lincoln. All novels must be approved by the board to prevent any upset. And this is the exact reason we do this. Because look what happened? There is upset,” Scott said as he uncrossed and recrossed his legs again.\n",
            " \n",
            "\tNadia felt her face begin to flush with anger. Two years ago, when she had applied to this 85% white school with tuition that is thirty thousand dollars a year, she had her doubts. Would she face racism being one of the only people of color on the staff? Would she be able to have real-life and in-depth conversations with her students whose only experiences in life were going to their summer getaways in Nantucket and country clubs? But after her first-year teaching, she had tossed out all her concerns and taught the students the best way she knew how. And the first year had been okay. It had been more than okay; she had felt pretty good about it. But she felt the novel selection the school had was old and stale. The students needed to read contemporary books about real world issues. After she had read, The Hate You Give, she decided her students had to read it and she naively thought the staff would have been progressive enough to agree with her. \n",
            " \n",
            "\t“Have you read it?” she asked Scott and then turned her eyes to the other faculty in front of her. “Have any of you read it?” Scott looked over at the women and men sitting in their chairs uncomfortably, waiting for someone to speak up.\n",
            " \n",
            "\t“I started to, but couldn’t get past the slang,” Mary, the AP Science teacher, spoke up. \n",
            " \n",
            "\t“Slang?” Nadia asked in astonishment. “It’s dialect. No different than the dialect in Huckleberry Finn.”\n",
            " \n",
            "\t“It seemed like it was doing a lot of white blame on black issues,” Mary blurted out, her face turning beet red.  Nadia tilted her head in confusion and horror. \n",
            " \n",
            "\t“Sorry, African American issues,” Mary corrected herself, her face almost purple now. \n",
            " \n",
            "\t“The novel examines the way society uses stereotypes of black people to justify violence and racism against them. These stereotypes protect white communities, such as the school in the novel which is not much different from our school quite frankly,” Nadia began.  “It helps our students to reflect upon systemic racism.”\n",
            " \n",
            "\t“We don’t have an issue with racism at our school,” Scott said. “We have some African American Students. We celebrate Martin Luther King Day.”\n",
            " \n",
            "\tNadia squeezed her palms together, now sweaty. “Scott, let’s be real here. What’s the issue? These kids play video games that have prostitutes and murder. They watch movies and TV shows with drugs and sex. In all honesty, probably some of them are DOING drugs and having sex. I can’t see the harm in allowing some white kids to read a novel about systemic racism.”\n",
            " \n",
            "\t“The parents feel differently, Ms. Nelson,” Scott addressed Nadia formally, never a good sign. “We are going to need you to write a letter of apology to the students and families and unfortunately you will be on suspended leave until the summer in order for this incident to die down. We can’t have this leaking into the community that this is what we are teaching our students. Especially when we are getting incoming Freshman applications for the Fall.”\n",
            " \n",
            "\tNadia stared at Scott in disbelief. Letter of apology? Suspended leave? For teaching a novel about racism? A best-selling novel at that? One that teenagers all over the United States are reading and discussing? When Nadia had chosen that novel, she had hoped that maybe she, a brown skinned girl from humble beginnings, could teach the white privileged students at Trinity Lincoln literature. Real literature, not just the ancient books she was told to teach. And maybe, even teach them some humanity. But she realized that maybe she had hoped too much. Maybe Trinity Lincoln wasn’t ready to get out of their square box. \n",
            " \n",
            "\t“Suspension isn’t necessary,” Nadia said as she rose from her chair and pushed it in, refusing to allow the group of cowards in front of her to waste any more of her time. “I’ll be resigning today,” she said as she picked up her purse and put the strap over her shoulder. She turned and walked out of the door and before she closed it behind her she said, “You should be hearing from my lawyer soon.” She slammed the door behind her and left Trinity Lincoln School for a more hopeful future somewhere else.   \n",
            "\n"
          ]
        }
      ]
    },
    {
      "cell_type": "code",
      "source": [
        "df_pca_comps = pd.DataFrame(pca.components_, columns = X.columns)\n",
        "tops_comps = pd.DataFrame(df_pca_comps.apply(lambda x:list(X.columns[np.array(x)\\\n",
        "                                        .argsort()[::-1][:3]]), \n",
        "                                      axis=1).to_list(),  \n",
        "                   columns=['Most Important Feature', \n",
        "                            '2nd Most Important Feature', \n",
        "                            '3rd Most Important Feature'])\n",
        "tops_comps.index.name = 'component_no'\n",
        "tops_comps"
      ],
      "metadata": {
        "colab": {
          "base_uri": "https://localhost:8080/",
          "height": 143
        },
        "id": "QwQXmwKJrBwV",
        "outputId": "b58dd201-986e-417f-c111-cca2cdba9cee"
      },
      "execution_count": null,
      "outputs": [
        {
          "output_type": "execute_result",
          "data": {
            "text/plain": [
              "             Most Important Feature 2nd Most Important Feature  \\\n",
              "component_no                                                     \n",
              "0                           feat_10                    feat_37   \n",
              "1                           feat_29                    feat_28   \n",
              "\n",
              "             3rd Most Important Feature  \n",
              "component_no                             \n",
              "0                               feat_41  \n",
              "1                               feat_17  "
            ],
            "text/html": [
              "\n",
              "  <div id=\"df-17b25545-f2c9-4aac-85d2-e13f9d8c8576\">\n",
              "    <div class=\"colab-df-container\">\n",
              "      <div>\n",
              "<style scoped>\n",
              "    .dataframe tbody tr th:only-of-type {\n",
              "        vertical-align: middle;\n",
              "    }\n",
              "\n",
              "    .dataframe tbody tr th {\n",
              "        vertical-align: top;\n",
              "    }\n",
              "\n",
              "    .dataframe thead th {\n",
              "        text-align: right;\n",
              "    }\n",
              "</style>\n",
              "<table border=\"1\" class=\"dataframe\">\n",
              "  <thead>\n",
              "    <tr style=\"text-align: right;\">\n",
              "      <th></th>\n",
              "      <th>Most Important Feature</th>\n",
              "      <th>2nd Most Important Feature</th>\n",
              "      <th>3rd Most Important Feature</th>\n",
              "    </tr>\n",
              "    <tr>\n",
              "      <th>component_no</th>\n",
              "      <th></th>\n",
              "      <th></th>\n",
              "      <th></th>\n",
              "    </tr>\n",
              "  </thead>\n",
              "  <tbody>\n",
              "    <tr>\n",
              "      <th>0</th>\n",
              "      <td>feat_10</td>\n",
              "      <td>feat_37</td>\n",
              "      <td>feat_41</td>\n",
              "    </tr>\n",
              "    <tr>\n",
              "      <th>1</th>\n",
              "      <td>feat_29</td>\n",
              "      <td>feat_28</td>\n",
              "      <td>feat_17</td>\n",
              "    </tr>\n",
              "  </tbody>\n",
              "</table>\n",
              "</div>\n",
              "      <button class=\"colab-df-convert\" onclick=\"convertToInteractive('df-17b25545-f2c9-4aac-85d2-e13f9d8c8576')\"\n",
              "              title=\"Convert this dataframe to an interactive table.\"\n",
              "              style=\"display:none;\">\n",
              "        \n",
              "  <svg xmlns=\"http://www.w3.org/2000/svg\" height=\"24px\"viewBox=\"0 0 24 24\"\n",
              "       width=\"24px\">\n",
              "    <path d=\"M0 0h24v24H0V0z\" fill=\"none\"/>\n",
              "    <path d=\"M18.56 5.44l.94 2.06.94-2.06 2.06-.94-2.06-.94-.94-2.06-.94 2.06-2.06.94zm-11 1L8.5 8.5l.94-2.06 2.06-.94-2.06-.94L8.5 2.5l-.94 2.06-2.06.94zm10 10l.94 2.06.94-2.06 2.06-.94-2.06-.94-.94-2.06-.94 2.06-2.06.94z\"/><path d=\"M17.41 7.96l-1.37-1.37c-.4-.4-.92-.59-1.43-.59-.52 0-1.04.2-1.43.59L10.3 9.45l-7.72 7.72c-.78.78-.78 2.05 0 2.83L4 21.41c.39.39.9.59 1.41.59.51 0 1.02-.2 1.41-.59l7.78-7.78 2.81-2.81c.8-.78.8-2.07 0-2.86zM5.41 20L4 18.59l7.72-7.72 1.47 1.35L5.41 20z\"/>\n",
              "  </svg>\n",
              "      </button>\n",
              "      \n",
              "  <style>\n",
              "    .colab-df-container {\n",
              "      display:flex;\n",
              "      flex-wrap:wrap;\n",
              "      gap: 12px;\n",
              "    }\n",
              "\n",
              "    .colab-df-convert {\n",
              "      background-color: #E8F0FE;\n",
              "      border: none;\n",
              "      border-radius: 50%;\n",
              "      cursor: pointer;\n",
              "      display: none;\n",
              "      fill: #1967D2;\n",
              "      height: 32px;\n",
              "      padding: 0 0 0 0;\n",
              "      width: 32px;\n",
              "    }\n",
              "\n",
              "    .colab-df-convert:hover {\n",
              "      background-color: #E2EBFA;\n",
              "      box-shadow: 0px 1px 2px rgba(60, 64, 67, 0.3), 0px 1px 3px 1px rgba(60, 64, 67, 0.15);\n",
              "      fill: #174EA6;\n",
              "    }\n",
              "\n",
              "    [theme=dark] .colab-df-convert {\n",
              "      background-color: #3B4455;\n",
              "      fill: #D2E3FC;\n",
              "    }\n",
              "\n",
              "    [theme=dark] .colab-df-convert:hover {\n",
              "      background-color: #434B5C;\n",
              "      box-shadow: 0px 1px 3px 1px rgba(0, 0, 0, 0.15);\n",
              "      filter: drop-shadow(0px 1px 2px rgba(0, 0, 0, 0.3));\n",
              "      fill: #FFFFFF;\n",
              "    }\n",
              "  </style>\n",
              "\n",
              "      <script>\n",
              "        const buttonEl =\n",
              "          document.querySelector('#df-17b25545-f2c9-4aac-85d2-e13f9d8c8576 button.colab-df-convert');\n",
              "        buttonEl.style.display =\n",
              "          google.colab.kernel.accessAllowed ? 'block' : 'none';\n",
              "\n",
              "        async function convertToInteractive(key) {\n",
              "          const element = document.querySelector('#df-17b25545-f2c9-4aac-85d2-e13f9d8c8576');\n",
              "          const dataTable =\n",
              "            await google.colab.kernel.invokeFunction('convertToInteractive',\n",
              "                                                     [key], {});\n",
              "          if (!dataTable) return;\n",
              "\n",
              "          const docLinkHtml = 'Like what you see? Visit the ' +\n",
              "            '<a target=\"_blank\" href=https://colab.research.google.com/notebooks/data_table.ipynb>data table notebook</a>'\n",
              "            + ' to learn more about interactive tables.';\n",
              "          element.innerHTML = '';\n",
              "          dataTable['output_type'] = 'display_data';\n",
              "          await google.colab.output.renderOutput(dataTable, element);\n",
              "          const docLink = document.createElement('div');\n",
              "          docLink.innerHTML = docLinkHtml;\n",
              "          element.appendChild(docLink);\n",
              "        }\n",
              "      </script>\n",
              "    </div>\n",
              "  </div>\n",
              "  "
            ]
          },
          "metadata": {},
          "execution_count": 36
        }
      ]
    }
  ]
}