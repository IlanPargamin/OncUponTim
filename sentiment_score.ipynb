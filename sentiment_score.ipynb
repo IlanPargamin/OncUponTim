{
  "nbformat": 4,
  "nbformat_minor": 0,
  "metadata": {
    "colab": {
      "name": "sentiment_score.ipynb",
      "provenance": [],
      "collapsed_sections": [
        "DAUdNpQQAIP5",
        "9EUlZNiq7Vul",
        "PaDTS0w38VWK",
        "emavQBJKAuIk",
        "R8N2doLCAsCu",
        "tk0_giSRJTD4",
        "MnM_qaF1EDw3",
        "aA18wwMtDPPM",
        "0gKR9TJVN2Fu",
        "dEUw7wyvplWt",
        "bmG7ZmIvpoVl"
      ]
    },
    "kernelspec": {
      "name": "python3",
      "display_name": "Python 3"
    },
    "language_info": {
      "name": "python"
    },
    "widgets": {
      "application/vnd.jupyter.widget-state+json": {
        "653f8a874caa4a849c38ee6735e8ed15": {
          "model_module": "@jupyter-widgets/controls",
          "model_name": "HBoxModel",
          "model_module_version": "1.5.0",
          "state": {
            "_dom_classes": [],
            "_model_module": "@jupyter-widgets/controls",
            "_model_module_version": "1.5.0",
            "_model_name": "HBoxModel",
            "_view_count": null,
            "_view_module": "@jupyter-widgets/controls",
            "_view_module_version": "1.5.0",
            "_view_name": "HBoxView",
            "box_style": "",
            "children": [
              "IPY_MODEL_b16de4d7119c48008a0d33ff26634097",
              "IPY_MODEL_2b27df76bbfd457095136169abff9e22",
              "IPY_MODEL_7d74ce7cd691431eb3c3381a1289970f"
            ],
            "layout": "IPY_MODEL_1530497876b14079a70d4838dc6f547d"
          }
        },
        "b16de4d7119c48008a0d33ff26634097": {
          "model_module": "@jupyter-widgets/controls",
          "model_name": "HTMLModel",
          "model_module_version": "1.5.0",
          "state": {
            "_dom_classes": [],
            "_model_module": "@jupyter-widgets/controls",
            "_model_module_version": "1.5.0",
            "_model_name": "HTMLModel",
            "_view_count": null,
            "_view_module": "@jupyter-widgets/controls",
            "_view_module_version": "1.5.0",
            "_view_name": "HTMLView",
            "description": "",
            "description_tooltip": null,
            "layout": "IPY_MODEL_ad9599c682384c8a9e9a563a75fcb496",
            "placeholder": "​",
            "style": "IPY_MODEL_63fa7bb46bfa491f8d5cfe11c304a515",
            "value": "100%"
          }
        },
        "2b27df76bbfd457095136169abff9e22": {
          "model_module": "@jupyter-widgets/controls",
          "model_name": "FloatProgressModel",
          "model_module_version": "1.5.0",
          "state": {
            "_dom_classes": [],
            "_model_module": "@jupyter-widgets/controls",
            "_model_module_version": "1.5.0",
            "_model_name": "FloatProgressModel",
            "_view_count": null,
            "_view_module": "@jupyter-widgets/controls",
            "_view_module_version": "1.5.0",
            "_view_name": "ProgressView",
            "bar_style": "success",
            "description": "",
            "description_tooltip": null,
            "layout": "IPY_MODEL_82a8b991664541d59065f3198acdbf67",
            "max": 18248,
            "min": 0,
            "orientation": "horizontal",
            "style": "IPY_MODEL_f96f16fb544644d290365f134bab4886",
            "value": 18248
          }
        },
        "7d74ce7cd691431eb3c3381a1289970f": {
          "model_module": "@jupyter-widgets/controls",
          "model_name": "HTMLModel",
          "model_module_version": "1.5.0",
          "state": {
            "_dom_classes": [],
            "_model_module": "@jupyter-widgets/controls",
            "_model_module_version": "1.5.0",
            "_model_name": "HTMLModel",
            "_view_count": null,
            "_view_module": "@jupyter-widgets/controls",
            "_view_module_version": "1.5.0",
            "_view_name": "HTMLView",
            "description": "",
            "description_tooltip": null,
            "layout": "IPY_MODEL_b3408bfeb581425d91892d40568dbb17",
            "placeholder": "​",
            "style": "IPY_MODEL_3081999d5302423798486e9033a77336",
            "value": " 18248/18248 [04:19&lt;00:00, 68.59it/s]"
          }
        },
        "1530497876b14079a70d4838dc6f547d": {
          "model_module": "@jupyter-widgets/base",
          "model_name": "LayoutModel",
          "model_module_version": "1.2.0",
          "state": {
            "_model_module": "@jupyter-widgets/base",
            "_model_module_version": "1.2.0",
            "_model_name": "LayoutModel",
            "_view_count": null,
            "_view_module": "@jupyter-widgets/base",
            "_view_module_version": "1.2.0",
            "_view_name": "LayoutView",
            "align_content": null,
            "align_items": null,
            "align_self": null,
            "border": null,
            "bottom": null,
            "display": null,
            "flex": null,
            "flex_flow": null,
            "grid_area": null,
            "grid_auto_columns": null,
            "grid_auto_flow": null,
            "grid_auto_rows": null,
            "grid_column": null,
            "grid_gap": null,
            "grid_row": null,
            "grid_template_areas": null,
            "grid_template_columns": null,
            "grid_template_rows": null,
            "height": null,
            "justify_content": null,
            "justify_items": null,
            "left": null,
            "margin": null,
            "max_height": null,
            "max_width": null,
            "min_height": null,
            "min_width": null,
            "object_fit": null,
            "object_position": null,
            "order": null,
            "overflow": null,
            "overflow_x": null,
            "overflow_y": null,
            "padding": null,
            "right": null,
            "top": null,
            "visibility": null,
            "width": null
          }
        },
        "ad9599c682384c8a9e9a563a75fcb496": {
          "model_module": "@jupyter-widgets/base",
          "model_name": "LayoutModel",
          "model_module_version": "1.2.0",
          "state": {
            "_model_module": "@jupyter-widgets/base",
            "_model_module_version": "1.2.0",
            "_model_name": "LayoutModel",
            "_view_count": null,
            "_view_module": "@jupyter-widgets/base",
            "_view_module_version": "1.2.0",
            "_view_name": "LayoutView",
            "align_content": null,
            "align_items": null,
            "align_self": null,
            "border": null,
            "bottom": null,
            "display": null,
            "flex": null,
            "flex_flow": null,
            "grid_area": null,
            "grid_auto_columns": null,
            "grid_auto_flow": null,
            "grid_auto_rows": null,
            "grid_column": null,
            "grid_gap": null,
            "grid_row": null,
            "grid_template_areas": null,
            "grid_template_columns": null,
            "grid_template_rows": null,
            "height": null,
            "justify_content": null,
            "justify_items": null,
            "left": null,
            "margin": null,
            "max_height": null,
            "max_width": null,
            "min_height": null,
            "min_width": null,
            "object_fit": null,
            "object_position": null,
            "order": null,
            "overflow": null,
            "overflow_x": null,
            "overflow_y": null,
            "padding": null,
            "right": null,
            "top": null,
            "visibility": null,
            "width": null
          }
        },
        "63fa7bb46bfa491f8d5cfe11c304a515": {
          "model_module": "@jupyter-widgets/controls",
          "model_name": "DescriptionStyleModel",
          "model_module_version": "1.5.0",
          "state": {
            "_model_module": "@jupyter-widgets/controls",
            "_model_module_version": "1.5.0",
            "_model_name": "DescriptionStyleModel",
            "_view_count": null,
            "_view_module": "@jupyter-widgets/base",
            "_view_module_version": "1.2.0",
            "_view_name": "StyleView",
            "description_width": ""
          }
        },
        "82a8b991664541d59065f3198acdbf67": {
          "model_module": "@jupyter-widgets/base",
          "model_name": "LayoutModel",
          "model_module_version": "1.2.0",
          "state": {
            "_model_module": "@jupyter-widgets/base",
            "_model_module_version": "1.2.0",
            "_model_name": "LayoutModel",
            "_view_count": null,
            "_view_module": "@jupyter-widgets/base",
            "_view_module_version": "1.2.0",
            "_view_name": "LayoutView",
            "align_content": null,
            "align_items": null,
            "align_self": null,
            "border": null,
            "bottom": null,
            "display": null,
            "flex": null,
            "flex_flow": null,
            "grid_area": null,
            "grid_auto_columns": null,
            "grid_auto_flow": null,
            "grid_auto_rows": null,
            "grid_column": null,
            "grid_gap": null,
            "grid_row": null,
            "grid_template_areas": null,
            "grid_template_columns": null,
            "grid_template_rows": null,
            "height": null,
            "justify_content": null,
            "justify_items": null,
            "left": null,
            "margin": null,
            "max_height": null,
            "max_width": null,
            "min_height": null,
            "min_width": null,
            "object_fit": null,
            "object_position": null,
            "order": null,
            "overflow": null,
            "overflow_x": null,
            "overflow_y": null,
            "padding": null,
            "right": null,
            "top": null,
            "visibility": null,
            "width": null
          }
        },
        "f96f16fb544644d290365f134bab4886": {
          "model_module": "@jupyter-widgets/controls",
          "model_name": "ProgressStyleModel",
          "model_module_version": "1.5.0",
          "state": {
            "_model_module": "@jupyter-widgets/controls",
            "_model_module_version": "1.5.0",
            "_model_name": "ProgressStyleModel",
            "_view_count": null,
            "_view_module": "@jupyter-widgets/base",
            "_view_module_version": "1.2.0",
            "_view_name": "StyleView",
            "bar_color": null,
            "description_width": ""
          }
        },
        "b3408bfeb581425d91892d40568dbb17": {
          "model_module": "@jupyter-widgets/base",
          "model_name": "LayoutModel",
          "model_module_version": "1.2.0",
          "state": {
            "_model_module": "@jupyter-widgets/base",
            "_model_module_version": "1.2.0",
            "_model_name": "LayoutModel",
            "_view_count": null,
            "_view_module": "@jupyter-widgets/base",
            "_view_module_version": "1.2.0",
            "_view_name": "LayoutView",
            "align_content": null,
            "align_items": null,
            "align_self": null,
            "border": null,
            "bottom": null,
            "display": null,
            "flex": null,
            "flex_flow": null,
            "grid_area": null,
            "grid_auto_columns": null,
            "grid_auto_flow": null,
            "grid_auto_rows": null,
            "grid_column": null,
            "grid_gap": null,
            "grid_row": null,
            "grid_template_areas": null,
            "grid_template_columns": null,
            "grid_template_rows": null,
            "height": null,
            "justify_content": null,
            "justify_items": null,
            "left": null,
            "margin": null,
            "max_height": null,
            "max_width": null,
            "min_height": null,
            "min_width": null,
            "object_fit": null,
            "object_position": null,
            "order": null,
            "overflow": null,
            "overflow_x": null,
            "overflow_y": null,
            "padding": null,
            "right": null,
            "top": null,
            "visibility": null,
            "width": null
          }
        },
        "3081999d5302423798486e9033a77336": {
          "model_module": "@jupyter-widgets/controls",
          "model_name": "DescriptionStyleModel",
          "model_module_version": "1.5.0",
          "state": {
            "_model_module": "@jupyter-widgets/controls",
            "_model_module_version": "1.5.0",
            "_model_name": "DescriptionStyleModel",
            "_view_count": null,
            "_view_module": "@jupyter-widgets/base",
            "_view_module_version": "1.2.0",
            "_view_name": "StyleView",
            "description_width": ""
          }
        },
        "4ea47c88d9dd428ca393c006f9dd0ef2": {
          "model_module": "@jupyter-widgets/controls",
          "model_name": "HBoxModel",
          "model_module_version": "1.5.0",
          "state": {
            "_dom_classes": [],
            "_model_module": "@jupyter-widgets/controls",
            "_model_module_version": "1.5.0",
            "_model_name": "HBoxModel",
            "_view_count": null,
            "_view_module": "@jupyter-widgets/controls",
            "_view_module_version": "1.5.0",
            "_view_name": "HBoxView",
            "box_style": "",
            "children": [
              "IPY_MODEL_c891b7cdd84b46858f5346fa0a2eb7e2",
              "IPY_MODEL_6fc0895a289e4821bbaa222f9c1d1ad1",
              "IPY_MODEL_a76da9ab22ac43a1b167f627e9b95b43"
            ],
            "layout": "IPY_MODEL_e2294838c0934adc96ad405a696fcae4"
          }
        },
        "c891b7cdd84b46858f5346fa0a2eb7e2": {
          "model_module": "@jupyter-widgets/controls",
          "model_name": "HTMLModel",
          "model_module_version": "1.5.0",
          "state": {
            "_dom_classes": [],
            "_model_module": "@jupyter-widgets/controls",
            "_model_module_version": "1.5.0",
            "_model_name": "HTMLModel",
            "_view_count": null,
            "_view_module": "@jupyter-widgets/controls",
            "_view_module_version": "1.5.0",
            "_view_name": "HTMLView",
            "description": "",
            "description_tooltip": null,
            "layout": "IPY_MODEL_c8d0149564b44237a9517d4b1747ce5c",
            "placeholder": "​",
            "style": "IPY_MODEL_8ec584c508894f64aa2c45ca811328ec",
            "value": "  4%"
          }
        },
        "6fc0895a289e4821bbaa222f9c1d1ad1": {
          "model_module": "@jupyter-widgets/controls",
          "model_name": "FloatProgressModel",
          "model_module_version": "1.5.0",
          "state": {
            "_dom_classes": [],
            "_model_module": "@jupyter-widgets/controls",
            "_model_module_version": "1.5.0",
            "_model_name": "FloatProgressModel",
            "_view_count": null,
            "_view_module": "@jupyter-widgets/controls",
            "_view_module_version": "1.5.0",
            "_view_name": "ProgressView",
            "bar_style": "",
            "description": "",
            "description_tooltip": null,
            "layout": "IPY_MODEL_ddfd7f93f2ae445fba2ca9861ac3a3f6",
            "max": 18248,
            "min": 0,
            "orientation": "horizontal",
            "style": "IPY_MODEL_530e916a7ece430c9186ccc66cabf3c7",
            "value": 806
          }
        },
        "a76da9ab22ac43a1b167f627e9b95b43": {
          "model_module": "@jupyter-widgets/controls",
          "model_name": "HTMLModel",
          "model_module_version": "1.5.0",
          "state": {
            "_dom_classes": [],
            "_model_module": "@jupyter-widgets/controls",
            "_model_module_version": "1.5.0",
            "_model_name": "HTMLModel",
            "_view_count": null,
            "_view_module": "@jupyter-widgets/controls",
            "_view_module_version": "1.5.0",
            "_view_name": "HTMLView",
            "description": "",
            "description_tooltip": null,
            "layout": "IPY_MODEL_d840e7be252a4692980af4140183d16d",
            "placeholder": "​",
            "style": "IPY_MODEL_18e522b1f3ed4178bbfc84e08da82604",
            "value": " 806/18248 [08:19&lt;2:38:59,  1.83it/s]"
          }
        },
        "e2294838c0934adc96ad405a696fcae4": {
          "model_module": "@jupyter-widgets/base",
          "model_name": "LayoutModel",
          "model_module_version": "1.2.0",
          "state": {
            "_model_module": "@jupyter-widgets/base",
            "_model_module_version": "1.2.0",
            "_model_name": "LayoutModel",
            "_view_count": null,
            "_view_module": "@jupyter-widgets/base",
            "_view_module_version": "1.2.0",
            "_view_name": "LayoutView",
            "align_content": null,
            "align_items": null,
            "align_self": null,
            "border": null,
            "bottom": null,
            "display": null,
            "flex": null,
            "flex_flow": null,
            "grid_area": null,
            "grid_auto_columns": null,
            "grid_auto_flow": null,
            "grid_auto_rows": null,
            "grid_column": null,
            "grid_gap": null,
            "grid_row": null,
            "grid_template_areas": null,
            "grid_template_columns": null,
            "grid_template_rows": null,
            "height": null,
            "justify_content": null,
            "justify_items": null,
            "left": null,
            "margin": null,
            "max_height": null,
            "max_width": null,
            "min_height": null,
            "min_width": null,
            "object_fit": null,
            "object_position": null,
            "order": null,
            "overflow": null,
            "overflow_x": null,
            "overflow_y": null,
            "padding": null,
            "right": null,
            "top": null,
            "visibility": null,
            "width": null
          }
        },
        "c8d0149564b44237a9517d4b1747ce5c": {
          "model_module": "@jupyter-widgets/base",
          "model_name": "LayoutModel",
          "model_module_version": "1.2.0",
          "state": {
            "_model_module": "@jupyter-widgets/base",
            "_model_module_version": "1.2.0",
            "_model_name": "LayoutModel",
            "_view_count": null,
            "_view_module": "@jupyter-widgets/base",
            "_view_module_version": "1.2.0",
            "_view_name": "LayoutView",
            "align_content": null,
            "align_items": null,
            "align_self": null,
            "border": null,
            "bottom": null,
            "display": null,
            "flex": null,
            "flex_flow": null,
            "grid_area": null,
            "grid_auto_columns": null,
            "grid_auto_flow": null,
            "grid_auto_rows": null,
            "grid_column": null,
            "grid_gap": null,
            "grid_row": null,
            "grid_template_areas": null,
            "grid_template_columns": null,
            "grid_template_rows": null,
            "height": null,
            "justify_content": null,
            "justify_items": null,
            "left": null,
            "margin": null,
            "max_height": null,
            "max_width": null,
            "min_height": null,
            "min_width": null,
            "object_fit": null,
            "object_position": null,
            "order": null,
            "overflow": null,
            "overflow_x": null,
            "overflow_y": null,
            "padding": null,
            "right": null,
            "top": null,
            "visibility": null,
            "width": null
          }
        },
        "8ec584c508894f64aa2c45ca811328ec": {
          "model_module": "@jupyter-widgets/controls",
          "model_name": "DescriptionStyleModel",
          "model_module_version": "1.5.0",
          "state": {
            "_model_module": "@jupyter-widgets/controls",
            "_model_module_version": "1.5.0",
            "_model_name": "DescriptionStyleModel",
            "_view_count": null,
            "_view_module": "@jupyter-widgets/base",
            "_view_module_version": "1.2.0",
            "_view_name": "StyleView",
            "description_width": ""
          }
        },
        "ddfd7f93f2ae445fba2ca9861ac3a3f6": {
          "model_module": "@jupyter-widgets/base",
          "model_name": "LayoutModel",
          "model_module_version": "1.2.0",
          "state": {
            "_model_module": "@jupyter-widgets/base",
            "_model_module_version": "1.2.0",
            "_model_name": "LayoutModel",
            "_view_count": null,
            "_view_module": "@jupyter-widgets/base",
            "_view_module_version": "1.2.0",
            "_view_name": "LayoutView",
            "align_content": null,
            "align_items": null,
            "align_self": null,
            "border": null,
            "bottom": null,
            "display": null,
            "flex": null,
            "flex_flow": null,
            "grid_area": null,
            "grid_auto_columns": null,
            "grid_auto_flow": null,
            "grid_auto_rows": null,
            "grid_column": null,
            "grid_gap": null,
            "grid_row": null,
            "grid_template_areas": null,
            "grid_template_columns": null,
            "grid_template_rows": null,
            "height": null,
            "justify_content": null,
            "justify_items": null,
            "left": null,
            "margin": null,
            "max_height": null,
            "max_width": null,
            "min_height": null,
            "min_width": null,
            "object_fit": null,
            "object_position": null,
            "order": null,
            "overflow": null,
            "overflow_x": null,
            "overflow_y": null,
            "padding": null,
            "right": null,
            "top": null,
            "visibility": null,
            "width": null
          }
        },
        "530e916a7ece430c9186ccc66cabf3c7": {
          "model_module": "@jupyter-widgets/controls",
          "model_name": "ProgressStyleModel",
          "model_module_version": "1.5.0",
          "state": {
            "_model_module": "@jupyter-widgets/controls",
            "_model_module_version": "1.5.0",
            "_model_name": "ProgressStyleModel",
            "_view_count": null,
            "_view_module": "@jupyter-widgets/base",
            "_view_module_version": "1.2.0",
            "_view_name": "StyleView",
            "bar_color": null,
            "description_width": ""
          }
        },
        "d840e7be252a4692980af4140183d16d": {
          "model_module": "@jupyter-widgets/base",
          "model_name": "LayoutModel",
          "model_module_version": "1.2.0",
          "state": {
            "_model_module": "@jupyter-widgets/base",
            "_model_module_version": "1.2.0",
            "_model_name": "LayoutModel",
            "_view_count": null,
            "_view_module": "@jupyter-widgets/base",
            "_view_module_version": "1.2.0",
            "_view_name": "LayoutView",
            "align_content": null,
            "align_items": null,
            "align_self": null,
            "border": null,
            "bottom": null,
            "display": null,
            "flex": null,
            "flex_flow": null,
            "grid_area": null,
            "grid_auto_columns": null,
            "grid_auto_flow": null,
            "grid_auto_rows": null,
            "grid_column": null,
            "grid_gap": null,
            "grid_row": null,
            "grid_template_areas": null,
            "grid_template_columns": null,
            "grid_template_rows": null,
            "height": null,
            "justify_content": null,
            "justify_items": null,
            "left": null,
            "margin": null,
            "max_height": null,
            "max_width": null,
            "min_height": null,
            "min_width": null,
            "object_fit": null,
            "object_position": null,
            "order": null,
            "overflow": null,
            "overflow_x": null,
            "overflow_y": null,
            "padding": null,
            "right": null,
            "top": null,
            "visibility": null,
            "width": null
          }
        },
        "18e522b1f3ed4178bbfc84e08da82604": {
          "model_module": "@jupyter-widgets/controls",
          "model_name": "DescriptionStyleModel",
          "model_module_version": "1.5.0",
          "state": {
            "_model_module": "@jupyter-widgets/controls",
            "_model_module_version": "1.5.0",
            "_model_name": "DescriptionStyleModel",
            "_view_count": null,
            "_view_module": "@jupyter-widgets/base",
            "_view_module_version": "1.2.0",
            "_view_name": "StyleView",
            "description_width": ""
          }
        },
        "b7b2823f24194195a8dde874b9a89c09": {
          "model_module": "@jupyter-widgets/controls",
          "model_name": "HBoxModel",
          "model_module_version": "1.5.0",
          "state": {
            "_dom_classes": [],
            "_model_module": "@jupyter-widgets/controls",
            "_model_module_version": "1.5.0",
            "_model_name": "HBoxModel",
            "_view_count": null,
            "_view_module": "@jupyter-widgets/controls",
            "_view_module_version": "1.5.0",
            "_view_name": "HBoxView",
            "box_style": "",
            "children": [
              "IPY_MODEL_02db3ef5051d4e3bb250b46b212dc881",
              "IPY_MODEL_7aae995fde7c481da1bd5c3bd6fe6849",
              "IPY_MODEL_fee8df801e2941fe8579dd9ae489ea90"
            ],
            "layout": "IPY_MODEL_a983ebf9f9f844dab8556c7ec6698f82"
          }
        },
        "02db3ef5051d4e3bb250b46b212dc881": {
          "model_module": "@jupyter-widgets/controls",
          "model_name": "HTMLModel",
          "model_module_version": "1.5.0",
          "state": {
            "_dom_classes": [],
            "_model_module": "@jupyter-widgets/controls",
            "_model_module_version": "1.5.0",
            "_model_name": "HTMLModel",
            "_view_count": null,
            "_view_module": "@jupyter-widgets/controls",
            "_view_module_version": "1.5.0",
            "_view_name": "HTMLView",
            "description": "",
            "description_tooltip": null,
            "layout": "IPY_MODEL_c7f4a001d58c4050b9067e13d5c6ecd9",
            "placeholder": "​",
            "style": "IPY_MODEL_695d31f8f0fe46c289f425aeac578512",
            "value": "Downloading: 100%"
          }
        },
        "7aae995fde7c481da1bd5c3bd6fe6849": {
          "model_module": "@jupyter-widgets/controls",
          "model_name": "FloatProgressModel",
          "model_module_version": "1.5.0",
          "state": {
            "_dom_classes": [],
            "_model_module": "@jupyter-widgets/controls",
            "_model_module_version": "1.5.0",
            "_model_name": "FloatProgressModel",
            "_view_count": null,
            "_view_module": "@jupyter-widgets/controls",
            "_view_module_version": "1.5.0",
            "_view_name": "ProgressView",
            "bar_style": "success",
            "description": "",
            "description_tooltip": null,
            "layout": "IPY_MODEL_0458b29e4cc74c92be4bdb1d35249fd2",
            "max": 629,
            "min": 0,
            "orientation": "horizontal",
            "style": "IPY_MODEL_bebe0954f18e4f439ab5332ce4514ad9",
            "value": 629
          }
        },
        "fee8df801e2941fe8579dd9ae489ea90": {
          "model_module": "@jupyter-widgets/controls",
          "model_name": "HTMLModel",
          "model_module_version": "1.5.0",
          "state": {
            "_dom_classes": [],
            "_model_module": "@jupyter-widgets/controls",
            "_model_module_version": "1.5.0",
            "_model_name": "HTMLModel",
            "_view_count": null,
            "_view_module": "@jupyter-widgets/controls",
            "_view_module_version": "1.5.0",
            "_view_name": "HTMLView",
            "description": "",
            "description_tooltip": null,
            "layout": "IPY_MODEL_b681750b657743f6951a49950c8e87f4",
            "placeholder": "​",
            "style": "IPY_MODEL_157b4dffce544dd9a48994bc1ccfa7aa",
            "value": " 629/629 [00:00&lt;00:00, 15.2kB/s]"
          }
        },
        "a983ebf9f9f844dab8556c7ec6698f82": {
          "model_module": "@jupyter-widgets/base",
          "model_name": "LayoutModel",
          "model_module_version": "1.2.0",
          "state": {
            "_model_module": "@jupyter-widgets/base",
            "_model_module_version": "1.2.0",
            "_model_name": "LayoutModel",
            "_view_count": null,
            "_view_module": "@jupyter-widgets/base",
            "_view_module_version": "1.2.0",
            "_view_name": "LayoutView",
            "align_content": null,
            "align_items": null,
            "align_self": null,
            "border": null,
            "bottom": null,
            "display": null,
            "flex": null,
            "flex_flow": null,
            "grid_area": null,
            "grid_auto_columns": null,
            "grid_auto_flow": null,
            "grid_auto_rows": null,
            "grid_column": null,
            "grid_gap": null,
            "grid_row": null,
            "grid_template_areas": null,
            "grid_template_columns": null,
            "grid_template_rows": null,
            "height": null,
            "justify_content": null,
            "justify_items": null,
            "left": null,
            "margin": null,
            "max_height": null,
            "max_width": null,
            "min_height": null,
            "min_width": null,
            "object_fit": null,
            "object_position": null,
            "order": null,
            "overflow": null,
            "overflow_x": null,
            "overflow_y": null,
            "padding": null,
            "right": null,
            "top": null,
            "visibility": null,
            "width": null
          }
        },
        "c7f4a001d58c4050b9067e13d5c6ecd9": {
          "model_module": "@jupyter-widgets/base",
          "model_name": "LayoutModel",
          "model_module_version": "1.2.0",
          "state": {
            "_model_module": "@jupyter-widgets/base",
            "_model_module_version": "1.2.0",
            "_model_name": "LayoutModel",
            "_view_count": null,
            "_view_module": "@jupyter-widgets/base",
            "_view_module_version": "1.2.0",
            "_view_name": "LayoutView",
            "align_content": null,
            "align_items": null,
            "align_self": null,
            "border": null,
            "bottom": null,
            "display": null,
            "flex": null,
            "flex_flow": null,
            "grid_area": null,
            "grid_auto_columns": null,
            "grid_auto_flow": null,
            "grid_auto_rows": null,
            "grid_column": null,
            "grid_gap": null,
            "grid_row": null,
            "grid_template_areas": null,
            "grid_template_columns": null,
            "grid_template_rows": null,
            "height": null,
            "justify_content": null,
            "justify_items": null,
            "left": null,
            "margin": null,
            "max_height": null,
            "max_width": null,
            "min_height": null,
            "min_width": null,
            "object_fit": null,
            "object_position": null,
            "order": null,
            "overflow": null,
            "overflow_x": null,
            "overflow_y": null,
            "padding": null,
            "right": null,
            "top": null,
            "visibility": null,
            "width": null
          }
        },
        "695d31f8f0fe46c289f425aeac578512": {
          "model_module": "@jupyter-widgets/controls",
          "model_name": "DescriptionStyleModel",
          "model_module_version": "1.5.0",
          "state": {
            "_model_module": "@jupyter-widgets/controls",
            "_model_module_version": "1.5.0",
            "_model_name": "DescriptionStyleModel",
            "_view_count": null,
            "_view_module": "@jupyter-widgets/base",
            "_view_module_version": "1.2.0",
            "_view_name": "StyleView",
            "description_width": ""
          }
        },
        "0458b29e4cc74c92be4bdb1d35249fd2": {
          "model_module": "@jupyter-widgets/base",
          "model_name": "LayoutModel",
          "model_module_version": "1.2.0",
          "state": {
            "_model_module": "@jupyter-widgets/base",
            "_model_module_version": "1.2.0",
            "_model_name": "LayoutModel",
            "_view_count": null,
            "_view_module": "@jupyter-widgets/base",
            "_view_module_version": "1.2.0",
            "_view_name": "LayoutView",
            "align_content": null,
            "align_items": null,
            "align_self": null,
            "border": null,
            "bottom": null,
            "display": null,
            "flex": null,
            "flex_flow": null,
            "grid_area": null,
            "grid_auto_columns": null,
            "grid_auto_flow": null,
            "grid_auto_rows": null,
            "grid_column": null,
            "grid_gap": null,
            "grid_row": null,
            "grid_template_areas": null,
            "grid_template_columns": null,
            "grid_template_rows": null,
            "height": null,
            "justify_content": null,
            "justify_items": null,
            "left": null,
            "margin": null,
            "max_height": null,
            "max_width": null,
            "min_height": null,
            "min_width": null,
            "object_fit": null,
            "object_position": null,
            "order": null,
            "overflow": null,
            "overflow_x": null,
            "overflow_y": null,
            "padding": null,
            "right": null,
            "top": null,
            "visibility": null,
            "width": null
          }
        },
        "bebe0954f18e4f439ab5332ce4514ad9": {
          "model_module": "@jupyter-widgets/controls",
          "model_name": "ProgressStyleModel",
          "model_module_version": "1.5.0",
          "state": {
            "_model_module": "@jupyter-widgets/controls",
            "_model_module_version": "1.5.0",
            "_model_name": "ProgressStyleModel",
            "_view_count": null,
            "_view_module": "@jupyter-widgets/base",
            "_view_module_version": "1.2.0",
            "_view_name": "StyleView",
            "bar_color": null,
            "description_width": ""
          }
        },
        "b681750b657743f6951a49950c8e87f4": {
          "model_module": "@jupyter-widgets/base",
          "model_name": "LayoutModel",
          "model_module_version": "1.2.0",
          "state": {
            "_model_module": "@jupyter-widgets/base",
            "_model_module_version": "1.2.0",
            "_model_name": "LayoutModel",
            "_view_count": null,
            "_view_module": "@jupyter-widgets/base",
            "_view_module_version": "1.2.0",
            "_view_name": "LayoutView",
            "align_content": null,
            "align_items": null,
            "align_self": null,
            "border": null,
            "bottom": null,
            "display": null,
            "flex": null,
            "flex_flow": null,
            "grid_area": null,
            "grid_auto_columns": null,
            "grid_auto_flow": null,
            "grid_auto_rows": null,
            "grid_column": null,
            "grid_gap": null,
            "grid_row": null,
            "grid_template_areas": null,
            "grid_template_columns": null,
            "grid_template_rows": null,
            "height": null,
            "justify_content": null,
            "justify_items": null,
            "left": null,
            "margin": null,
            "max_height": null,
            "max_width": null,
            "min_height": null,
            "min_width": null,
            "object_fit": null,
            "object_position": null,
            "order": null,
            "overflow": null,
            "overflow_x": null,
            "overflow_y": null,
            "padding": null,
            "right": null,
            "top": null,
            "visibility": null,
            "width": null
          }
        },
        "157b4dffce544dd9a48994bc1ccfa7aa": {
          "model_module": "@jupyter-widgets/controls",
          "model_name": "DescriptionStyleModel",
          "model_module_version": "1.5.0",
          "state": {
            "_model_module": "@jupyter-widgets/controls",
            "_model_module_version": "1.5.0",
            "_model_name": "DescriptionStyleModel",
            "_view_count": null,
            "_view_module": "@jupyter-widgets/base",
            "_view_module_version": "1.2.0",
            "_view_name": "StyleView",
            "description_width": ""
          }
        },
        "4b197c34ee6d4415a250085bb412bba3": {
          "model_module": "@jupyter-widgets/controls",
          "model_name": "HBoxModel",
          "model_module_version": "1.5.0",
          "state": {
            "_dom_classes": [],
            "_model_module": "@jupyter-widgets/controls",
            "_model_module_version": "1.5.0",
            "_model_name": "HBoxModel",
            "_view_count": null,
            "_view_module": "@jupyter-widgets/controls",
            "_view_module_version": "1.5.0",
            "_view_name": "HBoxView",
            "box_style": "",
            "children": [
              "IPY_MODEL_0e75f1d0d7e94926b30912ad7ed10898",
              "IPY_MODEL_852bf270a9fd40c2bb9fe8c4380c422e",
              "IPY_MODEL_b7b0c2e8536b4d77928154a1e2bb9814"
            ],
            "layout": "IPY_MODEL_55f638a4d15f4a659c0267bcefa49cf5"
          }
        },
        "0e75f1d0d7e94926b30912ad7ed10898": {
          "model_module": "@jupyter-widgets/controls",
          "model_name": "HTMLModel",
          "model_module_version": "1.5.0",
          "state": {
            "_dom_classes": [],
            "_model_module": "@jupyter-widgets/controls",
            "_model_module_version": "1.5.0",
            "_model_name": "HTMLModel",
            "_view_count": null,
            "_view_module": "@jupyter-widgets/controls",
            "_view_module_version": "1.5.0",
            "_view_name": "HTMLView",
            "description": "",
            "description_tooltip": null,
            "layout": "IPY_MODEL_11f40359651a442e8f647b7b2e4e4a04",
            "placeholder": "​",
            "style": "IPY_MODEL_f4cde6cc83174c4393e0f396bea1b891",
            "value": "Downloading: 100%"
          }
        },
        "852bf270a9fd40c2bb9fe8c4380c422e": {
          "model_module": "@jupyter-widgets/controls",
          "model_name": "FloatProgressModel",
          "model_module_version": "1.5.0",
          "state": {
            "_dom_classes": [],
            "_model_module": "@jupyter-widgets/controls",
            "_model_module_version": "1.5.0",
            "_model_name": "FloatProgressModel",
            "_view_count": null,
            "_view_module": "@jupyter-widgets/controls",
            "_view_module_version": "1.5.0",
            "_view_name": "ProgressView",
            "bar_style": "success",
            "description": "",
            "description_tooltip": null,
            "layout": "IPY_MODEL_9dbaac9e5933489c94ec68727b68aa90",
            "max": 267844284,
            "min": 0,
            "orientation": "horizontal",
            "style": "IPY_MODEL_8b07d098316041d5bfc439a0024f9ccc",
            "value": 267844284
          }
        },
        "b7b0c2e8536b4d77928154a1e2bb9814": {
          "model_module": "@jupyter-widgets/controls",
          "model_name": "HTMLModel",
          "model_module_version": "1.5.0",
          "state": {
            "_dom_classes": [],
            "_model_module": "@jupyter-widgets/controls",
            "_model_module_version": "1.5.0",
            "_model_name": "HTMLModel",
            "_view_count": null,
            "_view_module": "@jupyter-widgets/controls",
            "_view_module_version": "1.5.0",
            "_view_name": "HTMLView",
            "description": "",
            "description_tooltip": null,
            "layout": "IPY_MODEL_76e7a4532ab24e10baeff2987e1a0da2",
            "placeholder": "​",
            "style": "IPY_MODEL_cdbaf6ea93a94e37b322933c105aeebb",
            "value": " 255M/255M [00:05&lt;00:00, 45.4MB/s]"
          }
        },
        "55f638a4d15f4a659c0267bcefa49cf5": {
          "model_module": "@jupyter-widgets/base",
          "model_name": "LayoutModel",
          "model_module_version": "1.2.0",
          "state": {
            "_model_module": "@jupyter-widgets/base",
            "_model_module_version": "1.2.0",
            "_model_name": "LayoutModel",
            "_view_count": null,
            "_view_module": "@jupyter-widgets/base",
            "_view_module_version": "1.2.0",
            "_view_name": "LayoutView",
            "align_content": null,
            "align_items": null,
            "align_self": null,
            "border": null,
            "bottom": null,
            "display": null,
            "flex": null,
            "flex_flow": null,
            "grid_area": null,
            "grid_auto_columns": null,
            "grid_auto_flow": null,
            "grid_auto_rows": null,
            "grid_column": null,
            "grid_gap": null,
            "grid_row": null,
            "grid_template_areas": null,
            "grid_template_columns": null,
            "grid_template_rows": null,
            "height": null,
            "justify_content": null,
            "justify_items": null,
            "left": null,
            "margin": null,
            "max_height": null,
            "max_width": null,
            "min_height": null,
            "min_width": null,
            "object_fit": null,
            "object_position": null,
            "order": null,
            "overflow": null,
            "overflow_x": null,
            "overflow_y": null,
            "padding": null,
            "right": null,
            "top": null,
            "visibility": null,
            "width": null
          }
        },
        "11f40359651a442e8f647b7b2e4e4a04": {
          "model_module": "@jupyter-widgets/base",
          "model_name": "LayoutModel",
          "model_module_version": "1.2.0",
          "state": {
            "_model_module": "@jupyter-widgets/base",
            "_model_module_version": "1.2.0",
            "_model_name": "LayoutModel",
            "_view_count": null,
            "_view_module": "@jupyter-widgets/base",
            "_view_module_version": "1.2.0",
            "_view_name": "LayoutView",
            "align_content": null,
            "align_items": null,
            "align_self": null,
            "border": null,
            "bottom": null,
            "display": null,
            "flex": null,
            "flex_flow": null,
            "grid_area": null,
            "grid_auto_columns": null,
            "grid_auto_flow": null,
            "grid_auto_rows": null,
            "grid_column": null,
            "grid_gap": null,
            "grid_row": null,
            "grid_template_areas": null,
            "grid_template_columns": null,
            "grid_template_rows": null,
            "height": null,
            "justify_content": null,
            "justify_items": null,
            "left": null,
            "margin": null,
            "max_height": null,
            "max_width": null,
            "min_height": null,
            "min_width": null,
            "object_fit": null,
            "object_position": null,
            "order": null,
            "overflow": null,
            "overflow_x": null,
            "overflow_y": null,
            "padding": null,
            "right": null,
            "top": null,
            "visibility": null,
            "width": null
          }
        },
        "f4cde6cc83174c4393e0f396bea1b891": {
          "model_module": "@jupyter-widgets/controls",
          "model_name": "DescriptionStyleModel",
          "model_module_version": "1.5.0",
          "state": {
            "_model_module": "@jupyter-widgets/controls",
            "_model_module_version": "1.5.0",
            "_model_name": "DescriptionStyleModel",
            "_view_count": null,
            "_view_module": "@jupyter-widgets/base",
            "_view_module_version": "1.2.0",
            "_view_name": "StyleView",
            "description_width": ""
          }
        },
        "9dbaac9e5933489c94ec68727b68aa90": {
          "model_module": "@jupyter-widgets/base",
          "model_name": "LayoutModel",
          "model_module_version": "1.2.0",
          "state": {
            "_model_module": "@jupyter-widgets/base",
            "_model_module_version": "1.2.0",
            "_model_name": "LayoutModel",
            "_view_count": null,
            "_view_module": "@jupyter-widgets/base",
            "_view_module_version": "1.2.0",
            "_view_name": "LayoutView",
            "align_content": null,
            "align_items": null,
            "align_self": null,
            "border": null,
            "bottom": null,
            "display": null,
            "flex": null,
            "flex_flow": null,
            "grid_area": null,
            "grid_auto_columns": null,
            "grid_auto_flow": null,
            "grid_auto_rows": null,
            "grid_column": null,
            "grid_gap": null,
            "grid_row": null,
            "grid_template_areas": null,
            "grid_template_columns": null,
            "grid_template_rows": null,
            "height": null,
            "justify_content": null,
            "justify_items": null,
            "left": null,
            "margin": null,
            "max_height": null,
            "max_width": null,
            "min_height": null,
            "min_width": null,
            "object_fit": null,
            "object_position": null,
            "order": null,
            "overflow": null,
            "overflow_x": null,
            "overflow_y": null,
            "padding": null,
            "right": null,
            "top": null,
            "visibility": null,
            "width": null
          }
        },
        "8b07d098316041d5bfc439a0024f9ccc": {
          "model_module": "@jupyter-widgets/controls",
          "model_name": "ProgressStyleModel",
          "model_module_version": "1.5.0",
          "state": {
            "_model_module": "@jupyter-widgets/controls",
            "_model_module_version": "1.5.0",
            "_model_name": "ProgressStyleModel",
            "_view_count": null,
            "_view_module": "@jupyter-widgets/base",
            "_view_module_version": "1.2.0",
            "_view_name": "StyleView",
            "bar_color": null,
            "description_width": ""
          }
        },
        "76e7a4532ab24e10baeff2987e1a0da2": {
          "model_module": "@jupyter-widgets/base",
          "model_name": "LayoutModel",
          "model_module_version": "1.2.0",
          "state": {
            "_model_module": "@jupyter-widgets/base",
            "_model_module_version": "1.2.0",
            "_model_name": "LayoutModel",
            "_view_count": null,
            "_view_module": "@jupyter-widgets/base",
            "_view_module_version": "1.2.0",
            "_view_name": "LayoutView",
            "align_content": null,
            "align_items": null,
            "align_self": null,
            "border": null,
            "bottom": null,
            "display": null,
            "flex": null,
            "flex_flow": null,
            "grid_area": null,
            "grid_auto_columns": null,
            "grid_auto_flow": null,
            "grid_auto_rows": null,
            "grid_column": null,
            "grid_gap": null,
            "grid_row": null,
            "grid_template_areas": null,
            "grid_template_columns": null,
            "grid_template_rows": null,
            "height": null,
            "justify_content": null,
            "justify_items": null,
            "left": null,
            "margin": null,
            "max_height": null,
            "max_width": null,
            "min_height": null,
            "min_width": null,
            "object_fit": null,
            "object_position": null,
            "order": null,
            "overflow": null,
            "overflow_x": null,
            "overflow_y": null,
            "padding": null,
            "right": null,
            "top": null,
            "visibility": null,
            "width": null
          }
        },
        "cdbaf6ea93a94e37b322933c105aeebb": {
          "model_module": "@jupyter-widgets/controls",
          "model_name": "DescriptionStyleModel",
          "model_module_version": "1.5.0",
          "state": {
            "_model_module": "@jupyter-widgets/controls",
            "_model_module_version": "1.5.0",
            "_model_name": "DescriptionStyleModel",
            "_view_count": null,
            "_view_module": "@jupyter-widgets/base",
            "_view_module_version": "1.2.0",
            "_view_name": "StyleView",
            "description_width": ""
          }
        },
        "14a08d0c6a8b4f249a918c2b61a94a18": {
          "model_module": "@jupyter-widgets/controls",
          "model_name": "HBoxModel",
          "model_module_version": "1.5.0",
          "state": {
            "_dom_classes": [],
            "_model_module": "@jupyter-widgets/controls",
            "_model_module_version": "1.5.0",
            "_model_name": "HBoxModel",
            "_view_count": null,
            "_view_module": "@jupyter-widgets/controls",
            "_view_module_version": "1.5.0",
            "_view_name": "HBoxView",
            "box_style": "",
            "children": [
              "IPY_MODEL_6dfd2d251cde402b8753b3b07c3adf2a",
              "IPY_MODEL_a6fabb72593b4c56b0134f2e7033df4b",
              "IPY_MODEL_60deea7e5bc342c785cca2202758616e"
            ],
            "layout": "IPY_MODEL_f3beb1fadd824a49b2a2270c8255782c"
          }
        },
        "6dfd2d251cde402b8753b3b07c3adf2a": {
          "model_module": "@jupyter-widgets/controls",
          "model_name": "HTMLModel",
          "model_module_version": "1.5.0",
          "state": {
            "_dom_classes": [],
            "_model_module": "@jupyter-widgets/controls",
            "_model_module_version": "1.5.0",
            "_model_name": "HTMLModel",
            "_view_count": null,
            "_view_module": "@jupyter-widgets/controls",
            "_view_module_version": "1.5.0",
            "_view_name": "HTMLView",
            "description": "",
            "description_tooltip": null,
            "layout": "IPY_MODEL_6d6f4f60a2ed4c4e8e06fbb4433241c1",
            "placeholder": "​",
            "style": "IPY_MODEL_480a8660c45f49569d918422f8b27f0e",
            "value": "Downloading: 100%"
          }
        },
        "a6fabb72593b4c56b0134f2e7033df4b": {
          "model_module": "@jupyter-widgets/controls",
          "model_name": "FloatProgressModel",
          "model_module_version": "1.5.0",
          "state": {
            "_dom_classes": [],
            "_model_module": "@jupyter-widgets/controls",
            "_model_module_version": "1.5.0",
            "_model_name": "FloatProgressModel",
            "_view_count": null,
            "_view_module": "@jupyter-widgets/controls",
            "_view_module_version": "1.5.0",
            "_view_name": "ProgressView",
            "bar_style": "success",
            "description": "",
            "description_tooltip": null,
            "layout": "IPY_MODEL_a6713ea6ae044aa2af38606024fa58cc",
            "max": 48,
            "min": 0,
            "orientation": "horizontal",
            "style": "IPY_MODEL_779bd6ce2dba451e92fd8c40d6a5f9bd",
            "value": 48
          }
        },
        "60deea7e5bc342c785cca2202758616e": {
          "model_module": "@jupyter-widgets/controls",
          "model_name": "HTMLModel",
          "model_module_version": "1.5.0",
          "state": {
            "_dom_classes": [],
            "_model_module": "@jupyter-widgets/controls",
            "_model_module_version": "1.5.0",
            "_model_name": "HTMLModel",
            "_view_count": null,
            "_view_module": "@jupyter-widgets/controls",
            "_view_module_version": "1.5.0",
            "_view_name": "HTMLView",
            "description": "",
            "description_tooltip": null,
            "layout": "IPY_MODEL_426853d19e8e4bc19fcdc2c87517953e",
            "placeholder": "​",
            "style": "IPY_MODEL_067c676ba8b642a48f767ffff7a930d0",
            "value": " 48.0/48.0 [00:00&lt;00:00, 1.42kB/s]"
          }
        },
        "f3beb1fadd824a49b2a2270c8255782c": {
          "model_module": "@jupyter-widgets/base",
          "model_name": "LayoutModel",
          "model_module_version": "1.2.0",
          "state": {
            "_model_module": "@jupyter-widgets/base",
            "_model_module_version": "1.2.0",
            "_model_name": "LayoutModel",
            "_view_count": null,
            "_view_module": "@jupyter-widgets/base",
            "_view_module_version": "1.2.0",
            "_view_name": "LayoutView",
            "align_content": null,
            "align_items": null,
            "align_self": null,
            "border": null,
            "bottom": null,
            "display": null,
            "flex": null,
            "flex_flow": null,
            "grid_area": null,
            "grid_auto_columns": null,
            "grid_auto_flow": null,
            "grid_auto_rows": null,
            "grid_column": null,
            "grid_gap": null,
            "grid_row": null,
            "grid_template_areas": null,
            "grid_template_columns": null,
            "grid_template_rows": null,
            "height": null,
            "justify_content": null,
            "justify_items": null,
            "left": null,
            "margin": null,
            "max_height": null,
            "max_width": null,
            "min_height": null,
            "min_width": null,
            "object_fit": null,
            "object_position": null,
            "order": null,
            "overflow": null,
            "overflow_x": null,
            "overflow_y": null,
            "padding": null,
            "right": null,
            "top": null,
            "visibility": null,
            "width": null
          }
        },
        "6d6f4f60a2ed4c4e8e06fbb4433241c1": {
          "model_module": "@jupyter-widgets/base",
          "model_name": "LayoutModel",
          "model_module_version": "1.2.0",
          "state": {
            "_model_module": "@jupyter-widgets/base",
            "_model_module_version": "1.2.0",
            "_model_name": "LayoutModel",
            "_view_count": null,
            "_view_module": "@jupyter-widgets/base",
            "_view_module_version": "1.2.0",
            "_view_name": "LayoutView",
            "align_content": null,
            "align_items": null,
            "align_self": null,
            "border": null,
            "bottom": null,
            "display": null,
            "flex": null,
            "flex_flow": null,
            "grid_area": null,
            "grid_auto_columns": null,
            "grid_auto_flow": null,
            "grid_auto_rows": null,
            "grid_column": null,
            "grid_gap": null,
            "grid_row": null,
            "grid_template_areas": null,
            "grid_template_columns": null,
            "grid_template_rows": null,
            "height": null,
            "justify_content": null,
            "justify_items": null,
            "left": null,
            "margin": null,
            "max_height": null,
            "max_width": null,
            "min_height": null,
            "min_width": null,
            "object_fit": null,
            "object_position": null,
            "order": null,
            "overflow": null,
            "overflow_x": null,
            "overflow_y": null,
            "padding": null,
            "right": null,
            "top": null,
            "visibility": null,
            "width": null
          }
        },
        "480a8660c45f49569d918422f8b27f0e": {
          "model_module": "@jupyter-widgets/controls",
          "model_name": "DescriptionStyleModel",
          "model_module_version": "1.5.0",
          "state": {
            "_model_module": "@jupyter-widgets/controls",
            "_model_module_version": "1.5.0",
            "_model_name": "DescriptionStyleModel",
            "_view_count": null,
            "_view_module": "@jupyter-widgets/base",
            "_view_module_version": "1.2.0",
            "_view_name": "StyleView",
            "description_width": ""
          }
        },
        "a6713ea6ae044aa2af38606024fa58cc": {
          "model_module": "@jupyter-widgets/base",
          "model_name": "LayoutModel",
          "model_module_version": "1.2.0",
          "state": {
            "_model_module": "@jupyter-widgets/base",
            "_model_module_version": "1.2.0",
            "_model_name": "LayoutModel",
            "_view_count": null,
            "_view_module": "@jupyter-widgets/base",
            "_view_module_version": "1.2.0",
            "_view_name": "LayoutView",
            "align_content": null,
            "align_items": null,
            "align_self": null,
            "border": null,
            "bottom": null,
            "display": null,
            "flex": null,
            "flex_flow": null,
            "grid_area": null,
            "grid_auto_columns": null,
            "grid_auto_flow": null,
            "grid_auto_rows": null,
            "grid_column": null,
            "grid_gap": null,
            "grid_row": null,
            "grid_template_areas": null,
            "grid_template_columns": null,
            "grid_template_rows": null,
            "height": null,
            "justify_content": null,
            "justify_items": null,
            "left": null,
            "margin": null,
            "max_height": null,
            "max_width": null,
            "min_height": null,
            "min_width": null,
            "object_fit": null,
            "object_position": null,
            "order": null,
            "overflow": null,
            "overflow_x": null,
            "overflow_y": null,
            "padding": null,
            "right": null,
            "top": null,
            "visibility": null,
            "width": null
          }
        },
        "779bd6ce2dba451e92fd8c40d6a5f9bd": {
          "model_module": "@jupyter-widgets/controls",
          "model_name": "ProgressStyleModel",
          "model_module_version": "1.5.0",
          "state": {
            "_model_module": "@jupyter-widgets/controls",
            "_model_module_version": "1.5.0",
            "_model_name": "ProgressStyleModel",
            "_view_count": null,
            "_view_module": "@jupyter-widgets/base",
            "_view_module_version": "1.2.0",
            "_view_name": "StyleView",
            "bar_color": null,
            "description_width": ""
          }
        },
        "426853d19e8e4bc19fcdc2c87517953e": {
          "model_module": "@jupyter-widgets/base",
          "model_name": "LayoutModel",
          "model_module_version": "1.2.0",
          "state": {
            "_model_module": "@jupyter-widgets/base",
            "_model_module_version": "1.2.0",
            "_model_name": "LayoutModel",
            "_view_count": null,
            "_view_module": "@jupyter-widgets/base",
            "_view_module_version": "1.2.0",
            "_view_name": "LayoutView",
            "align_content": null,
            "align_items": null,
            "align_self": null,
            "border": null,
            "bottom": null,
            "display": null,
            "flex": null,
            "flex_flow": null,
            "grid_area": null,
            "grid_auto_columns": null,
            "grid_auto_flow": null,
            "grid_auto_rows": null,
            "grid_column": null,
            "grid_gap": null,
            "grid_row": null,
            "grid_template_areas": null,
            "grid_template_columns": null,
            "grid_template_rows": null,
            "height": null,
            "justify_content": null,
            "justify_items": null,
            "left": null,
            "margin": null,
            "max_height": null,
            "max_width": null,
            "min_height": null,
            "min_width": null,
            "object_fit": null,
            "object_position": null,
            "order": null,
            "overflow": null,
            "overflow_x": null,
            "overflow_y": null,
            "padding": null,
            "right": null,
            "top": null,
            "visibility": null,
            "width": null
          }
        },
        "067c676ba8b642a48f767ffff7a930d0": {
          "model_module": "@jupyter-widgets/controls",
          "model_name": "DescriptionStyleModel",
          "model_module_version": "1.5.0",
          "state": {
            "_model_module": "@jupyter-widgets/controls",
            "_model_module_version": "1.5.0",
            "_model_name": "DescriptionStyleModel",
            "_view_count": null,
            "_view_module": "@jupyter-widgets/base",
            "_view_module_version": "1.2.0",
            "_view_name": "StyleView",
            "description_width": ""
          }
        },
        "e141a1df6c85436088cd6a52863686cb": {
          "model_module": "@jupyter-widgets/controls",
          "model_name": "HBoxModel",
          "model_module_version": "1.5.0",
          "state": {
            "_dom_classes": [],
            "_model_module": "@jupyter-widgets/controls",
            "_model_module_version": "1.5.0",
            "_model_name": "HBoxModel",
            "_view_count": null,
            "_view_module": "@jupyter-widgets/controls",
            "_view_module_version": "1.5.0",
            "_view_name": "HBoxView",
            "box_style": "",
            "children": [
              "IPY_MODEL_25d1626d4ce44b428f079c046e222cf7",
              "IPY_MODEL_ba575729f207429f99f8b496ae4747e4",
              "IPY_MODEL_8977c2c5d484468a8c24d2c701dac6bb"
            ],
            "layout": "IPY_MODEL_a55f4983827446c58ca69cfee2cc7d84"
          }
        },
        "25d1626d4ce44b428f079c046e222cf7": {
          "model_module": "@jupyter-widgets/controls",
          "model_name": "HTMLModel",
          "model_module_version": "1.5.0",
          "state": {
            "_dom_classes": [],
            "_model_module": "@jupyter-widgets/controls",
            "_model_module_version": "1.5.0",
            "_model_name": "HTMLModel",
            "_view_count": null,
            "_view_module": "@jupyter-widgets/controls",
            "_view_module_version": "1.5.0",
            "_view_name": "HTMLView",
            "description": "",
            "description_tooltip": null,
            "layout": "IPY_MODEL_f3fe163829a84e829cab06b11acd15d3",
            "placeholder": "​",
            "style": "IPY_MODEL_32ff0239cfc24da18fd4d3766357e17a",
            "value": "Downloading: 100%"
          }
        },
        "ba575729f207429f99f8b496ae4747e4": {
          "model_module": "@jupyter-widgets/controls",
          "model_name": "FloatProgressModel",
          "model_module_version": "1.5.0",
          "state": {
            "_dom_classes": [],
            "_model_module": "@jupyter-widgets/controls",
            "_model_module_version": "1.5.0",
            "_model_name": "FloatProgressModel",
            "_view_count": null,
            "_view_module": "@jupyter-widgets/controls",
            "_view_module_version": "1.5.0",
            "_view_name": "ProgressView",
            "bar_style": "success",
            "description": "",
            "description_tooltip": null,
            "layout": "IPY_MODEL_7cdee4c5e71b4d20bf9d8f9547655092",
            "max": 231508,
            "min": 0,
            "orientation": "horizontal",
            "style": "IPY_MODEL_192442c051584768be0ba2978fa841c2",
            "value": 231508
          }
        },
        "8977c2c5d484468a8c24d2c701dac6bb": {
          "model_module": "@jupyter-widgets/controls",
          "model_name": "HTMLModel",
          "model_module_version": "1.5.0",
          "state": {
            "_dom_classes": [],
            "_model_module": "@jupyter-widgets/controls",
            "_model_module_version": "1.5.0",
            "_model_name": "HTMLModel",
            "_view_count": null,
            "_view_module": "@jupyter-widgets/controls",
            "_view_module_version": "1.5.0",
            "_view_name": "HTMLView",
            "description": "",
            "description_tooltip": null,
            "layout": "IPY_MODEL_57e913051c5b411187591221af47b03b",
            "placeholder": "​",
            "style": "IPY_MODEL_9c5144157ebe4b4eb42a218a184c30e2",
            "value": " 226k/226k [00:00&lt;00:00, 1.90MB/s]"
          }
        },
        "a55f4983827446c58ca69cfee2cc7d84": {
          "model_module": "@jupyter-widgets/base",
          "model_name": "LayoutModel",
          "model_module_version": "1.2.0",
          "state": {
            "_model_module": "@jupyter-widgets/base",
            "_model_module_version": "1.2.0",
            "_model_name": "LayoutModel",
            "_view_count": null,
            "_view_module": "@jupyter-widgets/base",
            "_view_module_version": "1.2.0",
            "_view_name": "LayoutView",
            "align_content": null,
            "align_items": null,
            "align_self": null,
            "border": null,
            "bottom": null,
            "display": null,
            "flex": null,
            "flex_flow": null,
            "grid_area": null,
            "grid_auto_columns": null,
            "grid_auto_flow": null,
            "grid_auto_rows": null,
            "grid_column": null,
            "grid_gap": null,
            "grid_row": null,
            "grid_template_areas": null,
            "grid_template_columns": null,
            "grid_template_rows": null,
            "height": null,
            "justify_content": null,
            "justify_items": null,
            "left": null,
            "margin": null,
            "max_height": null,
            "max_width": null,
            "min_height": null,
            "min_width": null,
            "object_fit": null,
            "object_position": null,
            "order": null,
            "overflow": null,
            "overflow_x": null,
            "overflow_y": null,
            "padding": null,
            "right": null,
            "top": null,
            "visibility": null,
            "width": null
          }
        },
        "f3fe163829a84e829cab06b11acd15d3": {
          "model_module": "@jupyter-widgets/base",
          "model_name": "LayoutModel",
          "model_module_version": "1.2.0",
          "state": {
            "_model_module": "@jupyter-widgets/base",
            "_model_module_version": "1.2.0",
            "_model_name": "LayoutModel",
            "_view_count": null,
            "_view_module": "@jupyter-widgets/base",
            "_view_module_version": "1.2.0",
            "_view_name": "LayoutView",
            "align_content": null,
            "align_items": null,
            "align_self": null,
            "border": null,
            "bottom": null,
            "display": null,
            "flex": null,
            "flex_flow": null,
            "grid_area": null,
            "grid_auto_columns": null,
            "grid_auto_flow": null,
            "grid_auto_rows": null,
            "grid_column": null,
            "grid_gap": null,
            "grid_row": null,
            "grid_template_areas": null,
            "grid_template_columns": null,
            "grid_template_rows": null,
            "height": null,
            "justify_content": null,
            "justify_items": null,
            "left": null,
            "margin": null,
            "max_height": null,
            "max_width": null,
            "min_height": null,
            "min_width": null,
            "object_fit": null,
            "object_position": null,
            "order": null,
            "overflow": null,
            "overflow_x": null,
            "overflow_y": null,
            "padding": null,
            "right": null,
            "top": null,
            "visibility": null,
            "width": null
          }
        },
        "32ff0239cfc24da18fd4d3766357e17a": {
          "model_module": "@jupyter-widgets/controls",
          "model_name": "DescriptionStyleModel",
          "model_module_version": "1.5.0",
          "state": {
            "_model_module": "@jupyter-widgets/controls",
            "_model_module_version": "1.5.0",
            "_model_name": "DescriptionStyleModel",
            "_view_count": null,
            "_view_module": "@jupyter-widgets/base",
            "_view_module_version": "1.2.0",
            "_view_name": "StyleView",
            "description_width": ""
          }
        },
        "7cdee4c5e71b4d20bf9d8f9547655092": {
          "model_module": "@jupyter-widgets/base",
          "model_name": "LayoutModel",
          "model_module_version": "1.2.0",
          "state": {
            "_model_module": "@jupyter-widgets/base",
            "_model_module_version": "1.2.0",
            "_model_name": "LayoutModel",
            "_view_count": null,
            "_view_module": "@jupyter-widgets/base",
            "_view_module_version": "1.2.0",
            "_view_name": "LayoutView",
            "align_content": null,
            "align_items": null,
            "align_self": null,
            "border": null,
            "bottom": null,
            "display": null,
            "flex": null,
            "flex_flow": null,
            "grid_area": null,
            "grid_auto_columns": null,
            "grid_auto_flow": null,
            "grid_auto_rows": null,
            "grid_column": null,
            "grid_gap": null,
            "grid_row": null,
            "grid_template_areas": null,
            "grid_template_columns": null,
            "grid_template_rows": null,
            "height": null,
            "justify_content": null,
            "justify_items": null,
            "left": null,
            "margin": null,
            "max_height": null,
            "max_width": null,
            "min_height": null,
            "min_width": null,
            "object_fit": null,
            "object_position": null,
            "order": null,
            "overflow": null,
            "overflow_x": null,
            "overflow_y": null,
            "padding": null,
            "right": null,
            "top": null,
            "visibility": null,
            "width": null
          }
        },
        "192442c051584768be0ba2978fa841c2": {
          "model_module": "@jupyter-widgets/controls",
          "model_name": "ProgressStyleModel",
          "model_module_version": "1.5.0",
          "state": {
            "_model_module": "@jupyter-widgets/controls",
            "_model_module_version": "1.5.0",
            "_model_name": "ProgressStyleModel",
            "_view_count": null,
            "_view_module": "@jupyter-widgets/base",
            "_view_module_version": "1.2.0",
            "_view_name": "StyleView",
            "bar_color": null,
            "description_width": ""
          }
        },
        "57e913051c5b411187591221af47b03b": {
          "model_module": "@jupyter-widgets/base",
          "model_name": "LayoutModel",
          "model_module_version": "1.2.0",
          "state": {
            "_model_module": "@jupyter-widgets/base",
            "_model_module_version": "1.2.0",
            "_model_name": "LayoutModel",
            "_view_count": null,
            "_view_module": "@jupyter-widgets/base",
            "_view_module_version": "1.2.0",
            "_view_name": "LayoutView",
            "align_content": null,
            "align_items": null,
            "align_self": null,
            "border": null,
            "bottom": null,
            "display": null,
            "flex": null,
            "flex_flow": null,
            "grid_area": null,
            "grid_auto_columns": null,
            "grid_auto_flow": null,
            "grid_auto_rows": null,
            "grid_column": null,
            "grid_gap": null,
            "grid_row": null,
            "grid_template_areas": null,
            "grid_template_columns": null,
            "grid_template_rows": null,
            "height": null,
            "justify_content": null,
            "justify_items": null,
            "left": null,
            "margin": null,
            "max_height": null,
            "max_width": null,
            "min_height": null,
            "min_width": null,
            "object_fit": null,
            "object_position": null,
            "order": null,
            "overflow": null,
            "overflow_x": null,
            "overflow_y": null,
            "padding": null,
            "right": null,
            "top": null,
            "visibility": null,
            "width": null
          }
        },
        "9c5144157ebe4b4eb42a218a184c30e2": {
          "model_module": "@jupyter-widgets/controls",
          "model_name": "DescriptionStyleModel",
          "model_module_version": "1.5.0",
          "state": {
            "_model_module": "@jupyter-widgets/controls",
            "_model_module_version": "1.5.0",
            "_model_name": "DescriptionStyleModel",
            "_view_count": null,
            "_view_module": "@jupyter-widgets/base",
            "_view_module_version": "1.2.0",
            "_view_name": "StyleView",
            "description_width": ""
          }
        },
        "ebee57abdc9f4785b6957e0714baf809": {
          "model_module": "@jupyter-widgets/controls",
          "model_name": "HBoxModel",
          "model_module_version": "1.5.0",
          "state": {
            "_dom_classes": [],
            "_model_module": "@jupyter-widgets/controls",
            "_model_module_version": "1.5.0",
            "_model_name": "HBoxModel",
            "_view_count": null,
            "_view_module": "@jupyter-widgets/controls",
            "_view_module_version": "1.5.0",
            "_view_name": "HBoxView",
            "box_style": "",
            "children": [
              "IPY_MODEL_9f34dba1558c4bdc91b72d468a607b3a",
              "IPY_MODEL_aa8c2c5fd5f344bb95e034db0101607f",
              "IPY_MODEL_6d528dab49d74db0b26be113c4738bef"
            ],
            "layout": "IPY_MODEL_9f20de93d45149bdb71e50bafc1d4a81"
          }
        },
        "9f34dba1558c4bdc91b72d468a607b3a": {
          "model_module": "@jupyter-widgets/controls",
          "model_name": "HTMLModel",
          "model_module_version": "1.5.0",
          "state": {
            "_dom_classes": [],
            "_model_module": "@jupyter-widgets/controls",
            "_model_module_version": "1.5.0",
            "_model_name": "HTMLModel",
            "_view_count": null,
            "_view_module": "@jupyter-widgets/controls",
            "_view_module_version": "1.5.0",
            "_view_name": "HTMLView",
            "description": "",
            "description_tooltip": null,
            "layout": "IPY_MODEL_00650aee64bd447c878cb641dde458bd",
            "placeholder": "​",
            "style": "IPY_MODEL_92f3bd94e33245f0846c5ff87ca7ca36",
            "value": "100%"
          }
        },
        "aa8c2c5fd5f344bb95e034db0101607f": {
          "model_module": "@jupyter-widgets/controls",
          "model_name": "FloatProgressModel",
          "model_module_version": "1.5.0",
          "state": {
            "_dom_classes": [],
            "_model_module": "@jupyter-widgets/controls",
            "_model_module_version": "1.5.0",
            "_model_name": "FloatProgressModel",
            "_view_count": null,
            "_view_module": "@jupyter-widgets/controls",
            "_view_module_version": "1.5.0",
            "_view_name": "ProgressView",
            "bar_style": "success",
            "description": "",
            "description_tooltip": null,
            "layout": "IPY_MODEL_66f7e5768c424774ba479f8228438326",
            "max": 80,
            "min": 0,
            "orientation": "horizontal",
            "style": "IPY_MODEL_2ce2f321b5b34ee7a098782e03133d1f",
            "value": 80
          }
        },
        "6d528dab49d74db0b26be113c4738bef": {
          "model_module": "@jupyter-widgets/controls",
          "model_name": "HTMLModel",
          "model_module_version": "1.5.0",
          "state": {
            "_dom_classes": [],
            "_model_module": "@jupyter-widgets/controls",
            "_model_module_version": "1.5.0",
            "_model_name": "HTMLModel",
            "_view_count": null,
            "_view_module": "@jupyter-widgets/controls",
            "_view_module_version": "1.5.0",
            "_view_name": "HTMLView",
            "description": "",
            "description_tooltip": null,
            "layout": "IPY_MODEL_a53267440b3445579da52f652535a752",
            "placeholder": "​",
            "style": "IPY_MODEL_bb559dfd1a814b63b6fe603d30416130",
            "value": " 80/80 [00:00&lt;00:00, 152.46it/s]"
          }
        },
        "9f20de93d45149bdb71e50bafc1d4a81": {
          "model_module": "@jupyter-widgets/base",
          "model_name": "LayoutModel",
          "model_module_version": "1.2.0",
          "state": {
            "_model_module": "@jupyter-widgets/base",
            "_model_module_version": "1.2.0",
            "_model_name": "LayoutModel",
            "_view_count": null,
            "_view_module": "@jupyter-widgets/base",
            "_view_module_version": "1.2.0",
            "_view_name": "LayoutView",
            "align_content": null,
            "align_items": null,
            "align_self": null,
            "border": null,
            "bottom": null,
            "display": null,
            "flex": null,
            "flex_flow": null,
            "grid_area": null,
            "grid_auto_columns": null,
            "grid_auto_flow": null,
            "grid_auto_rows": null,
            "grid_column": null,
            "grid_gap": null,
            "grid_row": null,
            "grid_template_areas": null,
            "grid_template_columns": null,
            "grid_template_rows": null,
            "height": null,
            "justify_content": null,
            "justify_items": null,
            "left": null,
            "margin": null,
            "max_height": null,
            "max_width": null,
            "min_height": null,
            "min_width": null,
            "object_fit": null,
            "object_position": null,
            "order": null,
            "overflow": null,
            "overflow_x": null,
            "overflow_y": null,
            "padding": null,
            "right": null,
            "top": null,
            "visibility": null,
            "width": null
          }
        },
        "00650aee64bd447c878cb641dde458bd": {
          "model_module": "@jupyter-widgets/base",
          "model_name": "LayoutModel",
          "model_module_version": "1.2.0",
          "state": {
            "_model_module": "@jupyter-widgets/base",
            "_model_module_version": "1.2.0",
            "_model_name": "LayoutModel",
            "_view_count": null,
            "_view_module": "@jupyter-widgets/base",
            "_view_module_version": "1.2.0",
            "_view_name": "LayoutView",
            "align_content": null,
            "align_items": null,
            "align_self": null,
            "border": null,
            "bottom": null,
            "display": null,
            "flex": null,
            "flex_flow": null,
            "grid_area": null,
            "grid_auto_columns": null,
            "grid_auto_flow": null,
            "grid_auto_rows": null,
            "grid_column": null,
            "grid_gap": null,
            "grid_row": null,
            "grid_template_areas": null,
            "grid_template_columns": null,
            "grid_template_rows": null,
            "height": null,
            "justify_content": null,
            "justify_items": null,
            "left": null,
            "margin": null,
            "max_height": null,
            "max_width": null,
            "min_height": null,
            "min_width": null,
            "object_fit": null,
            "object_position": null,
            "order": null,
            "overflow": null,
            "overflow_x": null,
            "overflow_y": null,
            "padding": null,
            "right": null,
            "top": null,
            "visibility": null,
            "width": null
          }
        },
        "92f3bd94e33245f0846c5ff87ca7ca36": {
          "model_module": "@jupyter-widgets/controls",
          "model_name": "DescriptionStyleModel",
          "model_module_version": "1.5.0",
          "state": {
            "_model_module": "@jupyter-widgets/controls",
            "_model_module_version": "1.5.0",
            "_model_name": "DescriptionStyleModel",
            "_view_count": null,
            "_view_module": "@jupyter-widgets/base",
            "_view_module_version": "1.2.0",
            "_view_name": "StyleView",
            "description_width": ""
          }
        },
        "66f7e5768c424774ba479f8228438326": {
          "model_module": "@jupyter-widgets/base",
          "model_name": "LayoutModel",
          "model_module_version": "1.2.0",
          "state": {
            "_model_module": "@jupyter-widgets/base",
            "_model_module_version": "1.2.0",
            "_model_name": "LayoutModel",
            "_view_count": null,
            "_view_module": "@jupyter-widgets/base",
            "_view_module_version": "1.2.0",
            "_view_name": "LayoutView",
            "align_content": null,
            "align_items": null,
            "align_self": null,
            "border": null,
            "bottom": null,
            "display": null,
            "flex": null,
            "flex_flow": null,
            "grid_area": null,
            "grid_auto_columns": null,
            "grid_auto_flow": null,
            "grid_auto_rows": null,
            "grid_column": null,
            "grid_gap": null,
            "grid_row": null,
            "grid_template_areas": null,
            "grid_template_columns": null,
            "grid_template_rows": null,
            "height": null,
            "justify_content": null,
            "justify_items": null,
            "left": null,
            "margin": null,
            "max_height": null,
            "max_width": null,
            "min_height": null,
            "min_width": null,
            "object_fit": null,
            "object_position": null,
            "order": null,
            "overflow": null,
            "overflow_x": null,
            "overflow_y": null,
            "padding": null,
            "right": null,
            "top": null,
            "visibility": null,
            "width": null
          }
        },
        "2ce2f321b5b34ee7a098782e03133d1f": {
          "model_module": "@jupyter-widgets/controls",
          "model_name": "ProgressStyleModel",
          "model_module_version": "1.5.0",
          "state": {
            "_model_module": "@jupyter-widgets/controls",
            "_model_module_version": "1.5.0",
            "_model_name": "ProgressStyleModel",
            "_view_count": null,
            "_view_module": "@jupyter-widgets/base",
            "_view_module_version": "1.2.0",
            "_view_name": "StyleView",
            "bar_color": null,
            "description_width": ""
          }
        },
        "a53267440b3445579da52f652535a752": {
          "model_module": "@jupyter-widgets/base",
          "model_name": "LayoutModel",
          "model_module_version": "1.2.0",
          "state": {
            "_model_module": "@jupyter-widgets/base",
            "_model_module_version": "1.2.0",
            "_model_name": "LayoutModel",
            "_view_count": null,
            "_view_module": "@jupyter-widgets/base",
            "_view_module_version": "1.2.0",
            "_view_name": "LayoutView",
            "align_content": null,
            "align_items": null,
            "align_self": null,
            "border": null,
            "bottom": null,
            "display": null,
            "flex": null,
            "flex_flow": null,
            "grid_area": null,
            "grid_auto_columns": null,
            "grid_auto_flow": null,
            "grid_auto_rows": null,
            "grid_column": null,
            "grid_gap": null,
            "grid_row": null,
            "grid_template_areas": null,
            "grid_template_columns": null,
            "grid_template_rows": null,
            "height": null,
            "justify_content": null,
            "justify_items": null,
            "left": null,
            "margin": null,
            "max_height": null,
            "max_width": null,
            "min_height": null,
            "min_width": null,
            "object_fit": null,
            "object_position": null,
            "order": null,
            "overflow": null,
            "overflow_x": null,
            "overflow_y": null,
            "padding": null,
            "right": null,
            "top": null,
            "visibility": null,
            "width": null
          }
        },
        "bb559dfd1a814b63b6fe603d30416130": {
          "model_module": "@jupyter-widgets/controls",
          "model_name": "DescriptionStyleModel",
          "model_module_version": "1.5.0",
          "state": {
            "_model_module": "@jupyter-widgets/controls",
            "_model_module_version": "1.5.0",
            "_model_name": "DescriptionStyleModel",
            "_view_count": null,
            "_view_module": "@jupyter-widgets/base",
            "_view_module_version": "1.2.0",
            "_view_name": "StyleView",
            "description_width": ""
          }
        }
      }
    }
  },
  "cells": [
    {
      "cell_type": "markdown",
      "source": [
        "# Sentiment Analysis"
      ],
      "metadata": {
        "id": "8kIvX11f7RU1"
      }
    },
    {
      "cell_type": "markdown",
      "source": [
        "In this file, using two different algorithms (from nltk and from a hugging face pipeline), we produce new features based on sentiment analysis."
      ],
      "metadata": {
        "id": "fkoG5Fq8ImV3"
      }
    },
    {
      "cell_type": "markdown",
      "source": [
        "## Imports"
      ],
      "metadata": {
        "id": "DAUdNpQQAIP5"
      }
    },
    {
      "cell_type": "code",
      "source": [
        "from google.colab import drive\n",
        "drive.mount('/content/drive/')"
      ],
      "metadata": {
        "colab": {
          "base_uri": "https://localhost:8080/"
        },
        "id": "9FDFg-8P-G2a",
        "outputId": "d49ba582-3ba0-4741-8f37-e91bd95cda58"
      },
      "execution_count": 1,
      "outputs": [
        {
          "output_type": "stream",
          "name": "stdout",
          "text": [
            "Mounted at /content/drive/\n"
          ]
        }
      ]
    },
    {
      "cell_type": "code",
      "source": [
        "import pandas as pd\n",
        "df = pd.read_csv(\"drive/MyDrive/Final Project/story_data_new_feats.csv\")"
      ],
      "metadata": {
        "id": "TtYZEzOi-EB8"
      },
      "execution_count": 2,
      "outputs": []
    },
    {
      "cell_type": "code",
      "source": [
        "from tqdm.auto import tqdm\n",
        "tqdm.pandas()"
      ],
      "metadata": {
        "id": "rP1VawpK_-SX"
      },
      "execution_count": 3,
      "outputs": []
    },
    {
      "cell_type": "code",
      "source": [
        "target = 'num_likes'"
      ],
      "metadata": {
        "id": "tVqk7TBCD7zz"
      },
      "execution_count": 4,
      "outputs": []
    },
    {
      "cell_type": "markdown",
      "source": [
        "## Simple approach"
      ],
      "metadata": {
        "id": "9EUlZNiq7Vul"
      }
    },
    {
      "cell_type": "code",
      "source": [
        "# df['text_str'][0].split('\\n')"
      ],
      "metadata": {
        "id": "yzID2zlDLIhg"
      },
      "execution_count": null,
      "outputs": []
    },
    {
      "cell_type": "markdown",
      "source": [
        "The sentiment analysis below is the simplest version. We take the tokens that appear in the text and we apply sentiment analysis.\n",
        "\n"
      ],
      "metadata": {
        "id": "TCbCYx8tzDSA"
      }
    },
    {
      "cell_type": "code",
      "source": [
        "# # If we want to get rid of \\n and the remaining html code\n",
        "# def join_into_str(row):\n",
        "#   row['words_in_str'] = ''.join(row['story_word_toks'])\n",
        "#   row['words_in_str'] = ' '.join(eval(row['words_in_str']))\n",
        "#   return row\n",
        "\n",
        "# df = df.progress_apply(join_into_str, axis=1)"
      ],
      "metadata": {
        "id": "9gmpxkprzGjZ"
      },
      "execution_count": null,
      "outputs": []
    },
    {
      "cell_type": "markdown",
      "source": [
        "### We use nltk pretrained model\n",
        "Info on the vader lexicon: https://www.kaggle.com/datasets/nltkdata/vader-lexicon\n",
        "\n",
        "The model returns a score between -1 and 1, -1 being negative, 1 positive and 0 neutral."
      ],
      "metadata": {
        "id": "PaDTS0w38VWK"
      }
    },
    {
      "cell_type": "markdown",
      "source": [
        "####Apply model"
      ],
      "metadata": {
        "id": "emavQBJKAuIk"
      }
    },
    {
      "cell_type": "code",
      "execution_count": null,
      "metadata": {
        "colab": {
          "base_uri": "https://localhost:8080/"
        },
        "id": "XiWq5ht2y_dq",
        "outputId": "c9b35033-9575-442a-970d-c816649b8cad"
      },
      "outputs": [
        {
          "output_type": "stream",
          "name": "stderr",
          "text": [
            "[nltk_data] Downloading package vader_lexicon to /root/nltk_data...\n"
          ]
        }
      ],
      "source": [
        "if 'sentiment_nltk_text' not in df.columns:\n",
        "\n",
        "  import nltk\n",
        "  from textblob import TextBlob\n",
        "  from nltk.sentiment import SentimentIntensityAnalyzer\n",
        "  nltk.download('vader_lexicon')\n",
        "  sia = SentimentIntensityAnalyzer()"
      ]
    },
    {
      "cell_type": "code",
      "source": [
        "def get_sent(row):\n",
        "  try:\n",
        "    row['sentiment_nltk_text'] = TextBlob(row['text_str']).sentiment.polarity\n",
        "    return row\n",
        "  except:\n",
        "    print('error')\n",
        "\n",
        "if 'sentiment_nltk_text' not in df.columns:\n",
        "  df = df.progress_apply(get_sent, axis=1)\n",
        "  df[['sentiment_nltk_text']].to_csv('drive/MyDrive/Final Project/sentiment_features/sentiment_nltk_text.csv', index=False)"
      ],
      "metadata": {
        "colab": {
          "base_uri": "https://localhost:8080/",
          "referenced_widgets": [
            "653f8a874caa4a849c38ee6735e8ed15",
            "b16de4d7119c48008a0d33ff26634097",
            "2b27df76bbfd457095136169abff9e22",
            "7d74ce7cd691431eb3c3381a1289970f",
            "1530497876b14079a70d4838dc6f547d",
            "ad9599c682384c8a9e9a563a75fcb496",
            "63fa7bb46bfa491f8d5cfe11c304a515",
            "82a8b991664541d59065f3198acdbf67",
            "f96f16fb544644d290365f134bab4886",
            "b3408bfeb581425d91892d40568dbb17",
            "3081999d5302423798486e9033a77336"
          ]
        },
        "id": "uD_n3NffzHzV",
        "outputId": "65cae5e3-d5e3-4784-dd46-644a84c81731"
      },
      "execution_count": null,
      "outputs": [
        {
          "output_type": "display_data",
          "data": {
            "text/plain": [
              "  0%|          | 0/18248 [00:00<?, ?it/s]"
            ],
            "application/vnd.jupyter.widget-view+json": {
              "version_major": 2,
              "version_minor": 0,
              "model_id": "653f8a874caa4a849c38ee6735e8ed15"
            }
          },
          "metadata": {}
        }
      ]
    },
    {
      "cell_type": "markdown",
      "source": [
        "####Light EDA"
      ],
      "metadata": {
        "id": "R8N2doLCAsCu"
      }
    },
    {
      "cell_type": "code",
      "source": [
        "import matplotlib.pyplot as plt"
      ],
      "metadata": {
        "id": "rj-7A792A3Ti"
      },
      "execution_count": null,
      "outputs": []
    },
    {
      "cell_type": "code",
      "source": [
        "df['sentiment_nltk_text'].hist()\n",
        "plt.title('Distribution of sentiment_nltk_text')"
      ],
      "metadata": {
        "colab": {
          "base_uri": "https://localhost:8080/"
        },
        "id": "lNSH_d5xzJH8",
        "outputId": "aa57dc40-b0be-4f06-8428-fde6f592b174"
      },
      "execution_count": null,
      "outputs": [
        {
          "output_type": "execute_result",
          "data": {
            "text/plain": [
              "Text(0.5, 1.0, 'Distribution of sentiment_nltk_text')"
            ]
          },
          "metadata": {},
          "execution_count": 10
        },
        {
          "output_type": "display_data",
          "data": {
            "text/plain": [
              "<Figure size 432x288 with 1 Axes>"
            ],
            "image/png": "[encoded data removed]"
          },
          "metadata": {
            "needs_background": "light"
          }
        }
      ]
    },
    {
      "cell_type": "code",
      "source": [
        "cor_ = df['sentiment_nltk_text'].corr(df['num_likes'])"
      ],
      "metadata": {
        "id": "PkLCQKMKGRR6"
      },
      "execution_count": null,
      "outputs": []
    },
    {
      "cell_type": "code",
      "source": [
        "plt.figure(figsize=(7,7))\n",
        "plt.scatter(df['sentiment_nltk_text'], df['num_likes'])\n",
        "plt.title(f'sentiment_nltk_text vs. num_likes, coef = {cor_:.2f}')"
      ],
      "metadata": {
        "colab": {
          "base_uri": "https://localhost:8080/"
        },
        "id": "Yowb9Q6BzKm_",
        "outputId": "06e0806c-01aa-482d-db37-213e125defe0"
      },
      "execution_count": null,
      "outputs": [
        {
          "output_type": "execute_result",
          "data": {
            "text/plain": [
              "Text(0.5, 1.0, 'sentiment_nltk_text vs. num_likes, coef = -0.02')"
            ]
          },
          "metadata": {},
          "execution_count": 12
        },
        {
          "output_type": "display_data",
          "data": {
            "text/plain": [
              "<Figure size 504x504 with 1 Axes>"
            ],
            "image/png": "[encoded data removed]"
          },
          "metadata": {
            "needs_background": "light"
          }
        }
      ]
    },
    {
      "cell_type": "markdown",
      "source": [
        "It looks like a non linear correlation. Interesting!"
      ],
      "metadata": {
        "id": "Qll34PAeORog"
      }
    },
    {
      "cell_type": "code",
      "source": [
        "polarity_avg = df.groupby('num_likes')['sentiment_nltk_text'].mean().plot(kind='bar', figsize=(15,15))\n",
        "plt.xlabel('num_likes')\n",
        "plt.ylabel('Average sentiment_nltk_text')\n",
        "plt.xticks()\n",
        "plt.yticks()\n",
        "plt.title('Average sentiment_nltk_text per num_likes ')\n",
        "plt.show()\n"
      ],
      "metadata": {
        "colab": {
          "base_uri": "https://localhost:8080/"
        },
        "id": "VN3se9gwzNl4",
        "outputId": "be677e10-f3bb-4d56-9a13-16afc8377d83"
      },
      "execution_count": null,
      "outputs": [
        {
          "output_type": "display_data",
          "data": {
            "text/plain": [
              "<Figure size 1080x1080 with 1 Axes>"
            ],
            "image/png": "[encoded data removed]"
          },
          "metadata": {
            "needs_background": "light"
          }
        }
      ]
    },
    {
      "cell_type": "markdown",
      "source": [
        "###Using hugging face pre trained model"
      ],
      "metadata": {
        "id": "ZJmhvO818GNr"
      }
    },
    {
      "cell_type": "code",
      "source": [
        "! pip install -q transformers\n",
        "from transformers import pipeline\n",
        "sentiment_pipeline = pipeline(\"sentiment-analysis\")\n",
        "sentiment_pipeline(['The world is kind of... you know... not so great'])"
      ],
      "metadata": {
        "colab": {
          "base_uri": "https://localhost:8080/",
          "height": 272,
          "referenced_widgets": [
            "b7b2823f24194195a8dde874b9a89c09",
            "02db3ef5051d4e3bb250b46b212dc881",
            "7aae995fde7c481da1bd5c3bd6fe6849",
            "fee8df801e2941fe8579dd9ae489ea90",
            "a983ebf9f9f844dab8556c7ec6698f82",
            "c7f4a001d58c4050b9067e13d5c6ecd9",
            "695d31f8f0fe46c289f425aeac578512",
            "0458b29e4cc74c92be4bdb1d35249fd2",
            "bebe0954f18e4f439ab5332ce4514ad9",
            "b681750b657743f6951a49950c8e87f4",
            "157b4dffce544dd9a48994bc1ccfa7aa",
            "4b197c34ee6d4415a250085bb412bba3",
            "0e75f1d0d7e94926b30912ad7ed10898",
            "852bf270a9fd40c2bb9fe8c4380c422e",
            "b7b0c2e8536b4d77928154a1e2bb9814",
            "55f638a4d15f4a659c0267bcefa49cf5",
            "11f40359651a442e8f647b7b2e4e4a04",
            "f4cde6cc83174c4393e0f396bea1b891",
            "9dbaac9e5933489c94ec68727b68aa90",
            "8b07d098316041d5bfc439a0024f9ccc",
            "76e7a4532ab24e10baeff2987e1a0da2",
            "cdbaf6ea93a94e37b322933c105aeebb",
            "14a08d0c6a8b4f249a918c2b61a94a18",
            "6dfd2d251cde402b8753b3b07c3adf2a",
            "a6fabb72593b4c56b0134f2e7033df4b",
            "60deea7e5bc342c785cca2202758616e",
            "f3beb1fadd824a49b2a2270c8255782c",
            "6d6f4f60a2ed4c4e8e06fbb4433241c1",
            "480a8660c45f49569d918422f8b27f0e",
            "a6713ea6ae044aa2af38606024fa58cc",
            "779bd6ce2dba451e92fd8c40d6a5f9bd",
            "426853d19e8e4bc19fcdc2c87517953e",
            "067c676ba8b642a48f767ffff7a930d0",
            "e141a1df6c85436088cd6a52863686cb",
            "25d1626d4ce44b428f079c046e222cf7",
            "ba575729f207429f99f8b496ae4747e4",
            "8977c2c5d484468a8c24d2c701dac6bb",
            "a55f4983827446c58ca69cfee2cc7d84",
            "f3fe163829a84e829cab06b11acd15d3",
            "32ff0239cfc24da18fd4d3766357e17a",
            "7cdee4c5e71b4d20bf9d8f9547655092",
            "192442c051584768be0ba2978fa841c2",
            "57e913051c5b411187591221af47b03b",
            "9c5144157ebe4b4eb42a218a184c30e2"
          ]
        },
        "id": "tKkZC53J8Ijr",
        "outputId": "8c3f9d2b-c41a-4be3-c557-d049d150b13d"
      },
      "execution_count": 5,
      "outputs": [
        {
          "output_type": "stream",
          "name": "stdout",
          "text": [
            "\u001b[K     |████████████████████████████████| 4.2 MB 5.0 MB/s \n",
            "\u001b[K     |████████████████████████████████| 596 kB 51.2 MB/s \n",
            "\u001b[K     |████████████████████████████████| 86 kB 4.4 MB/s \n",
            "\u001b[K     |████████████████████████████████| 6.6 MB 44.3 MB/s \n",
            "\u001b[?25h"
          ]
        },
        {
          "output_type": "stream",
          "name": "stderr",
          "text": [
            "No model was supplied, defaulted to distilbert-base-uncased-finetuned-sst-2-english (https://huggingface.co/distilbert-base-uncased-finetuned-sst-2-english)\n"
          ]
        },
        {
          "output_type": "display_data",
          "data": {
            "text/plain": [
              "Downloading:   0%|          | 0.00/629 [00:00<?, ?B/s]"
            ],
            "application/vnd.jupyter.widget-view+json": {
              "version_major": 2,
              "version_minor": 0,
              "model_id": "b7b2823f24194195a8dde874b9a89c09"
            }
          },
          "metadata": {}
        },
        {
          "output_type": "display_data",
          "data": {
            "text/plain": [
              "Downloading:   0%|          | 0.00/255M [00:00<?, ?B/s]"
            ],
            "application/vnd.jupyter.widget-view+json": {
              "version_major": 2,
              "version_minor": 0,
              "model_id": "4b197c34ee6d4415a250085bb412bba3"
            }
          },
          "metadata": {}
        },
        {
          "output_type": "display_data",
          "data": {
            "text/plain": [
              "Downloading:   0%|          | 0.00/48.0 [00:00<?, ?B/s]"
            ],
            "application/vnd.jupyter.widget-view+json": {
              "version_major": 2,
              "version_minor": 0,
              "model_id": "14a08d0c6a8b4f249a918c2b61a94a18"
            }
          },
          "metadata": {}
        },
        {
          "output_type": "display_data",
          "data": {
            "text/plain": [
              "Downloading:   0%|          | 0.00/226k [00:00<?, ?B/s]"
            ],
            "application/vnd.jupyter.widget-view+json": {
              "version_major": 2,
              "version_minor": 0,
              "model_id": "e141a1df6c85436088cd6a52863686cb"
            }
          },
          "metadata": {}
        },
        {
          "output_type": "execute_result",
          "data": {
            "text/plain": [
              "[{'label': 'NEGATIVE', 'score': 0.9984616041183472}]"
            ]
          },
          "metadata": {},
          "execution_count": 5
        }
      ]
    },
    {
      "cell_type": "code",
      "source": [
        "sentiment_pipeline([df['text_str'][0][:2000]])"
      ],
      "metadata": {
        "colab": {
          "base_uri": "https://localhost:8080/"
        },
        "id": "HNiDqK60NN9y",
        "outputId": "6715beda-38fb-44a4-dd5b-679c9c4907dd"
      },
      "execution_count": null,
      "outputs": [
        {
          "output_type": "execute_result",
          "data": {
            "text/plain": [
              "[{'label': 'NEGATIVE', 'score': 0.998582124710083}]"
            ]
          },
          "metadata": {},
          "execution_count": 15
        }
      ]
    },
    {
      "cell_type": "code",
      "source": [
        "df['text_str'][0][:2000]"
      ],
      "metadata": {
        "colab": {
          "base_uri": "https://localhost:8080/",
          "height": 160
        },
        "id": "quLmSWboHzaj",
        "outputId": "a3c7fbf6-7ac4-475e-caac-3b18d8aa0a5d"
      },
      "execution_count": null,
      "outputs": [
        {
          "output_type": "execute_result",
          "data": {
            "text/plain": [
              "'\\n11:59\\xa0\\xa0\\n\\tI shoot straight out of bed to an ear piercing alarm right outside my door.\\xa0 The walls of this room are a dull white.\\xa0 Every day that passes it seems as though those walls are closing in on me.\\xa0 The bed feels as though I am sleeping on just springs.\\xa0 The only other items in this room are a sink and a toilet.\\xa0 The door, my only release from this hole, is so thick a bullet would not even pierce it.\\xa0 There is a small window in here, which is more just a tease than anything else, showing me green grass for miles.\\xa0 I have had to look at that and this depressing room for nine years, only leaving when I have a visitor.\\xa0 Today though is different, today is the day I die.\\xa0 This place is hell, this place is death row.\\xa0 Every single day of my miserable nine years here, which is exactly 3,287 days, I have looked back at what got me here and thought about my life before I was sent here.\\xa0 Today is no different.\\xa0\\n***\\n\\tI pull into the garage parking lot after a hectic day at the office; I had to arrest two parents for dealing and cooking meth in the same house they were raising their daughter in.\\xa0 Then on top of that I had to put their daughter into the god awful foster system.\\xa0 After this day from hell I just know I am in need of holding my own kid and seeing my wife.\\xa0 I walk up the stairs to our 13th floor apartment.\\xa0 When I get to the door, I don’t hear anything, which is strange since normally Emma, my 8-year-old, has one of her television shows like that annoying Hanna Montana blaring so everybody in the building can hear.\\xa0 I jiggle the key in the door of the apartment, which is in serious need of an update, and push my way in the door.\\xa0 Right about now is when I normally start smelling the lingering scents of fresh-baked herb chicken or barbeque pulled pork that Tara, my wife, has made, but today nothing.\\xa0 Once inside, Tara and Emma are nowhere to be found, but the house looks like a tornado destroyed everything.\\xa0\\xa0\\n\\tI reach for my gun which is still in its holster o'"
            ],
            "application/vnd.google.colaboratory.intrinsic+json": {
              "type": "string"
            }
          },
          "metadata": {},
          "execution_count": 16
        }
      ]
    },
    {
      "cell_type": "markdown",
      "source": [
        "The classification is quite accurate (speaking of 'hell', 'death'...)."
      ],
      "metadata": {
        "id": "Q6dl2lloOy1e"
      }
    },
    {
      "cell_type": "markdown",
      "source": [
        "The inputs to the model cannot excede a certain length. We therefore take the first 1500 characters of the text."
      ],
      "metadata": {
        "id": "zNt6ooAcOgds"
      }
    },
    {
      "cell_type": "code",
      "source": [
        "def sentiment_pipeline_def(row):\n",
        "  try:\n",
        "    row['sentiment_hf_text'] = sentiment_pipeline(row['text_str'][:1500])\n",
        "    return row\n",
        "  except:\n",
        "    print('error: text too long?')\n",
        "\n",
        "def get_label(x):\n",
        "  if x:\n",
        "    return x[0]['label']"
      ],
      "metadata": {
        "id": "JoGVdm9MBb10"
      },
      "execution_count": null,
      "outputs": []
    },
    {
      "cell_type": "code",
      "source": [
        "if 'sentiment_hf_text' not in df.columns:\n",
        "  df = df.progress_apply(sentiment_pipeline_def, axis=1) # df['sentiment_hf_text']\n",
        "  df['sentiment_hf_text'] = df['sentiment_hf_text'].progress_apply(get_label)\n",
        "  df['sentiment_hf_text'] = df['sentiment_hf_text'].map({'NEGATIVE':-1, 'POSITIVE':1, None:0})\n",
        "  df[['sentiment_hf_text']].to_csv('drive/MyDrive/Final Project/sentiment_features/sentiment_hf_text.csv', index=False)"
      ],
      "metadata": {
        "colab": {
          "base_uri": "https://localhost:8080/",
          "height": 85,
          "referenced_widgets": [
            "4ea47c88d9dd428ca393c006f9dd0ef2",
            "c891b7cdd84b46858f5346fa0a2eb7e2",
            "6fc0895a289e4821bbaa222f9c1d1ad1",
            "a76da9ab22ac43a1b167f627e9b95b43",
            "e2294838c0934adc96ad405a696fcae4",
            "c8d0149564b44237a9517d4b1747ce5c",
            "8ec584c508894f64aa2c45ca811328ec",
            "ddfd7f93f2ae445fba2ca9861ac3a3f6",
            "530e916a7ece430c9186ccc66cabf3c7",
            "d840e7be252a4692980af4140183d16d",
            "18e522b1f3ed4178bbfc84e08da82604"
          ]
        },
        "id": "zHQ_kKJIdu6Y",
        "outputId": "f6070139-837b-4eaf-f63a-4c736ea9c55f"
      },
      "execution_count": null,
      "outputs": [
        {
          "output_type": "display_data",
          "data": {
            "text/plain": [
              "  0%|          | 0/18248 [00:00<?, ?it/s]"
            ],
            "application/vnd.jupyter.widget-view+json": {
              "version_major": 2,
              "version_minor": 0,
              "model_id": "4ea47c88d9dd428ca393c006f9dd0ef2"
            }
          },
          "metadata": {}
        },
        {
          "output_type": "stream",
          "name": "stdout",
          "text": [
            "error: text too long?\n",
            "error: text too long?\n"
          ]
        }
      ]
    },
    {
      "cell_type": "markdown",
      "source": [
        "The code ran and the output was extracted."
      ],
      "metadata": {
        "id": "3RDoSRyql9vl"
      }
    },
    {
      "cell_type": "markdown",
      "source": [
        "### EDA"
      ],
      "metadata": {
        "id": "tk0_giSRJTD4"
      }
    },
    {
      "cell_type": "code",
      "source": [
        "import matplotlib.pyplot as plt\n",
        "import pandas as pd"
      ],
      "metadata": {
        "id": "B17RjlozHguk"
      },
      "execution_count": 52,
      "outputs": []
    },
    {
      "cell_type": "code",
      "source": [
        "df = pd.read_csv('drive/MyDrive/Final Project/sentiment_features/sentiment_hf_text.csv')\n",
        "df_target = pd.read_csv(\"drive/MyDrive/Final Project/story_data_new_feats.csv\", usecols=['num_likes'])"
      ],
      "metadata": {
        "id": "81BOJ85mmEnu"
      },
      "execution_count": 57,
      "outputs": []
    },
    {
      "cell_type": "code",
      "source": [
        "df = pd.concat([df, df_target], axis=1, join='inner')"
      ],
      "metadata": {
        "id": "QO-rCQ5ZmlRx"
      },
      "execution_count": 58,
      "outputs": []
    },
    {
      "cell_type": "code",
      "source": [
        "df['sentiment_hf_text'].value_counts().plot(kind = 'bar');\n",
        "plt.title('sentiment_hf_text'+' distribution')\n",
        "plt.xlabel('count')\n",
        "plt.ylabel('sentiment_hf_text');"
      ],
      "metadata": {
        "id": "6nzM1ZSvCycB",
        "colab": {
          "base_uri": "https://localhost:8080/",
          "height": 305
        },
        "outputId": "54bfd563-6772-44f3-a16a-f4ae4890f58d"
      },
      "execution_count": 59,
      "outputs": [
        {
          "output_type": "display_data",
          "data": {
            "text/plain": [
              "<Figure size 432x288 with 1 Axes>"
            ],
            "image/png": "[encoded data removed]"
          },
          "metadata": {
            "needs_background": "light"
          }
        }
      ]
    },
    {
      "cell_type": "code",
      "source": [
        "df.groupby('num_likes')['sentiment_hf_text'].mean().hist(bins=50)"
      ],
      "metadata": {
        "id": "vhE5bJlGVNyS",
        "colab": {
          "base_uri": "https://localhost:8080/",
          "height": 283
        },
        "outputId": "44c69061-067a-418e-b116-9bf28c3a364a"
      },
      "execution_count": 60,
      "outputs": [
        {
          "output_type": "execute_result",
          "data": {
            "text/plain": [
              "<matplotlib.axes._subplots.AxesSubplot at 0x7f2b75033610>"
            ]
          },
          "metadata": {},
          "execution_count": 60
        },
        {
          "output_type": "display_data",
          "data": {
            "text/plain": [
              "<Figure size 432x288 with 1 Axes>"
            ],
            "image/png": "[encoded data removed]"
          },
          "metadata": {
            "needs_background": "light"
          }
        }
      ]
    },
    {
      "cell_type": "markdown",
      "source": [
        "## Per Paragraph without preprocessing"
      ],
      "metadata": {
        "id": "HHz6777Wo0iE"
      }
    },
    {
      "cell_type": "markdown",
      "source": [
        "The right way to go is to take the whole text, do a sentiment analysis paragraph by paragraph, and take the mean of the sentiment score.\n",
        "\n",
        "We use the features text_str and paragraphs."
      ],
      "metadata": {
        "id": "vpI8shQ6ljQh"
      }
    },
    {
      "cell_type": "code",
      "source": [
        "df['paragraphs'] = df['text_str'].str.split('\\n')"
      ],
      "metadata": {
        "id": "drCtQ6p2o4UM"
      },
      "execution_count": null,
      "outputs": []
    },
    {
      "cell_type": "markdown",
      "source": [
        "### NLTK"
      ],
      "metadata": {
        "id": "dEUw7wyvplWt"
      }
    },
    {
      "cell_type": "code",
      "source": [
        "import numpy as np\n",
        "def sentiment_noprepro(row):\n",
        "  sent = []\n",
        "  try:\n",
        "    for x in row['paragraphs']:\n",
        "      try:\n",
        "        sent.append(sia.polarity_scores(x)['compound'])\n",
        "      except:\n",
        "        pass\n",
        "    row['sentiment_parag_nltk_no_prepro'] = np.mean(sent)\n",
        "  except:\n",
        "    print('error')\n",
        "  return row"
      ],
      "metadata": {
        "id": "EuLKjLQ-pYH0"
      },
      "execution_count": null,
      "outputs": []
    },
    {
      "cell_type": "code",
      "source": [
        "if 'sentiment_parag_nltk_no_prepro' not in df.columns:\n",
        "  df = df.progress_apply(sentiment_noprepro, axis=1) #df['sentiment_parag_nltk_no_prepro']\n",
        "  df[['sentiment_parag_nltk_no_prepro']].to_csv('drive/MyDrive/Final Project/sentiment_features/sentiment_parag_nltk_no_prepro.csv', index=False)"
      ],
      "metadata": {
        "id": "ClIFcv3dpet9"
      },
      "execution_count": null,
      "outputs": []
    },
    {
      "cell_type": "markdown",
      "source": [
        "####EDA"
      ],
      "metadata": {
        "id": "bmG7ZmIvpoVl"
      }
    },
    {
      "cell_type": "code",
      "source": [
        "import pandas as pd\n",
        "import matplotlib.pyplot as plt\n",
        "import numpy as np"
      ],
      "metadata": {
        "id": "osOqX_bWnSbT"
      },
      "execution_count": 66,
      "outputs": []
    },
    {
      "cell_type": "code",
      "source": [
        "df = pd.read_csv('drive/MyDrive/Final Project/sentiment_features/sentiment_parag_nltk_no_prepro.csv')\n",
        "df_target = pd.read_csv(\"drive/MyDrive/Final Project/story_data_new_feats.csv\", usecols=['num_likes'])\n",
        "df = pd.concat([df, df_target], axis=1, join='inner')"
      ],
      "metadata": {
        "id": "JtqkykManA7z"
      },
      "execution_count": 64,
      "outputs": []
    },
    {
      "cell_type": "code",
      "source": [
        "plt.scatter((df.sentiment_parag_nltk_no_prepro-np.mean(df.sentiment_parag_nltk_no_prepro))/np.std(df.sentiment_parag_nltk_no_prepro), (df.num_likes-np.mean(df.num_likes))/np.std(df.num_likes))\n",
        "plt.title(\"Target vs. sentiment_parag_nltk_no_prepro after normalization\")"
      ],
      "metadata": {
        "id": "Sdoyz-3Mpo-u",
        "colab": {
          "base_uri": "https://localhost:8080/",
          "height": 299
        },
        "outputId": "ba89a6bf-da05-495d-f1f8-b1475aae14bb"
      },
      "execution_count": 68,
      "outputs": [
        {
          "output_type": "execute_result",
          "data": {
            "text/plain": [
              "Text(0.5, 1.0, 'Target vs. sentiment_parag_nltk_no_prepro after normalization')"
            ]
          },
          "metadata": {},
          "execution_count": 68
        },
        {
          "output_type": "display_data",
          "data": {
            "text/plain": [
              "<Figure size 432x288 with 1 Axes>"
            ],
            "image/png": "[encoded data removed]"
          },
          "metadata": {
            "needs_background": "light"
          }
        }
      ]
    },
    {
      "cell_type": "code",
      "source": [
        "polarity_avg = df.groupby('num_likes')['sentiment_parag_nltk_no_prepro'].mean().plot(kind='bar', figsize=(50,30))\n",
        "plt.xlabel('num_likes', fontsize=45)\n",
        "plt.ylabel('Average Sentiment', fontsize=45)\n",
        "plt.xticks(fontsize=40)\n",
        "plt.yticks(fontsize=40)\n",
        "plt.title('Average Sentiment per num_likes ', fontsize=50)\n",
        "plt.show()\n"
      ],
      "metadata": {
        "id": "VCXgZeSzrQUj",
        "colab": {
          "base_uri": "https://localhost:8080/",
          "height": 748
        },
        "outputId": "01c89c47-42bb-488b-fc3e-e8cf060c6202"
      },
      "execution_count": 69,
      "outputs": [
        {
          "output_type": "display_data",
          "data": {
            "text/plain": [
              "<Figure size 3600x2160 with 1 Axes>"
            ],
            "image/png": "[encoded data removed]"
          },
          "metadata": {
            "needs_background": "light"
          }
        }
      ]
    },
    {
      "cell_type": "markdown",
      "source": [
        "### hugging face"
      ],
      "metadata": {
        "id": "s7B12mMjppWb"
      }
    },
    {
      "cell_type": "code",
      "source": [
        "def sentiment_pipeline_def_noprepro(row):\n",
        "  sent = []\n",
        "  try:\n",
        "    for para in row['paragraphs']:\n",
        "      try:\n",
        "        sent.append(sentiment_pipeline(para[:1500])[0]['label'])\n",
        "      except:\n",
        "        pass\n",
        "    for label in set(sent):\n",
        "      row['sentiment_' + label + '_no_prepro'] = sent.count(label)/len(row['paragraphs'])\n",
        "    return row\n",
        "  except:\n",
        "    print('error: text too long?')\n",
        "\n",
        "def get_label(x):\n",
        "  if x:\n",
        "    return x[0]['label']"
      ],
      "metadata": {
        "id": "ylqltu9d09-N"
      },
      "execution_count": null,
      "outputs": []
    },
    {
      "cell_type": "code",
      "source": [
        "splits = 80\n",
        "chunk_size = int(df.shape[0] / splits-1)\n",
        "df_subset = dict()\n",
        "for start in range(0, df.shape[0], chunk_size):\n",
        "    df_subset[start] = df.iloc[start:start + chunk_size]\n",
        "fract = list(df_subset.keys())\n",
        "for i,j in zip(range(1, len(fract)+1), fract):\n",
        "  df_subset[i] = df_subset.pop(j)"
      ],
      "metadata": {
        "id": "wlga_uw23vx3"
      },
      "execution_count": null,
      "outputs": []
    },
    {
      "cell_type": "code",
      "source": [
        "# each sentence\n",
        "for i in tqdm(range(1, 82)):\n",
        "  # apply function\n",
        "  \n",
        "  df_subset__ = df_subset[i].progress_apply(sentiment_pipeline_def_noprepro, axis=1) # df['sentiment_POSITIVE_no_prepro'] df['sentiment_NEGATIVE_no_prepro']\n",
        "    \n",
        "  # save csv\n",
        "  df_subset__[['sentiment_POSITIVE_no_prepro', 'sentiment_NEGATIVE_no_prepro']].to_csv(f'drive/MyDrive/Final Project/sentiment_features/hf_noprepro/sentiment_hf_parag_no_prepro_subset_{i}.csv', index=False)"
      ],
      "metadata": {
        "id": "EW17e9fK305Y"
      },
      "execution_count": 6,
      "outputs": []
    },
    {
      "cell_type": "markdown",
      "source": [
        "Merge the files"
      ],
      "metadata": {
        "id": "-mZyVX3eCESg"
      }
    },
    {
      "cell_type": "code",
      "source": [
        "df_to_merge = pd.read_csv(\"drive/MyDrive/Final Project/sentiment_features/hf_noprepro/sentiment_hf_parag_no_prepro_subset_1.csv\")\n",
        "for i in tqdm(range(2, 82)):\n",
        "  to_add = pd.read_csv(f\"drive/MyDrive/Final Project/sentiment_features/hf_noprepro/sentiment_hf_parag_no_prepro_subset_{i}.csv\")\n",
        "  df_to_merge = pd.concat([df_to_merge, to_add], axis=0)"
      ],
      "metadata": {
        "colab": {
          "base_uri": "https://localhost:8080/",
          "height": 49,
          "referenced_widgets": [
            "ebee57abdc9f4785b6957e0714baf809",
            "9f34dba1558c4bdc91b72d468a607b3a",
            "aa8c2c5fd5f344bb95e034db0101607f",
            "6d528dab49d74db0b26be113c4738bef",
            "9f20de93d45149bdb71e50bafc1d4a81",
            "00650aee64bd447c878cb641dde458bd",
            "92f3bd94e33245f0846c5ff87ca7ca36",
            "66f7e5768c424774ba479f8228438326",
            "2ce2f321b5b34ee7a098782e03133d1f",
            "a53267440b3445579da52f652535a752",
            "bb559dfd1a814b63b6fe603d30416130"
          ]
        },
        "id": "fnPq10_WBqp6",
        "outputId": "4e238445-444e-4575-b3ad-7946586ae451"
      },
      "execution_count": 28,
      "outputs": [
        {
          "output_type": "display_data",
          "data": {
            "text/plain": [
              "  0%|          | 0/80 [00:00<?, ?it/s]"
            ],
            "application/vnd.jupyter.widget-view+json": {
              "version_major": 2,
              "version_minor": 0,
              "model_id": "ebee57abdc9f4785b6957e0714baf809"
            }
          },
          "metadata": {}
        }
      ]
    },
    {
      "cell_type": "code",
      "source": [
        "df_to_merge.to_csv(f'drive/MyDrive/Final Project/sentiment_features/sentiment_hf_parag_no_prepro.csv', index=False)"
      ],
      "metadata": {
        "id": "dJt24Y4jdn-c"
      },
      "execution_count": 37,
      "outputs": []
    },
    {
      "cell_type": "markdown",
      "source": [
        "####EDA"
      ],
      "metadata": {
        "id": "5YJ5VIPtCHFa"
      }
    },
    {
      "cell_type": "code",
      "source": [
        "import matplotlib.pyplot as plt\n",
        "import pandas as pd"
      ],
      "metadata": {
        "id": "VvQ7crkBCHyt"
      },
      "execution_count": 73,
      "outputs": []
    },
    {
      "cell_type": "code",
      "source": [
        "df = pd.read_csv('drive/MyDrive/Final Project/sentiment_features/sentiment_hf_parag_no_prepro.csv')\n",
        "df_target = pd.read_csv(\"drive/MyDrive/Final Project/story_data_new_feats.csv\", usecols=['num_likes'])\n",
        "df = pd.concat([df, df_target], axis=1, join='inner')"
      ],
      "metadata": {
        "id": "05wduMkboAys"
      },
      "execution_count": 74,
      "outputs": []
    },
    {
      "cell_type": "code",
      "source": [
        "sent = ['sentiment_POSITIVE_no_prepro', 'sentiment_NEGATIVE_no_prepro']\n",
        "\n",
        "for c in sent:\n",
        "  df[c].hist()\n",
        "  plt.title(f'Distribution of {c}')\n",
        "  plt.show()"
      ],
      "metadata": {
        "colab": {
          "base_uri": "https://localhost:8080/",
          "height": 545
        },
        "id": "oMvHT2SIokVY",
        "outputId": "0259a732-b2f8-4aae-ea66-f470de7e64f1"
      },
      "execution_count": 81,
      "outputs": [
        {
          "output_type": "display_data",
          "data": {
            "text/plain": [
              "<Figure size 432x288 with 1 Axes>"
            ],
            "image/png": "[encoded data removed]"
          },
          "metadata": {
            "needs_background": "light"
          }
        },
        {
          "output_type": "display_data",
          "data": {
            "text/plain": [
              "<Figure size 432x288 with 1 Axes>"
            ],
            "image/png": "[encoded data removed]"
          },
          "metadata": {
            "needs_background": "light"
          }
        }
      ]
    },
    {
      "cell_type": "code",
      "source": [
        "for c in sent:\n",
        "  cor_ = df[c].corr(df['num_likes'])\n",
        "  plt.scatter(df[c], df.num_likes)\n",
        "  plt.title(f'{c} vs. target (num_likes), coef={cor_:.3f}')\n",
        "  plt.show()"
      ],
      "metadata": {
        "colab": {
          "base_uri": "https://localhost:8080/",
          "height": 545
        },
        "id": "SHvrUVw8o0Tg",
        "outputId": "bf28b998-fffd-4098-aa28-d7b158d7294b"
      },
      "execution_count": 83,
      "outputs": [
        {
          "output_type": "display_data",
          "data": {
            "text/plain": [
              "<Figure size 432x288 with 1 Axes>"
            ],
            "image/png": "[encoded data removed]"
          },
          "metadata": {
            "needs_background": "light"
          }
        },
        {
          "output_type": "display_data",
          "data": {
            "text/plain": [
              "<Figure size 432x288 with 1 Axes>"
            ],
            "image/png": "[encoded data removed]"
          },
          "metadata": {
            "needs_background": "light"
          }
        }
      ]
    },
    {
      "cell_type": "markdown",
      "source": [
        "There is actually two correlations, each in a different direction. Interesting!"
      ],
      "metadata": {
        "id": "hjieYRdXpLP9"
      }
    },
    {
      "cell_type": "markdown",
      "source": [
        "## Per paragraph lemmatization"
      ],
      "metadata": {
        "id": "uZREkoLBzP4g"
      }
    },
    {
      "cell_type": "markdown",
      "source": [
        "Per paragraph after lemmatization. -- If we have time."
      ],
      "metadata": {
        "id": "b9HMUoyI8Pvk"
      }
    },
    {
      "cell_type": "markdown",
      "source": [
        "### with nltk"
      ],
      "metadata": {
        "id": "MnM_qaF1EDw3"
      }
    },
    {
      "cell_type": "code",
      "source": [
        "import numpy as np\n",
        "def sentiment(row):\n",
        "  sent = []\n",
        "  for x in row['lemmatized_parag']:\n",
        "    sent.append(sia.polarity_scores(x)['compound'])\n",
        "  row['sentiment_parag_nltk'] = np.mean(sent)\n",
        "  return row"
      ],
      "metadata": {
        "id": "VX4avBAmzT3L"
      },
      "execution_count": null,
      "outputs": []
    },
    {
      "cell_type": "code",
      "source": [
        "if 'sentiment_parag_nltk' not in df.columns:\n",
        "  df = df.progress_apply(sentiment, axis=1) #df['sentiment_parag_nltk']\n",
        "  df[['sentiment_parag_nltk']].to_csv('drive/MyDrive/Final Project/sentiment_features/sentiment_parag_nltk.csv', index=False)"
      ],
      "metadata": {
        "id": "os3-P_qADOEO"
      },
      "execution_count": null,
      "outputs": []
    },
    {
      "cell_type": "markdown",
      "source": [
        "### EDA"
      ],
      "metadata": {
        "id": "aA18wwMtDPPM"
      }
    },
    {
      "cell_type": "code",
      "source": [
        "plt.scatter((df.sentiment-np.mean(df.sentiment))/np.std(df.sentiment), (df.num_likes-np.mean(df.num_likes))/np.std(df.num_likes))"
      ],
      "metadata": {
        "id": "m9g4FJvlzVU7"
      },
      "execution_count": null,
      "outputs": []
    },
    {
      "cell_type": "code",
      "source": [
        "polarity_avg = df.groupby('num_likes')['sentiment'].mean().plot(kind='bar', figsize=(50,30))\n",
        "plt.xlabel('num_likes', fontsize=45)\n",
        "plt.ylabel('Average Sentiment', fontsize=45)\n",
        "plt.xticks(fontsize=40)\n",
        "plt.yticks(fontsize=40)\n",
        "plt.title('Average Sentiment per num_likes ', fontsize=50)\n",
        "plt.show()\n"
      ],
      "metadata": {
        "id": "ITh_dNU3zWiR"
      },
      "execution_count": null,
      "outputs": []
    },
    {
      "cell_type": "code",
      "source": [
        "df[df[target]<100][target].hist()"
      ],
      "metadata": {
        "id": "nPO65wYdzYEc"
      },
      "execution_count": null,
      "outputs": []
    },
    {
      "cell_type": "code",
      "source": [
        "threshold = 20\n",
        "df.loc[df[target]>threshold, 'target_bin'] = 1\n",
        "df.loc[df[target]<threshold, 'target_bin'] = 0"
      ],
      "metadata": {
        "id": "SkruzMJszaB-"
      },
      "execution_count": null,
      "outputs": []
    },
    {
      "cell_type": "code",
      "source": [
        "polarity_avg = df.groupby('num_likes')['sentiment'].mean().plot(kind='bar')\n",
        "plt.xlabel('num_likes')\n",
        "plt.ylabel('Average Sentiment')\n",
        "plt.xticks()\n",
        "plt.yticks()\n",
        "plt.title('Average Sentiment per num_likes ')\n",
        "plt.show()\n"
      ],
      "metadata": {
        "id": "QBaOxan9zbEX"
      },
      "execution_count": null,
      "outputs": []
    },
    {
      "cell_type": "markdown",
      "source": [
        "### With hugging face transformer"
      ],
      "metadata": {
        "id": "3U-7S6I6EGbv"
      }
    },
    {
      "cell_type": "code",
      "source": [
        "def sentiment_pipeline_def(row):\n",
        "  sent = []\n",
        "  try:\n",
        "    for para in row['lemmatized_parag']:\n",
        "      try:\n",
        "        sent.append(sentiment_pipeline(para[:1500])[0]['label'])\n",
        "      except:\n",
        "        pass\n",
        "    for label in set(sent):\n",
        "      row['sentiment_' + label] = sent.count(label)/len(row['lemmatized_parag'])\n",
        "    return row\n",
        "  except:\n",
        "    print('error: text too long?')"
      ],
      "metadata": {
        "id": "MvmmCiiT7Fwp"
      },
      "execution_count": null,
      "outputs": []
    },
    {
      "cell_type": "code",
      "source": [
        "splits = 80\n",
        "chunk_size = int(df.shape[0] / splits-1)\n",
        "df_subset = dict()\n",
        "for start in range(0, df.shape[0], chunk_size):\n",
        "    df_subset[start] = df.iloc[start:start + chunk_size]\n",
        "fract = list(df_subset.keys())\n",
        "for i,j in zip(range(1, len(fract)+1), fract):\n",
        "  df_subset[i] = df_subset.pop(j)"
      ],
      "metadata": {
        "id": "JAqjRaCN7lnM"
      },
      "execution_count": null,
      "outputs": []
    },
    {
      "cell_type": "code",
      "source": [
        "# each sentence\n",
        "for i in tqdm(range(1, 80)):\n",
        "  # apply function\n",
        "  \n",
        "  df_subset__ = df_subset[i].progress_apply(sentiment_pipeline_def, axis=1) # df['sentiment_POSITIVE'] df['sentiment_NEGATIVE']\n",
        "    \n",
        "  # save csv\n",
        "  df_subset__[['sentiment_POSITIVE', 'sentiment_NEGATIVE']].to_csv(f'drive/MyDrive/Final Project/sentiment_features/hf_noprepro/sentiment_hf_parag_no_prepro_subset_{i}.csv', index=False)"
      ],
      "metadata": {
        "id": "2VyEGd3b7dRl"
      },
      "execution_count": null,
      "outputs": []
    },
    {
      "cell_type": "code",
      "source": [
        "df['sentiment_hf_parag'] = df['words_in_str'].map(lambda x: sentiment_pipeline(x)['label'], batched=True)"
      ],
      "metadata": {
        "id": "f80EXS12EIws"
      },
      "execution_count": null,
      "outputs": []
    },
    {
      "cell_type": "markdown",
      "source": [
        "### EDA"
      ],
      "metadata": {
        "id": "0gKR9TJVN2Fu"
      }
    },
    {
      "cell_type": "code",
      "source": [
        "df['sentiment_hf_parag'].value_counts().plot(kind = 'barh');\n",
        "plt.title('sentiment_hf_parag'+' distribution')\n",
        "plt.xlabel('count')\n",
        "plt.ylabel('sentiment_hf_parag');"
      ],
      "metadata": {
        "id": "kR3jPmMqENnH"
      },
      "execution_count": null,
      "outputs": []
    },
    {
      "cell_type": "markdown",
      "source": [
        "# END"
      ],
      "metadata": {
        "id": "DskCb1zRlTNN"
      }
    }
  ]
}